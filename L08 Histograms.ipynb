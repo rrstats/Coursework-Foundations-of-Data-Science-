{
 "cells": [
  {
   "cell_type": "code",
   "execution_count": 24,
   "id": "d4517535",
   "metadata": {},
   "outputs": [],
   "source": [
    "from datascience import*\n",
    "import numpy as np\n",
    "\n",
    "import warnings\n",
    "warnings.filterwarnings('ignore')\n",
    "\n",
    "%matplotlib inline\n",
    "import matplotlib.pyplot as plots\n",
    "plots.style.use('fivethirtyeight')\n",
    "plots.rcParams['patch.force_edgecolor'] = True"
   ]
  },
  {
   "cell_type": "code",
   "execution_count": 25,
   "id": "77b3e09d",
   "metadata": {},
   "outputs": [],
   "source": [
    "#HISTOGRAMS\n",
    "#ALL NUMBERS MUST ADD UP TO A 100\n",
    "#FOR EACH VALUE OF X, THERE EXISTS ONLY ONE VALUE OF Y"
   ]
  },
  {
   "cell_type": "markdown",
   "id": "d3bb9a47",
   "metadata": {},
   "source": [
    "# Categorical Distribution"
   ]
  },
  {
   "cell_type": "code",
   "execution_count": 26,
   "id": "ece7e972",
   "metadata": {},
   "outputs": [
    {
     "data": {
      "text/html": [
       "<table border=\"1\" class=\"dataframe\">\n",
       "    <thead>\n",
       "        <tr>\n",
       "            <th>How confident</th> <th>Percent</th>\n",
       "        </tr>\n",
       "    </thead>\n",
       "    <tbody>\n",
       "        <tr>\n",
       "            <td>Not too / not at all</td> <td>16     </td>\n",
       "        </tr>\n",
       "        <tr>\n",
       "            <td>Somewhat            </td> <td>45     </td>\n",
       "        </tr>\n",
       "        <tr>\n",
       "            <td>Very                </td> <td>39     </td>\n",
       "        </tr>\n",
       "    </tbody>\n",
       "</table>"
      ],
      "text/plain": [
       "How confident        | Percent\n",
       "Not too / not at all | 16\n",
       "Somewhat             | 45\n",
       "Very                 | 39"
      ]
     },
     "execution_count": 26,
     "metadata": {},
     "output_type": "execute_result"
    }
   ],
   "source": [
    "parent_responses = Table().with_columns(\n",
    "    \n",
    "    'How confident', make_array('Not too / not at all', 'Somewhat', 'Very'),\n",
    "    'Percent', make_array(16, 45, 39)\n",
    ")\n",
    "parent_responses"
   ]
  },
  {
   "cell_type": "code",
   "execution_count": 27,
   "id": "32aee9d3",
   "metadata": {},
   "outputs": [
    {
     "data": {
      "text/plain": [
       "100"
      ]
     },
     "execution_count": 27,
     "metadata": {},
     "output_type": "execute_result"
    }
   ],
   "source": [
    "sum(parent_responses.column('Percent'))"
   ]
  },
  {
   "cell_type": "code",
   "execution_count": 28,
   "id": "ec1aa770",
   "metadata": {},
   "outputs": [],
   "source": [
    "#Notice that in the block below,\n",
    "#only the categorical variable has been passed. \n",
    "#It automatically tries to create a bar chart with one of the numerical values"
   ]
  },
  {
   "cell_type": "code",
   "execution_count": 37,
   "id": "fdcaa77a",
   "metadata": {},
   "outputs": [
    {
     "data": {
      "image/png": "[encoded data removed]",
      "text/plain": [
       "<Figure size 432x288 with 1 Axes>"
      ]
     },
     "metadata": {},
     "output_type": "display_data"
    }
   ],
   "source": [
    "parent_responses.barh('How confident')"
   ]
  },
  {
   "cell_type": "markdown",
   "id": "a1f311a3",
   "metadata": {},
   "source": [
    "## Categorigal Distribution: Finding the Counts"
   ]
  },
  {
   "cell_type": "code",
   "execution_count": 46,
   "id": "127ff093",
   "metadata": {},
   "outputs": [
    {
     "data": {
      "text/html": [
       "<table border=\"1\" class=\"dataframe\">\n",
       "    <thead>\n",
       "        <tr>\n",
       "            <th>Title</th> <th>Studio</th> <th>Gross</th> <th>Gross (Adjusted)</th> <th>Year</th>\n",
       "        </tr>\n",
       "    </thead>\n",
       "    <tbody>\n",
       "        <tr>\n",
       "            <td>Gone with the Wind              </td> <td>MGM            </td> <td>198676459</td> <td>1796176700      </td> <td>1939</td>\n",
       "        </tr>\n",
       "        <tr>\n",
       "            <td>Star Wars                       </td> <td>Fox            </td> <td>460998007</td> <td>1583483200      </td> <td>1977</td>\n",
       "        </tr>\n",
       "        <tr>\n",
       "            <td>The Sound of Music              </td> <td>Fox            </td> <td>158671368</td> <td>1266072700      </td> <td>1965</td>\n",
       "        </tr>\n",
       "        <tr>\n",
       "            <td>E.T.: The Extra-Terrestrial     </td> <td>Universal      </td> <td>435110554</td> <td>1261085000      </td> <td>1982</td>\n",
       "        </tr>\n",
       "        <tr>\n",
       "            <td>Titanic                         </td> <td>Paramount      </td> <td>658672302</td> <td>1204368000      </td> <td>1997</td>\n",
       "        </tr>\n",
       "        <tr>\n",
       "            <td>The Ten Commandments            </td> <td>Paramount      </td> <td>65500000 </td> <td>1164590000      </td> <td>1956</td>\n",
       "        </tr>\n",
       "        <tr>\n",
       "            <td>Jaws                            </td> <td>Universal      </td> <td>260000000</td> <td>1138620700      </td> <td>1975</td>\n",
       "        </tr>\n",
       "        <tr>\n",
       "            <td>Doctor Zhivago                  </td> <td>MGM            </td> <td>111721910</td> <td>1103564200      </td> <td>1965</td>\n",
       "        </tr>\n",
       "        <tr>\n",
       "            <td>The Exorcist                    </td> <td>Warner Brothers</td> <td>232906145</td> <td>983226600       </td> <td>1973</td>\n",
       "        </tr>\n",
       "        <tr>\n",
       "            <td>Snow White and the Seven Dwarves</td> <td>Disney         </td> <td>184925486</td> <td>969010000       </td> <td>1937</td>\n",
       "        </tr>\n",
       "    </tbody>\n",
       "</table>\n",
       "<p>... (190 rows omitted)</p>"
      ],
      "text/plain": [
       "Title                            | Studio          | Gross     | Gross (Adjusted) | Year\n",
       "Gone with the Wind               | MGM             | 198676459 | 1796176700       | 1939\n",
       "Star Wars                        | Fox             | 460998007 | 1583483200       | 1977\n",
       "The Sound of Music               | Fox             | 158671368 | 1266072700       | 1965\n",
       "E.T.: The Extra-Terrestrial      | Universal       | 435110554 | 1261085000       | 1982\n",
       "Titanic                          | Paramount       | 658672302 | 1204368000       | 1997\n",
       "The Ten Commandments             | Paramount       | 65500000  | 1164590000       | 1956\n",
       "Jaws                             | Universal       | 260000000 | 1138620700       | 1975\n",
       "Doctor Zhivago                   | MGM             | 111721910 | 1103564200       | 1965\n",
       "The Exorcist                     | Warner Brothers | 232906145 | 983226600        | 1973\n",
       "Snow White and the Seven Dwarves | Disney          | 184925486 | 969010000        | 1937\n",
       "... (190 rows omitted)"
      ]
     },
     "execution_count": 46,
     "metadata": {},
     "output_type": "execute_result"
    }
   ],
   "source": [
    "age = []\n",
    "top_movies = Table.read_table('movies.csv')\n",
    "\n",
    "\n",
    "   \n",
    "\n",
    "top_movies\n",
    "\n"
   ]
  },
  {
   "cell_type": "code",
   "execution_count": 38,
   "id": "d26f8073",
   "metadata": {},
   "outputs": [
    {
     "data": {
      "text/html": [
       "<table border=\"1\" class=\"dataframe\">\n",
       "    <thead>\n",
       "        <tr>\n",
       "            <th>Studio</th>\n",
       "        </tr>\n",
       "    </thead>\n",
       "    <tbody>\n",
       "        <tr>\n",
       "            <td>MGM      </td>\n",
       "        </tr>\n",
       "        <tr>\n",
       "            <td>Fox      </td>\n",
       "        </tr>\n",
       "        <tr>\n",
       "            <td>Fox      </td>\n",
       "        </tr>\n",
       "        <tr>\n",
       "            <td>Universal</td>\n",
       "        </tr>\n",
       "    </tbody>\n",
       "</table>\n",
       "<p>... (196 rows omitted)</p>"
      ],
      "text/plain": [
       "<IPython.core.display.HTML object>"
      ]
     },
     "metadata": {},
     "output_type": "display_data"
    }
   ],
   "source": [
    "studio = top_movies.select('Studio')\n",
    "studios.show(4)"
   ]
  },
  {
   "cell_type": "code",
   "execution_count": 32,
   "id": "8598adc2",
   "metadata": {},
   "outputs": [],
   "source": [
    "#Group takes the original table,\n",
    "#groups the rows of that according to the value of the variable\n",
    "#and simply counts the rows"
   ]
  },
  {
   "cell_type": "code",
   "execution_count": 39,
   "id": "5e12020b",
   "metadata": {},
   "outputs": [
    {
     "data": {
      "text/html": [
       "<table border=\"1\" class=\"dataframe\">\n",
       "    <thead>\n",
       "        <tr>\n",
       "            <th>Studio</th> <th>count</th>\n",
       "        </tr>\n",
       "    </thead>\n",
       "    <tbody>\n",
       "        <tr>\n",
       "            <td> Doc?                      </td> <td>1    </td>\n",
       "        </tr>\n",
       "        <tr>\n",
       "            <td> Inc.                      </td> <td>1    </td>\n",
       "        </tr>\n",
       "        <tr>\n",
       "            <td> Mad                       </td> <td>1    </td>\n",
       "        </tr>\n",
       "        <tr>\n",
       "            <td> the Witch and the Wardrobe</td> <td>1    </td>\n",
       "        </tr>\n",
       "        <tr>\n",
       "            <td>AVCO                       </td> <td>1    </td>\n",
       "        </tr>\n",
       "        <tr>\n",
       "            <td>Buena Vista                </td> <td>33   </td>\n",
       "        </tr>\n",
       "        <tr>\n",
       "            <td>Columbia                   </td> <td>9    </td>\n",
       "        </tr>\n",
       "        <tr>\n",
       "            <td>Disney                     </td> <td>11   </td>\n",
       "        </tr>\n",
       "        <tr>\n",
       "            <td>Dreamworks                 </td> <td>3    </td>\n",
       "        </tr>\n",
       "        <tr>\n",
       "            <td>Fox                        </td> <td>24   </td>\n",
       "        </tr>\n",
       "    </tbody>\n",
       "</table>\n",
       "<p>... (17 rows omitted)</p>"
      ],
      "text/plain": [
       "Studio                      | count\n",
       " Doc?                       | 1\n",
       " Inc.                       | 1\n",
       " Mad                        | 1\n",
       " the Witch and the Wardrobe | 1\n",
       "AVCO                        | 1\n",
       "Buena Vista                 | 33\n",
       "Columbia                    | 9\n",
       "Disney                      | 11\n",
       "Dreamworks                  | 3\n",
       "Fox                         | 24\n",
       "... (17 rows omitted)"
      ]
     },
     "execution_count": 39,
     "metadata": {},
     "output_type": "execute_result"
    }
   ],
   "source": [
    "studio_distribution = studio.group('Studio')\n",
    "studio_distribution"
   ]
  },
  {
   "cell_type": "code",
   "execution_count": 40,
   "id": "e6bbb976",
   "metadata": {},
   "outputs": [
    {
     "data": {
      "text/plain": [
       "200"
      ]
     },
     "execution_count": 40,
     "metadata": {},
     "output_type": "execute_result"
    }
   ],
   "source": [
    "sum(studio_distribution.column('count'))"
   ]
  },
  {
   "cell_type": "code",
   "execution_count": 41,
   "id": "86ff7a9b",
   "metadata": {},
   "outputs": [
    {
     "data": {
      "image/png": "[encoded data removed]",
      "text/plain": [
       "<Figure size 432x972 with 1 Axes>"
      ]
     },
     "metadata": {},
     "output_type": "display_data"
    }
   ],
   "source": [
    "studio_distribution.barh('Studio')\n",
    "\n",
    "#.group() also puts it in alphabetical order"
   ]
  },
  {
   "cell_type": "code",
   "execution_count": null,
   "id": "177f63d9",
   "metadata": {},
   "outputs": [],
   "source": [
    "#After sorting, it becomes much easier to visualize"
   ]
  },
  {
   "cell_type": "code",
   "execution_count": 42,
   "id": "9fec4be4",
   "metadata": {},
   "outputs": [
    {
     "data": {
      "image/png": "[encoded data removed]",
      "text/plain": [
       "<Figure size 432x972 with 1 Axes>"
      ]
     },
     "metadata": {},
     "output_type": "display_data"
    }
   ],
   "source": [
    "studio_distribution.sort('count', descending=True).barh('Studio')"
   ]
  },
  {
   "cell_type": "code",
   "execution_count": null,
   "id": "e2324445",
   "metadata": {},
   "outputs": [],
   "source": []
  },
  {
   "cell_type": "markdown",
   "id": "ddefcace",
   "metadata": {},
   "source": [
    "## Distributions of Quantitative Variables"
   ]
  },
  {
   "cell_type": "code",
   "execution_count": 43,
   "id": "c72d4f30",
   "metadata": {},
   "outputs": [],
   "source": [
    "#Time, length, ages \n",
    "#Such quantitative variables do not have a predefined grouping like in the case \n",
    "#above"
   ]
  },
  {
   "cell_type": "code",
   "execution_count": 44,
   "id": "703661e2",
   "metadata": {},
   "outputs": [],
   "source": [
    "#====BINNING====\n",
    "#Counting the number of numerical variables that lie within ranges, called bins\n",
    "#Defined by their lower bounds\n",
    "#Upper bound is the lower bound of the next bin"
   ]
  },
  {
   "cell_type": "code",
   "execution_count": 50,
   "id": "f7aa771a",
   "metadata": {},
   "outputs": [
    {
     "data": {
      "text/html": [
       "<table border=\"1\" class=\"dataframe\">\n",
       "    <thead>\n",
       "        <tr>\n",
       "            <th>Title</th> <th>Studio</th> <th>Gross</th> <th>Gross (Adjusted)</th> <th>Year</th> <th>Age</th>\n",
       "        </tr>\n",
       "    </thead>\n",
       "    <tbody>\n",
       "        <tr>\n",
       "            <td>Gone with the Wind              </td> <td>MGM            </td> <td>198676459</td> <td>1796176700      </td> <td>1939</td> <td>82  </td>\n",
       "        </tr>\n",
       "        <tr>\n",
       "            <td>Star Wars                       </td> <td>Fox            </td> <td>460998007</td> <td>1583483200      </td> <td>1977</td> <td>44  </td>\n",
       "        </tr>\n",
       "        <tr>\n",
       "            <td>The Sound of Music              </td> <td>Fox            </td> <td>158671368</td> <td>1266072700      </td> <td>1965</td> <td>56  </td>\n",
       "        </tr>\n",
       "        <tr>\n",
       "            <td>E.T.: The Extra-Terrestrial     </td> <td>Universal      </td> <td>435110554</td> <td>1261085000      </td> <td>1982</td> <td>39  </td>\n",
       "        </tr>\n",
       "        <tr>\n",
       "            <td>Titanic                         </td> <td>Paramount      </td> <td>658672302</td> <td>1204368000      </td> <td>1997</td> <td>24  </td>\n",
       "        </tr>\n",
       "        <tr>\n",
       "            <td>The Ten Commandments            </td> <td>Paramount      </td> <td>65500000 </td> <td>1164590000      </td> <td>1956</td> <td>65  </td>\n",
       "        </tr>\n",
       "        <tr>\n",
       "            <td>Jaws                            </td> <td>Universal      </td> <td>260000000</td> <td>1138620700      </td> <td>1975</td> <td>46  </td>\n",
       "        </tr>\n",
       "        <tr>\n",
       "            <td>Doctor Zhivago                  </td> <td>MGM            </td> <td>111721910</td> <td>1103564200      </td> <td>1965</td> <td>56  </td>\n",
       "        </tr>\n",
       "        <tr>\n",
       "            <td>The Exorcist                    </td> <td>Warner Brothers</td> <td>232906145</td> <td>983226600       </td> <td>1973</td> <td>48  </td>\n",
       "        </tr>\n",
       "        <tr>\n",
       "            <td>Snow White and the Seven Dwarves</td> <td>Disney         </td> <td>184925486</td> <td>969010000       </td> <td>1937</td> <td>84  </td>\n",
       "        </tr>\n",
       "    </tbody>\n",
       "</table>\n",
       "<p>... (190 rows omitted)</p>"
      ],
      "text/plain": [
       "Title                            | Studio          | Gross     | Gross (Adjusted) | Year | Age\n",
       "Gone with the Wind               | MGM             | 198676459 | 1796176700       | 1939 | 82\n",
       "Star Wars                        | Fox             | 460998007 | 1583483200       | 1977 | 44\n",
       "The Sound of Music               | Fox             | 158671368 | 1266072700       | 1965 | 56\n",
       "E.T.: The Extra-Terrestrial      | Universal       | 435110554 | 1261085000       | 1982 | 39\n",
       "Titanic                          | Paramount       | 658672302 | 1204368000       | 1997 | 24\n",
       "The Ten Commandments             | Paramount       | 65500000  | 1164590000       | 1956 | 65\n",
       "Jaws                             | Universal       | 260000000 | 1138620700       | 1975 | 46\n",
       "Doctor Zhivago                   | MGM             | 111721910 | 1103564200       | 1965 | 56\n",
       "The Exorcist                     | Warner Brothers | 232906145 | 983226600        | 1973 | 48\n",
       "Snow White and the Seven Dwarves | Disney          | 184925486 | 969010000        | 1937 | 84\n",
       "... (190 rows omitted)"
      ]
     },
     "execution_count": 50,
     "metadata": {},
     "output_type": "execute_result"
    }
   ],
   "source": [
    "#Notice\n",
    "#Did not need a loop[]\n",
    "#age_new = np.round(2022 - age)\n",
    "#or\n",
    "ages= 2021 - top_movies.column('Year')\n",
    "\n",
    "top_movies = top_movies.with_column('Age', ages)\n",
    "top_movies"
   ]
  },
  {
   "cell_type": "markdown",
   "id": "dd8f073f",
   "metadata": {},
   "source": [
    "## HOW TO FIND THE BIN"
   ]
  },
  {
   "cell_type": "markdown",
   "id": "6aead5b9",
   "metadata": {},
   "source": [
    "## Finding the Counts: Binning"
   ]
  },
  {
   "cell_type": "code",
   "execution_count": 51,
   "id": "fe8facd4",
   "metadata": {},
   "outputs": [
    {
     "data": {
      "text/plain": [
       "(4, 100)"
      ]
     },
     "execution_count": 51,
     "metadata": {},
     "output_type": "execute_result"
    }
   ],
   "source": [
    "min(ages), max(ages)"
   ]
  },
  {
   "cell_type": "code",
   "execution_count": 53,
   "id": "03ac3142",
   "metadata": {},
   "outputs": [
    {
     "data": {
      "text/html": [
       "<table border=\"1\" class=\"dataframe\">\n",
       "    <thead>\n",
       "        <tr>\n",
       "            <th>bin</th> <th>Age count</th>\n",
       "        </tr>\n",
       "    </thead>\n",
       "    <tbody>\n",
       "        <tr>\n",
       "            <td>0   </td> <td>67       </td>\n",
       "        </tr>\n",
       "        <tr>\n",
       "            <td>20  </td> <td>60       </td>\n",
       "        </tr>\n",
       "        <tr>\n",
       "            <td>40  </td> <td>46       </td>\n",
       "        </tr>\n",
       "        <tr>\n",
       "            <td>60  </td> <td>21       </td>\n",
       "        </tr>\n",
       "        <tr>\n",
       "            <td>80  </td> <td>6        </td>\n",
       "        </tr>\n",
       "        <tr>\n",
       "            <td>100 </td> <td>0        </td>\n",
       "        </tr>\n",
       "    </tbody>\n",
       "</table>"
      ],
      "text/plain": [
       "bin  | Age count\n",
       "0    | 67\n",
       "20   | 60\n",
       "40   | 46\n",
       "60   | 21\n",
       "80   | 6\n",
       "100  | 0"
      ]
     },
     "execution_count": 53,
     "metadata": {},
     "output_type": "execute_result"
    }
   ],
   "source": [
    "equal_bins = top_movies.bin('Age', bins=np.arange(0, 101, 20))\n",
    "equal_bins"
   ]
  },
  {
   "cell_type": "code",
   "execution_count": 54,
   "id": "ac5e7b55",
   "metadata": {},
   "outputs": [],
   "source": [
    "#Last bin gives the boundary of the last bin. Always 0\n",
    "\n",
    "#67 in [0-20)\n",
    "#46 movies in the [40-60) bins\n",
    "#Age count of the movies\n",
    "\n"
   ]
  },
  {
   "cell_type": "code",
   "execution_count": 55,
   "id": "68ab6101",
   "metadata": {},
   "outputs": [
    {
     "data": {
      "text/plain": [
       "200"
      ]
     },
     "execution_count": 55,
     "metadata": {},
     "output_type": "execute_result"
    }
   ],
   "source": [
    "sum(equal_bins.column('Age count'))"
   ]
  },
  {
   "cell_type": "code",
   "execution_count": 57,
   "id": "91e5d97a",
   "metadata": {},
   "outputs": [],
   "source": [
    "#To get the number of movies whose ages are more than 40 years and less than 60"
   ]
  },
  {
   "cell_type": "code",
   "execution_count": 56,
   "id": "fffc39cc",
   "metadata": {},
   "outputs": [
    {
     "data": {
      "text/plain": [
       "46"
      ]
     },
     "execution_count": 56,
     "metadata": {},
     "output_type": "execute_result"
    }
   ],
   "source": [
    "top_movies.where('Age', are.above_or_equal_to(40)).where('Age', are.below(60)).num_rows"
   ]
  },
  {
   "cell_type": "code",
   "execution_count": 58,
   "id": "4b3579d8",
   "metadata": {},
   "outputs": [],
   "source": [
    "#Basically, as shown above, the last bin has 0 movies that are 100 years or older"
   ]
  },
  {
   "cell_type": "code",
   "execution_count": 59,
   "id": "d55575b2",
   "metadata": {},
   "outputs": [
    {
     "data": {
      "text/html": [
       "<table border=\"1\" class=\"dataframe\">\n",
       "    <thead>\n",
       "        <tr>\n",
       "            <th>Title</th> <th>Studio</th> <th>Gross</th> <th>Gross (Adjusted)</th> <th>Year</th> <th>Age</th>\n",
       "        </tr>\n",
       "    </thead>\n",
       "    <tbody>\n",
       "        <tr>\n",
       "            <td>The Four Horsemen of the Apocalypse</td> <td>Metro </td> <td>9183673</td> <td>408214300       </td> <td>1921</td> <td>100 </td>\n",
       "        </tr>\n",
       "    </tbody>\n",
       "</table>"
      ],
      "text/plain": [
       "Title                               | Studio | Gross   | Gross (Adjusted) | Year | Age\n",
       "The Four Horsemen of the Apocalypse | Metro  | 9183673 | 408214300        | 1921 | 100"
      ]
     },
     "execution_count": 59,
     "metadata": {},
     "output_type": "execute_result"
    }
   ],
   "source": [
    "top_movies.where('Age', 100)"
   ]
  },
  {
   "cell_type": "code",
   "execution_count": 63,
   "id": "92475326",
   "metadata": {},
   "outputs": [
    {
     "data": {
      "text/plain": [
       "5"
      ]
     },
     "execution_count": 63,
     "metadata": {},
     "output_type": "execute_result"
    }
   ],
   "source": [
    "top_movies.where('Age', are.above_or_equal_to(80)).where('Age', are.below(100)).num_rows"
   ]
  },
  {
   "cell_type": "code",
   "execution_count": 66,
   "id": "19c5fb6d",
   "metadata": {},
   "outputs": [
    {
     "data": {
      "text/html": [
       "<table border=\"1\" class=\"dataframe\">\n",
       "    <thead>\n",
       "        <tr>\n",
       "            <th>Title</th> <th>Studio</th> <th>Gross</th> <th>Gross (Adjusted)</th> <th>Year</th> <th>Age</th>\n",
       "        </tr>\n",
       "    </thead>\n",
       "    <tbody>\n",
       "        <tr>\n",
       "            <td>Gone with the Wind              </td> <td>MGM            </td> <td>198676459</td> <td>1796176700      </td> <td>1939</td> <td>82  </td>\n",
       "        </tr>\n",
       "        <tr>\n",
       "            <td>Snow White and the Seven Dwarves</td> <td>Disney         </td> <td>184925486</td> <td>969010000       </td> <td>1937</td> <td>84  </td>\n",
       "        </tr>\n",
       "        <tr>\n",
       "            <td>Fantasia                        </td> <td>Disney         </td> <td>76408097 </td> <td>738256500       </td> <td>1941</td> <td>80  </td>\n",
       "        </tr>\n",
       "        <tr>\n",
       "            <td>Pinocchio                       </td> <td>Disney         </td> <td>84254167 </td> <td>599215600       </td> <td>1940</td> <td>81  </td>\n",
       "        </tr>\n",
       "        <tr>\n",
       "            <td>Sergeant York                   </td> <td>Warner Brothers</td> <td>16361885 </td> <td>427815200       </td> <td>1941</td> <td>80  </td>\n",
       "        </tr>\n",
       "    </tbody>\n",
       "</table>"
      ],
      "text/plain": [
       "Title                            | Studio          | Gross     | Gross (Adjusted) | Year | Age\n",
       "Gone with the Wind               | MGM             | 198676459 | 1796176700       | 1939 | 82\n",
       "Snow White and the Seven Dwarves | Disney          | 184925486 | 969010000        | 1937 | 84\n",
       "Fantasia                         | Disney          | 76408097  | 738256500        | 1941 | 80\n",
       "Pinocchio                        | Disney          | 84254167  | 599215600        | 1940 | 81\n",
       "Sergeant York                    | Warner Brothers | 16361885  | 427815200        | 1941 | 80"
      ]
     },
     "execution_count": 66,
     "metadata": {},
     "output_type": "execute_result"
    }
   ],
   "source": [
    "top_movies.where('Age', are.above_or_equal_to(80)).where('Age', are.below(100))"
   ]
  },
  {
   "cell_type": "code",
   "execution_count": 67,
   "id": "24205132",
   "metadata": {},
   "outputs": [
    {
     "data": {
      "text/html": [
       "<table border=\"1\" class=\"dataframe\">\n",
       "    <thead>\n",
       "        <tr>\n",
       "            <th>Title</th> <th>Studio</th> <th>Gross</th> <th>Gross (Adjusted)</th> <th>Year</th> <th>Age</th>\n",
       "        </tr>\n",
       "    </thead>\n",
       "    <tbody>\n",
       "        <tr>\n",
       "            <td>Gone with the Wind                 </td> <td>MGM            </td> <td>198676459</td> <td>1796176700      </td> <td>1939</td> <td>82  </td>\n",
       "        </tr>\n",
       "        <tr>\n",
       "            <td>Snow White and the Seven Dwarves   </td> <td>Disney         </td> <td>184925486</td> <td>969010000       </td> <td>1937</td> <td>84  </td>\n",
       "        </tr>\n",
       "        <tr>\n",
       "            <td>Fantasia                           </td> <td>Disney         </td> <td>76408097 </td> <td>738256500       </td> <td>1941</td> <td>80  </td>\n",
       "        </tr>\n",
       "        <tr>\n",
       "            <td>Pinocchio                          </td> <td>Disney         </td> <td>84254167 </td> <td>599215600       </td> <td>1940</td> <td>81  </td>\n",
       "        </tr>\n",
       "        <tr>\n",
       "            <td>Sergeant York                      </td> <td>Warner Brothers</td> <td>16361885 </td> <td>427815200       </td> <td>1941</td> <td>80  </td>\n",
       "        </tr>\n",
       "        <tr>\n",
       "            <td>The Four Horsemen of the Apocalypse</td> <td>Metro          </td> <td>9183673  </td> <td>408214300       </td> <td>1921</td> <td>100 </td>\n",
       "        </tr>\n",
       "    </tbody>\n",
       "</table>"
      ],
      "text/plain": [
       "Title                               | Studio          | Gross     | Gross (Adjusted) | Year | Age\n",
       "Gone with the Wind                  | MGM             | 198676459 | 1796176700       | 1939 | 82\n",
       "Snow White and the Seven Dwarves    | Disney          | 184925486 | 969010000        | 1937 | 84\n",
       "Fantasia                            | Disney          | 76408097  | 738256500        | 1941 | 80\n",
       "Pinocchio                           | Disney          | 84254167  | 599215600        | 1940 | 81\n",
       "Sergeant York                       | Warner Brothers | 16361885  | 427815200        | 1941 | 80\n",
       "The Four Horsemen of the Apocalypse | Metro           | 9183673   | 408214300        | 1921 | 100"
      ]
     },
     "execution_count": 67,
     "metadata": {},
     "output_type": "execute_result"
    }
   ],
   "source": [
    "top_movies.where('Age', are.above_or_equal_to(80)).where('Age', are.below_or_equal_to(100))"
   ]
  },
  {
   "cell_type": "code",
   "execution_count": 69,
   "id": "97c28795",
   "metadata": {},
   "outputs": [],
   "source": [
    "#The last movie appears in the bin 80-100\n",
    "#Such a convention is necessary and followed i.e. the (second) last bin \n",
    "#is [80-100] and not [80,100)\n",
    "\n",
    "\n",
    "\n",
    "#The [40,60) bin contains 46 out of 200 movies = 23%\n",
    "#The bin is 20 years wide\n",
    "\n",
    "#Area = height x width\n",
    "#Therefore (height bar) = Area/(width) of the bin\n",
    "#Height bar = PERCENT/YEARS\n",
    "#Height measures the percent of data in the bin \n",
    "#relative to the amount of space in the bin.\n",
    "#Height measures crowdedness or density\n",
    "\n",
    "#How many individuals in the bin? Use area\n",
    "#How crowded is the bin? Use height\n",
    "\n",
    "#When you would need unequal bins\n",
    "#To summarize education data\n",
    "#0-2 Pre-school\n",
    "#I - IV Primary\n",
    "#V-X Secondary\n",
    "#XI-XII Higher Secondary\n",
    "#and so on\n"
   ]
  },
  {
   "cell_type": "code",
   "execution_count": null,
   "id": "d4a5a66d",
   "metadata": {},
   "outputs": [],
   "source": []
  },
  {
   "cell_type": "code",
   "execution_count": 72,
   "id": "fad2a31b",
   "metadata": {},
   "outputs": [],
   "source": [
    "#Bins need not be of equal length"
   ]
  },
  {
   "cell_type": "code",
   "execution_count": 88,
   "id": "9222f694",
   "metadata": {},
   "outputs": [],
   "source": [
    "my_bins = make_array(0, 10, 20, 40, 60, 100)"
   ]
  },
  {
   "cell_type": "code",
   "execution_count": 78,
   "id": "bee3b208",
   "metadata": {},
   "outputs": [
    {
     "data": {
      "text/html": [
       "<table border=\"1\" class=\"dataframe\">\n",
       "    <thead>\n",
       "        <tr>\n",
       "            <th>bin</th> <th>Age count</th>\n",
       "        </tr>\n",
       "    </thead>\n",
       "    <tbody>\n",
       "        <tr>\n",
       "            <td>0   </td> <td>28       </td>\n",
       "        </tr>\n",
       "        <tr>\n",
       "            <td>10  </td> <td>39       </td>\n",
       "        </tr>\n",
       "        <tr>\n",
       "            <td>20  </td> <td>60       </td>\n",
       "        </tr>\n",
       "        <tr>\n",
       "            <td>40  </td> <td>46       </td>\n",
       "        </tr>\n",
       "        <tr>\n",
       "            <td>60  </td> <td>27       </td>\n",
       "        </tr>\n",
       "        <tr>\n",
       "            <td>100 </td> <td>0        </td>\n",
       "        </tr>\n",
       "    </tbody>\n",
       "</table>"
      ],
      "text/plain": [
       "bin  | Age count\n",
       "0    | 28\n",
       "10   | 39\n",
       "20   | 60\n",
       "40   | 46\n",
       "60   | 27\n",
       "100  | 0"
      ]
     },
     "execution_count": 78,
     "metadata": {},
     "output_type": "execute_result"
    }
   ],
   "source": [
    "binned_data = top_movies.bin('Age', bins=my_bins)\n",
    "binned_data"
   ]
  },
  {
   "cell_type": "code",
   "execution_count": 89,
   "id": "27dbf759",
   "metadata": {},
   "outputs": [
    {
     "data": {
      "image/png": "[encoded data removed]",
      "text/plain": [
       "<Figure size 432x288 with 1 Axes>"
      ]
     },
     "metadata": {},
     "output_type": "display_data"
    }
   ],
   "source": [
    "top_movies.hist('Age', bins = my_bins, unit = 'Year')"
   ]
  },
  {
   "cell_type": "code",
   "execution_count": 90,
   "id": "f3d8984f",
   "metadata": {},
   "outputs": [
    {
     "data": {
      "image/png": "[encoded data removed]",
      "text/plain": [
       "<Figure size 432x288 with 1 Axes>"
      ]
     },
     "metadata": {},
     "output_type": "display_data"
    }
   ],
   "source": [
    "#Plotting the counts on the vertical axis is a bad idea\n",
    "#Q) Which one has more movies?\n",
    "#A) [20,40) bigger area\n",
    "\n",
    "#Q) Which one is more crowded?\n",
    "#A) [10,20) is taller\n",
    "\n",
    "top_movies.hist('Age', bins = my_bins, unit = \"Year\")"
   ]
  },
  {
   "cell_type": "code",
   "execution_count": 91,
   "id": "7102264e",
   "metadata": {},
   "outputs": [
    {
     "data": {
      "image/png": "[encoded data removed]",
      "text/plain": [
       "<Figure size 432x288 with 1 Axes>"
      ]
     },
     "metadata": {},
     "output_type": "display_data"
    }
   ],
   "source": [
    "#=====DO NOT DO THIS=====\n",
    "#DO NOT PLOT JUST THE BARE COUNTS\n",
    "top_movies.hist('Age', bins = my_bins, unit = \"Year\", normed=False)"
   ]
  },
  {
   "cell_type": "code",
   "execution_count": null,
   "id": "7bf59943",
   "metadata": {},
   "outputs": [],
   "source": []
  },
  {
   "cell_type": "code",
   "execution_count": 79,
   "id": "5c053ca2",
   "metadata": {},
   "outputs": [],
   "source": [
    "#HOW THE EYE PERCEIVES THE BARS\n",
    "#See Visualization3"
   ]
  },
  {
   "cell_type": "code",
   "execution_count": 80,
   "id": "40564da2",
   "metadata": {},
   "outputs": [],
   "source": [
    "#If you represent 20% of a population by one triangle\n",
    "#Then 40% can be be represented by two triangles\n",
    "#====But not by=== (doubling the length and breadth of the first triangle)\n",
    "\n",
    "#Vertical axis is a rate (Percent/per year)"
   ]
  },
  {
   "cell_type": "markdown",
   "id": "ea6e57bd",
   "metadata": {},
   "source": [
    "# Histogram: Percent = Area"
   ]
  },
  {
   "cell_type": "code",
   "execution_count": 82,
   "id": "1723898f",
   "metadata": {},
   "outputs": [
    {
     "data": {
      "image/png": "[encoded data removed]",
      "text/plain": [
       "<Figure size 432x288 with 1 Axes>"
      ]
     },
     "metadata": {},
     "output_type": "display_data"
    }
   ],
   "source": [
    "#Not specifying any bins\n",
    "top_movies.hist('Age', unit = 'Year')"
   ]
  },
  {
   "cell_type": "code",
   "execution_count": 84,
   "id": "e0794541",
   "metadata": {},
   "outputs": [
    {
     "data": {
      "image/png": "[encoded data removed]",
      "text/plain": [
       "<Figure size 432x288 with 1 Axes>"
      ]
     },
     "metadata": {},
     "output_type": "display_data"
    }
   ],
   "source": [
    "#In this block, it is possible to clearly locate the edges of the bins\n",
    "top_movies.hist('Age', bins = np.arange(0, 101, 20), unit = 'Year')"
   ]
  },
  {
   "cell_type": "code",
   "execution_count": 85,
   "id": "660e0309",
   "metadata": {},
   "outputs": [
    {
     "data": {
      "text/plain": [
       "30.0"
      ]
     },
     "execution_count": 85,
     "metadata": {},
     "output_type": "execute_result"
    }
   ],
   "source": [
    "1.5*(40-20)"
   ]
  },
  {
   "cell_type": "code",
   "execution_count": 86,
   "id": "532da01f",
   "metadata": {},
   "outputs": [
    {
     "data": {
      "text/html": [
       "<table border=\"1\" class=\"dataframe\">\n",
       "    <thead>\n",
       "        <tr>\n",
       "            <th>bin</th> <th>Age count</th>\n",
       "        </tr>\n",
       "    </thead>\n",
       "    <tbody>\n",
       "        <tr>\n",
       "            <td>0   </td> <td>67       </td>\n",
       "        </tr>\n",
       "        <tr>\n",
       "            <td>20  </td> <td>60       </td>\n",
       "        </tr>\n",
       "        <tr>\n",
       "            <td>40  </td> <td>46       </td>\n",
       "        </tr>\n",
       "        <tr>\n",
       "            <td>60  </td> <td>21       </td>\n",
       "        </tr>\n",
       "        <tr>\n",
       "            <td>80  </td> <td>6        </td>\n",
       "        </tr>\n",
       "        <tr>\n",
       "            <td>100 </td> <td>0        </td>\n",
       "        </tr>\n",
       "    </tbody>\n",
       "</table>"
      ],
      "text/plain": [
       "bin  | Age count\n",
       "0    | 67\n",
       "20   | 60\n",
       "40   | 46\n",
       "60   | 21\n",
       "80   | 6\n",
       "100  | 0"
      ]
     },
     "execution_count": 86,
     "metadata": {},
     "output_type": "execute_result"
    }
   ],
   "source": [
    "equal_bins"
   ]
  },
  {
   "cell_type": "code",
   "execution_count": 87,
   "id": "d57d2525",
   "metadata": {},
   "outputs": [
    {
     "data": {
      "text/plain": [
       "0.3"
      ]
     },
     "execution_count": 87,
     "metadata": {},
     "output_type": "execute_result"
    }
   ],
   "source": [
    "total_count = sum(equal_bins.column('Age count'))\n",
    "60/total_count"
   ]
  },
  {
   "cell_type": "code",
   "execution_count": null,
   "id": "67430b76",
   "metadata": {},
   "outputs": [],
   "source": []
  }
 ],
 "metadata": {
  "kernelspec": {
   "display_name": "Python 3 (ipykernel)",
   "language": "python",
   "name": "python3"
  },
  "language_info": {
   "codemirror_mode": {
    "name": "ipython",
    "version": 3
   },
   "file_extension": ".py",
   "mimetype": "text/x-python",
   "name": "python",
   "nbconvert_exporter": "python",
   "pygments_lexer": "ipython3",
   "version": "3.8.6"
  }
 },
 "nbformat": 4,
 "nbformat_minor": 5
}
