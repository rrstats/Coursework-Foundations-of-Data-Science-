{
 "cells": [
  {
   "cell_type": "code",
   "execution_count": 1,
   "id": "17757a03",
   "metadata": {},
   "outputs": [],
   "source": [
    "from datascience import*\n",
    "import numpy as np\n",
    "\n",
    "\n",
    "%matplotlib inline\n",
    "import matplotlib.pyplot as plots\n",
    "plots.style.use('fivethirtyeight')\n"
   ]
  },
  {
   "cell_type": "code",
   "execution_count": 2,
   "id": "b4b712b1",
   "metadata": {},
   "outputs": [],
   "source": [
    "def triple(x):\n",
    "    return 3 * x"
   ]
  },
  {
   "cell_type": "code",
   "execution_count": 3,
   "id": "2733121b",
   "metadata": {},
   "outputs": [
    {
     "data": {
      "text/plain": [
       "12"
      ]
     },
     "execution_count": 3,
     "metadata": {},
     "output_type": "execute_result"
    }
   ],
   "source": [
    "triple(4)"
   ]
  },
  {
   "cell_type": "code",
   "execution_count": 4,
   "id": "b17c832a",
   "metadata": {},
   "outputs": [
    {
     "data": {
      "text/plain": [
       "'hahaha'"
      ]
     },
     "execution_count": 4,
     "metadata": {},
     "output_type": "execute_result"
    }
   ],
   "source": [
    "triple('ha')"
   ]
  },
  {
   "cell_type": "code",
   "execution_count": 5,
   "id": "57ee56fd",
   "metadata": {},
   "outputs": [],
   "source": [
    "array = (2, 3, 4, 5)"
   ]
  },
  {
   "cell_type": "code",
   "execution_count": 6,
   "id": "20dc2b9d",
   "metadata": {},
   "outputs": [
    {
     "data": {
      "text/plain": [
       "(2, 3, 4, 5, 2, 3, 4, 5, 2, 3, 4, 5)"
      ]
     },
     "execution_count": 6,
     "metadata": {},
     "output_type": "execute_result"
    }
   ],
   "source": [
    "triple(array)"
   ]
  },
  {
   "cell_type": "code",
   "execution_count": 7,
   "id": "07cdbe43",
   "metadata": {},
   "outputs": [
    {
     "data": {
      "text/plain": [
       "array([2, 3, 4, 5], dtype=int64)"
      ]
     },
     "execution_count": 7,
     "metadata": {},
     "output_type": "execute_result"
    }
   ],
   "source": [
    "make_array(2, 3, 4, 5)"
   ]
  },
  {
   "cell_type": "code",
   "execution_count": 8,
   "id": "c7a2df1e",
   "metadata": {},
   "outputs": [
    {
     "data": {
      "text/plain": [
       "array([ 6,  9, 12, 15], dtype=int64)"
      ]
     },
     "execution_count": 8,
     "metadata": {},
     "output_type": "execute_result"
    }
   ],
   "source": [
    "triple(make_array(2, 3, 4, 5))"
   ]
  },
  {
   "cell_type": "code",
   "execution_count": 9,
   "id": "a2389e0e",
   "metadata": {
    "scrolled": true
   },
   "outputs": [
    {
     "ename": "TypeError",
     "evalue": "unsupported operand type(s) for *: 'int' and 'function'",
     "output_type": "error",
     "traceback": [
      "\u001b[1;31m---------------------------------------------------------------------------\u001b[0m",
      "\u001b[1;31mTypeError\u001b[0m                                 Traceback (most recent call last)",
      "Input \u001b[1;32mIn [9]\u001b[0m, in \u001b[0;36m<module>\u001b[1;34m\u001b[0m\n\u001b[0;32m      1\u001b[0m \u001b[38;5;66;03m#This gives an error\u001b[39;00m\n\u001b[1;32m----> 2\u001b[0m \u001b[43mtriple\u001b[49m\u001b[43m(\u001b[49m\u001b[43mmake_array\u001b[49m\u001b[43m)\u001b[49m\n",
      "Input \u001b[1;32mIn [2]\u001b[0m, in \u001b[0;36mtriple\u001b[1;34m(x)\u001b[0m\n\u001b[0;32m      1\u001b[0m \u001b[38;5;28;01mdef\u001b[39;00m \u001b[38;5;21mtriple\u001b[39m(x):\n\u001b[1;32m----> 2\u001b[0m     \u001b[38;5;28;01mreturn\u001b[39;00m \u001b[38;5;241;43m3\u001b[39;49m\u001b[43m \u001b[49m\u001b[38;5;241;43m*\u001b[39;49m\u001b[43m \u001b[49m\u001b[43mx\u001b[49m\n",
      "\u001b[1;31mTypeError\u001b[0m: unsupported operand type(s) for *: 'int' and 'function'"
     ]
    }
   ],
   "source": [
    "#This gives an error\n",
    "triple(make_array)"
   ]
  },
  {
   "cell_type": "code",
   "execution_count": null,
   "id": "bd06beb9",
   "metadata": {},
   "outputs": [],
   "source": [
    "#Rounded off\n",
    "def percent_of_total(s):\n",
    "    return np.round(s/sum(s) * 100, 2)"
   ]
  },
  {
   "cell_type": "code",
   "execution_count": null,
   "id": "0c3f3f4f",
   "metadata": {},
   "outputs": [],
   "source": [
    "first_four = make_array(1,2,3,4)\n",
    "first_four"
   ]
  },
  {
   "cell_type": "code",
   "execution_count": null,
   "id": "dc4f047f",
   "metadata": {},
   "outputs": [],
   "source": [
    "percent_of_total(first_four)"
   ]
  },
  {
   "cell_type": "code",
   "execution_count": null,
   "id": "d9dfefae",
   "metadata": {},
   "outputs": [],
   "source": [
    "def hypotenuse(x,y):\n",
    "    hypot_squared = (x**2 + y**2)\n",
    "    hypot = hypot_squared ** 0.5\n",
    "    return hypot"
   ]
  },
  {
   "cell_type": "code",
   "execution_count": null,
   "id": "c77c9acb",
   "metadata": {},
   "outputs": [],
   "source": [
    "hypotenuse(0.1, 46)"
   ]
  },
  {
   "cell_type": "code",
   "execution_count": 10,
   "id": "63299403",
   "metadata": {},
   "outputs": [],
   "source": [
    "#Apply operation"
   ]
  },
  {
   "cell_type": "code",
   "execution_count": null,
   "id": "5eab2a74",
   "metadata": {},
   "outputs": [],
   "source": []
  },
  {
   "cell_type": "code",
   "execution_count": 11,
   "id": "b09060e5",
   "metadata": {},
   "outputs": [],
   "source": [
    "#L10\n"
   ]
  },
  {
   "cell_type": "code",
   "execution_count": 15,
   "id": "f6bb8b12",
   "metadata": {},
   "outputs": [
    {
     "data": {
      "text/html": [
       "<table border=\"1\" class=\"dataframe\">\n",
       "    <thead>\n",
       "        <tr>\n",
       "            <th>family</th> <th>father</th> <th>mother</th> <th>midparentHeight</th> <th>children</th> <th>childNum</th> <th>sex</th> <th>childHeight</th>\n",
       "        </tr>\n",
       "    </thead>\n",
       "    <tbody>\n",
       "        <tr>\n",
       "            <td>1     </td> <td>78.5  </td> <td>67    </td> <td>75.43          </td> <td>4       </td> <td>1       </td> <td>male  </td> <td>73.2       </td>\n",
       "        </tr>\n",
       "        <tr>\n",
       "            <td>1     </td> <td>78.5  </td> <td>67    </td> <td>75.43          </td> <td>4       </td> <td>2       </td> <td>female</td> <td>69.2       </td>\n",
       "        </tr>\n",
       "        <tr>\n",
       "            <td>1     </td> <td>78.5  </td> <td>67    </td> <td>75.43          </td> <td>4       </td> <td>3       </td> <td>female</td> <td>69         </td>\n",
       "        </tr>\n",
       "        <tr>\n",
       "            <td>1     </td> <td>78.5  </td> <td>67    </td> <td>75.43          </td> <td>4       </td> <td>4       </td> <td>female</td> <td>69         </td>\n",
       "        </tr>\n",
       "        <tr>\n",
       "            <td>2     </td> <td>75.5  </td> <td>66.5  </td> <td>73.66          </td> <td>4       </td> <td>1       </td> <td>male  </td> <td>73.5       </td>\n",
       "        </tr>\n",
       "        <tr>\n",
       "            <td>2     </td> <td>75.5  </td> <td>66.5  </td> <td>73.66          </td> <td>4       </td> <td>2       </td> <td>male  </td> <td>72.5       </td>\n",
       "        </tr>\n",
       "        <tr>\n",
       "            <td>2     </td> <td>75.5  </td> <td>66.5  </td> <td>73.66          </td> <td>4       </td> <td>3       </td> <td>female</td> <td>65.5       </td>\n",
       "        </tr>\n",
       "        <tr>\n",
       "            <td>2     </td> <td>75.5  </td> <td>66.5  </td> <td>73.66          </td> <td>4       </td> <td>4       </td> <td>female</td> <td>65.5       </td>\n",
       "        </tr>\n",
       "        <tr>\n",
       "            <td>3     </td> <td>75    </td> <td>64    </td> <td>72.06          </td> <td>2       </td> <td>1       </td> <td>male  </td> <td>71         </td>\n",
       "        </tr>\n",
       "        <tr>\n",
       "            <td>3     </td> <td>75    </td> <td>64    </td> <td>72.06          </td> <td>2       </td> <td>2       </td> <td>female</td> <td>68         </td>\n",
       "        </tr>\n",
       "    </tbody>\n",
       "</table>\n",
       "<p>... (924 rows omitted)</p>"
      ],
      "text/plain": [
       "family | father | mother | midparentHeight | children | childNum | sex    | childHeight\n",
       "1      | 78.5   | 67     | 75.43           | 4        | 1        | male   | 73.2\n",
       "1      | 78.5   | 67     | 75.43           | 4        | 2        | female | 69.2\n",
       "1      | 78.5   | 67     | 75.43           | 4        | 3        | female | 69\n",
       "1      | 78.5   | 67     | 75.43           | 4        | 4        | female | 69\n",
       "2      | 75.5   | 66.5   | 73.66           | 4        | 1        | male   | 73.5\n",
       "2      | 75.5   | 66.5   | 73.66           | 4        | 2        | male   | 72.5\n",
       "2      | 75.5   | 66.5   | 73.66           | 4        | 3        | female | 65.5\n",
       "2      | 75.5   | 66.5   | 73.66           | 4        | 4        | female | 65.5\n",
       "3      | 75     | 64     | 72.06           | 2        | 1        | male   | 71\n",
       "3      | 75     | 64     | 72.06           | 2        | 2        | female | 68\n",
       "... (924 rows omitted)"
      ]
     },
     "execution_count": 15,
     "metadata": {},
     "output_type": "execute_result"
    }
   ],
   "source": [
    "families = Table.read_table('family_heights.csv')\n",
    "families"
   ]
  },
  {
   "cell_type": "code",
   "execution_count": 44,
   "id": "26e1835d",
   "metadata": {},
   "outputs": [
    {
     "data": {
      "text/plain": [
       "<bound method Table.scatter of family | father | mother | midparentHeight | children | childNum | sex    | childHeight\n",
       "1      | 78.5   | 67     | 75.43           | 4        | 1        | male   | 73.2\n",
       "1      | 78.5   | 67     | 75.43           | 4        | 2        | female | 69.2\n",
       "1      | 78.5   | 67     | 75.43           | 4        | 3        | female | 69\n",
       "1      | 78.5   | 67     | 75.43           | 4        | 4        | female | 69\n",
       "2      | 75.5   | 66.5   | 73.66           | 4        | 1        | male   | 73.5\n",
       "2      | 75.5   | 66.5   | 73.66           | 4        | 2        | male   | 72.5\n",
       "2      | 75.5   | 66.5   | 73.66           | 4        | 3        | female | 65.5\n",
       "2      | 75.5   | 66.5   | 73.66           | 4        | 4        | female | 65.5\n",
       "3      | 75     | 64     | 72.06           | 2        | 1        | male   | 71\n",
       "3      | 75     | 64     | 72.06           | 2        | 2        | female | 68\n",
       "... (924 rows omitted)>"
      ]
     },
     "execution_count": 44,
     "metadata": {},
     "output_type": "execute_result"
    }
   ],
   "source": [
    "#Just another way of looking\n",
    "families.scatter"
   ]
  },
  {
   "cell_type": "code",
   "execution_count": 16,
   "id": "14d2b21a",
   "metadata": {},
   "outputs": [],
   "source": [
    "parent_avgs = (families.column('father') + families.column('mother'))/2"
   ]
  },
  {
   "cell_type": "code",
   "execution_count": 21,
   "id": "ee6338b3",
   "metadata": {},
   "outputs": [
    {
     "data": {
      "text/html": [
       "<table border=\"1\" class=\"dataframe\">\n",
       "    <thead>\n",
       "        <tr>\n",
       "            <th>Parent Average</th> <th>Child</th> <th>Gender</th>\n",
       "        </tr>\n",
       "    </thead>\n",
       "    <tbody>\n",
       "        <tr>\n",
       "            <td>72.75         </td> <td>73.2 </td> <td>male  </td>\n",
       "        </tr>\n",
       "        <tr>\n",
       "            <td>72.75         </td> <td>69.2 </td> <td>female</td>\n",
       "        </tr>\n",
       "        <tr>\n",
       "            <td>72.75         </td> <td>69   </td> <td>female</td>\n",
       "        </tr>\n",
       "        <tr>\n",
       "            <td>72.75         </td> <td>69   </td> <td>female</td>\n",
       "        </tr>\n",
       "        <tr>\n",
       "            <td>71            </td> <td>73.5 </td> <td>male  </td>\n",
       "        </tr>\n",
       "        <tr>\n",
       "            <td>71            </td> <td>72.5 </td> <td>male  </td>\n",
       "        </tr>\n",
       "        <tr>\n",
       "            <td>71            </td> <td>65.5 </td> <td>female</td>\n",
       "        </tr>\n",
       "        <tr>\n",
       "            <td>71            </td> <td>65.5 </td> <td>female</td>\n",
       "        </tr>\n",
       "        <tr>\n",
       "            <td>69.5          </td> <td>71   </td> <td>male  </td>\n",
       "        </tr>\n",
       "        <tr>\n",
       "            <td>69.5          </td> <td>68   </td> <td>female</td>\n",
       "        </tr>\n",
       "    </tbody>\n",
       "</table>\n",
       "<p>... (924 rows omitted)</p>"
      ],
      "text/plain": [
       "Parent Average | Child | Gender\n",
       "72.75          | 73.2  | male\n",
       "72.75          | 69.2  | female\n",
       "72.75          | 69    | female\n",
       "72.75          | 69    | female\n",
       "71             | 73.5  | male\n",
       "71             | 72.5  | male\n",
       "71             | 65.5  | female\n",
       "71             | 65.5  | female\n",
       "69.5           | 71    | male\n",
       "69.5           | 68    | female\n",
       "... (924 rows omitted)"
      ]
     },
     "execution_count": 21,
     "metadata": {},
     "output_type": "execute_result"
    }
   ],
   "source": [
    "heights = Table().with_columns(\n",
    "    'Parent Average', parent_avgs,\n",
    "    'Child', families.column('childHeight'),\n",
    "    'Gender', families.column('sex'))\n",
    "heights"
   ]
  },
  {
   "cell_type": "code",
   "execution_count": 22,
   "id": "b3b76590",
   "metadata": {},
   "outputs": [],
   "source": [
    "#What would be a good visualization to explore the relation between the child and parents height"
   ]
  },
  {
   "cell_type": "code",
   "execution_count": 23,
   "id": "03654dd9",
   "metadata": {},
   "outputs": [],
   "source": [
    "#TWO NUMERICAL VARIABLES"
   ]
  },
  {
   "cell_type": "code",
   "execution_count": 24,
   "id": "1c09e7a3",
   "metadata": {},
   "outputs": [
    {
     "data": {
      "image/png": "[encoded data removed]",
      "text/plain": [
       "<Figure size 360x360 with 1 Axes>"
      ]
     },
     "metadata": {},
     "output_type": "display_data"
    }
   ],
   "source": [
    "heights.scatter('Parent Average', 'Child')"
   ]
  },
  {
   "cell_type": "code",
   "execution_count": 25,
   "id": "5622b037",
   "metadata": {},
   "outputs": [],
   "source": [
    "#How would you predict the height for a new baby"
   ]
  },
  {
   "cell_type": "code",
   "execution_count": 26,
   "id": "c932d403",
   "metadata": {},
   "outputs": [
    {
     "data": {
      "text/plain": [
       "[<matplotlib.lines.Line2D at 0x3590a9d0>]"
      ]
     },
     "execution_count": 26,
     "metadata": {},
     "output_type": "execute_result"
    },
    {
     "data": {
      "image/png": "[encoded data removed]",
      "text/plain": [
       "<Figure size 360x360 with 1 Axes>"
      ]
     },
     "metadata": {},
     "output_type": "display_data"
    }
   ],
   "source": [
    "heights.scatter('Parent Average', 'Child')\n",
    "plots.plot([67.5, 67.5], [50,85], color = 'red', lw=2)\n",
    "plots.plot([68.5, 68.5], [50,85], color = 'red', lw=2)"
   ]
  },
  {
   "cell_type": "code",
   "execution_count": 29,
   "id": "944af14c",
   "metadata": {},
   "outputs": [
    {
     "data": {
      "text/plain": [
       "67.62"
      ]
     },
     "execution_count": 29,
     "metadata": {},
     "output_type": "execute_result"
    }
   ],
   "source": [
    "nearby = heights.where('Parent Average', are.between(67.5, 68.5))\n",
    "nearby_mean = np.average(nearby.column('Child'))\n",
    "nearby_mean"
   ]
  },
  {
   "cell_type": "code",
   "execution_count": 30,
   "id": "4b9524a4",
   "metadata": {},
   "outputs": [
    {
     "data": {
      "image/png": "[encoded data removed]",
      "text/plain": [
       "<Figure size 360x360 with 1 Axes>"
      ]
     },
     "metadata": {},
     "output_type": "display_data"
    }
   ],
   "source": [
    "heights.scatter('Parent Average', 'Child')\n",
    "plots.plot([67.5, 67.5], [50,85], color = 'red', lw=2)\n",
    "plots.plot([68.5, 68.5], [50,85], color = 'red', lw=2)\n",
    "plots.scatter(68, nearby_mean, color='red', s=50);"
   ]
  },
  {
   "cell_type": "code",
   "execution_count": 31,
   "id": "c71e1550",
   "metadata": {},
   "outputs": [],
   "source": [
    "def predict(h):\n",
    "    nearby = heights.where('Parent Average', are.between(h-1/2, h+1/2))\n",
    "    nearby_mean = np.average(nearby.column('Child'))\n",
    "    return nearby_mean"
   ]
  },
  {
   "cell_type": "code",
   "execution_count": 35,
   "id": "3fc55805",
   "metadata": {},
   "outputs": [
    {
     "data": {
      "text/plain": [
       "68.56190476190476"
      ]
     },
     "execution_count": 35,
     "metadata": {},
     "output_type": "execute_result"
    }
   ],
   "source": [
    "predict(70)"
   ]
  },
  {
   "cell_type": "code",
   "execution_count": 36,
   "id": "1d9fac03",
   "metadata": {},
   "outputs": [
    {
     "data": {
      "text/plain": [
       "70.1"
      ]
     },
     "execution_count": 36,
     "metadata": {},
     "output_type": "execute_result"
    }
   ],
   "source": [
    "predict(73)"
   ]
  },
  {
   "cell_type": "code",
   "execution_count": null,
   "id": "d2023bb4",
   "metadata": {},
   "outputs": [],
   "source": [
    "#apply (function is applied to every value of the column)"
   ]
  },
  {
   "cell_type": "code",
   "execution_count": 38,
   "id": "00713139",
   "metadata": {},
   "outputs": [],
   "source": [
    "predicted_height = heights.apply(predict, 'Parent Average')"
   ]
  },
  {
   "cell_type": "code",
   "execution_count": 41,
   "id": "3678ff43",
   "metadata": {},
   "outputs": [
    {
     "data": {
      "text/html": [
       "<table border=\"1\" class=\"dataframe\">\n",
       "    <thead>\n",
       "        <tr>\n",
       "            <th>Parent Average</th> <th>Child</th> <th>Gender</th> <th>Prediction</th>\n",
       "        </tr>\n",
       "    </thead>\n",
       "    <tbody>\n",
       "        <tr>\n",
       "            <td>72.75         </td> <td>73.2 </td> <td>male  </td> <td>70.1      </td>\n",
       "        </tr>\n",
       "        <tr>\n",
       "            <td>72.75         </td> <td>69.2 </td> <td>female</td> <td>70.1      </td>\n",
       "        </tr>\n",
       "        <tr>\n",
       "            <td>72.75         </td> <td>69   </td> <td>female</td> <td>70.1      </td>\n",
       "        </tr>\n",
       "        <tr>\n",
       "            <td>72.75         </td> <td>69   </td> <td>female</td> <td>70.1      </td>\n",
       "        </tr>\n",
       "        <tr>\n",
       "            <td>71            </td> <td>73.5 </td> <td>male  </td> <td>70.4158   </td>\n",
       "        </tr>\n",
       "        <tr>\n",
       "            <td>71            </td> <td>72.5 </td> <td>male  </td> <td>70.4158   </td>\n",
       "        </tr>\n",
       "        <tr>\n",
       "            <td>71            </td> <td>65.5 </td> <td>female</td> <td>70.4158   </td>\n",
       "        </tr>\n",
       "        <tr>\n",
       "            <td>71            </td> <td>65.5 </td> <td>female</td> <td>70.4158   </td>\n",
       "        </tr>\n",
       "        <tr>\n",
       "            <td>69.5          </td> <td>71   </td> <td>male  </td> <td>68.5025   </td>\n",
       "        </tr>\n",
       "        <tr>\n",
       "            <td>69.5          </td> <td>68   </td> <td>female</td> <td>68.5025   </td>\n",
       "        </tr>\n",
       "    </tbody>\n",
       "</table>\n",
       "<p>... (924 rows omitted)</p>"
      ],
      "text/plain": [
       "Parent Average | Child | Gender | Prediction\n",
       "72.75          | 73.2  | male   | 70.1\n",
       "72.75          | 69.2  | female | 70.1\n",
       "72.75          | 69    | female | 70.1\n",
       "72.75          | 69    | female | 70.1\n",
       "71             | 73.5  | male   | 70.4158\n",
       "71             | 72.5  | male   | 70.4158\n",
       "71             | 65.5  | female | 70.4158\n",
       "71             | 65.5  | female | 70.4158\n",
       "69.5           | 71    | male   | 68.5025\n",
       "69.5           | 68    | female | 68.5025\n",
       "... (924 rows omitted)"
      ]
     },
     "execution_count": 41,
     "metadata": {},
     "output_type": "execute_result"
    }
   ],
   "source": [
    "heights = heights.with_column('Prediction', predicted_height)\n",
    "heights"
   ]
  },
  {
   "cell_type": "code",
   "execution_count": null,
   "id": "f080a47b",
   "metadata": {},
   "outputs": [],
   "source": []
  },
  {
   "cell_type": "code",
   "execution_count": 43,
   "id": "a441c3cc",
   "metadata": {},
   "outputs": [
    {
     "data": {
      "image/png": "[encoded data removed]",
      "text/plain": [
       "<Figure size 360x360 with 1 Axes>"
      ]
     },
     "metadata": {},
     "output_type": "display_data"
    }
   ],
   "source": [
    "heights.select('Parent Average', 'Child', 'Prediction').scatter('Parent Average')"
   ]
  },
  {
   "cell_type": "code",
   "execution_count": 45,
   "id": "46983291",
   "metadata": {},
   "outputs": [],
   "source": [
    "def difference(x,y):\n",
    "    return x-y"
   ]
  },
  {
   "cell_type": "code",
   "execution_count": 49,
   "id": "db9bc729",
   "metadata": {},
   "outputs": [
    {
     "data": {
      "text/plain": [
       "array([-3.10000000e+00,  9.00000000e-01,  1.10000000e+00,  1.10000000e+00,\n",
       "       -3.08421053e+00, -2.08421053e+00,  4.91578947e+00,  4.91578947e+00,\n",
       "       -2.49750000e+00,  5.02500000e-01, -1.99750000e+00,  2.50000000e-03,\n",
       "        1.50250000e+00,  4.00250000e+00,  5.50250000e+00, -5.51769547e+00,\n",
       "       -2.51769547e+00, -1.51769547e+00, -1.76954733e-02,  3.98230453e+00,\n",
       "        3.98230453e+00,  9.15789474e-01, -6.08421053e+00, -3.58421053e+00,\n",
       "       -2.58421053e+00, -2.58421053e+00, -8.42105263e-02,  6.41578947e+00,\n",
       "       -1.21500000e+00,  1.28500000e+00,  3.28500000e+00,  3.28500000e+00,\n",
       "        3.16052632e+00, -6.38000000e+00, -2.38000000e+00, -3.80000000e-01,\n",
       "        6.20000000e-01,  6.20000000e-01,  1.62000000e+00,  4.12000000e+00,\n",
       "        4.62000000e+00,  2.46184211e+00, -2.43809524e+00,  6.56190476e+00,\n",
       "        5.61904762e-01,  1.56190476e+00, -2.33947368e+00, -1.83947368e+00,\n",
       "        1.96052632e+00, -4.01194030e+00, -2.51194030e+00, -2.21194030e+00,\n",
       "       -2.21194030e+00, -1.21194030e+00, -7.11940299e-01,  1.48805970e+00,\n",
       "        3.48805970e+00,  4.48805970e+00, -5.94534884e+00, -4.94534884e+00,\n",
       "       -3.44534884e+00,  5.55465116e+00,  1.55465116e+00,  5.75465116e+00,\n",
       "        1.53142857e+00,  3.03142857e+00,  3.53142857e+00,  5.00160000e+00,\n",
       "       -2.78421053e+00, -2.58421053e+00, -2.28421053e+00,  4.15789474e-01,\n",
       "        1.41578947e+00,  1.91578947e+00,  2.41578947e+00,  4.41578947e+00,\n",
       "       -4.43809524e+00,  6.19047619e-02,  5.61904762e-01, -4.49750000e+00,\n",
       "       -2.49750000e+00,  1.50250000e+00, -6.66857143e+00, -2.96857143e+00,\n",
       "       -1.96857143e+00,  1.53142857e+00,  2.03142857e+00,  2.53142857e+00,\n",
       "        2.53142857e+00,  2.55465116e+00,  1.62000000e+00,  4.62000000e+00,\n",
       "       -3.03815789e+00, -3.03815789e+00, -1.53815789e+00,  2.46184211e+00,\n",
       "        4.46184211e+00, -1.53815789e+00,  4.61842105e-01,  4.46184211e+00,\n",
       "       -5.53815789e+00,  4.61842105e-01, -3.03815789e+00, -2.53815789e+00,\n",
       "        9.61842105e-01,  4.46184211e+00,  1.20000000e-01,  4.20000000e-01,\n",
       "        9.20000000e-01,  2.76194690e+00, -3.93790323e+00, -2.93790323e+00,\n",
       "       -2.93790323e+00,  1.06209677e+00,  2.06209677e+00,  2.06209677e+00,\n",
       "       -7.23805310e+00, -5.23805310e+00, -2.23805310e+00, -7.38053097e-01,\n",
       "        3.26194690e+00, -5.23805310e+00, -4.73805310e+00, -4.73805310e+00,\n",
       "       -3.23805310e+00, -1.23805310e+00,  5.36475410e-01, -9.43809524e+00,\n",
       "       -5.43809524e+00, -4.43809524e+00, -3.43809524e+00,  1.56190476e+00,\n",
       "       -5.21194030e+00, -5.01194030e+00, -1.01194030e+00,  9.88059701e-01,\n",
       "       -2.46857143e+00,  5.31428571e-01,  5.31428571e-01,  1.03142857e+00,\n",
       "       -2.46857143e+00, -1.46857143e+00, -9.68571429e-01,  1.53142857e+00,\n",
       "        3.03142857e+00,  4.53142857e+00, -3.46857143e+00,  5.31428571e-01,\n",
       "       -8.46857143e+00, -4.46857143e+00, -3.46857143e+00,  1.53142857e+00,\n",
       "        1.53142857e+00, -2.41318681e+00, -4.27619048e+00, -4.27619048e+00,\n",
       "       -3.27619048e+00, -1.27619048e+00,  1.72380952e+00,  2.72380952e+00,\n",
       "       -5.46857143e+00,  2.33142857e+00, -7.76190476e-01,  2.38095238e-02,\n",
       "       -3.80000000e-01, -3.80000000e-01,  5.62000000e+00, -5.38157895e-01,\n",
       "       -5.38157895e-01, -3.81578947e-02,  9.61842105e-01,  9.61842105e-01,\n",
       "        1.46184211e+00,  1.96184211e+00,  2.46184211e+00, -4.29840000e+00,\n",
       "       -3.29840000e+00, -2.79840000e+00,  7.01600000e-01, -5.38157895e-01,\n",
       "       -5.38157895e-01, -5.38157895e-01, -4.38000000e+00, -3.38000000e+00,\n",
       "       -2.38000000e+00,  1.62000000e+00,  3.12000000e+00,  3.12000000e+00,\n",
       "        5.62000000e+00, -5.44479167e+00,  5.55520833e+00, -4.02723735e-01,\n",
       "        2.59727626e+00, -3.93790323e+00,  6.20967742e-02,  1.06209677e+00,\n",
       "        2.06209677e+00,  3.56209677e+00, -4.23805310e+00, -3.23805310e+00,\n",
       "       -3.23805310e+00,  2.76194690e+00,  1.76194690e+00,  1.76194690e+00,\n",
       "        2.76194690e+00,  3.76194690e+00,  3.76194690e+00, -4.23805310e+00,\n",
       "       -4.23805310e+00, -3.23805310e+00,  3.26194690e+00, -4.76352459e+00,\n",
       "       -3.76352459e+00,  1.73647541e+00,  3.73647541e+00,  4.73647541e+00,\n",
       "       -5.76352459e+00, -4.26352459e+00, -4.26352459e+00,  1.73647541e+00,\n",
       "        6.23647541e+00, -3.51769547e+00,  2.48230453e+00,  2.48230453e+00,\n",
       "        2.48230453e+00,  3.98230453e+00, -4.26352459e+00, -3.76352459e+00,\n",
       "       -2.76352459e+00, -2.76352459e+00,  2.36475410e-01,  1.73647541e+00,\n",
       "        2.23647541e+00,  4.08640777e+00, -6.18426966e+00, -3.68426966e+00,\n",
       "       -2.49750000e+00, -1.49750000e+00, -4.97500000e-01, -4.97500000e-01,\n",
       "       -1.49750000e+00, -1.97500000e-01,  5.02500000e-01,  2.50250000e+00,\n",
       "        4.50250000e+00,  6.50250000e+00, -7.01194030e+00, -2.46857143e+00,\n",
       "       -1.46857143e+00,  1.53142857e+00,  3.53142857e+00,  7.53142857e+00,\n",
       "        3.14285714e-02, -5.27619048e+00, -4.27619048e+00, -4.27619048e+00,\n",
       "        1.22380952e+00, -1.47619048e+00,  5.23809524e-01,  1.22380952e+00,\n",
       "        1.72380952e+00,  1.72380952e+00,  3.52380952e+00,  4.02380952e+00,\n",
       "       -4.44479167e+00, -2.64479167e+00, -1.44479167e+00, -9.44791667e-01,\n",
       "       -4.44791667e-01,  2.55520833e+00,  6.05520833e+00,  6.55520833e+00,\n",
       "        6.55520833e+00, -5.53815789e+00, -4.53815789e+00, -3.03815789e+00,\n",
       "        2.46184211e+00,  2.46184211e+00,  2.96184211e+00,  4.46184211e+00,\n",
       "        5.46184211e+00,  4.61842105e-01,  2.46184211e+00,  2.96184211e+00,\n",
       "        4.96184211e+00,  4.96184211e+00, -2.53815789e+00, -2.53815789e+00,\n",
       "        4.61842105e-01,  2.46184211e+00,  2.46184211e+00,  4.46184211e+00,\n",
       "       -1.15381579e+01, -7.53815789e+00, -3.53815789e+00, -1.53815789e+00,\n",
       "        4.61842105e-01,  1.76184211e+00,  5.46184211e+00, -5.53815789e+00,\n",
       "       -5.03815789e+00,  2.46184211e+00, -1.53815789e+00, -1.53815789e+00,\n",
       "       -4.72887931e+00, -2.72887931e+00, -1.42887931e+00,  7.71120690e-01,\n",
       "        1.77112069e+00,  2.57112069e+00,  2.77112069e+00, -3.93805310e+00,\n",
       "       -3.23805310e+00, -1.23805310e+00, -2.38053097e-01,  7.61946903e-01,\n",
       "        1.76194690e+00, -2.38053097e-01, -3.23805310e+00, -1.23805310e+00,\n",
       "        6.19469027e-02,  1.26194690e+00, -4.90272374e+00, -2.90272374e+00,\n",
       "        4.59727626e+00,  5.89727626e+00,  6.99727626e+00, -6.93790323e+00,\n",
       "       -2.43790323e+00, -1.93790323e+00, -9.37903226e-01, -9.37903226e-01,\n",
       "       -9.37903226e-01,  1.56209677e+00,  2.06209677e+00,  7.46184211e+00,\n",
       "       -1.23805310e+00,  1.76194690e+00,  2.76194690e+00,  4.76194690e+00,\n",
       "       -4.23805310e+00, -3.23805310e+00, -3.23805310e+00, -3.23805310e+00,\n",
       "       -2.73805310e+00, -1.73805310e+00, -2.23805310e+00,  1.76194690e+00,\n",
       "        2.76194690e+00, -3.25890411e+00, -2.58904110e-01,  1.24109589e+00,\n",
       "        3.04109589e+00,  3.54109589e+00,  4.24109589e+00,  4.54109589e+00,\n",
       "        5.74109589e+00, -3.51769547e+00, -2.01769547e+00,  9.82304527e-01,\n",
       "        2.98230453e+00, -6.01769547e+00, -2.51769547e+00, -5.17695473e-01,\n",
       "        1.98230453e+00,  2.48230453e+00, -4.51769547e+00, -1.01769547e+00,\n",
       "       -1.01769547e+00,  2.98230453e+00, -1.76352459e+00, -7.63524590e-01,\n",
       "        2.53647541e+00,  4.23647541e+00, -3.76352459e+00, -2.63524590e-01,\n",
       "        4.23647541e+00,  5.23647541e+00, -5.77621145e+00, -3.77621145e+00,\n",
       "       -3.27621145e+00, -3.27621145e+00, -1.77621145e+00,  1.22378855e+00,\n",
       "        2.22378855e+00,  3.22378855e+00, -4.46352459e+00, -3.46352459e+00,\n",
       "       -2.96352459e+00,  1.03647541e+00,  2.23647541e+00,  2.73647541e+00,\n",
       "        3.03647541e+00, -5.77621145e+00, -5.77621145e+00,  6.22378855e+00,\n",
       "       -5.08965517e+00, -8.89655172e-01, -1.16170213e+00,  1.33829787e+00,\n",
       "        8.38297872e-01,  2.83829787e+00,  8.38297872e-01,  8.38297872e-01,\n",
       "       -6.29350649e+00,  7.06493506e-01,  2.20649351e+00, -7.08500000e+00,\n",
       "       -1.08500000e+00, -1.08500000e+00, -8.50000000e-02,  1.91500000e+00,\n",
       "       -6.94534884e+00, -2.94534884e+00, -1.94534884e+00,  2.05465116e+00,\n",
       "        2.05465116e+00,  2.55465116e+00,  3.05465116e+00,  3.05465116e+00,\n",
       "        4.05465116e+00,  4.05465116e+00,  3.62000000e+00, -5.53815789e+00,\n",
       "       -4.53815789e+00, -4.23815789e+00, -4.03815789e+00,  1.96184211e+00,\n",
       "        2.46184211e+00,  4.76184211e+00,  4.96184211e+00, -3.73815789e+00,\n",
       "       -3.53815789e+00, -2.53815789e+00, -7.38750000e+00, -6.38750000e+00,\n",
       "       -4.38750000e+00, -8.87500000e-01, -2.53815789e+00, -1.03815789e+00,\n",
       "       -5.38157895e-01,  2.46184211e+00,  4.46184211e+00,  4.96184211e+00,\n",
       "       -5.44479167e+00, -3.44479167e+00, -2.94479167e+00, -2.94479167e+00,\n",
       "        5.55208333e-01,  1.55520833e+00,  6.55520833e+00, -2.88000000e+00,\n",
       "        1.20000000e-01,  3.12000000e+00,  3.62000000e+00, -3.44479167e+00,\n",
       "       -9.44791667e-01,  5.52083333e-02,  1.55520833e+00,  4.55520833e+00,\n",
       "        4.55520833e+00, -3.44479167e+00, -3.44479167e+00, -2.94479167e+00,\n",
       "       -2.94479167e+00,  1.05520833e+00,  2.05520833e+00,  3.05520833e+00,\n",
       "       -5.53815789e+00, -4.53815789e+00, -1.53815789e+00, -1.53815789e+00,\n",
       "        9.61842105e-01,  1.96184211e+00,  1.96184211e+00,  2.46184211e+00,\n",
       "        3.46184211e+00, -3.23805310e+00, -1.73805310e+00, -2.38053097e-01,\n",
       "        1.76194690e+00,  2.76194690e+00,  3.26194690e+00,  5.76194690e+00,\n",
       "       -2.93805310e+00, -1.23805310e+00,  6.76194690e+00,  1.56194690e+00,\n",
       "        2.26194690e+00,  3.06194690e+00,  6.76194690e+00, -5.18559322e+00,\n",
       "        1.44067797e-02,  1.51440678e+00,  3.01440678e+00,  7.23788546e-01,\n",
       "       -2.91359223e+00, -1.41359223e+00,  2.58640777e+00, -5.91359223e+00,\n",
       "       -6.91359223e+00, -3.91359223e+00, -3.91359223e+00,  2.08640777e+00,\n",
       "        8.64077670e-02,  4.08640777e+00, -4.27621145e+00, -7.76211454e-01,\n",
       "        2.23788546e-01,  1.22378855e+00,  3.22378855e+00,  4.22378855e+00,\n",
       "        5.22378855e+00, -4.27621145e+00,  2.52378855e+00,  3.22378855e+00,\n",
       "        3.57307692e+00, -6.70659341e+00, -5.70659341e+00, -2.70659341e+00,\n",
       "       -6.88965517e+00, -4.88965517e+00, -4.88965517e+00, -2.88965517e+00,\n",
       "        3.11034483e+00, -5.70659341e+00, -3.70659341e+00, -1.50659341e+00,\n",
       "        1.09340659e+00,  1.59340659e+00,  1.79340659e+00,  2.79340659e+00,\n",
       "        2.79340659e+00,  3.79340659e+00,  4.29340659e+00,  4.79340659e+00,\n",
       "       -4.70659341e+00, -3.70659341e+00, -3.70659341e+00, -2.70659341e+00,\n",
       "        2.79340659e+00,  3.79340659e+00,  3.79340659e+00,  4.29340659e+00,\n",
       "       -5.88965517e+00, -1.88965517e+00,  1.10344828e-01,  1.10344828e-01,\n",
       "       -3.84067797e+00, -3.34067797e+00, -2.84067797e+00,  3.15932203e+00,\n",
       "        4.15932203e+00, -2.16170213e+00, -2.16170213e+00, -1.66170213e+00,\n",
       "        1.83829787e+00,  2.83829787e+00,  2.83829787e+00,  2.33829787e+00,\n",
       "        3.83829787e+00,  3.83829787e+00, -5.18426966e+00, -2.68426966e+00,\n",
       "        2.81573034e+00, -3.68426966e+00, -6.84269663e-01,  3.61573034e+00,\n",
       "        4.81573034e+00, -3.82560976e+00, -2.33947368e+00,  6.96052632e+00,\n",
       "       -5.44479167e+00, -3.44479167e+00,  5.55208333e-01, -2.53815789e+00,\n",
       "       -1.53815789e+00, -1.53815789e+00, -1.23815789e+00, -1.03815789e+00,\n",
       "       -1.03815789e+00, -5.38157895e-01, -5.38157895e-01, -5.38157895e-01,\n",
       "        1.26184211e+00,  4.26184211e+00, -1.26352459e+00,  2.36475410e-01,\n",
       "        4.82304527e-01,  2.48230453e+00, -5.21769547e+00, -5.01769547e+00,\n",
       "       -4.21769547e+00,  9.82304527e-01, -1.76954733e-02,  1.28230453e+00,\n",
       "        4.98230453e+00, -5.76352459e+00, -5.76352459e+00, -1.76352459e+00,\n",
       "        2.36475410e-01, -2.71769547e+00, -1.51769547e+00,  4.82304527e-01,\n",
       "        4.82304527e-01,  4.48230453e+00,  4.98230453e+00,  5.48230453e+00,\n",
       "        6.48230453e+00, -5.51769547e+00, -4.01769547e+00, -2.21769547e+00,\n",
       "       -2.01769547e+00, -1.21769547e+00,  2.48230453e+00,  2.98230453e+00,\n",
       "        3.48230453e+00, -4.91359223e+00, -1.91359223e+00, -1.91359223e+00,\n",
       "       -9.13592233e-01,  1.08640777e+00,  2.08640777e+00,  3.08640777e+00,\n",
       "        3.08640777e+00,  4.08640777e+00,  5.08640777e+00,  8.64077670e-02,\n",
       "        3.08640777e+00,  5.86407767e-01,  4.08640777e+00, -5.11359223e+00,\n",
       "       -5.11359223e+00, -2.91359223e+00, -2.41359223e+00,  3.58640777e+00,\n",
       "        4.22378855e+00, -2.91359223e+00, -9.13592233e-01,  8.64077670e-02,\n",
       "        8.64077670e-02,  8.64077670e-02,  1.08640777e+00,  1.08640777e+00,\n",
       "        1.08640777e+00,  2.08640777e+00,  3.08640777e+00, -4.38965517e+00,\n",
       "       -3.88965517e+00, -1.88965517e+00,  1.10344828e-01,  1.10344828e-01,\n",
       "        1.10344828e-01,  4.11034483e+00,  4.61034483e+00, -7.41359223e+00,\n",
       "       -3.91359223e+00, -3.41359223e+00,  5.86407767e-01, -8.89655172e-01,\n",
       "       -3.88965517e+00, -1.88965517e+00,  1.61034483e+00,  2.11034483e+00,\n",
       "       -4.88965517e+00, -1.88965517e+00,  1.10344828e-01,  6.10344828e-01,\n",
       "        1.11034483e+00,  3.11034483e+00,  4.11034483e+00,  4.11034483e+00,\n",
       "       -8.89655172e-01, -8.89655172e-01,  1.10344828e-01,  2.11034483e+00,\n",
       "        2.61034483e+00,  5.11034483e+00, -2.11359223e+00, -3.88965517e+00,\n",
       "       -3.92692308e+00, -2.92692308e+00, -9.26923077e-01,  5.73076923e-01,\n",
       "        1.57307692e+00, -2.34067797e+00, -1.60287770e+00,  4.39712230e+00,\n",
       "       -3.40677966e-01, -3.18426966e+00, -2.68426966e+00,  1.31573034e+00,\n",
       "        1.81573034e+00,  2.31573034e+00, -1.49350649e+00,  9.15000000e-01,\n",
       "        3.91500000e+00,  3.91500000e+00,  4.91500000e+00,  4.91500000e+00,\n",
       "        4.91500000e+00,  8.91500000e+00, -2.58500000e+00, -2.08500000e+00,\n",
       "       -1.58500000e+00,  4.91500000e+00, -4.39272727e+00, -2.89000000e+00,\n",
       "        1.10000000e-01,  4.10000000e-01,  1.11000000e+00,  1.11000000e+00,\n",
       "        2.11000000e+00,  1.10000000e-01,  1.10000000e-01,  3.11000000e+00,\n",
       "        4.11000000e+00, -6.18559322e+00, -6.18559322e+00, -4.98559322e+00,\n",
       "        1.01440678e+00,  3.01440678e+00, -4.51769547e+00, -6.76352459e+00,\n",
       "       -4.76352459e+00, -4.46352459e+00, -3.76352459e+00, -2.76352459e+00,\n",
       "       -1.76352459e+00,  7.36475410e-01,  4.23647541e+00, -3.61359223e+00,\n",
       "       -1.41359223e+00,  5.86407767e-01,  1.08640777e+00,  1.58640777e+00,\n",
       "        2.58640777e+00, -3.77621145e+00, -2.77621145e+00,  7.23788546e-01,\n",
       "        7.23788546e-01,  3.22378855e+00, -3.77621145e+00, -1.47621145e+00,\n",
       "        3.22378855e+00,  6.22378855e+00,  1.08640777e+00,  4.08640777e+00,\n",
       "        4.08640777e+00, -4.77621145e+00, -2.77621145e+00,  2.22378855e+00,\n",
       "        2.22378855e+00,  3.22378855e+00,  3.22378855e+00,  3.22378855e+00,\n",
       "        3.22378855e+00,  3.22378855e+00,  3.72378855e+00,  4.22378855e+00,\n",
       "       -5.38965517e+00, -3.88965517e+00, -8.89655172e-01, -8.89655172e-01,\n",
       "       -4.84067797e+00, -4.04067797e+00, -3.04067797e+00, -2.34067797e+00,\n",
       "       -1.84067797e+00, -8.40677966e-01,  6.59322034e-01,  2.65932203e+00,\n",
       "       -3.16170213e+00, -2.16170213e+00,  2.83829787e+00, -4.32560976e+00,\n",
       "       -3.82560976e+00, -3.32560976e+00, -2.82560976e+00, -3.25609756e-01,\n",
       "       -2.08500000e+00, -4.26352459e+00, -4.26352459e+00, -7.63524590e-01,\n",
       "        2.36475410e-01,  2.36475410e-01,  4.23647541e+00,  4.23647541e+00,\n",
       "        4.73647541e+00, -5.76352459e+00,  1.23647541e+00,  1.23647541e+00,\n",
       "       -7.63524590e-01,  2.23647541e+00,  2.23647541e+00,  4.23647541e+00,\n",
       "        6.23647541e+00,  6.23647541e+00,  8.64077670e-02,  1.08640777e+00,\n",
       "       -9.13592233e-01, -4.13592233e-01,  5.86407767e-01, -5.91359223e+00,\n",
       "       -1.91359223e+00,  8.64077670e-02,  1.08640777e+00,  4.08640777e+00,\n",
       "        5.08640777e+00, -2.40659341e+00, -2.20659341e+00, -2.06593407e-01,\n",
       "        1.79340659e+00,  3.79340659e+00,  5.79340659e+00,  5.79340659e+00,\n",
       "        8.79340659e+00, -5.70659341e+00, -4.70659341e+00, -7.06593407e-01,\n",
       "        2.93406593e-01,  1.29340659e+00, -4.68426966e+00,  1.17439024e+00,\n",
       "        3.67439024e+00, -1.52560976e+00, -1.32560976e+00,  6.74390244e-01,\n",
       "        6.74390244e-01,  6.74390244e-01,  2.67439024e+00, -4.68426966e+00,\n",
       "       -2.68426966e+00,  1.81573034e+00,  2.81573034e+00,  2.81573034e+00,\n",
       "        2.81573034e+00,  2.81573034e+00, -5.39272727e+00, -3.64827586e+00,\n",
       "       -2.64827586e+00, -6.48275862e-01,  4.35172414e+00, -6.48275862e-01,\n",
       "       -4.03333333e+00, -3.03333333e+00, -2.53333333e+00, -2.03333333e+00,\n",
       "       -1.73333333e+00, -1.53333333e+00, -1.03333333e+00, -1.03333333e+00,\n",
       "       -3.33333333e-02,  9.66666667e-01,  1.96666667e+00,  2.96666667e+00,\n",
       "        3.96666667e+00,  5.96666667e+00,  6.96666667e+00, -4.13592233e-01,\n",
       "        8.64077670e-02,  8.64077670e-02,  1.08640777e+00,  3.08640777e+00,\n",
       "        3.11034483e+00,  3.11034483e+00,  3.11034483e+00,  6.11034483e+00,\n",
       "       -8.89655172e-01,  1.10344828e-01,  1.11034483e+00,  1.11034483e+00,\n",
       "        5.11034483e+00, -3.16170213e+00, -2.16170213e+00, -2.16170213e+00,\n",
       "        8.38297872e-01,  8.38297872e-01,  3.83829787e+00,  3.83829787e+00,\n",
       "        4.83829787e+00,  6.83829787e+00, -4.54067797e+00,  6.59322034e-01,\n",
       "       -3.36170213e+00, -3.16170213e+00, -2.16170213e+00, -1.86170213e+00,\n",
       "        1.33829787e+00,  5.33829787e+00, -1.68426966e+00, -1.68426966e+00,\n",
       "        1.31573034e+00,  1.31573034e+00,  2.81573034e+00,  4.81573034e+00,\n",
       "       -5.08500000e+00,  1.91500000e+00, -1.08500000e+00, -1.08500000e+00,\n",
       "        1.91500000e+00, -5.79350649e+00, -5.79350649e+00, -3.79350649e+00,\n",
       "        1.70649351e+00, -3.77037037e+00, -3.77037037e+00, -2.77037037e+00,\n",
       "       -2.77037037e+00,  2.22962963e+00, -6.58500000e+00, -3.08500000e+00,\n",
       "       -5.85000000e-01,  9.15000000e-01,  2.91500000e+00,  2.91500000e+00,\n",
       "        3.91500000e+00, -5.58500000e+00, -3.08500000e+00, -2.08500000e+00,\n",
       "       -8.50000000e-02,  9.15000000e-01,  9.15000000e-01,  4.91500000e+00,\n",
       "        6.10000000e-01, -3.00000000e+00,  3.00000000e+00, -3.75200000e+00,\n",
       "        1.24800000e+00,  9.15000000e-01,  2.91500000e+00,  3.91500000e+00,\n",
       "       -2.27037037e+00,  7.22962963e+00])"
      ]
     },
     "execution_count": 49,
     "metadata": {},
     "output_type": "execute_result"
    }
   ],
   "source": [
    "pred_errs = heights.apply(difference, 'Prediction', 'Child')\n",
    "pred_errs"
   ]
  },
  {
   "cell_type": "code",
   "execution_count": 53,
   "id": "b11e64d3",
   "metadata": {},
   "outputs": [
    {
     "data": {
      "text/html": [
       "<table border=\"1\" class=\"dataframe\">\n",
       "    <thead>\n",
       "        <tr>\n",
       "            <th>Parent Average</th> <th>Child</th> <th>Gender</th> <th>Prediction</th> <th>errors</th>\n",
       "        </tr>\n",
       "    </thead>\n",
       "    <tbody>\n",
       "        <tr>\n",
       "            <td>72.75         </td> <td>73.2 </td> <td>male  </td> <td>70.1      </td> <td>-3.1    </td>\n",
       "        </tr>\n",
       "        <tr>\n",
       "            <td>72.75         </td> <td>69.2 </td> <td>female</td> <td>70.1      </td> <td>0.9     </td>\n",
       "        </tr>\n",
       "        <tr>\n",
       "            <td>72.75         </td> <td>69   </td> <td>female</td> <td>70.1      </td> <td>1.1     </td>\n",
       "        </tr>\n",
       "        <tr>\n",
       "            <td>72.75         </td> <td>69   </td> <td>female</td> <td>70.1      </td> <td>1.1     </td>\n",
       "        </tr>\n",
       "        <tr>\n",
       "            <td>71            </td> <td>73.5 </td> <td>male  </td> <td>70.4158   </td> <td>-3.08421</td>\n",
       "        </tr>\n",
       "        <tr>\n",
       "            <td>71            </td> <td>72.5 </td> <td>male  </td> <td>70.4158   </td> <td>-2.08421</td>\n",
       "        </tr>\n",
       "        <tr>\n",
       "            <td>71            </td> <td>65.5 </td> <td>female</td> <td>70.4158   </td> <td>4.91579 </td>\n",
       "        </tr>\n",
       "        <tr>\n",
       "            <td>71            </td> <td>65.5 </td> <td>female</td> <td>70.4158   </td> <td>4.91579 </td>\n",
       "        </tr>\n",
       "        <tr>\n",
       "            <td>69.5          </td> <td>71   </td> <td>male  </td> <td>68.5025   </td> <td>-2.4975 </td>\n",
       "        </tr>\n",
       "        <tr>\n",
       "            <td>69.5          </td> <td>68   </td> <td>female</td> <td>68.5025   </td> <td>0.5025  </td>\n",
       "        </tr>\n",
       "    </tbody>\n",
       "</table>\n",
       "<p>... (924 rows omitted)</p>"
      ],
      "text/plain": [
       "Parent Average | Child | Gender | Prediction | errors\n",
       "72.75          | 73.2  | male   | 70.1       | -3.1\n",
       "72.75          | 69.2  | female | 70.1       | 0.9\n",
       "72.75          | 69    | female | 70.1       | 1.1\n",
       "72.75          | 69    | female | 70.1       | 1.1\n",
       "71             | 73.5  | male   | 70.4158    | -3.08421\n",
       "71             | 72.5  | male   | 70.4158    | -2.08421\n",
       "71             | 65.5  | female | 70.4158    | 4.91579\n",
       "71             | 65.5  | female | 70.4158    | 4.91579\n",
       "69.5           | 71    | male   | 68.5025    | -2.4975\n",
       "69.5           | 68    | female | 68.5025    | 0.5025\n",
       "... (924 rows omitted)"
      ]
     },
     "execution_count": 53,
     "metadata": {},
     "output_type": "execute_result"
    }
   ],
   "source": [
    "heights = heights.with_columns('errors', pred_errs)\n",
    "heights"
   ]
  },
  {
   "cell_type": "code",
   "execution_count": 54,
   "id": "a6ea465a",
   "metadata": {},
   "outputs": [],
   "source": [
    "#Visualize the errors"
   ]
  },
  {
   "cell_type": "code",
   "execution_count": 55,
   "id": "eea3cb22",
   "metadata": {},
   "outputs": [
    {
     "data": {
      "image/png": "[encoded data removed]",
      "text/plain": [
       "<Figure size 432x288 with 1 Axes>"
      ]
     },
     "metadata": {},
     "output_type": "display_data"
    }
   ],
   "source": [
    "heights.hist('errors')"
   ]
  },
  {
   "cell_type": "code",
   "execution_count": 59,
   "id": "e421a0ff",
   "metadata": {},
   "outputs": [
    {
     "name": "stderr",
     "output_type": "stream",
     "text": [
      "c:\\users\\admin\\pycharmprojects\\lib\\site-packages\\datascience\\tables.py:920: VisibleDeprecationWarning: Creating an ndarray from ragged nested sequences (which is a list-or-tuple of lists-or-tuples-or ndarrays with different lengths or shapes) is deprecated. If you meant to do this, you must specify 'dtype=object' when creating the ndarray\n",
      "  values = np.array(tuple(values))\n"
     ]
    },
    {
     "data": {
      "image/png": "[encoded data removed]",
      "text/plain": [
       "<Figure size 432x288 with 1 Axes>"
      ]
     },
     "metadata": {},
     "output_type": "display_data"
    }
   ],
   "source": [
    "#group will take a column and mark a colour accordingly\n",
    "\n",
    "heights.hist('errors', group='Gender')"
   ]
  },
  {
   "cell_type": "code",
   "execution_count": null,
   "id": "19436329",
   "metadata": {},
   "outputs": [],
   "source": []
  },
  {
   "cell_type": "code",
   "execution_count": 66,
   "id": "f651225f",
   "metadata": {},
   "outputs": [],
   "source": [
    "def predict_smarter(h, g):\n",
    "    nearby = heights.where('Parent Average', are.between(h-1/2, h+1/2))\n",
    "    nearby_samegender = heights.where('Gender', g)\n",
    "    nearby_mean = np.average(nearby_samegender.column('Child'))\n",
    "    return nearby_mean"
   ]
  },
  {
   "cell_type": "code",
   "execution_count": 67,
   "id": "a4810f12",
   "metadata": {},
   "outputs": [
    {
     "data": {
      "text/plain": [
       "64.10397350993378"
      ]
     },
     "execution_count": 67,
     "metadata": {},
     "output_type": "execute_result"
    }
   ],
   "source": [
    "predict_smarter(68, 'female')"
   ]
  },
  {
   "cell_type": "code",
   "execution_count": 68,
   "id": "46ed93b0",
   "metadata": {},
   "outputs": [
    {
     "data": {
      "text/plain": [
       "69.23409563409565"
      ]
     },
     "execution_count": 68,
     "metadata": {},
     "output_type": "execute_result"
    }
   ],
   "source": [
    "predict_smarter(68, 'male')"
   ]
  },
  {
   "cell_type": "code",
   "execution_count": 72,
   "id": "b65fc223",
   "metadata": {},
   "outputs": [
    {
     "data": {
      "text/html": [
       "<table border=\"1\" class=\"dataframe\">\n",
       "    <thead>\n",
       "        <tr>\n",
       "            <th>Parent Average</th> <th>Child</th> <th>Gender</th> <th>Prediction</th> <th>errors</th> <th>Smarter Prediction</th>\n",
       "        </tr>\n",
       "    </thead>\n",
       "    <tbody>\n",
       "        <tr>\n",
       "            <td>72.75         </td> <td>73.2 </td> <td>male  </td> <td>70.1      </td> <td>-3.1    </td> <td>69.2341           </td>\n",
       "        </tr>\n",
       "        <tr>\n",
       "            <td>72.75         </td> <td>69.2 </td> <td>female</td> <td>70.1      </td> <td>0.9     </td> <td>64.104            </td>\n",
       "        </tr>\n",
       "        <tr>\n",
       "            <td>72.75         </td> <td>69   </td> <td>female</td> <td>70.1      </td> <td>1.1     </td> <td>64.104            </td>\n",
       "        </tr>\n",
       "        <tr>\n",
       "            <td>72.75         </td> <td>69   </td> <td>female</td> <td>70.1      </td> <td>1.1     </td> <td>64.104            </td>\n",
       "        </tr>\n",
       "        <tr>\n",
       "            <td>71            </td> <td>73.5 </td> <td>male  </td> <td>70.4158   </td> <td>-3.08421</td> <td>69.2341           </td>\n",
       "        </tr>\n",
       "        <tr>\n",
       "            <td>71            </td> <td>72.5 </td> <td>male  </td> <td>70.4158   </td> <td>-2.08421</td> <td>69.2341           </td>\n",
       "        </tr>\n",
       "        <tr>\n",
       "            <td>71            </td> <td>65.5 </td> <td>female</td> <td>70.4158   </td> <td>4.91579 </td> <td>64.104            </td>\n",
       "        </tr>\n",
       "        <tr>\n",
       "            <td>71            </td> <td>65.5 </td> <td>female</td> <td>70.4158   </td> <td>4.91579 </td> <td>64.104            </td>\n",
       "        </tr>\n",
       "        <tr>\n",
       "            <td>69.5          </td> <td>71   </td> <td>male  </td> <td>68.5025   </td> <td>-2.4975 </td> <td>69.2341           </td>\n",
       "        </tr>\n",
       "        <tr>\n",
       "            <td>69.5          </td> <td>68   </td> <td>female</td> <td>68.5025   </td> <td>0.5025  </td> <td>64.104            </td>\n",
       "        </tr>\n",
       "    </tbody>\n",
       "</table>\n",
       "<p>... (924 rows omitted)</p>"
      ],
      "text/plain": [
       "Parent Average | Child | Gender | Prediction | errors   | Smarter Prediction\n",
       "72.75          | 73.2  | male   | 70.1       | -3.1     | 69.2341\n",
       "72.75          | 69.2  | female | 70.1       | 0.9      | 64.104\n",
       "72.75          | 69    | female | 70.1       | 1.1      | 64.104\n",
       "72.75          | 69    | female | 70.1       | 1.1      | 64.104\n",
       "71             | 73.5  | male   | 70.4158    | -3.08421 | 69.2341\n",
       "71             | 72.5  | male   | 70.4158    | -2.08421 | 69.2341\n",
       "71             | 65.5  | female | 70.4158    | 4.91579  | 64.104\n",
       "71             | 65.5  | female | 70.4158    | 4.91579  | 64.104\n",
       "69.5           | 71    | male   | 68.5025    | -2.4975  | 69.2341\n",
       "69.5           | 68    | female | 68.5025    | 0.5025   | 64.104\n",
       "... (924 rows omitted)"
      ]
     },
     "execution_count": 72,
     "metadata": {},
     "output_type": "execute_result"
    }
   ],
   "source": [
    "smarter_predicted_heights = heights.apply(predict_smarter, 'Parent Average', 'Gender')\n",
    "heights = heights.with_column('Smarter Prediction', smarter_predicted_heights)\n",
    "heights"
   ]
  },
  {
   "cell_type": "code",
   "execution_count": 74,
   "id": "52c733ca",
   "metadata": {},
   "outputs": [
    {
     "data": {
      "text/html": [
       "<table border=\"1\" class=\"dataframe\">\n",
       "    <thead>\n",
       "        <tr>\n",
       "            <th>Parent Average</th> <th>Child</th> <th>Gender</th> <th>Prediction</th> <th>errors</th> <th>Smarter Prediction</th> <th>Smarter Errors</th>\n",
       "        </tr>\n",
       "    </thead>\n",
       "    <tbody>\n",
       "        <tr>\n",
       "            <td>72.75         </td> <td>73.2 </td> <td>male  </td> <td>70.1      </td> <td>-3.1    </td> <td>69.2341           </td> <td>-3.9659       </td>\n",
       "        </tr>\n",
       "        <tr>\n",
       "            <td>72.75         </td> <td>69.2 </td> <td>female</td> <td>70.1      </td> <td>0.9     </td> <td>64.104            </td> <td>-5.09603      </td>\n",
       "        </tr>\n",
       "        <tr>\n",
       "            <td>72.75         </td> <td>69   </td> <td>female</td> <td>70.1      </td> <td>1.1     </td> <td>64.104            </td> <td>-4.89603      </td>\n",
       "        </tr>\n",
       "        <tr>\n",
       "            <td>72.75         </td> <td>69   </td> <td>female</td> <td>70.1      </td> <td>1.1     </td> <td>64.104            </td> <td>-4.89603      </td>\n",
       "        </tr>\n",
       "        <tr>\n",
       "            <td>71            </td> <td>73.5 </td> <td>male  </td> <td>70.4158   </td> <td>-3.08421</td> <td>69.2341           </td> <td>-4.2659       </td>\n",
       "        </tr>\n",
       "        <tr>\n",
       "            <td>71            </td> <td>72.5 </td> <td>male  </td> <td>70.4158   </td> <td>-2.08421</td> <td>69.2341           </td> <td>-3.2659       </td>\n",
       "        </tr>\n",
       "        <tr>\n",
       "            <td>71            </td> <td>65.5 </td> <td>female</td> <td>70.4158   </td> <td>4.91579 </td> <td>64.104            </td> <td>-1.39603      </td>\n",
       "        </tr>\n",
       "        <tr>\n",
       "            <td>71            </td> <td>65.5 </td> <td>female</td> <td>70.4158   </td> <td>4.91579 </td> <td>64.104            </td> <td>-1.39603      </td>\n",
       "        </tr>\n",
       "        <tr>\n",
       "            <td>69.5          </td> <td>71   </td> <td>male  </td> <td>68.5025   </td> <td>-2.4975 </td> <td>69.2341           </td> <td>-1.7659       </td>\n",
       "        </tr>\n",
       "        <tr>\n",
       "            <td>69.5          </td> <td>68   </td> <td>female</td> <td>68.5025   </td> <td>0.5025  </td> <td>64.104            </td> <td>-3.89603      </td>\n",
       "        </tr>\n",
       "    </tbody>\n",
       "</table>\n",
       "<p>... (924 rows omitted)</p>"
      ],
      "text/plain": [
       "Parent Average | Child | Gender | Prediction | errors   | Smarter Prediction | Smarter Errors\n",
       "72.75          | 73.2  | male   | 70.1       | -3.1     | 69.2341            | -3.9659\n",
       "72.75          | 69.2  | female | 70.1       | 0.9      | 64.104             | -5.09603\n",
       "72.75          | 69    | female | 70.1       | 1.1      | 64.104             | -4.89603\n",
       "72.75          | 69    | female | 70.1       | 1.1      | 64.104             | -4.89603\n",
       "71             | 73.5  | male   | 70.4158    | -3.08421 | 69.2341            | -4.2659\n",
       "71             | 72.5  | male   | 70.4158    | -2.08421 | 69.2341            | -3.2659\n",
       "71             | 65.5  | female | 70.4158    | 4.91579  | 64.104             | -1.39603\n",
       "71             | 65.5  | female | 70.4158    | 4.91579  | 64.104             | -1.39603\n",
       "69.5           | 71    | male   | 68.5025    | -2.4975  | 69.2341            | -1.7659\n",
       "69.5           | 68    | female | 68.5025    | 0.5025   | 64.104             | -3.89603\n",
       "... (924 rows omitted)"
      ]
     },
     "execution_count": 74,
     "metadata": {},
     "output_type": "execute_result"
    }
   ],
   "source": [
    "smarter_pred_errs = heights.apply(difference, 'Smarter Prediction', 'Child')\n",
    "heights = heights.with_column('Smarter Errors', smarter_pred_errs)\n",
    "heights"
   ]
  },
  {
   "cell_type": "code",
   "execution_count": 76,
   "id": "9e907bf4",
   "metadata": {},
   "outputs": [
    {
     "name": "stderr",
     "output_type": "stream",
     "text": [
      "c:\\users\\admin\\pycharmprojects\\lib\\site-packages\\datascience\\tables.py:920: VisibleDeprecationWarning: Creating an ndarray from ragged nested sequences (which is a list-or-tuple of lists-or-tuples-or ndarrays with different lengths or shapes) is deprecated. If you meant to do this, you must specify 'dtype=object' when creating the ndarray\n",
      "  values = np.array(tuple(values))\n"
     ]
    },
    {
     "data": {
      "image/png": "[encoded data removed]",
      "text/plain": [
       "<Figure size 432x288 with 1 Axes>"
      ]
     },
     "metadata": {},
     "output_type": "display_data"
    }
   ],
   "source": [
    "heights.hist('Smarter Errors', group='Gender')"
   ]
  },
  {
   "cell_type": "code",
   "execution_count": null,
   "id": "84a30d50",
   "metadata": {},
   "outputs": [],
   "source": []
  },
  {
   "cell_type": "code",
   "execution_count": 77,
   "id": "9e8a5491",
   "metadata": {},
   "outputs": [],
   "source": [
    "#Break down the data into a bunch of categories"
   ]
  },
  {
   "cell_type": "code",
   "execution_count": 78,
   "id": "c489565c",
   "metadata": {},
   "outputs": [],
   "source": [
    "\n",
    "# group('Name of the Column')\n",
    "\n",
    "# Optional second argument can be one of these\n",
    "# group('Name of the Column', len) #Default\n",
    "# group('Name of the Column', list)\n",
    "# group('Name of the Column', sum)"
   ]
  },
  {
   "cell_type": "code",
   "execution_count": 81,
   "id": "39ce59e9",
   "metadata": {},
   "outputs": [
    {
     "data": {
      "text/html": [
       "<table border=\"1\" class=\"dataframe\">\n",
       "    <thead>\n",
       "        <tr>\n",
       "            <th>Flavor</th> <th>Color</th> <th>Price</th>\n",
       "        </tr>\n",
       "    </thead>\n",
       "    <tbody>\n",
       "        <tr>\n",
       "            <td>strawberry</td> <td>pink       </td> <td>3.55 </td>\n",
       "        </tr>\n",
       "        <tr>\n",
       "            <td>chocolate </td> <td>light brown</td> <td>4.75 </td>\n",
       "        </tr>\n",
       "        <tr>\n",
       "            <td>chocolate </td> <td>dark brown </td> <td>5.25 </td>\n",
       "        </tr>\n",
       "        <tr>\n",
       "            <td>strawberry</td> <td>pink       </td> <td>5.25 </td>\n",
       "        </tr>\n",
       "        <tr>\n",
       "            <td>chocolate </td> <td>dark brown </td> <td>5.25 </td>\n",
       "        </tr>\n",
       "        <tr>\n",
       "            <td>bubblegum </td> <td>pink       </td> <td>4.75 </td>\n",
       "        </tr>\n",
       "    </tbody>\n",
       "</table>"
      ],
      "text/plain": [
       "Flavor     | Color       | Price\n",
       "strawberry | pink        | 3.55\n",
       "chocolate  | light brown | 4.75\n",
       "chocolate  | dark brown  | 5.25\n",
       "strawberry | pink        | 5.25\n",
       "chocolate  | dark brown  | 5.25\n",
       "bubblegum  | pink        | 4.75"
      ]
     },
     "execution_count": 81,
     "metadata": {},
     "output_type": "execute_result"
    }
   ],
   "source": [
    "cones = Table.read_table('cones.csv')\n",
    "cones"
   ]
  },
  {
   "cell_type": "code",
   "execution_count": 85,
   "id": "bcebce3a",
   "metadata": {},
   "outputs": [
    {
     "data": {
      "text/html": [
       "<table border=\"1\" class=\"dataframe\">\n",
       "    <thead>\n",
       "        <tr>\n",
       "            <th>Flavor</th> <th>count</th>\n",
       "        </tr>\n",
       "    </thead>\n",
       "    <tbody>\n",
       "        <tr>\n",
       "            <td>bubblegum </td> <td>1    </td>\n",
       "        </tr>\n",
       "        <tr>\n",
       "            <td>chocolate </td> <td>3    </td>\n",
       "        </tr>\n",
       "        <tr>\n",
       "            <td>strawberry</td> <td>2    </td>\n",
       "        </tr>\n",
       "    </tbody>\n",
       "</table>"
      ],
      "text/plain": [
       "Flavor     | count\n",
       "bubblegum  | 1\n",
       "chocolate  | 3\n",
       "strawberry | 2"
      ]
     },
     "execution_count": 85,
     "metadata": {},
     "output_type": "execute_result"
    }
   ],
   "source": [
    "cones.group('Flavor')"
   ]
  },
  {
   "cell_type": "code",
   "execution_count": 86,
   "id": "0c78bd02",
   "metadata": {},
   "outputs": [
    {
     "data": {
      "text/html": [
       "<table border=\"1\" class=\"dataframe\">\n",
       "    <thead>\n",
       "        <tr>\n",
       "            <th>Flavor</th> <th>Price average</th>\n",
       "        </tr>\n",
       "    </thead>\n",
       "    <tbody>\n",
       "        <tr>\n",
       "            <td>bubblegum </td> <td>4.75         </td>\n",
       "        </tr>\n",
       "        <tr>\n",
       "            <td>chocolate </td> <td>5.08333      </td>\n",
       "        </tr>\n",
       "        <tr>\n",
       "            <td>strawberry</td> <td>4.4          </td>\n",
       "        </tr>\n",
       "    </tbody>\n",
       "</table>"
      ],
      "text/plain": [
       "Flavor     | Price average\n",
       "bubblegum  | 4.75\n",
       "chocolate  | 5.08333\n",
       "strawberry | 4.4"
      ]
     },
     "execution_count": 86,
     "metadata": {},
     "output_type": "execute_result"
    }
   ],
   "source": [
    "cones.drop('Color').group('Flavor', np.average)"
   ]
  },
  {
   "cell_type": "code",
   "execution_count": 87,
   "id": "c9ba7f1b",
   "metadata": {},
   "outputs": [
    {
     "data": {
      "text/html": [
       "<table border=\"1\" class=\"dataframe\">\n",
       "    <thead>\n",
       "        <tr>\n",
       "            <th>Flavor</th> <th>Price min</th>\n",
       "        </tr>\n",
       "    </thead>\n",
       "    <tbody>\n",
       "        <tr>\n",
       "            <td>bubblegum </td> <td>4.75     </td>\n",
       "        </tr>\n",
       "        <tr>\n",
       "            <td>chocolate </td> <td>4.75     </td>\n",
       "        </tr>\n",
       "        <tr>\n",
       "            <td>strawberry</td> <td>3.55     </td>\n",
       "        </tr>\n",
       "    </tbody>\n",
       "</table>"
      ],
      "text/plain": [
       "Flavor     | Price min\n",
       "bubblegum  | 4.75\n",
       "chocolate  | 4.75\n",
       "strawberry | 3.55"
      ]
     },
     "execution_count": 87,
     "metadata": {},
     "output_type": "execute_result"
    }
   ],
   "source": [
    "cones.drop('Color').group('Flavor', min)"
   ]
  },
  {
   "cell_type": "code",
   "execution_count": 88,
   "id": "b34a7069",
   "metadata": {},
   "outputs": [
    {
     "data": {
      "text/html": [
       "<table border=\"1\" class=\"dataframe\">\n",
       "    <thead>\n",
       "        <tr>\n",
       "            <th>Flavor</th> <th>Color average</th> <th>Price average</th>\n",
       "        </tr>\n",
       "    </thead>\n",
       "    <tbody>\n",
       "        <tr>\n",
       "            <td>bubblegum </td> <td>             </td> <td>4.75         </td>\n",
       "        </tr>\n",
       "        <tr>\n",
       "            <td>chocolate </td> <td>             </td> <td>5.08333      </td>\n",
       "        </tr>\n",
       "        <tr>\n",
       "            <td>strawberry</td> <td>             </td> <td>4.4          </td>\n",
       "        </tr>\n",
       "    </tbody>\n",
       "</table>"
      ],
      "text/plain": [
       "Flavor     | Color average | Price average\n",
       "bubblegum  |               | 4.75\n",
       "chocolate  |               | 5.08333\n",
       "strawberry |               | 4.4"
      ]
     },
     "execution_count": 88,
     "metadata": {},
     "output_type": "execute_result"
    }
   ],
   "source": [
    "cones.group('Flavor', np.average)\n",
    "\n",
    "#Groupes them by flavor, computes the average for each group of Color & Price"
   ]
  },
  {
   "cell_type": "code",
   "execution_count": 90,
   "id": "266fbd0d",
   "metadata": {},
   "outputs": [
    {
     "data": {
      "text/html": [
       "<table border=\"1\" class=\"dataframe\">\n",
       "    <thead>\n",
       "        <tr>\n",
       "            <th>Year</th> <th>Extraversion</th> <th>Number of textees</th> <th>Hours of sleep</th> <th>Handedness</th> <th>First pant leg</th> <th>Sleep position</th>\n",
       "        </tr>\n",
       "    </thead>\n",
       "    <tbody>\n",
       "        <tr>\n",
       "            <td>Second</td> <td>8           </td> <td>5                </td> <td>6             </td> <td>Right-handed</td> <td>Right leg in first</td> <td>On your left side </td>\n",
       "        </tr>\n",
       "        <tr>\n",
       "            <td>Second</td> <td>7           </td> <td>8                </td> <td>7.5           </td> <td>Right-handed</td> <td>Right leg in first</td> <td>On your left side </td>\n",
       "        </tr>\n",
       "        <tr>\n",
       "            <td>Second</td> <td>6           </td> <td>7                </td> <td>7.5           </td> <td>Right-handed</td> <td>Left leg in first </td> <td>On your right side</td>\n",
       "        </tr>\n",
       "        <tr>\n",
       "            <td>Third </td> <td>2           </td> <td>1                </td> <td>8             </td> <td>Right-handed</td> <td>Right leg in first</td> <td>On your back      </td>\n",
       "        </tr>\n",
       "        <tr>\n",
       "            <td>Second</td> <td>4           </td> <td>3                </td> <td>8             </td> <td>Right-handed</td> <td>Left leg in first </td> <td>On your stomach   </td>\n",
       "        </tr>\n",
       "        <tr>\n",
       "            <td>First </td> <td>5           </td> <td>4                </td> <td>8             </td> <td>Right-handed</td> <td>Right leg in first</td> <td>On your left side </td>\n",
       "        </tr>\n",
       "        <tr>\n",
       "            <td>First </td> <td>6           </td> <td>3                </td> <td>7             </td> <td>Right-handed</td> <td>Left leg in first </td> <td>On your stomach   </td>\n",
       "        </tr>\n",
       "        <tr>\n",
       "            <td>First </td> <td>5           </td> <td>2                </td> <td>7             </td> <td>Right-handed</td> <td>Right leg in first</td> <td>On your back      </td>\n",
       "        </tr>\n",
       "        <tr>\n",
       "            <td>Second</td> <td>5           </td> <td>6                </td> <td>7             </td> <td>Right-handed</td> <td>Right leg in first</td> <td>On your back      </td>\n",
       "        </tr>\n",
       "        <tr>\n",
       "            <td>First </td> <td>4           </td> <td>12               </td> <td>8             </td> <td>Right-handed</td> <td>Left leg in first </td> <td>On your right side</td>\n",
       "        </tr>\n",
       "    </tbody>\n",
       "</table>\n",
       "<p>... (1320 rows omitted)</p>"
      ],
      "text/plain": [
       "Year   | Extraversion | Number of textees | Hours of sleep | Handedness   | First pant leg     | Sleep position\n",
       "Second | 8            | 5                 | 6              | Right-handed | Right leg in first | On your left side\n",
       "Second | 7            | 8                 | 7.5            | Right-handed | Right leg in first | On your left side\n",
       "Second | 6            | 7                 | 7.5            | Right-handed | Left leg in first  | On your right side\n",
       "Third  | 2            | 1                 | 8              | Right-handed | Right leg in first | On your back\n",
       "Second | 4            | 3                 | 8              | Right-handed | Left leg in first  | On your stomach\n",
       "First  | 5            | 4                 | 8              | Right-handed | Right leg in first | On your left side\n",
       "First  | 6            | 3                 | 7              | Right-handed | Left leg in first  | On your stomach\n",
       "First  | 5            | 2                 | 7              | Right-handed | Right leg in first | On your back\n",
       "Second | 5            | 6                 | 7              | Right-handed | Right leg in first | On your back\n",
       "First  | 4            | 12                | 8              | Right-handed | Left leg in first  | On your right side\n",
       "... (1320 rows omitted)"
      ]
     },
     "execution_count": 90,
     "metadata": {},
     "output_type": "execute_result"
    }
   ],
   "source": [
    "survey = Table.read_table('welcome_survey_fa21.csv')\n",
    "survey"
   ]
  },
  {
   "cell_type": "code",
   "execution_count": 91,
   "id": "ed9a6ecc",
   "metadata": {},
   "outputs": [
    {
     "data": {
      "text/html": [
       "<table border=\"1\" class=\"dataframe\">\n",
       "    <thead>\n",
       "        <tr>\n",
       "            <th>Extraversion</th> <th>Year average</th> <th>Number of textees average</th> <th>Hours of sleep average</th> <th>Handedness average</th> <th>First pant leg average</th> <th>Sleep position average</th>\n",
       "        </tr>\n",
       "    </thead>\n",
       "    <tbody>\n",
       "        <tr>\n",
       "            <td>1           </td> <td>            </td> <td>3.31818                  </td> <td>6.45455               </td> <td>                  </td> <td>                      </td> <td>                      </td>\n",
       "        </tr>\n",
       "        <tr>\n",
       "            <td>2           </td> <td>            </td> <td>4.41379                  </td> <td>7.02586               </td> <td>                  </td> <td>                      </td> <td>                      </td>\n",
       "        </tr>\n",
       "        <tr>\n",
       "            <td>3           </td> <td>            </td> <td>5.02105                  </td> <td>7.12105               </td> <td>                  </td> <td>                      </td> <td>                      </td>\n",
       "        </tr>\n",
       "        <tr>\n",
       "            <td>4           </td> <td>            </td> <td>5.59896                  </td> <td>6.91667               </td> <td>                  </td> <td>                      </td> <td>                      </td>\n",
       "        </tr>\n",
       "        <tr>\n",
       "            <td>5           </td> <td>            </td> <td>5.91324                  </td> <td>7.04224               </td> <td>                  </td> <td>                      </td> <td>                      </td>\n",
       "        </tr>\n",
       "        <tr>\n",
       "            <td>6           </td> <td>            </td> <td>6.79213                  </td> <td>6.9382                </td> <td>                  </td> <td>                      </td> <td>                      </td>\n",
       "        </tr>\n",
       "        <tr>\n",
       "            <td>7           </td> <td>            </td> <td>6.98122                  </td> <td>7.09859               </td> <td>                  </td> <td>                      </td> <td>                      </td>\n",
       "        </tr>\n",
       "        <tr>\n",
       "            <td>8           </td> <td>            </td> <td>8.56085                  </td> <td>7.20635               </td> <td>                  </td> <td>                      </td> <td>                      </td>\n",
       "        </tr>\n",
       "        <tr>\n",
       "            <td>9           </td> <td>            </td> <td>9.7619                   </td> <td>7.02381               </td> <td>                  </td> <td>                      </td> <td>                      </td>\n",
       "        </tr>\n",
       "        <tr>\n",
       "            <td>10          </td> <td>            </td> <td>15.4444                  </td> <td>7.03704               </td> <td>                  </td> <td>                      </td> <td>                      </td>\n",
       "        </tr>\n",
       "    </tbody>\n",
       "</table>"
      ],
      "text/plain": [
       "Extraversion | Year average | Number of textees average | Hours of sleep average | Handedness average | First pant leg average | Sleep position average\n",
       "1            |              | 3.31818                   | 6.45455                |                    |                        |\n",
       "2            |              | 4.41379                   | 7.02586                |                    |                        |\n",
       "3            |              | 5.02105                   | 7.12105                |                    |                        |\n",
       "4            |              | 5.59896                   | 6.91667                |                    |                        |\n",
       "5            |              | 5.91324                   | 7.04224                |                    |                        |\n",
       "6            |              | 6.79213                   | 6.9382                 |                    |                        |\n",
       "7            |              | 6.98122                   | 7.09859                |                    |                        |\n",
       "8            |              | 8.56085                   | 7.20635                |                    |                        |\n",
       "9            |              | 9.7619                    | 7.02381                |                    |                        |\n",
       "10           |              | 15.4444                   | 7.03704                |                    |                        |"
      ]
     },
     "execution_count": 91,
     "metadata": {},
     "output_type": "execute_result"
    }
   ],
   "source": [
    "by_extra = survey.group('Extraversion', np.average)\n",
    "by_extra"
   ]
  },
  {
   "cell_type": "code",
   "execution_count": 92,
   "id": "30130b97",
   "metadata": {},
   "outputs": [
    {
     "data": {
      "image/png": "[encoded data removed]",
      "text/plain": [
       "<Figure size 432x432 with 1 Axes>"
      ]
     },
     "metadata": {},
     "output_type": "display_data"
    }
   ],
   "source": [
    "by_extra.select('Extraversion', 'Number of textees average').plot('Extraversion')"
   ]
  },
  {
   "cell_type": "code",
   "execution_count": 93,
   "id": "084cf485",
   "metadata": {},
   "outputs": [
    {
     "data": {
      "image/png": "[encoded data removed]",
      "text/plain": [
       "<Figure size 432x432 with 1 Axes>"
      ]
     },
     "metadata": {},
     "output_type": "display_data"
    }
   ],
   "source": [
    "by_extra.select('Extraversion', 'Hours of sleep average').plot('Extraversion')"
   ]
  },
  {
   "cell_type": "code",
   "execution_count": 94,
   "id": "85867770",
   "metadata": {},
   "outputs": [
    {
     "data": {
      "text/html": [
       "<table border=\"1\" class=\"dataframe\">\n",
       "    <thead>\n",
       "        <tr>\n",
       "            <th>Extraversion</th> <th>count</th>\n",
       "        </tr>\n",
       "    </thead>\n",
       "    <tbody>\n",
       "        <tr>\n",
       "            <td>1           </td> <td>22   </td>\n",
       "        </tr>\n",
       "        <tr>\n",
       "            <td>2           </td> <td>58   </td>\n",
       "        </tr>\n",
       "        <tr>\n",
       "            <td>3           </td> <td>190  </td>\n",
       "        </tr>\n",
       "        <tr>\n",
       "            <td>4           </td> <td>192  </td>\n",
       "        </tr>\n",
       "        <tr>\n",
       "            <td>5           </td> <td>219  </td>\n",
       "        </tr>\n",
       "        <tr>\n",
       "            <td>6           </td> <td>178  </td>\n",
       "        </tr>\n",
       "        <tr>\n",
       "            <td>7           </td> <td>213  </td>\n",
       "        </tr>\n",
       "        <tr>\n",
       "            <td>8           </td> <td>189  </td>\n",
       "        </tr>\n",
       "        <tr>\n",
       "            <td>9           </td> <td>42   </td>\n",
       "        </tr>\n",
       "        <tr>\n",
       "            <td>10          </td> <td>27   </td>\n",
       "        </tr>\n",
       "    </tbody>\n",
       "</table>"
      ],
      "text/plain": [
       "Extraversion | count\n",
       "1            | 22\n",
       "2            | 58\n",
       "3            | 190\n",
       "4            | 192\n",
       "5            | 219\n",
       "6            | 178\n",
       "7            | 213\n",
       "8            | 189\n",
       "9            | 42\n",
       "10           | 27"
      ]
     },
     "execution_count": 94,
     "metadata": {},
     "output_type": "execute_result"
    }
   ],
   "source": [
    "survey.group('Extraversion')\n",
    "#Very few people have given their extraversion score as 1\n",
    "#So it should not be implied that low extraversion score means less sleep"
   ]
  },
  {
   "cell_type": "code",
   "execution_count": null,
   "id": "e3f9df27",
   "metadata": {},
   "outputs": [],
   "source": []
  }
 ],
 "metadata": {
  "kernelspec": {
   "display_name": "Python 3 (ipykernel)",
   "language": "python",
   "name": "python3"
  },
  "language_info": {
   "codemirror_mode": {
    "name": "ipython",
    "version": 3
   },
   "file_extension": ".py",
   "mimetype": "text/x-python",
   "name": "python",
   "nbconvert_exporter": "python",
   "pygments_lexer": "ipython3",
   "version": "3.8.6"
  }
 },
 "nbformat": 4,
 "nbformat_minor": 5
}
