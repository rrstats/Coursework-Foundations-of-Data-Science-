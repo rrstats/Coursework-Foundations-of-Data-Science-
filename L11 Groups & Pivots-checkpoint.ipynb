{
 "cells": [
  {
   "cell_type": "code",
   "execution_count": 1,
   "id": "c9474956",
   "metadata": {},
   "outputs": [],
   "source": [
    "from datascience import*\n",
    "import numpy as np\n",
    "\n",
    "import warnings\n",
    "warnings.simplefilter(action='ignore', category=np.VisibleDeprecationWarning)\n",
    "\n",
    "%matplotlib inline\n",
    "import matplotlib.pyplot as plots\n",
    "plots.style.use('fivethirtyeight')\n"
   ]
  },
  {
   "cell_type": "markdown",
   "id": "cc78ac71",
   "metadata": {},
   "source": [
    "# #Lists"
   ]
  },
  {
   "cell_type": "code",
   "execution_count": 2,
   "id": "11b4f8f6",
   "metadata": {},
   "outputs": [],
   "source": [
    "#Row can be represented by a list because all are not of the same type "
   ]
  },
  {
   "cell_type": "code",
   "execution_count": 3,
   "id": "ba455146",
   "metadata": {},
   "outputs": [
    {
     "data": {
      "text/plain": [
       "[1, 2, 3, 4]"
      ]
     },
     "execution_count": 3,
     "metadata": {},
     "output_type": "execute_result"
    }
   ],
   "source": [
    "[1,2,3,4]"
   ]
  },
  {
   "cell_type": "code",
   "execution_count": 4,
   "id": "86ecc186",
   "metadata": {},
   "outputs": [
    {
     "data": {
      "text/plain": [
       "[1, [3, 4], 'T']"
      ]
     },
     "execution_count": 4,
     "metadata": {},
     "output_type": "execute_result"
    }
   ],
   "source": [
    "[1, [3,4], 'T']"
   ]
  },
  {
   "cell_type": "code",
   "execution_count": 5,
   "id": "ff8cef1d",
   "metadata": {},
   "outputs": [
    {
     "data": {
      "text/plain": [
       "[1,\n",
       " [3, 4],\n",
       " K\n",
       " 10\n",
       " 90]"
      ]
     },
     "execution_count": 5,
     "metadata": {},
     "output_type": "execute_result"
    }
   ],
   "source": [
    "[1, [3,4], Table().with_column('K', [10,90])]"
   ]
  },
  {
   "cell_type": "code",
   "execution_count": 6,
   "id": "1a0cee5d",
   "metadata": {},
   "outputs": [
    {
     "data": {
      "text/html": [
       "<table border=\"1\" class=\"dataframe\">\n",
       "    <thead>\n",
       "        <tr>\n",
       "            <th>Numbers</th>\n",
       "        </tr>\n",
       "    </thead>\n",
       "    <tbody>\n",
       "        <tr>\n",
       "            <td>1      </td>\n",
       "        </tr>\n",
       "        <tr>\n",
       "            <td>2      </td>\n",
       "        </tr>\n",
       "        <tr>\n",
       "            <td>3      </td>\n",
       "        </tr>\n",
       "        <tr>\n",
       "            <td>4      </td>\n",
       "        </tr>\n",
       "        <tr>\n",
       "            <td>5      </td>\n",
       "        </tr>\n",
       "    </tbody>\n",
       "</table>"
      ],
      "text/plain": [
       "Numbers\n",
       "1\n",
       "2\n",
       "3\n",
       "4\n",
       "5"
      ]
     },
     "execution_count": 6,
     "metadata": {},
     "output_type": "execute_result"
    }
   ],
   "source": [
    "Table().with_columns('Numbers', [1,2,3,4,5])"
   ]
  },
  {
   "cell_type": "code",
   "execution_count": 7,
   "id": "795f8d42",
   "metadata": {},
   "outputs": [
    {
     "data": {
      "text/html": [
       "<table border=\"1\" class=\"dataframe\">\n",
       "    <thead>\n",
       "        <tr>\n",
       "            <th>Numbers</th>\n",
       "        </tr>\n",
       "    </thead>\n",
       "    <tbody>\n",
       "        <tr>\n",
       "            <td>0      </td>\n",
       "        </tr>\n",
       "        <tr>\n",
       "            <td>1      </td>\n",
       "        </tr>\n",
       "        <tr>\n",
       "            <td>2      </td>\n",
       "        </tr>\n",
       "        <tr>\n",
       "            <td>3      </td>\n",
       "        </tr>\n",
       "        <tr>\n",
       "            <td>4      </td>\n",
       "        </tr>\n",
       "    </tbody>\n",
       "</table>"
      ],
      "text/plain": [
       "Numbers\n",
       "0\n",
       "1\n",
       "2\n",
       "3\n",
       "4"
      ]
     },
     "execution_count": 7,
     "metadata": {},
     "output_type": "execute_result"
    }
   ],
   "source": [
    "Table().with_columns('Numbers', np.arange(5))"
   ]
  },
  {
   "cell_type": "code",
   "execution_count": 8,
   "id": "9de84bc8",
   "metadata": {},
   "outputs": [
    {
     "data": {
      "text/plain": [
       "'3'"
      ]
     },
     "execution_count": 8,
     "metadata": {},
     "output_type": "execute_result"
    }
   ],
   "source": [
    "#TRIVIAL\n",
    "t = Table().with_columns('Numbers', [1,2,3,4,'ohboy'])\n",
    "t.column('Numbers').item(2)\n",
    "#Notice that you get a string. If even one of your list element is a string, all are strings"
   ]
  },
  {
   "cell_type": "code",
   "execution_count": 9,
   "id": "38b66d61",
   "metadata": {},
   "outputs": [
    {
     "data": {
      "text/html": [
       "<table border=\"1\" class=\"dataframe\">\n",
       "    <thead>\n",
       "        <tr>\n",
       "            <th>Drink</th> <th>Cafe</th> <th>Price</th>\n",
       "        </tr>\n",
       "    </thead>\n",
       "    <tbody>\n",
       "    </tbody>\n",
       "</table>"
      ],
      "text/plain": [
       "Drink | Cafe | Price"
      ]
     },
     "execution_count": 9,
     "metadata": {},
     "output_type": "execute_result"
    }
   ],
   "source": [
    "#This is how a row is added\n",
    "drinks = Table(['Drink', 'Cafe', 'Price'])\n",
    "drinks"
   ]
  },
  {
   "cell_type": "code",
   "execution_count": 10,
   "id": "7b48156b",
   "metadata": {},
   "outputs": [
    {
     "data": {
      "text/html": [
       "<table border=\"1\" class=\"dataframe\">\n",
       "    <thead>\n",
       "        <tr>\n",
       "            <th>Drink</th> <th>Cafe</th> <th>Price</th>\n",
       "        </tr>\n",
       "    </thead>\n",
       "    <tbody>\n",
       "        <tr>\n",
       "            <td>Milk Tea</td> <td>Asha  </td> <td>5.5  </td>\n",
       "        </tr>\n",
       "        <tr>\n",
       "            <td>Espresso</td> <td>Strada</td> <td>1.75 </td>\n",
       "        </tr>\n",
       "        <tr>\n",
       "            <td>Latte   </td> <td>Strada</td> <td>3.25 </td>\n",
       "        </tr>\n",
       "        <tr>\n",
       "            <td>Espresso</td> <td>FSM   </td> <td>2    </td>\n",
       "        </tr>\n",
       "    </tbody>\n",
       "</table>"
      ],
      "text/plain": [
       "Drink    | Cafe   | Price\n",
       "Milk Tea | Asha   | 5.5\n",
       "Espresso | Strada | 1.75\n",
       "Latte    | Strada | 3.25\n",
       "Espresso | FSM    | 2"
      ]
     },
     "execution_count": 10,
     "metadata": {},
     "output_type": "execute_result"
    }
   ],
   "source": [
    "#Press Enter twice and you will get a table with eight rows\n",
    "drinks = drinks.with_rows([\n",
    "    ['Milk Tea', 'Asha', 5.5],\n",
    "    ['Espresso', 'Strada', 1.75],\n",
    "    ['Latte', 'Strada', 3.25],\n",
    "    ['Espresso', 'FSM', 2]\n",
    "])\n",
    "drinks"
   ]
  },
  {
   "cell_type": "code",
   "execution_count": null,
   "id": "e9c7e895",
   "metadata": {},
   "outputs": [],
   "source": []
  },
  {
   "cell_type": "markdown",
   "id": "5ad76493",
   "metadata": {},
   "source": [
    "# CROSS-CLASSIFICATION"
   ]
  },
  {
   "cell_type": "code",
   "execution_count": 11,
   "id": "f6d7c5c2",
   "metadata": {},
   "outputs": [],
   "source": [
    "##Between two categorical variables\n",
    "##Grouping by Multiple Columns\n",
    "##same .group"
   ]
  },
  {
   "cell_type": "code",
   "execution_count": 12,
   "id": "248ef76a",
   "metadata": {},
   "outputs": [],
   "source": [
    "#.group()\n",
    "#First argument: List of columns to group by\n",
    "#(Optional)\n",
    "#collect= :How to combine values\n"
   ]
  },
  {
   "cell_type": "markdown",
   "id": "ad50a545",
   "metadata": {},
   "source": [
    "# Cross-classification: grouping by two columns"
   ]
  },
  {
   "cell_type": "code",
   "execution_count": 13,
   "id": "c3bc25c2",
   "metadata": {},
   "outputs": [
    {
     "data": {
      "text/html": [
       "<table border=\"1\" class=\"dataframe\">\n",
       "    <thead>\n",
       "        <tr>\n",
       "            <th>Year</th> <th>Extraversion</th> <th>Number of textees</th> <th>Hours of sleep</th> <th>Handedness</th> <th>First pant leg</th> <th>Sleep position</th>\n",
       "        </tr>\n",
       "    </thead>\n",
       "    <tbody>\n",
       "        <tr>\n",
       "            <td>Second</td> <td>8           </td> <td>5                </td> <td>6             </td> <td>Right-handed</td> <td>Right leg in first</td> <td>On your left side </td>\n",
       "        </tr>\n",
       "        <tr>\n",
       "            <td>Second</td> <td>7           </td> <td>8                </td> <td>7.5           </td> <td>Right-handed</td> <td>Right leg in first</td> <td>On your left side </td>\n",
       "        </tr>\n",
       "        <tr>\n",
       "            <td>Second</td> <td>6           </td> <td>7                </td> <td>7.5           </td> <td>Right-handed</td> <td>Left leg in first </td> <td>On your right side</td>\n",
       "        </tr>\n",
       "        <tr>\n",
       "            <td>Third </td> <td>2           </td> <td>1                </td> <td>8             </td> <td>Right-handed</td> <td>Right leg in first</td> <td>On your back      </td>\n",
       "        </tr>\n",
       "        <tr>\n",
       "            <td>Second</td> <td>4           </td> <td>3                </td> <td>8             </td> <td>Right-handed</td> <td>Left leg in first </td> <td>On your stomach   </td>\n",
       "        </tr>\n",
       "        <tr>\n",
       "            <td>First </td> <td>5           </td> <td>4                </td> <td>8             </td> <td>Right-handed</td> <td>Right leg in first</td> <td>On your left side </td>\n",
       "        </tr>\n",
       "        <tr>\n",
       "            <td>First </td> <td>6           </td> <td>3                </td> <td>7             </td> <td>Right-handed</td> <td>Left leg in first </td> <td>On your stomach   </td>\n",
       "        </tr>\n",
       "        <tr>\n",
       "            <td>First </td> <td>5           </td> <td>2                </td> <td>7             </td> <td>Right-handed</td> <td>Right leg in first</td> <td>On your back      </td>\n",
       "        </tr>\n",
       "        <tr>\n",
       "            <td>Second</td> <td>5           </td> <td>6                </td> <td>7             </td> <td>Right-handed</td> <td>Right leg in first</td> <td>On your back      </td>\n",
       "        </tr>\n",
       "        <tr>\n",
       "            <td>First </td> <td>4           </td> <td>12               </td> <td>8             </td> <td>Right-handed</td> <td>Left leg in first </td> <td>On your right side</td>\n",
       "        </tr>\n",
       "    </tbody>\n",
       "</table>\n",
       "<p>... (1300 rows omitted)</p>"
      ],
      "text/plain": [
       "Year   | Extraversion | Number of textees | Hours of sleep | Handedness   | First pant leg     | Sleep position\n",
       "Second | 8            | 5                 | 6              | Right-handed | Right leg in first | On your left side\n",
       "Second | 7            | 8                 | 7.5            | Right-handed | Right leg in first | On your left side\n",
       "Second | 6            | 7                 | 7.5            | Right-handed | Left leg in first  | On your right side\n",
       "Third  | 2            | 1                 | 8              | Right-handed | Right leg in first | On your back\n",
       "Second | 4            | 3                 | 8              | Right-handed | Left leg in first  | On your stomach\n",
       "First  | 5            | 4                 | 8              | Right-handed | Right leg in first | On your left side\n",
       "First  | 6            | 3                 | 7              | Right-handed | Left leg in first  | On your stomach\n",
       "First  | 5            | 2                 | 7              | Right-handed | Right leg in first | On your back\n",
       "Second | 5            | 6                 | 7              | Right-handed | Right leg in first | On your back\n",
       "First  | 4            | 12                | 8              | Right-handed | Left leg in first  | On your right side\n",
       "... (1300 rows omitted)"
      ]
     },
     "execution_count": 13,
     "metadata": {},
     "output_type": "execute_result"
    }
   ],
   "source": [
    "survey = Table.read_table('welcome_survey_fa21.csv')\n",
    "survey = survey.where('Handedness', are.containing('t-handed'))\n",
    "survey = survey.where('Handedness', are.not_containing(' handed'))\n",
    "survey"
   ]
  },
  {
   "cell_type": "markdown",
   "id": "b59b3f3c",
   "metadata": {},
   "source": [
    "### Group with two columns"
   ]
  },
  {
   "cell_type": "markdown",
   "id": "45aa5612",
   "metadata": {},
   "source": [
    "### Do right-handed people tend to sleep on their left side and left-handed people sleep on their right"
   ]
  },
  {
   "cell_type": "code",
   "execution_count": 14,
   "id": "5583ad16",
   "metadata": {},
   "outputs": [],
   "source": [
    "#We are interested in two columns. Therefore, pass a list as the first argument"
   ]
  },
  {
   "cell_type": "code",
   "execution_count": 15,
   "id": "02899602",
   "metadata": {},
   "outputs": [
    {
     "data": {
      "text/html": [
       "<table border=\"1\" class=\"dataframe\">\n",
       "    <thead>\n",
       "        <tr>\n",
       "            <th>Handedness</th> <th>Sleep position</th> <th>count</th>\n",
       "        </tr>\n",
       "    </thead>\n",
       "    <tbody>\n",
       "        <tr>\n",
       "            <td>Left-handed </td> <td>On your back      </td> <td>36   </td>\n",
       "        </tr>\n",
       "        <tr>\n",
       "            <td>Left-handed </td> <td>On your left side </td> <td>34   </td>\n",
       "        </tr>\n",
       "        <tr>\n",
       "            <td>Left-handed </td> <td>On your right side</td> <td>30   </td>\n",
       "        </tr>\n",
       "        <tr>\n",
       "            <td>Left-handed </td> <td>On your stomach   </td> <td>13   </td>\n",
       "        </tr>\n",
       "        <tr>\n",
       "            <td>Right-handed</td> <td>On your back      </td> <td>322  </td>\n",
       "        </tr>\n",
       "        <tr>\n",
       "            <td>Right-handed</td> <td>On your left side </td> <td>296  </td>\n",
       "        </tr>\n",
       "        <tr>\n",
       "            <td>Right-handed</td> <td>On your right side</td> <td>383  </td>\n",
       "        </tr>\n",
       "        <tr>\n",
       "            <td>Right-handed</td> <td>On your stomach   </td> <td>196  </td>\n",
       "        </tr>\n",
       "    </tbody>\n",
       "</table>"
      ],
      "text/plain": [
       "Handedness   | Sleep position     | count\n",
       "Left-handed  | On your back       | 36\n",
       "Left-handed  | On your left side  | 34\n",
       "Left-handed  | On your right side | 30\n",
       "Left-handed  | On your stomach    | 13\n",
       "Right-handed | On your back       | 322\n",
       "Right-handed | On your left side  | 296\n",
       "Right-handed | On your right side | 383\n",
       "Right-handed | On your stomach    | 196"
      ]
     },
     "execution_count": 15,
     "metadata": {},
     "output_type": "execute_result"
    }
   ],
   "source": [
    "survey.group(['Handedness', 'Sleep position'])"
   ]
  },
  {
   "cell_type": "code",
   "execution_count": 16,
   "id": "cfc181ce",
   "metadata": {},
   "outputs": [
    {
     "data": {
      "text/html": [
       "<table border=\"1\" class=\"dataframe\">\n",
       "    <thead>\n",
       "        <tr>\n",
       "            <th>Handedness</th> <th>Sleep position</th> <th>First pant leg</th> <th>count</th>\n",
       "        </tr>\n",
       "    </thead>\n",
       "    <tbody>\n",
       "        <tr>\n",
       "            <td>Right-handed</td> <td>On your right side</td> <td>Right leg in first</td> <td>228  </td>\n",
       "        </tr>\n",
       "        <tr>\n",
       "            <td>Right-handed</td> <td>On your back      </td> <td>Right leg in first</td> <td>145  </td>\n",
       "        </tr>\n",
       "        <tr>\n",
       "            <td>Right-handed</td> <td>On your left side </td> <td>Right leg in first</td> <td>143  </td>\n",
       "        </tr>\n",
       "        <tr>\n",
       "            <td>Right-handed</td> <td>On your back      </td> <td>Left leg in first </td> <td>123  </td>\n",
       "        </tr>\n",
       "        <tr>\n",
       "            <td>Right-handed</td> <td>On your left side </td> <td>Left leg in first </td> <td>118  </td>\n",
       "        </tr>\n",
       "        <tr>\n",
       "            <td>Right-handed</td> <td>On your right side</td> <td>Left leg in first </td> <td>104  </td>\n",
       "        </tr>\n",
       "        <tr>\n",
       "            <td>Right-handed</td> <td>On your stomach   </td> <td>Right leg in first</td> <td>103  </td>\n",
       "        </tr>\n",
       "        <tr>\n",
       "            <td>Right-handed</td> <td>On your stomach   </td> <td>Left leg in first </td> <td>60   </td>\n",
       "        </tr>\n",
       "        <tr>\n",
       "            <td>Right-handed</td> <td>On your back      </td> <td>I don't know      </td> <td>54   </td>\n",
       "        </tr>\n",
       "        <tr>\n",
       "            <td>Right-handed</td> <td>On your right side</td> <td>I don't know      </td> <td>51   </td>\n",
       "        </tr>\n",
       "    </tbody>\n",
       "</table>\n",
       "<p>... (14 rows omitted)</p>"
      ],
      "text/plain": [
       "Handedness   | Sleep position     | First pant leg     | count\n",
       "Right-handed | On your right side | Right leg in first | 228\n",
       "Right-handed | On your back       | Right leg in first | 145\n",
       "Right-handed | On your left side  | Right leg in first | 143\n",
       "Right-handed | On your back       | Left leg in first  | 123\n",
       "Right-handed | On your left side  | Left leg in first  | 118\n",
       "Right-handed | On your right side | Left leg in first  | 104\n",
       "Right-handed | On your stomach    | Right leg in first | 103\n",
       "Right-handed | On your stomach    | Left leg in first  | 60\n",
       "Right-handed | On your back       | I don't know       | 54\n",
       "Right-handed | On your right side | I don't know       | 51\n",
       "... (14 rows omitted)"
      ]
     },
     "execution_count": 16,
     "metadata": {},
     "output_type": "execute_result"
    }
   ],
   "source": [
    "#Can't use pivot\n",
    "survey.group(['Handedness', 'Sleep position', 'First pant leg']).sort('count', descending=True)"
   ]
  },
  {
   "cell_type": "markdown",
   "id": "708314c0",
   "metadata": {},
   "source": [
    "### Pivot Tables"
   ]
  },
  {
   "cell_type": "code",
   "execution_count": null,
   "id": "cb538059",
   "metadata": {},
   "outputs": [],
   "source": [
    "#To drop a row, first use pivot so that it becomes a column, then .drop() then pivot again"
   ]
  },
  {
   "cell_type": "code",
   "execution_count": null,
   "id": "56d6a1ed",
   "metadata": {},
   "outputs": [],
   "source": [
    "#Group & Pivot are not an end-goal but a means to an end"
   ]
  },
  {
   "cell_type": "code",
   "execution_count": 26,
   "id": "2245e502",
   "metadata": {},
   "outputs": [],
   "source": [
    "#Same goal different operation\n",
    "#Results are presented in a different way"
   ]
  },
  {
   "cell_type": "code",
   "execution_count": 18,
   "id": "b96238ca",
   "metadata": {},
   "outputs": [],
   "source": [
    "#Produces a grid of counts or aggregated values\n",
    "#Two required arguments\n",
    "    #1) Variable that forms column label of grid\n",
    "    #2) Variable that forms row labels of grid"
   ]
  },
  {
   "cell_type": "code",
   "execution_count": 19,
   "id": "bd3c5070",
   "metadata": {},
   "outputs": [],
   "source": [
    "##Two optional arguments (include both or neither)\n",
    "    #values='column_label_to_aggregate'\n",
    "    #collect='function_to_aggregate_with'"
   ]
  },
  {
   "cell_type": "code",
   "execution_count": 20,
   "id": "d395cd71",
   "metadata": {},
   "outputs": [
    {
     "data": {
      "text/html": [
       "<table border=\"1\" class=\"dataframe\">\n",
       "    <thead>\n",
       "        <tr>\n",
       "            <th>Sleep position</th> <th>Left-handed</th> <th>Right-handed</th>\n",
       "        </tr>\n",
       "    </thead>\n",
       "    <tbody>\n",
       "        <tr>\n",
       "            <td>On your back      </td> <td>36         </td> <td>322         </td>\n",
       "        </tr>\n",
       "        <tr>\n",
       "            <td>On your left side </td> <td>34         </td> <td>296         </td>\n",
       "        </tr>\n",
       "        <tr>\n",
       "            <td>On your right side</td> <td>30         </td> <td>383         </td>\n",
       "        </tr>\n",
       "        <tr>\n",
       "            <td>On your stomach   </td> <td>13         </td> <td>196         </td>\n",
       "        </tr>\n",
       "    </tbody>\n",
       "</table>"
      ],
      "text/plain": [
       "Sleep position     | Left-handed | Right-handed\n",
       "On your back       | 36          | 322\n",
       "On your left side  | 34          | 296\n",
       "On your right side | 30          | 383\n",
       "On your stomach    | 13          | 196"
      ]
     },
     "execution_count": 20,
     "metadata": {},
     "output_type": "execute_result"
    }
   ],
   "source": [
    "#The first argument expands to create columns titles\n",
    "#The second argument rolls over down to create rows\n",
    "survey.pivot('Handedness', 'Sleep position')"
   ]
  },
  {
   "cell_type": "code",
   "execution_count": 21,
   "id": "5e1a96c4",
   "metadata": {},
   "outputs": [
    {
     "data": {
      "text/html": [
       "<table border=\"1\" class=\"dataframe\">\n",
       "    <thead>\n",
       "        <tr>\n",
       "            <th>Handedness</th> <th>On your back</th> <th>On your left side</th> <th>On your right side</th> <th>On your stomach</th>\n",
       "        </tr>\n",
       "    </thead>\n",
       "    <tbody>\n",
       "        <tr>\n",
       "            <td>Left-handed </td> <td>36          </td> <td>34               </td> <td>30                </td> <td>13             </td>\n",
       "        </tr>\n",
       "        <tr>\n",
       "            <td>Right-handed</td> <td>322         </td> <td>296              </td> <td>383               </td> <td>196            </td>\n",
       "        </tr>\n",
       "    </tbody>\n",
       "</table>"
      ],
      "text/plain": [
       "Handedness   | On your back | On your left side | On your right side | On your stomach\n",
       "Left-handed  | 36           | 34                | 30                 | 13\n",
       "Right-handed | 322          | 296               | 383                | 196"
      ]
     },
     "execution_count": 21,
     "metadata": {},
     "output_type": "execute_result"
    }
   ],
   "source": [
    "survey.pivot('Sleep position', 'Handedness')"
   ]
  },
  {
   "cell_type": "code",
   "execution_count": null,
   "id": "16a7c4f4",
   "metadata": {},
   "outputs": [],
   "source": []
  },
  {
   "cell_type": "markdown",
   "id": "86efb2c2",
   "metadata": {},
   "source": [
    "### Aggregating numerical variables"
   ]
  },
  {
   "cell_type": "code",
   "execution_count": 22,
   "id": "a1bd8887",
   "metadata": {},
   "outputs": [
    {
     "data": {
      "text/html": [
       "<table border=\"1\" class=\"dataframe\">\n",
       "    <thead>\n",
       "        <tr>\n",
       "            <th>Sleep position</th> <th>Year average</th> <th>Extraversion average</th> <th>Number of textees average</th> <th>Hours of sleep average</th> <th>Handedness average</th> <th>First pant leg average</th>\n",
       "        </tr>\n",
       "    </thead>\n",
       "    <tbody>\n",
       "        <tr>\n",
       "            <td>On your back      </td> <td>            </td> <td>5.31844             </td> <td>5.96089                  </td> <td>7.03212               </td> <td>                  </td> <td>                      </td>\n",
       "        </tr>\n",
       "        <tr>\n",
       "            <td>On your left side </td> <td>            </td> <td>5.48485             </td> <td>6.71212                  </td> <td>7.00682               </td> <td>                  </td> <td>                      </td>\n",
       "        </tr>\n",
       "        <tr>\n",
       "            <td>On your right side</td> <td>            </td> <td>5.52542             </td> <td>7.0339                   </td> <td>7.04479               </td> <td>                  </td> <td>                      </td>\n",
       "        </tr>\n",
       "        <tr>\n",
       "            <td>On your stomach   </td> <td>            </td> <td>5.76555             </td> <td>6.84689                  </td> <td>7.13636               </td> <td>                  </td> <td>                      </td>\n",
       "        </tr>\n",
       "    </tbody>\n",
       "</table>"
      ],
      "text/plain": [
       "Sleep position     | Year average | Extraversion average | Number of textees average | Hours of sleep average | Handedness average | First pant leg average\n",
       "On your back       |              | 5.31844              | 5.96089                   | 7.03212                |                    |\n",
       "On your left side  |              | 5.48485              | 6.71212                   | 7.00682                |                    |\n",
       "On your right side |              | 5.52542              | 7.0339                    | 7.04479                |                    |\n",
       "On your stomach    |              | 5.76555              | 6.84689                   | 7.13636                |                    |"
      ]
     },
     "execution_count": 22,
     "metadata": {},
     "output_type": "execute_result"
    }
   ],
   "source": [
    "survey.group('Sleep position', collect=np.average)"
   ]
  },
  {
   "cell_type": "code",
   "execution_count": 23,
   "id": "e2600eed",
   "metadata": {},
   "outputs": [
    {
     "data": {
      "text/html": [
       "<table border=\"1\" class=\"dataframe\">\n",
       "    <thead>\n",
       "        <tr>\n",
       "            <th>Handedness</th> <th>Sleep position</th> <th>Hours of sleep average</th>\n",
       "        </tr>\n",
       "    </thead>\n",
       "    <tbody>\n",
       "        <tr>\n",
       "            <td>Left-handed </td> <td>On your back      </td> <td>6.68056               </td>\n",
       "        </tr>\n",
       "        <tr>\n",
       "            <td>Left-handed </td> <td>On your left side </td> <td>7.13235               </td>\n",
       "        </tr>\n",
       "        <tr>\n",
       "            <td>Left-handed </td> <td>On your right side</td> <td>7.23333               </td>\n",
       "        </tr>\n",
       "        <tr>\n",
       "            <td>Left-handed </td> <td>On your stomach   </td> <td>7                     </td>\n",
       "        </tr>\n",
       "        <tr>\n",
       "            <td>Right-handed</td> <td>On your back      </td> <td>7.07143               </td>\n",
       "        </tr>\n",
       "        <tr>\n",
       "            <td>Right-handed</td> <td>On your left side </td> <td>6.9924                </td>\n",
       "        </tr>\n",
       "        <tr>\n",
       "            <td>Right-handed</td> <td>On your right side</td> <td>7.03003               </td>\n",
       "        </tr>\n",
       "        <tr>\n",
       "            <td>Right-handed</td> <td>On your stomach   </td> <td>7.14541               </td>\n",
       "        </tr>\n",
       "    </tbody>\n",
       "</table>"
      ],
      "text/plain": [
       "Handedness   | Sleep position     | Hours of sleep average\n",
       "Left-handed  | On your back       | 6.68056\n",
       "Left-handed  | On your left side  | 7.13235\n",
       "Left-handed  | On your right side | 7.23333\n",
       "Left-handed  | On your stomach    | 7\n",
       "Right-handed | On your back       | 7.07143\n",
       "Right-handed | On your left side  | 6.9924\n",
       "Right-handed | On your right side | 7.03003\n",
       "Right-handed | On your stomach    | 7.14541"
      ]
     },
     "execution_count": 23,
     "metadata": {},
     "output_type": "execute_result"
    }
   ],
   "source": [
    "t = survey.select('Handedness', 'Sleep position', 'Hours of sleep')\n",
    "t.group(['Handedness', 'Sleep position'], collect=np.average)"
   ]
  },
  {
   "cell_type": "code",
   "execution_count": 25,
   "id": "fee9b5b9",
   "metadata": {},
   "outputs": [
    {
     "data": {
      "text/html": [
       "<table border=\"1\" class=\"dataframe\">\n",
       "    <thead>\n",
       "        <tr>\n",
       "            <th>Handedness</th> <th>On your back</th> <th>On your left side</th> <th>On your right side</th> <th>On your stomach</th>\n",
       "        </tr>\n",
       "    </thead>\n",
       "    <tbody>\n",
       "        <tr>\n",
       "            <td>Left-handed </td> <td>6.68056     </td> <td>7.13235          </td> <td>7.23333           </td> <td>7              </td>\n",
       "        </tr>\n",
       "        <tr>\n",
       "            <td>Right-handed</td> <td>7.07143     </td> <td>6.9924           </td> <td>7.03003           </td> <td>7.14541        </td>\n",
       "        </tr>\n",
       "    </tbody>\n",
       "</table>"
      ],
      "text/plain": [
       "Handedness   | On your back | On your left side | On your right side | On your stomach\n",
       "Left-handed  | 6.68056      | 7.13235           | 7.23333            | 7\n",
       "Right-handed | 7.07143      | 6.9924            | 7.03003            | 7.14541"
      ]
     },
     "execution_count": 25,
     "metadata": {},
     "output_type": "execute_result"
    }
   ],
   "source": [
    "#survey.pivot('Argument1', 'Argument2', what do we want to look at, how we want to look at it)\n",
    "survey.pivot('Sleep position', 'Handedness', values='Hours of sleep', collect=np.average)"
   ]
  },
  {
   "cell_type": "code",
   "execution_count": null,
   "id": "9d230637",
   "metadata": {},
   "outputs": [],
   "source": []
  },
  {
   "cell_type": "markdown",
   "id": "b674ea74",
   "metadata": {},
   "source": [
    "# Challenge Questions"
   ]
  },
  {
   "cell_type": "code",
   "execution_count": null,
   "id": "1617c245",
   "metadata": {},
   "outputs": [],
   "source": [
    "##Q) For each city, what's the height of the tallest building for each material?\n",
    "##Q) For each city, whats the age difference between the oldest steel building and \n",
    "##the oldest concrete building"
   ]
  },
  {
   "cell_type": "code",
   "execution_count": 45,
   "id": "7ec9213c",
   "metadata": {},
   "outputs": [
    {
     "data": {
      "text/html": [
       "<table border=\"1\" class=\"dataframe\">\n",
       "    <thead>\n",
       "        <tr>\n",
       "            <th>name</th> <th>material</th> <th>city</th> <th>height</th> <th>completed</th>\n",
       "        </tr>\n",
       "    </thead>\n",
       "    <tbody>\n",
       "        <tr>\n",
       "            <td>One World Trade Center           </td> <td>mixed/composite</td> <td>New York City</td> <td>541.3 </td> <td>2014     </td>\n",
       "        </tr>\n",
       "        <tr>\n",
       "            <td>Willis Tower                     </td> <td>steel          </td> <td>Chicago      </td> <td>442.14</td> <td>1974     </td>\n",
       "        </tr>\n",
       "        <tr>\n",
       "            <td>432 Park Avenue                  </td> <td>concrete       </td> <td>New York City</td> <td>425.5 </td> <td>2015     </td>\n",
       "        </tr>\n",
       "        <tr>\n",
       "            <td>Trump International Hotel & Tower</td> <td>concrete       </td> <td>Chicago      </td> <td>423.22</td> <td>2009     </td>\n",
       "        </tr>\n",
       "        <tr>\n",
       "            <td>Empire State Building            </td> <td>steel          </td> <td>New York City</td> <td>381   </td> <td>1931     </td>\n",
       "        </tr>\n",
       "        <tr>\n",
       "            <td>Bank of America Tower            </td> <td>mixed/composite</td> <td>New York City</td> <td>365.8 </td> <td>2009     </td>\n",
       "        </tr>\n",
       "        <tr>\n",
       "            <td>Stratosphere Tower               </td> <td>concrete       </td> <td>Las Vegas    </td> <td>350.22</td> <td>1996     </td>\n",
       "        </tr>\n",
       "        <tr>\n",
       "            <td>Aon Center                       </td> <td>steel          </td> <td>Chicago      </td> <td>346.26</td> <td>1973     </td>\n",
       "        </tr>\n",
       "        <tr>\n",
       "            <td>John Hancock Center              </td> <td>steel          </td> <td>Chicago      </td> <td>343.69</td> <td>1969     </td>\n",
       "        </tr>\n",
       "        <tr>\n",
       "            <td>Chrysler Building                </td> <td>steel          </td> <td>New York City</td> <td>318.9 </td> <td>1930     </td>\n",
       "        </tr>\n",
       "    </tbody>\n",
       "</table>\n",
       "<p>... (1771 rows omitted)</p>"
      ],
      "text/plain": [
       "name                              | material        | city          | height | completed\n",
       "One World Trade Center            | mixed/composite | New York City | 541.3  | 2014\n",
       "Willis Tower                      | steel           | Chicago       | 442.14 | 1974\n",
       "432 Park Avenue                   | concrete        | New York City | 425.5  | 2015\n",
       "Trump International Hotel & Tower | concrete        | Chicago       | 423.22 | 2009\n",
       "Empire State Building             | steel           | New York City | 381    | 1931\n",
       "Bank of America Tower             | mixed/composite | New York City | 365.8  | 2009\n",
       "Stratosphere Tower                | concrete        | Las Vegas     | 350.22 | 1996\n",
       "Aon Center                        | steel           | Chicago       | 346.26 | 1973\n",
       "John Hancock Center               | steel           | Chicago       | 343.69 | 1969\n",
       "Chrysler Building                 | steel           | New York City | 318.9  | 1930\n",
       "... (1771 rows omitted)"
      ]
     },
     "execution_count": 45,
     "metadata": {},
     "output_type": "execute_result"
    }
   ],
   "source": [
    "sky = Table.read_table('skyscrapers_v2.csv')\n",
    "sky"
   ]
  },
  {
   "cell_type": "code",
   "execution_count": 46,
   "id": "50c0db0d",
   "metadata": {},
   "outputs": [
    {
     "data": {
      "text/html": [
       "<table border=\"1\" class=\"dataframe\">\n",
       "    <thead>\n",
       "        <tr>\n",
       "            <th>name</th> <th>material</th> <th>city</th> <th>height</th> <th>age</th>\n",
       "        </tr>\n",
       "    </thead>\n",
       "    <tbody>\n",
       "        <tr>\n",
       "            <td>One World Trade Center</td> <td>mixed/composite</td> <td>New York City</td> <td>541.3 </td> <td>6   </td>\n",
       "        </tr>\n",
       "        <tr>\n",
       "            <td>Willis Tower          </td> <td>steel          </td> <td>Chicago      </td> <td>442.14</td> <td>46  </td>\n",
       "        </tr>\n",
       "        <tr>\n",
       "            <td>432 Park Avenue       </td> <td>concrete       </td> <td>New York City</td> <td>425.5 </td> <td>5   </td>\n",
       "        </tr>\n",
       "    </tbody>\n",
       "</table>\n",
       "<p>... (1778 rows omitted)</p>"
      ],
      "text/plain": [
       "<IPython.core.display.HTML object>"
      ]
     },
     "metadata": {},
     "output_type": "display_data"
    }
   ],
   "source": [
    "sky = (sky.with_column('age', 2020-sky.column('completed')).drop('completed'))\n",
    "sky.show(3)"
   ]
  },
  {
   "cell_type": "code",
   "execution_count": 47,
   "id": "936e80f9",
   "metadata": {},
   "outputs": [
    {
     "data": {
      "text/html": [
       "<table border=\"1\" class=\"dataframe\">\n",
       "    <thead>\n",
       "        <tr>\n",
       "            <th>city</th> <th>material</th> <th>count</th>\n",
       "        </tr>\n",
       "    </thead>\n",
       "    <tbody>\n",
       "        <tr>\n",
       "            <td>Atlanta  </td> <td>concrete       </td> <td>27   </td>\n",
       "        </tr>\n",
       "        <tr>\n",
       "            <td>Atlanta  </td> <td>mixed/composite</td> <td>4    </td>\n",
       "        </tr>\n",
       "        <tr>\n",
       "            <td>Atlanta  </td> <td>steel          </td> <td>7    </td>\n",
       "        </tr>\n",
       "        <tr>\n",
       "            <td>Austin   </td> <td>concrete       </td> <td>16   </td>\n",
       "        </tr>\n",
       "        <tr>\n",
       "            <td>Austin   </td> <td>steel          </td> <td>1    </td>\n",
       "        </tr>\n",
       "        <tr>\n",
       "            <td>Baltimore</td> <td>concrete       </td> <td>8    </td>\n",
       "        </tr>\n",
       "        <tr>\n",
       "            <td>Baltimore</td> <td>steel          </td> <td>6    </td>\n",
       "        </tr>\n",
       "        <tr>\n",
       "            <td>Boston   </td> <td>concrete       </td> <td>4    </td>\n",
       "        </tr>\n",
       "        <tr>\n",
       "            <td>Boston   </td> <td>mixed/composite</td> <td>2    </td>\n",
       "        </tr>\n",
       "        <tr>\n",
       "            <td>Boston   </td> <td>steel          </td> <td>26   </td>\n",
       "        </tr>\n",
       "    </tbody>\n",
       "</table>\n",
       "<p>... (81 rows omitted)</p>"
      ],
      "text/plain": [
       "city      | material        | count\n",
       "Atlanta   | concrete        | 27\n",
       "Atlanta   | mixed/composite | 4\n",
       "Atlanta   | steel           | 7\n",
       "Austin    | concrete        | 16\n",
       "Austin    | steel           | 1\n",
       "Baltimore | concrete        | 8\n",
       "Baltimore | steel           | 6\n",
       "Boston    | concrete        | 4\n",
       "Boston    | mixed/composite | 2\n",
       "Boston    | steel           | 26\n",
       "... (81 rows omitted)"
      ]
     },
     "execution_count": 47,
     "metadata": {},
     "output_type": "execute_result"
    }
   ],
   "source": [
    "sky.group(['city', 'material'])\n",
    "#This tells us how many concrete buildings in Atlanta\n",
    "#However, the question asked for the tallest building\n",
    "#Hence, summarizing by count was not the right way to summarize\n",
    "#Need to use a different aggregation function"
   ]
  },
  {
   "cell_type": "code",
   "execution_count": 48,
   "id": "7692ecd6",
   "metadata": {},
   "outputs": [
    {
     "data": {
      "text/html": [
       "<table border=\"1\" class=\"dataframe\">\n",
       "    <thead>\n",
       "        <tr>\n",
       "            <th>city</th> <th>material</th> <th>name max</th> <th>height max</th> <th>age max</th>\n",
       "        </tr>\n",
       "    </thead>\n",
       "    <tbody>\n",
       "        <tr>\n",
       "            <td>Atlanta  </td> <td>concrete       </td> <td>Westin Peachtree Plaza                 </td> <td>264.25    </td> <td>44     </td>\n",
       "        </tr>\n",
       "        <tr>\n",
       "            <td>Atlanta  </td> <td>mixed/composite</td> <td>Two Alliance Center                    </td> <td>311.8     </td> <td>33     </td>\n",
       "        </tr>\n",
       "        <tr>\n",
       "            <td>Atlanta  </td> <td>steel          </td> <td>State of Georgia Building              </td> <td>169.47    </td> <td>123    </td>\n",
       "        </tr>\n",
       "        <tr>\n",
       "            <td>Austin   </td> <td>concrete       </td> <td>Windsor on the Lake                    </td> <td>208.15    </td> <td>36     </td>\n",
       "        </tr>\n",
       "        <tr>\n",
       "            <td>Austin   </td> <td>steel          </td> <td>University of Texas Tower              </td> <td>93.6      </td> <td>83     </td>\n",
       "        </tr>\n",
       "        <tr>\n",
       "            <td>Baltimore</td> <td>concrete       </td> <td>The John and Frances Angelos Law Center</td> <td>161.24    </td> <td>53     </td>\n",
       "        </tr>\n",
       "        <tr>\n",
       "            <td>Baltimore</td> <td>steel          </td> <td>Mercy Medical Center Inpatient Tower   </td> <td>155.15    </td> <td>109    </td>\n",
       "        </tr>\n",
       "        <tr>\n",
       "            <td>Boston   </td> <td>concrete       </td> <td>Harbor Towers II                       </td> <td>121.92    </td> <td>49     </td>\n",
       "        </tr>\n",
       "        <tr>\n",
       "            <td>Boston   </td> <td>mixed/composite</td> <td>Ellison Building                       </td> <td>139       </td> <td>28     </td>\n",
       "        </tr>\n",
       "        <tr>\n",
       "            <td>Boston   </td> <td>steel          </td> <td>Two International Place                </td> <td>240.79    </td> <td>105    </td>\n",
       "        </tr>\n",
       "    </tbody>\n",
       "</table>\n",
       "<p>... (81 rows omitted)</p>"
      ],
      "text/plain": [
       "city      | material        | name max                                | height max | age max\n",
       "Atlanta   | concrete        | Westin Peachtree Plaza                  | 264.25     | 44\n",
       "Atlanta   | mixed/composite | Two Alliance Center                     | 311.8      | 33\n",
       "Atlanta   | steel           | State of Georgia Building               | 169.47     | 123\n",
       "Austin    | concrete        | Windsor on the Lake                     | 208.15     | 36\n",
       "Austin    | steel           | University of Texas Tower               | 93.6       | 83\n",
       "Baltimore | concrete        | The John and Frances Angelos Law Center | 161.24     | 53\n",
       "Baltimore | steel           | Mercy Medical Center Inpatient Tower    | 155.15     | 109\n",
       "Boston    | concrete        | Harbor Towers II                        | 121.92     | 49\n",
       "Boston    | mixed/composite | Ellison Building                        | 139        | 28\n",
       "Boston    | steel           | Two International Place                 | 240.79     | 105\n",
       "... (81 rows omitted)"
      ]
     },
     "execution_count": 48,
     "metadata": {},
     "output_type": "execute_result"
    }
   ],
   "source": [
    "sky.group(['city', 'material'], collect=max)"
   ]
  },
  {
   "cell_type": "code",
   "execution_count": 49,
   "id": "7a189bcd",
   "metadata": {},
   "outputs": [
    {
     "data": {
      "text/html": [
       "<table border=\"1\" class=\"dataframe\">\n",
       "    <thead>\n",
       "        <tr>\n",
       "            <th>city</th> <th>material</th> <th>height max</th>\n",
       "        </tr>\n",
       "    </thead>\n",
       "    <tbody>\n",
       "        <tr>\n",
       "            <td>Atlanta  </td> <td>concrete       </td> <td>264.25    </td>\n",
       "        </tr>\n",
       "        <tr>\n",
       "            <td>Atlanta  </td> <td>mixed/composite</td> <td>311.8     </td>\n",
       "        </tr>\n",
       "        <tr>\n",
       "            <td>Atlanta  </td> <td>steel          </td> <td>169.47    </td>\n",
       "        </tr>\n",
       "        <tr>\n",
       "            <td>Austin   </td> <td>concrete       </td> <td>208.15    </td>\n",
       "        </tr>\n",
       "        <tr>\n",
       "            <td>Austin   </td> <td>steel          </td> <td>93.6      </td>\n",
       "        </tr>\n",
       "        <tr>\n",
       "            <td>Baltimore</td> <td>concrete       </td> <td>161.24    </td>\n",
       "        </tr>\n",
       "        <tr>\n",
       "            <td>Baltimore</td> <td>steel          </td> <td>155.15    </td>\n",
       "        </tr>\n",
       "        <tr>\n",
       "            <td>Boston   </td> <td>concrete       </td> <td>121.92    </td>\n",
       "        </tr>\n",
       "        <tr>\n",
       "            <td>Boston   </td> <td>mixed/composite</td> <td>139       </td>\n",
       "        </tr>\n",
       "        <tr>\n",
       "            <td>Boston   </td> <td>steel          </td> <td>240.79    </td>\n",
       "        </tr>\n",
       "    </tbody>\n",
       "</table>\n",
       "<p>... (81 rows omitted)</p>"
      ],
      "text/plain": [
       "city      | material        | height max\n",
       "Atlanta   | concrete        | 264.25\n",
       "Atlanta   | mixed/composite | 311.8\n",
       "Atlanta   | steel           | 169.47\n",
       "Austin    | concrete        | 208.15\n",
       "Austin    | steel           | 93.6\n",
       "Baltimore | concrete        | 161.24\n",
       "Baltimore | steel           | 155.15\n",
       "Boston    | concrete        | 121.92\n",
       "Boston    | mixed/composite | 139\n",
       "Boston    | steel           | 240.79\n",
       "... (81 rows omitted)"
      ]
     },
     "execution_count": 49,
     "metadata": {},
     "output_type": "execute_result"
    }
   ],
   "source": [
    "sky.group(['city', 'material'], collect=max).select('city', 'material', 'height max')"
   ]
  },
  {
   "cell_type": "code",
   "execution_count": 50,
   "id": "04535392",
   "metadata": {},
   "outputs": [
    {
     "data": {
      "text/html": [
       "<table border=\"1\" class=\"dataframe\">\n",
       "    <thead>\n",
       "        <tr>\n",
       "            <th>city</th> <th>material</th> <th>height max</th>\n",
       "        </tr>\n",
       "    </thead>\n",
       "    <tbody>\n",
       "        <tr>\n",
       "            <td>Atlanta  </td> <td>concrete       </td> <td>264.25    </td>\n",
       "        </tr>\n",
       "        <tr>\n",
       "            <td>Atlanta  </td> <td>mixed/composite</td> <td>311.8     </td>\n",
       "        </tr>\n",
       "        <tr>\n",
       "            <td>Atlanta  </td> <td>steel          </td> <td>169.47    </td>\n",
       "        </tr>\n",
       "        <tr>\n",
       "            <td>Austin   </td> <td>concrete       </td> <td>208.15    </td>\n",
       "        </tr>\n",
       "        <tr>\n",
       "            <td>Austin   </td> <td>steel          </td> <td>93.6      </td>\n",
       "        </tr>\n",
       "        <tr>\n",
       "            <td>Baltimore</td> <td>concrete       </td> <td>161.24    </td>\n",
       "        </tr>\n",
       "        <tr>\n",
       "            <td>Baltimore</td> <td>steel          </td> <td>155.15    </td>\n",
       "        </tr>\n",
       "        <tr>\n",
       "            <td>Boston   </td> <td>concrete       </td> <td>121.92    </td>\n",
       "        </tr>\n",
       "        <tr>\n",
       "            <td>Boston   </td> <td>mixed/composite</td> <td>139       </td>\n",
       "        </tr>\n",
       "        <tr>\n",
       "            <td>Boston   </td> <td>steel          </td> <td>240.79    </td>\n",
       "        </tr>\n",
       "    </tbody>\n",
       "</table>\n",
       "<p>... (81 rows omitted)</p>"
      ],
      "text/plain": [
       "city      | material        | height max\n",
       "Atlanta   | concrete        | 264.25\n",
       "Atlanta   | mixed/composite | 311.8\n",
       "Atlanta   | steel           | 169.47\n",
       "Austin    | concrete        | 208.15\n",
       "Austin    | steel           | 93.6\n",
       "Baltimore | concrete        | 161.24\n",
       "Baltimore | steel           | 155.15\n",
       "Boston    | concrete        | 121.92\n",
       "Boston    | mixed/composite | 139\n",
       "Boston    | steel           | 240.79\n",
       "... (81 rows omitted)"
      ]
     },
     "execution_count": 50,
     "metadata": {},
     "output_type": "execute_result"
    }
   ],
   "source": [
    "sky2 = sky.select('city', 'material', 'height')\n",
    "sky2.group(['city', 'material'], collect=max)"
   ]
  },
  {
   "cell_type": "code",
   "execution_count": 51,
   "id": "b01ea707",
   "metadata": {},
   "outputs": [
    {
     "data": {
      "text/html": [
       "<table border=\"1\" class=\"dataframe\">\n",
       "    <thead>\n",
       "        <tr>\n",
       "            <th>material</th> <th>Atlanta</th> <th>Austin</th> <th>Baltimore</th> <th>Boston</th> <th>Charlotte</th> <th>Chicago</th> <th>Cincinnati</th> <th>Cleveland</th> <th>Columbus</th> <th>Dallas</th> <th>Denver</th> <th>Detroit</th> <th>Honolulu</th> <th>Houston</th> <th>Indianapolis</th> <th>Jersey City</th> <th>Kansas City</th> <th>Las Vegas</th> <th>Los Angeles</th> <th>Miami</th> <th>Miami Beach</th> <th>Milwaukee</th> <th>Minneapolis</th> <th>New York City</th> <th>Philadelphia</th> <th>Phoenix</th> <th>Pittsburgh</th> <th>Portland</th> <th>Sacramento</th> <th>Salt Lake City</th> <th>San Diego</th> <th>San Francisco</th> <th>Seattle</th> <th>St. Louis</th> <th>Sunny Isles Beach</th>\n",
       "        </tr>\n",
       "    </thead>\n",
       "    <tbody>\n",
       "        <tr>\n",
       "            <td>concrete       </td> <td>264.25 </td> <td>208.15</td> <td>161.24   </td> <td>121.92</td> <td>265.48   </td> <td>423.22 </td> <td>125       </td> <td>125      </td> <td>79.25   </td> <td>176.48</td> <td>194.75</td> <td>221.49 </td> <td>129.8   </td> <td>217.63 </td> <td>128.17      </td> <td>162.16     </td> <td>189.89     </td> <td>350.22   </td> <td>145.7      </td> <td>240.41</td> <td>170.39     </td> <td>136      </td> <td>203.58     </td> <td>425.5        </td> <td>157.89      </td> <td>124.1  </td> <td>89.3      </td> <td>155.15  </td> <td>106.98    </td> <td>114.91        </td> <td>151.49   </td> <td>196.6        </td> <td>138.69 </td> <td>100.66   </td> <td>196              </td>\n",
       "        </tr>\n",
       "        <tr>\n",
       "            <td>mixed/composite</td> <td>311.8  </td> <td>0     </td> <td>0        </td> <td>139   </td> <td>239.7    </td> <td>306.94 </td> <td>202.69    </td> <td>288.65   </td> <td>0       </td> <td>280.72</td> <td>212.75</td> <td>0      </td> <td>0       </td> <td>305.41 </td> <td>0           </td> <td>0          </td> <td>0          </td> <td>195.68   </td> <td>118.26     </td> <td>232.8 </td> <td>0          </td> <td>0        </td> <td>241.38     </td> <td>541.3        </td> <td>296.73      </td> <td>114    </td> <td>172       </td> <td>127.4   </td> <td>115.82    </td> <td>0             </td> <td>144.78   </td> <td>260          </td> <td>284.38 </td> <td>180.75   </td> <td>0                </td>\n",
       "        </tr>\n",
       "        <tr>\n",
       "            <td>steel          </td> <td>169.47 </td> <td>93.6  </td> <td>155.15   </td> <td>240.79</td> <td>179.23   </td> <td>442.14 </td> <td>175       </td> <td>215.8    </td> <td>169.3   </td> <td>270.06</td> <td>217.63</td> <td>173.26 </td> <td>130.75  </td> <td>302.37 </td> <td>213.67      </td> <td>238.05     </td> <td>146.61     </td> <td>160      </td> <td>310.29     </td> <td>147.52</td> <td>0          </td> <td>183.19   </td> <td>144.64     </td> <td>381          </td> <td>288.04      </td> <td>147.22 </td> <td>256.34    </td> <td>166.42  </td> <td>122.6     </td> <td>128.63        </td> <td>152.4    </td> <td>237.44       </td> <td>235.31 </td> <td>147.6    </td> <td>0                </td>\n",
       "        </tr>\n",
       "    </tbody>\n",
       "</table>"
      ],
      "text/plain": [
       "material        | Atlanta | Austin | Baltimore | Boston | Charlotte | Chicago | Cincinnati | Cleveland | Columbus | Dallas | Denver | Detroit | Honolulu | Houston | Indianapolis | Jersey City | Kansas City | Las Vegas | Los Angeles | Miami  | Miami Beach | Milwaukee | Minneapolis | New York City | Philadelphia | Phoenix | Pittsburgh | Portland | Sacramento | Salt Lake City | San Diego | San Francisco | Seattle | St. Louis | Sunny Isles Beach\n",
       "concrete        | 264.25  | 208.15 | 161.24    | 121.92 | 265.48    | 423.22  | 125        | 125       | 79.25    | 176.48 | 194.75 | 221.49  | 129.8    | 217.63  | 128.17       | 162.16      | 189.89      | 350.22    | 145.7       | 240.41 | 170.39      | 136       | 203.58      | 425.5         | 157.89       | 124.1   | 89.3       | 155.15   | 106.98     | 114.91         | 151.49    | 196.6         | 138.69  | 100.66    | 196\n",
       "mixed/composite | 311.8   | 0      | 0         | 139    | 239.7     | 306.94  | 202.69     | 288.65    | 0        | 280.72 | 212.75 | 0       | 0        | 305.41  | 0            | 0           | 0           | 195.68    | 118.26      | 232.8  | 0           | 0         | 241.38      | 541.3         | 296.73       | 114     | 172        | 127.4    | 115.82     | 0              | 144.78    | 260           | 284.38  | 180.75    | 0\n",
       "steel           | 169.47  | 93.6   | 155.15    | 240.79 | 179.23    | 442.14  | 175        | 215.8     | 169.3    | 270.06 | 217.63 | 173.26  | 130.75   | 302.37  | 213.67       | 238.05      | 146.61      | 160       | 310.29      | 147.52 | 0           | 183.19    | 144.64      | 381           | 288.04       | 147.22  | 256.34     | 166.42   | 122.6      | 128.63         | 152.4     | 237.44        | 235.31  | 147.6     | 0"
      ]
     },
     "execution_count": 51,
     "metadata": {},
     "output_type": "execute_result"
    }
   ],
   "source": [
    "sky.pivot('city', 'material', values='height', collect=max)"
   ]
  },
  {
   "cell_type": "code",
   "execution_count": null,
   "id": "9c749b37",
   "metadata": {},
   "outputs": [],
   "source": []
  },
  {
   "cell_type": "code",
   "execution_count": 52,
   "id": "6ff07bc0",
   "metadata": {},
   "outputs": [],
   "source": [
    "#Age Difference\n",
    "##Q) For each city, whats the age difference between the oldest steel building and \n",
    "##the oldest concrete building"
   ]
  },
  {
   "cell_type": "code",
   "execution_count": 53,
   "id": "726457f3",
   "metadata": {},
   "outputs": [],
   "source": [
    "#Start by asking\n",
    "#How am I grouping things\n",
    "#Find a format that makes it easy to find the differences in one operation"
   ]
  },
  {
   "cell_type": "code",
   "execution_count": 55,
   "id": "26efd391",
   "metadata": {},
   "outputs": [
    {
     "data": {
      "text/html": [
       "<table border=\"1\" class=\"dataframe\">\n",
       "    <thead>\n",
       "        <tr>\n",
       "            <th>city</th> <th>material</th> <th>age max</th>\n",
       "        </tr>\n",
       "    </thead>\n",
       "    <tbody>\n",
       "        <tr>\n",
       "            <td>Atlanta  </td> <td>concrete       </td> <td>44     </td>\n",
       "        </tr>\n",
       "        <tr>\n",
       "            <td>Atlanta  </td> <td>mixed/composite</td> <td>33     </td>\n",
       "        </tr>\n",
       "        <tr>\n",
       "            <td>Atlanta  </td> <td>steel          </td> <td>123    </td>\n",
       "        </tr>\n",
       "        <tr>\n",
       "            <td>Austin   </td> <td>concrete       </td> <td>36     </td>\n",
       "        </tr>\n",
       "        <tr>\n",
       "            <td>Austin   </td> <td>steel          </td> <td>83     </td>\n",
       "        </tr>\n",
       "        <tr>\n",
       "            <td>Baltimore</td> <td>concrete       </td> <td>53     </td>\n",
       "        </tr>\n",
       "        <tr>\n",
       "            <td>Baltimore</td> <td>steel          </td> <td>109    </td>\n",
       "        </tr>\n",
       "        <tr>\n",
       "            <td>Boston   </td> <td>concrete       </td> <td>49     </td>\n",
       "        </tr>\n",
       "        <tr>\n",
       "            <td>Boston   </td> <td>mixed/composite</td> <td>28     </td>\n",
       "        </tr>\n",
       "        <tr>\n",
       "            <td>Boston   </td> <td>steel          </td> <td>105    </td>\n",
       "        </tr>\n",
       "    </tbody>\n",
       "</table>\n",
       "<p>... (81 rows omitted)</p>"
      ],
      "text/plain": [
       "city      | material        | age max\n",
       "Atlanta   | concrete        | 44\n",
       "Atlanta   | mixed/composite | 33\n",
       "Atlanta   | steel           | 123\n",
       "Austin    | concrete        | 36\n",
       "Austin    | steel           | 83\n",
       "Baltimore | concrete        | 53\n",
       "Baltimore | steel           | 109\n",
       "Boston    | concrete        | 49\n",
       "Boston    | mixed/composite | 28\n",
       "Boston    | steel           | 105\n",
       "... (81 rows omitted)"
      ]
     },
     "execution_count": 55,
     "metadata": {},
     "output_type": "execute_result"
    }
   ],
   "source": [
    "sky3 = sky.select('city', 'material', 'age')\n",
    "sky3.group(['city', 'material'], collect=max)"
   ]
  },
  {
   "cell_type": "code",
   "execution_count": 57,
   "id": "caf15b9f",
   "metadata": {},
   "outputs": [],
   "source": [
    "#Find the difference between (Atlanta, concrete) & (Atlanta, steel)"
   ]
  },
  {
   "cell_type": "code",
   "execution_count": null,
   "id": "f06a1d02",
   "metadata": {},
   "outputs": [],
   "source": [
    "#Look at the pivot table"
   ]
  },
  {
   "cell_type": "code",
   "execution_count": 58,
   "id": "bf2d87a5",
   "metadata": {},
   "outputs": [
    {
     "data": {
      "text/html": [
       "<table border=\"1\" class=\"dataframe\">\n",
       "    <thead>\n",
       "        <tr>\n",
       "            <th>material</th> <th>Atlanta</th> <th>Austin</th> <th>Baltimore</th> <th>Boston</th> <th>Charlotte</th> <th>Chicago</th> <th>Cincinnati</th> <th>Cleveland</th> <th>Columbus</th> <th>Dallas</th> <th>Denver</th> <th>Detroit</th> <th>Honolulu</th> <th>Houston</th> <th>Indianapolis</th> <th>Jersey City</th> <th>Kansas City</th> <th>Las Vegas</th> <th>Los Angeles</th> <th>Miami</th> <th>Miami Beach</th> <th>Milwaukee</th> <th>Minneapolis</th> <th>New York City</th> <th>Philadelphia</th> <th>Phoenix</th> <th>Pittsburgh</th> <th>Portland</th> <th>Sacramento</th> <th>Salt Lake City</th> <th>San Diego</th> <th>San Francisco</th> <th>Seattle</th> <th>St. Louis</th> <th>Sunny Isles Beach</th>\n",
       "        </tr>\n",
       "    </thead>\n",
       "    <tbody>\n",
       "        <tr>\n",
       "            <td>concrete       </td> <td>44     </td> <td>36    </td> <td>53       </td> <td>49    </td> <td>28       </td> <td>91     </td> <td>66        </td> <td>40       </td> <td>57      </td> <td>42    </td> <td>60    </td> <td>44     </td> <td>50      </td> <td>50     </td> <td>57          </td> <td>22         </td> <td>107        </td> <td>47       </td> <td>31         </td> <td>92   </td> <td>24         </td> <td>32       </td> <td>54         </td> <td>93           </td> <td>95          </td> <td>91     </td> <td>56        </td> <td>36      </td> <td>28        </td> <td>54            </td> <td>35       </td> <td>87           </td> <td>39     </td> <td>53       </td> <td>22               </td>\n",
       "        </tr>\n",
       "        <tr>\n",
       "            <td>mixed/composite</td> <td>33     </td> <td>0     </td> <td>0        </td> <td>28    </td> <td>18       </td> <td>94     </td> <td>9         </td> <td>62       </td> <td>0       </td> <td>35    </td> <td>42    </td> <td>0      </td> <td>0       </td> <td>44     </td> <td>0           </td> <td>0          </td> <td>0          </td> <td>13       </td> <td>44         </td> <td>38   </td> <td>0          </td> <td>0        </td> <td>47         </td> <td>48           </td> <td>30          </td> <td>29     </td> <td>10        </td> <td>36      </td> <td>29        </td> <td>0             </td> <td>12       </td> <td>48           </td> <td>48     </td> <td>32       </td> <td>0                </td>\n",
       "        </tr>\n",
       "        <tr>\n",
       "            <td>steel          </td> <td>123    </td> <td>83    </td> <td>109      </td> <td>105   </td> <td>96       </td> <td>132    </td> <td>107       </td> <td>96       </td> <td>93      </td> <td>92    </td> <td>110   </td> <td>107    </td> <td>29      </td> <td>93     </td> <td>88          </td> <td>16         </td> <td>89         </td> <td>27       </td> <td>92         </td> <td>95   </td> <td>0          </td> <td>96       </td> <td>105        </td> <td>134          </td> <td>118         </td> <td>49     </td> <td>118       </td> <td>50      </td> <td>36        </td> <td>110           </td> <td>57       </td> <td>122          </td> <td>106    </td> <td>128      </td> <td>0                </td>\n",
       "        </tr>\n",
       "    </tbody>\n",
       "</table>"
      ],
      "text/plain": [
       "material        | Atlanta | Austin | Baltimore | Boston | Charlotte | Chicago | Cincinnati | Cleveland | Columbus | Dallas | Denver | Detroit | Honolulu | Houston | Indianapolis | Jersey City | Kansas City | Las Vegas | Los Angeles | Miami | Miami Beach | Milwaukee | Minneapolis | New York City | Philadelphia | Phoenix | Pittsburgh | Portland | Sacramento | Salt Lake City | San Diego | San Francisco | Seattle | St. Louis | Sunny Isles Beach\n",
       "concrete        | 44      | 36     | 53        | 49     | 28        | 91      | 66         | 40        | 57       | 42     | 60     | 44      | 50       | 50      | 57           | 22          | 107         | 47        | 31          | 92    | 24          | 32        | 54          | 93            | 95           | 91      | 56         | 36       | 28         | 54             | 35        | 87            | 39      | 53        | 22\n",
       "mixed/composite | 33      | 0      | 0         | 28     | 18        | 94      | 9          | 62        | 0        | 35     | 42     | 0       | 0        | 44      | 0            | 0           | 0           | 13        | 44          | 38    | 0           | 0         | 47          | 48            | 30           | 29      | 10         | 36       | 29         | 0              | 12        | 48            | 48      | 32        | 0\n",
       "steel           | 123     | 83     | 109       | 105    | 96        | 132     | 107        | 96        | 93       | 92     | 110    | 107     | 29       | 93      | 88           | 16          | 89          | 27        | 92          | 95    | 0           | 96        | 105         | 134           | 118          | 49      | 118        | 50       | 36         | 110            | 57        | 122           | 106     | 128       | 0"
      ]
     },
     "execution_count": 58,
     "metadata": {},
     "output_type": "execute_result"
    }
   ],
   "source": [
    "sky.pivot('city', 'material', values='age', collect=max)"
   ]
  },
  {
   "cell_type": "code",
   "execution_count": 62,
   "id": "f855c73c",
   "metadata": {},
   "outputs": [
    {
     "data": {
      "text/html": [
       "<table border=\"1\" class=\"dataframe\">\n",
       "    <thead>\n",
       "        <tr>\n",
       "            <th>city</th> <th>concrete</th> <th>mixed/composite</th> <th>steel</th>\n",
       "        </tr>\n",
       "    </thead>\n",
       "    <tbody>\n",
       "        <tr>\n",
       "            <td>Atlanta   </td> <td>44      </td> <td>33             </td> <td>123  </td>\n",
       "        </tr>\n",
       "        <tr>\n",
       "            <td>Austin    </td> <td>36      </td> <td>0              </td> <td>83   </td>\n",
       "        </tr>\n",
       "        <tr>\n",
       "            <td>Baltimore </td> <td>53      </td> <td>0              </td> <td>109  </td>\n",
       "        </tr>\n",
       "        <tr>\n",
       "            <td>Boston    </td> <td>49      </td> <td>28             </td> <td>105  </td>\n",
       "        </tr>\n",
       "        <tr>\n",
       "            <td>Charlotte </td> <td>28      </td> <td>18             </td> <td>96   </td>\n",
       "        </tr>\n",
       "        <tr>\n",
       "            <td>Chicago   </td> <td>91      </td> <td>94             </td> <td>132  </td>\n",
       "        </tr>\n",
       "        <tr>\n",
       "            <td>Cincinnati</td> <td>66      </td> <td>9              </td> <td>107  </td>\n",
       "        </tr>\n",
       "        <tr>\n",
       "            <td>Cleveland </td> <td>40      </td> <td>62             </td> <td>96   </td>\n",
       "        </tr>\n",
       "        <tr>\n",
       "            <td>Columbus  </td> <td>57      </td> <td>0              </td> <td>93   </td>\n",
       "        </tr>\n",
       "        <tr>\n",
       "            <td>Dallas    </td> <td>42      </td> <td>35             </td> <td>92   </td>\n",
       "        </tr>\n",
       "    </tbody>\n",
       "</table>\n",
       "<p>... (25 rows omitted)</p>"
      ],
      "text/plain": [
       "city       | concrete | mixed/composite | steel\n",
       "Atlanta    | 44       | 33              | 123\n",
       "Austin     | 36       | 0               | 83\n",
       "Baltimore  | 53       | 0               | 109\n",
       "Boston     | 49       | 28              | 105\n",
       "Charlotte  | 28       | 18              | 96\n",
       "Chicago    | 91       | 94              | 132\n",
       "Cincinnati | 66       | 9               | 107\n",
       "Cleveland  | 40       | 62              | 96\n",
       "Columbus   | 57       | 0               | 93\n",
       "Dallas     | 42       | 35              | 92\n",
       "... (25 rows omitted)"
      ]
     },
     "execution_count": 62,
     "metadata": {},
     "output_type": "execute_result"
    }
   ],
   "source": [
    "#Once you convert it to a column form, you can get an array and do array operations\n",
    "#So just interchange\n",
    "p = sky.pivot('material', 'city', values='age', collect=max)\n",
    "p"
   ]
  },
  {
   "cell_type": "code",
   "execution_count": 67,
   "id": "2513c0a7",
   "metadata": {},
   "outputs": [
    {
     "data": {
      "text/html": [
       "<table border=\"1\" class=\"dataframe\">\n",
       "    <thead>\n",
       "        <tr>\n",
       "            <th>city</th> <th>concrete</th> <th>mixed/composite</th> <th>steel</th> <th>diff</th>\n",
       "        </tr>\n",
       "    </thead>\n",
       "    <tbody>\n",
       "        <tr>\n",
       "            <td>Atlanta   </td> <td>44      </td> <td>33             </td> <td>123  </td> <td>79  </td>\n",
       "        </tr>\n",
       "        <tr>\n",
       "            <td>Austin    </td> <td>36      </td> <td>0              </td> <td>83   </td> <td>47  </td>\n",
       "        </tr>\n",
       "        <tr>\n",
       "            <td>Baltimore </td> <td>53      </td> <td>0              </td> <td>109  </td> <td>56  </td>\n",
       "        </tr>\n",
       "        <tr>\n",
       "            <td>Boston    </td> <td>49      </td> <td>28             </td> <td>105  </td> <td>56  </td>\n",
       "        </tr>\n",
       "        <tr>\n",
       "            <td>Charlotte </td> <td>28      </td> <td>18             </td> <td>96   </td> <td>68  </td>\n",
       "        </tr>\n",
       "        <tr>\n",
       "            <td>Chicago   </td> <td>91      </td> <td>94             </td> <td>132  </td> <td>41  </td>\n",
       "        </tr>\n",
       "        <tr>\n",
       "            <td>Cincinnati</td> <td>66      </td> <td>9              </td> <td>107  </td> <td>41  </td>\n",
       "        </tr>\n",
       "        <tr>\n",
       "            <td>Cleveland </td> <td>40      </td> <td>62             </td> <td>96   </td> <td>56  </td>\n",
       "        </tr>\n",
       "        <tr>\n",
       "            <td>Columbus  </td> <td>57      </td> <td>0              </td> <td>93   </td> <td>36  </td>\n",
       "        </tr>\n",
       "        <tr>\n",
       "            <td>Dallas    </td> <td>42      </td> <td>35             </td> <td>92   </td> <td>50  </td>\n",
       "        </tr>\n",
       "    </tbody>\n",
       "</table>\n",
       "<p>... (25 rows omitted)</p>"
      ],
      "text/plain": [
       "city       | concrete | mixed/composite | steel | diff\n",
       "Atlanta    | 44       | 33              | 123   | 79\n",
       "Austin     | 36       | 0               | 83    | 47\n",
       "Baltimore  | 53       | 0               | 109   | 56\n",
       "Boston     | 49       | 28              | 105   | 56\n",
       "Charlotte  | 28       | 18              | 96    | 68\n",
       "Chicago    | 91       | 94              | 132   | 41\n",
       "Cincinnati | 66       | 9               | 107   | 41\n",
       "Cleveland  | 40       | 62              | 96    | 56\n",
       "Columbus   | 57       | 0               | 93    | 36\n",
       "Dallas     | 42       | 35              | 92    | 50\n",
       "... (25 rows omitted)"
      ]
     },
     "execution_count": 67,
     "metadata": {},
     "output_type": "execute_result"
    }
   ],
   "source": [
    "t = p.with_column('diff', p.column('steel') - p.column('concrete'))\n",
    "t"
   ]
  },
  {
   "cell_type": "code",
   "execution_count": 65,
   "id": "17b4b9e1",
   "metadata": {},
   "outputs": [
    {
     "data": {
      "text/html": [
       "<table border=\"1\" class=\"dataframe\">\n",
       "    <thead>\n",
       "        <tr>\n",
       "            <th>Handedness</th> <th>Sleep position</th> <th>Hours of sleep</th>\n",
       "        </tr>\n",
       "    </thead>\n",
       "    <tbody>\n",
       "        <tr>\n",
       "            <td>Right-handed</td> <td>On your left side </td> <td>6             </td>\n",
       "        </tr>\n",
       "        <tr>\n",
       "            <td>Right-handed</td> <td>On your left side </td> <td>7.5           </td>\n",
       "        </tr>\n",
       "        <tr>\n",
       "            <td>Right-handed</td> <td>On your right side</td> <td>7.5           </td>\n",
       "        </tr>\n",
       "        <tr>\n",
       "            <td>Right-handed</td> <td>On your back      </td> <td>8             </td>\n",
       "        </tr>\n",
       "        <tr>\n",
       "            <td>Right-handed</td> <td>On your stomach   </td> <td>8             </td>\n",
       "        </tr>\n",
       "        <tr>\n",
       "            <td>Right-handed</td> <td>On your left side </td> <td>8             </td>\n",
       "        </tr>\n",
       "        <tr>\n",
       "            <td>Right-handed</td> <td>On your stomach   </td> <td>7             </td>\n",
       "        </tr>\n",
       "        <tr>\n",
       "            <td>Right-handed</td> <td>On your back      </td> <td>7             </td>\n",
       "        </tr>\n",
       "        <tr>\n",
       "            <td>Right-handed</td> <td>On your back      </td> <td>7             </td>\n",
       "        </tr>\n",
       "        <tr>\n",
       "            <td>Right-handed</td> <td>On your right side</td> <td>8             </td>\n",
       "        </tr>\n",
       "    </tbody>\n",
       "</table>\n",
       "<p>... (1300 rows omitted)</p>"
      ],
      "text/plain": [
       "Handedness   | Sleep position     | Hours of sleep\n",
       "Right-handed | On your left side  | 6\n",
       "Right-handed | On your left side  | 7.5\n",
       "Right-handed | On your right side | 7.5\n",
       "Right-handed | On your back       | 8\n",
       "Right-handed | On your stomach    | 8\n",
       "Right-handed | On your left side  | 8\n",
       "Right-handed | On your stomach    | 7\n",
       "Right-handed | On your back       | 7\n",
       "Right-handed | On your back       | 7\n",
       "Right-handed | On your right side | 8\n",
       "... (1300 rows omitted)"
      ]
     },
     "execution_count": 65,
     "metadata": {},
     "output_type": "execute_result"
    }
   ],
   "source": []
  },
  {
   "cell_type": "code",
   "execution_count": null,
   "id": "0ffc06ae",
   "metadata": {},
   "outputs": [],
   "source": []
  }
 ],
 "metadata": {
  "kernelspec": {
   "display_name": "Python 3 (ipykernel)",
   "language": "python",
   "name": "python3"
  },
  "language_info": {
   "codemirror_mode": {
    "name": "ipython",
    "version": 3
   },
   "file_extension": ".py",
   "mimetype": "text/x-python",
   "name": "python",
   "nbconvert_exporter": "python",
   "pygments_lexer": "ipython3",
   "version": "3.8.6"
  }
 },
 "nbformat": 4,
 "nbformat_minor": 5
}
