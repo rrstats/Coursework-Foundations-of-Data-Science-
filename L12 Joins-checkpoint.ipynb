{
 "cells": [
  {
   "cell_type": "code",
   "execution_count": 2,
   "id": "441eccbc",
   "metadata": {},
   "outputs": [],
   "source": [
    "from datascience import*\n",
    "import numpy as np\n",
    "\n",
    "import warnings\n",
    "warnings.simplefilter(action='ignore', category=np.VisibleDeprecationWarning)\n",
    "\n",
    "%matplotlib inline\n",
    "import matplotlib.pyplot as plots\n",
    "plots.style.use('fivethirtyeight')\n"
   ]
  },
  {
   "cell_type": "code",
   "execution_count": 3,
   "id": "2d509ab7",
   "metadata": {},
   "outputs": [],
   "source": [
    "#JOINS"
   ]
  },
  {
   "cell_type": "code",
   "execution_count": 12,
   "id": "8c80950c",
   "metadata": {},
   "outputs": [],
   "source": [
    "#Find what's common\n",
    "#.join('x', 'which table you need to join', 'x')\n",
    "#.join('x called in 1st table', 'what you need to join', 'x called in second table')\n",
    "#This drops a value if nothing in common is found\n",
    "\n",
    "\n",
    "#======{sex_codes.join('SEX CODE',}===== ====={census, 'SEX')}======\n",
    "#First Table, Second Table"
   ]
  },
  {
   "cell_type": "code",
   "execution_count": 13,
   "id": "33591a4b",
   "metadata": {},
   "outputs": [],
   "source": [
    "#Weird number placement in histogram axes?\n",
    "#Use\n",
    "\n",
    "#commute.hist('Duration', bins=np.arange(0, 1800, 250), unit='Second')\n",
    "#For large datasets, use more number of bins\n",
    "#For smaller datasets, fewer bins should be sufficient"
   ]
  },
  {
   "cell_type": "markdown",
   "id": "263c3cfb",
   "metadata": {},
   "source": [
    "# #Intro to Join"
   ]
  },
  {
   "cell_type": "code",
   "execution_count": 25,
   "id": "89bc454b",
   "metadata": {},
   "outputs": [
    {
     "data": {
      "text/html": [
       "<table border=\"1\" class=\"dataframe\">\n",
       "    <thead>\n",
       "        <tr>\n",
       "            <th>Drink</th> <th>Cafe</th> <th>Price</th>\n",
       "        </tr>\n",
       "    </thead>\n",
       "    <tbody>\n",
       "        <tr>\n",
       "            <td>Milk Tea</td> <td>Asha  </td> <td>5.5  </td>\n",
       "        </tr>\n",
       "        <tr>\n",
       "            <td>Espresso</td> <td>Strada</td> <td>1.75 </td>\n",
       "        </tr>\n",
       "        <tr>\n",
       "            <td>Latte   </td> <td>Strada</td> <td>3.25 </td>\n",
       "        </tr>\n",
       "        <tr>\n",
       "            <td>Espresso</td> <td>FSM   </td> <td>2    </td>\n",
       "        </tr>\n",
       "    </tbody>\n",
       "</table>"
      ],
      "text/plain": [
       "Drink    | Cafe   | Price\n",
       "Milk Tea | Asha   | 5.5\n",
       "Espresso | Strada | 1.75\n",
       "Latte    | Strada | 3.25\n",
       "Espresso | FSM    | 2"
      ]
     },
     "execution_count": 25,
     "metadata": {},
     "output_type": "execute_result"
    }
   ],
   "source": [
    "drinks = Table(['Drink', 'Cafe', 'Price'])\n",
    "drinks = drinks.with_rows([\n",
    "    ['Milk Tea', 'Asha', 5.5],\n",
    "    ['Espresso', 'Strada', 1.75],\n",
    "    ['Latte', 'Strada', 3.25],\n",
    "    ['Espresso', 'FSM', 2]\n",
    "])\n",
    "drinks"
   ]
  },
  {
   "cell_type": "code",
   "execution_count": 16,
   "id": "b5e613aa",
   "metadata": {},
   "outputs": [
    {
     "data": {
      "text/html": [
       "<table border=\"1\" class=\"dataframe\">\n",
       "    <thead>\n",
       "        <tr>\n",
       "            <th>Coupon % off</th> <th>Location</th>\n",
       "        </tr>\n",
       "    </thead>\n",
       "    <tbody>\n",
       "        <tr>\n",
       "            <td>10          </td> <td>Asha    </td>\n",
       "        </tr>\n",
       "        <tr>\n",
       "            <td>25          </td> <td>Strada  </td>\n",
       "        </tr>\n",
       "        <tr>\n",
       "            <td>5           </td> <td>Asha    </td>\n",
       "        </tr>\n",
       "    </tbody>\n",
       "</table>"
      ],
      "text/plain": [
       "Coupon % off | Location\n",
       "10           | Asha\n",
       "25           | Strada\n",
       "5            | Asha"
      ]
     },
     "execution_count": 16,
     "metadata": {},
     "output_type": "execute_result"
    }
   ],
   "source": [
    "discounts = Table().with_columns(\n",
    "    'Coupon % off', make_array(10, 25, 5),\n",
    "    'Location', make_array('Asha', 'Strada', 'Asha')\n",
    ")\n",
    "discounts"
   ]
  },
  {
   "cell_type": "code",
   "execution_count": 17,
   "id": "a8185fbc",
   "metadata": {},
   "outputs": [],
   "source": [
    "#tbill.join(label_from_tbill, tb12, label_from_tb12)"
   ]
  },
  {
   "cell_type": "code",
   "execution_count": 19,
   "id": "4b302424",
   "metadata": {},
   "outputs": [
    {
     "data": {
      "text/html": [
       "<table border=\"1\" class=\"dataframe\">\n",
       "    <thead>\n",
       "        <tr>\n",
       "            <th>Cafe</th> <th>Drink</th> <th>Price</th> <th>Coupon % off</th>\n",
       "        </tr>\n",
       "    </thead>\n",
       "    <tbody>\n",
       "        <tr>\n",
       "            <td>Asha  </td> <td>Milk Tea</td> <td>5.5  </td> <td>10          </td>\n",
       "        </tr>\n",
       "        <tr>\n",
       "            <td>Asha  </td> <td>Milk Tea</td> <td>5.5  </td> <td>5           </td>\n",
       "        </tr>\n",
       "        <tr>\n",
       "            <td>Strada</td> <td>Espresso</td> <td>1.75 </td> <td>25          </td>\n",
       "        </tr>\n",
       "        <tr>\n",
       "            <td>Strada</td> <td>Latte   </td> <td>3.25 </td> <td>25          </td>\n",
       "        </tr>\n",
       "    </tbody>\n",
       "</table>"
      ],
      "text/plain": [
       "Cafe   | Drink    | Price | Coupon % off\n",
       "Asha   | Milk Tea | 5.5   | 10\n",
       "Asha   | Milk Tea | 5.5   | 5\n",
       "Strada | Espresso | 1.75  | 25\n",
       "Strada | Latte    | 3.25  | 25"
      ]
     },
     "execution_count": 19,
     "metadata": {},
     "output_type": "execute_result"
    }
   ],
   "source": [
    "combined = drinks.join('Cafe', discounts, 'Location')\n",
    "combined"
   ]
  },
  {
   "cell_type": "code",
   "execution_count": 20,
   "id": "d21e5659",
   "metadata": {},
   "outputs": [],
   "source": [
    "#Notice FSM is missing"
   ]
  },
  {
   "cell_type": "code",
   "execution_count": 22,
   "id": "92ea2322",
   "metadata": {},
   "outputs": [
    {
     "data": {
      "text/html": [
       "<table border=\"1\" class=\"dataframe\">\n",
       "    <thead>\n",
       "        <tr>\n",
       "            <th>Cafe</th> <th>Drink</th> <th>Price</th> <th>Coupon % off</th> <th>Discounted Price</th>\n",
       "        </tr>\n",
       "    </thead>\n",
       "    <tbody>\n",
       "        <tr>\n",
       "            <td>Asha  </td> <td>Milk Tea</td> <td>5.5  </td> <td>10          </td> <td>4.95            </td>\n",
       "        </tr>\n",
       "        <tr>\n",
       "            <td>Asha  </td> <td>Milk Tea</td> <td>5.5  </td> <td>5           </td> <td>5.225           </td>\n",
       "        </tr>\n",
       "        <tr>\n",
       "            <td>Strada</td> <td>Espresso</td> <td>1.75 </td> <td>25          </td> <td>1.3125          </td>\n",
       "        </tr>\n",
       "        <tr>\n",
       "            <td>Strada</td> <td>Latte   </td> <td>3.25 </td> <td>25          </td> <td>2.4375          </td>\n",
       "        </tr>\n",
       "    </tbody>\n",
       "</table>"
      ],
      "text/plain": [
       "Cafe   | Drink    | Price | Coupon % off | Discounted Price\n",
       "Asha   | Milk Tea | 5.5   | 10           | 4.95\n",
       "Asha   | Milk Tea | 5.5   | 5            | 5.225\n",
       "Strada | Espresso | 1.75  | 25           | 1.3125\n",
       "Strada | Latte    | 3.25  | 25           | 2.4375"
      ]
     },
     "execution_count": 22,
     "metadata": {},
     "output_type": "execute_result"
    }
   ],
   "source": [
    "discounted_frac = (100 - combined.column('Coupon % off'))/100\n",
    "combined.with_column(\n",
    "    'Discounted Price',  combined.column('Price')*discounted_frac\n",
    ")"
   ]
  },
  {
   "cell_type": "markdown",
   "id": "e0c229e8",
   "metadata": {},
   "source": [
    "## The Result is Sorted"
   ]
  },
  {
   "cell_type": "code",
   "execution_count": 28,
   "id": "386ee793",
   "metadata": {},
   "outputs": [
    {
     "data": {
      "text/html": [
       "<table border=\"1\" class=\"dataframe\">\n",
       "    <thead>\n",
       "        <tr>\n",
       "            <th>Drink</th> <th>Cafe</th> <th>Price</th>\n",
       "        </tr>\n",
       "    </thead>\n",
       "    <tbody>\n",
       "        <tr>\n",
       "            <td>Latte   </td> <td>Strada</td> <td>3.25 </td>\n",
       "        </tr>\n",
       "        <tr>\n",
       "            <td>Espresso</td> <td>FSM   </td> <td>2    </td>\n",
       "        </tr>\n",
       "        <tr>\n",
       "            <td>Espresso</td> <td>Strada</td> <td>1.75 </td>\n",
       "        </tr>\n",
       "        <tr>\n",
       "            <td>Milk Tea</td> <td>Asha  </td> <td>5.5  </td>\n",
       "        </tr>\n",
       "    </tbody>\n",
       "</table>"
      ],
      "text/plain": [
       "Drink    | Cafe   | Price\n",
       "Latte    | Strada | 3.25\n",
       "Espresso | FSM    | 2\n",
       "Espresso | Strada | 1.75\n",
       "Milk Tea | Asha   | 5.5"
      ]
     },
     "execution_count": 28,
     "metadata": {},
     "output_type": "execute_result"
    }
   ],
   "source": [
    "drinks2 = Table(['Drink', 'Cafe', 'Price'])\n",
    "drinks2 = drinks2.with_rows([\n",
    "    ['Latte', 'Strada', 3.25],\n",
    "    ['Espresso', 'FSM', 2],\n",
    "    ['Espresso', 'Strada', 1.75],\n",
    "    ['Milk Tea', 'Asha', 5.5],\n",
    "    \n",
    "])\n",
    "drinks2"
   ]
  },
  {
   "cell_type": "code",
   "execution_count": 27,
   "id": "15531453",
   "metadata": {},
   "outputs": [
    {
     "data": {
      "text/html": [
       "<table border=\"1\" class=\"dataframe\">\n",
       "    <thead>\n",
       "        <tr>\n",
       "            <th>Coupon % off</th> <th>Location</th>\n",
       "        </tr>\n",
       "    </thead>\n",
       "    <tbody>\n",
       "        <tr>\n",
       "            <td>10          </td> <td>Asha    </td>\n",
       "        </tr>\n",
       "        <tr>\n",
       "            <td>25          </td> <td>Strada  </td>\n",
       "        </tr>\n",
       "        <tr>\n",
       "            <td>5           </td> <td>Asha    </td>\n",
       "        </tr>\n",
       "    </tbody>\n",
       "</table>"
      ],
      "text/plain": [
       "Coupon % off | Location\n",
       "10           | Asha\n",
       "25           | Strada\n",
       "5            | Asha"
      ]
     },
     "execution_count": 27,
     "metadata": {},
     "output_type": "execute_result"
    }
   ],
   "source": [
    "discounts"
   ]
  },
  {
   "cell_type": "code",
   "execution_count": 29,
   "id": "6cda59e0",
   "metadata": {},
   "outputs": [
    {
     "data": {
      "text/html": [
       "<table border=\"1\" class=\"dataframe\">\n",
       "    <thead>\n",
       "        <tr>\n",
       "            <th>Cafe</th> <th>Drink</th> <th>Price</th> <th>Coupon % off</th>\n",
       "        </tr>\n",
       "    </thead>\n",
       "    <tbody>\n",
       "        <tr>\n",
       "            <td>Asha  </td> <td>Milk Tea</td> <td>5.5  </td> <td>10          </td>\n",
       "        </tr>\n",
       "        <tr>\n",
       "            <td>Asha  </td> <td>Milk Tea</td> <td>5.5  </td> <td>5           </td>\n",
       "        </tr>\n",
       "        <tr>\n",
       "            <td>Strada</td> <td>Latte   </td> <td>3.25 </td> <td>25          </td>\n",
       "        </tr>\n",
       "        <tr>\n",
       "            <td>Strada</td> <td>Espresso</td> <td>1.75 </td> <td>25          </td>\n",
       "        </tr>\n",
       "    </tbody>\n",
       "</table>"
      ],
      "text/plain": [
       "Cafe   | Drink    | Price | Coupon % off\n",
       "Asha   | Milk Tea | 5.5   | 10\n",
       "Asha   | Milk Tea | 5.5   | 5\n",
       "Strada | Latte    | 3.25  | 25\n",
       "Strada | Espresso | 1.75  | 25"
      ]
     },
     "execution_count": 29,
     "metadata": {},
     "output_type": "execute_result"
    }
   ],
   "source": [
    "drinks2.join('Cafe', discounts,'Location')"
   ]
  },
  {
   "cell_type": "markdown",
   "id": "f9a57aac",
   "metadata": {},
   "source": [
    "# Notes on Column Names"
   ]
  },
  {
   "cell_type": "code",
   "execution_count": 30,
   "id": "cf5ba1e0",
   "metadata": {},
   "outputs": [
    {
     "data": {
      "text/html": [
       "<table border=\"1\" class=\"dataframe\">\n",
       "    <thead>\n",
       "        <tr>\n",
       "            <th>Drink</th> <th>Cafe</th> <th>Price</th>\n",
       "        </tr>\n",
       "    </thead>\n",
       "    <tbody>\n",
       "        <tr>\n",
       "            <td>Milk Tea</td> <td>Asha  </td> <td>5.5  </td>\n",
       "        </tr>\n",
       "        <tr>\n",
       "            <td>Espresso</td> <td>Strada</td> <td>1.75 </td>\n",
       "        </tr>\n",
       "        <tr>\n",
       "            <td>Latte   </td> <td>Strada</td> <td>3.25 </td>\n",
       "        </tr>\n",
       "        <tr>\n",
       "            <td>Espresso</td> <td>FSM   </td> <td>2    </td>\n",
       "        </tr>\n",
       "    </tbody>\n",
       "</table>"
      ],
      "text/plain": [
       "Drink    | Cafe   | Price\n",
       "Milk Tea | Asha   | 5.5\n",
       "Espresso | Strada | 1.75\n",
       "Latte    | Strada | 3.25\n",
       "Espresso | FSM    | 2"
      ]
     },
     "execution_count": 30,
     "metadata": {},
     "output_type": "execute_result"
    }
   ],
   "source": [
    "drinks"
   ]
  },
  {
   "cell_type": "code",
   "execution_count": 33,
   "id": "1def5cd3",
   "metadata": {},
   "outputs": [
    {
     "data": {
      "text/html": [
       "<table border=\"1\" class=\"dataframe\">\n",
       "    <thead>\n",
       "        <tr>\n",
       "            <th>Drink</th> <th>Cafe</th>\n",
       "        </tr>\n",
       "    </thead>\n",
       "    <tbody>\n",
       "        <tr>\n",
       "            <td>Tea   </td> <td>Asha  </td>\n",
       "        </tr>\n",
       "        <tr>\n",
       "            <td>Coffee</td> <td>FSM   </td>\n",
       "        </tr>\n",
       "        <tr>\n",
       "            <td>Coffee</td> <td>Strada</td>\n",
       "        </tr>\n",
       "    </tbody>\n",
       "</table>"
      ],
      "text/plain": [
       "Drink  | Cafe\n",
       "Tea    | Asha\n",
       "Coffee | FSM\n",
       "Coffee | Strada"
      ]
     },
     "execution_count": 33,
     "metadata": {},
     "output_type": "execute_result"
    }
   ],
   "source": [
    "drinks_new = Table().with_columns(\n",
    "    'Drink', make_array('Tea', 'Coffee', 'Coffee'),\n",
    "    'Cafe', make_array('Asha', 'FSM', 'Strada')\n",
    ")\n",
    "drinks_new"
   ]
  },
  {
   "cell_type": "code",
   "execution_count": 34,
   "id": "db11ae84",
   "metadata": {},
   "outputs": [
    {
     "data": {
      "text/html": [
       "<table border=\"1\" class=\"dataframe\">\n",
       "    <thead>\n",
       "        <tr>\n",
       "            <th>Cafe</th> <th>Drink</th> <th>Price</th> <th>Drink_2</th>\n",
       "        </tr>\n",
       "    </thead>\n",
       "    <tbody>\n",
       "        <tr>\n",
       "            <td>Asha  </td> <td>Milk Tea</td> <td>5.5  </td> <td>Tea    </td>\n",
       "        </tr>\n",
       "        <tr>\n",
       "            <td>FSM   </td> <td>Espresso</td> <td>2    </td> <td>Coffee </td>\n",
       "        </tr>\n",
       "        <tr>\n",
       "            <td>Strada</td> <td>Espresso</td> <td>1.75 </td> <td>Coffee </td>\n",
       "        </tr>\n",
       "        <tr>\n",
       "            <td>Strada</td> <td>Latte   </td> <td>3.25 </td> <td>Coffee </td>\n",
       "        </tr>\n",
       "    </tbody>\n",
       "</table>"
      ],
      "text/plain": [
       "Cafe   | Drink    | Price | Drink_2\n",
       "Asha   | Milk Tea | 5.5   | Tea\n",
       "FSM    | Espresso | 2     | Coffee\n",
       "Strada | Espresso | 1.75  | Coffee\n",
       "Strada | Latte    | 3.25  | Coffee"
      ]
     },
     "execution_count": 34,
     "metadata": {},
     "output_type": "execute_result"
    }
   ],
   "source": [
    "drinks.join('Cafe', drinks_new, 'Cafe')\n",
    "#Drink_2 is automatically created"
   ]
  },
  {
   "cell_type": "code",
   "execution_count": 36,
   "id": "8579b4aa",
   "metadata": {},
   "outputs": [
    {
     "data": {
      "text/html": [
       "<table border=\"1\" class=\"dataframe\">\n",
       "    <thead>\n",
       "        <tr>\n",
       "            <th>Cafe</th> <th>Drink</th> <th>Price</th> <th>Drink_2</th>\n",
       "        </tr>\n",
       "    </thead>\n",
       "    <tbody>\n",
       "        <tr>\n",
       "            <td>Asha  </td> <td>Milk Tea</td> <td>5.5  </td> <td>Tea    </td>\n",
       "        </tr>\n",
       "        <tr>\n",
       "            <td>FSM   </td> <td>Espresso</td> <td>2    </td> <td>Coffee </td>\n",
       "        </tr>\n",
       "        <tr>\n",
       "            <td>Strada</td> <td>Espresso</td> <td>1.75 </td> <td>Coffee </td>\n",
       "        </tr>\n",
       "        <tr>\n",
       "            <td>Strada</td> <td>Latte   </td> <td>3.25 </td> <td>Coffee </td>\n",
       "        </tr>\n",
       "    </tbody>\n",
       "</table>"
      ],
      "text/plain": [
       "Cafe   | Drink    | Price | Drink_2\n",
       "Asha   | Milk Tea | 5.5   | Tea\n",
       "FSM    | Espresso | 2     | Coffee\n",
       "Strada | Espresso | 1.75  | Coffee\n",
       "Strada | Latte    | 3.25  | Coffee"
      ]
     },
     "execution_count": 36,
     "metadata": {},
     "output_type": "execute_result"
    }
   ],
   "source": [
    "drinks.join('Cafe', drinks_new)\n",
    "#SHORT\n",
    "#.join() looks for a column 'Cafe' in the table you mention\n",
    "#.join() If both tables have the same name for the columns of interest, skip the third argument"
   ]
  },
  {
   "cell_type": "code",
   "execution_count": null,
   "id": "aa508e01",
   "metadata": {},
   "outputs": [],
   "source": []
  },
  {
   "cell_type": "markdown",
   "id": "a27cb5db",
   "metadata": {},
   "source": [
    "### Another Join Example"
   ]
  },
  {
   "cell_type": "code",
   "execution_count": 37,
   "id": "9d4b12b8",
   "metadata": {},
   "outputs": [
    {
     "data": {
      "text/html": [
       "<table border=\"1\" class=\"dataframe\">\n",
       "    <thead>\n",
       "        <tr>\n",
       "            <th>SEX</th> <th>AGE</th> <th>POPESTIMATE2019</th>\n",
       "        </tr>\n",
       "    </thead>\n",
       "    <tbody>\n",
       "        <tr>\n",
       "            <td>0   </td> <td>0   </td> <td>3783052        </td>\n",
       "        </tr>\n",
       "        <tr>\n",
       "            <td>0   </td> <td>1   </td> <td>3829599        </td>\n",
       "        </tr>\n",
       "        <tr>\n",
       "            <td>0   </td> <td>2   </td> <td>3922044        </td>\n",
       "        </tr>\n",
       "        <tr>\n",
       "            <td>0   </td> <td>3   </td> <td>3998665        </td>\n",
       "        </tr>\n",
       "        <tr>\n",
       "            <td>0   </td> <td>4   </td> <td>4043323        </td>\n",
       "        </tr>\n",
       "        <tr>\n",
       "            <td>0   </td> <td>5   </td> <td>4028281        </td>\n",
       "        </tr>\n",
       "        <tr>\n",
       "            <td>0   </td> <td>6   </td> <td>4017227        </td>\n",
       "        </tr>\n",
       "        <tr>\n",
       "            <td>0   </td> <td>7   </td> <td>4022319        </td>\n",
       "        </tr>\n",
       "        <tr>\n",
       "            <td>0   </td> <td>8   </td> <td>4066194        </td>\n",
       "        </tr>\n",
       "        <tr>\n",
       "            <td>0   </td> <td>9   </td> <td>4061874        </td>\n",
       "        </tr>\n",
       "    </tbody>\n",
       "</table>\n",
       "<p>... (296 rows omitted)</p>"
      ],
      "text/plain": [
       "SEX  | AGE  | POPESTIMATE2019\n",
       "0    | 0    | 3783052\n",
       "0    | 1    | 3829599\n",
       "0    | 2    | 3922044\n",
       "0    | 3    | 3998665\n",
       "0    | 4    | 4043323\n",
       "0    | 5    | 4028281\n",
       "0    | 6    | 4017227\n",
       "0    | 7    | 4022319\n",
       "0    | 8    | 4066194\n",
       "0    | 9    | 4061874\n",
       "... (296 rows omitted)"
      ]
     },
     "execution_count": 37,
     "metadata": {},
     "output_type": "execute_result"
    }
   ],
   "source": [
    "full = Table.read_table('nc-est2019-agesex-res.csv')\n",
    "census = full.select('SEX', 'AGE', 'POPESTIMATE2019')\n",
    "census"
   ]
  },
  {
   "cell_type": "code",
   "execution_count": 40,
   "id": "0d7e166a",
   "metadata": {},
   "outputs": [
    {
     "data": {
      "text/html": [
       "<table border=\"1\" class=\"dataframe\">\n",
       "    <thead>\n",
       "        <tr>\n",
       "            <th>SEX CODE</th> <th>CODE DEFINITION</th>\n",
       "        </tr>\n",
       "    </thead>\n",
       "    <tbody>\n",
       "        <tr>\n",
       "            <td>0       </td> <td>All            </td>\n",
       "        </tr>\n",
       "        <tr>\n",
       "            <td>1       </td> <td>Selected Male  </td>\n",
       "        </tr>\n",
       "        <tr>\n",
       "            <td>2       </td> <td>Selected Female</td>\n",
       "        </tr>\n",
       "    </tbody>\n",
       "</table>"
      ],
      "text/plain": [
       "SEX CODE | CODE DEFINITION\n",
       "0        | All\n",
       "1        | Selected Male\n",
       "2        | Selected Female"
      ]
     },
     "execution_count": 40,
     "metadata": {},
     "output_type": "execute_result"
    }
   ],
   "source": [
    "sex_codes = Table().with_columns(\n",
    "    'SEX CODE', make_array(0,1,2),\n",
    "    'CODE DEFINITION', make_array('All', 'Selected Male', 'Selected Female')\n",
    ")\n",
    "sex_codes\n",
    "    "
   ]
  },
  {
   "cell_type": "code",
   "execution_count": 42,
   "id": "1116836c",
   "metadata": {},
   "outputs": [
    {
     "data": {
      "text/html": [
       "<table border=\"1\" class=\"dataframe\">\n",
       "    <thead>\n",
       "        <tr>\n",
       "            <th>SEX CODE</th> <th>CODE DEFINITION</th> <th>AGE</th> <th>POPESTIMATE2019</th>\n",
       "        </tr>\n",
       "    </thead>\n",
       "    <tbody>\n",
       "        <tr>\n",
       "            <td>0       </td> <td>All            </td> <td>0   </td> <td>3783052        </td>\n",
       "        </tr>\n",
       "        <tr>\n",
       "            <td>0       </td> <td>All            </td> <td>1   </td> <td>3829599        </td>\n",
       "        </tr>\n",
       "        <tr>\n",
       "            <td>0       </td> <td>All            </td> <td>2   </td> <td>3922044        </td>\n",
       "        </tr>\n",
       "        <tr>\n",
       "            <td>0       </td> <td>All            </td> <td>3   </td> <td>3998665        </td>\n",
       "        </tr>\n",
       "        <tr>\n",
       "            <td>0       </td> <td>All            </td> <td>4   </td> <td>4043323        </td>\n",
       "        </tr>\n",
       "        <tr>\n",
       "            <td>0       </td> <td>All            </td> <td>5   </td> <td>4028281        </td>\n",
       "        </tr>\n",
       "        <tr>\n",
       "            <td>0       </td> <td>All            </td> <td>6   </td> <td>4017227        </td>\n",
       "        </tr>\n",
       "        <tr>\n",
       "            <td>0       </td> <td>All            </td> <td>7   </td> <td>4022319        </td>\n",
       "        </tr>\n",
       "        <tr>\n",
       "            <td>0       </td> <td>All            </td> <td>8   </td> <td>4066194        </td>\n",
       "        </tr>\n",
       "        <tr>\n",
       "            <td>0       </td> <td>All            </td> <td>9   </td> <td>4061874        </td>\n",
       "        </tr>\n",
       "        <tr>\n",
       "            <td>0       </td> <td>All            </td> <td>10  </td> <td>4060940        </td>\n",
       "        </tr>\n",
       "        <tr>\n",
       "            <td>0       </td> <td>All            </td> <td>11  </td> <td>4189261        </td>\n",
       "        </tr>\n",
       "        <tr>\n",
       "            <td>0       </td> <td>All            </td> <td>12  </td> <td>4208387        </td>\n",
       "        </tr>\n",
       "        <tr>\n",
       "            <td>0       </td> <td>All            </td> <td>13  </td> <td>4175221        </td>\n",
       "        </tr>\n",
       "        <tr>\n",
       "            <td>0       </td> <td>All            </td> <td>14  </td> <td>4164459        </td>\n",
       "        </tr>\n",
       "        <tr>\n",
       "            <td>0       </td> <td>All            </td> <td>15  </td> <td>4175459        </td>\n",
       "        </tr>\n",
       "        <tr>\n",
       "            <td>0       </td> <td>All            </td> <td>16  </td> <td>4150420        </td>\n",
       "        </tr>\n",
       "        <tr>\n",
       "            <td>0       </td> <td>All            </td> <td>17  </td> <td>4142425        </td>\n",
       "        </tr>\n",
       "        <tr>\n",
       "            <td>0       </td> <td>All            </td> <td>18  </td> <td>4255827        </td>\n",
       "        </tr>\n",
       "        <tr>\n",
       "            <td>0       </td> <td>All            </td> <td>19  </td> <td>4330439        </td>\n",
       "        </tr>\n",
       "        <tr>\n",
       "            <td>0       </td> <td>All            </td> <td>20  </td> <td>4269683        </td>\n",
       "        </tr>\n",
       "        <tr>\n",
       "            <td>0       </td> <td>All            </td> <td>21  </td> <td>4278323        </td>\n",
       "        </tr>\n",
       "        <tr>\n",
       "            <td>0       </td> <td>All            </td> <td>22  </td> <td>4298772        </td>\n",
       "        </tr>\n",
       "        <tr>\n",
       "            <td>0       </td> <td>All            </td> <td>23  </td> <td>4341644        </td>\n",
       "        </tr>\n",
       "        <tr>\n",
       "            <td>0       </td> <td>All            </td> <td>24  </td> <td>4444518        </td>\n",
       "        </tr>\n",
       "        <tr>\n",
       "            <td>0       </td> <td>All            </td> <td>25  </td> <td>4539058        </td>\n",
       "        </tr>\n",
       "        <tr>\n",
       "            <td>0       </td> <td>All            </td> <td>26  </td> <td>4611220        </td>\n",
       "        </tr>\n",
       "        <tr>\n",
       "            <td>0       </td> <td>All            </td> <td>27  </td> <td>4733869        </td>\n",
       "        </tr>\n",
       "        <tr>\n",
       "            <td>0       </td> <td>All            </td> <td>28  </td> <td>4818725        </td>\n",
       "        </tr>\n",
       "        <tr>\n",
       "            <td>0       </td> <td>All            </td> <td>29  </td> <td>4806144        </td>\n",
       "        </tr>\n",
       "        <tr>\n",
       "            <td>0       </td> <td>All            </td> <td>30  </td> <td>4614384        </td>\n",
       "        </tr>\n",
       "        <tr>\n",
       "            <td>0       </td> <td>All            </td> <td>31  </td> <td>4502311        </td>\n",
       "        </tr>\n",
       "        <tr>\n",
       "            <td>0       </td> <td>All            </td> <td>32  </td> <td>4421505        </td>\n",
       "        </tr>\n",
       "        <tr>\n",
       "            <td>0       </td> <td>All            </td> <td>33  </td> <td>4432973        </td>\n",
       "        </tr>\n",
       "        <tr>\n",
       "            <td>0       </td> <td>All            </td> <td>34  </td> <td>4460132        </td>\n",
       "        </tr>\n",
       "        <tr>\n",
       "            <td>0       </td> <td>All            </td> <td>35  </td> <td>4315866        </td>\n",
       "        </tr>\n",
       "        <tr>\n",
       "            <td>0       </td> <td>All            </td> <td>36  </td> <td>4372444        </td>\n",
       "        </tr>\n",
       "        <tr>\n",
       "            <td>0       </td> <td>All            </td> <td>37  </td> <td>4361286        </td>\n",
       "        </tr>\n",
       "        <tr>\n",
       "            <td>0       </td> <td>All            </td> <td>38  </td> <td>4305576        </td>\n",
       "        </tr>\n",
       "        <tr>\n",
       "            <td>0       </td> <td>All            </td> <td>39  </td> <td>4382349        </td>\n",
       "        </tr>\n",
       "        <tr>\n",
       "            <td>0       </td> <td>All            </td> <td>40  </td> <td>4105313        </td>\n",
       "        </tr>\n",
       "        <tr>\n",
       "            <td>0       </td> <td>All            </td> <td>41  </td> <td>4020254        </td>\n",
       "        </tr>\n",
       "        <tr>\n",
       "            <td>0       </td> <td>All            </td> <td>42  </td> <td>3974741        </td>\n",
       "        </tr>\n",
       "        <tr>\n",
       "            <td>0       </td> <td>All            </td> <td>43  </td> <td>3854040        </td>\n",
       "        </tr>\n",
       "        <tr>\n",
       "            <td>0       </td> <td>All            </td> <td>44  </td> <td>3967275        </td>\n",
       "        </tr>\n",
       "        <tr>\n",
       "            <td>0       </td> <td>All            </td> <td>45  </td> <td>3837909        </td>\n",
       "        </tr>\n",
       "        <tr>\n",
       "            <td>0       </td> <td>All            </td> <td>46  </td> <td>3889372        </td>\n",
       "        </tr>\n",
       "        <tr>\n",
       "            <td>0       </td> <td>All            </td> <td>47  </td> <td>4058038        </td>\n",
       "        </tr>\n",
       "        <tr>\n",
       "            <td>0       </td> <td>All            </td> <td>48  </td> <td>4282657        </td>\n",
       "        </tr>\n",
       "        <tr>\n",
       "            <td>0       </td> <td>All            </td> <td>49  </td> <td>4329775        </td>\n",
       "        </tr>\n",
       "        <tr>\n",
       "            <td>0       </td> <td>All            </td> <td>50  </td> <td>4096572        </td>\n",
       "        </tr>\n",
       "        <tr>\n",
       "            <td>0       </td> <td>All            </td> <td>51  </td> <td>4004343        </td>\n",
       "        </tr>\n",
       "        <tr>\n",
       "            <td>0       </td> <td>All            </td> <td>52  </td> <td>4001782        </td>\n",
       "        </tr>\n",
       "        <tr>\n",
       "            <td>0       </td> <td>All            </td> <td>53  </td> <td>4068851        </td>\n",
       "        </tr>\n",
       "        <tr>\n",
       "            <td>0       </td> <td>All            </td> <td>54  </td> <td>4305603        </td>\n",
       "        </tr>\n",
       "        <tr>\n",
       "            <td>0       </td> <td>All            </td> <td>55  </td> <td>4374565        </td>\n",
       "        </tr>\n",
       "        <tr>\n",
       "            <td>0       </td> <td>All            </td> <td>56  </td> <td>4361016        </td>\n",
       "        </tr>\n",
       "        <tr>\n",
       "            <td>0       </td> <td>All            </td> <td>57  </td> <td>4342385        </td>\n",
       "        </tr>\n",
       "        <tr>\n",
       "            <td>0       </td> <td>All            </td> <td>58  </td> <td>4385570        </td>\n",
       "        </tr>\n",
       "        <tr>\n",
       "            <td>0       </td> <td>All            </td> <td>59  </td> <td>4413855        </td>\n",
       "        </tr>\n",
       "        <tr>\n",
       "            <td>0       </td> <td>All            </td> <td>60  </td> <td>4252663        </td>\n",
       "        </tr>\n",
       "        <tr>\n",
       "            <td>0       </td> <td>All            </td> <td>61  </td> <td>4215172        </td>\n",
       "        </tr>\n",
       "        <tr>\n",
       "            <td>0       </td> <td>All            </td> <td>62  </td> <td>4156645        </td>\n",
       "        </tr>\n",
       "        <tr>\n",
       "            <td>0       </td> <td>All            </td> <td>63  </td> <td>3996088        </td>\n",
       "        </tr>\n",
       "        <tr>\n",
       "            <td>0       </td> <td>All            </td> <td>64  </td> <td>3950578        </td>\n",
       "        </tr>\n",
       "        <tr>\n",
       "            <td>0       </td> <td>All            </td> <td>65  </td> <td>3774597        </td>\n",
       "        </tr>\n",
       "        <tr>\n",
       "            <td>0       </td> <td>All            </td> <td>66  </td> <td>3618069        </td>\n",
       "        </tr>\n",
       "        <tr>\n",
       "            <td>0       </td> <td>All            </td> <td>67  </td> <td>3464437        </td>\n",
       "        </tr>\n",
       "        <tr>\n",
       "            <td>0       </td> <td>All            </td> <td>68  </td> <td>3345475        </td>\n",
       "        </tr>\n",
       "        <tr>\n",
       "            <td>0       </td> <td>All            </td> <td>69  </td> <td>3252423        </td>\n",
       "        </tr>\n",
       "        <tr>\n",
       "            <td>0       </td> <td>All            </td> <td>70  </td> <td>3136704        </td>\n",
       "        </tr>\n",
       "        <tr>\n",
       "            <td>0       </td> <td>All            </td> <td>71  </td> <td>3083083        </td>\n",
       "        </tr>\n",
       "        <tr>\n",
       "            <td>0       </td> <td>All            </td> <td>72  </td> <td>3191048        </td>\n",
       "        </tr>\n",
       "        <tr>\n",
       "            <td>0       </td> <td>All            </td> <td>73  </td> <td>2334433        </td>\n",
       "        </tr>\n",
       "        <tr>\n",
       "            <td>0       </td> <td>All            </td> <td>74  </td> <td>2283164        </td>\n",
       "        </tr>\n",
       "        <tr>\n",
       "            <td>0       </td> <td>All            </td> <td>75  </td> <td>2198286        </td>\n",
       "        </tr>\n",
       "        <tr>\n",
       "            <td>0       </td> <td>All            </td> <td>76  </td> <td>2222392        </td>\n",
       "        </tr>\n",
       "        <tr>\n",
       "            <td>0       </td> <td>All            </td> <td>77  </td> <td>1911261        </td>\n",
       "        </tr>\n",
       "        <tr>\n",
       "            <td>0       </td> <td>All            </td> <td>78  </td> <td>1720817        </td>\n",
       "        </tr>\n",
       "        <tr>\n",
       "            <td>0       </td> <td>All            </td> <td>79  </td> <td>1599909        </td>\n",
       "        </tr>\n",
       "        <tr>\n",
       "            <td>0       </td> <td>All            </td> <td>80  </td> <td>1475278        </td>\n",
       "        </tr>\n",
       "        <tr>\n",
       "            <td>0       </td> <td>All            </td> <td>81  </td> <td>1381641        </td>\n",
       "        </tr>\n",
       "        <tr>\n",
       "            <td>0       </td> <td>All            </td> <td>82  </td> <td>1241341        </td>\n",
       "        </tr>\n",
       "        <tr>\n",
       "            <td>0       </td> <td>All            </td> <td>83  </td> <td>1151190        </td>\n",
       "        </tr>\n",
       "        <tr>\n",
       "            <td>0       </td> <td>All            </td> <td>84  </td> <td>1067757        </td>\n",
       "        </tr>\n",
       "        <tr>\n",
       "            <td>0       </td> <td>All            </td> <td>85  </td> <td>922467         </td>\n",
       "        </tr>\n",
       "        <tr>\n",
       "            <td>0       </td> <td>All            </td> <td>86  </td> <td>856646         </td>\n",
       "        </tr>\n",
       "        <tr>\n",
       "            <td>0       </td> <td>All            </td> <td>87  </td> <td>778923         </td>\n",
       "        </tr>\n",
       "        <tr>\n",
       "            <td>0       </td> <td>All            </td> <td>88  </td> <td>703078         </td>\n",
       "        </tr>\n",
       "        <tr>\n",
       "            <td>0       </td> <td>All            </td> <td>89  </td> <td>635982         </td>\n",
       "        </tr>\n",
       "        <tr>\n",
       "            <td>0       </td> <td>All            </td> <td>90  </td> <td>536447         </td>\n",
       "        </tr>\n",
       "        <tr>\n",
       "            <td>0       </td> <td>All            </td> <td>91  </td> <td>467172         </td>\n",
       "        </tr>\n",
       "        <tr>\n",
       "            <td>0       </td> <td>All            </td> <td>92  </td> <td>394067         </td>\n",
       "        </tr>\n",
       "        <tr>\n",
       "            <td>0       </td> <td>All            </td> <td>93  </td> <td>320785         </td>\n",
       "        </tr>\n",
       "        <tr>\n",
       "            <td>0       </td> <td>All            </td> <td>94  </td> <td>264277         </td>\n",
       "        </tr>\n",
       "        <tr>\n",
       "            <td>0       </td> <td>All            </td> <td>95  </td> <td>207086         </td>\n",
       "        </tr>\n",
       "        <tr>\n",
       "            <td>0       </td> <td>All            </td> <td>96  </td> <td>157463         </td>\n",
       "        </tr>\n",
       "        <tr>\n",
       "            <td>0       </td> <td>All            </td> <td>97  </td> <td>116969         </td>\n",
       "        </tr>\n",
       "        <tr>\n",
       "            <td>0       </td> <td>All            </td> <td>98  </td> <td>86150          </td>\n",
       "        </tr>\n",
       "        <tr>\n",
       "            <td>0       </td> <td>All            </td> <td>99  </td> <td>57124          </td>\n",
       "        </tr>\n",
       "        <tr>\n",
       "            <td>0       </td> <td>All            </td> <td>100 </td> <td>100322         </td>\n",
       "        </tr>\n",
       "        <tr>\n",
       "            <td>0       </td> <td>All            </td> <td>999 </td> <td>328239523      </td>\n",
       "        </tr>\n",
       "        <tr>\n",
       "            <td>1       </td> <td>Selected Male  </td> <td>0   </td> <td>1935117        </td>\n",
       "        </tr>\n",
       "        <tr>\n",
       "            <td>1       </td> <td>Selected Male  </td> <td>1   </td> <td>1958585        </td>\n",
       "        </tr>\n",
       "        <tr>\n",
       "            <td>1       </td> <td>Selected Male  </td> <td>2   </td> <td>2005544        </td>\n",
       "        </tr>\n",
       "        <tr>\n",
       "            <td>1       </td> <td>Selected Male  </td> <td>3   </td> <td>2043010        </td>\n",
       "        </tr>\n",
       "        <tr>\n",
       "            <td>1       </td> <td>Selected Male  </td> <td>4   </td> <td>2066951        </td>\n",
       "        </tr>\n",
       "        <tr>\n",
       "            <td>1       </td> <td>Selected Male  </td> <td>5   </td> <td>2061200        </td>\n",
       "        </tr>\n",
       "        <tr>\n",
       "            <td>1       </td> <td>Selected Male  </td> <td>6   </td> <td>2052956        </td>\n",
       "        </tr>\n",
       "        <tr>\n",
       "            <td>1       </td> <td>Selected Male  </td> <td>7   </td> <td>2055735        </td>\n",
       "        </tr>\n",
       "        <tr>\n",
       "            <td>1       </td> <td>Selected Male  </td> <td>8   </td> <td>2079723        </td>\n",
       "        </tr>\n",
       "        <tr>\n",
       "            <td>1       </td> <td>Selected Male  </td> <td>9   </td> <td>2073148        </td>\n",
       "        </tr>\n",
       "        <tr>\n",
       "            <td>1       </td> <td>Selected Male  </td> <td>10  </td> <td>2071778        </td>\n",
       "        </tr>\n",
       "        <tr>\n",
       "            <td>1       </td> <td>Selected Male  </td> <td>11  </td> <td>2138037        </td>\n",
       "        </tr>\n",
       "        <tr>\n",
       "            <td>1       </td> <td>Selected Male  </td> <td>12  </td> <td>2149819        </td>\n",
       "        </tr>\n",
       "        <tr>\n",
       "            <td>1       </td> <td>Selected Male  </td> <td>13  </td> <td>2132987        </td>\n",
       "        </tr>\n",
       "        <tr>\n",
       "            <td>1       </td> <td>Selected Male  </td> <td>14  </td> <td>2125640        </td>\n",
       "        </tr>\n",
       "        <tr>\n",
       "            <td>1       </td> <td>Selected Male  </td> <td>15  </td> <td>2129720        </td>\n",
       "        </tr>\n",
       "        <tr>\n",
       "            <td>1       </td> <td>Selected Male  </td> <td>16  </td> <td>2116165        </td>\n",
       "        </tr>\n",
       "        <tr>\n",
       "            <td>1       </td> <td>Selected Male  </td> <td>17  </td> <td>2112553        </td>\n",
       "        </tr>\n",
       "        <tr>\n",
       "            <td>1       </td> <td>Selected Male  </td> <td>18  </td> <td>2172385        </td>\n",
       "        </tr>\n",
       "        <tr>\n",
       "            <td>1       </td> <td>Selected Male  </td> <td>19  </td> <td>2214784        </td>\n",
       "        </tr>\n",
       "        <tr>\n",
       "            <td>1       </td> <td>Selected Male  </td> <td>20  </td> <td>2183139        </td>\n",
       "        </tr>\n",
       "        <tr>\n",
       "            <td>1       </td> <td>Selected Male  </td> <td>21  </td> <td>2187086        </td>\n",
       "        </tr>\n",
       "        <tr>\n",
       "            <td>1       </td> <td>Selected Male  </td> <td>22  </td> <td>2195296        </td>\n",
       "        </tr>\n",
       "        <tr>\n",
       "            <td>1       </td> <td>Selected Male  </td> <td>23  </td> <td>2221758        </td>\n",
       "        </tr>\n",
       "        <tr>\n",
       "            <td>1       </td> <td>Selected Male  </td> <td>24  </td> <td>2277473        </td>\n",
       "        </tr>\n",
       "        <tr>\n",
       "            <td>1       </td> <td>Selected Male  </td> <td>25  </td> <td>2325853        </td>\n",
       "        </tr>\n",
       "        <tr>\n",
       "            <td>1       </td> <td>Selected Male  </td> <td>26  </td> <td>2365886        </td>\n",
       "        </tr>\n",
       "        <tr>\n",
       "            <td>1       </td> <td>Selected Male  </td> <td>27  </td> <td>2421270        </td>\n",
       "        </tr>\n",
       "        <tr>\n",
       "            <td>1       </td> <td>Selected Male  </td> <td>28  </td> <td>2451756        </td>\n",
       "        </tr>\n",
       "        <tr>\n",
       "            <td>1       </td> <td>Selected Male  </td> <td>29  </td> <td>2439805        </td>\n",
       "        </tr>\n",
       "        <tr>\n",
       "            <td>1       </td> <td>Selected Male  </td> <td>30  </td> <td>2340865        </td>\n",
       "        </tr>\n",
       "        <tr>\n",
       "            <td>1       </td> <td>Selected Male  </td> <td>31  </td> <td>2281327        </td>\n",
       "        </tr>\n",
       "        <tr>\n",
       "            <td>1       </td> <td>Selected Male  </td> <td>32  </td> <td>2239886        </td>\n",
       "        </tr>\n",
       "        <tr>\n",
       "            <td>1       </td> <td>Selected Male  </td> <td>33  </td> <td>2243280        </td>\n",
       "        </tr>\n",
       "        <tr>\n",
       "            <td>1       </td> <td>Selected Male  </td> <td>34  </td> <td>2249252        </td>\n",
       "        </tr>\n",
       "        <tr>\n",
       "            <td>1       </td> <td>Selected Male  </td> <td>35  </td> <td>2167622        </td>\n",
       "        </tr>\n",
       "        <tr>\n",
       "            <td>1       </td> <td>Selected Male  </td> <td>36  </td> <td>2191368        </td>\n",
       "        </tr>\n",
       "        <tr>\n",
       "            <td>1       </td> <td>Selected Male  </td> <td>37  </td> <td>2181162        </td>\n",
       "        </tr>\n",
       "        <tr>\n",
       "            <td>1       </td> <td>Selected Male  </td> <td>38  </td> <td>2149359        </td>\n",
       "        </tr>\n",
       "        <tr>\n",
       "            <td>1       </td> <td>Selected Male  </td> <td>39  </td> <td>2195430        </td>\n",
       "        </tr>\n",
       "        <tr>\n",
       "            <td>1       </td> <td>Selected Male  </td> <td>40  </td> <td>2046663        </td>\n",
       "        </tr>\n",
       "        <tr>\n",
       "            <td>1       </td> <td>Selected Male  </td> <td>41  </td> <td>2001502        </td>\n",
       "        </tr>\n",
       "        <tr>\n",
       "            <td>1       </td> <td>Selected Male  </td> <td>42  </td> <td>1972584        </td>\n",
       "        </tr>\n",
       "        <tr>\n",
       "            <td>1       </td> <td>Selected Male  </td> <td>43  </td> <td>1913289        </td>\n",
       "        </tr>\n",
       "        <tr>\n",
       "            <td>1       </td> <td>Selected Male  </td> <td>44  </td> <td>1973101        </td>\n",
       "        </tr>\n",
       "        <tr>\n",
       "            <td>1       </td> <td>Selected Male  </td> <td>45  </td> <td>1900492        </td>\n",
       "        </tr>\n",
       "        <tr>\n",
       "            <td>1       </td> <td>Selected Male  </td> <td>46  </td> <td>1919298        </td>\n",
       "        </tr>\n",
       "        <tr>\n",
       "            <td>1       </td> <td>Selected Male  </td> <td>47  </td> <td>2005221        </td>\n",
       "        </tr>\n",
       "        <tr>\n",
       "            <td>1       </td> <td>Selected Male  </td> <td>48  </td> <td>2114614        </td>\n",
       "        </tr>\n",
       "        <tr>\n",
       "            <td>1       </td> <td>Selected Male  </td> <td>49  </td> <td>2145730        </td>\n",
       "        </tr>\n",
       "        <tr>\n",
       "            <td>1       </td> <td>Selected Male  </td> <td>50  </td> <td>2025376        </td>\n",
       "        </tr>\n",
       "        <tr>\n",
       "            <td>1       </td> <td>Selected Male  </td> <td>51  </td> <td>1976883        </td>\n",
       "        </tr>\n",
       "        <tr>\n",
       "            <td>1       </td> <td>Selected Male  </td> <td>52  </td> <td>1968619        </td>\n",
       "        </tr>\n",
       "        <tr>\n",
       "            <td>1       </td> <td>Selected Male  </td> <td>53  </td> <td>2001325        </td>\n",
       "        </tr>\n",
       "        <tr>\n",
       "            <td>1       </td> <td>Selected Male  </td> <td>54  </td> <td>2114408        </td>\n",
       "        </tr>\n",
       "        <tr>\n",
       "            <td>1       </td> <td>Selected Male  </td> <td>55  </td> <td>2137586        </td>\n",
       "        </tr>\n",
       "        <tr>\n",
       "            <td>1       </td> <td>Selected Male  </td> <td>56  </td> <td>2125123        </td>\n",
       "        </tr>\n",
       "        <tr>\n",
       "            <td>1       </td> <td>Selected Male  </td> <td>57  </td> <td>2111795        </td>\n",
       "        </tr>\n",
       "        <tr>\n",
       "            <td>1       </td> <td>Selected Male  </td> <td>58  </td> <td>2125774        </td>\n",
       "        </tr>\n",
       "        <tr>\n",
       "            <td>1       </td> <td>Selected Male  </td> <td>59  </td> <td>2142211        </td>\n",
       "        </tr>\n",
       "        <tr>\n",
       "            <td>1       </td> <td>Selected Male  </td> <td>60  </td> <td>2052677        </td>\n",
       "        </tr>\n",
       "        <tr>\n",
       "            <td>1       </td> <td>Selected Male  </td> <td>61  </td> <td>2027951        </td>\n",
       "        </tr>\n",
       "        <tr>\n",
       "            <td>1       </td> <td>Selected Male  </td> <td>62  </td> <td>1991220        </td>\n",
       "        </tr>\n",
       "        <tr>\n",
       "            <td>1       </td> <td>Selected Male  </td> <td>63  </td> <td>1905842        </td>\n",
       "        </tr>\n",
       "        <tr>\n",
       "            <td>1       </td> <td>Selected Male  </td> <td>64  </td> <td>1879040        </td>\n",
       "        </tr>\n",
       "        <tr>\n",
       "            <td>1       </td> <td>Selected Male  </td> <td>65  </td> <td>1783428        </td>\n",
       "        </tr>\n",
       "        <tr>\n",
       "            <td>1       </td> <td>Selected Male  </td> <td>66  </td> <td>1703888        </td>\n",
       "        </tr>\n",
       "        <tr>\n",
       "            <td>1       </td> <td>Selected Male  </td> <td>67  </td> <td>1627863        </td>\n",
       "        </tr>\n",
       "        <tr>\n",
       "            <td>1       </td> <td>Selected Male  </td> <td>68  </td> <td>1564129        </td>\n",
       "        </tr>\n",
       "        <tr>\n",
       "            <td>1       </td> <td>Selected Male  </td> <td>69  </td> <td>1520465        </td>\n",
       "        </tr>\n",
       "        <tr>\n",
       "            <td>1       </td> <td>Selected Male  </td> <td>70  </td> <td>1462120        </td>\n",
       "        </tr>\n",
       "        <tr>\n",
       "            <td>1       </td> <td>Selected Male  </td> <td>71  </td> <td>1435378        </td>\n",
       "        </tr>\n",
       "        <tr>\n",
       "            <td>1       </td> <td>Selected Male  </td> <td>72  </td> <td>1483236        </td>\n",
       "        </tr>\n",
       "        <tr>\n",
       "            <td>1       </td> <td>Selected Male  </td> <td>73  </td> <td>1074771        </td>\n",
       "        </tr>\n",
       "        <tr>\n",
       "            <td>1       </td> <td>Selected Male  </td> <td>74  </td> <td>1044301        </td>\n",
       "        </tr>\n",
       "        <tr>\n",
       "            <td>1       </td> <td>Selected Male  </td> <td>75  </td> <td>998390         </td>\n",
       "        </tr>\n",
       "        <tr>\n",
       "            <td>1       </td> <td>Selected Male  </td> <td>76  </td> <td>1003690        </td>\n",
       "        </tr>\n",
       "        <tr>\n",
       "            <td>1       </td> <td>Selected Male  </td> <td>77  </td> <td>854930         </td>\n",
       "        </tr>\n",
       "        <tr>\n",
       "            <td>1       </td> <td>Selected Male  </td> <td>78  </td> <td>760170         </td>\n",
       "        </tr>\n",
       "        <tr>\n",
       "            <td>1       </td> <td>Selected Male  </td> <td>79  </td> <td>701319         </td>\n",
       "        </tr>\n",
       "        <tr>\n",
       "            <td>1       </td> <td>Selected Male  </td> <td>80  </td> <td>643638         </td>\n",
       "        </tr>\n",
       "        <tr>\n",
       "            <td>1       </td> <td>Selected Male  </td> <td>81  </td> <td>593628         </td>\n",
       "        </tr>\n",
       "        <tr>\n",
       "            <td>1       </td> <td>Selected Male  </td> <td>82  </td> <td>525766         </td>\n",
       "        </tr>\n",
       "        <tr>\n",
       "            <td>1       </td> <td>Selected Male  </td> <td>83  </td> <td>480165         </td>\n",
       "        </tr>\n",
       "        <tr>\n",
       "            <td>1       </td> <td>Selected Male  </td> <td>84  </td> <td>436527         </td>\n",
       "        </tr>\n",
       "        <tr>\n",
       "            <td>1       </td> <td>Selected Male  </td> <td>85  </td> <td>371082         </td>\n",
       "        </tr>\n",
       "        <tr>\n",
       "            <td>1       </td> <td>Selected Male  </td> <td>86  </td> <td>337306         </td>\n",
       "        </tr>\n",
       "        <tr>\n",
       "            <td>1       </td> <td>Selected Male  </td> <td>87  </td> <td>299845         </td>\n",
       "        </tr>\n",
       "        <tr>\n",
       "            <td>1       </td> <td>Selected Male  </td> <td>88  </td> <td>264191         </td>\n",
       "        </tr>\n",
       "        <tr>\n",
       "            <td>1       </td> <td>Selected Male  </td> <td>89  </td> <td>232649         </td>\n",
       "        </tr>\n",
       "        <tr>\n",
       "            <td>1       </td> <td>Selected Male  </td> <td>90  </td> <td>191220         </td>\n",
       "        </tr>\n",
       "        <tr>\n",
       "            <td>1       </td> <td>Selected Male  </td> <td>91  </td> <td>160941         </td>\n",
       "        </tr>\n",
       "        <tr>\n",
       "            <td>1       </td> <td>Selected Male  </td> <td>92  </td> <td>131684         </td>\n",
       "        </tr>\n",
       "        <tr>\n",
       "            <td>1       </td> <td>Selected Male  </td> <td>93  </td> <td>103415         </td>\n",
       "        </tr>\n",
       "        <tr>\n",
       "            <td>1       </td> <td>Selected Male  </td> <td>94  </td> <td>81893          </td>\n",
       "        </tr>\n",
       "        <tr>\n",
       "            <td>1       </td> <td>Selected Male  </td> <td>95  </td> <td>61994          </td>\n",
       "        </tr>\n",
       "        <tr>\n",
       "            <td>1       </td> <td>Selected Male  </td> <td>96  </td> <td>46046          </td>\n",
       "        </tr>\n",
       "        <tr>\n",
       "            <td>1       </td> <td>Selected Male  </td> <td>97  </td> <td>32611          </td>\n",
       "        </tr>\n",
       "        <tr>\n",
       "            <td>1       </td> <td>Selected Male  </td> <td>98  </td> <td>23543          </td>\n",
       "        </tr>\n",
       "        <tr>\n",
       "            <td>1       </td> <td>Selected Male  </td> <td>99  </td> <td>14596          </td>\n",
       "        </tr>\n",
       "        <tr>\n",
       "            <td>1       </td> <td>Selected Male  </td> <td>100 </td> <td>23472          </td>\n",
       "        </tr>\n",
       "        <tr>\n",
       "            <td>1       </td> <td>Selected Male  </td> <td>999 </td> <td>161657324      </td>\n",
       "        </tr>\n",
       "        <tr>\n",
       "            <td>2       </td> <td>Selected Female</td> <td>0   </td> <td>1847935        </td>\n",
       "        </tr>\n",
       "        <tr>\n",
       "            <td>2       </td> <td>Selected Female</td> <td>1   </td> <td>1871014        </td>\n",
       "        </tr>\n",
       "        <tr>\n",
       "            <td>2       </td> <td>Selected Female</td> <td>2   </td> <td>1916500        </td>\n",
       "        </tr>\n",
       "        <tr>\n",
       "            <td>2       </td> <td>Selected Female</td> <td>3   </td> <td>1955655        </td>\n",
       "        </tr>\n",
       "        <tr>\n",
       "            <td>2       </td> <td>Selected Female</td> <td>4   </td> <td>1976372        </td>\n",
       "        </tr>\n",
       "        <tr>\n",
       "            <td>2       </td> <td>Selected Female</td> <td>5   </td> <td>1967081        </td>\n",
       "        </tr>\n",
       "        <tr>\n",
       "            <td>2       </td> <td>Selected Female</td> <td>6   </td> <td>1964271        </td>\n",
       "        </tr>\n",
       "        <tr>\n",
       "            <td>2       </td> <td>Selected Female</td> <td>7   </td> <td>1966584        </td>\n",
       "        </tr>\n",
       "        <tr>\n",
       "            <td>2       </td> <td>Selected Female</td> <td>8   </td> <td>1986471        </td>\n",
       "        </tr>\n",
       "        <tr>\n",
       "            <td>2       </td> <td>Selected Female</td> <td>9   </td> <td>1988726        </td>\n",
       "        </tr>\n",
       "        <tr>\n",
       "            <td>2       </td> <td>Selected Female</td> <td>10  </td> <td>1989162        </td>\n",
       "        </tr>\n",
       "        <tr>\n",
       "            <td>2       </td> <td>Selected Female</td> <td>11  </td> <td>2051224        </td>\n",
       "        </tr>\n",
       "        <tr>\n",
       "            <td>2       </td> <td>Selected Female</td> <td>12  </td> <td>2058568        </td>\n",
       "        </tr>\n",
       "        <tr>\n",
       "            <td>2       </td> <td>Selected Female</td> <td>13  </td> <td>2042234        </td>\n",
       "        </tr>\n",
       "        <tr>\n",
       "            <td>2       </td> <td>Selected Female</td> <td>14  </td> <td>2038819        </td>\n",
       "        </tr>\n",
       "        <tr>\n",
       "            <td>2       </td> <td>Selected Female</td> <td>15  </td> <td>2045739        </td>\n",
       "        </tr>\n",
       "        <tr>\n",
       "            <td>2       </td> <td>Selected Female</td> <td>16  </td> <td>2034255        </td>\n",
       "        </tr>\n",
       "        <tr>\n",
       "            <td>2       </td> <td>Selected Female</td> <td>17  </td> <td>2029872        </td>\n",
       "        </tr>\n",
       "        <tr>\n",
       "            <td>2       </td> <td>Selected Female</td> <td>18  </td> <td>2083442        </td>\n",
       "        </tr>\n",
       "        <tr>\n",
       "            <td>2       </td> <td>Selected Female</td> <td>19  </td> <td>2115655        </td>\n",
       "        </tr>\n",
       "        <tr>\n",
       "            <td>2       </td> <td>Selected Female</td> <td>20  </td> <td>2086544        </td>\n",
       "        </tr>\n",
       "        <tr>\n",
       "            <td>2       </td> <td>Selected Female</td> <td>21  </td> <td>2091237        </td>\n",
       "        </tr>\n",
       "        <tr>\n",
       "            <td>2       </td> <td>Selected Female</td> <td>22  </td> <td>2103476        </td>\n",
       "        </tr>\n",
       "        <tr>\n",
       "            <td>2       </td> <td>Selected Female</td> <td>23  </td> <td>2119886        </td>\n",
       "        </tr>\n",
       "        <tr>\n",
       "            <td>2       </td> <td>Selected Female</td> <td>24  </td> <td>2167045        </td>\n",
       "        </tr>\n",
       "        <tr>\n",
       "            <td>2       </td> <td>Selected Female</td> <td>25  </td> <td>2213205        </td>\n",
       "        </tr>\n",
       "        <tr>\n",
       "            <td>2       </td> <td>Selected Female</td> <td>26  </td> <td>2245334        </td>\n",
       "        </tr>\n",
       "        <tr>\n",
       "            <td>2       </td> <td>Selected Female</td> <td>27  </td> <td>2312599        </td>\n",
       "        </tr>\n",
       "        <tr>\n",
       "            <td>2       </td> <td>Selected Female</td> <td>28  </td> <td>2366969        </td>\n",
       "        </tr>\n",
       "        <tr>\n",
       "            <td>2       </td> <td>Selected Female</td> <td>29  </td> <td>2366339        </td>\n",
       "        </tr>\n",
       "        <tr>\n",
       "            <td>2       </td> <td>Selected Female</td> <td>30  </td> <td>2273519        </td>\n",
       "        </tr>\n",
       "        <tr>\n",
       "            <td>2       </td> <td>Selected Female</td> <td>31  </td> <td>2220984        </td>\n",
       "        </tr>\n",
       "        <tr>\n",
       "            <td>2       </td> <td>Selected Female</td> <td>32  </td> <td>2181619        </td>\n",
       "        </tr>\n",
       "        <tr>\n",
       "            <td>2       </td> <td>Selected Female</td> <td>33  </td> <td>2189693        </td>\n",
       "        </tr>\n",
       "        <tr>\n",
       "            <td>2       </td> <td>Selected Female</td> <td>34  </td> <td>2210880        </td>\n",
       "        </tr>\n",
       "        <tr>\n",
       "            <td>2       </td> <td>Selected Female</td> <td>35  </td> <td>2148244        </td>\n",
       "        </tr>\n",
       "        <tr>\n",
       "            <td>2       </td> <td>Selected Female</td> <td>36  </td> <td>2181076        </td>\n",
       "        </tr>\n",
       "        <tr>\n",
       "            <td>2       </td> <td>Selected Female</td> <td>37  </td> <td>2180124        </td>\n",
       "        </tr>\n",
       "        <tr>\n",
       "            <td>2       </td> <td>Selected Female</td> <td>38  </td> <td>2156217        </td>\n",
       "        </tr>\n",
       "        <tr>\n",
       "            <td>2       </td> <td>Selected Female</td> <td>39  </td> <td>2186919        </td>\n",
       "        </tr>\n",
       "        <tr>\n",
       "            <td>2       </td> <td>Selected Female</td> <td>40  </td> <td>2058650        </td>\n",
       "        </tr>\n",
       "        <tr>\n",
       "            <td>2       </td> <td>Selected Female</td> <td>41  </td> <td>2018752        </td>\n",
       "        </tr>\n",
       "        <tr>\n",
       "            <td>2       </td> <td>Selected Female</td> <td>42  </td> <td>2002157        </td>\n",
       "        </tr>\n",
       "        <tr>\n",
       "            <td>2       </td> <td>Selected Female</td> <td>43  </td> <td>1940751        </td>\n",
       "        </tr>\n",
       "        <tr>\n",
       "            <td>2       </td> <td>Selected Female</td> <td>44  </td> <td>1994174        </td>\n",
       "        </tr>\n",
       "        <tr>\n",
       "            <td>2       </td> <td>Selected Female</td> <td>45  </td> <td>1937417        </td>\n",
       "        </tr>\n",
       "        <tr>\n",
       "            <td>2       </td> <td>Selected Female</td> <td>46  </td> <td>1970074        </td>\n",
       "        </tr>\n",
       "        <tr>\n",
       "            <td>2       </td> <td>Selected Female</td> <td>47  </td> <td>2052817        </td>\n",
       "        </tr>\n",
       "        <tr>\n",
       "            <td>2       </td> <td>Selected Female</td> <td>48  </td> <td>2168043        </td>\n",
       "        </tr>\n",
       "        <tr>\n",
       "            <td>2       </td> <td>Selected Female</td> <td>49  </td> <td>2184045        </td>\n",
       "        </tr>\n",
       "        <tr>\n",
       "            <td>2       </td> <td>Selected Female</td> <td>50  </td> <td>2071196        </td>\n",
       "        </tr>\n",
       "        <tr>\n",
       "            <td>2       </td> <td>Selected Female</td> <td>51  </td> <td>2027460        </td>\n",
       "        </tr>\n",
       "        <tr>\n",
       "            <td>2       </td> <td>Selected Female</td> <td>52  </td> <td>2033163        </td>\n",
       "        </tr>\n",
       "        <tr>\n",
       "            <td>2       </td> <td>Selected Female</td> <td>53  </td> <td>2067526        </td>\n",
       "        </tr>\n",
       "        <tr>\n",
       "            <td>2       </td> <td>Selected Female</td> <td>54  </td> <td>2191195        </td>\n",
       "        </tr>\n",
       "        <tr>\n",
       "            <td>2       </td> <td>Selected Female</td> <td>55  </td> <td>2236979        </td>\n",
       "        </tr>\n",
       "        <tr>\n",
       "            <td>2       </td> <td>Selected Female</td> <td>56  </td> <td>2235893        </td>\n",
       "        </tr>\n",
       "        <tr>\n",
       "            <td>2       </td> <td>Selected Female</td> <td>57  </td> <td>2230590        </td>\n",
       "        </tr>\n",
       "        <tr>\n",
       "            <td>2       </td> <td>Selected Female</td> <td>58  </td> <td>2259796        </td>\n",
       "        </tr>\n",
       "        <tr>\n",
       "            <td>2       </td> <td>Selected Female</td> <td>59  </td> <td>2271644        </td>\n",
       "        </tr>\n",
       "        <tr>\n",
       "            <td>2       </td> <td>Selected Female</td> <td>60  </td> <td>2199986        </td>\n",
       "        </tr>\n",
       "        <tr>\n",
       "            <td>2       </td> <td>Selected Female</td> <td>61  </td> <td>2187221        </td>\n",
       "        </tr>\n",
       "        <tr>\n",
       "            <td>2       </td> <td>Selected Female</td> <td>62  </td> <td>2165425        </td>\n",
       "        </tr>\n",
       "        <tr>\n",
       "            <td>2       </td> <td>Selected Female</td> <td>63  </td> <td>2090246        </td>\n",
       "        </tr>\n",
       "        <tr>\n",
       "            <td>2       </td> <td>Selected Female</td> <td>64  </td> <td>2071538        </td>\n",
       "        </tr>\n",
       "        <tr>\n",
       "            <td>2       </td> <td>Selected Female</td> <td>65  </td> <td>1991169        </td>\n",
       "        </tr>\n",
       "        <tr>\n",
       "            <td>2       </td> <td>Selected Female</td> <td>66  </td> <td>1914181        </td>\n",
       "        </tr>\n",
       "        <tr>\n",
       "            <td>2       </td> <td>Selected Female</td> <td>67  </td> <td>1836574        </td>\n",
       "        </tr>\n",
       "        <tr>\n",
       "            <td>2       </td> <td>Selected Female</td> <td>68  </td> <td>1781346        </td>\n",
       "        </tr>\n",
       "        <tr>\n",
       "            <td>2       </td> <td>Selected Female</td> <td>69  </td> <td>1731958        </td>\n",
       "        </tr>\n",
       "        <tr>\n",
       "            <td>2       </td> <td>Selected Female</td> <td>70  </td> <td>1674584        </td>\n",
       "        </tr>\n",
       "        <tr>\n",
       "            <td>2       </td> <td>Selected Female</td> <td>71  </td> <td>1647705        </td>\n",
       "        </tr>\n",
       "        <tr>\n",
       "            <td>2       </td> <td>Selected Female</td> <td>72  </td> <td>1707812        </td>\n",
       "        </tr>\n",
       "        <tr>\n",
       "            <td>2       </td> <td>Selected Female</td> <td>73  </td> <td>1259662        </td>\n",
       "        </tr>\n",
       "        <tr>\n",
       "            <td>2       </td> <td>Selected Female</td> <td>74  </td> <td>1238863        </td>\n",
       "        </tr>\n",
       "        <tr>\n",
       "            <td>2       </td> <td>Selected Female</td> <td>75  </td> <td>1199896        </td>\n",
       "        </tr>\n",
       "        <tr>\n",
       "            <td>2       </td> <td>Selected Female</td> <td>76  </td> <td>1218702        </td>\n",
       "        </tr>\n",
       "        <tr>\n",
       "            <td>2       </td> <td>Selected Female</td> <td>77  </td> <td>1056331        </td>\n",
       "        </tr>\n",
       "        <tr>\n",
       "            <td>2       </td> <td>Selected Female</td> <td>78  </td> <td>960647         </td>\n",
       "        </tr>\n",
       "        <tr>\n",
       "            <td>2       </td> <td>Selected Female</td> <td>79  </td> <td>898590         </td>\n",
       "        </tr>\n",
       "        <tr>\n",
       "            <td>2       </td> <td>Selected Female</td> <td>80  </td> <td>831640         </td>\n",
       "        </tr>\n",
       "        <tr>\n",
       "            <td>2       </td> <td>Selected Female</td> <td>81  </td> <td>788013         </td>\n",
       "        </tr>\n",
       "        <tr>\n",
       "            <td>2       </td> <td>Selected Female</td> <td>82  </td> <td>715575         </td>\n",
       "        </tr>\n",
       "        <tr>\n",
       "            <td>2       </td> <td>Selected Female</td> <td>83  </td> <td>671025         </td>\n",
       "        </tr>\n",
       "        <tr>\n",
       "            <td>2       </td> <td>Selected Female</td> <td>84  </td> <td>631230         </td>\n",
       "        </tr>\n",
       "        <tr>\n",
       "            <td>2       </td> <td>Selected Female</td> <td>85  </td> <td>551385         </td>\n",
       "        </tr>\n",
       "        <tr>\n",
       "            <td>2       </td> <td>Selected Female</td> <td>86  </td> <td>519340         </td>\n",
       "        </tr>\n",
       "        <tr>\n",
       "            <td>2       </td> <td>Selected Female</td> <td>87  </td> <td>479078         </td>\n",
       "        </tr>\n",
       "        <tr>\n",
       "            <td>2       </td> <td>Selected Female</td> <td>88  </td> <td>438887         </td>\n",
       "        </tr>\n",
       "        <tr>\n",
       "            <td>2       </td> <td>Selected Female</td> <td>89  </td> <td>403333         </td>\n",
       "        </tr>\n",
       "        <tr>\n",
       "            <td>2       </td> <td>Selected Female</td> <td>90  </td> <td>345227         </td>\n",
       "        </tr>\n",
       "        <tr>\n",
       "            <td>2       </td> <td>Selected Female</td> <td>91  </td> <td>306231         </td>\n",
       "        </tr>\n",
       "        <tr>\n",
       "            <td>2       </td> <td>Selected Female</td> <td>92  </td> <td>262383         </td>\n",
       "        </tr>\n",
       "        <tr>\n",
       "            <td>2       </td> <td>Selected Female</td> <td>93  </td> <td>217370         </td>\n",
       "        </tr>\n",
       "        <tr>\n",
       "            <td>2       </td> <td>Selected Female</td> <td>94  </td> <td>182384         </td>\n",
       "        </tr>\n",
       "        <tr>\n",
       "            <td>2       </td> <td>Selected Female</td> <td>95  </td> <td>145092         </td>\n",
       "        </tr>\n",
       "        <tr>\n",
       "            <td>2       </td> <td>Selected Female</td> <td>96  </td> <td>111417         </td>\n",
       "        </tr>\n",
       "        <tr>\n",
       "            <td>2       </td> <td>Selected Female</td> <td>97  </td> <td>84358          </td>\n",
       "        </tr>\n",
       "        <tr>\n",
       "            <td>2       </td> <td>Selected Female</td> <td>98  </td> <td>62607          </td>\n",
       "        </tr>\n",
       "        <tr>\n",
       "            <td>2       </td> <td>Selected Female</td> <td>99  </td> <td>42528          </td>\n",
       "        </tr>\n",
       "        <tr>\n",
       "            <td>2       </td> <td>Selected Female</td> <td>100 </td> <td>76850          </td>\n",
       "        </tr>\n",
       "        <tr>\n",
       "            <td>2       </td> <td>Selected Female</td> <td>999 </td> <td>166582199      </td>\n",
       "        </tr>\n",
       "    </tbody>\n",
       "</table>"
      ],
      "text/plain": [
       "<IPython.core.display.HTML object>"
      ]
     },
     "metadata": {},
     "output_type": "display_data"
    }
   ],
   "source": [
    "sex_codes.join('SEX CODE', census, 'SEX').show()"
   ]
  },
  {
   "cell_type": "code",
   "execution_count": null,
   "id": "009c5428",
   "metadata": {},
   "outputs": [],
   "source": []
  },
  {
   "cell_type": "markdown",
   "id": "b69de016",
   "metadata": {},
   "source": [
    "## Bike Sharing"
   ]
  },
  {
   "cell_type": "code",
   "execution_count": 7,
   "id": "e69e22ae",
   "metadata": {},
   "outputs": [
    {
     "data": {
      "text/html": [
       "<table border=\"1\" class=\"dataframe\">\n",
       "    <thead>\n",
       "        <tr>\n",
       "            <th>Trip ID</th> <th>Duration</th> <th>Start Date</th> <th>Start Station</th> <th>Start Terminal</th> <th>End Date</th> <th>End Station</th> <th>End Terminal</th> <th>Bike #</th> <th>Subscriber Type</th> <th>Zip Code</th>\n",
       "        </tr>\n",
       "    </thead>\n",
       "    <tbody>\n",
       "        <tr>\n",
       "            <td>913460 </td> <td>765     </td> <td>8/31/2015 23:26</td> <td>Harry Bridges Plaza (Ferry Building)         </td> <td>50            </td> <td>8/31/2015 23:39</td> <td>San Francisco Caltrain (Townsend at 4th)     </td> <td>70          </td> <td>288   </td> <td>Subscriber     </td> <td>2139    </td>\n",
       "        </tr>\n",
       "        <tr>\n",
       "            <td>913459 </td> <td>1036    </td> <td>8/31/2015 23:11</td> <td>San Antonio Shopping Center                  </td> <td>31            </td> <td>8/31/2015 23:28</td> <td>Mountain View City Hall                      </td> <td>27          </td> <td>35    </td> <td>Subscriber     </td> <td>95032   </td>\n",
       "        </tr>\n",
       "        <tr>\n",
       "            <td>913455 </td> <td>307     </td> <td>8/31/2015 23:13</td> <td>Post at Kearny                               </td> <td>47            </td> <td>8/31/2015 23:18</td> <td>2nd at South Park                            </td> <td>64          </td> <td>468   </td> <td>Subscriber     </td> <td>94107   </td>\n",
       "        </tr>\n",
       "        <tr>\n",
       "            <td>913454 </td> <td>409     </td> <td>8/31/2015 23:10</td> <td>San Jose City Hall                           </td> <td>10            </td> <td>8/31/2015 23:17</td> <td>San Salvador at 1st                          </td> <td>8           </td> <td>68    </td> <td>Subscriber     </td> <td>95113   </td>\n",
       "        </tr>\n",
       "        <tr>\n",
       "            <td>913453 </td> <td>789     </td> <td>8/31/2015 23:09</td> <td>Embarcadero at Folsom                        </td> <td>51            </td> <td>8/31/2015 23:22</td> <td>Embarcadero at Sansome                       </td> <td>60          </td> <td>487   </td> <td>Customer       </td> <td>9069    </td>\n",
       "        </tr>\n",
       "        <tr>\n",
       "            <td>913452 </td> <td>293     </td> <td>8/31/2015 23:07</td> <td>Yerba Buena Center of the Arts (3rd @ Howard)</td> <td>68            </td> <td>8/31/2015 23:12</td> <td>San Francisco Caltrain (Townsend at 4th)     </td> <td>70          </td> <td>538   </td> <td>Subscriber     </td> <td>94118   </td>\n",
       "        </tr>\n",
       "        <tr>\n",
       "            <td>913451 </td> <td>896     </td> <td>8/31/2015 23:07</td> <td>Embarcadero at Folsom                        </td> <td>51            </td> <td>8/31/2015 23:22</td> <td>Embarcadero at Sansome                       </td> <td>60          </td> <td>363   </td> <td>Customer       </td> <td>92562   </td>\n",
       "        </tr>\n",
       "        <tr>\n",
       "            <td>913450 </td> <td>255     </td> <td>8/31/2015 22:16</td> <td>Embarcadero at Sansome                       </td> <td>60            </td> <td>8/31/2015 22:20</td> <td>Steuart at Market                            </td> <td>74          </td> <td>470   </td> <td>Subscriber     </td> <td>94111   </td>\n",
       "        </tr>\n",
       "        <tr>\n",
       "            <td>913449 </td> <td>126     </td> <td>8/31/2015 22:12</td> <td>Beale at Market                              </td> <td>56            </td> <td>8/31/2015 22:15</td> <td>Temporary Transbay Terminal (Howard at Beale)</td> <td>55          </td> <td>439   </td> <td>Subscriber     </td> <td>94130   </td>\n",
       "        </tr>\n",
       "        <tr>\n",
       "            <td>913448 </td> <td>932     </td> <td>8/31/2015 21:57</td> <td>Post at Kearny                               </td> <td>47            </td> <td>8/31/2015 22:12</td> <td>South Van Ness at Market                     </td> <td>66          </td> <td>472   </td> <td>Subscriber     </td> <td>94702   </td>\n",
       "        </tr>\n",
       "    </tbody>\n",
       "</table>\n",
       "<p>... (354142 rows omitted)</p>"
      ],
      "text/plain": [
       "Trip ID | Duration | Start Date      | Start Station                                 | Start Terminal | End Date        | End Station                                   | End Terminal | Bike # | Subscriber Type | Zip Code\n",
       "913460  | 765      | 8/31/2015 23:26 | Harry Bridges Plaza (Ferry Building)          | 50             | 8/31/2015 23:39 | San Francisco Caltrain (Townsend at 4th)      | 70           | 288    | Subscriber      | 2139\n",
       "913459  | 1036     | 8/31/2015 23:11 | San Antonio Shopping Center                   | 31             | 8/31/2015 23:28 | Mountain View City Hall                       | 27           | 35     | Subscriber      | 95032\n",
       "913455  | 307      | 8/31/2015 23:13 | Post at Kearny                                | 47             | 8/31/2015 23:18 | 2nd at South Park                             | 64           | 468    | Subscriber      | 94107\n",
       "913454  | 409      | 8/31/2015 23:10 | San Jose City Hall                            | 10             | 8/31/2015 23:17 | San Salvador at 1st                           | 8            | 68     | Subscriber      | 95113\n",
       "913453  | 789      | 8/31/2015 23:09 | Embarcadero at Folsom                         | 51             | 8/31/2015 23:22 | Embarcadero at Sansome                        | 60           | 487    | Customer        | 9069\n",
       "913452  | 293      | 8/31/2015 23:07 | Yerba Buena Center of the Arts (3rd @ Howard) | 68             | 8/31/2015 23:12 | San Francisco Caltrain (Townsend at 4th)      | 70           | 538    | Subscriber      | 94118\n",
       "913451  | 896      | 8/31/2015 23:07 | Embarcadero at Folsom                         | 51             | 8/31/2015 23:22 | Embarcadero at Sansome                        | 60           | 363    | Customer        | 92562\n",
       "913450  | 255      | 8/31/2015 22:16 | Embarcadero at Sansome                        | 60             | 8/31/2015 22:20 | Steuart at Market                             | 74           | 470    | Subscriber      | 94111\n",
       "913449  | 126      | 8/31/2015 22:12 | Beale at Market                               | 56             | 8/31/2015 22:15 | Temporary Transbay Terminal (Howard at Beale) | 55           | 439    | Subscriber      | 94130\n",
       "913448  | 932      | 8/31/2015 21:57 | Post at Kearny                                | 47             | 8/31/2015 22:12 | South Van Ness at Market                      | 66           | 472    | Subscriber      | 94702\n",
       "... (354142 rows omitted)"
      ]
     },
     "execution_count": 7,
     "metadata": {},
     "output_type": "execute_result"
    }
   ],
   "source": [
    "trip = Table.read_table('trip.csv')\n",
    "trip"
   ]
  },
  {
   "cell_type": "markdown",
   "id": "1b4e0515",
   "metadata": {},
   "source": [
    "## Distribution of Durations"
   ]
  },
  {
   "cell_type": "code",
   "execution_count": 8,
   "id": "47186d3b",
   "metadata": {},
   "outputs": [
    {
     "name": "stderr",
     "output_type": "stream",
     "text": [
      "c:\\users\\admin\\pycharmprojects\\lib\\site-packages\\datascience\\tables.py:5206: UserWarning: FixedFormatter should only be used together with FixedLocator\n",
      "  axis.set_xticklabels(ticks, rotation='vertical')\n"
     ]
    },
    {
     "data": {
      "image/png": "[encoded data removed]",
      "text/plain": [
       "<Figure size 432x288 with 1 Axes>"
      ]
     },
     "metadata": {},
     "output_type": "display_data"
    }
   ],
   "source": [
    "trip.hist('Duration')\n",
    "#Absolutely correct but useless"
   ]
  },
  {
   "cell_type": "code",
   "execution_count": 9,
   "id": "b9b51030",
   "metadata": {},
   "outputs": [
    {
     "data": {
      "text/html": [
       "<table border=\"1\" class=\"dataframe\">\n",
       "    <thead>\n",
       "        <tr>\n",
       "            <th>Trip ID</th> <th>Duration</th> <th>Start Date</th> <th>Start Station</th> <th>Start Terminal</th> <th>End Date</th> <th>End Station</th> <th>End Terminal</th> <th>Bike #</th> <th>Subscriber Type</th> <th>Zip Code</th>\n",
       "        </tr>\n",
       "    </thead>\n",
       "    <tbody>\n",
       "        <tr>\n",
       "            <td>568474 </td> <td>17270400</td> <td>12/06/2014 21:59</td> <td>South Van Ness at Market     </td> <td>66            </td> <td>6/24/2015 20:18 </td> <td>2nd at Folsom                                </td> <td>62          </td> <td>535   </td> <td>Customer       </td> <td>95531   </td>\n",
       "        </tr>\n",
       "        <tr>\n",
       "            <td>825850 </td> <td>2137000 </td> <td>6/28/2015 21:50 </td> <td>Market at Sansome            </td> <td>77            </td> <td>7/23/2015 15:27 </td> <td>Yerba Buena Center of the Arts (3rd @ Howard)</td> <td>68          </td> <td>466   </td> <td>Customer       </td> <td>97213   </td>\n",
       "        </tr>\n",
       "        <tr>\n",
       "            <td>750192 </td> <td>1852590 </td> <td>05/02/2015 6:17 </td> <td>San Antonio Shopping Center  </td> <td>31            </td> <td>5/23/2015 16:53 </td> <td>Castro Street and El Camino Real             </td> <td>32          </td> <td>680   </td> <td>Subscriber     </td> <td>94024   </td>\n",
       "        </tr>\n",
       "        <tr>\n",
       "            <td>841176 </td> <td>1133540 </td> <td>07/10/2015 10:35</td> <td>University and Emerson       </td> <td>35            </td> <td>7/23/2015 13:27 </td> <td>University and Emerson                       </td> <td>35          </td> <td>262   </td> <td>Customer       </td> <td>94306   </td>\n",
       "        </tr>\n",
       "        <tr>\n",
       "            <td>522337 </td> <td>720454  </td> <td>10/30/2014 8:29 </td> <td>Redwood City Caltrain Station</td> <td>22            </td> <td>11/07/2014 15:36</td> <td>Stanford in Redwood City                     </td> <td>25          </td> <td>692   </td> <td>Customer       </td> <td>94010   </td>\n",
       "        </tr>\n",
       "        <tr>\n",
       "            <td>774999 </td> <td>688899  </td> <td>5/20/2015 15:27 </td> <td>Palo Alto Caltrain Station   </td> <td>34            </td> <td>5/28/2015 14:49 </td> <td>California Ave Caltrain Station              </td> <td>36          </td> <td>230   </td> <td>Customer       </td> <td>nil     </td>\n",
       "        </tr>\n",
       "        <tr>\n",
       "            <td>635260 </td> <td>655939  </td> <td>02/08/2015 3:05 </td> <td>San Jose Civic Center        </td> <td>3             </td> <td>2/15/2015 17:17 </td> <td>SJSU 4th at San Carlos                       </td> <td>12          </td> <td>132   </td> <td>Customer       </td> <td>89451   </td>\n",
       "        </tr>\n",
       "        <tr>\n",
       "            <td>745640 </td> <td>611240  </td> <td>4/29/2015 9:41  </td> <td>University and Emerson       </td> <td>35            </td> <td>05/06/2015 11:28</td> <td>San Antonio Shopping Center                  </td> <td>31          </td> <td>196   </td> <td>Customer       </td> <td>81      </td>\n",
       "        </tr>\n",
       "        <tr>\n",
       "            <td>635263 </td> <td>602338  </td> <td>02/08/2015 3:09 </td> <td>San Jose Civic Center        </td> <td>3             </td> <td>2/15/2015 2:28  </td> <td>San Jose Civic Center                        </td> <td>3           </td> <td>9     </td> <td>Customer       </td> <td>89451   </td>\n",
       "        </tr>\n",
       "        <tr>\n",
       "            <td>779645 </td> <td>594550  </td> <td>5/24/2015 13:33 </td> <td>San Pedro Square             </td> <td>6             </td> <td>5/31/2015 10:42 </td> <td>San Pedro Square                             </td> <td>6           </td> <td>39    </td> <td>Customer       </td> <td>95118   </td>\n",
       "        </tr>\n",
       "    </tbody>\n",
       "</table>\n",
       "<p>... (354142 rows omitted)</p>"
      ],
      "text/plain": [
       "Trip ID | Duration | Start Date       | Start Station                 | Start Terminal | End Date         | End Station                                   | End Terminal | Bike # | Subscriber Type | Zip Code\n",
       "568474  | 17270400 | 12/06/2014 21:59 | South Van Ness at Market      | 66             | 6/24/2015 20:18  | 2nd at Folsom                                 | 62           | 535    | Customer        | 95531\n",
       "825850  | 2137000  | 6/28/2015 21:50  | Market at Sansome             | 77             | 7/23/2015 15:27  | Yerba Buena Center of the Arts (3rd @ Howard) | 68           | 466    | Customer        | 97213\n",
       "750192  | 1852590  | 05/02/2015 6:17  | San Antonio Shopping Center   | 31             | 5/23/2015 16:53  | Castro Street and El Camino Real              | 32           | 680    | Subscriber      | 94024\n",
       "841176  | 1133540  | 07/10/2015 10:35 | University and Emerson        | 35             | 7/23/2015 13:27  | University and Emerson                        | 35           | 262    | Customer        | 94306\n",
       "522337  | 720454   | 10/30/2014 8:29  | Redwood City Caltrain Station | 22             | 11/07/2014 15:36 | Stanford in Redwood City                      | 25           | 692    | Customer        | 94010\n",
       "774999  | 688899   | 5/20/2015 15:27  | Palo Alto Caltrain Station    | 34             | 5/28/2015 14:49  | California Ave Caltrain Station               | 36           | 230    | Customer        | nil\n",
       "635260  | 655939   | 02/08/2015 3:05  | San Jose Civic Center         | 3              | 2/15/2015 17:17  | SJSU 4th at San Carlos                        | 12           | 132    | Customer        | 89451\n",
       "745640  | 611240   | 4/29/2015 9:41   | University and Emerson        | 35             | 05/06/2015 11:28 | San Antonio Shopping Center                   | 31           | 196    | Customer        | 81\n",
       "635263  | 602338   | 02/08/2015 3:09  | San Jose Civic Center         | 3              | 2/15/2015 2:28   | San Jose Civic Center                         | 3            | 9      | Customer        | 89451\n",
       "779645  | 594550   | 5/24/2015 13:33  | San Pedro Square              | 6              | 5/31/2015 10:42  | San Pedro Square                              | 6            | 39     | Customer        | 95118\n",
       "... (354142 rows omitted)"
      ]
     },
     "execution_count": 9,
     "metadata": {},
     "output_type": "execute_result"
    }
   ],
   "source": [
    "trip.sort('Duration', descending=True)\n",
    "#Just look at how (kking) long the first trip was."
   ]
  },
  {
   "cell_type": "code",
   "execution_count": 10,
   "id": "e7711bda",
   "metadata": {},
   "outputs": [],
   "source": [
    "#Remove the outliers or just look at a small finite subset"
   ]
  },
  {
   "cell_type": "code",
   "execution_count": 11,
   "id": "59f3c204",
   "metadata": {},
   "outputs": [
    {
     "data": {
      "image/png": "[encoded data removed]",
      "text/plain": [
       "<Figure size 432x288 with 1 Axes>"
      ]
     },
     "metadata": {},
     "output_type": "display_data"
    }
   ],
   "source": [
    "commute = trip.where('Duration', are.below(1800))\n",
    "commute.hist('Duration')\n",
    "#Weird number placement"
   ]
  },
  {
   "cell_type": "code",
   "execution_count": 16,
   "id": "d58c0ee3",
   "metadata": {},
   "outputs": [
    {
     "data": {
      "image/png": "[encoded data removed]",
      "text/plain": [
       "<Figure size 432x288 with 1 Axes>"
      ]
     },
     "metadata": {},
     "output_type": "display_data"
    }
   ],
   "source": [
    "commute.hist('Duration', bins=np.arange(0, 1800, 250), unit='Second(s)')"
   ]
  },
  {
   "cell_type": "code",
   "execution_count": 17,
   "id": "9a8b8199",
   "metadata": {},
   "outputs": [
    {
     "data": {
      "text/plain": [
       "37.5"
      ]
     },
     "execution_count": 17,
     "metadata": {},
     "output_type": "execute_result"
    }
   ],
   "source": [
    "# Approx percent of people who have\n",
    "# a ride duration between 250 and 500 seconds\n",
    "# 'between' = [250, 500]\n",
    "\n",
    "#Area = \n",
    "0.15 * (500-250)"
   ]
  },
  {
   "cell_type": "code",
   "execution_count": 18,
   "id": "1e2605c0",
   "metadata": {},
   "outputs": [],
   "source": [
    "#Take a closer look. It is not 0.15 but a little more"
   ]
  },
  {
   "cell_type": "code",
   "execution_count": 19,
   "id": "284cc67e",
   "metadata": {},
   "outputs": [
    {
     "data": {
      "text/plain": [
       "129079"
      ]
     },
     "execution_count": 19,
     "metadata": {},
     "output_type": "execute_result"
    }
   ],
   "source": [
    "commute.where('Duration', are.between(250, 500)).num_rows"
   ]
  },
  {
   "cell_type": "code",
   "execution_count": 20,
   "id": "67fef3c5",
   "metadata": {},
   "outputs": [
    {
     "data": {
      "text/plain": [
       "338343"
      ]
     },
     "execution_count": 20,
     "metadata": {},
     "output_type": "execute_result"
    }
   ],
   "source": [
    "commute.num_rows"
   ]
  },
  {
   "cell_type": "code",
   "execution_count": 21,
   "id": "89a9f0f5",
   "metadata": {},
   "outputs": [
    {
     "data": {
      "text/plain": [
       "0.38150338561755376"
      ]
     },
     "execution_count": 21,
     "metadata": {},
     "output_type": "execute_result"
    }
   ],
   "source": [
    "129079/338343"
   ]
  },
  {
   "cell_type": "code",
   "execution_count": 22,
   "id": "be5340f2",
   "metadata": {},
   "outputs": [
    {
     "data": {
      "image/png": "[encoded data removed]",
      "text/plain": [
       "<Figure size 432x288 with 1 Axes>"
      ]
     },
     "metadata": {},
     "output_type": "display_data"
    }
   ],
   "source": [
    "commute.hist('Duration', bins=np.arange(0, 1800, 250), unit='Second(s)')"
   ]
  },
  {
   "cell_type": "code",
   "execution_count": 27,
   "id": "b57b7bcf",
   "metadata": {},
   "outputs": [
    {
     "data": {
      "image/png": "[encoded data removed]",
      "text/plain": [
       "<Figure size 432x288 with 1 Axes>"
      ]
     },
     "metadata": {},
     "output_type": "display_data"
    }
   ],
   "source": [
    "commute.hist('Duration', bins=60, unit='Second(s)')\n",
    "#Scale is EXACTLY THE SAME\n",
    "#Because we take percentages"
   ]
  },
  {
   "cell_type": "code",
   "execution_count": null,
   "id": "74a00d9c",
   "metadata": {},
   "outputs": [],
   "source": []
  },
  {
   "cell_type": "markdown",
   "id": "6fe4beb2",
   "metadata": {},
   "source": [
    "## Start And End Stations"
   ]
  },
  {
   "cell_type": "code",
   "execution_count": 29,
   "id": "14e4ebb9",
   "metadata": {},
   "outputs": [
    {
     "data": {
      "text/html": [
       "<table border=\"1\" class=\"dataframe\">\n",
       "    <thead>\n",
       "        <tr>\n",
       "            <th>Start Station</th> <th>count</th>\n",
       "        </tr>\n",
       "    </thead>\n",
       "    <tbody>\n",
       "        <tr>\n",
       "            <td>San Francisco Caltrain (Townsend at 4th)     </td> <td>25858</td>\n",
       "        </tr>\n",
       "        <tr>\n",
       "            <td>San Francisco Caltrain 2 (330 Townsend)      </td> <td>21523</td>\n",
       "        </tr>\n",
       "        <tr>\n",
       "            <td>Harry Bridges Plaza (Ferry Building)         </td> <td>15543</td>\n",
       "        </tr>\n",
       "        <tr>\n",
       "            <td>Temporary Transbay Terminal (Howard at Beale)</td> <td>14298</td>\n",
       "        </tr>\n",
       "        <tr>\n",
       "            <td>2nd at Townsend                              </td> <td>13674</td>\n",
       "        </tr>\n",
       "        <tr>\n",
       "            <td>Townsend at 7th                              </td> <td>13579</td>\n",
       "        </tr>\n",
       "        <tr>\n",
       "            <td>Steuart at Market                            </td> <td>13215</td>\n",
       "        </tr>\n",
       "        <tr>\n",
       "            <td>Embarcadero at Sansome                       </td> <td>12842</td>\n",
       "        </tr>\n",
       "        <tr>\n",
       "            <td>Market at 10th                               </td> <td>11523</td>\n",
       "        </tr>\n",
       "        <tr>\n",
       "            <td>Market at Sansome                            </td> <td>11023</td>\n",
       "        </tr>\n",
       "    </tbody>\n",
       "</table>\n",
       "<p>... (60 rows omitted)</p>"
      ],
      "text/plain": [
       "Start Station                                 | count\n",
       "San Francisco Caltrain (Townsend at 4th)      | 25858\n",
       "San Francisco Caltrain 2 (330 Townsend)       | 21523\n",
       "Harry Bridges Plaza (Ferry Building)          | 15543\n",
       "Temporary Transbay Terminal (Howard at Beale) | 14298\n",
       "2nd at Townsend                               | 13674\n",
       "Townsend at 7th                               | 13579\n",
       "Steuart at Market                             | 13215\n",
       "Embarcadero at Sansome                        | 12842\n",
       "Market at 10th                                | 11523\n",
       "Market at Sansome                             | 11023\n",
       "... (60 rows omitted)"
      ]
     },
     "execution_count": 29,
     "metadata": {},
     "output_type": "execute_result"
    }
   ],
   "source": [
    "# Most common start station\n",
    "\n",
    "starts = commute.group('Start Station').sort('count', descending=True)\n",
    "starts"
   ]
  },
  {
   "cell_type": "code",
   "execution_count": 30,
   "id": "f2240088",
   "metadata": {},
   "outputs": [
    {
     "data": {
      "text/html": [
       "<table border=\"1\" class=\"dataframe\">\n",
       "    <thead>\n",
       "        <tr>\n",
       "            <th>End Station</th> <th>2nd at Folsom</th> <th>2nd at South Park</th> <th>2nd at Townsend</th> <th>5th at Howard</th> <th>Adobe on Almaden</th> <th>Arena Green / SAP Center</th> <th>Beale at Market</th> <th>Broadway St at Battery St</th> <th>California Ave Caltrain Station</th> <th>Castro Street and El Camino Real</th> <th>Civic Center BART (7th at Market)</th> <th>Clay at Battery</th> <th>Commercial at Montgomery</th> <th>Cowper at University</th> <th>Davis at Jackson</th> <th>Embarcadero at Bryant</th> <th>Embarcadero at Folsom</th> <th>Embarcadero at Sansome</th> <th>Embarcadero at Vallejo</th> <th>Evelyn Park and Ride</th> <th>Franklin at Maple</th> <th>Golden Gate at Polk</th> <th>Grant Avenue at Columbus Avenue</th> <th>Harry Bridges Plaza (Ferry Building)</th> <th>Howard at 2nd</th> <th>Japantown</th> <th>MLK Library</th> <th>Market at 10th</th> <th>Market at 4th</th> <th>Market at Sansome</th> <th>Mechanics Plaza (Market at Battery)</th> <th>Mezes Park</th> <th>Mountain View Caltrain Station</th> <th>Mountain View City Hall</th> <th>Palo Alto Caltrain Station</th> <th>Park at Olive</th> <th>Paseo de San Antonio</th> <th>Post at Kearny</th> <th>Powell Street BART</th> <th>Powell at Post (Union Square)</th> <th>Redwood City Caltrain Station</th> <th>Redwood City Medical Center</th> <th>Redwood City Public Library</th> <th>Rengstorff Avenue / California Street</th> <th>Ryland Park</th> <th>SJSU - San Salvador at 9th</th> <th>SJSU 4th at San Carlos</th> <th>San Antonio Caltrain Station</th> <th>San Antonio Shopping Center</th> <th>San Francisco Caltrain (Townsend at 4th)</th> <th>San Francisco Caltrain 2 (330 Townsend)</th> <th>San Francisco City Hall</th> <th>San Jose City Hall</th> <th>San Jose Civic Center</th> <th>San Jose Diridon Caltrain Station</th> <th>San Mateo County Center</th> <th>San Pedro Square</th> <th>San Salvador at 1st</th> <th>Santa Clara County Civic Center</th> <th>Santa Clara at Almaden</th> <th>South Van Ness at Market</th> <th>Spear at Folsom</th> <th>St James Park</th> <th>Stanford in Redwood City</th> <th>Steuart at Market</th> <th>Temporary Transbay Terminal (Howard at Beale)</th> <th>Townsend at 7th</th> <th>University and Emerson</th> <th>Washington at Kearny</th> <th>Yerba Buena Center of the Arts (3rd @ Howard)</th>\n",
       "        </tr>\n",
       "    </thead>\n",
       "    <tbody>\n",
       "        <tr>\n",
       "            <td>2nd at Folsom                   </td> <td>54           </td> <td>190              </td> <td>554            </td> <td>107          </td> <td>0               </td> <td>0                       </td> <td>40             </td> <td>21                       </td> <td>0                              </td> <td>0                               </td> <td>44                               </td> <td>78             </td> <td>54                      </td> <td>0                   </td> <td>9               </td> <td>77                   </td> <td>32                   </td> <td>41                    </td> <td>14                    </td> <td>0                   </td> <td>0                </td> <td>11                 </td> <td>30                             </td> <td>416                                 </td> <td>53           </td> <td>0        </td> <td>0          </td> <td>169           </td> <td>114          </td> <td>302              </td> <td>33                                 </td> <td>0         </td> <td>0                             </td> <td>0                      </td> <td>0                         </td> <td>0            </td> <td>0                   </td> <td>60            </td> <td>121               </td> <td>88                           </td> <td>0                            </td> <td>0                          </td> <td>0                          </td> <td>0                                    </td> <td>0          </td> <td>0                         </td> <td>0                     </td> <td>0                           </td> <td>0                          </td> <td>694                                     </td> <td>445                                    </td> <td>21                     </td> <td>0                 </td> <td>0                    </td> <td>0                                </td> <td>0                      </td> <td>0               </td> <td>0                  </td> <td>0                              </td> <td>0                     </td> <td>38                      </td> <td>57             </td> <td>0            </td> <td>0                       </td> <td>39               </td> <td>237                                          </td> <td>342            </td> <td>0                     </td> <td>17                  </td> <td>31                                           </td>\n",
       "        </tr>\n",
       "        <tr>\n",
       "            <td>2nd at South Park               </td> <td>295          </td> <td>164              </td> <td>71             </td> <td>180          </td> <td>0               </td> <td>0                       </td> <td>208            </td> <td>85                       </td> <td>0                              </td> <td>0                               </td> <td>112                              </td> <td>87             </td> <td>160                     </td> <td>0                   </td> <td>37              </td> <td>56                   </td> <td>178                  </td> <td>83                    </td> <td>116                   </td> <td>0                   </td> <td>0                </td> <td>57                 </td> <td>73                             </td> <td>574                                 </td> <td>500          </td> <td>0        </td> <td>0          </td> <td>139           </td> <td>199          </td> <td>1633             </td> <td>119                                </td> <td>0         </td> <td>0                             </td> <td>0                      </td> <td>0                         </td> <td>0            </td> <td>0                   </td> <td>299           </td> <td>84                </td> <td>113                          </td> <td>0                            </td> <td>0                          </td> <td>0                          </td> <td>0                                    </td> <td>0          </td> <td>0                         </td> <td>0                     </td> <td>0                           </td> <td>0                          </td> <td>559                                     </td> <td>480                                    </td> <td>48                     </td> <td>0                 </td> <td>0                    </td> <td>0                                </td> <td>0                      </td> <td>0               </td> <td>0                  </td> <td>0                              </td> <td>0                     </td> <td>66                      </td> <td>152            </td> <td>0            </td> <td>0                       </td> <td>374              </td> <td>429                                          </td> <td>143            </td> <td>0                     </td> <td>63                  </td> <td>209                                          </td>\n",
       "        </tr>\n",
       "        <tr>\n",
       "            <td>2nd at Townsend                 </td> <td>437          </td> <td>151              </td> <td>185            </td> <td>92           </td> <td>0               </td> <td>0                       </td> <td>608            </td> <td>350                      </td> <td>0                              </td> <td>0                               </td> <td>80                               </td> <td>329            </td> <td>168                     </td> <td>0                   </td> <td>386             </td> <td>361                  </td> <td>658                  </td> <td>506                   </td> <td>254                   </td> <td>0                   </td> <td>0                </td> <td>27                 </td> <td>315                            </td> <td>2607                                </td> <td>295          </td> <td>0        </td> <td>0          </td> <td>110           </td> <td>225          </td> <td>845              </td> <td>177                                </td> <td>0         </td> <td>0                             </td> <td>0                      </td> <td>0                         </td> <td>0            </td> <td>0                   </td> <td>120           </td> <td>100               </td> <td>141                          </td> <td>0                            </td> <td>0                          </td> <td>0                          </td> <td>0                                    </td> <td>0          </td> <td>0                         </td> <td>0                     </td> <td>0                           </td> <td>0                          </td> <td>905                                     </td> <td>299                                    </td> <td>14                     </td> <td>0                 </td> <td>0                    </td> <td>0                                </td> <td>0                      </td> <td>0               </td> <td>0                  </td> <td>0                              </td> <td>0                     </td> <td>72                      </td> <td>508            </td> <td>0            </td> <td>0                       </td> <td>2349             </td> <td>784                                          </td> <td>417            </td> <td>0                     </td> <td>57                  </td> <td>166                                          </td>\n",
       "        </tr>\n",
       "        <tr>\n",
       "            <td>5th at Howard                   </td> <td>113          </td> <td>177              </td> <td>148            </td> <td>83           </td> <td>0               </td> <td>0                       </td> <td>59             </td> <td>130                      </td> <td>0                              </td> <td>0                               </td> <td>203                              </td> <td>76             </td> <td>129                     </td> <td>0                   </td> <td>30              </td> <td>57                   </td> <td>49                   </td> <td>166                   </td> <td>54                    </td> <td>0                   </td> <td>0                </td> <td>85                 </td> <td>78                             </td> <td>371                                 </td> <td>478          </td> <td>0        </td> <td>0          </td> <td>303           </td> <td>158          </td> <td>168              </td> <td>90                                 </td> <td>0         </td> <td>0                             </td> <td>0                      </td> <td>0                         </td> <td>0            </td> <td>0                   </td> <td>93            </td> <td>183               </td> <td>169                          </td> <td>0                            </td> <td>0                          </td> <td>0                          </td> <td>0                                    </td> <td>0          </td> <td>0                         </td> <td>0                     </td> <td>0                           </td> <td>0                          </td> <td>690                                     </td> <td>1859                                   </td> <td>48                     </td> <td>0                 </td> <td>0                    </td> <td>0                                </td> <td>0                      </td> <td>0               </td> <td>0                  </td> <td>0                              </td> <td>0                     </td> <td>116                     </td> <td>102            </td> <td>0            </td> <td>0                       </td> <td>182              </td> <td>750                                          </td> <td>200            </td> <td>0                     </td> <td>43                  </td> <td>267                                          </td>\n",
       "        </tr>\n",
       "        <tr>\n",
       "            <td>Adobe on Almaden                </td> <td>0            </td> <td>0                </td> <td>0              </td> <td>0            </td> <td>11              </td> <td>4                       </td> <td>0              </td> <td>0                        </td> <td>0                              </td> <td>0                               </td> <td>0                                </td> <td>0              </td> <td>0                       </td> <td>0                   </td> <td>0               </td> <td>0                    </td> <td>0                    </td> <td>0                     </td> <td>0                     </td> <td>0                   </td> <td>0                </td> <td>0                  </td> <td>0                              </td> <td>0                                   </td> <td>0            </td> <td>17       </td> <td>7          </td> <td>0             </td> <td>0            </td> <td>0                </td> <td>0                                  </td> <td>0         </td> <td>0                             </td> <td>0                      </td> <td>0                         </td> <td>0            </td> <td>25                  </td> <td>0             </td> <td>0                 </td> <td>0                            </td> <td>0                            </td> <td>0                          </td> <td>0                          </td> <td>0                                    </td> <td>7          </td> <td>7                         </td> <td>16                    </td> <td>0                           </td> <td>0                          </td> <td>0                                       </td> <td>0                                      </td> <td>0                      </td> <td>19                </td> <td>23                   </td> <td>265                              </td> <td>0                      </td> <td>20              </td> <td>4                  </td> <td>5                              </td> <td>10                    </td> <td>0                       </td> <td>0              </td> <td>14           </td> <td>0                       </td> <td>0                </td> <td>0                                            </td> <td>0              </td> <td>0                     </td> <td>0                   </td> <td>0                                            </td>\n",
       "        </tr>\n",
       "        <tr>\n",
       "            <td>Arena Green / SAP Center        </td> <td>0            </td> <td>0                </td> <td>0              </td> <td>0            </td> <td>7               </td> <td>64                      </td> <td>0              </td> <td>0                        </td> <td>0                              </td> <td>0                               </td> <td>0                                </td> <td>0              </td> <td>0                       </td> <td>0                   </td> <td>0               </td> <td>0                    </td> <td>0                    </td> <td>0                     </td> <td>0                     </td> <td>0                   </td> <td>0                </td> <td>0                  </td> <td>0                              </td> <td>0                                   </td> <td>0            </td> <td>16       </td> <td>5          </td> <td>0             </td> <td>0            </td> <td>0                </td> <td>0                                  </td> <td>0         </td> <td>0                             </td> <td>0                      </td> <td>0                         </td> <td>0            </td> <td>21                  </td> <td>0             </td> <td>0                 </td> <td>0                            </td> <td>0                            </td> <td>0                          </td> <td>0                          </td> <td>0                                    </td> <td>24         </td> <td>3                         </td> <td>7                     </td> <td>0                           </td> <td>0                          </td> <td>0                                       </td> <td>0                                      </td> <td>0                      </td> <td>6                 </td> <td>20                   </td> <td>7                                </td> <td>0                      </td> <td>56              </td> <td>12                 </td> <td>38                             </td> <td>259                   </td> <td>0                       </td> <td>0              </td> <td>13           </td> <td>0                       </td> <td>0                </td> <td>0                                            </td> <td>0              </td> <td>0                     </td> <td>0                   </td> <td>0                                            </td>\n",
       "        </tr>\n",
       "        <tr>\n",
       "            <td>Beale at Market                 </td> <td>127          </td> <td>79               </td> <td>183            </td> <td>59           </td> <td>0               </td> <td>0                       </td> <td>59             </td> <td>661                      </td> <td>0                              </td> <td>0                               </td> <td>201                              </td> <td>75             </td> <td>101                     </td> <td>0                   </td> <td>247             </td> <td>178                  </td> <td>38                   </td> <td>590                   </td> <td>165                   </td> <td>0                   </td> <td>0                </td> <td>54                 </td> <td>435                            </td> <td>57                                  </td> <td>72           </td> <td>0        </td> <td>0          </td> <td>286           </td> <td>236          </td> <td>163              </td> <td>26                                 </td> <td>0         </td> <td>0                             </td> <td>0                      </td> <td>0                         </td> <td>0            </td> <td>0                   </td> <td>49            </td> <td>227               </td> <td>179                          </td> <td>0                            </td> <td>0                          </td> <td>0                          </td> <td>0                                    </td> <td>0          </td> <td>0                         </td> <td>0                     </td> <td>0                           </td> <td>0                          </td> <td>640                                     </td> <td>269                                    </td> <td>25                     </td> <td>0                 </td> <td>0                    </td> <td>0                                </td> <td>0                      </td> <td>0               </td> <td>0                  </td> <td>0                              </td> <td>0                     </td> <td>243                     </td> <td>128            </td> <td>0            </td> <td>0                       </td> <td>16               </td> <td>167                                          </td> <td>35             </td> <td>0                     </td> <td>64                  </td> <td>45                                           </td>\n",
       "        </tr>\n",
       "        <tr>\n",
       "            <td>Broadway St at Battery St       </td> <td>67           </td> <td>89               </td> <td>279            </td> <td>119          </td> <td>0               </td> <td>0                       </td> <td>1022           </td> <td>110                      </td> <td>0                              </td> <td>0                               </td> <td>62                               </td> <td>283            </td> <td>226                     </td> <td>0                   </td> <td>191             </td> <td>198                  </td> <td>79                   </td> <td>231                   </td> <td>35                    </td> <td>0                   </td> <td>0                </td> <td>5                  </td> <td>70                             </td> <td>168                                 </td> <td>49           </td> <td>0        </td> <td>0          </td> <td>32            </td> <td>97           </td> <td>341              </td> <td>214                                </td> <td>0         </td> <td>0                             </td> <td>0                      </td> <td>0                         </td> <td>0            </td> <td>0                   </td> <td>169           </td> <td>71                </td> <td>218                          </td> <td>0                            </td> <td>0                          </td> <td>0                          </td> <td>0                                    </td> <td>0          </td> <td>0                         </td> <td>0                     </td> <td>0                           </td> <td>0                          </td> <td>685                                     </td> <td>438                                    </td> <td>7                      </td> <td>0                 </td> <td>0                    </td> <td>0                                </td> <td>0                      </td> <td>0               </td> <td>0                  </td> <td>0                              </td> <td>0                     </td> <td>18                      </td> <td>106            </td> <td>0            </td> <td>0                       </td> <td>344              </td> <td>748                                          </td> <td>50             </td> <td>0                     </td> <td>79                  </td> <td>47                                           </td>\n",
       "        </tr>\n",
       "        <tr>\n",
       "            <td>California Ave Caltrain Station </td> <td>0            </td> <td>0                </td> <td>0              </td> <td>0            </td> <td>0               </td> <td>0                       </td> <td>0              </td> <td>0                        </td> <td>38                             </td> <td>1                               </td> <td>0                                </td> <td>0              </td> <td>0                       </td> <td>29                  </td> <td>0               </td> <td>0                    </td> <td>0                    </td> <td>0                     </td> <td>0                     </td> <td>0                   </td> <td>0                </td> <td>0                  </td> <td>0                              </td> <td>0                                   </td> <td>0            </td> <td>0        </td> <td>0          </td> <td>0             </td> <td>0            </td> <td>0                </td> <td>0                                  </td> <td>0         </td> <td>1                             </td> <td>0                      </td> <td>192                       </td> <td>40           </td> <td>0                   </td> <td>0             </td> <td>0                 </td> <td>0                            </td> <td>0                            </td> <td>0                          </td> <td>0                          </td> <td>6                                    </td> <td>0          </td> <td>0                         </td> <td>0                     </td> <td>17                          </td> <td>10                         </td> <td>0                                       </td> <td>0                                      </td> <td>0                      </td> <td>0                 </td> <td>0                    </td> <td>0                                </td> <td>0                      </td> <td>0               </td> <td>0                  </td> <td>0                              </td> <td>0                     </td> <td>0                       </td> <td>0              </td> <td>0            </td> <td>0                       </td> <td>0                </td> <td>0                                            </td> <td>0              </td> <td>57                    </td> <td>0                   </td> <td>0                                            </td>\n",
       "        </tr>\n",
       "        <tr>\n",
       "            <td>Castro Street and El Camino Real</td> <td>0            </td> <td>0                </td> <td>0              </td> <td>0            </td> <td>0               </td> <td>0                       </td> <td>0              </td> <td>0                        </td> <td>0                              </td> <td>30                              </td> <td>0                                </td> <td>0              </td> <td>0                       </td> <td>0                   </td> <td>0               </td> <td>0                    </td> <td>0                    </td> <td>0                     </td> <td>0                     </td> <td>14                  </td> <td>0                </td> <td>0                  </td> <td>0                              </td> <td>0                                   </td> <td>0            </td> <td>0        </td> <td>0          </td> <td>0             </td> <td>0            </td> <td>0                </td> <td>0                                  </td> <td>0         </td> <td>931                           </td> <td>34                     </td> <td>0                         </td> <td>0            </td> <td>0                   </td> <td>0             </td> <td>0                 </td> <td>0                            </td> <td>0                            </td> <td>0                          </td> <td>0                          </td> <td>7                                    </td> <td>0          </td> <td>0                         </td> <td>0                     </td> <td>4                           </td> <td>12                         </td> <td>0                                       </td> <td>0                                      </td> <td>0                      </td> <td>0                 </td> <td>0                    </td> <td>0                                </td> <td>0                      </td> <td>0               </td> <td>0                  </td> <td>0                              </td> <td>0                     </td> <td>0                       </td> <td>0              </td> <td>0            </td> <td>0                       </td> <td>0                </td> <td>0                                            </td> <td>0              </td> <td>0                     </td> <td>0                   </td> <td>0                                            </td>\n",
       "        </tr>\n",
       "    </tbody>\n",
       "</table>\n",
       "<p>... (60 rows omitted)</p>"
      ],
      "text/plain": [
       "End Station                      | 2nd at Folsom | 2nd at South Park | 2nd at Townsend | 5th at Howard | Adobe on Almaden | Arena Green / SAP Center | Beale at Market | Broadway St at Battery St | California Ave Caltrain Station | Castro Street and El Camino Real | Civic Center BART (7th at Market) | Clay at Battery | Commercial at Montgomery | Cowper at University | Davis at Jackson | Embarcadero at Bryant | Embarcadero at Folsom | Embarcadero at Sansome | Embarcadero at Vallejo | Evelyn Park and Ride | Franklin at Maple | Golden Gate at Polk | Grant Avenue at Columbus Avenue | Harry Bridges Plaza (Ferry Building) | Howard at 2nd | Japantown | MLK Library | Market at 10th | Market at 4th | Market at Sansome | Mechanics Plaza (Market at Battery) | Mezes Park | Mountain View Caltrain Station | Mountain View City Hall | Palo Alto Caltrain Station | Park at Olive | Paseo de San Antonio | Post at Kearny | Powell Street BART | Powell at Post (Union Square) | Redwood City Caltrain Station | Redwood City Medical Center | Redwood City Public Library | Rengstorff Avenue / California Street | Ryland Park | SJSU - San Salvador at 9th | SJSU 4th at San Carlos | San Antonio Caltrain Station | San Antonio Shopping Center | San Francisco Caltrain (Townsend at 4th) | San Francisco Caltrain 2 (330 Townsend) | San Francisco City Hall | San Jose City Hall | San Jose Civic Center | San Jose Diridon Caltrain Station | San Mateo County Center | San Pedro Square | San Salvador at 1st | Santa Clara County Civic Center | Santa Clara at Almaden | South Van Ness at Market | Spear at Folsom | St James Park | Stanford in Redwood City | Steuart at Market | Temporary Transbay Terminal (Howard at Beale) | Townsend at 7th | University and Emerson | Washington at Kearny | Yerba Buena Center of the Arts (3rd @ Howard)\n",
       "2nd at Folsom                    | 54            | 190               | 554             | 107           | 0                | 0                        | 40              | 21                        | 0                               | 0                                | 44                                | 78              | 54                       | 0                    | 9                | 77                    | 32                    | 41                     | 14                     | 0                    | 0                 | 11                  | 30                              | 416                                  | 53            | 0         | 0           | 169            | 114           | 302               | 33                                  | 0          | 0                              | 0                       | 0                          | 0             | 0                    | 60             | 121                | 88                            | 0                             | 0                           | 0                           | 0                                     | 0           | 0                          | 0                      | 0                            | 0                           | 694                                      | 445                                     | 21                      | 0                  | 0                     | 0                                 | 0                       | 0                | 0                   | 0                               | 0                      | 38                       | 57              | 0             | 0                        | 39                | 237                                           | 342             | 0                      | 17                   | 31\n",
       "2nd at South Park                | 295           | 164               | 71              | 180           | 0                | 0                        | 208             | 85                        | 0                               | 0                                | 112                               | 87              | 160                      | 0                    | 37               | 56                    | 178                   | 83                     | 116                    | 0                    | 0                 | 57                  | 73                              | 574                                  | 500           | 0         | 0           | 139            | 199           | 1633              | 119                                 | 0          | 0                              | 0                       | 0                          | 0             | 0                    | 299            | 84                 | 113                           | 0                             | 0                           | 0                           | 0                                     | 0           | 0                          | 0                      | 0                            | 0                           | 559                                      | 480                                     | 48                      | 0                  | 0                     | 0                                 | 0                       | 0                | 0                   | 0                               | 0                      | 66                       | 152             | 0             | 0                        | 374               | 429                                           | 143             | 0                      | 63                   | 209\n",
       "2nd at Townsend                  | 437           | 151               | 185             | 92            | 0                | 0                        | 608             | 350                       | 0                               | 0                                | 80                                | 329             | 168                      | 0                    | 386              | 361                   | 658                   | 506                    | 254                    | 0                    | 0                 | 27                  | 315                             | 2607                                 | 295           | 0         | 0           | 110            | 225           | 845               | 177                                 | 0          | 0                              | 0                       | 0                          | 0             | 0                    | 120            | 100                | 141                           | 0                             | 0                           | 0                           | 0                                     | 0           | 0                          | 0                      | 0                            | 0                           | 905                                      | 299                                     | 14                      | 0                  | 0                     | 0                                 | 0                       | 0                | 0                   | 0                               | 0                      | 72                       | 508             | 0             | 0                        | 2349              | 784                                           | 417             | 0                      | 57                   | 166\n",
       "5th at Howard                    | 113           | 177               | 148             | 83            | 0                | 0                        | 59              | 130                       | 0                               | 0                                | 203                               | 76              | 129                      | 0                    | 30               | 57                    | 49                    | 166                    | 54                     | 0                    | 0                 | 85                  | 78                              | 371                                  | 478           | 0         | 0           | 303            | 158           | 168               | 90                                  | 0          | 0                              | 0                       | 0                          | 0             | 0                    | 93             | 183                | 169                           | 0                             | 0                           | 0                           | 0                                     | 0           | 0                          | 0                      | 0                            | 0                           | 690                                      | 1859                                    | 48                      | 0                  | 0                     | 0                                 | 0                       | 0                | 0                   | 0                               | 0                      | 116                      | 102             | 0             | 0                        | 182               | 750                                           | 200             | 0                      | 43                   | 267\n",
       "Adobe on Almaden                 | 0             | 0                 | 0               | 0             | 11               | 4                        | 0               | 0                         | 0                               | 0                                | 0                                 | 0               | 0                        | 0                    | 0                | 0                     | 0                     | 0                      | 0                      | 0                    | 0                 | 0                   | 0                               | 0                                    | 0             | 17        | 7           | 0              | 0             | 0                 | 0                                   | 0          | 0                              | 0                       | 0                          | 0             | 25                   | 0              | 0                  | 0                             | 0                             | 0                           | 0                           | 0                                     | 7           | 7                          | 16                     | 0                            | 0                           | 0                                        | 0                                       | 0                       | 19                 | 23                    | 265                               | 0                       | 20               | 4                   | 5                               | 10                     | 0                        | 0               | 14            | 0                        | 0                 | 0                                             | 0               | 0                      | 0                    | 0\n",
       "Arena Green / SAP Center         | 0             | 0                 | 0               | 0             | 7                | 64                       | 0               | 0                         | 0                               | 0                                | 0                                 | 0               | 0                        | 0                    | 0                | 0                     | 0                     | 0                      | 0                      | 0                    | 0                 | 0                   | 0                               | 0                                    | 0             | 16        | 5           | 0              | 0             | 0                 | 0                                   | 0          | 0                              | 0                       | 0                          | 0             | 21                   | 0              | 0                  | 0                             | 0                             | 0                           | 0                           | 0                                     | 24          | 3                          | 7                      | 0                            | 0                           | 0                                        | 0                                       | 0                       | 6                  | 20                    | 7                                 | 0                       | 56               | 12                  | 38                              | 259                    | 0                        | 0               | 13            | 0                        | 0                 | 0                                             | 0               | 0                      | 0                    | 0\n",
       "Beale at Market                  | 127           | 79                | 183             | 59            | 0                | 0                        | 59              | 661                       | 0                               | 0                                | 201                               | 75              | 101                      | 0                    | 247              | 178                   | 38                    | 590                    | 165                    | 0                    | 0                 | 54                  | 435                             | 57                                   | 72            | 0         | 0           | 286            | 236           | 163               | 26                                  | 0          | 0                              | 0                       | 0                          | 0             | 0                    | 49             | 227                | 179                           | 0                             | 0                           | 0                           | 0                                     | 0           | 0                          | 0                      | 0                            | 0                           | 640                                      | 269                                     | 25                      | 0                  | 0                     | 0                                 | 0                       | 0                | 0                   | 0                               | 0                      | 243                      | 128             | 0             | 0                        | 16                | 167                                           | 35              | 0                      | 64                   | 45\n",
       "Broadway St at Battery St        | 67            | 89                | 279             | 119           | 0                | 0                        | 1022            | 110                       | 0                               | 0                                | 62                                | 283             | 226                      | 0                    | 191              | 198                   | 79                    | 231                    | 35                     | 0                    | 0                 | 5                   | 70                              | 168                                  | 49            | 0         | 0           | 32             | 97            | 341               | 214                                 | 0          | 0                              | 0                       | 0                          | 0             | 0                    | 169            | 71                 | 218                           | 0                             | 0                           | 0                           | 0                                     | 0           | 0                          | 0                      | 0                            | 0                           | 685                                      | 438                                     | 7                       | 0                  | 0                     | 0                                 | 0                       | 0                | 0                   | 0                               | 0                      | 18                       | 106             | 0             | 0                        | 344               | 748                                           | 50              | 0                      | 79                   | 47\n",
       "California Ave Caltrain Station  | 0             | 0                 | 0               | 0             | 0                | 0                        | 0               | 0                         | 38                              | 1                                | 0                                 | 0               | 0                        | 29                   | 0                | 0                     | 0                     | 0                      | 0                      | 0                    | 0                 | 0                   | 0                               | 0                                    | 0             | 0         | 0           | 0              | 0             | 0                 | 0                                   | 0          | 1                              | 0                       | 192                        | 40            | 0                    | 0              | 0                  | 0                             | 0                             | 0                           | 0                           | 6                                     | 0           | 0                          | 0                      | 17                           | 10                          | 0                                        | 0                                       | 0                       | 0                  | 0                     | 0                                 | 0                       | 0                | 0                   | 0                               | 0                      | 0                        | 0               | 0             | 0                        | 0                 | 0                                             | 0               | 57                     | 0                    | 0\n",
       "Castro Street and El Camino Real | 0             | 0                 | 0               | 0             | 0                | 0                        | 0               | 0                         | 0                               | 30                               | 0                                 | 0               | 0                        | 0                    | 0                | 0                     | 0                     | 0                      | 0                      | 14                   | 0                 | 0                   | 0                               | 0                                    | 0             | 0         | 0           | 0              | 0             | 0                 | 0                                   | 0          | 931                            | 34                      | 0                          | 0             | 0                    | 0              | 0                  | 0                             | 0                             | 0                           | 0                           | 7                                     | 0           | 0                          | 0                      | 4                            | 12                          | 0                                        | 0                                       | 0                       | 0                  | 0                     | 0                                 | 0                       | 0                | 0                   | 0                               | 0                      | 0                        | 0               | 0             | 0                        | 0                 | 0                                             | 0               | 0                      | 0                    | 0\n",
       "... (60 rows omitted)"
      ]
     },
     "execution_count": 30,
     "metadata": {},
     "output_type": "execute_result"
    }
   ],
   "source": [
    "# Numbers of trips between stations\n",
    "\n",
    "commute.pivot('Start Station', 'End Station')"
   ]
  },
  {
   "cell_type": "code",
   "execution_count": 32,
   "id": "54e72491",
   "metadata": {},
   "outputs": [
    {
     "data": {
      "text/html": [
       "<table border=\"1\" class=\"dataframe\">\n",
       "    <thead>\n",
       "        <tr>\n",
       "            <th>End Station</th> <th>2nd at Folsom</th> <th>2nd at South Park</th> <th>2nd at Townsend</th> <th>5th at Howard</th> <th>Adobe on Almaden</th> <th>Arena Green / SAP Center</th> <th>Beale at Market</th> <th>Broadway St at Battery St</th> <th>California Ave Caltrain Station</th> <th>Castro Street and El Camino Real</th> <th>Civic Center BART (7th at Market)</th> <th>Clay at Battery</th> <th>Commercial at Montgomery</th> <th>Cowper at University</th> <th>Davis at Jackson</th> <th>Embarcadero at Bryant</th> <th>Embarcadero at Folsom</th> <th>Embarcadero at Sansome</th> <th>Embarcadero at Vallejo</th> <th>Evelyn Park and Ride</th> <th>Franklin at Maple</th> <th>Golden Gate at Polk</th> <th>Grant Avenue at Columbus Avenue</th> <th>Harry Bridges Plaza (Ferry Building)</th> <th>Howard at 2nd</th> <th>Japantown</th> <th>MLK Library</th> <th>Market at 10th</th> <th>Market at 4th</th> <th>Market at Sansome</th> <th>Mechanics Plaza (Market at Battery)</th> <th>Mezes Park</th> <th>Mountain View Caltrain Station</th> <th>Mountain View City Hall</th> <th>Palo Alto Caltrain Station</th> <th>Park at Olive</th> <th>Paseo de San Antonio</th> <th>Post at Kearny</th> <th>Powell Street BART</th> <th>Powell at Post (Union Square)</th> <th>Redwood City Caltrain Station</th> <th>Redwood City Medical Center</th> <th>Redwood City Public Library</th> <th>Rengstorff Avenue / California Street</th> <th>Ryland Park</th> <th>SJSU - San Salvador at 9th</th> <th>SJSU 4th at San Carlos</th> <th>San Antonio Caltrain Station</th> <th>San Antonio Shopping Center</th> <th>San Francisco Caltrain (Townsend at 4th)</th> <th>San Francisco Caltrain 2 (330 Townsend)</th> <th>San Francisco City Hall</th> <th>San Jose City Hall</th> <th>San Jose Civic Center</th> <th>San Jose Diridon Caltrain Station</th> <th>San Mateo County Center</th> <th>San Pedro Square</th> <th>San Salvador at 1st</th> <th>Santa Clara County Civic Center</th> <th>Santa Clara at Almaden</th> <th>South Van Ness at Market</th> <th>Spear at Folsom</th> <th>St James Park</th> <th>Stanford in Redwood City</th> <th>Steuart at Market</th> <th>Temporary Transbay Terminal (Howard at Beale)</th> <th>Townsend at 7th</th> <th>University and Emerson</th> <th>Washington at Kearny</th> <th>Yerba Buena Center of the Arts (3rd @ Howard)</th>\n",
       "        </tr>\n",
       "    </thead>\n",
       "    <tbody>\n",
       "        <tr>\n",
       "            <td>2nd at Folsom                   </td> <td>702.13       </td> <td>253.874          </td> <td>309.087        </td> <td>418.065      </td> <td>0               </td> <td>0                       </td> <td>424.15         </td> <td>740.714                  </td> <td>0                              </td> <td>0                               </td> <td>668.886                          </td> <td>516.897        </td> <td>495.519                 </td> <td>0                   </td> <td>862.889         </td> <td>388.117              </td> <td>493.469              </td> <td>1114.71               </td> <td>818.429               </td> <td>0                   </td> <td>0                </td> <td>825                </td> <td>662.933                        </td> <td>500.44                              </td> <td>254.245      </td> <td>0        </td> <td>0          </td> <td>728.627       </td> <td>435.947      </td> <td>291.076          </td> <td>378.576                            </td> <td>0         </td> <td>0                             </td> <td>0                      </td> <td>0                         </td> <td>0            </td> <td>0                   </td> <td>380.083       </td> <td>541.926           </td> <td>518.011                      </td> <td>0                            </td> <td>0                          </td> <td>0                          </td> <td>0                                    </td> <td>0          </td> <td>0                         </td> <td>0                     </td> <td>0                           </td> <td>0                          </td> <td>469.137                                 </td> <td>484.382                                </td> <td>1037                   </td> <td>0                 </td> <td>0                    </td> <td>0                                </td> <td>0                      </td> <td>0               </td> <td>0                  </td> <td>0                              </td> <td>0                     </td> <td>836.684                 </td> <td>365.579        </td> <td>0            </td> <td>0                       </td> <td>575.923          </td> <td>250.553                                      </td> <td>646.038        </td> <td>0                     </td> <td>617                 </td> <td>386.032                                      </td>\n",
       "        </tr>\n",
       "        <tr>\n",
       "            <td>2nd at South Park               </td> <td>196.085      </td> <td>618.116          </td> <td>237.366        </td> <td>507.394      </td> <td>0               </td> <td>0                       </td> <td>450.279        </td> <td>715.247                  </td> <td>0                              </td> <td>0                               </td> <td>900.679                          </td> <td>589.368        </td> <td>612.456                 </td> <td>0                   </td> <td>640.081         </td> <td>317.625              </td> <td>404.27               </td> <td>940.253               </td> <td>648.948               </td> <td>0                   </td> <td>0                </td> <td>732.632            </td> <td>815.671                        </td> <td>501.608                             </td> <td>230.486      </td> <td>0        </td> <td>0          </td> <td>834.396       </td> <td>513.307      </td> <td>323.982          </td> <td>423.605                            </td> <td>0         </td> <td>0                             </td> <td>0                      </td> <td>0                         </td> <td>0            </td> <td>0                   </td> <td>328.813       </td> <td>616.429           </td> <td>567.77                       </td> <td>0                            </td> <td>0                          </td> <td>0                          </td> <td>0                                    </td> <td>0          </td> <td>0                         </td> <td>0                     </td> <td>0                           </td> <td>0                          </td> <td>281.635                                 </td> <td>349.079                                </td> <td>780.958                </td> <td>0                 </td> <td>0                    </td> <td>0                                </td> <td>0                      </td> <td>0               </td> <td>0                  </td> <td>0                              </td> <td>0                     </td> <td>831.879                 </td> <td>359.105        </td> <td>0            </td> <td>0                       </td> <td>490.479          </td> <td>356.287                                      </td> <td>473.056        </td> <td>0                     </td> <td>722.063             </td> <td>395.474                                      </td>\n",
       "        </tr>\n",
       "        <tr>\n",
       "            <td>2nd at Townsend                 </td> <td>293.874      </td> <td>281.344          </td> <td>787.314        </td> <td>655.196      </td> <td>0               </td> <td>0                       </td> <td>531.243        </td> <td>759.451                  </td> <td>0                              </td> <td>0                               </td> <td>846.888                          </td> <td>773.72         </td> <td>803.345                 </td> <td>0                   </td> <td>691.054         </td> <td>363.294              </td> <td>465.685              </td> <td>926.796               </td> <td>819.772               </td> <td>0                   </td> <td>0                </td> <td>1070.59            </td> <td>919.073                        </td> <td>609.987                             </td> <td>371.105      </td> <td>0        </td> <td>0          </td> <td>877.591       </td> <td>731.92       </td> <td>506.895          </td> <td>673.452                            </td> <td>0         </td> <td>0                             </td> <td>0                      </td> <td>0                         </td> <td>0            </td> <td>0                   </td> <td>666.625       </td> <td>865.7             </td> <td>776.333                      </td> <td>0                            </td> <td>0                          </td> <td>0                          </td> <td>0                                    </td> <td>0          </td> <td>0                         </td> <td>0                     </td> <td>0                           </td> <td>0                          </td> <td>262.334                                 </td> <td>310.047                                </td> <td>985.214                </td> <td>0                 </td> <td>0                    </td> <td>0                                </td> <td>0                      </td> <td>0               </td> <td>0                  </td> <td>0                              </td> <td>0                     </td> <td>1102.06                 </td> <td>404.522        </td> <td>0            </td> <td>0                       </td> <td>543.83           </td> <td>420.519                                      </td> <td>480.285        </td> <td>0                     </td> <td>1092.67             </td> <td>585.169                                      </td>\n",
       "        </tr>\n",
       "        <tr>\n",
       "            <td>5th at Howard                   </td> <td>381.274      </td> <td>573.729          </td> <td>613.514        </td> <td>718.096      </td> <td>0               </td> <td>0                       </td> <td>611.797        </td> <td>808.077                  </td> <td>0                              </td> <td>0                               </td> <td>379.35                           </td> <td>668.697        </td> <td>542.512                 </td> <td>0                   </td> <td>730.4           </td> <td>666.965              </td> <td>613.49               </td> <td>1056.59               </td> <td>952.167               </td> <td>0                   </td> <td>0                </td> <td>469.741            </td> <td>834.692                        </td> <td>676.55                              </td> <td>281.975      </td> <td>0        </td> <td>0          </td> <td>449.548       </td> <td>295.297      </td> <td>414.857          </td> <td>545.6                              </td> <td>0         </td> <td>0                             </td> <td>0                      </td> <td>0                         </td> <td>0            </td> <td>0                   </td> <td>410.043       </td> <td>255.956           </td> <td>357.799                      </td> <td>0                            </td> <td>0                          </td> <td>0                          </td> <td>0                                    </td> <td>0          </td> <td>0                         </td> <td>0                     </td> <td>0                           </td> <td>0                          </td> <td>434.022                                 </td> <td>386.263                                </td> <td>605.708                </td> <td>0                 </td> <td>0                    </td> <td>0                                </td> <td>0                      </td> <td>0               </td> <td>0                  </td> <td>0                              </td> <td>0                     </td> <td>553.362                 </td> <td>584.98         </td> <td>0            </td> <td>0                       </td> <td>662.308          </td> <td>406.225                                      </td> <td>546.84         </td> <td>0                     </td> <td>972.07              </td> <td>206.704                                      </td>\n",
       "        </tr>\n",
       "        <tr>\n",
       "            <td>Adobe on Almaden                </td> <td>0            </td> <td>0                </td> <td>0              </td> <td>0            </td> <td>462             </td> <td>583.5                   </td> <td>0              </td> <td>0                        </td> <td>0                              </td> <td>0                               </td> <td>0                                </td> <td>0              </td> <td>0                       </td> <td>0                   </td> <td>0               </td> <td>0                    </td> <td>0                    </td> <td>0                     </td> <td>0                     </td> <td>0                   </td> <td>0                </td> <td>0                  </td> <td>0                              </td> <td>0                                   </td> <td>0            </td> <td>942.176  </td> <td>616        </td> <td>0             </td> <td>0            </td> <td>0                </td> <td>0                                  </td> <td>0         </td> <td>0                             </td> <td>0                      </td> <td>0                         </td> <td>0            </td> <td>463.92              </td> <td>0             </td> <td>0                 </td> <td>0                            </td> <td>0                            </td> <td>0                          </td> <td>0                          </td> <td>0                                    </td> <td>639.857    </td> <td>858.571                   </td> <td>534.438               </td> <td>0                           </td> <td>0                          </td> <td>0                                       </td> <td>0                                      </td> <td>0                      </td> <td>546.316           </td> <td>399.435              </td> <td>292.702                          </td> <td>0                      </td> <td>360.4           </td> <td>684                </td> <td>1164.4                         </td> <td>251.9                 </td> <td>0                       </td> <td>0              </td> <td>516.857      </td> <td>0                       </td> <td>0                </td> <td>0                                            </td> <td>0              </td> <td>0                     </td> <td>0                   </td> <td>0                                            </td>\n",
       "        </tr>\n",
       "        <tr>\n",
       "            <td>Arena Green / SAP Center        </td> <td>0            </td> <td>0                </td> <td>0              </td> <td>0            </td> <td>540.286         </td> <td>948.844                 </td> <td>0              </td> <td>0                        </td> <td>0                              </td> <td>0                               </td> <td>0                                </td> <td>0              </td> <td>0                       </td> <td>0                   </td> <td>0               </td> <td>0                    </td> <td>0                    </td> <td>0                     </td> <td>0                     </td> <td>0                   </td> <td>0                </td> <td>0                  </td> <td>0                              </td> <td>0                                   </td> <td>0            </td> <td>955.312  </td> <td>952.6      </td> <td>0             </td> <td>0            </td> <td>0                </td> <td>0                                  </td> <td>0         </td> <td>0                             </td> <td>0                      </td> <td>0                         </td> <td>0            </td> <td>706.762             </td> <td>0             </td> <td>0                 </td> <td>0                            </td> <td>0                            </td> <td>0                          </td> <td>0                          </td> <td>0                                    </td> <td>684.917    </td> <td>902.333                   </td> <td>965                   </td> <td>0                           </td> <td>0                          </td> <td>0                                       </td> <td>0                                      </td> <td>0                      </td> <td>536.667           </td> <td>782.1                </td> <td>778                              </td> <td>0                      </td> <td>373.393         </td> <td>1127.92            </td> <td>1222.24                        </td> <td>219.985               </td> <td>0                       </td> <td>0              </td> <td>645          </td> <td>0                       </td> <td>0                </td> <td>0                                            </td> <td>0              </td> <td>0                     </td> <td>0                   </td> <td>0                                            </td>\n",
       "        </tr>\n",
       "        <tr>\n",
       "            <td>Beale at Market                 </td> <td>360.701      </td> <td>603.873          </td> <td>685.934        </td> <td>625          </td> <td>0               </td> <td>0                       </td> <td>720.932        </td> <td>282.033                  </td> <td>0                              </td> <td>0                               </td> <td>627.423                          </td> <td>273.973        </td> <td>303.168                 </td> <td>0                   </td> <td>232.777         </td> <td>441.483              </td> <td>300.5                </td> <td>498.2                 </td> <td>352.467               </td> <td>0                   </td> <td>0                </td> <td>697.074            </td> <td>416.986                        </td> <td>465.877                             </td> <td>329.5        </td> <td>0        </td> <td>0          </td> <td>731.175       </td> <td>386.292      </td> <td>217.528          </td> <td>350.115                            </td> <td>0         </td> <td>0                             </td> <td>0                      </td> <td>0                         </td> <td>0            </td> <td>0                   </td> <td>340.857       </td> <td>502.335           </td> <td>374.793                      </td> <td>0                            </td> <td>0                          </td> <td>0                          </td> <td>0                                    </td> <td>0          </td> <td>0                         </td> <td>0                     </td> <td>0                           </td> <td>0                          </td> <td>783.228                                 </td> <td>792.387                                </td> <td>809.92                 </td> <td>0                 </td> <td>0                    </td> <td>0                                </td> <td>0                      </td> <td>0               </td> <td>0                  </td> <td>0                              </td> <td>0                     </td> <td>781.634                 </td> <td>301.297        </td> <td>0            </td> <td>0                       </td> <td>438.75           </td> <td>207.94                                       </td> <td>953.429        </td> <td>0                     </td> <td>465.688             </td> <td>444.689                                      </td>\n",
       "        </tr>\n",
       "        <tr>\n",
       "            <td>Broadway St at Battery St       </td> <td>613.672      </td> <td>826.899          </td> <td>719.695        </td> <td>931.891      </td> <td>0               </td> <td>0                       </td> <td>331.727        </td> <td>688.682                  </td> <td>0                              </td> <td>0                               </td> <td>942.629                          </td> <td>240.929        </td> <td>245.23                  </td> <td>0                   </td> <td>190.906         </td> <td>576.172              </td> <td>503.241              </td> <td>369.61                </td> <td>403.314               </td> <td>0                   </td> <td>0                </td> <td>1213.2             </td> <td>364.543                        </td> <td>436.101                             </td> <td>600.939      </td> <td>0        </td> <td>0          </td> <td>1068.12       </td> <td>629.866      </td> <td>416.267          </td> <td>414.935                            </td> <td>0         </td> <td>0                             </td> <td>0                      </td> <td>0                         </td> <td>0            </td> <td>0                   </td> <td>503.763       </td> <td>725.521           </td> <td>562.271                      </td> <td>0                            </td> <td>0                          </td> <td>0                          </td> <td>0                                    </td> <td>0          </td> <td>0                         </td> <td>0                     </td> <td>0                           </td> <td>0                          </td> <td>893.467                                 </td> <td>893.123                                </td> <td>1083.43                </td> <td>0                 </td> <td>0                    </td> <td>0                                </td> <td>0                      </td> <td>0               </td> <td>0                  </td> <td>0                              </td> <td>0                     </td> <td>1010.5                  </td> <td>516.17         </td> <td>0            </td> <td>0                       </td> <td>378.265          </td> <td>484.57                                       </td> <td>1204.94        </td> <td>0                     </td> <td>383.937             </td> <td>648.745                                      </td>\n",
       "        </tr>\n",
       "        <tr>\n",
       "            <td>California Ave Caltrain Station </td> <td>0            </td> <td>0                </td> <td>0              </td> <td>0            </td> <td>0               </td> <td>0                       </td> <td>0              </td> <td>0                        </td> <td>898.553                        </td> <td>1645                            </td> <td>0                                </td> <td>0              </td> <td>0                       </td> <td>977.552             </td> <td>0               </td> <td>0                    </td> <td>0                    </td> <td>0                     </td> <td>0                     </td> <td>0                   </td> <td>0                </td> <td>0                  </td> <td>0                              </td> <td>0                                   </td> <td>0            </td> <td>0        </td> <td>0          </td> <td>0             </td> <td>0            </td> <td>0                </td> <td>0                                  </td> <td>0         </td> <td>1771                          </td> <td>0                      </td> <td>714.922                   </td> <td>277.025      </td> <td>0                   </td> <td>0             </td> <td>0                 </td> <td>0                            </td> <td>0                            </td> <td>0                          </td> <td>0                          </td> <td>1260.33                              </td> <td>0          </td> <td>0                         </td> <td>0                     </td> <td>1295.65                     </td> <td>994                        </td> <td>0                                       </td> <td>0                                      </td> <td>0                      </td> <td>0                 </td> <td>0                    </td> <td>0                                </td> <td>0                      </td> <td>0               </td> <td>0                  </td> <td>0                              </td> <td>0                     </td> <td>0                       </td> <td>0              </td> <td>0            </td> <td>0                       </td> <td>0                </td> <td>0                                            </td> <td>0              </td> <td>973.544               </td> <td>0                   </td> <td>0                                            </td>\n",
       "        </tr>\n",
       "        <tr>\n",
       "            <td>Castro Street and El Camino Real</td> <td>0            </td> <td>0                </td> <td>0              </td> <td>0            </td> <td>0               </td> <td>0                       </td> <td>0              </td> <td>0                        </td> <td>0                              </td> <td>817.5                           </td> <td>0                                </td> <td>0              </td> <td>0                       </td> <td>0                   </td> <td>0               </td> <td>0                    </td> <td>0                    </td> <td>0                     </td> <td>0                     </td> <td>747.214             </td> <td>0                </td> <td>0                  </td> <td>0                              </td> <td>0                                   </td> <td>0            </td> <td>0        </td> <td>0          </td> <td>0             </td> <td>0            </td> <td>0                </td> <td>0                                  </td> <td>0         </td> <td>388.583                       </td> <td>317.118                </td> <td>0                         </td> <td>0            </td> <td>0                   </td> <td>0             </td> <td>0                 </td> <td>0                            </td> <td>0                            </td> <td>0                          </td> <td>0                          </td> <td>894.429                              </td> <td>0          </td> <td>0                         </td> <td>0                     </td> <td>1117                        </td> <td>987.25                     </td> <td>0                                       </td> <td>0                                      </td> <td>0                      </td> <td>0                 </td> <td>0                    </td> <td>0                                </td> <td>0                      </td> <td>0               </td> <td>0                  </td> <td>0                              </td> <td>0                     </td> <td>0                       </td> <td>0              </td> <td>0            </td> <td>0                       </td> <td>0                </td> <td>0                                            </td> <td>0              </td> <td>0                     </td> <td>0                   </td> <td>0                                            </td>\n",
       "        </tr>\n",
       "    </tbody>\n",
       "</table>\n",
       "<p>... (60 rows omitted)</p>"
      ],
      "text/plain": [
       "End Station                      | 2nd at Folsom | 2nd at South Park | 2nd at Townsend | 5th at Howard | Adobe on Almaden | Arena Green / SAP Center | Beale at Market | Broadway St at Battery St | California Ave Caltrain Station | Castro Street and El Camino Real | Civic Center BART (7th at Market) | Clay at Battery | Commercial at Montgomery | Cowper at University | Davis at Jackson | Embarcadero at Bryant | Embarcadero at Folsom | Embarcadero at Sansome | Embarcadero at Vallejo | Evelyn Park and Ride | Franklin at Maple | Golden Gate at Polk | Grant Avenue at Columbus Avenue | Harry Bridges Plaza (Ferry Building) | Howard at 2nd | Japantown | MLK Library | Market at 10th | Market at 4th | Market at Sansome | Mechanics Plaza (Market at Battery) | Mezes Park | Mountain View Caltrain Station | Mountain View City Hall | Palo Alto Caltrain Station | Park at Olive | Paseo de San Antonio | Post at Kearny | Powell Street BART | Powell at Post (Union Square) | Redwood City Caltrain Station | Redwood City Medical Center | Redwood City Public Library | Rengstorff Avenue / California Street | Ryland Park | SJSU - San Salvador at 9th | SJSU 4th at San Carlos | San Antonio Caltrain Station | San Antonio Shopping Center | San Francisco Caltrain (Townsend at 4th) | San Francisco Caltrain 2 (330 Townsend) | San Francisco City Hall | San Jose City Hall | San Jose Civic Center | San Jose Diridon Caltrain Station | San Mateo County Center | San Pedro Square | San Salvador at 1st | Santa Clara County Civic Center | Santa Clara at Almaden | South Van Ness at Market | Spear at Folsom | St James Park | Stanford in Redwood City | Steuart at Market | Temporary Transbay Terminal (Howard at Beale) | Townsend at 7th | University and Emerson | Washington at Kearny | Yerba Buena Center of the Arts (3rd @ Howard)\n",
       "2nd at Folsom                    | 702.13        | 253.874           | 309.087         | 418.065       | 0                | 0                        | 424.15          | 740.714                   | 0                               | 0                                | 668.886                           | 516.897         | 495.519                  | 0                    | 862.889          | 388.117               | 493.469               | 1114.71                | 818.429                | 0                    | 0                 | 825                 | 662.933                         | 500.44                               | 254.245       | 0         | 0           | 728.627        | 435.947       | 291.076           | 378.576                             | 0          | 0                              | 0                       | 0                          | 0             | 0                    | 380.083        | 541.926            | 518.011                       | 0                             | 0                           | 0                           | 0                                     | 0           | 0                          | 0                      | 0                            | 0                           | 469.137                                  | 484.382                                 | 1037                    | 0                  | 0                     | 0                                 | 0                       | 0                | 0                   | 0                               | 0                      | 836.684                  | 365.579         | 0             | 0                        | 575.923           | 250.553                                       | 646.038         | 0                      | 617                  | 386.032\n",
       "2nd at South Park                | 196.085       | 618.116           | 237.366         | 507.394       | 0                | 0                        | 450.279         | 715.247                   | 0                               | 0                                | 900.679                           | 589.368         | 612.456                  | 0                    | 640.081          | 317.625               | 404.27                | 940.253                | 648.948                | 0                    | 0                 | 732.632             | 815.671                         | 501.608                              | 230.486       | 0         | 0           | 834.396        | 513.307       | 323.982           | 423.605                             | 0          | 0                              | 0                       | 0                          | 0             | 0                    | 328.813        | 616.429            | 567.77                        | 0                             | 0                           | 0                           | 0                                     | 0           | 0                          | 0                      | 0                            | 0                           | 281.635                                  | 349.079                                 | 780.958                 | 0                  | 0                     | 0                                 | 0                       | 0                | 0                   | 0                               | 0                      | 831.879                  | 359.105         | 0             | 0                        | 490.479           | 356.287                                       | 473.056         | 0                      | 722.063              | 395.474\n",
       "2nd at Townsend                  | 293.874       | 281.344           | 787.314         | 655.196       | 0                | 0                        | 531.243         | 759.451                   | 0                               | 0                                | 846.888                           | 773.72          | 803.345                  | 0                    | 691.054          | 363.294               | 465.685               | 926.796                | 819.772                | 0                    | 0                 | 1070.59             | 919.073                         | 609.987                              | 371.105       | 0         | 0           | 877.591        | 731.92        | 506.895           | 673.452                             | 0          | 0                              | 0                       | 0                          | 0             | 0                    | 666.625        | 865.7              | 776.333                       | 0                             | 0                           | 0                           | 0                                     | 0           | 0                          | 0                      | 0                            | 0                           | 262.334                                  | 310.047                                 | 985.214                 | 0                  | 0                     | 0                                 | 0                       | 0                | 0                   | 0                               | 0                      | 1102.06                  | 404.522         | 0             | 0                        | 543.83            | 420.519                                       | 480.285         | 0                      | 1092.67              | 585.169\n",
       "5th at Howard                    | 381.274       | 573.729           | 613.514         | 718.096       | 0                | 0                        | 611.797         | 808.077                   | 0                               | 0                                | 379.35                            | 668.697         | 542.512                  | 0                    | 730.4            | 666.965               | 613.49                | 1056.59                | 952.167                | 0                    | 0                 | 469.741             | 834.692                         | 676.55                               | 281.975       | 0         | 0           | 449.548        | 295.297       | 414.857           | 545.6                               | 0          | 0                              | 0                       | 0                          | 0             | 0                    | 410.043        | 255.956            | 357.799                       | 0                             | 0                           | 0                           | 0                                     | 0           | 0                          | 0                      | 0                            | 0                           | 434.022                                  | 386.263                                 | 605.708                 | 0                  | 0                     | 0                                 | 0                       | 0                | 0                   | 0                               | 0                      | 553.362                  | 584.98          | 0             | 0                        | 662.308           | 406.225                                       | 546.84          | 0                      | 972.07               | 206.704\n",
       "Adobe on Almaden                 | 0             | 0                 | 0               | 0             | 462              | 583.5                    | 0               | 0                         | 0                               | 0                                | 0                                 | 0               | 0                        | 0                    | 0                | 0                     | 0                     | 0                      | 0                      | 0                    | 0                 | 0                   | 0                               | 0                                    | 0             | 942.176   | 616         | 0              | 0             | 0                 | 0                                   | 0          | 0                              | 0                       | 0                          | 0             | 463.92               | 0              | 0                  | 0                             | 0                             | 0                           | 0                           | 0                                     | 639.857     | 858.571                    | 534.438                | 0                            | 0                           | 0                                        | 0                                       | 0                       | 546.316            | 399.435               | 292.702                           | 0                       | 360.4            | 684                 | 1164.4                          | 251.9                  | 0                        | 0               | 516.857       | 0                        | 0                 | 0                                             | 0               | 0                      | 0                    | 0\n",
       "Arena Green / SAP Center         | 0             | 0                 | 0               | 0             | 540.286          | 948.844                  | 0               | 0                         | 0                               | 0                                | 0                                 | 0               | 0                        | 0                    | 0                | 0                     | 0                     | 0                      | 0                      | 0                    | 0                 | 0                   | 0                               | 0                                    | 0             | 955.312   | 952.6       | 0              | 0             | 0                 | 0                                   | 0          | 0                              | 0                       | 0                          | 0             | 706.762              | 0              | 0                  | 0                             | 0                             | 0                           | 0                           | 0                                     | 684.917     | 902.333                    | 965                    | 0                            | 0                           | 0                                        | 0                                       | 0                       | 536.667            | 782.1                 | 778                               | 0                       | 373.393          | 1127.92             | 1222.24                         | 219.985                | 0                        | 0               | 645           | 0                        | 0                 | 0                                             | 0               | 0                      | 0                    | 0\n",
       "Beale at Market                  | 360.701       | 603.873           | 685.934         | 625           | 0                | 0                        | 720.932         | 282.033                   | 0                               | 0                                | 627.423                           | 273.973         | 303.168                  | 0                    | 232.777          | 441.483               | 300.5                 | 498.2                  | 352.467                | 0                    | 0                 | 697.074             | 416.986                         | 465.877                              | 329.5         | 0         | 0           | 731.175        | 386.292       | 217.528           | 350.115                             | 0          | 0                              | 0                       | 0                          | 0             | 0                    | 340.857        | 502.335            | 374.793                       | 0                             | 0                           | 0                           | 0                                     | 0           | 0                          | 0                      | 0                            | 0                           | 783.228                                  | 792.387                                 | 809.92                  | 0                  | 0                     | 0                                 | 0                       | 0                | 0                   | 0                               | 0                      | 781.634                  | 301.297         | 0             | 0                        | 438.75            | 207.94                                        | 953.429         | 0                      | 465.688              | 444.689\n",
       "Broadway St at Battery St        | 613.672       | 826.899           | 719.695         | 931.891       | 0                | 0                        | 331.727         | 688.682                   | 0                               | 0                                | 942.629                           | 240.929         | 245.23                   | 0                    | 190.906          | 576.172               | 503.241               | 369.61                 | 403.314                | 0                    | 0                 | 1213.2              | 364.543                         | 436.101                              | 600.939       | 0         | 0           | 1068.12        | 629.866       | 416.267           | 414.935                             | 0          | 0                              | 0                       | 0                          | 0             | 0                    | 503.763        | 725.521            | 562.271                       | 0                             | 0                           | 0                           | 0                                     | 0           | 0                          | 0                      | 0                            | 0                           | 893.467                                  | 893.123                                 | 1083.43                 | 0                  | 0                     | 0                                 | 0                       | 0                | 0                   | 0                               | 0                      | 1010.5                   | 516.17          | 0             | 0                        | 378.265           | 484.57                                        | 1204.94         | 0                      | 383.937              | 648.745\n",
       "California Ave Caltrain Station  | 0             | 0                 | 0               | 0             | 0                | 0                        | 0               | 0                         | 898.553                         | 1645                             | 0                                 | 0               | 0                        | 977.552              | 0                | 0                     | 0                     | 0                      | 0                      | 0                    | 0                 | 0                   | 0                               | 0                                    | 0             | 0         | 0           | 0              | 0             | 0                 | 0                                   | 0          | 1771                           | 0                       | 714.922                    | 277.025       | 0                    | 0              | 0                  | 0                             | 0                             | 0                           | 0                           | 1260.33                               | 0           | 0                          | 0                      | 1295.65                      | 994                         | 0                                        | 0                                       | 0                       | 0                  | 0                     | 0                                 | 0                       | 0                | 0                   | 0                               | 0                      | 0                        | 0               | 0             | 0                        | 0                 | 0                                             | 0               | 973.544                | 0                    | 0\n",
       "Castro Street and El Camino Real | 0             | 0                 | 0               | 0             | 0                | 0                        | 0               | 0                         | 0                               | 817.5                            | 0                                 | 0               | 0                        | 0                    | 0                | 0                     | 0                     | 0                      | 0                      | 747.214              | 0                 | 0                   | 0                               | 0                                    | 0             | 0         | 0           | 0              | 0             | 0                 | 0                                   | 0          | 388.583                        | 317.118                 | 0                          | 0             | 0                    | 0              | 0                  | 0                             | 0                             | 0                           | 0                           | 894.429                               | 0           | 0                          | 0                      | 1117                         | 987.25                      | 0                                        | 0                                       | 0                       | 0                  | 0                     | 0                                 | 0                       | 0                | 0                   | 0                               | 0                      | 0                        | 0               | 0             | 0                        | 0                 | 0                                             | 0               | 0                      | 0                    | 0\n",
       "... (60 rows omitted)"
      ]
     },
     "execution_count": 32,
     "metadata": {},
     "output_type": "execute_result"
    }
   ],
   "source": [
    "#Specifying pivot according to average duration\n",
    "commute.pivot('Start Station', 'End Station', values='Duration', collect=np.average)"
   ]
  },
  {
   "cell_type": "code",
   "execution_count": null,
   "id": "01bbd27e",
   "metadata": {},
   "outputs": [],
   "source": [
    "#Why 0 Almadane\n",
    "# Too far away"
   ]
  },
  {
   "cell_type": "markdown",
   "id": "100b076d",
   "metadata": {},
   "source": [
    "## Fastest Trips between Stations"
   ]
  },
  {
   "cell_type": "code",
   "execution_count": 34,
   "id": "86cc71ad",
   "metadata": {},
   "outputs": [
    {
     "ename": "ValueError",
     "evalue": "The column \"Select Station\" is not in the table. The table contains these columns: Trip ID, Duration, Start Date, Start Station, Start Terminal, End Date, End Station, End Terminal, Bike #, Subscriber Type, Zip Code",
     "output_type": "error",
     "traceback": [
      "\u001b[1;31m---------------------------------------------------------------------------\u001b[0m",
      "\u001b[1;31mValueError\u001b[0m                                Traceback (most recent call last)",
      "Input \u001b[1;32mIn [34]\u001b[0m, in \u001b[0;36m<module>\u001b[1;34m\u001b[0m\n\u001b[1;32m----> 1\u001b[0m duration \u001b[38;5;241m=\u001b[39m \u001b[43mtrip\u001b[49m\u001b[38;5;241;43m.\u001b[39;49m\u001b[43mselect\u001b[49m\u001b[43m(\u001b[49m\u001b[38;5;124;43m'\u001b[39;49m\u001b[38;5;124;43mSelect Station\u001b[39;49m\u001b[38;5;124;43m'\u001b[39;49m\u001b[43m,\u001b[49m\u001b[43m \u001b[49m\u001b[38;5;124;43m'\u001b[39;49m\u001b[38;5;124;43mEnd Station\u001b[39;49m\u001b[38;5;124;43m'\u001b[39;49m\u001b[43m,\u001b[49m\u001b[43m \u001b[49m\u001b[38;5;124;43m'\u001b[39;49m\u001b[38;5;124;43mDuration\u001b[39;49m\u001b[38;5;124;43m'\u001b[39;49m\u001b[43m)\u001b[49m\n\u001b[0;32m      2\u001b[0m duration\n",
      "File \u001b[1;32mc:\\users\\admin\\pycharmprojects\\lib\\site-packages\\datascience\\tables.py:1184\u001b[0m, in \u001b[0;36mTable.select\u001b[1;34m(self, *column_or_columns)\u001b[0m\n\u001b[0;32m   1182\u001b[0m table \u001b[38;5;241m=\u001b[39m \u001b[38;5;28mtype\u001b[39m(\u001b[38;5;28mself\u001b[39m)()\n\u001b[0;32m   1183\u001b[0m \u001b[38;5;28;01mfor\u001b[39;00m label \u001b[38;5;129;01min\u001b[39;00m labels:\n\u001b[1;32m-> 1184\u001b[0m     \u001b[38;5;28mself\u001b[39m\u001b[38;5;241m.\u001b[39m_add_column_and_format(table, label, np\u001b[38;5;241m.\u001b[39mcopy(\u001b[38;5;28;43mself\u001b[39;49m\u001b[43m[\u001b[49m\u001b[43mlabel\u001b[49m\u001b[43m]\u001b[49m))\n\u001b[0;32m   1185\u001b[0m \u001b[38;5;28;01mreturn\u001b[39;00m table\n",
      "File \u001b[1;32mc:\\users\\admin\\pycharmprojects\\lib\\site-packages\\datascience\\tables.py:198\u001b[0m, in \u001b[0;36mTable.__getitem__\u001b[1;34m(self, index_or_label)\u001b[0m\n\u001b[0;32m    197\u001b[0m \u001b[38;5;28;01mdef\u001b[39;00m \u001b[38;5;21m__getitem__\u001b[39m(\u001b[38;5;28mself\u001b[39m, index_or_label):\n\u001b[1;32m--> 198\u001b[0m     \u001b[38;5;28;01mreturn\u001b[39;00m \u001b[38;5;28;43mself\u001b[39;49m\u001b[38;5;241;43m.\u001b[39;49m\u001b[43mcolumn\u001b[49m\u001b[43m(\u001b[49m\u001b[43mindex_or_label\u001b[49m\u001b[43m)\u001b[49m\n",
      "File \u001b[1;32mc:\\users\\admin\\pycharmprojects\\lib\\site-packages\\datascience\\tables.py:365\u001b[0m, in \u001b[0;36mTable.column\u001b[1;34m(self, index_or_label)\u001b[0m\n\u001b[0;32m    340\u001b[0m \u001b[38;5;124;03m\"\"\"Return the values of a column as an array.\u001b[39;00m\n\u001b[0;32m    341\u001b[0m \n\u001b[0;32m    342\u001b[0m \u001b[38;5;124;03mtable.column(label) is equivalent to table[label].\u001b[39;00m\n\u001b[1;32m   (...)\u001b[0m\n\u001b[0;32m    361\u001b[0m \u001b[38;5;124;03m    ``ValueError``: When the ``index_or_label`` is not in the table.\u001b[39;00m\n\u001b[0;32m    362\u001b[0m \u001b[38;5;124;03m\"\"\"\u001b[39;00m\n\u001b[0;32m    363\u001b[0m \u001b[38;5;28;01mif\u001b[39;00m (\u001b[38;5;28misinstance\u001b[39m(index_or_label, \u001b[38;5;28mstr\u001b[39m)\n\u001b[0;32m    364\u001b[0m         \u001b[38;5;129;01mand\u001b[39;00m index_or_label \u001b[38;5;129;01mnot\u001b[39;00m \u001b[38;5;129;01min\u001b[39;00m \u001b[38;5;28mself\u001b[39m\u001b[38;5;241m.\u001b[39mlabels):\n\u001b[1;32m--> 365\u001b[0m     \u001b[38;5;28;01mraise\u001b[39;00m \u001b[38;5;167;01mValueError\u001b[39;00m(\n\u001b[0;32m    366\u001b[0m         \u001b[38;5;124m'\u001b[39m\u001b[38;5;124mThe column \u001b[39m\u001b[38;5;124m\"\u001b[39m\u001b[38;5;132;01m{}\u001b[39;00m\u001b[38;5;124m\"\u001b[39m\u001b[38;5;124m is not in the table. The table contains \u001b[39m\u001b[38;5;124m'\u001b[39m\n\u001b[0;32m    367\u001b[0m         \u001b[38;5;124m'\u001b[39m\u001b[38;5;124mthese columns: \u001b[39m\u001b[38;5;132;01m{}\u001b[39;00m\u001b[38;5;124m'\u001b[39m\n\u001b[0;32m    368\u001b[0m         \u001b[38;5;241m.\u001b[39mformat(index_or_label, \u001b[38;5;124m'\u001b[39m\u001b[38;5;124m, \u001b[39m\u001b[38;5;124m'\u001b[39m\u001b[38;5;241m.\u001b[39mjoin(\u001b[38;5;28mself\u001b[39m\u001b[38;5;241m.\u001b[39mlabels))\n\u001b[0;32m    369\u001b[0m     )\n\u001b[0;32m    370\u001b[0m \u001b[38;5;28;01mif\u001b[39;00m (\u001b[38;5;28misinstance\u001b[39m(index_or_label, \u001b[38;5;28mint\u001b[39m)\n\u001b[0;32m    371\u001b[0m         \u001b[38;5;129;01mand\u001b[39;00m \u001b[38;5;129;01mnot\u001b[39;00m \u001b[38;5;241m0\u001b[39m \u001b[38;5;241m<\u001b[39m\u001b[38;5;241m=\u001b[39m index_or_label \u001b[38;5;241m<\u001b[39m \u001b[38;5;28mlen\u001b[39m(\u001b[38;5;28mself\u001b[39m\u001b[38;5;241m.\u001b[39mlabels)):\n\u001b[0;32m    372\u001b[0m     \u001b[38;5;28;01mraise\u001b[39;00m \u001b[38;5;167;01mValueError\u001b[39;00m(\n\u001b[0;32m    373\u001b[0m         \u001b[38;5;124m'\u001b[39m\u001b[38;5;124mThe index \u001b[39m\u001b[38;5;132;01m{}\u001b[39;00m\u001b[38;5;124m is not in the table. Only indices between \u001b[39m\u001b[38;5;124m'\u001b[39m\n\u001b[0;32m    374\u001b[0m         \u001b[38;5;124m'\u001b[39m\u001b[38;5;124m0 and \u001b[39m\u001b[38;5;132;01m{}\u001b[39;00m\u001b[38;5;124m are valid\u001b[39m\u001b[38;5;124m'\u001b[39m\n\u001b[0;32m    375\u001b[0m         \u001b[38;5;241m.\u001b[39mformat(index_or_label, \u001b[38;5;28mlen\u001b[39m(\u001b[38;5;28mself\u001b[39m\u001b[38;5;241m.\u001b[39mlabels) \u001b[38;5;241m-\u001b[39m \u001b[38;5;241m1\u001b[39m)\n\u001b[0;32m    376\u001b[0m     )\n",
      "\u001b[1;31mValueError\u001b[0m: The column \"Select Station\" is not in the table. The table contains these columns: Trip ID, Duration, Start Date, Start Station, Start Terminal, End Date, End Station, End Terminal, Bike #, Subscriber Type, Zip Code"
     ]
    }
   ],
   "source": [
    "duration = trip.select('Select Station', 'End Station', 'Duration')\n",
    "duration"
   ]
  },
  {
   "cell_type": "code",
   "execution_count": null,
   "id": "20fb48f1",
   "metadata": {},
   "outputs": [],
   "source": []
  },
  {
   "cell_type": "code",
   "execution_count": null,
   "id": "e58f0b4d",
   "metadata": {},
   "outputs": [],
   "source": []
  },
  {
   "cell_type": "code",
   "execution_count": null,
   "id": "efe3b06f",
   "metadata": {},
   "outputs": [],
   "source": []
  },
  {
   "cell_type": "markdown",
   "id": "64e476e1",
   "metadata": {},
   "source": [
    "## Maps "
   ]
  },
  {
   "cell_type": "code",
   "execution_count": 35,
   "id": "07b872c8",
   "metadata": {},
   "outputs": [
    {
     "data": {
      "text/html": [
       "<table border=\"1\" class=\"dataframe\">\n",
       "    <thead>\n",
       "        <tr>\n",
       "            <th>station_id</th> <th>name</th> <th>lat</th> <th>long</th> <th>landmark</th>\n",
       "        </tr>\n",
       "    </thead>\n",
       "    <tbody>\n",
       "        <tr>\n",
       "            <td>2         </td> <td>San Jose Diridon Caltrain Station</td> <td>37.3297</td> <td>-121.902</td> <td>San Jose</td>\n",
       "        </tr>\n",
       "        <tr>\n",
       "            <td>3         </td> <td>San Jose Civic Center            </td> <td>37.3307</td> <td>-121.889</td> <td>San Jose</td>\n",
       "        </tr>\n",
       "        <tr>\n",
       "            <td>4         </td> <td>Santa Clara at Almaden           </td> <td>37.334 </td> <td>-121.895</td> <td>San Jose</td>\n",
       "        </tr>\n",
       "        <tr>\n",
       "            <td>5         </td> <td>Adobe on Almaden                 </td> <td>37.3314</td> <td>-121.893</td> <td>San Jose</td>\n",
       "        </tr>\n",
       "        <tr>\n",
       "            <td>6         </td> <td>San Pedro Square                 </td> <td>37.3367</td> <td>-121.894</td> <td>San Jose</td>\n",
       "        </tr>\n",
       "        <tr>\n",
       "            <td>7         </td> <td>Paseo de San Antonio             </td> <td>37.3338</td> <td>-121.887</td> <td>San Jose</td>\n",
       "        </tr>\n",
       "        <tr>\n",
       "            <td>8         </td> <td>San Salvador at 1st              </td> <td>37.3302</td> <td>-121.886</td> <td>San Jose</td>\n",
       "        </tr>\n",
       "        <tr>\n",
       "            <td>9         </td> <td>Japantown                        </td> <td>37.3487</td> <td>-121.895</td> <td>San Jose</td>\n",
       "        </tr>\n",
       "        <tr>\n",
       "            <td>10        </td> <td>San Jose City Hall               </td> <td>37.3374</td> <td>-121.887</td> <td>San Jose</td>\n",
       "        </tr>\n",
       "        <tr>\n",
       "            <td>11        </td> <td>MLK Library                      </td> <td>37.3359</td> <td>-121.886</td> <td>San Jose</td>\n",
       "        </tr>\n",
       "    </tbody>\n",
       "</table>\n",
       "<p>... (60 rows omitted)</p>"
      ],
      "text/plain": [
       "station_id | name                              | lat     | long     | landmark\n",
       "2          | San Jose Diridon Caltrain Station | 37.3297 | -121.902 | San Jose\n",
       "3          | San Jose Civic Center             | 37.3307 | -121.889 | San Jose\n",
       "4          | Santa Clara at Almaden            | 37.334  | -121.895 | San Jose\n",
       "5          | Adobe on Almaden                  | 37.3314 | -121.893 | San Jose\n",
       "6          | San Pedro Square                  | 37.3367 | -121.894 | San Jose\n",
       "7          | Paseo de San Antonio              | 37.3338 | -121.887 | San Jose\n",
       "8          | San Salvador at 1st               | 37.3302 | -121.886 | San Jose\n",
       "9          | Japantown                         | 37.3487 | -121.895 | San Jose\n",
       "10         | San Jose City Hall                | 37.3374 | -121.887 | San Jose\n",
       "11         | MLK Library                       | 37.3359 | -121.886 | San Jose\n",
       "... (60 rows omitted)"
      ]
     },
     "execution_count": 35,
     "metadata": {},
     "output_type": "execute_result"
    }
   ],
   "source": [
    "#Geographical data on the stations\n",
    "stations = Table.read_table('station.csv').drop(4,6)\n",
    "stations"
   ]
  },
  {
   "cell_type": "code",
   "execution_count": 40,
   "id": "0697783b",
   "metadata": {},
   "outputs": [
    {
     "data": {
      "text/html": [
       "<table border=\"1\" class=\"dataframe\">\n",
       "    <thead>\n",
       "        <tr>\n",
       "            <th>lat</th> <th>long</th> <th>labels</th>\n",
       "        </tr>\n",
       "    </thead>\n",
       "    <tbody>\n",
       "        <tr>\n",
       "            <td>37.795 </td> <td>-122.4  </td> <td>Clay at Battery         </td>\n",
       "        </tr>\n",
       "        <tr>\n",
       "            <td>37.7973</td> <td>-122.398</td> <td>Davis at Jackson        </td>\n",
       "        </tr>\n",
       "        <tr>\n",
       "            <td>37.7942</td> <td>-122.403</td> <td>Commercial at Montgomery</td>\n",
       "        </tr>\n",
       "    </tbody>\n",
       "</table>\n",
       "<p>... (32 rows omitted)</p>"
      ],
      "text/plain": [
       "<IPython.core.display.HTML object>"
      ]
     },
     "metadata": {},
     "output_type": "display_data"
    }
   ],
   "source": [
    "sf_stations = stations.where('landmark', are.equal_to('San Francisco'))\n",
    "sf_stations_map_data = sf_stations.select('lat', 'long', 'name').relabeled('name', 'labels')\n",
    "sf_stations_map_data.show(3)"
   ]
  },
  {
   "cell_type": "code",
   "execution_count": 41,
   "id": "65e0fd42",
   "metadata": {},
   "outputs": [
    {
     "data": {
      "text/html": [
       "<div style=\"width:100%;\"><div style=\"position:relative;width:100%;height:0;padding-bottom:60%;\"><span style=\"color:#565656\">Make this Notebook Trusted to load map: File -> Trust Notebook</span><iframe src=\"about:blank\" style=\"position:absolute;width:100%;height:100%;left:0;top:0;border:none !important;\" data-html=%3C%21DOCTYPE%20html%3E%0A%3Chead%3E%20%20%20%20%0A%20%20%20%20%3Cmeta%20http-equiv%3D%22content-type%22%20content%3D%22text/html%3B%20charset%3DUTF-8%22%20/%3E%0A%20%20%20%20%0A%20%20%20%20%20%20%20%20%3Cscript%3E%0A%20%20%20%20%20%20%20%20%20%20%20%20L_NO_TOUCH%20%3D%20false%3B%0A%20%20%20%20%20%20%20%20%20%20%20%20L_DISABLE_3D%20%3D%20false%3B%0A%20%20%20%20%20%20%20%20%3C/script%3E%0A%20%20%20%20%0A%20%20%20%20%3Cstyle%3Ehtml%2C%20body%20%7Bwidth%3A%20100%25%3Bheight%3A%20100%25%3Bmargin%3A%200%3Bpadding%3A%200%3B%7D%3C/style%3E%0A%20%20%20%20%3Cstyle%3E%23map%20%7Bposition%3Aabsolute%3Btop%3A0%3Bbottom%3A0%3Bright%3A0%3Bleft%3A0%3B%7D%3C/style%3E%0A%20%20%20%20%3Cscript%20src%3D%22https%3A//cdn.jsdelivr.net/npm/leaflet%401.6.0/dist/leaflet.js%22%3E%3C/script%3E%0A%20%20%20%20%3Cscript%20src%3D%22https%3A//code.jquery.com/jquery-1.12.4.min.js%22%3E%3C/script%3E%0A%20%20%20%20%3Cscript%20src%3D%22https%3A//maxcdn.bootstrapcdn.com/bootstrap/3.2.0/js/bootstrap.min.js%22%3E%3C/script%3E%0A%20%20%20%20%3Cscript%20src%3D%22https%3A//cdnjs.cloudflare.com/ajax/libs/Leaflet.awesome-markers/2.0.2/leaflet.awesome-markers.js%22%3E%3C/script%3E%0A%20%20%20%20%3Clink%20rel%3D%22stylesheet%22%20href%3D%22https%3A//cdn.jsdelivr.net/npm/leaflet%401.6.0/dist/leaflet.css%22/%3E%0A%20%20%20%20%3Clink%20rel%3D%22stylesheet%22%20href%3D%22https%3A//maxcdn.bootstrapcdn.com/bootstrap/3.2.0/css/bootstrap.min.css%22/%3E%0A%20%20%20%20%3Clink%20rel%3D%22stylesheet%22%20href%3D%22https%3A//maxcdn.bootstrapcdn.com/bootstrap/3.2.0/css/bootstrap-theme.min.css%22/%3E%0A%20%20%20%20%3Clink%20rel%3D%22stylesheet%22%20href%3D%22https%3A//maxcdn.bootstrapcdn.com/font-awesome/4.6.3/css/font-awesome.min.css%22/%3E%0A%20%20%20%20%3Clink%20rel%3D%22stylesheet%22%20href%3D%22https%3A//cdnjs.cloudflare.com/ajax/libs/Leaflet.awesome-markers/2.0.2/leaflet.awesome-markers.css%22/%3E%0A%20%20%20%20%3Clink%20rel%3D%22stylesheet%22%20href%3D%22https%3A//cdn.jsdelivr.net/gh/python-visualization/folium/folium/templates/leaflet.awesome.rotate.min.css%22/%3E%0A%20%20%20%20%0A%20%20%20%20%20%20%20%20%20%20%20%20%3Cmeta%20name%3D%22viewport%22%20content%3D%22width%3Ddevice-width%2C%0A%20%20%20%20%20%20%20%20%20%20%20%20%20%20%20%20initial-scale%3D1.0%2C%20maximum-scale%3D1.0%2C%20user-scalable%3Dno%22%20/%3E%0A%20%20%20%20%20%20%20%20%20%20%20%20%3Cstyle%3E%0A%20%20%20%20%20%20%20%20%20%20%20%20%20%20%20%20%23map_ad22699887b149f2ae8148e44d68e447%20%7B%0A%20%20%20%20%20%20%20%20%20%20%20%20%20%20%20%20%20%20%20%20position%3A%20relative%3B%0A%20%20%20%20%20%20%20%20%20%20%20%20%20%20%20%20%20%20%20%20width%3A%20960.0px%3B%0A%20%20%20%20%20%20%20%20%20%20%20%20%20%20%20%20%20%20%20%20height%3A%20500.0px%3B%0A%20%20%20%20%20%20%20%20%20%20%20%20%20%20%20%20%20%20%20%20left%3A%200.0%25%3B%0A%20%20%20%20%20%20%20%20%20%20%20%20%20%20%20%20%20%20%20%20top%3A%200.0%25%3B%0A%20%20%20%20%20%20%20%20%20%20%20%20%20%20%20%20%7D%0A%20%20%20%20%20%20%20%20%20%20%20%20%3C/style%3E%0A%20%20%20%20%20%20%20%20%0A%3C/head%3E%0A%3Cbody%3E%20%20%20%20%0A%20%20%20%20%0A%20%20%20%20%20%20%20%20%20%20%20%20%3Cdiv%20class%3D%22folium-map%22%20id%3D%22map_ad22699887b149f2ae8148e44d68e447%22%20%3E%3C/div%3E%0A%20%20%20%20%20%20%20%20%0A%3C/body%3E%0A%3Cscript%3E%20%20%20%20%0A%20%20%20%20%0A%20%20%20%20%20%20%20%20%20%20%20%20var%20map_ad22699887b149f2ae8148e44d68e447%20%3D%20L.map%28%0A%20%20%20%20%20%20%20%20%20%20%20%20%20%20%20%20%22map_ad22699887b149f2ae8148e44d68e447%22%2C%0A%20%20%20%20%20%20%20%20%20%20%20%20%20%20%20%20%7B%0A%20%20%20%20%20%20%20%20%20%20%20%20%20%20%20%20%20%20%20%20center%3A%20%5B37.787914%2C%20-122.4034835%5D%2C%0A%20%20%20%20%20%20%20%20%20%20%20%20%20%20%20%20%20%20%20%20crs%3A%20L.CRS.EPSG3857%2C%0A%20%20%20%20%20%20%20%20%20%20%20%20%20%20%20%20%20%20%20%20zoom%3A%2012%2C%0A%20%20%20%20%20%20%20%20%20%20%20%20%20%20%20%20%20%20%20%20zoomControl%3A%20true%2C%0A%20%20%20%20%20%20%20%20%20%20%20%20%20%20%20%20%20%20%20%20preferCanvas%3A%20false%2C%0A%20%20%20%20%20%20%20%20%20%20%20%20%20%20%20%20%20%20%20%20clusteredMarker%3A%20false%2C%0A%20%20%20%20%20%20%20%20%20%20%20%20%20%20%20%20%20%20%20%20includeColorScaleOutliers%3A%20true%2C%0A%20%20%20%20%20%20%20%20%20%20%20%20%20%20%20%20%20%20%20%20radiusInMeters%3A%20false%2C%0A%20%20%20%20%20%20%20%20%20%20%20%20%20%20%20%20%7D%0A%20%20%20%20%20%20%20%20%20%20%20%20%29%3B%0A%0A%20%20%20%20%20%20%20%20%20%20%20%20%0A%0A%20%20%20%20%20%20%20%20%0A%20%20%20%20%0A%20%20%20%20%20%20%20%20%20%20%20%20var%20tile_layer_e28df3608c994544b71cd0d0b41e3395%20%3D%20L.tileLayer%28%0A%20%20%20%20%20%20%20%20%20%20%20%20%20%20%20%20%22https%3A//%7Bs%7D.tile.openstreetmap.org/%7Bz%7D/%7Bx%7D/%7By%7D.png%22%2C%0A%20%20%20%20%20%20%20%20%20%20%20%20%20%20%20%20%7B%22attribution%22%3A%20%22Data%20by%20%5Cu0026copy%3B%20%5Cu003ca%20href%3D%5C%22http%3A//openstreetmap.org%5C%22%5Cu003eOpenStreetMap%5Cu003c/a%5Cu003e%2C%20under%20%5Cu003ca%20href%3D%5C%22http%3A//www.openstreetmap.org/copyright%5C%22%5Cu003eODbL%5Cu003c/a%5Cu003e.%22%2C%20%22detectRetina%22%3A%20false%2C%20%22maxNativeZoom%22%3A%2017%2C%20%22maxZoom%22%3A%2017%2C%20%22minZoom%22%3A%2010%2C%20%22noWrap%22%3A%20false%2C%20%22opacity%22%3A%201%2C%20%22subdomains%22%3A%20%22abc%22%2C%20%22tms%22%3A%20false%7D%0A%20%20%20%20%20%20%20%20%20%20%20%20%29.addTo%28map_ad22699887b149f2ae8148e44d68e447%29%3B%0A%20%20%20%20%20%20%20%20%0A%20%20%20%20%0A%20%20%20%20%20%20%20%20%20%20%20%20var%20marker_7477f992498b4295b073a583ac5c9fb1%20%3D%20L.marker%28%0A%20%20%20%20%20%20%20%20%20%20%20%20%20%20%20%20%5B37.795001%2C%20-122.39997%5D%2C%0A%20%20%20%20%20%20%20%20%20%20%20%20%20%20%20%20%7B%7D%0A%20%20%20%20%20%20%20%20%20%20%20%20%29.addTo%28map_ad22699887b149f2ae8148e44d68e447%29%3B%0A%20%20%20%20%20%20%20%20%0A%20%20%20%20%0A%20%20%20%20%20%20%20%20%20%20%20%20var%20icon_110cb5b9db4a4ad4ac04ffd424ca8948%20%3D%20L.AwesomeMarkers.icon%28%0A%20%20%20%20%20%20%20%20%20%20%20%20%20%20%20%20%7B%22extraClasses%22%3A%20%22fa-rotate-0%22%2C%20%22icon%22%3A%20%22sign-blank%22%2C%20%22iconColor%22%3A%20%22white%22%2C%20%22markerColor%22%3A%20%22blue%22%2C%20%22prefix%22%3A%20%22glyphicon%22%7D%0A%20%20%20%20%20%20%20%20%20%20%20%20%29%3B%0A%20%20%20%20%20%20%20%20%20%20%20%20marker_7477f992498b4295b073a583ac5c9fb1.setIcon%28icon_110cb5b9db4a4ad4ac04ffd424ca8948%29%3B%0A%20%20%20%20%20%20%20%20%0A%20%20%20%20%0A%20%20%20%20%20%20%20%20var%20popup_d68932be6ec04cbc9e58d5c931b892de%20%3D%20L.popup%28%7B%22maxWidth%22%3A%20%22100%25%22%7D%29%3B%0A%0A%20%20%20%20%20%20%20%20%0A%20%20%20%20%20%20%20%20%20%20%20%20var%20html_c0cb7e12f32d4b428c24ca742b10ec27%20%3D%20%24%28%60%3Cdiv%20id%3D%22html_c0cb7e12f32d4b428c24ca742b10ec27%22%20style%3D%22width%3A%20100.0%25%3B%20height%3A%20100.0%25%3B%22%3EClay%20at%20Battery%3C/div%3E%60%29%5B0%5D%3B%0A%20%20%20%20%20%20%20%20%20%20%20%20popup_d68932be6ec04cbc9e58d5c931b892de.setContent%28html_c0cb7e12f32d4b428c24ca742b10ec27%29%3B%0A%20%20%20%20%20%20%20%20%0A%0A%20%20%20%20%20%20%20%20marker_7477f992498b4295b073a583ac5c9fb1.bindPopup%28popup_d68932be6ec04cbc9e58d5c931b892de%29%0A%20%20%20%20%20%20%20%20%3B%0A%0A%20%20%20%20%20%20%20%20%0A%20%20%20%20%0A%20%20%20%20%0A%20%20%20%20%20%20%20%20%20%20%20%20var%20marker_b4f9253deb984439af091c7ff8c65a2e%20%3D%20L.marker%28%0A%20%20%20%20%20%20%20%20%20%20%20%20%20%20%20%20%5B37.79728%2C%20-122.398436%5D%2C%0A%20%20%20%20%20%20%20%20%20%20%20%20%20%20%20%20%7B%7D%0A%20%20%20%20%20%20%20%20%20%20%20%20%29.addTo%28map_ad22699887b149f2ae8148e44d68e447%29%3B%0A%20%20%20%20%20%20%20%20%0A%20%20%20%20%0A%20%20%20%20%20%20%20%20%20%20%20%20var%20icon_29ad4dab56054a52ad959eb528194a80%20%3D%20L.AwesomeMarkers.icon%28%0A%20%20%20%20%20%20%20%20%20%20%20%20%20%20%20%20%7B%22extraClasses%22%3A%20%22fa-rotate-0%22%2C%20%22icon%22%3A%20%22sign-blank%22%2C%20%22iconColor%22%3A%20%22white%22%2C%20%22markerColor%22%3A%20%22blue%22%2C%20%22prefix%22%3A%20%22glyphicon%22%7D%0A%20%20%20%20%20%20%20%20%20%20%20%20%29%3B%0A%20%20%20%20%20%20%20%20%20%20%20%20marker_b4f9253deb984439af091c7ff8c65a2e.setIcon%28icon_29ad4dab56054a52ad959eb528194a80%29%3B%0A%20%20%20%20%20%20%20%20%0A%20%20%20%20%0A%20%20%20%20%20%20%20%20var%20popup_e9372412a96346a5bfd58f0053d94679%20%3D%20L.popup%28%7B%22maxWidth%22%3A%20%22100%25%22%7D%29%3B%0A%0A%20%20%20%20%20%20%20%20%0A%20%20%20%20%20%20%20%20%20%20%20%20var%20html_cdf66885526740ee846bbae4f44a316a%20%3D%20%24%28%60%3Cdiv%20id%3D%22html_cdf66885526740ee846bbae4f44a316a%22%20style%3D%22width%3A%20100.0%25%3B%20height%3A%20100.0%25%3B%22%3EDavis%20at%20Jackson%3C/div%3E%60%29%5B0%5D%3B%0A%20%20%20%20%20%20%20%20%20%20%20%20popup_e9372412a96346a5bfd58f0053d94679.setContent%28html_cdf66885526740ee846bbae4f44a316a%29%3B%0A%20%20%20%20%20%20%20%20%0A%0A%20%20%20%20%20%20%20%20marker_b4f9253deb984439af091c7ff8c65a2e.bindPopup%28popup_e9372412a96346a5bfd58f0053d94679%29%0A%20%20%20%20%20%20%20%20%3B%0A%0A%20%20%20%20%20%20%20%20%0A%20%20%20%20%0A%20%20%20%20%0A%20%20%20%20%20%20%20%20%20%20%20%20var%20marker_ee8df2787229476c8f78c13d7cabc54a%20%3D%20L.marker%28%0A%20%20%20%20%20%20%20%20%20%20%20%20%20%20%20%20%5B37.794231%2C%20-122.402923%5D%2C%0A%20%20%20%20%20%20%20%20%20%20%20%20%20%20%20%20%7B%7D%0A%20%20%20%20%20%20%20%20%20%20%20%20%29.addTo%28map_ad22699887b149f2ae8148e44d68e447%29%3B%0A%20%20%20%20%20%20%20%20%0A%20%20%20%20%0A%20%20%20%20%20%20%20%20%20%20%20%20var%20icon_8693fcf4482c44be8a09d492cbe194f4%20%3D%20L.AwesomeMarkers.icon%28%0A%20%20%20%20%20%20%20%20%20%20%20%20%20%20%20%20%7B%22extraClasses%22%3A%20%22fa-rotate-0%22%2C%20%22icon%22%3A%20%22sign-blank%22%2C%20%22iconColor%22%3A%20%22white%22%2C%20%22markerColor%22%3A%20%22blue%22%2C%20%22prefix%22%3A%20%22glyphicon%22%7D%0A%20%20%20%20%20%20%20%20%20%20%20%20%29%3B%0A%20%20%20%20%20%20%20%20%20%20%20%20marker_ee8df2787229476c8f78c13d7cabc54a.setIcon%28icon_8693fcf4482c44be8a09d492cbe194f4%29%3B%0A%20%20%20%20%20%20%20%20%0A%20%20%20%20%0A%20%20%20%20%20%20%20%20var%20popup_22352cbcafb849c0bba07782ccbacb00%20%3D%20L.popup%28%7B%22maxWidth%22%3A%20%22100%25%22%7D%29%3B%0A%0A%20%20%20%20%20%20%20%20%0A%20%20%20%20%20%20%20%20%20%20%20%20var%20html_a6245d60dcd24846b0b055bceedfeefb%20%3D%20%24%28%60%3Cdiv%20id%3D%22html_a6245d60dcd24846b0b055bceedfeefb%22%20style%3D%22width%3A%20100.0%25%3B%20height%3A%20100.0%25%3B%22%3ECommercial%20at%20Montgomery%3C/div%3E%60%29%5B0%5D%3B%0A%20%20%20%20%20%20%20%20%20%20%20%20popup_22352cbcafb849c0bba07782ccbacb00.setContent%28html_a6245d60dcd24846b0b055bceedfeefb%29%3B%0A%20%20%20%20%20%20%20%20%0A%0A%20%20%20%20%20%20%20%20marker_ee8df2787229476c8f78c13d7cabc54a.bindPopup%28popup_22352cbcafb849c0bba07782ccbacb00%29%0A%20%20%20%20%20%20%20%20%3B%0A%0A%20%20%20%20%20%20%20%20%0A%20%20%20%20%0A%20%20%20%20%0A%20%20%20%20%20%20%20%20%20%20%20%20var%20marker_0a4b875f3a5249db819fa6ce5a7dfb8e%20%3D%20L.marker%28%0A%20%20%20%20%20%20%20%20%20%20%20%20%20%20%20%20%5B37.795425%2C%20-122.404767%5D%2C%0A%20%20%20%20%20%20%20%20%20%20%20%20%20%20%20%20%7B%7D%0A%20%20%20%20%20%20%20%20%20%20%20%20%29.addTo%28map_ad22699887b149f2ae8148e44d68e447%29%3B%0A%20%20%20%20%20%20%20%20%0A%20%20%20%20%0A%20%20%20%20%20%20%20%20%20%20%20%20var%20icon_29466f06004a4031b24acba2bd12db88%20%3D%20L.AwesomeMarkers.icon%28%0A%20%20%20%20%20%20%20%20%20%20%20%20%20%20%20%20%7B%22extraClasses%22%3A%20%22fa-rotate-0%22%2C%20%22icon%22%3A%20%22sign-blank%22%2C%20%22iconColor%22%3A%20%22white%22%2C%20%22markerColor%22%3A%20%22blue%22%2C%20%22prefix%22%3A%20%22glyphicon%22%7D%0A%20%20%20%20%20%20%20%20%20%20%20%20%29%3B%0A%20%20%20%20%20%20%20%20%20%20%20%20marker_0a4b875f3a5249db819fa6ce5a7dfb8e.setIcon%28icon_29466f06004a4031b24acba2bd12db88%29%3B%0A%20%20%20%20%20%20%20%20%0A%20%20%20%20%0A%20%20%20%20%20%20%20%20var%20popup_1986b2cbecaa48e0a9e609d2eec54d7d%20%3D%20L.popup%28%7B%22maxWidth%22%3A%20%22100%25%22%7D%29%3B%0A%0A%20%20%20%20%20%20%20%20%0A%20%20%20%20%20%20%20%20%20%20%20%20var%20html_6b39c0554b25430e90be6cc69538f2a0%20%3D%20%24%28%60%3Cdiv%20id%3D%22html_6b39c0554b25430e90be6cc69538f2a0%22%20style%3D%22width%3A%20100.0%25%3B%20height%3A%20100.0%25%3B%22%3EWashington%20at%20Kearney%3C/div%3E%60%29%5B0%5D%3B%0A%20%20%20%20%20%20%20%20%20%20%20%20popup_1986b2cbecaa48e0a9e609d2eec54d7d.setContent%28html_6b39c0554b25430e90be6cc69538f2a0%29%3B%0A%20%20%20%20%20%20%20%20%0A%0A%20%20%20%20%20%20%20%20marker_0a4b875f3a5249db819fa6ce5a7dfb8e.bindPopup%28popup_1986b2cbecaa48e0a9e609d2eec54d7d%29%0A%20%20%20%20%20%20%20%20%3B%0A%0A%20%20%20%20%20%20%20%20%0A%20%20%20%20%0A%20%20%20%20%0A%20%20%20%20%20%20%20%20%20%20%20%20var%20marker_f280778bb22a49489e224813f70794b8%20%3D%20L.marker%28%0A%20%20%20%20%20%20%20%20%20%20%20%20%20%20%20%20%5B37.788975%2C%20-122.403452%5D%2C%0A%20%20%20%20%20%20%20%20%20%20%20%20%20%20%20%20%7B%7D%0A%20%20%20%20%20%20%20%20%20%20%20%20%29.addTo%28map_ad22699887b149f2ae8148e44d68e447%29%3B%0A%20%20%20%20%20%20%20%20%0A%20%20%20%20%0A%20%20%20%20%20%20%20%20%20%20%20%20var%20icon_aa34b8443e71489ab94ebcdecf719c25%20%3D%20L.AwesomeMarkers.icon%28%0A%20%20%20%20%20%20%20%20%20%20%20%20%20%20%20%20%7B%22extraClasses%22%3A%20%22fa-rotate-0%22%2C%20%22icon%22%3A%20%22sign-blank%22%2C%20%22iconColor%22%3A%20%22white%22%2C%20%22markerColor%22%3A%20%22blue%22%2C%20%22prefix%22%3A%20%22glyphicon%22%7D%0A%20%20%20%20%20%20%20%20%20%20%20%20%29%3B%0A%20%20%20%20%20%20%20%20%20%20%20%20marker_f280778bb22a49489e224813f70794b8.setIcon%28icon_aa34b8443e71489ab94ebcdecf719c25%29%3B%0A%20%20%20%20%20%20%20%20%0A%20%20%20%20%0A%20%20%20%20%20%20%20%20var%20popup_8ce773d878bc44bb881bc4057b3c843e%20%3D%20L.popup%28%7B%22maxWidth%22%3A%20%22100%25%22%7D%29%3B%0A%0A%20%20%20%20%20%20%20%20%0A%20%20%20%20%20%20%20%20%20%20%20%20var%20html_a20d6f1114c84b8ea03ba486e680259c%20%3D%20%24%28%60%3Cdiv%20id%3D%22html_a20d6f1114c84b8ea03ba486e680259c%22%20style%3D%22width%3A%20100.0%25%3B%20height%3A%20100.0%25%3B%22%3EPost%20at%20Kearney%3C/div%3E%60%29%5B0%5D%3B%0A%20%20%20%20%20%20%20%20%20%20%20%20popup_8ce773d878bc44bb881bc4057b3c843e.setContent%28html_a20d6f1114c84b8ea03ba486e680259c%29%3B%0A%20%20%20%20%20%20%20%20%0A%0A%20%20%20%20%20%20%20%20marker_f280778bb22a49489e224813f70794b8.bindPopup%28popup_8ce773d878bc44bb881bc4057b3c843e%29%0A%20%20%20%20%20%20%20%20%3B%0A%0A%20%20%20%20%20%20%20%20%0A%20%20%20%20%0A%20%20%20%20%0A%20%20%20%20%20%20%20%20%20%20%20%20var%20marker_0ebe7c89d5ec4023af773af1e697e53d%20%3D%20L.marker%28%0A%20%20%20%20%20%20%20%20%20%20%20%20%20%20%20%20%5B37.799953%2C%20-122.398525%5D%2C%0A%20%20%20%20%20%20%20%20%20%20%20%20%20%20%20%20%7B%7D%0A%20%20%20%20%20%20%20%20%20%20%20%20%29.addTo%28map_ad22699887b149f2ae8148e44d68e447%29%3B%0A%20%20%20%20%20%20%20%20%0A%20%20%20%20%0A%20%20%20%20%20%20%20%20%20%20%20%20var%20icon_f55631c6ef6d489583a17fe0d631e151%20%3D%20L.AwesomeMarkers.icon%28%0A%20%20%20%20%20%20%20%20%20%20%20%20%20%20%20%20%7B%22extraClasses%22%3A%20%22fa-rotate-0%22%2C%20%22icon%22%3A%20%22sign-blank%22%2C%20%22iconColor%22%3A%20%22white%22%2C%20%22markerColor%22%3A%20%22blue%22%2C%20%22prefix%22%3A%20%22glyphicon%22%7D%0A%20%20%20%20%20%20%20%20%20%20%20%20%29%3B%0A%20%20%20%20%20%20%20%20%20%20%20%20marker_0ebe7c89d5ec4023af773af1e697e53d.setIcon%28icon_f55631c6ef6d489583a17fe0d631e151%29%3B%0A%20%20%20%20%20%20%20%20%0A%20%20%20%20%0A%20%20%20%20%20%20%20%20var%20popup_716e5cf468e043dcbbb15c5f68eb2995%20%3D%20L.popup%28%7B%22maxWidth%22%3A%20%22100%25%22%7D%29%3B%0A%0A%20%20%20%20%20%20%20%20%0A%20%20%20%20%20%20%20%20%20%20%20%20var%20html_0bb267dad5a24318854d255002b7455d%20%3D%20%24%28%60%3Cdiv%20id%3D%22html_0bb267dad5a24318854d255002b7455d%22%20style%3D%22width%3A%20100.0%25%3B%20height%3A%20100.0%25%3B%22%3EEmbarcadero%20at%20Vallejo%3C/div%3E%60%29%5B0%5D%3B%0A%20%20%20%20%20%20%20%20%20%20%20%20popup_716e5cf468e043dcbbb15c5f68eb2995.setContent%28html_0bb267dad5a24318854d255002b7455d%29%3B%0A%20%20%20%20%20%20%20%20%0A%0A%20%20%20%20%20%20%20%20marker_0ebe7c89d5ec4023af773af1e697e53d.bindPopup%28popup_716e5cf468e043dcbbb15c5f68eb2995%29%0A%20%20%20%20%20%20%20%20%3B%0A%0A%20%20%20%20%20%20%20%20%0A%20%20%20%20%0A%20%20%20%20%0A%20%20%20%20%20%20%20%20%20%20%20%20var%20marker_b4a017940ea64797ba2b9304f4219e46%20%3D%20L.marker%28%0A%20%20%20%20%20%20%20%20%20%20%20%20%20%20%20%20%5B37.790302%2C%20-122.390637%5D%2C%0A%20%20%20%20%20%20%20%20%20%20%20%20%20%20%20%20%7B%7D%0A%20%20%20%20%20%20%20%20%20%20%20%20%29.addTo%28map_ad22699887b149f2ae8148e44d68e447%29%3B%0A%20%20%20%20%20%20%20%20%0A%20%20%20%20%0A%20%20%20%20%20%20%20%20%20%20%20%20var%20icon_3db7a2b81744424ca8e86f2d9aec66b1%20%3D%20L.AwesomeMarkers.icon%28%0A%20%20%20%20%20%20%20%20%20%20%20%20%20%20%20%20%7B%22extraClasses%22%3A%20%22fa-rotate-0%22%2C%20%22icon%22%3A%20%22sign-blank%22%2C%20%22iconColor%22%3A%20%22white%22%2C%20%22markerColor%22%3A%20%22blue%22%2C%20%22prefix%22%3A%20%22glyphicon%22%7D%0A%20%20%20%20%20%20%20%20%20%20%20%20%29%3B%0A%20%20%20%20%20%20%20%20%20%20%20%20marker_b4a017940ea64797ba2b9304f4219e46.setIcon%28icon_3db7a2b81744424ca8e86f2d9aec66b1%29%3B%0A%20%20%20%20%20%20%20%20%0A%20%20%20%20%0A%20%20%20%20%20%20%20%20var%20popup_5161d27e21a141a280a7e30f708aff38%20%3D%20L.popup%28%7B%22maxWidth%22%3A%20%22100%25%22%7D%29%3B%0A%0A%20%20%20%20%20%20%20%20%0A%20%20%20%20%20%20%20%20%20%20%20%20var%20html_d20bc474bb9a4557ab78ad1595a4b87c%20%3D%20%24%28%60%3Cdiv%20id%3D%22html_d20bc474bb9a4557ab78ad1595a4b87c%22%20style%3D%22width%3A%20100.0%25%3B%20height%3A%20100.0%25%3B%22%3ESpear%20at%20Folsom%3C/div%3E%60%29%5B0%5D%3B%0A%20%20%20%20%20%20%20%20%20%20%20%20popup_5161d27e21a141a280a7e30f708aff38.setContent%28html_d20bc474bb9a4557ab78ad1595a4b87c%29%3B%0A%20%20%20%20%20%20%20%20%0A%0A%20%20%20%20%20%20%20%20marker_b4a017940ea64797ba2b9304f4219e46.bindPopup%28popup_5161d27e21a141a280a7e30f708aff38%29%0A%20%20%20%20%20%20%20%20%3B%0A%0A%20%20%20%20%20%20%20%20%0A%20%20%20%20%0A%20%20%20%20%0A%20%20%20%20%20%20%20%20%20%20%20%20var%20marker_4c4099671da7421694b2f1ce30d559a0%20%3D%20L.marker%28%0A%20%20%20%20%20%20%20%20%20%20%20%20%20%20%20%20%5B37.795392%2C%20-122.394203%5D%2C%0A%20%20%20%20%20%20%20%20%20%20%20%20%20%20%20%20%7B%7D%0A%20%20%20%20%20%20%20%20%20%20%20%20%29.addTo%28map_ad22699887b149f2ae8148e44d68e447%29%3B%0A%20%20%20%20%20%20%20%20%0A%20%20%20%20%0A%20%20%20%20%20%20%20%20%20%20%20%20var%20icon_06b8a35f46414625aa167e6dabc4fbb8%20%3D%20L.AwesomeMarkers.icon%28%0A%20%20%20%20%20%20%20%20%20%20%20%20%20%20%20%20%7B%22extraClasses%22%3A%20%22fa-rotate-0%22%2C%20%22icon%22%3A%20%22sign-blank%22%2C%20%22iconColor%22%3A%20%22white%22%2C%20%22markerColor%22%3A%20%22blue%22%2C%20%22prefix%22%3A%20%22glyphicon%22%7D%0A%20%20%20%20%20%20%20%20%20%20%20%20%29%3B%0A%20%20%20%20%20%20%20%20%20%20%20%20marker_4c4099671da7421694b2f1ce30d559a0.setIcon%28icon_06b8a35f46414625aa167e6dabc4fbb8%29%3B%0A%20%20%20%20%20%20%20%20%0A%20%20%20%20%0A%20%20%20%20%20%20%20%20var%20popup_9ea16ceb8f824aeb8ff008ff6647a0c7%20%3D%20L.popup%28%7B%22maxWidth%22%3A%20%22100%25%22%7D%29%3B%0A%0A%20%20%20%20%20%20%20%20%0A%20%20%20%20%20%20%20%20%20%20%20%20var%20html_da8dc8edf44c4b7c9218dd6f530fb294%20%3D%20%24%28%60%3Cdiv%20id%3D%22html_da8dc8edf44c4b7c9218dd6f530fb294%22%20style%3D%22width%3A%20100.0%25%3B%20height%3A%20100.0%25%3B%22%3EHarry%20Bridges%20Plaza%20%28Ferry%20Building%29%3C/div%3E%60%29%5B0%5D%3B%0A%20%20%20%20%20%20%20%20%20%20%20%20popup_9ea16ceb8f824aeb8ff008ff6647a0c7.setContent%28html_da8dc8edf44c4b7c9218dd6f530fb294%29%3B%0A%20%20%20%20%20%20%20%20%0A%0A%20%20%20%20%20%20%20%20marker_4c4099671da7421694b2f1ce30d559a0.bindPopup%28popup_9ea16ceb8f824aeb8ff008ff6647a0c7%29%0A%20%20%20%20%20%20%20%20%3B%0A%0A%20%20%20%20%20%20%20%20%0A%20%20%20%20%0A%20%20%20%20%0A%20%20%20%20%20%20%20%20%20%20%20%20var%20marker_39d75f909e924fe5969f0df4f4d5594b%20%3D%20L.marker%28%0A%20%20%20%20%20%20%20%20%20%20%20%20%20%20%20%20%5B37.791464%2C%20-122.391034%5D%2C%0A%20%20%20%20%20%20%20%20%20%20%20%20%20%20%20%20%7B%7D%0A%20%20%20%20%20%20%20%20%20%20%20%20%29.addTo%28map_ad22699887b149f2ae8148e44d68e447%29%3B%0A%20%20%20%20%20%20%20%20%0A%20%20%20%20%0A%20%20%20%20%20%20%20%20%20%20%20%20var%20icon_cf2b9d3a89ae44eb911280a437790812%20%3D%20L.AwesomeMarkers.icon%28%0A%20%20%20%20%20%20%20%20%20%20%20%20%20%20%20%20%7B%22extraClasses%22%3A%20%22fa-rotate-0%22%2C%20%22icon%22%3A%20%22sign-blank%22%2C%20%22iconColor%22%3A%20%22white%22%2C%20%22markerColor%22%3A%20%22blue%22%2C%20%22prefix%22%3A%20%22glyphicon%22%7D%0A%20%20%20%20%20%20%20%20%20%20%20%20%29%3B%0A%20%20%20%20%20%20%20%20%20%20%20%20marker_39d75f909e924fe5969f0df4f4d5594b.setIcon%28icon_cf2b9d3a89ae44eb911280a437790812%29%3B%0A%20%20%20%20%20%20%20%20%0A%20%20%20%20%0A%20%20%20%20%20%20%20%20var%20popup_6128452f09cb49a8837f660d9852b33c%20%3D%20L.popup%28%7B%22maxWidth%22%3A%20%22100%25%22%7D%29%3B%0A%0A%20%20%20%20%20%20%20%20%0A%20%20%20%20%20%20%20%20%20%20%20%20var%20html_e115c812334a4e4c90be84fe8eb49c60%20%3D%20%24%28%60%3Cdiv%20id%3D%22html_e115c812334a4e4c90be84fe8eb49c60%22%20style%3D%22width%3A%20100.0%25%3B%20height%3A%20100.0%25%3B%22%3EEmbarcadero%20at%20Folsom%3C/div%3E%60%29%5B0%5D%3B%0A%20%20%20%20%20%20%20%20%20%20%20%20popup_6128452f09cb49a8837f660d9852b33c.setContent%28html_e115c812334a4e4c90be84fe8eb49c60%29%3B%0A%20%20%20%20%20%20%20%20%0A%0A%20%20%20%20%20%20%20%20marker_39d75f909e924fe5969f0df4f4d5594b.bindPopup%28popup_6128452f09cb49a8837f660d9852b33c%29%0A%20%20%20%20%20%20%20%20%3B%0A%0A%20%20%20%20%20%20%20%20%0A%20%20%20%20%0A%20%20%20%20%0A%20%20%20%20%20%20%20%20%20%20%20%20var%20marker_2e67969d941244a2857176e6b2f5562a%20%3D%20L.marker%28%0A%20%20%20%20%20%20%20%20%20%20%20%20%20%20%20%20%5B37.783871%2C%20-122.408433%5D%2C%0A%20%20%20%20%20%20%20%20%20%20%20%20%20%20%20%20%7B%7D%0A%20%20%20%20%20%20%20%20%20%20%20%20%29.addTo%28map_ad22699887b149f2ae8148e44d68e447%29%3B%0A%20%20%20%20%20%20%20%20%0A%20%20%20%20%0A%20%20%20%20%20%20%20%20%20%20%20%20var%20icon_f764cd72d967455796c3cae1df02240e%20%3D%20L.AwesomeMarkers.icon%28%0A%20%20%20%20%20%20%20%20%20%20%20%20%20%20%20%20%7B%22extraClasses%22%3A%20%22fa-rotate-0%22%2C%20%22icon%22%3A%20%22sign-blank%22%2C%20%22iconColor%22%3A%20%22white%22%2C%20%22markerColor%22%3A%20%22blue%22%2C%20%22prefix%22%3A%20%22glyphicon%22%7D%0A%20%20%20%20%20%20%20%20%20%20%20%20%29%3B%0A%20%20%20%20%20%20%20%20%20%20%20%20marker_2e67969d941244a2857176e6b2f5562a.setIcon%28icon_f764cd72d967455796c3cae1df02240e%29%3B%0A%20%20%20%20%20%20%20%20%0A%20%20%20%20%0A%20%20%20%20%20%20%20%20var%20popup_a3f9a513935e44869888e4518fe9dafa%20%3D%20L.popup%28%7B%22maxWidth%22%3A%20%22100%25%22%7D%29%3B%0A%0A%20%20%20%20%20%20%20%20%0A%20%20%20%20%20%20%20%20%20%20%20%20var%20html_2394474184c343a4aed549645d7ababc%20%3D%20%24%28%60%3Cdiv%20id%3D%22html_2394474184c343a4aed549645d7ababc%22%20style%3D%22width%3A%20100.0%25%3B%20height%3A%20100.0%25%3B%22%3EPowell%20Street%20BART%3C/div%3E%60%29%5B0%5D%3B%0A%20%20%20%20%20%20%20%20%20%20%20%20popup_a3f9a513935e44869888e4518fe9dafa.setContent%28html_2394474184c343a4aed549645d7ababc%29%3B%0A%20%20%20%20%20%20%20%20%0A%0A%20%20%20%20%20%20%20%20marker_2e67969d941244a2857176e6b2f5562a.bindPopup%28popup_a3f9a513935e44869888e4518fe9dafa%29%0A%20%20%20%20%20%20%20%20%3B%0A%0A%20%20%20%20%20%20%20%20%0A%20%20%20%20%0A%20%20%20%20%0A%20%20%20%20%20%20%20%20%20%20%20%20var%20marker_0e75086859f3466b881bab382e6d1523%20%3D%20L.marker%28%0A%20%20%20%20%20%20%20%20%20%20%20%20%20%20%20%20%5B37.787152%2C%20-122.388013%5D%2C%0A%20%20%20%20%20%20%20%20%20%20%20%20%20%20%20%20%7B%7D%0A%20%20%20%20%20%20%20%20%20%20%20%20%29.addTo%28map_ad22699887b149f2ae8148e44d68e447%29%3B%0A%20%20%20%20%20%20%20%20%0A%20%20%20%20%0A%20%20%20%20%20%20%20%20%20%20%20%20var%20icon_dbb69796a70243179ab3edec9ec3718d%20%3D%20L.AwesomeMarkers.icon%28%0A%20%20%20%20%20%20%20%20%20%20%20%20%20%20%20%20%7B%22extraClasses%22%3A%20%22fa-rotate-0%22%2C%20%22icon%22%3A%20%22sign-blank%22%2C%20%22iconColor%22%3A%20%22white%22%2C%20%22markerColor%22%3A%20%22blue%22%2C%20%22prefix%22%3A%20%22glyphicon%22%7D%0A%20%20%20%20%20%20%20%20%20%20%20%20%29%3B%0A%20%20%20%20%20%20%20%20%20%20%20%20marker_0e75086859f3466b881bab382e6d1523.setIcon%28icon_dbb69796a70243179ab3edec9ec3718d%29%3B%0A%20%20%20%20%20%20%20%20%0A%20%20%20%20%0A%20%20%20%20%20%20%20%20var%20popup_8ebff4096b5d4745a5ae17c821bb8ab1%20%3D%20L.popup%28%7B%22maxWidth%22%3A%20%22100%25%22%7D%29%3B%0A%0A%20%20%20%20%20%20%20%20%0A%20%20%20%20%20%20%20%20%20%20%20%20var%20html_a121b9ba2b3045029dfab484847271c5%20%3D%20%24%28%60%3Cdiv%20id%3D%22html_a121b9ba2b3045029dfab484847271c5%22%20style%3D%22width%3A%20100.0%25%3B%20height%3A%20100.0%25%3B%22%3EEmbarcadero%20at%20Bryant%3C/div%3E%60%29%5B0%5D%3B%0A%20%20%20%20%20%20%20%20%20%20%20%20popup_8ebff4096b5d4745a5ae17c821bb8ab1.setContent%28html_a121b9ba2b3045029dfab484847271c5%29%3B%0A%20%20%20%20%20%20%20%20%0A%0A%20%20%20%20%20%20%20%20marker_0e75086859f3466b881bab382e6d1523.bindPopup%28popup_8ebff4096b5d4745a5ae17c821bb8ab1%29%0A%20%20%20%20%20%20%20%20%3B%0A%0A%20%20%20%20%20%20%20%20%0A%20%20%20%20%0A%20%20%20%20%0A%20%20%20%20%20%20%20%20%20%20%20%20var%20marker_be4d4a7dcbbb4728ab5e8d899aa897f6%20%3D%20L.marker%28%0A%20%20%20%20%20%20%20%20%20%20%20%20%20%20%20%20%5B37.789756%2C%20-122.394643%5D%2C%0A%20%20%20%20%20%20%20%20%20%20%20%20%20%20%20%20%7B%7D%0A%20%20%20%20%20%20%20%20%20%20%20%20%29.addTo%28map_ad22699887b149f2ae8148e44d68e447%29%3B%0A%20%20%20%20%20%20%20%20%0A%20%20%20%20%0A%20%20%20%20%20%20%20%20%20%20%20%20var%20icon_0de336cf77bf46dda63f4ecb12b1d423%20%3D%20L.AwesomeMarkers.icon%28%0A%20%20%20%20%20%20%20%20%20%20%20%20%20%20%20%20%7B%22extraClasses%22%3A%20%22fa-rotate-0%22%2C%20%22icon%22%3A%20%22sign-blank%22%2C%20%22iconColor%22%3A%20%22white%22%2C%20%22markerColor%22%3A%20%22blue%22%2C%20%22prefix%22%3A%20%22glyphicon%22%7D%0A%20%20%20%20%20%20%20%20%20%20%20%20%29%3B%0A%20%20%20%20%20%20%20%20%20%20%20%20marker_be4d4a7dcbbb4728ab5e8d899aa897f6.setIcon%28icon_0de336cf77bf46dda63f4ecb12b1d423%29%3B%0A%20%20%20%20%20%20%20%20%0A%20%20%20%20%0A%20%20%20%20%20%20%20%20var%20popup_6fb075c6a77e48b0a828b57887e1e939%20%3D%20L.popup%28%7B%22maxWidth%22%3A%20%22100%25%22%7D%29%3B%0A%0A%20%20%20%20%20%20%20%20%0A%20%20%20%20%20%20%20%20%20%20%20%20var%20html_82576f7be7954e97880d504736ed8308%20%3D%20%24%28%60%3Cdiv%20id%3D%22html_82576f7be7954e97880d504736ed8308%22%20style%3D%22width%3A%20100.0%25%3B%20height%3A%20100.0%25%3B%22%3ETemporary%20Transbay%20Terminal%20%28Howard%20at%20Beale%29%3C/div%3E%60%29%5B0%5D%3B%0A%20%20%20%20%20%20%20%20%20%20%20%20popup_6fb075c6a77e48b0a828b57887e1e939.setContent%28html_82576f7be7954e97880d504736ed8308%29%3B%0A%20%20%20%20%20%20%20%20%0A%0A%20%20%20%20%20%20%20%20marker_be4d4a7dcbbb4728ab5e8d899aa897f6.bindPopup%28popup_6fb075c6a77e48b0a828b57887e1e939%29%0A%20%20%20%20%20%20%20%20%3B%0A%0A%20%20%20%20%20%20%20%20%0A%20%20%20%20%0A%20%20%20%20%0A%20%20%20%20%20%20%20%20%20%20%20%20var%20marker_abe163aba71042f6bb4e6d90dd30ee07%20%3D%20L.marker%28%0A%20%20%20%20%20%20%20%20%20%20%20%20%20%20%20%20%5B37.792251%2C%20-122.397086%5D%2C%0A%20%20%20%20%20%20%20%20%20%20%20%20%20%20%20%20%7B%7D%0A%20%20%20%20%20%20%20%20%20%20%20%20%29.addTo%28map_ad22699887b149f2ae8148e44d68e447%29%3B%0A%20%20%20%20%20%20%20%20%0A%20%20%20%20%0A%20%20%20%20%20%20%20%20%20%20%20%20var%20icon_fda10dc1a36d4ed6b792e5d98f60c3b4%20%3D%20L.AwesomeMarkers.icon%28%0A%20%20%20%20%20%20%20%20%20%20%20%20%20%20%20%20%7B%22extraClasses%22%3A%20%22fa-rotate-0%22%2C%20%22icon%22%3A%20%22sign-blank%22%2C%20%22iconColor%22%3A%20%22white%22%2C%20%22markerColor%22%3A%20%22blue%22%2C%20%22prefix%22%3A%20%22glyphicon%22%7D%0A%20%20%20%20%20%20%20%20%20%20%20%20%29%3B%0A%20%20%20%20%20%20%20%20%20%20%20%20marker_abe163aba71042f6bb4e6d90dd30ee07.setIcon%28icon_fda10dc1a36d4ed6b792e5d98f60c3b4%29%3B%0A%20%20%20%20%20%20%20%20%0A%20%20%20%20%0A%20%20%20%20%20%20%20%20var%20popup_ef14c9854e7e46e6bdc5b37a76099cef%20%3D%20L.popup%28%7B%22maxWidth%22%3A%20%22100%25%22%7D%29%3B%0A%0A%20%20%20%20%20%20%20%20%0A%20%20%20%20%20%20%20%20%20%20%20%20var%20html_c944f36f8e1d4e828033cdc7694f6221%20%3D%20%24%28%60%3Cdiv%20id%3D%22html_c944f36f8e1d4e828033cdc7694f6221%22%20style%3D%22width%3A%20100.0%25%3B%20height%3A%20100.0%25%3B%22%3EBeale%20at%20Market%3C/div%3E%60%29%5B0%5D%3B%0A%20%20%20%20%20%20%20%20%20%20%20%20popup_ef14c9854e7e46e6bdc5b37a76099cef.setContent%28html_c944f36f8e1d4e828033cdc7694f6221%29%3B%0A%20%20%20%20%20%20%20%20%0A%0A%20%20%20%20%20%20%20%20marker_abe163aba71042f6bb4e6d90dd30ee07.bindPopup%28popup_ef14c9854e7e46e6bdc5b37a76099cef%29%0A%20%20%20%20%20%20%20%20%3B%0A%0A%20%20%20%20%20%20%20%20%0A%20%20%20%20%0A%20%20%20%20%0A%20%20%20%20%20%20%20%20%20%20%20%20var%20marker_51e356324373412ebc9b4e39dcb552d7%20%3D%20L.marker%28%0A%20%20%20%20%20%20%20%20%20%20%20%20%20%20%20%20%5B37.781752%2C%20-122.405127%5D%2C%0A%20%20%20%20%20%20%20%20%20%20%20%20%20%20%20%20%7B%7D%0A%20%20%20%20%20%20%20%20%20%20%20%20%29.addTo%28map_ad22699887b149f2ae8148e44d68e447%29%3B%0A%20%20%20%20%20%20%20%20%0A%20%20%20%20%0A%20%20%20%20%20%20%20%20%20%20%20%20var%20icon_de041dc220f442edb74ec716ebd57b3c%20%3D%20L.AwesomeMarkers.icon%28%0A%20%20%20%20%20%20%20%20%20%20%20%20%20%20%20%20%7B%22extraClasses%22%3A%20%22fa-rotate-0%22%2C%20%22icon%22%3A%20%22sign-blank%22%2C%20%22iconColor%22%3A%20%22white%22%2C%20%22markerColor%22%3A%20%22blue%22%2C%20%22prefix%22%3A%20%22glyphicon%22%7D%0A%20%20%20%20%20%20%20%20%20%20%20%20%29%3B%0A%20%20%20%20%20%20%20%20%20%20%20%20marker_51e356324373412ebc9b4e39dcb552d7.setIcon%28icon_de041dc220f442edb74ec716ebd57b3c%29%3B%0A%20%20%20%20%20%20%20%20%0A%20%20%20%20%0A%20%20%20%20%20%20%20%20var%20popup_ad64710489b54a17957210eaeb2ac15f%20%3D%20L.popup%28%7B%22maxWidth%22%3A%20%22100%25%22%7D%29%3B%0A%0A%20%20%20%20%20%20%20%20%0A%20%20%20%20%20%20%20%20%20%20%20%20var%20html_c067bdb1c36b4c36b687a383e12adf38%20%3D%20%24%28%60%3Cdiv%20id%3D%22html_c067bdb1c36b4c36b687a383e12adf38%22%20style%3D%22width%3A%20100.0%25%3B%20height%3A%20100.0%25%3B%22%3E5th%20at%20Howard%3C/div%3E%60%29%5B0%5D%3B%0A%20%20%20%20%20%20%20%20%20%20%20%20popup_ad64710489b54a17957210eaeb2ac15f.setContent%28html_c067bdb1c36b4c36b687a383e12adf38%29%3B%0A%20%20%20%20%20%20%20%20%0A%0A%20%20%20%20%20%20%20%20marker_51e356324373412ebc9b4e39dcb552d7.bindPopup%28popup_ad64710489b54a17957210eaeb2ac15f%29%0A%20%20%20%20%20%20%20%20%3B%0A%0A%20%20%20%20%20%20%20%20%0A%20%20%20%20%0A%20%20%20%20%0A%20%20%20%20%20%20%20%20%20%20%20%20var%20marker_18fe87da7efc449d936033efcb86117d%20%3D%20L.marker%28%0A%20%20%20%20%20%20%20%20%20%20%20%20%20%20%20%20%5B37.77865%2C%20-122.418235%5D%2C%0A%20%20%20%20%20%20%20%20%20%20%20%20%20%20%20%20%7B%7D%0A%20%20%20%20%20%20%20%20%20%20%20%20%29.addTo%28map_ad22699887b149f2ae8148e44d68e447%29%3B%0A%20%20%20%20%20%20%20%20%0A%20%20%20%20%0A%20%20%20%20%20%20%20%20%20%20%20%20var%20icon_8dab4049604a4e6fb661cfc6c58735d0%20%3D%20L.AwesomeMarkers.icon%28%0A%20%20%20%20%20%20%20%20%20%20%20%20%20%20%20%20%7B%22extraClasses%22%3A%20%22fa-rotate-0%22%2C%20%22icon%22%3A%20%22sign-blank%22%2C%20%22iconColor%22%3A%20%22white%22%2C%20%22markerColor%22%3A%20%22blue%22%2C%20%22prefix%22%3A%20%22glyphicon%22%7D%0A%20%20%20%20%20%20%20%20%20%20%20%20%29%3B%0A%20%20%20%20%20%20%20%20%20%20%20%20marker_18fe87da7efc449d936033efcb86117d.setIcon%28icon_8dab4049604a4e6fb661cfc6c58735d0%29%3B%0A%20%20%20%20%20%20%20%20%0A%20%20%20%20%0A%20%20%20%20%20%20%20%20var%20popup_b408b92e687e4c6cbad46f0abe9e3579%20%3D%20L.popup%28%7B%22maxWidth%22%3A%20%22100%25%22%7D%29%3B%0A%0A%20%20%20%20%20%20%20%20%0A%20%20%20%20%20%20%20%20%20%20%20%20var%20html_ea5cadfb1cc1469f88e4dc20c77cc3c0%20%3D%20%24%28%60%3Cdiv%20id%3D%22html_ea5cadfb1cc1469f88e4dc20c77cc3c0%22%20style%3D%22width%3A%20100.0%25%3B%20height%3A%20100.0%25%3B%22%3ESan%20Francisco%20City%20Hall%3C/div%3E%60%29%5B0%5D%3B%0A%20%20%20%20%20%20%20%20%20%20%20%20popup_b408b92e687e4c6cbad46f0abe9e3579.setContent%28html_ea5cadfb1cc1469f88e4dc20c77cc3c0%29%3B%0A%20%20%20%20%20%20%20%20%0A%0A%20%20%20%20%20%20%20%20marker_18fe87da7efc449d936033efcb86117d.bindPopup%28popup_b408b92e687e4c6cbad46f0abe9e3579%29%0A%20%20%20%20%20%20%20%20%3B%0A%0A%20%20%20%20%20%20%20%20%0A%20%20%20%20%0A%20%20%20%20%0A%20%20%20%20%20%20%20%20%20%20%20%20var%20marker_ce0a8a05cef04ffc9cd4f70021d45768%20%3D%20L.marker%28%0A%20%20%20%20%20%20%20%20%20%20%20%20%20%20%20%20%5B37.781332%2C%20-122.418603%5D%2C%0A%20%20%20%20%20%20%20%20%20%20%20%20%20%20%20%20%7B%7D%0A%20%20%20%20%20%20%20%20%20%20%20%20%29.addTo%28map_ad22699887b149f2ae8148e44d68e447%29%3B%0A%20%20%20%20%20%20%20%20%0A%20%20%20%20%0A%20%20%20%20%20%20%20%20%20%20%20%20var%20icon_e0e65e9f71af4962b7d2a219f18b8b4e%20%3D%20L.AwesomeMarkers.icon%28%0A%20%20%20%20%20%20%20%20%20%20%20%20%20%20%20%20%7B%22extraClasses%22%3A%20%22fa-rotate-0%22%2C%20%22icon%22%3A%20%22sign-blank%22%2C%20%22iconColor%22%3A%20%22white%22%2C%20%22markerColor%22%3A%20%22blue%22%2C%20%22prefix%22%3A%20%22glyphicon%22%7D%0A%20%20%20%20%20%20%20%20%20%20%20%20%29%3B%0A%20%20%20%20%20%20%20%20%20%20%20%20marker_ce0a8a05cef04ffc9cd4f70021d45768.setIcon%28icon_e0e65e9f71af4962b7d2a219f18b8b4e%29%3B%0A%20%20%20%20%20%20%20%20%0A%20%20%20%20%0A%20%20%20%20%20%20%20%20var%20popup_e435c0aee32945d3af73933ff80e637e%20%3D%20L.popup%28%7B%22maxWidth%22%3A%20%22100%25%22%7D%29%3B%0A%0A%20%20%20%20%20%20%20%20%0A%20%20%20%20%20%20%20%20%20%20%20%20var%20html_bf4ec4dde31d48a6beb8f382a9a91a7f%20%3D%20%24%28%60%3Cdiv%20id%3D%22html_bf4ec4dde31d48a6beb8f382a9a91a7f%22%20style%3D%22width%3A%20100.0%25%3B%20height%3A%20100.0%25%3B%22%3EGolden%20Gate%20at%20Polk%3C/div%3E%60%29%5B0%5D%3B%0A%20%20%20%20%20%20%20%20%20%20%20%20popup_e435c0aee32945d3af73933ff80e637e.setContent%28html_bf4ec4dde31d48a6beb8f382a9a91a7f%29%3B%0A%20%20%20%20%20%20%20%20%0A%0A%20%20%20%20%20%20%20%20marker_ce0a8a05cef04ffc9cd4f70021d45768.bindPopup%28popup_e435c0aee32945d3af73933ff80e637e%29%0A%20%20%20%20%20%20%20%20%3B%0A%0A%20%20%20%20%20%20%20%20%0A%20%20%20%20%0A%20%20%20%20%0A%20%20%20%20%20%20%20%20%20%20%20%20var%20marker_533faadd4f0741689286d4477f0a4e57%20%3D%20L.marker%28%0A%20%20%20%20%20%20%20%20%20%20%20%20%20%20%20%20%5B37.80477%2C%20-122.403234%5D%2C%0A%20%20%20%20%20%20%20%20%20%20%20%20%20%20%20%20%7B%7D%0A%20%20%20%20%20%20%20%20%20%20%20%20%29.addTo%28map_ad22699887b149f2ae8148e44d68e447%29%3B%0A%20%20%20%20%20%20%20%20%0A%20%20%20%20%0A%20%20%20%20%20%20%20%20%20%20%20%20var%20icon_06efdb7423be44498b555f19d8f7ad06%20%3D%20L.AwesomeMarkers.icon%28%0A%20%20%20%20%20%20%20%20%20%20%20%20%20%20%20%20%7B%22extraClasses%22%3A%20%22fa-rotate-0%22%2C%20%22icon%22%3A%20%22sign-blank%22%2C%20%22iconColor%22%3A%20%22white%22%2C%20%22markerColor%22%3A%20%22blue%22%2C%20%22prefix%22%3A%20%22glyphicon%22%7D%0A%20%20%20%20%20%20%20%20%20%20%20%20%29%3B%0A%20%20%20%20%20%20%20%20%20%20%20%20marker_533faadd4f0741689286d4477f0a4e57.setIcon%28icon_06efdb7423be44498b555f19d8f7ad06%29%3B%0A%20%20%20%20%20%20%20%20%0A%20%20%20%20%0A%20%20%20%20%20%20%20%20var%20popup_a75ed394b9904500bd120df99bdfa831%20%3D%20L.popup%28%7B%22maxWidth%22%3A%20%22100%25%22%7D%29%3B%0A%0A%20%20%20%20%20%20%20%20%0A%20%20%20%20%20%20%20%20%20%20%20%20var%20html_e222839935094f7aba0a60ec42edb848%20%3D%20%24%28%60%3Cdiv%20id%3D%22html_e222839935094f7aba0a60ec42edb848%22%20style%3D%22width%3A%20100.0%25%3B%20height%3A%20100.0%25%3B%22%3EEmbarcadero%20at%20Sansome%3C/div%3E%60%29%5B0%5D%3B%0A%20%20%20%20%20%20%20%20%20%20%20%20popup_a75ed394b9904500bd120df99bdfa831.setContent%28html_e222839935094f7aba0a60ec42edb848%29%3B%0A%20%20%20%20%20%20%20%20%0A%0A%20%20%20%20%20%20%20%20marker_533faadd4f0741689286d4477f0a4e57.bindPopup%28popup_a75ed394b9904500bd120df99bdfa831%29%0A%20%20%20%20%20%20%20%20%3B%0A%0A%20%20%20%20%20%20%20%20%0A%20%20%20%20%0A%20%20%20%20%0A%20%20%20%20%20%20%20%20%20%20%20%20var%20marker_33866ca105364cc4ae4786b96c35b2ae%20%3D%20L.marker%28%0A%20%20%20%20%20%20%20%20%20%20%20%20%20%20%20%20%5B37.780526%2C%20-122.390288%5D%2C%0A%20%20%20%20%20%20%20%20%20%20%20%20%20%20%20%20%7B%7D%0A%20%20%20%20%20%20%20%20%20%20%20%20%29.addTo%28map_ad22699887b149f2ae8148e44d68e447%29%3B%0A%20%20%20%20%20%20%20%20%0A%20%20%20%20%0A%20%20%20%20%20%20%20%20%20%20%20%20var%20icon_211407a69acd4a6abfb4c50afa3dec73%20%3D%20L.AwesomeMarkers.icon%28%0A%20%20%20%20%20%20%20%20%20%20%20%20%20%20%20%20%7B%22extraClasses%22%3A%20%22fa-rotate-0%22%2C%20%22icon%22%3A%20%22sign-blank%22%2C%20%22iconColor%22%3A%20%22white%22%2C%20%22markerColor%22%3A%20%22blue%22%2C%20%22prefix%22%3A%20%22glyphicon%22%7D%0A%20%20%20%20%20%20%20%20%20%20%20%20%29%3B%0A%20%20%20%20%20%20%20%20%20%20%20%20marker_33866ca105364cc4ae4786b96c35b2ae.setIcon%28icon_211407a69acd4a6abfb4c50afa3dec73%29%3B%0A%20%20%20%20%20%20%20%20%0A%20%20%20%20%0A%20%20%20%20%20%20%20%20var%20popup_a7e2db14396a41bbb043f1b8f008eb53%20%3D%20L.popup%28%7B%22maxWidth%22%3A%20%22100%25%22%7D%29%3B%0A%0A%20%20%20%20%20%20%20%20%0A%20%20%20%20%20%20%20%20%20%20%20%20var%20html_f34df0ec29584c7995399e7341580a54%20%3D%20%24%28%60%3Cdiv%20id%3D%22html_f34df0ec29584c7995399e7341580a54%22%20style%3D%22width%3A%20100.0%25%3B%20height%3A%20100.0%25%3B%22%3E2nd%20at%20Townsend%3C/div%3E%60%29%5B0%5D%3B%0A%20%20%20%20%20%20%20%20%20%20%20%20popup_a7e2db14396a41bbb043f1b8f008eb53.setContent%28html_f34df0ec29584c7995399e7341580a54%29%3B%0A%20%20%20%20%20%20%20%20%0A%0A%20%20%20%20%20%20%20%20marker_33866ca105364cc4ae4786b96c35b2ae.bindPopup%28popup_a7e2db14396a41bbb043f1b8f008eb53%29%0A%20%20%20%20%20%20%20%20%3B%0A%0A%20%20%20%20%20%20%20%20%0A%20%20%20%20%0A%20%20%20%20%0A%20%20%20%20%20%20%20%20%20%20%20%20var%20marker_c0ca0cdbbe854772b882913b63fd4d64%20%3D%20L.marker%28%0A%20%20%20%20%20%20%20%20%20%20%20%20%20%20%20%20%5B37.785299%2C%20-122.396236%5D%2C%0A%20%20%20%20%20%20%20%20%20%20%20%20%20%20%20%20%7B%7D%0A%20%20%20%20%20%20%20%20%20%20%20%20%29.addTo%28map_ad22699887b149f2ae8148e44d68e447%29%3B%0A%20%20%20%20%20%20%20%20%0A%20%20%20%20%0A%20%20%20%20%20%20%20%20%20%20%20%20var%20icon_c47c84f550814142b9e60387acd2e4b1%20%3D%20L.AwesomeMarkers.icon%28%0A%20%20%20%20%20%20%20%20%20%20%20%20%20%20%20%20%7B%22extraClasses%22%3A%20%22fa-rotate-0%22%2C%20%22icon%22%3A%20%22sign-blank%22%2C%20%22iconColor%22%3A%20%22white%22%2C%20%22markerColor%22%3A%20%22blue%22%2C%20%22prefix%22%3A%20%22glyphicon%22%7D%0A%20%20%20%20%20%20%20%20%20%20%20%20%29%3B%0A%20%20%20%20%20%20%20%20%20%20%20%20marker_c0ca0cdbbe854772b882913b63fd4d64.setIcon%28icon_c47c84f550814142b9e60387acd2e4b1%29%3B%0A%20%20%20%20%20%20%20%20%0A%20%20%20%20%0A%20%20%20%20%20%20%20%20var%20popup_d71ae347830d4d5c9bf5490d9f79ceec%20%3D%20L.popup%28%7B%22maxWidth%22%3A%20%22100%25%22%7D%29%3B%0A%0A%20%20%20%20%20%20%20%20%0A%20%20%20%20%20%20%20%20%20%20%20%20var%20html_f2c3d7e5ac624c9596c85ea060e3a7e5%20%3D%20%24%28%60%3Cdiv%20id%3D%22html_f2c3d7e5ac624c9596c85ea060e3a7e5%22%20style%3D%22width%3A%20100.0%25%3B%20height%3A%20100.0%25%3B%22%3E2nd%20at%20Folsom%3C/div%3E%60%29%5B0%5D%3B%0A%20%20%20%20%20%20%20%20%20%20%20%20popup_d71ae347830d4d5c9bf5490d9f79ceec.setContent%28html_f2c3d7e5ac624c9596c85ea060e3a7e5%29%3B%0A%20%20%20%20%20%20%20%20%0A%0A%20%20%20%20%20%20%20%20marker_c0ca0cdbbe854772b882913b63fd4d64.bindPopup%28popup_d71ae347830d4d5c9bf5490d9f79ceec%29%0A%20%20%20%20%20%20%20%20%3B%0A%0A%20%20%20%20%20%20%20%20%0A%20%20%20%20%0A%20%20%20%20%0A%20%20%20%20%20%20%20%20%20%20%20%20var%20marker_7630a877427042b1b0272bd53ecf3f77%20%3D%20L.marker%28%0A%20%20%20%20%20%20%20%20%20%20%20%20%20%20%20%20%5B37.786978%2C%20-122.398108%5D%2C%0A%20%20%20%20%20%20%20%20%20%20%20%20%20%20%20%20%7B%7D%0A%20%20%20%20%20%20%20%20%20%20%20%20%29.addTo%28map_ad22699887b149f2ae8148e44d68e447%29%3B%0A%20%20%20%20%20%20%20%20%0A%20%20%20%20%0A%20%20%20%20%20%20%20%20%20%20%20%20var%20icon_eb24c399e33843f6a88af714ead89b99%20%3D%20L.AwesomeMarkers.icon%28%0A%20%20%20%20%20%20%20%20%20%20%20%20%20%20%20%20%7B%22extraClasses%22%3A%20%22fa-rotate-0%22%2C%20%22icon%22%3A%20%22sign-blank%22%2C%20%22iconColor%22%3A%20%22white%22%2C%20%22markerColor%22%3A%20%22blue%22%2C%20%22prefix%22%3A%20%22glyphicon%22%7D%0A%20%20%20%20%20%20%20%20%20%20%20%20%29%3B%0A%20%20%20%20%20%20%20%20%20%20%20%20marker_7630a877427042b1b0272bd53ecf3f77.setIcon%28icon_eb24c399e33843f6a88af714ead89b99%29%3B%0A%20%20%20%20%20%20%20%20%0A%20%20%20%20%0A%20%20%20%20%20%20%20%20var%20popup_da4772e27347476491452da882f8015f%20%3D%20L.popup%28%7B%22maxWidth%22%3A%20%22100%25%22%7D%29%3B%0A%0A%20%20%20%20%20%20%20%20%0A%20%20%20%20%20%20%20%20%20%20%20%20var%20html_dbb32f028e9d44479f36477263b6392f%20%3D%20%24%28%60%3Cdiv%20id%3D%22html_dbb32f028e9d44479f36477263b6392f%22%20style%3D%22width%3A%20100.0%25%3B%20height%3A%20100.0%25%3B%22%3EHoward%20at%202nd%3C/div%3E%60%29%5B0%5D%3B%0A%20%20%20%20%20%20%20%20%20%20%20%20popup_da4772e27347476491452da882f8015f.setContent%28html_dbb32f028e9d44479f36477263b6392f%29%3B%0A%20%20%20%20%20%20%20%20%0A%0A%20%20%20%20%20%20%20%20marker_7630a877427042b1b0272bd53ecf3f77.bindPopup%28popup_da4772e27347476491452da882f8015f%29%0A%20%20%20%20%20%20%20%20%3B%0A%0A%20%20%20%20%20%20%20%20%0A%20%20%20%20%0A%20%20%20%20%0A%20%20%20%20%20%20%20%20%20%20%20%20var%20marker_44003b6daae842ceb1c910d32d0eff1d%20%3D%20L.marker%28%0A%20%20%20%20%20%20%20%20%20%20%20%20%20%20%20%20%5B37.782259%2C%20-122.392738%5D%2C%0A%20%20%20%20%20%20%20%20%20%20%20%20%20%20%20%20%7B%7D%0A%20%20%20%20%20%20%20%20%20%20%20%20%29.addTo%28map_ad22699887b149f2ae8148e44d68e447%29%3B%0A%20%20%20%20%20%20%20%20%0A%20%20%20%20%0A%20%20%20%20%20%20%20%20%20%20%20%20var%20icon_16f1c15d6f4742279decc5900b328aa3%20%3D%20L.AwesomeMarkers.icon%28%0A%20%20%20%20%20%20%20%20%20%20%20%20%20%20%20%20%7B%22extraClasses%22%3A%20%22fa-rotate-0%22%2C%20%22icon%22%3A%20%22sign-blank%22%2C%20%22iconColor%22%3A%20%22white%22%2C%20%22markerColor%22%3A%20%22blue%22%2C%20%22prefix%22%3A%20%22glyphicon%22%7D%0A%20%20%20%20%20%20%20%20%20%20%20%20%29%3B%0A%20%20%20%20%20%20%20%20%20%20%20%20marker_44003b6daae842ceb1c910d32d0eff1d.setIcon%28icon_16f1c15d6f4742279decc5900b328aa3%29%3B%0A%20%20%20%20%20%20%20%20%0A%20%20%20%20%0A%20%20%20%20%20%20%20%20var%20popup_5189fbb2ed504c318ec6b3b7a8efa998%20%3D%20L.popup%28%7B%22maxWidth%22%3A%20%22100%25%22%7D%29%3B%0A%0A%20%20%20%20%20%20%20%20%0A%20%20%20%20%20%20%20%20%20%20%20%20var%20html_20a4904f7172437ab56fbc00986c5e64%20%3D%20%24%28%60%3Cdiv%20id%3D%22html_20a4904f7172437ab56fbc00986c5e64%22%20style%3D%22width%3A%20100.0%25%3B%20height%3A%20100.0%25%3B%22%3E2nd%20at%20South%20Park%3C/div%3E%60%29%5B0%5D%3B%0A%20%20%20%20%20%20%20%20%20%20%20%20popup_5189fbb2ed504c318ec6b3b7a8efa998.setContent%28html_20a4904f7172437ab56fbc00986c5e64%29%3B%0A%20%20%20%20%20%20%20%20%0A%0A%20%20%20%20%20%20%20%20marker_44003b6daae842ceb1c910d32d0eff1d.bindPopup%28popup_5189fbb2ed504c318ec6b3b7a8efa998%29%0A%20%20%20%20%20%20%20%20%3B%0A%0A%20%20%20%20%20%20%20%20%0A%20%20%20%20%0A%20%20%20%20%0A%20%20%20%20%20%20%20%20%20%20%20%20var%20marker_415ac1f19e49469d9f4f2f4c4a8d6f18%20%3D%20L.marker%28%0A%20%20%20%20%20%20%20%20%20%20%20%20%20%20%20%20%5B37.771058%2C%20-122.402717%5D%2C%0A%20%20%20%20%20%20%20%20%20%20%20%20%20%20%20%20%7B%7D%0A%20%20%20%20%20%20%20%20%20%20%20%20%29.addTo%28map_ad22699887b149f2ae8148e44d68e447%29%3B%0A%20%20%20%20%20%20%20%20%0A%20%20%20%20%0A%20%20%20%20%20%20%20%20%20%20%20%20var%20icon_341f24c7d7d84a139b6e03a3f6985a11%20%3D%20L.AwesomeMarkers.icon%28%0A%20%20%20%20%20%20%20%20%20%20%20%20%20%20%20%20%7B%22extraClasses%22%3A%20%22fa-rotate-0%22%2C%20%22icon%22%3A%20%22sign-blank%22%2C%20%22iconColor%22%3A%20%22white%22%2C%20%22markerColor%22%3A%20%22blue%22%2C%20%22prefix%22%3A%20%22glyphicon%22%7D%0A%20%20%20%20%20%20%20%20%20%20%20%20%29%3B%0A%20%20%20%20%20%20%20%20%20%20%20%20marker_415ac1f19e49469d9f4f2f4c4a8d6f18.setIcon%28icon_341f24c7d7d84a139b6e03a3f6985a11%29%3B%0A%20%20%20%20%20%20%20%20%0A%20%20%20%20%0A%20%20%20%20%20%20%20%20var%20popup_347d1233489d4b3ca1c5fe955e670516%20%3D%20L.popup%28%7B%22maxWidth%22%3A%20%22100%25%22%7D%29%3B%0A%0A%20%20%20%20%20%20%20%20%0A%20%20%20%20%20%20%20%20%20%20%20%20var%20html_416ce0d73da346359763adde5fbc1989%20%3D%20%24%28%60%3Cdiv%20id%3D%22html_416ce0d73da346359763adde5fbc1989%22%20style%3D%22width%3A%20100.0%25%3B%20height%3A%20100.0%25%3B%22%3ETownsend%20at%207th%3C/div%3E%60%29%5B0%5D%3B%0A%20%20%20%20%20%20%20%20%20%20%20%20popup_347d1233489d4b3ca1c5fe955e670516.setContent%28html_416ce0d73da346359763adde5fbc1989%29%3B%0A%20%20%20%20%20%20%20%20%0A%0A%20%20%20%20%20%20%20%20marker_415ac1f19e49469d9f4f2f4c4a8d6f18.bindPopup%28popup_347d1233489d4b3ca1c5fe955e670516%29%0A%20%20%20%20%20%20%20%20%3B%0A%0A%20%20%20%20%20%20%20%20%0A%20%20%20%20%0A%20%20%20%20%0A%20%20%20%20%20%20%20%20%20%20%20%20var%20marker_9d7b7d8d7c5c4d8eb6d79341a3ed0d30%20%3D%20L.marker%28%0A%20%20%20%20%20%20%20%20%20%20%20%20%20%20%20%20%5B37.774814%2C%20-122.418954%5D%2C%0A%20%20%20%20%20%20%20%20%20%20%20%20%20%20%20%20%7B%7D%0A%20%20%20%20%20%20%20%20%20%20%20%20%29.addTo%28map_ad22699887b149f2ae8148e44d68e447%29%3B%0A%20%20%20%20%20%20%20%20%0A%20%20%20%20%0A%20%20%20%20%20%20%20%20%20%20%20%20var%20icon_6098dd945f4540d0a793e261dbe55a45%20%3D%20L.AwesomeMarkers.icon%28%0A%20%20%20%20%20%20%20%20%20%20%20%20%20%20%20%20%7B%22extraClasses%22%3A%20%22fa-rotate-0%22%2C%20%22icon%22%3A%20%22sign-blank%22%2C%20%22iconColor%22%3A%20%22white%22%2C%20%22markerColor%22%3A%20%22blue%22%2C%20%22prefix%22%3A%20%22glyphicon%22%7D%0A%20%20%20%20%20%20%20%20%20%20%20%20%29%3B%0A%20%20%20%20%20%20%20%20%20%20%20%20marker_9d7b7d8d7c5c4d8eb6d79341a3ed0d30.setIcon%28icon_6098dd945f4540d0a793e261dbe55a45%29%3B%0A%20%20%20%20%20%20%20%20%0A%20%20%20%20%0A%20%20%20%20%20%20%20%20var%20popup_0a89a1005c0841a1b7d315c943f25632%20%3D%20L.popup%28%7B%22maxWidth%22%3A%20%22100%25%22%7D%29%3B%0A%0A%20%20%20%20%20%20%20%20%0A%20%20%20%20%20%20%20%20%20%20%20%20var%20html_fa002648720a438090b1f08ce5925002%20%3D%20%24%28%60%3Cdiv%20id%3D%22html_fa002648720a438090b1f08ce5925002%22%20style%3D%22width%3A%20100.0%25%3B%20height%3A%20100.0%25%3B%22%3ESouth%20Van%20Ness%20at%20Market%3C/div%3E%60%29%5B0%5D%3B%0A%20%20%20%20%20%20%20%20%20%20%20%20popup_0a89a1005c0841a1b7d315c943f25632.setContent%28html_fa002648720a438090b1f08ce5925002%29%3B%0A%20%20%20%20%20%20%20%20%0A%0A%20%20%20%20%20%20%20%20marker_9d7b7d8d7c5c4d8eb6d79341a3ed0d30.bindPopup%28popup_0a89a1005c0841a1b7d315c943f25632%29%0A%20%20%20%20%20%20%20%20%3B%0A%0A%20%20%20%20%20%20%20%20%0A%20%20%20%20%0A%20%20%20%20%0A%20%20%20%20%20%20%20%20%20%20%20%20var%20marker_b59f6ee3092647099c692d5881b1a2ab%20%3D%20L.marker%28%0A%20%20%20%20%20%20%20%20%20%20%20%20%20%20%20%20%5B37.776619%2C%20-122.417385%5D%2C%0A%20%20%20%20%20%20%20%20%20%20%20%20%20%20%20%20%7B%7D%0A%20%20%20%20%20%20%20%20%20%20%20%20%29.addTo%28map_ad22699887b149f2ae8148e44d68e447%29%3B%0A%20%20%20%20%20%20%20%20%0A%20%20%20%20%0A%20%20%20%20%20%20%20%20%20%20%20%20var%20icon_36723312381b40d0b10dae851322114a%20%3D%20L.AwesomeMarkers.icon%28%0A%20%20%20%20%20%20%20%20%20%20%20%20%20%20%20%20%7B%22extraClasses%22%3A%20%22fa-rotate-0%22%2C%20%22icon%22%3A%20%22sign-blank%22%2C%20%22iconColor%22%3A%20%22white%22%2C%20%22markerColor%22%3A%20%22blue%22%2C%20%22prefix%22%3A%20%22glyphicon%22%7D%0A%20%20%20%20%20%20%20%20%20%20%20%20%29%3B%0A%20%20%20%20%20%20%20%20%20%20%20%20marker_b59f6ee3092647099c692d5881b1a2ab.setIcon%28icon_36723312381b40d0b10dae851322114a%29%3B%0A%20%20%20%20%20%20%20%20%0A%20%20%20%20%0A%20%20%20%20%20%20%20%20var%20popup_78d8591741f5425ea4a3e28a6c128bca%20%3D%20L.popup%28%7B%22maxWidth%22%3A%20%22100%25%22%7D%29%3B%0A%0A%20%20%20%20%20%20%20%20%0A%20%20%20%20%20%20%20%20%20%20%20%20var%20html_4efae235ce1d4df189f370a6f7daaa06%20%3D%20%24%28%60%3Cdiv%20id%3D%22html_4efae235ce1d4df189f370a6f7daaa06%22%20style%3D%22width%3A%20100.0%25%3B%20height%3A%20100.0%25%3B%22%3EMarket%20at%2010th%3C/div%3E%60%29%5B0%5D%3B%0A%20%20%20%20%20%20%20%20%20%20%20%20popup_78d8591741f5425ea4a3e28a6c128bca.setContent%28html_4efae235ce1d4df189f370a6f7daaa06%29%3B%0A%20%20%20%20%20%20%20%20%0A%0A%20%20%20%20%20%20%20%20marker_b59f6ee3092647099c692d5881b1a2ab.bindPopup%28popup_78d8591741f5425ea4a3e28a6c128bca%29%0A%20%20%20%20%20%20%20%20%3B%0A%0A%20%20%20%20%20%20%20%20%0A%20%20%20%20%0A%20%20%20%20%0A%20%20%20%20%20%20%20%20%20%20%20%20var%20marker_dc15084e9bb341c9ba7eb33a9f8688a8%20%3D%20L.marker%28%0A%20%20%20%20%20%20%20%20%20%20%20%20%20%20%20%20%5B37.784878%2C%20-122.401014%5D%2C%0A%20%20%20%20%20%20%20%20%20%20%20%20%20%20%20%20%7B%7D%0A%20%20%20%20%20%20%20%20%20%20%20%20%29.addTo%28map_ad22699887b149f2ae8148e44d68e447%29%3B%0A%20%20%20%20%20%20%20%20%0A%20%20%20%20%0A%20%20%20%20%20%20%20%20%20%20%20%20var%20icon_047ea7cc0ba841848debdc8d3549ca2e%20%3D%20L.AwesomeMarkers.icon%28%0A%20%20%20%20%20%20%20%20%20%20%20%20%20%20%20%20%7B%22extraClasses%22%3A%20%22fa-rotate-0%22%2C%20%22icon%22%3A%20%22sign-blank%22%2C%20%22iconColor%22%3A%20%22white%22%2C%20%22markerColor%22%3A%20%22blue%22%2C%20%22prefix%22%3A%20%22glyphicon%22%7D%0A%20%20%20%20%20%20%20%20%20%20%20%20%29%3B%0A%20%20%20%20%20%20%20%20%20%20%20%20marker_dc15084e9bb341c9ba7eb33a9f8688a8.setIcon%28icon_047ea7cc0ba841848debdc8d3549ca2e%29%3B%0A%20%20%20%20%20%20%20%20%0A%20%20%20%20%0A%20%20%20%20%20%20%20%20var%20popup_6b911e2d95fa4f8f91cfa26f12106706%20%3D%20L.popup%28%7B%22maxWidth%22%3A%20%22100%25%22%7D%29%3B%0A%0A%20%20%20%20%20%20%20%20%0A%20%20%20%20%20%20%20%20%20%20%20%20var%20html_9106e4ffb3b44d7888087e33a6704030%20%3D%20%24%28%60%3Cdiv%20id%3D%22html_9106e4ffb3b44d7888087e33a6704030%22%20style%3D%22width%3A%20100.0%25%3B%20height%3A%20100.0%25%3B%22%3EYerba%20Buena%20Center%20of%20the%20Arts%20%283rd%20%40%20Howard%29%3C/div%3E%60%29%5B0%5D%3B%0A%20%20%20%20%20%20%20%20%20%20%20%20popup_6b911e2d95fa4f8f91cfa26f12106706.setContent%28html_9106e4ffb3b44d7888087e33a6704030%29%3B%0A%20%20%20%20%20%20%20%20%0A%0A%20%20%20%20%20%20%20%20marker_dc15084e9bb341c9ba7eb33a9f8688a8.bindPopup%28popup_6b911e2d95fa4f8f91cfa26f12106706%29%0A%20%20%20%20%20%20%20%20%3B%0A%0A%20%20%20%20%20%20%20%20%0A%20%20%20%20%0A%20%20%20%20%0A%20%20%20%20%20%20%20%20%20%20%20%20var%20marker_4a0c6255b2ac47a9a06651ce39528f1c%20%3D%20L.marker%28%0A%20%20%20%20%20%20%20%20%20%20%20%20%20%20%20%20%5B37.7766%2C%20-122.39547%5D%2C%0A%20%20%20%20%20%20%20%20%20%20%20%20%20%20%20%20%7B%7D%0A%20%20%20%20%20%20%20%20%20%20%20%20%29.addTo%28map_ad22699887b149f2ae8148e44d68e447%29%3B%0A%20%20%20%20%20%20%20%20%0A%20%20%20%20%0A%20%20%20%20%20%20%20%20%20%20%20%20var%20icon_a2e06cd2738742318b1858c5cc0444db%20%3D%20L.AwesomeMarkers.icon%28%0A%20%20%20%20%20%20%20%20%20%20%20%20%20%20%20%20%7B%22extraClasses%22%3A%20%22fa-rotate-0%22%2C%20%22icon%22%3A%20%22sign-blank%22%2C%20%22iconColor%22%3A%20%22white%22%2C%20%22markerColor%22%3A%20%22blue%22%2C%20%22prefix%22%3A%20%22glyphicon%22%7D%0A%20%20%20%20%20%20%20%20%20%20%20%20%29%3B%0A%20%20%20%20%20%20%20%20%20%20%20%20marker_4a0c6255b2ac47a9a06651ce39528f1c.setIcon%28icon_a2e06cd2738742318b1858c5cc0444db%29%3B%0A%20%20%20%20%20%20%20%20%0A%20%20%20%20%0A%20%20%20%20%20%20%20%20var%20popup_1c665a723be142aaa07d065a16c783e9%20%3D%20L.popup%28%7B%22maxWidth%22%3A%20%22100%25%22%7D%29%3B%0A%0A%20%20%20%20%20%20%20%20%0A%20%20%20%20%20%20%20%20%20%20%20%20var%20html_cfeb5a0a98924d77b4b508bc62aba340%20%3D%20%24%28%60%3Cdiv%20id%3D%22html_cfeb5a0a98924d77b4b508bc62aba340%22%20style%3D%22width%3A%20100.0%25%3B%20height%3A%20100.0%25%3B%22%3ESan%20Francisco%20Caltrain%202%20%28330%20Townsend%29%3C/div%3E%60%29%5B0%5D%3B%0A%20%20%20%20%20%20%20%20%20%20%20%20popup_1c665a723be142aaa07d065a16c783e9.setContent%28html_cfeb5a0a98924d77b4b508bc62aba340%29%3B%0A%20%20%20%20%20%20%20%20%0A%0A%20%20%20%20%20%20%20%20marker_4a0c6255b2ac47a9a06651ce39528f1c.bindPopup%28popup_1c665a723be142aaa07d065a16c783e9%29%0A%20%20%20%20%20%20%20%20%3B%0A%0A%20%20%20%20%20%20%20%20%0A%20%20%20%20%0A%20%20%20%20%0A%20%20%20%20%20%20%20%20%20%20%20%20var%20marker_862ae21063d740b596482973d7e072dc%20%3D%20L.marker%28%0A%20%20%20%20%20%20%20%20%20%20%20%20%20%20%20%20%5B37.776617%2C%20-122.39526%5D%2C%0A%20%20%20%20%20%20%20%20%20%20%20%20%20%20%20%20%7B%7D%0A%20%20%20%20%20%20%20%20%20%20%20%20%29.addTo%28map_ad22699887b149f2ae8148e44d68e447%29%3B%0A%20%20%20%20%20%20%20%20%0A%20%20%20%20%0A%20%20%20%20%20%20%20%20%20%20%20%20var%20icon_e308efff64634e9a9767345dbd8242f2%20%3D%20L.AwesomeMarkers.icon%28%0A%20%20%20%20%20%20%20%20%20%20%20%20%20%20%20%20%7B%22extraClasses%22%3A%20%22fa-rotate-0%22%2C%20%22icon%22%3A%20%22sign-blank%22%2C%20%22iconColor%22%3A%20%22white%22%2C%20%22markerColor%22%3A%20%22blue%22%2C%20%22prefix%22%3A%20%22glyphicon%22%7D%0A%20%20%20%20%20%20%20%20%20%20%20%20%29%3B%0A%20%20%20%20%20%20%20%20%20%20%20%20marker_862ae21063d740b596482973d7e072dc.setIcon%28icon_e308efff64634e9a9767345dbd8242f2%29%3B%0A%20%20%20%20%20%20%20%20%0A%20%20%20%20%0A%20%20%20%20%20%20%20%20var%20popup_c2837551d4674601b1d3817db1dc03a1%20%3D%20L.popup%28%7B%22maxWidth%22%3A%20%22100%25%22%7D%29%3B%0A%0A%20%20%20%20%20%20%20%20%0A%20%20%20%20%20%20%20%20%20%20%20%20var%20html_b9248383c88a4d6e82dc09cdd9b815d8%20%3D%20%24%28%60%3Cdiv%20id%3D%22html_b9248383c88a4d6e82dc09cdd9b815d8%22%20style%3D%22width%3A%20100.0%25%3B%20height%3A%20100.0%25%3B%22%3ESan%20Francisco%20Caltrain%20%28Townsend%20at%204th%29%3C/div%3E%60%29%5B0%5D%3B%0A%20%20%20%20%20%20%20%20%20%20%20%20popup_c2837551d4674601b1d3817db1dc03a1.setContent%28html_b9248383c88a4d6e82dc09cdd9b815d8%29%3B%0A%20%20%20%20%20%20%20%20%0A%0A%20%20%20%20%20%20%20%20marker_862ae21063d740b596482973d7e072dc.bindPopup%28popup_c2837551d4674601b1d3817db1dc03a1%29%0A%20%20%20%20%20%20%20%20%3B%0A%0A%20%20%20%20%20%20%20%20%0A%20%20%20%20%0A%20%20%20%20%0A%20%20%20%20%20%20%20%20%20%20%20%20var%20marker_380accca169c4fb8989b928c1938816e%20%3D%20L.marker%28%0A%20%20%20%20%20%20%20%20%20%20%20%20%20%20%20%20%5B37.788446%2C%20-122.408499%5D%2C%0A%20%20%20%20%20%20%20%20%20%20%20%20%20%20%20%20%7B%7D%0A%20%20%20%20%20%20%20%20%20%20%20%20%29.addTo%28map_ad22699887b149f2ae8148e44d68e447%29%3B%0A%20%20%20%20%20%20%20%20%0A%20%20%20%20%0A%20%20%20%20%20%20%20%20%20%20%20%20var%20icon_42f8847f4f43433da46433d67db414a1%20%3D%20L.AwesomeMarkers.icon%28%0A%20%20%20%20%20%20%20%20%20%20%20%20%20%20%20%20%7B%22extraClasses%22%3A%20%22fa-rotate-0%22%2C%20%22icon%22%3A%20%22sign-blank%22%2C%20%22iconColor%22%3A%20%22white%22%2C%20%22markerColor%22%3A%20%22blue%22%2C%20%22prefix%22%3A%20%22glyphicon%22%7D%0A%20%20%20%20%20%20%20%20%20%20%20%20%29%3B%0A%20%20%20%20%20%20%20%20%20%20%20%20marker_380accca169c4fb8989b928c1938816e.setIcon%28icon_42f8847f4f43433da46433d67db414a1%29%3B%0A%20%20%20%20%20%20%20%20%0A%20%20%20%20%0A%20%20%20%20%20%20%20%20var%20popup_afbd0f9b238345c09388f1d271712d11%20%3D%20L.popup%28%7B%22maxWidth%22%3A%20%22100%25%22%7D%29%3B%0A%0A%20%20%20%20%20%20%20%20%0A%20%20%20%20%20%20%20%20%20%20%20%20var%20html_a329257633f84822b7dcc2175a00f7bd%20%3D%20%24%28%60%3Cdiv%20id%3D%22html_a329257633f84822b7dcc2175a00f7bd%22%20style%3D%22width%3A%20100.0%25%3B%20height%3A%20100.0%25%3B%22%3EPowell%20at%20Post%20%28Union%20Square%29%3C/div%3E%60%29%5B0%5D%3B%0A%20%20%20%20%20%20%20%20%20%20%20%20popup_afbd0f9b238345c09388f1d271712d11.setContent%28html_a329257633f84822b7dcc2175a00f7bd%29%3B%0A%20%20%20%20%20%20%20%20%0A%0A%20%20%20%20%20%20%20%20marker_380accca169c4fb8989b928c1938816e.bindPopup%28popup_afbd0f9b238345c09388f1d271712d11%29%0A%20%20%20%20%20%20%20%20%3B%0A%0A%20%20%20%20%20%20%20%20%0A%20%20%20%20%0A%20%20%20%20%0A%20%20%20%20%20%20%20%20%20%20%20%20var%20marker_2f54bb1054a2477c996d48e37ee48e7f%20%3D%20L.marker%28%0A%20%20%20%20%20%20%20%20%20%20%20%20%20%20%20%20%5B37.781039%2C%20-122.411748%5D%2C%0A%20%20%20%20%20%20%20%20%20%20%20%20%20%20%20%20%7B%7D%0A%20%20%20%20%20%20%20%20%20%20%20%20%29.addTo%28map_ad22699887b149f2ae8148e44d68e447%29%3B%0A%20%20%20%20%20%20%20%20%0A%20%20%20%20%0A%20%20%20%20%20%20%20%20%20%20%20%20var%20icon_3d04c73ba4e54a0e8a182015cba24e4f%20%3D%20L.AwesomeMarkers.icon%28%0A%20%20%20%20%20%20%20%20%20%20%20%20%20%20%20%20%7B%22extraClasses%22%3A%20%22fa-rotate-0%22%2C%20%22icon%22%3A%20%22sign-blank%22%2C%20%22iconColor%22%3A%20%22white%22%2C%20%22markerColor%22%3A%20%22blue%22%2C%20%22prefix%22%3A%20%22glyphicon%22%7D%0A%20%20%20%20%20%20%20%20%20%20%20%20%29%3B%0A%20%20%20%20%20%20%20%20%20%20%20%20marker_2f54bb1054a2477c996d48e37ee48e7f.setIcon%28icon_3d04c73ba4e54a0e8a182015cba24e4f%29%3B%0A%20%20%20%20%20%20%20%20%0A%20%20%20%20%0A%20%20%20%20%20%20%20%20var%20popup_5aadaca11c1941dca0f12f32f1a7a69a%20%3D%20L.popup%28%7B%22maxWidth%22%3A%20%22100%25%22%7D%29%3B%0A%0A%20%20%20%20%20%20%20%20%0A%20%20%20%20%20%20%20%20%20%20%20%20var%20html_53b54cbd3d1742378de836d009248f26%20%3D%20%24%28%60%3Cdiv%20id%3D%22html_53b54cbd3d1742378de836d009248f26%22%20style%3D%22width%3A%20100.0%25%3B%20height%3A%20100.0%25%3B%22%3ECivic%20Center%20BART%20%287th%20at%20Market%29%3C/div%3E%60%29%5B0%5D%3B%0A%20%20%20%20%20%20%20%20%20%20%20%20popup_5aadaca11c1941dca0f12f32f1a7a69a.setContent%28html_53b54cbd3d1742378de836d009248f26%29%3B%0A%20%20%20%20%20%20%20%20%0A%0A%20%20%20%20%20%20%20%20marker_2f54bb1054a2477c996d48e37ee48e7f.bindPopup%28popup_5aadaca11c1941dca0f12f32f1a7a69a%29%0A%20%20%20%20%20%20%20%20%3B%0A%0A%20%20%20%20%20%20%20%20%0A%20%20%20%20%0A%20%20%20%20%0A%20%20%20%20%20%20%20%20%20%20%20%20var%20marker_2b985694f98c424eb74afae0777a13de%20%3D%20L.marker%28%0A%20%20%20%20%20%20%20%20%20%20%20%20%20%20%20%20%5B37.798522%2C%20-122.407245%5D%2C%0A%20%20%20%20%20%20%20%20%20%20%20%20%20%20%20%20%7B%7D%0A%20%20%20%20%20%20%20%20%20%20%20%20%29.addTo%28map_ad22699887b149f2ae8148e44d68e447%29%3B%0A%20%20%20%20%20%20%20%20%0A%20%20%20%20%0A%20%20%20%20%20%20%20%20%20%20%20%20var%20icon_ad1939fbb00849c8a19a3f790eeac6ee%20%3D%20L.AwesomeMarkers.icon%28%0A%20%20%20%20%20%20%20%20%20%20%20%20%20%20%20%20%7B%22extraClasses%22%3A%20%22fa-rotate-0%22%2C%20%22icon%22%3A%20%22sign-blank%22%2C%20%22iconColor%22%3A%20%22white%22%2C%20%22markerColor%22%3A%20%22blue%22%2C%20%22prefix%22%3A%20%22glyphicon%22%7D%0A%20%20%20%20%20%20%20%20%20%20%20%20%29%3B%0A%20%20%20%20%20%20%20%20%20%20%20%20marker_2b985694f98c424eb74afae0777a13de.setIcon%28icon_ad1939fbb00849c8a19a3f790eeac6ee%29%3B%0A%20%20%20%20%20%20%20%20%0A%20%20%20%20%0A%20%20%20%20%20%20%20%20var%20popup_429e03bdf07247b68d6a06fb7b4484c2%20%3D%20L.popup%28%7B%22maxWidth%22%3A%20%22100%25%22%7D%29%3B%0A%0A%20%20%20%20%20%20%20%20%0A%20%20%20%20%20%20%20%20%20%20%20%20var%20html_d2e9b87d0a4d4bf795ab1e426206334a%20%3D%20%24%28%60%3Cdiv%20id%3D%22html_d2e9b87d0a4d4bf795ab1e426206334a%22%20style%3D%22width%3A%20100.0%25%3B%20height%3A%20100.0%25%3B%22%3EGrant%20Avenue%20at%20Columbus%20Avenue%3C/div%3E%60%29%5B0%5D%3B%0A%20%20%20%20%20%20%20%20%20%20%20%20popup_429e03bdf07247b68d6a06fb7b4484c2.setContent%28html_d2e9b87d0a4d4bf795ab1e426206334a%29%3B%0A%20%20%20%20%20%20%20%20%0A%0A%20%20%20%20%20%20%20%20marker_2b985694f98c424eb74afae0777a13de.bindPopup%28popup_429e03bdf07247b68d6a06fb7b4484c2%29%0A%20%20%20%20%20%20%20%20%3B%0A%0A%20%20%20%20%20%20%20%20%0A%20%20%20%20%0A%20%20%20%20%0A%20%20%20%20%20%20%20%20%20%20%20%20var%20marker_368f190a91684b53bcdb3d27304764eb%20%3D%20L.marker%28%0A%20%20%20%20%20%20%20%20%20%20%20%20%20%20%20%20%5B37.794139%2C%20-122.394434%5D%2C%0A%20%20%20%20%20%20%20%20%20%20%20%20%20%20%20%20%7B%7D%0A%20%20%20%20%20%20%20%20%20%20%20%20%29.addTo%28map_ad22699887b149f2ae8148e44d68e447%29%3B%0A%20%20%20%20%20%20%20%20%0A%20%20%20%20%0A%20%20%20%20%20%20%20%20%20%20%20%20var%20icon_419baddbc75749fe98b1056f76732386%20%3D%20L.AwesomeMarkers.icon%28%0A%20%20%20%20%20%20%20%20%20%20%20%20%20%20%20%20%7B%22extraClasses%22%3A%20%22fa-rotate-0%22%2C%20%22icon%22%3A%20%22sign-blank%22%2C%20%22iconColor%22%3A%20%22white%22%2C%20%22markerColor%22%3A%20%22blue%22%2C%20%22prefix%22%3A%20%22glyphicon%22%7D%0A%20%20%20%20%20%20%20%20%20%20%20%20%29%3B%0A%20%20%20%20%20%20%20%20%20%20%20%20marker_368f190a91684b53bcdb3d27304764eb.setIcon%28icon_419baddbc75749fe98b1056f76732386%29%3B%0A%20%20%20%20%20%20%20%20%0A%20%20%20%20%0A%20%20%20%20%20%20%20%20var%20popup_95e3fc7aaee64d348759705e1c87486d%20%3D%20L.popup%28%7B%22maxWidth%22%3A%20%22100%25%22%7D%29%3B%0A%0A%20%20%20%20%20%20%20%20%0A%20%20%20%20%20%20%20%20%20%20%20%20var%20html_d258d27e08014a97abcc8b681d3632fa%20%3D%20%24%28%60%3Cdiv%20id%3D%22html_d258d27e08014a97abcc8b681d3632fa%22%20style%3D%22width%3A%20100.0%25%3B%20height%3A%20100.0%25%3B%22%3ESteuart%20at%20Market%3C/div%3E%60%29%5B0%5D%3B%0A%20%20%20%20%20%20%20%20%20%20%20%20popup_95e3fc7aaee64d348759705e1c87486d.setContent%28html_d258d27e08014a97abcc8b681d3632fa%29%3B%0A%20%20%20%20%20%20%20%20%0A%0A%20%20%20%20%20%20%20%20marker_368f190a91684b53bcdb3d27304764eb.bindPopup%28popup_95e3fc7aaee64d348759705e1c87486d%29%0A%20%20%20%20%20%20%20%20%3B%0A%0A%20%20%20%20%20%20%20%20%0A%20%20%20%20%0A%20%20%20%20%0A%20%20%20%20%20%20%20%20%20%20%20%20var%20marker_85ea6b43fadb495caf363c56d0beef8c%20%3D%20L.marker%28%0A%20%20%20%20%20%20%20%20%20%20%20%20%20%20%20%20%5B37.7913%2C%20-122.399051%5D%2C%0A%20%20%20%20%20%20%20%20%20%20%20%20%20%20%20%20%7B%7D%0A%20%20%20%20%20%20%20%20%20%20%20%20%29.addTo%28map_ad22699887b149f2ae8148e44d68e447%29%3B%0A%20%20%20%20%20%20%20%20%0A%20%20%20%20%0A%20%20%20%20%20%20%20%20%20%20%20%20var%20icon_09ed834c95224cb5a28519a01e9abcbf%20%3D%20L.AwesomeMarkers.icon%28%0A%20%20%20%20%20%20%20%20%20%20%20%20%20%20%20%20%7B%22extraClasses%22%3A%20%22fa-rotate-0%22%2C%20%22icon%22%3A%20%22sign-blank%22%2C%20%22iconColor%22%3A%20%22white%22%2C%20%22markerColor%22%3A%20%22blue%22%2C%20%22prefix%22%3A%20%22glyphicon%22%7D%0A%20%20%20%20%20%20%20%20%20%20%20%20%29%3B%0A%20%20%20%20%20%20%20%20%20%20%20%20marker_85ea6b43fadb495caf363c56d0beef8c.setIcon%28icon_09ed834c95224cb5a28519a01e9abcbf%29%3B%0A%20%20%20%20%20%20%20%20%0A%20%20%20%20%0A%20%20%20%20%20%20%20%20var%20popup_ebcb3ce099134b31a91f12fdff3018c7%20%3D%20L.popup%28%7B%22maxWidth%22%3A%20%22100%25%22%7D%29%3B%0A%0A%20%20%20%20%20%20%20%20%0A%20%20%20%20%20%20%20%20%20%20%20%20var%20html_a8f22919ffa247739a5bfd9b82ebe986%20%3D%20%24%28%60%3Cdiv%20id%3D%22html_a8f22919ffa247739a5bfd9b82ebe986%22%20style%3D%22width%3A%20100.0%25%3B%20height%3A%20100.0%25%3B%22%3EMechanics%20Plaza%20%28Market%20at%20Battery%29%3C/div%3E%60%29%5B0%5D%3B%0A%20%20%20%20%20%20%20%20%20%20%20%20popup_ebcb3ce099134b31a91f12fdff3018c7.setContent%28html_a8f22919ffa247739a5bfd9b82ebe986%29%3B%0A%20%20%20%20%20%20%20%20%0A%0A%20%20%20%20%20%20%20%20marker_85ea6b43fadb495caf363c56d0beef8c.bindPopup%28popup_ebcb3ce099134b31a91f12fdff3018c7%29%0A%20%20%20%20%20%20%20%20%3B%0A%0A%20%20%20%20%20%20%20%20%0A%20%20%20%20%0A%20%20%20%20%0A%20%20%20%20%20%20%20%20%20%20%20%20var%20marker_d7c97cd9230f4e349816491011ee9f80%20%3D%20L.marker%28%0A%20%20%20%20%20%20%20%20%20%20%20%20%20%20%20%20%5B37.786305%2C%20-122.404966%5D%2C%0A%20%20%20%20%20%20%20%20%20%20%20%20%20%20%20%20%7B%7D%0A%20%20%20%20%20%20%20%20%20%20%20%20%29.addTo%28map_ad22699887b149f2ae8148e44d68e447%29%3B%0A%20%20%20%20%20%20%20%20%0A%20%20%20%20%0A%20%20%20%20%20%20%20%20%20%20%20%20var%20icon_1477164184ca46699110a25902d801a1%20%3D%20L.AwesomeMarkers.icon%28%0A%20%20%20%20%20%20%20%20%20%20%20%20%20%20%20%20%7B%22extraClasses%22%3A%20%22fa-rotate-0%22%2C%20%22icon%22%3A%20%22sign-blank%22%2C%20%22iconColor%22%3A%20%22white%22%2C%20%22markerColor%22%3A%20%22blue%22%2C%20%22prefix%22%3A%20%22glyphicon%22%7D%0A%20%20%20%20%20%20%20%20%20%20%20%20%29%3B%0A%20%20%20%20%20%20%20%20%20%20%20%20marker_d7c97cd9230f4e349816491011ee9f80.setIcon%28icon_1477164184ca46699110a25902d801a1%29%3B%0A%20%20%20%20%20%20%20%20%0A%20%20%20%20%0A%20%20%20%20%20%20%20%20var%20popup_2051a4020d4045fdbce2b17806944557%20%3D%20L.popup%28%7B%22maxWidth%22%3A%20%22100%25%22%7D%29%3B%0A%0A%20%20%20%20%20%20%20%20%0A%20%20%20%20%20%20%20%20%20%20%20%20var%20html_f4b0150ba96d453c934d2467b8e2f3a0%20%3D%20%24%28%60%3Cdiv%20id%3D%22html_f4b0150ba96d453c934d2467b8e2f3a0%22%20style%3D%22width%3A%20100.0%25%3B%20height%3A%20100.0%25%3B%22%3EMarket%20at%204th%3C/div%3E%60%29%5B0%5D%3B%0A%20%20%20%20%20%20%20%20%20%20%20%20popup_2051a4020d4045fdbce2b17806944557.setContent%28html_f4b0150ba96d453c934d2467b8e2f3a0%29%3B%0A%20%20%20%20%20%20%20%20%0A%0A%20%20%20%20%20%20%20%20marker_d7c97cd9230f4e349816491011ee9f80.bindPopup%28popup_2051a4020d4045fdbce2b17806944557%29%0A%20%20%20%20%20%20%20%20%3B%0A%0A%20%20%20%20%20%20%20%20%0A%20%20%20%20%0A%20%20%20%20%0A%20%20%20%20%20%20%20%20%20%20%20%20var%20marker_0de1fc28a217440f9897b62a326d5f5d%20%3D%20L.marker%28%0A%20%20%20%20%20%20%20%20%20%20%20%20%20%20%20%20%5B37.789625%2C%20-122.400811%5D%2C%0A%20%20%20%20%20%20%20%20%20%20%20%20%20%20%20%20%7B%7D%0A%20%20%20%20%20%20%20%20%20%20%20%20%29.addTo%28map_ad22699887b149f2ae8148e44d68e447%29%3B%0A%20%20%20%20%20%20%20%20%0A%20%20%20%20%0A%20%20%20%20%20%20%20%20%20%20%20%20var%20icon_7dccb01136f94f34a9fe4ecc2e5cf118%20%3D%20L.AwesomeMarkers.icon%28%0A%20%20%20%20%20%20%20%20%20%20%20%20%20%20%20%20%7B%22extraClasses%22%3A%20%22fa-rotate-0%22%2C%20%22icon%22%3A%20%22sign-blank%22%2C%20%22iconColor%22%3A%20%22white%22%2C%20%22markerColor%22%3A%20%22blue%22%2C%20%22prefix%22%3A%20%22glyphicon%22%7D%0A%20%20%20%20%20%20%20%20%20%20%20%20%29%3B%0A%20%20%20%20%20%20%20%20%20%20%20%20marker_0de1fc28a217440f9897b62a326d5f5d.setIcon%28icon_7dccb01136f94f34a9fe4ecc2e5cf118%29%3B%0A%20%20%20%20%20%20%20%20%0A%20%20%20%20%0A%20%20%20%20%20%20%20%20var%20popup_ea91a87560c34d2385f45e9955e60172%20%3D%20L.popup%28%7B%22maxWidth%22%3A%20%22100%25%22%7D%29%3B%0A%0A%20%20%20%20%20%20%20%20%0A%20%20%20%20%20%20%20%20%20%20%20%20var%20html_81067401eef74d9197e4f37e5c3c1750%20%3D%20%24%28%60%3Cdiv%20id%3D%22html_81067401eef74d9197e4f37e5c3c1750%22%20style%3D%22width%3A%20100.0%25%3B%20height%3A%20100.0%25%3B%22%3EMarket%20at%20Sansome%3C/div%3E%60%29%5B0%5D%3B%0A%20%20%20%20%20%20%20%20%20%20%20%20popup_ea91a87560c34d2385f45e9955e60172.setContent%28html_81067401eef74d9197e4f37e5c3c1750%29%3B%0A%20%20%20%20%20%20%20%20%0A%0A%20%20%20%20%20%20%20%20marker_0de1fc28a217440f9897b62a326d5f5d.bindPopup%28popup_ea91a87560c34d2385f45e9955e60172%29%0A%20%20%20%20%20%20%20%20%3B%0A%0A%20%20%20%20%20%20%20%20%0A%20%20%20%20%0A%20%20%20%20%0A%20%20%20%20%20%20%20%20%20%20%20%20var%20marker_b9186e041b614a2d9c964a6a132858f0%20%3D%20L.marker%28%0A%20%20%20%20%20%20%20%20%20%20%20%20%20%20%20%20%5B37.798541%2C%20-122.400862%5D%2C%0A%20%20%20%20%20%20%20%20%20%20%20%20%20%20%20%20%7B%7D%0A%20%20%20%20%20%20%20%20%20%20%20%20%29.addTo%28map_ad22699887b149f2ae8148e44d68e447%29%3B%0A%20%20%20%20%20%20%20%20%0A%20%20%20%20%0A%20%20%20%20%20%20%20%20%20%20%20%20var%20icon_cb4514f3765e4bf1819d687885d8ce14%20%3D%20L.AwesomeMarkers.icon%28%0A%20%20%20%20%20%20%20%20%20%20%20%20%20%20%20%20%7B%22extraClasses%22%3A%20%22fa-rotate-0%22%2C%20%22icon%22%3A%20%22sign-blank%22%2C%20%22iconColor%22%3A%20%22white%22%2C%20%22markerColor%22%3A%20%22blue%22%2C%20%22prefix%22%3A%20%22glyphicon%22%7D%0A%20%20%20%20%20%20%20%20%20%20%20%20%29%3B%0A%20%20%20%20%20%20%20%20%20%20%20%20marker_b9186e041b614a2d9c964a6a132858f0.setIcon%28icon_cb4514f3765e4bf1819d687885d8ce14%29%3B%0A%20%20%20%20%20%20%20%20%0A%20%20%20%20%0A%20%20%20%20%20%20%20%20var%20popup_f2f7c34b41c5416097375a93461f7fe1%20%3D%20L.popup%28%7B%22maxWidth%22%3A%20%22100%25%22%7D%29%3B%0A%0A%20%20%20%20%20%20%20%20%0A%20%20%20%20%20%20%20%20%20%20%20%20var%20html_f8cff7c6ba2d479babffeca903378156%20%3D%20%24%28%60%3Cdiv%20id%3D%22html_f8cff7c6ba2d479babffeca903378156%22%20style%3D%22width%3A%20100.0%25%3B%20height%3A%20100.0%25%3B%22%3EBroadway%20St%20at%20Battery%20St%3C/div%3E%60%29%5B0%5D%3B%0A%20%20%20%20%20%20%20%20%20%20%20%20popup_f2f7c34b41c5416097375a93461f7fe1.setContent%28html_f8cff7c6ba2d479babffeca903378156%29%3B%0A%20%20%20%20%20%20%20%20%0A%0A%20%20%20%20%20%20%20%20marker_b9186e041b614a2d9c964a6a132858f0.bindPopup%28popup_f2f7c34b41c5416097375a93461f7fe1%29%0A%20%20%20%20%20%20%20%20%3B%0A%0A%20%20%20%20%20%20%20%20%0A%20%20%20%20%0A%3C/script%3E onload=\"this.contentDocument.open();this.contentDocument.write(    decodeURIComponent(this.getAttribute('data-html')));this.contentDocument.close();\" allowfullscreen webkitallowfullscreen mozallowfullscreen></iframe></div></div>"
      ],
      "text/plain": [
       "<datascience.maps.Map at 0x6748100>"
      ]
     },
     "execution_count": 41,
     "metadata": {},
     "output_type": "execute_result"
    }
   ],
   "source": [
    "Marker.map_table(sf_stations_map_data)"
   ]
  },
  {
   "cell_type": "code",
   "execution_count": 43,
   "id": "cdcb5b06",
   "metadata": {},
   "outputs": [
    {
     "data": {
      "text/html": [
       "<div style=\"width:100%;\"><div style=\"position:relative;width:100%;height:0;padding-bottom:60%;\"><span style=\"color:#565656\">Make this Notebook Trusted to load map: File -> Trust Notebook</span><iframe src=\"about:blank\" style=\"position:absolute;width:100%;height:100%;left:0;top:0;border:none !important;\" data-html=%3C%21DOCTYPE%20html%3E%0A%3Chead%3E%20%20%20%20%0A%20%20%20%20%3Cmeta%20http-equiv%3D%22content-type%22%20content%3D%22text/html%3B%20charset%3DUTF-8%22%20/%3E%0A%20%20%20%20%0A%20%20%20%20%20%20%20%20%3Cscript%3E%0A%20%20%20%20%20%20%20%20%20%20%20%20L_NO_TOUCH%20%3D%20false%3B%0A%20%20%20%20%20%20%20%20%20%20%20%20L_DISABLE_3D%20%3D%20false%3B%0A%20%20%20%20%20%20%20%20%3C/script%3E%0A%20%20%20%20%0A%20%20%20%20%3Cstyle%3Ehtml%2C%20body%20%7Bwidth%3A%20100%25%3Bheight%3A%20100%25%3Bmargin%3A%200%3Bpadding%3A%200%3B%7D%3C/style%3E%0A%20%20%20%20%3Cstyle%3E%23map%20%7Bposition%3Aabsolute%3Btop%3A0%3Bbottom%3A0%3Bright%3A0%3Bleft%3A0%3B%7D%3C/style%3E%0A%20%20%20%20%3Cscript%20src%3D%22https%3A//cdn.jsdelivr.net/npm/leaflet%401.6.0/dist/leaflet.js%22%3E%3C/script%3E%0A%20%20%20%20%3Cscript%20src%3D%22https%3A//code.jquery.com/jquery-1.12.4.min.js%22%3E%3C/script%3E%0A%20%20%20%20%3Cscript%20src%3D%22https%3A//maxcdn.bootstrapcdn.com/bootstrap/3.2.0/js/bootstrap.min.js%22%3E%3C/script%3E%0A%20%20%20%20%3Cscript%20src%3D%22https%3A//cdnjs.cloudflare.com/ajax/libs/Leaflet.awesome-markers/2.0.2/leaflet.awesome-markers.js%22%3E%3C/script%3E%0A%20%20%20%20%3Clink%20rel%3D%22stylesheet%22%20href%3D%22https%3A//cdn.jsdelivr.net/npm/leaflet%401.6.0/dist/leaflet.css%22/%3E%0A%20%20%20%20%3Clink%20rel%3D%22stylesheet%22%20href%3D%22https%3A//maxcdn.bootstrapcdn.com/bootstrap/3.2.0/css/bootstrap.min.css%22/%3E%0A%20%20%20%20%3Clink%20rel%3D%22stylesheet%22%20href%3D%22https%3A//maxcdn.bootstrapcdn.com/bootstrap/3.2.0/css/bootstrap-theme.min.css%22/%3E%0A%20%20%20%20%3Clink%20rel%3D%22stylesheet%22%20href%3D%22https%3A//maxcdn.bootstrapcdn.com/font-awesome/4.6.3/css/font-awesome.min.css%22/%3E%0A%20%20%20%20%3Clink%20rel%3D%22stylesheet%22%20href%3D%22https%3A//cdnjs.cloudflare.com/ajax/libs/Leaflet.awesome-markers/2.0.2/leaflet.awesome-markers.css%22/%3E%0A%20%20%20%20%3Clink%20rel%3D%22stylesheet%22%20href%3D%22https%3A//cdn.jsdelivr.net/gh/python-visualization/folium/folium/templates/leaflet.awesome.rotate.min.css%22/%3E%0A%20%20%20%20%0A%20%20%20%20%20%20%20%20%20%20%20%20%3Cmeta%20name%3D%22viewport%22%20content%3D%22width%3Ddevice-width%2C%0A%20%20%20%20%20%20%20%20%20%20%20%20%20%20%20%20initial-scale%3D1.0%2C%20maximum-scale%3D1.0%2C%20user-scalable%3Dno%22%20/%3E%0A%20%20%20%20%20%20%20%20%20%20%20%20%3Cstyle%3E%0A%20%20%20%20%20%20%20%20%20%20%20%20%20%20%20%20%23map_e23f4247c77841739924d8607922eb83%20%7B%0A%20%20%20%20%20%20%20%20%20%20%20%20%20%20%20%20%20%20%20%20position%3A%20relative%3B%0A%20%20%20%20%20%20%20%20%20%20%20%20%20%20%20%20%20%20%20%20width%3A%20960.0px%3B%0A%20%20%20%20%20%20%20%20%20%20%20%20%20%20%20%20%20%20%20%20height%3A%20500.0px%3B%0A%20%20%20%20%20%20%20%20%20%20%20%20%20%20%20%20%20%20%20%20left%3A%200.0%25%3B%0A%20%20%20%20%20%20%20%20%20%20%20%20%20%20%20%20%20%20%20%20top%3A%200.0%25%3B%0A%20%20%20%20%20%20%20%20%20%20%20%20%20%20%20%20%7D%0A%20%20%20%20%20%20%20%20%20%20%20%20%3C/style%3E%0A%20%20%20%20%20%20%20%20%0A%3C/head%3E%0A%3Cbody%3E%20%20%20%20%0A%20%20%20%20%0A%20%20%20%20%20%20%20%20%20%20%20%20%3Cdiv%20class%3D%22folium-map%22%20id%3D%22map_e23f4247c77841739924d8607922eb83%22%20%3E%3C/div%3E%0A%20%20%20%20%20%20%20%20%0A%3C/body%3E%0A%3Cscript%3E%20%20%20%20%0A%20%20%20%20%0A%20%20%20%20%20%20%20%20%20%20%20%20var%20map_e23f4247c77841739924d8607922eb83%20%3D%20L.map%28%0A%20%20%20%20%20%20%20%20%20%20%20%20%20%20%20%20%22map_e23f4247c77841739924d8607922eb83%22%2C%0A%20%20%20%20%20%20%20%20%20%20%20%20%20%20%20%20%7B%0A%20%20%20%20%20%20%20%20%20%20%20%20%20%20%20%20%20%20%20%20center%3A%20%5B37.787914%2C%20-122.4034835%5D%2C%0A%20%20%20%20%20%20%20%20%20%20%20%20%20%20%20%20%20%20%20%20crs%3A%20L.CRS.EPSG3857%2C%0A%20%20%20%20%20%20%20%20%20%20%20%20%20%20%20%20%20%20%20%20zoom%3A%2012%2C%0A%20%20%20%20%20%20%20%20%20%20%20%20%20%20%20%20%20%20%20%20zoomControl%3A%20true%2C%0A%20%20%20%20%20%20%20%20%20%20%20%20%20%20%20%20%20%20%20%20preferCanvas%3A%20false%2C%0A%20%20%20%20%20%20%20%20%20%20%20%20%20%20%20%20%20%20%20%20clusteredMarker%3A%20false%2C%0A%20%20%20%20%20%20%20%20%20%20%20%20%20%20%20%20%20%20%20%20includeColorScaleOutliers%3A%20true%2C%0A%20%20%20%20%20%20%20%20%20%20%20%20%20%20%20%20%20%20%20%20radiusInMeters%3A%20false%2C%0A%20%20%20%20%20%20%20%20%20%20%20%20%20%20%20%20%7D%0A%20%20%20%20%20%20%20%20%20%20%20%20%29%3B%0A%0A%20%20%20%20%20%20%20%20%20%20%20%20%0A%0A%20%20%20%20%20%20%20%20%0A%20%20%20%20%0A%20%20%20%20%20%20%20%20%20%20%20%20var%20tile_layer_0b7039a94f5d44f38fbb4814f5bb4b14%20%3D%20L.tileLayer%28%0A%20%20%20%20%20%20%20%20%20%20%20%20%20%20%20%20%22https%3A//%7Bs%7D.tile.openstreetmap.org/%7Bz%7D/%7Bx%7D/%7By%7D.png%22%2C%0A%20%20%20%20%20%20%20%20%20%20%20%20%20%20%20%20%7B%22attribution%22%3A%20%22Data%20by%20%5Cu0026copy%3B%20%5Cu003ca%20href%3D%5C%22http%3A//openstreetmap.org%5C%22%5Cu003eOpenStreetMap%5Cu003c/a%5Cu003e%2C%20under%20%5Cu003ca%20href%3D%5C%22http%3A//www.openstreetmap.org/copyright%5C%22%5Cu003eODbL%5Cu003c/a%5Cu003e.%22%2C%20%22detectRetina%22%3A%20false%2C%20%22maxNativeZoom%22%3A%2017%2C%20%22maxZoom%22%3A%2017%2C%20%22minZoom%22%3A%2010%2C%20%22noWrap%22%3A%20false%2C%20%22opacity%22%3A%201%2C%20%22subdomains%22%3A%20%22abc%22%2C%20%22tms%22%3A%20false%7D%0A%20%20%20%20%20%20%20%20%20%20%20%20%29.addTo%28map_e23f4247c77841739924d8607922eb83%29%3B%0A%20%20%20%20%20%20%20%20%0A%20%20%20%20%0A%20%20%20%20%20%20%20%20%20%20%20%20var%20circle_marker_36cf376eb06b498fac2c6204f7a55b89%20%3D%20L.circleMarker%28%0A%20%20%20%20%20%20%20%20%20%20%20%20%20%20%20%20%5B37.795001%2C%20-122.39997%5D%2C%0A%20%20%20%20%20%20%20%20%20%20%20%20%20%20%20%20%7B%22bubblingMouseEvents%22%3A%20true%2C%20%22color%22%3A%20%22%233388ff%22%2C%20%22dashArray%22%3A%20null%2C%20%22dashOffset%22%3A%20null%2C%20%22fill%22%3A%20true%2C%20%22fillColor%22%3A%20%22blue%22%2C%20%22fillOpacity%22%3A%200.2%2C%20%22fillRule%22%3A%20%22evenodd%22%2C%20%22lineCap%22%3A%20%22round%22%2C%20%22lineJoin%22%3A%20%22round%22%2C%20%22opacity%22%3A%201.0%2C%20%22radius%22%3A%2010.0%2C%20%22stroke%22%3A%20true%2C%20%22weight%22%3A%203%7D%0A%20%20%20%20%20%20%20%20%20%20%20%20%29.addTo%28map_e23f4247c77841739924d8607922eb83%29%3B%0A%20%20%20%20%20%20%20%20%0A%20%20%20%20%0A%20%20%20%20%20%20%20%20var%20popup_c990a9bcbbce4ddca3997aa69b312580%20%3D%20L.popup%28%7B%22maxWidth%22%3A%20%22100%25%22%7D%29%3B%0A%0A%20%20%20%20%20%20%20%20%0A%20%20%20%20%20%20%20%20%20%20%20%20var%20html_645ba8254bec45a3bc814c115cc048ec%20%3D%20%24%28%60%3Cdiv%20id%3D%22html_645ba8254bec45a3bc814c115cc048ec%22%20style%3D%22width%3A%20100.0%25%3B%20height%3A%20100.0%25%3B%22%3EClay%20at%20Battery%3C/div%3E%60%29%5B0%5D%3B%0A%20%20%20%20%20%20%20%20%20%20%20%20popup_c990a9bcbbce4ddca3997aa69b312580.setContent%28html_645ba8254bec45a3bc814c115cc048ec%29%3B%0A%20%20%20%20%20%20%20%20%0A%0A%20%20%20%20%20%20%20%20circle_marker_36cf376eb06b498fac2c6204f7a55b89.bindPopup%28popup_c990a9bcbbce4ddca3997aa69b312580%29%0A%20%20%20%20%20%20%20%20%3B%0A%0A%20%20%20%20%20%20%20%20%0A%20%20%20%20%0A%20%20%20%20%0A%20%20%20%20%20%20%20%20%20%20%20%20var%20circle_marker_680516b189894fb1a51356a79f8d8763%20%3D%20L.circleMarker%28%0A%20%20%20%20%20%20%20%20%20%20%20%20%20%20%20%20%5B37.79728%2C%20-122.398436%5D%2C%0A%20%20%20%20%20%20%20%20%20%20%20%20%20%20%20%20%7B%22bubblingMouseEvents%22%3A%20true%2C%20%22color%22%3A%20%22%233388ff%22%2C%20%22dashArray%22%3A%20null%2C%20%22dashOffset%22%3A%20null%2C%20%22fill%22%3A%20true%2C%20%22fillColor%22%3A%20%22blue%22%2C%20%22fillOpacity%22%3A%200.2%2C%20%22fillRule%22%3A%20%22evenodd%22%2C%20%22lineCap%22%3A%20%22round%22%2C%20%22lineJoin%22%3A%20%22round%22%2C%20%22opacity%22%3A%201.0%2C%20%22radius%22%3A%2010.0%2C%20%22stroke%22%3A%20true%2C%20%22weight%22%3A%203%7D%0A%20%20%20%20%20%20%20%20%20%20%20%20%29.addTo%28map_e23f4247c77841739924d8607922eb83%29%3B%0A%20%20%20%20%20%20%20%20%0A%20%20%20%20%0A%20%20%20%20%20%20%20%20var%20popup_6b93c28a5e854abebc573545f1a27637%20%3D%20L.popup%28%7B%22maxWidth%22%3A%20%22100%25%22%7D%29%3B%0A%0A%20%20%20%20%20%20%20%20%0A%20%20%20%20%20%20%20%20%20%20%20%20var%20html_8cd12eb588ca42c28c72391d7b88b802%20%3D%20%24%28%60%3Cdiv%20id%3D%22html_8cd12eb588ca42c28c72391d7b88b802%22%20style%3D%22width%3A%20100.0%25%3B%20height%3A%20100.0%25%3B%22%3EDavis%20at%20Jackson%3C/div%3E%60%29%5B0%5D%3B%0A%20%20%20%20%20%20%20%20%20%20%20%20popup_6b93c28a5e854abebc573545f1a27637.setContent%28html_8cd12eb588ca42c28c72391d7b88b802%29%3B%0A%20%20%20%20%20%20%20%20%0A%0A%20%20%20%20%20%20%20%20circle_marker_680516b189894fb1a51356a79f8d8763.bindPopup%28popup_6b93c28a5e854abebc573545f1a27637%29%0A%20%20%20%20%20%20%20%20%3B%0A%0A%20%20%20%20%20%20%20%20%0A%20%20%20%20%0A%20%20%20%20%0A%20%20%20%20%20%20%20%20%20%20%20%20var%20circle_marker_13e4f36fa69748aeac7b3fe1b31ec7b4%20%3D%20L.circleMarker%28%0A%20%20%20%20%20%20%20%20%20%20%20%20%20%20%20%20%5B37.794231%2C%20-122.402923%5D%2C%0A%20%20%20%20%20%20%20%20%20%20%20%20%20%20%20%20%7B%22bubblingMouseEvents%22%3A%20true%2C%20%22color%22%3A%20%22%233388ff%22%2C%20%22dashArray%22%3A%20null%2C%20%22dashOffset%22%3A%20null%2C%20%22fill%22%3A%20true%2C%20%22fillColor%22%3A%20%22blue%22%2C%20%22fillOpacity%22%3A%200.2%2C%20%22fillRule%22%3A%20%22evenodd%22%2C%20%22lineCap%22%3A%20%22round%22%2C%20%22lineJoin%22%3A%20%22round%22%2C%20%22opacity%22%3A%201.0%2C%20%22radius%22%3A%2010.0%2C%20%22stroke%22%3A%20true%2C%20%22weight%22%3A%203%7D%0A%20%20%20%20%20%20%20%20%20%20%20%20%29.addTo%28map_e23f4247c77841739924d8607922eb83%29%3B%0A%20%20%20%20%20%20%20%20%0A%20%20%20%20%0A%20%20%20%20%20%20%20%20var%20popup_d2498fe422cd433ba48cab9c363c6d3f%20%3D%20L.popup%28%7B%22maxWidth%22%3A%20%22100%25%22%7D%29%3B%0A%0A%20%20%20%20%20%20%20%20%0A%20%20%20%20%20%20%20%20%20%20%20%20var%20html_16dc2e3fbc6d48748d1156a70b0d9a4c%20%3D%20%24%28%60%3Cdiv%20id%3D%22html_16dc2e3fbc6d48748d1156a70b0d9a4c%22%20style%3D%22width%3A%20100.0%25%3B%20height%3A%20100.0%25%3B%22%3ECommercial%20at%20Montgomery%3C/div%3E%60%29%5B0%5D%3B%0A%20%20%20%20%20%20%20%20%20%20%20%20popup_d2498fe422cd433ba48cab9c363c6d3f.setContent%28html_16dc2e3fbc6d48748d1156a70b0d9a4c%29%3B%0A%20%20%20%20%20%20%20%20%0A%0A%20%20%20%20%20%20%20%20circle_marker_13e4f36fa69748aeac7b3fe1b31ec7b4.bindPopup%28popup_d2498fe422cd433ba48cab9c363c6d3f%29%0A%20%20%20%20%20%20%20%20%3B%0A%0A%20%20%20%20%20%20%20%20%0A%20%20%20%20%0A%20%20%20%20%0A%20%20%20%20%20%20%20%20%20%20%20%20var%20circle_marker_7cdc952e8864457a9602e9172dead5c9%20%3D%20L.circleMarker%28%0A%20%20%20%20%20%20%20%20%20%20%20%20%20%20%20%20%5B37.795425%2C%20-122.404767%5D%2C%0A%20%20%20%20%20%20%20%20%20%20%20%20%20%20%20%20%7B%22bubblingMouseEvents%22%3A%20true%2C%20%22color%22%3A%20%22%233388ff%22%2C%20%22dashArray%22%3A%20null%2C%20%22dashOffset%22%3A%20null%2C%20%22fill%22%3A%20true%2C%20%22fillColor%22%3A%20%22blue%22%2C%20%22fillOpacity%22%3A%200.2%2C%20%22fillRule%22%3A%20%22evenodd%22%2C%20%22lineCap%22%3A%20%22round%22%2C%20%22lineJoin%22%3A%20%22round%22%2C%20%22opacity%22%3A%201.0%2C%20%22radius%22%3A%2010.0%2C%20%22stroke%22%3A%20true%2C%20%22weight%22%3A%203%7D%0A%20%20%20%20%20%20%20%20%20%20%20%20%29.addTo%28map_e23f4247c77841739924d8607922eb83%29%3B%0A%20%20%20%20%20%20%20%20%0A%20%20%20%20%0A%20%20%20%20%20%20%20%20var%20popup_467e8201a889469abced64d326911813%20%3D%20L.popup%28%7B%22maxWidth%22%3A%20%22100%25%22%7D%29%3B%0A%0A%20%20%20%20%20%20%20%20%0A%20%20%20%20%20%20%20%20%20%20%20%20var%20html_bd6d90902c4240edb5424fb1d7ff27bf%20%3D%20%24%28%60%3Cdiv%20id%3D%22html_bd6d90902c4240edb5424fb1d7ff27bf%22%20style%3D%22width%3A%20100.0%25%3B%20height%3A%20100.0%25%3B%22%3EWashington%20at%20Kearney%3C/div%3E%60%29%5B0%5D%3B%0A%20%20%20%20%20%20%20%20%20%20%20%20popup_467e8201a889469abced64d326911813.setContent%28html_bd6d90902c4240edb5424fb1d7ff27bf%29%3B%0A%20%20%20%20%20%20%20%20%0A%0A%20%20%20%20%20%20%20%20circle_marker_7cdc952e8864457a9602e9172dead5c9.bindPopup%28popup_467e8201a889469abced64d326911813%29%0A%20%20%20%20%20%20%20%20%3B%0A%0A%20%20%20%20%20%20%20%20%0A%20%20%20%20%0A%20%20%20%20%0A%20%20%20%20%20%20%20%20%20%20%20%20var%20circle_marker_05a808ebfe8643aea12e900fd533948a%20%3D%20L.circleMarker%28%0A%20%20%20%20%20%20%20%20%20%20%20%20%20%20%20%20%5B37.788975%2C%20-122.403452%5D%2C%0A%20%20%20%20%20%20%20%20%20%20%20%20%20%20%20%20%7B%22bubblingMouseEvents%22%3A%20true%2C%20%22color%22%3A%20%22%233388ff%22%2C%20%22dashArray%22%3A%20null%2C%20%22dashOffset%22%3A%20null%2C%20%22fill%22%3A%20true%2C%20%22fillColor%22%3A%20%22blue%22%2C%20%22fillOpacity%22%3A%200.2%2C%20%22fillRule%22%3A%20%22evenodd%22%2C%20%22lineCap%22%3A%20%22round%22%2C%20%22lineJoin%22%3A%20%22round%22%2C%20%22opacity%22%3A%201.0%2C%20%22radius%22%3A%2010.0%2C%20%22stroke%22%3A%20true%2C%20%22weight%22%3A%203%7D%0A%20%20%20%20%20%20%20%20%20%20%20%20%29.addTo%28map_e23f4247c77841739924d8607922eb83%29%3B%0A%20%20%20%20%20%20%20%20%0A%20%20%20%20%0A%20%20%20%20%20%20%20%20var%20popup_55deb38cb1cf4eb0ad873494f1bfd56d%20%3D%20L.popup%28%7B%22maxWidth%22%3A%20%22100%25%22%7D%29%3B%0A%0A%20%20%20%20%20%20%20%20%0A%20%20%20%20%20%20%20%20%20%20%20%20var%20html_04d84e45314344469cc18535bfb94db5%20%3D%20%24%28%60%3Cdiv%20id%3D%22html_04d84e45314344469cc18535bfb94db5%22%20style%3D%22width%3A%20100.0%25%3B%20height%3A%20100.0%25%3B%22%3EPost%20at%20Kearney%3C/div%3E%60%29%5B0%5D%3B%0A%20%20%20%20%20%20%20%20%20%20%20%20popup_55deb38cb1cf4eb0ad873494f1bfd56d.setContent%28html_04d84e45314344469cc18535bfb94db5%29%3B%0A%20%20%20%20%20%20%20%20%0A%0A%20%20%20%20%20%20%20%20circle_marker_05a808ebfe8643aea12e900fd533948a.bindPopup%28popup_55deb38cb1cf4eb0ad873494f1bfd56d%29%0A%20%20%20%20%20%20%20%20%3B%0A%0A%20%20%20%20%20%20%20%20%0A%20%20%20%20%0A%20%20%20%20%0A%20%20%20%20%20%20%20%20%20%20%20%20var%20circle_marker_6e9f68b24bd44754bb05bb0b61819985%20%3D%20L.circleMarker%28%0A%20%20%20%20%20%20%20%20%20%20%20%20%20%20%20%20%5B37.799953%2C%20-122.398525%5D%2C%0A%20%20%20%20%20%20%20%20%20%20%20%20%20%20%20%20%7B%22bubblingMouseEvents%22%3A%20true%2C%20%22color%22%3A%20%22%233388ff%22%2C%20%22dashArray%22%3A%20null%2C%20%22dashOffset%22%3A%20null%2C%20%22fill%22%3A%20true%2C%20%22fillColor%22%3A%20%22blue%22%2C%20%22fillOpacity%22%3A%200.2%2C%20%22fillRule%22%3A%20%22evenodd%22%2C%20%22lineCap%22%3A%20%22round%22%2C%20%22lineJoin%22%3A%20%22round%22%2C%20%22opacity%22%3A%201.0%2C%20%22radius%22%3A%2010.0%2C%20%22stroke%22%3A%20true%2C%20%22weight%22%3A%203%7D%0A%20%20%20%20%20%20%20%20%20%20%20%20%29.addTo%28map_e23f4247c77841739924d8607922eb83%29%3B%0A%20%20%20%20%20%20%20%20%0A%20%20%20%20%0A%20%20%20%20%20%20%20%20var%20popup_aeddb59f78fe4e2da6ab43bad7f1a0fe%20%3D%20L.popup%28%7B%22maxWidth%22%3A%20%22100%25%22%7D%29%3B%0A%0A%20%20%20%20%20%20%20%20%0A%20%20%20%20%20%20%20%20%20%20%20%20var%20html_2ab844850193498f8d433b33682b325e%20%3D%20%24%28%60%3Cdiv%20id%3D%22html_2ab844850193498f8d433b33682b325e%22%20style%3D%22width%3A%20100.0%25%3B%20height%3A%20100.0%25%3B%22%3EEmbarcadero%20at%20Vallejo%3C/div%3E%60%29%5B0%5D%3B%0A%20%20%20%20%20%20%20%20%20%20%20%20popup_aeddb59f78fe4e2da6ab43bad7f1a0fe.setContent%28html_2ab844850193498f8d433b33682b325e%29%3B%0A%20%20%20%20%20%20%20%20%0A%0A%20%20%20%20%20%20%20%20circle_marker_6e9f68b24bd44754bb05bb0b61819985.bindPopup%28popup_aeddb59f78fe4e2da6ab43bad7f1a0fe%29%0A%20%20%20%20%20%20%20%20%3B%0A%0A%20%20%20%20%20%20%20%20%0A%20%20%20%20%0A%20%20%20%20%0A%20%20%20%20%20%20%20%20%20%20%20%20var%20circle_marker_8234af897a814281a5fcdcc686f66e99%20%3D%20L.circleMarker%28%0A%20%20%20%20%20%20%20%20%20%20%20%20%20%20%20%20%5B37.790302%2C%20-122.390637%5D%2C%0A%20%20%20%20%20%20%20%20%20%20%20%20%20%20%20%20%7B%22bubblingMouseEvents%22%3A%20true%2C%20%22color%22%3A%20%22%233388ff%22%2C%20%22dashArray%22%3A%20null%2C%20%22dashOffset%22%3A%20null%2C%20%22fill%22%3A%20true%2C%20%22fillColor%22%3A%20%22blue%22%2C%20%22fillOpacity%22%3A%200.2%2C%20%22fillRule%22%3A%20%22evenodd%22%2C%20%22lineCap%22%3A%20%22round%22%2C%20%22lineJoin%22%3A%20%22round%22%2C%20%22opacity%22%3A%201.0%2C%20%22radius%22%3A%2010.0%2C%20%22stroke%22%3A%20true%2C%20%22weight%22%3A%203%7D%0A%20%20%20%20%20%20%20%20%20%20%20%20%29.addTo%28map_e23f4247c77841739924d8607922eb83%29%3B%0A%20%20%20%20%20%20%20%20%0A%20%20%20%20%0A%20%20%20%20%20%20%20%20var%20popup_8e012096c89d4a21a24e621e5afb6c71%20%3D%20L.popup%28%7B%22maxWidth%22%3A%20%22100%25%22%7D%29%3B%0A%0A%20%20%20%20%20%20%20%20%0A%20%20%20%20%20%20%20%20%20%20%20%20var%20html_23db5b1ca1a44a9c990973dd4d505ad5%20%3D%20%24%28%60%3Cdiv%20id%3D%22html_23db5b1ca1a44a9c990973dd4d505ad5%22%20style%3D%22width%3A%20100.0%25%3B%20height%3A%20100.0%25%3B%22%3ESpear%20at%20Folsom%3C/div%3E%60%29%5B0%5D%3B%0A%20%20%20%20%20%20%20%20%20%20%20%20popup_8e012096c89d4a21a24e621e5afb6c71.setContent%28html_23db5b1ca1a44a9c990973dd4d505ad5%29%3B%0A%20%20%20%20%20%20%20%20%0A%0A%20%20%20%20%20%20%20%20circle_marker_8234af897a814281a5fcdcc686f66e99.bindPopup%28popup_8e012096c89d4a21a24e621e5afb6c71%29%0A%20%20%20%20%20%20%20%20%3B%0A%0A%20%20%20%20%20%20%20%20%0A%20%20%20%20%0A%20%20%20%20%0A%20%20%20%20%20%20%20%20%20%20%20%20var%20circle_marker_bce1e831cb1240fb848ce8aef9a95ea8%20%3D%20L.circleMarker%28%0A%20%20%20%20%20%20%20%20%20%20%20%20%20%20%20%20%5B37.795392%2C%20-122.394203%5D%2C%0A%20%20%20%20%20%20%20%20%20%20%20%20%20%20%20%20%7B%22bubblingMouseEvents%22%3A%20true%2C%20%22color%22%3A%20%22%233388ff%22%2C%20%22dashArray%22%3A%20null%2C%20%22dashOffset%22%3A%20null%2C%20%22fill%22%3A%20true%2C%20%22fillColor%22%3A%20%22blue%22%2C%20%22fillOpacity%22%3A%200.2%2C%20%22fillRule%22%3A%20%22evenodd%22%2C%20%22lineCap%22%3A%20%22round%22%2C%20%22lineJoin%22%3A%20%22round%22%2C%20%22opacity%22%3A%201.0%2C%20%22radius%22%3A%2010.0%2C%20%22stroke%22%3A%20true%2C%20%22weight%22%3A%203%7D%0A%20%20%20%20%20%20%20%20%20%20%20%20%29.addTo%28map_e23f4247c77841739924d8607922eb83%29%3B%0A%20%20%20%20%20%20%20%20%0A%20%20%20%20%0A%20%20%20%20%20%20%20%20var%20popup_68d8ae54bd384257b82ced1dd48f985c%20%3D%20L.popup%28%7B%22maxWidth%22%3A%20%22100%25%22%7D%29%3B%0A%0A%20%20%20%20%20%20%20%20%0A%20%20%20%20%20%20%20%20%20%20%20%20var%20html_c905766c29074affaf99f3233551ff54%20%3D%20%24%28%60%3Cdiv%20id%3D%22html_c905766c29074affaf99f3233551ff54%22%20style%3D%22width%3A%20100.0%25%3B%20height%3A%20100.0%25%3B%22%3EHarry%20Bridges%20Plaza%20%28Ferry%20Building%29%3C/div%3E%60%29%5B0%5D%3B%0A%20%20%20%20%20%20%20%20%20%20%20%20popup_68d8ae54bd384257b82ced1dd48f985c.setContent%28html_c905766c29074affaf99f3233551ff54%29%3B%0A%20%20%20%20%20%20%20%20%0A%0A%20%20%20%20%20%20%20%20circle_marker_bce1e831cb1240fb848ce8aef9a95ea8.bindPopup%28popup_68d8ae54bd384257b82ced1dd48f985c%29%0A%20%20%20%20%20%20%20%20%3B%0A%0A%20%20%20%20%20%20%20%20%0A%20%20%20%20%0A%20%20%20%20%0A%20%20%20%20%20%20%20%20%20%20%20%20var%20circle_marker_5b80c9375a9d48569237b6ec51a476a3%20%3D%20L.circleMarker%28%0A%20%20%20%20%20%20%20%20%20%20%20%20%20%20%20%20%5B37.791464%2C%20-122.391034%5D%2C%0A%20%20%20%20%20%20%20%20%20%20%20%20%20%20%20%20%7B%22bubblingMouseEvents%22%3A%20true%2C%20%22color%22%3A%20%22%233388ff%22%2C%20%22dashArray%22%3A%20null%2C%20%22dashOffset%22%3A%20null%2C%20%22fill%22%3A%20true%2C%20%22fillColor%22%3A%20%22blue%22%2C%20%22fillOpacity%22%3A%200.2%2C%20%22fillRule%22%3A%20%22evenodd%22%2C%20%22lineCap%22%3A%20%22round%22%2C%20%22lineJoin%22%3A%20%22round%22%2C%20%22opacity%22%3A%201.0%2C%20%22radius%22%3A%2010.0%2C%20%22stroke%22%3A%20true%2C%20%22weight%22%3A%203%7D%0A%20%20%20%20%20%20%20%20%20%20%20%20%29.addTo%28map_e23f4247c77841739924d8607922eb83%29%3B%0A%20%20%20%20%20%20%20%20%0A%20%20%20%20%0A%20%20%20%20%20%20%20%20var%20popup_9a9f8c9ea8ee4418879c447c7d3f69d9%20%3D%20L.popup%28%7B%22maxWidth%22%3A%20%22100%25%22%7D%29%3B%0A%0A%20%20%20%20%20%20%20%20%0A%20%20%20%20%20%20%20%20%20%20%20%20var%20html_10e2db50adcf4f84a67f59620e07bcf0%20%3D%20%24%28%60%3Cdiv%20id%3D%22html_10e2db50adcf4f84a67f59620e07bcf0%22%20style%3D%22width%3A%20100.0%25%3B%20height%3A%20100.0%25%3B%22%3EEmbarcadero%20at%20Folsom%3C/div%3E%60%29%5B0%5D%3B%0A%20%20%20%20%20%20%20%20%20%20%20%20popup_9a9f8c9ea8ee4418879c447c7d3f69d9.setContent%28html_10e2db50adcf4f84a67f59620e07bcf0%29%3B%0A%20%20%20%20%20%20%20%20%0A%0A%20%20%20%20%20%20%20%20circle_marker_5b80c9375a9d48569237b6ec51a476a3.bindPopup%28popup_9a9f8c9ea8ee4418879c447c7d3f69d9%29%0A%20%20%20%20%20%20%20%20%3B%0A%0A%20%20%20%20%20%20%20%20%0A%20%20%20%20%0A%20%20%20%20%0A%20%20%20%20%20%20%20%20%20%20%20%20var%20circle_marker_a19510fe45614362a86979cc54cdec7e%20%3D%20L.circleMarker%28%0A%20%20%20%20%20%20%20%20%20%20%20%20%20%20%20%20%5B37.783871%2C%20-122.408433%5D%2C%0A%20%20%20%20%20%20%20%20%20%20%20%20%20%20%20%20%7B%22bubblingMouseEvents%22%3A%20true%2C%20%22color%22%3A%20%22%233388ff%22%2C%20%22dashArray%22%3A%20null%2C%20%22dashOffset%22%3A%20null%2C%20%22fill%22%3A%20true%2C%20%22fillColor%22%3A%20%22blue%22%2C%20%22fillOpacity%22%3A%200.2%2C%20%22fillRule%22%3A%20%22evenodd%22%2C%20%22lineCap%22%3A%20%22round%22%2C%20%22lineJoin%22%3A%20%22round%22%2C%20%22opacity%22%3A%201.0%2C%20%22radius%22%3A%2010.0%2C%20%22stroke%22%3A%20true%2C%20%22weight%22%3A%203%7D%0A%20%20%20%20%20%20%20%20%20%20%20%20%29.addTo%28map_e23f4247c77841739924d8607922eb83%29%3B%0A%20%20%20%20%20%20%20%20%0A%20%20%20%20%0A%20%20%20%20%20%20%20%20var%20popup_a26656341d194b4ea2b8578e6c4b0be1%20%3D%20L.popup%28%7B%22maxWidth%22%3A%20%22100%25%22%7D%29%3B%0A%0A%20%20%20%20%20%20%20%20%0A%20%20%20%20%20%20%20%20%20%20%20%20var%20html_35fae2a4eef347569d53bbba48759a9c%20%3D%20%24%28%60%3Cdiv%20id%3D%22html_35fae2a4eef347569d53bbba48759a9c%22%20style%3D%22width%3A%20100.0%25%3B%20height%3A%20100.0%25%3B%22%3EPowell%20Street%20BART%3C/div%3E%60%29%5B0%5D%3B%0A%20%20%20%20%20%20%20%20%20%20%20%20popup_a26656341d194b4ea2b8578e6c4b0be1.setContent%28html_35fae2a4eef347569d53bbba48759a9c%29%3B%0A%20%20%20%20%20%20%20%20%0A%0A%20%20%20%20%20%20%20%20circle_marker_a19510fe45614362a86979cc54cdec7e.bindPopup%28popup_a26656341d194b4ea2b8578e6c4b0be1%29%0A%20%20%20%20%20%20%20%20%3B%0A%0A%20%20%20%20%20%20%20%20%0A%20%20%20%20%0A%20%20%20%20%0A%20%20%20%20%20%20%20%20%20%20%20%20var%20circle_marker_ea8deb0863584e34a25dfbf47df02a80%20%3D%20L.circleMarker%28%0A%20%20%20%20%20%20%20%20%20%20%20%20%20%20%20%20%5B37.787152%2C%20-122.388013%5D%2C%0A%20%20%20%20%20%20%20%20%20%20%20%20%20%20%20%20%7B%22bubblingMouseEvents%22%3A%20true%2C%20%22color%22%3A%20%22%233388ff%22%2C%20%22dashArray%22%3A%20null%2C%20%22dashOffset%22%3A%20null%2C%20%22fill%22%3A%20true%2C%20%22fillColor%22%3A%20%22blue%22%2C%20%22fillOpacity%22%3A%200.2%2C%20%22fillRule%22%3A%20%22evenodd%22%2C%20%22lineCap%22%3A%20%22round%22%2C%20%22lineJoin%22%3A%20%22round%22%2C%20%22opacity%22%3A%201.0%2C%20%22radius%22%3A%2010.0%2C%20%22stroke%22%3A%20true%2C%20%22weight%22%3A%203%7D%0A%20%20%20%20%20%20%20%20%20%20%20%20%29.addTo%28map_e23f4247c77841739924d8607922eb83%29%3B%0A%20%20%20%20%20%20%20%20%0A%20%20%20%20%0A%20%20%20%20%20%20%20%20var%20popup_846667b7ba9246ac910a09f44f71c9f5%20%3D%20L.popup%28%7B%22maxWidth%22%3A%20%22100%25%22%7D%29%3B%0A%0A%20%20%20%20%20%20%20%20%0A%20%20%20%20%20%20%20%20%20%20%20%20var%20html_89bc9e7aec3e443c8a7ff59ac7462ee3%20%3D%20%24%28%60%3Cdiv%20id%3D%22html_89bc9e7aec3e443c8a7ff59ac7462ee3%22%20style%3D%22width%3A%20100.0%25%3B%20height%3A%20100.0%25%3B%22%3EEmbarcadero%20at%20Bryant%3C/div%3E%60%29%5B0%5D%3B%0A%20%20%20%20%20%20%20%20%20%20%20%20popup_846667b7ba9246ac910a09f44f71c9f5.setContent%28html_89bc9e7aec3e443c8a7ff59ac7462ee3%29%3B%0A%20%20%20%20%20%20%20%20%0A%0A%20%20%20%20%20%20%20%20circle_marker_ea8deb0863584e34a25dfbf47df02a80.bindPopup%28popup_846667b7ba9246ac910a09f44f71c9f5%29%0A%20%20%20%20%20%20%20%20%3B%0A%0A%20%20%20%20%20%20%20%20%0A%20%20%20%20%0A%20%20%20%20%0A%20%20%20%20%20%20%20%20%20%20%20%20var%20circle_marker_1d60a8d846cf46909f9eb3199ef38b11%20%3D%20L.circleMarker%28%0A%20%20%20%20%20%20%20%20%20%20%20%20%20%20%20%20%5B37.789756%2C%20-122.394643%5D%2C%0A%20%20%20%20%20%20%20%20%20%20%20%20%20%20%20%20%7B%22bubblingMouseEvents%22%3A%20true%2C%20%22color%22%3A%20%22%233388ff%22%2C%20%22dashArray%22%3A%20null%2C%20%22dashOffset%22%3A%20null%2C%20%22fill%22%3A%20true%2C%20%22fillColor%22%3A%20%22blue%22%2C%20%22fillOpacity%22%3A%200.2%2C%20%22fillRule%22%3A%20%22evenodd%22%2C%20%22lineCap%22%3A%20%22round%22%2C%20%22lineJoin%22%3A%20%22round%22%2C%20%22opacity%22%3A%201.0%2C%20%22radius%22%3A%2010.0%2C%20%22stroke%22%3A%20true%2C%20%22weight%22%3A%203%7D%0A%20%20%20%20%20%20%20%20%20%20%20%20%29.addTo%28map_e23f4247c77841739924d8607922eb83%29%3B%0A%20%20%20%20%20%20%20%20%0A%20%20%20%20%0A%20%20%20%20%20%20%20%20var%20popup_22d0918f27d44baaa5aa0ea85f44a505%20%3D%20L.popup%28%7B%22maxWidth%22%3A%20%22100%25%22%7D%29%3B%0A%0A%20%20%20%20%20%20%20%20%0A%20%20%20%20%20%20%20%20%20%20%20%20var%20html_a241aed0dcd548cba422091fdbdd3220%20%3D%20%24%28%60%3Cdiv%20id%3D%22html_a241aed0dcd548cba422091fdbdd3220%22%20style%3D%22width%3A%20100.0%25%3B%20height%3A%20100.0%25%3B%22%3ETemporary%20Transbay%20Terminal%20%28Howard%20at%20Beale%29%3C/div%3E%60%29%5B0%5D%3B%0A%20%20%20%20%20%20%20%20%20%20%20%20popup_22d0918f27d44baaa5aa0ea85f44a505.setContent%28html_a241aed0dcd548cba422091fdbdd3220%29%3B%0A%20%20%20%20%20%20%20%20%0A%0A%20%20%20%20%20%20%20%20circle_marker_1d60a8d846cf46909f9eb3199ef38b11.bindPopup%28popup_22d0918f27d44baaa5aa0ea85f44a505%29%0A%20%20%20%20%20%20%20%20%3B%0A%0A%20%20%20%20%20%20%20%20%0A%20%20%20%20%0A%20%20%20%20%0A%20%20%20%20%20%20%20%20%20%20%20%20var%20circle_marker_7958c42a25b442df82ac0e7989b164d4%20%3D%20L.circleMarker%28%0A%20%20%20%20%20%20%20%20%20%20%20%20%20%20%20%20%5B37.792251%2C%20-122.397086%5D%2C%0A%20%20%20%20%20%20%20%20%20%20%20%20%20%20%20%20%7B%22bubblingMouseEvents%22%3A%20true%2C%20%22color%22%3A%20%22%233388ff%22%2C%20%22dashArray%22%3A%20null%2C%20%22dashOffset%22%3A%20null%2C%20%22fill%22%3A%20true%2C%20%22fillColor%22%3A%20%22blue%22%2C%20%22fillOpacity%22%3A%200.2%2C%20%22fillRule%22%3A%20%22evenodd%22%2C%20%22lineCap%22%3A%20%22round%22%2C%20%22lineJoin%22%3A%20%22round%22%2C%20%22opacity%22%3A%201.0%2C%20%22radius%22%3A%2010.0%2C%20%22stroke%22%3A%20true%2C%20%22weight%22%3A%203%7D%0A%20%20%20%20%20%20%20%20%20%20%20%20%29.addTo%28map_e23f4247c77841739924d8607922eb83%29%3B%0A%20%20%20%20%20%20%20%20%0A%20%20%20%20%0A%20%20%20%20%20%20%20%20var%20popup_b1f6930966c2408eb0880b0e8c8aa8e7%20%3D%20L.popup%28%7B%22maxWidth%22%3A%20%22100%25%22%7D%29%3B%0A%0A%20%20%20%20%20%20%20%20%0A%20%20%20%20%20%20%20%20%20%20%20%20var%20html_c66f7b680c274b2bb3b5ac76a298c0b2%20%3D%20%24%28%60%3Cdiv%20id%3D%22html_c66f7b680c274b2bb3b5ac76a298c0b2%22%20style%3D%22width%3A%20100.0%25%3B%20height%3A%20100.0%25%3B%22%3EBeale%20at%20Market%3C/div%3E%60%29%5B0%5D%3B%0A%20%20%20%20%20%20%20%20%20%20%20%20popup_b1f6930966c2408eb0880b0e8c8aa8e7.setContent%28html_c66f7b680c274b2bb3b5ac76a298c0b2%29%3B%0A%20%20%20%20%20%20%20%20%0A%0A%20%20%20%20%20%20%20%20circle_marker_7958c42a25b442df82ac0e7989b164d4.bindPopup%28popup_b1f6930966c2408eb0880b0e8c8aa8e7%29%0A%20%20%20%20%20%20%20%20%3B%0A%0A%20%20%20%20%20%20%20%20%0A%20%20%20%20%0A%20%20%20%20%0A%20%20%20%20%20%20%20%20%20%20%20%20var%20circle_marker_106929891d0444fca523a43d7321691a%20%3D%20L.circleMarker%28%0A%20%20%20%20%20%20%20%20%20%20%20%20%20%20%20%20%5B37.781752%2C%20-122.405127%5D%2C%0A%20%20%20%20%20%20%20%20%20%20%20%20%20%20%20%20%7B%22bubblingMouseEvents%22%3A%20true%2C%20%22color%22%3A%20%22%233388ff%22%2C%20%22dashArray%22%3A%20null%2C%20%22dashOffset%22%3A%20null%2C%20%22fill%22%3A%20true%2C%20%22fillColor%22%3A%20%22blue%22%2C%20%22fillOpacity%22%3A%200.2%2C%20%22fillRule%22%3A%20%22evenodd%22%2C%20%22lineCap%22%3A%20%22round%22%2C%20%22lineJoin%22%3A%20%22round%22%2C%20%22opacity%22%3A%201.0%2C%20%22radius%22%3A%2010.0%2C%20%22stroke%22%3A%20true%2C%20%22weight%22%3A%203%7D%0A%20%20%20%20%20%20%20%20%20%20%20%20%29.addTo%28map_e23f4247c77841739924d8607922eb83%29%3B%0A%20%20%20%20%20%20%20%20%0A%20%20%20%20%0A%20%20%20%20%20%20%20%20var%20popup_48c19331f1054326ad5dc4202adea189%20%3D%20L.popup%28%7B%22maxWidth%22%3A%20%22100%25%22%7D%29%3B%0A%0A%20%20%20%20%20%20%20%20%0A%20%20%20%20%20%20%20%20%20%20%20%20var%20html_ec0872da66b24d048a981da90d393683%20%3D%20%24%28%60%3Cdiv%20id%3D%22html_ec0872da66b24d048a981da90d393683%22%20style%3D%22width%3A%20100.0%25%3B%20height%3A%20100.0%25%3B%22%3E5th%20at%20Howard%3C/div%3E%60%29%5B0%5D%3B%0A%20%20%20%20%20%20%20%20%20%20%20%20popup_48c19331f1054326ad5dc4202adea189.setContent%28html_ec0872da66b24d048a981da90d393683%29%3B%0A%20%20%20%20%20%20%20%20%0A%0A%20%20%20%20%20%20%20%20circle_marker_106929891d0444fca523a43d7321691a.bindPopup%28popup_48c19331f1054326ad5dc4202adea189%29%0A%20%20%20%20%20%20%20%20%3B%0A%0A%20%20%20%20%20%20%20%20%0A%20%20%20%20%0A%20%20%20%20%0A%20%20%20%20%20%20%20%20%20%20%20%20var%20circle_marker_d927b61a500f497a9b5440f1b2aadf6c%20%3D%20L.circleMarker%28%0A%20%20%20%20%20%20%20%20%20%20%20%20%20%20%20%20%5B37.77865%2C%20-122.418235%5D%2C%0A%20%20%20%20%20%20%20%20%20%20%20%20%20%20%20%20%7B%22bubblingMouseEvents%22%3A%20true%2C%20%22color%22%3A%20%22%233388ff%22%2C%20%22dashArray%22%3A%20null%2C%20%22dashOffset%22%3A%20null%2C%20%22fill%22%3A%20true%2C%20%22fillColor%22%3A%20%22blue%22%2C%20%22fillOpacity%22%3A%200.2%2C%20%22fillRule%22%3A%20%22evenodd%22%2C%20%22lineCap%22%3A%20%22round%22%2C%20%22lineJoin%22%3A%20%22round%22%2C%20%22opacity%22%3A%201.0%2C%20%22radius%22%3A%2010.0%2C%20%22stroke%22%3A%20true%2C%20%22weight%22%3A%203%7D%0A%20%20%20%20%20%20%20%20%20%20%20%20%29.addTo%28map_e23f4247c77841739924d8607922eb83%29%3B%0A%20%20%20%20%20%20%20%20%0A%20%20%20%20%0A%20%20%20%20%20%20%20%20var%20popup_b5a3d88cd74a49fab732357ffe4d8798%20%3D%20L.popup%28%7B%22maxWidth%22%3A%20%22100%25%22%7D%29%3B%0A%0A%20%20%20%20%20%20%20%20%0A%20%20%20%20%20%20%20%20%20%20%20%20var%20html_96e57ca659bd4aafaeb82d73ef2d95be%20%3D%20%24%28%60%3Cdiv%20id%3D%22html_96e57ca659bd4aafaeb82d73ef2d95be%22%20style%3D%22width%3A%20100.0%25%3B%20height%3A%20100.0%25%3B%22%3ESan%20Francisco%20City%20Hall%3C/div%3E%60%29%5B0%5D%3B%0A%20%20%20%20%20%20%20%20%20%20%20%20popup_b5a3d88cd74a49fab732357ffe4d8798.setContent%28html_96e57ca659bd4aafaeb82d73ef2d95be%29%3B%0A%20%20%20%20%20%20%20%20%0A%0A%20%20%20%20%20%20%20%20circle_marker_d927b61a500f497a9b5440f1b2aadf6c.bindPopup%28popup_b5a3d88cd74a49fab732357ffe4d8798%29%0A%20%20%20%20%20%20%20%20%3B%0A%0A%20%20%20%20%20%20%20%20%0A%20%20%20%20%0A%20%20%20%20%0A%20%20%20%20%20%20%20%20%20%20%20%20var%20circle_marker_cfa8e7d958d54cc68b5d517f40056386%20%3D%20L.circleMarker%28%0A%20%20%20%20%20%20%20%20%20%20%20%20%20%20%20%20%5B37.781332%2C%20-122.418603%5D%2C%0A%20%20%20%20%20%20%20%20%20%20%20%20%20%20%20%20%7B%22bubblingMouseEvents%22%3A%20true%2C%20%22color%22%3A%20%22%233388ff%22%2C%20%22dashArray%22%3A%20null%2C%20%22dashOffset%22%3A%20null%2C%20%22fill%22%3A%20true%2C%20%22fillColor%22%3A%20%22blue%22%2C%20%22fillOpacity%22%3A%200.2%2C%20%22fillRule%22%3A%20%22evenodd%22%2C%20%22lineCap%22%3A%20%22round%22%2C%20%22lineJoin%22%3A%20%22round%22%2C%20%22opacity%22%3A%201.0%2C%20%22radius%22%3A%2010.0%2C%20%22stroke%22%3A%20true%2C%20%22weight%22%3A%203%7D%0A%20%20%20%20%20%20%20%20%20%20%20%20%29.addTo%28map_e23f4247c77841739924d8607922eb83%29%3B%0A%20%20%20%20%20%20%20%20%0A%20%20%20%20%0A%20%20%20%20%20%20%20%20var%20popup_12c5a80b30874e0a809630fa27d6214a%20%3D%20L.popup%28%7B%22maxWidth%22%3A%20%22100%25%22%7D%29%3B%0A%0A%20%20%20%20%20%20%20%20%0A%20%20%20%20%20%20%20%20%20%20%20%20var%20html_b2581ad7f6514a018772b1bc176d9567%20%3D%20%24%28%60%3Cdiv%20id%3D%22html_b2581ad7f6514a018772b1bc176d9567%22%20style%3D%22width%3A%20100.0%25%3B%20height%3A%20100.0%25%3B%22%3EGolden%20Gate%20at%20Polk%3C/div%3E%60%29%5B0%5D%3B%0A%20%20%20%20%20%20%20%20%20%20%20%20popup_12c5a80b30874e0a809630fa27d6214a.setContent%28html_b2581ad7f6514a018772b1bc176d9567%29%3B%0A%20%20%20%20%20%20%20%20%0A%0A%20%20%20%20%20%20%20%20circle_marker_cfa8e7d958d54cc68b5d517f40056386.bindPopup%28popup_12c5a80b30874e0a809630fa27d6214a%29%0A%20%20%20%20%20%20%20%20%3B%0A%0A%20%20%20%20%20%20%20%20%0A%20%20%20%20%0A%20%20%20%20%0A%20%20%20%20%20%20%20%20%20%20%20%20var%20circle_marker_809358c332854963bf6e559f8ee18488%20%3D%20L.circleMarker%28%0A%20%20%20%20%20%20%20%20%20%20%20%20%20%20%20%20%5B37.80477%2C%20-122.403234%5D%2C%0A%20%20%20%20%20%20%20%20%20%20%20%20%20%20%20%20%7B%22bubblingMouseEvents%22%3A%20true%2C%20%22color%22%3A%20%22%233388ff%22%2C%20%22dashArray%22%3A%20null%2C%20%22dashOffset%22%3A%20null%2C%20%22fill%22%3A%20true%2C%20%22fillColor%22%3A%20%22blue%22%2C%20%22fillOpacity%22%3A%200.2%2C%20%22fillRule%22%3A%20%22evenodd%22%2C%20%22lineCap%22%3A%20%22round%22%2C%20%22lineJoin%22%3A%20%22round%22%2C%20%22opacity%22%3A%201.0%2C%20%22radius%22%3A%2010.0%2C%20%22stroke%22%3A%20true%2C%20%22weight%22%3A%203%7D%0A%20%20%20%20%20%20%20%20%20%20%20%20%29.addTo%28map_e23f4247c77841739924d8607922eb83%29%3B%0A%20%20%20%20%20%20%20%20%0A%20%20%20%20%0A%20%20%20%20%20%20%20%20var%20popup_5d13bfbf07834658ac24bf95ece715f5%20%3D%20L.popup%28%7B%22maxWidth%22%3A%20%22100%25%22%7D%29%3B%0A%0A%20%20%20%20%20%20%20%20%0A%20%20%20%20%20%20%20%20%20%20%20%20var%20html_4476747eb3d8420592a19785529e34ea%20%3D%20%24%28%60%3Cdiv%20id%3D%22html_4476747eb3d8420592a19785529e34ea%22%20style%3D%22width%3A%20100.0%25%3B%20height%3A%20100.0%25%3B%22%3EEmbarcadero%20at%20Sansome%3C/div%3E%60%29%5B0%5D%3B%0A%20%20%20%20%20%20%20%20%20%20%20%20popup_5d13bfbf07834658ac24bf95ece715f5.setContent%28html_4476747eb3d8420592a19785529e34ea%29%3B%0A%20%20%20%20%20%20%20%20%0A%0A%20%20%20%20%20%20%20%20circle_marker_809358c332854963bf6e559f8ee18488.bindPopup%28popup_5d13bfbf07834658ac24bf95ece715f5%29%0A%20%20%20%20%20%20%20%20%3B%0A%0A%20%20%20%20%20%20%20%20%0A%20%20%20%20%0A%20%20%20%20%0A%20%20%20%20%20%20%20%20%20%20%20%20var%20circle_marker_cc66793f1e38490b802dae0b45d7a409%20%3D%20L.circleMarker%28%0A%20%20%20%20%20%20%20%20%20%20%20%20%20%20%20%20%5B37.780526%2C%20-122.390288%5D%2C%0A%20%20%20%20%20%20%20%20%20%20%20%20%20%20%20%20%7B%22bubblingMouseEvents%22%3A%20true%2C%20%22color%22%3A%20%22%233388ff%22%2C%20%22dashArray%22%3A%20null%2C%20%22dashOffset%22%3A%20null%2C%20%22fill%22%3A%20true%2C%20%22fillColor%22%3A%20%22blue%22%2C%20%22fillOpacity%22%3A%200.2%2C%20%22fillRule%22%3A%20%22evenodd%22%2C%20%22lineCap%22%3A%20%22round%22%2C%20%22lineJoin%22%3A%20%22round%22%2C%20%22opacity%22%3A%201.0%2C%20%22radius%22%3A%2010.0%2C%20%22stroke%22%3A%20true%2C%20%22weight%22%3A%203%7D%0A%20%20%20%20%20%20%20%20%20%20%20%20%29.addTo%28map_e23f4247c77841739924d8607922eb83%29%3B%0A%20%20%20%20%20%20%20%20%0A%20%20%20%20%0A%20%20%20%20%20%20%20%20var%20popup_8d191770c3324312b7d40a318dae8ef4%20%3D%20L.popup%28%7B%22maxWidth%22%3A%20%22100%25%22%7D%29%3B%0A%0A%20%20%20%20%20%20%20%20%0A%20%20%20%20%20%20%20%20%20%20%20%20var%20html_fcee9cbe38c64abd9e47184e9c58c7f5%20%3D%20%24%28%60%3Cdiv%20id%3D%22html_fcee9cbe38c64abd9e47184e9c58c7f5%22%20style%3D%22width%3A%20100.0%25%3B%20height%3A%20100.0%25%3B%22%3E2nd%20at%20Townsend%3C/div%3E%60%29%5B0%5D%3B%0A%20%20%20%20%20%20%20%20%20%20%20%20popup_8d191770c3324312b7d40a318dae8ef4.setContent%28html_fcee9cbe38c64abd9e47184e9c58c7f5%29%3B%0A%20%20%20%20%20%20%20%20%0A%0A%20%20%20%20%20%20%20%20circle_marker_cc66793f1e38490b802dae0b45d7a409.bindPopup%28popup_8d191770c3324312b7d40a318dae8ef4%29%0A%20%20%20%20%20%20%20%20%3B%0A%0A%20%20%20%20%20%20%20%20%0A%20%20%20%20%0A%20%20%20%20%0A%20%20%20%20%20%20%20%20%20%20%20%20var%20circle_marker_d6050e83838b4904970b8b47890d3047%20%3D%20L.circleMarker%28%0A%20%20%20%20%20%20%20%20%20%20%20%20%20%20%20%20%5B37.785299%2C%20-122.396236%5D%2C%0A%20%20%20%20%20%20%20%20%20%20%20%20%20%20%20%20%7B%22bubblingMouseEvents%22%3A%20true%2C%20%22color%22%3A%20%22%233388ff%22%2C%20%22dashArray%22%3A%20null%2C%20%22dashOffset%22%3A%20null%2C%20%22fill%22%3A%20true%2C%20%22fillColor%22%3A%20%22blue%22%2C%20%22fillOpacity%22%3A%200.2%2C%20%22fillRule%22%3A%20%22evenodd%22%2C%20%22lineCap%22%3A%20%22round%22%2C%20%22lineJoin%22%3A%20%22round%22%2C%20%22opacity%22%3A%201.0%2C%20%22radius%22%3A%2010.0%2C%20%22stroke%22%3A%20true%2C%20%22weight%22%3A%203%7D%0A%20%20%20%20%20%20%20%20%20%20%20%20%29.addTo%28map_e23f4247c77841739924d8607922eb83%29%3B%0A%20%20%20%20%20%20%20%20%0A%20%20%20%20%0A%20%20%20%20%20%20%20%20var%20popup_e926a7798619402685ab059aae45b773%20%3D%20L.popup%28%7B%22maxWidth%22%3A%20%22100%25%22%7D%29%3B%0A%0A%20%20%20%20%20%20%20%20%0A%20%20%20%20%20%20%20%20%20%20%20%20var%20html_62062738eb2146ac9c2fd6017af74967%20%3D%20%24%28%60%3Cdiv%20id%3D%22html_62062738eb2146ac9c2fd6017af74967%22%20style%3D%22width%3A%20100.0%25%3B%20height%3A%20100.0%25%3B%22%3E2nd%20at%20Folsom%3C/div%3E%60%29%5B0%5D%3B%0A%20%20%20%20%20%20%20%20%20%20%20%20popup_e926a7798619402685ab059aae45b773.setContent%28html_62062738eb2146ac9c2fd6017af74967%29%3B%0A%20%20%20%20%20%20%20%20%0A%0A%20%20%20%20%20%20%20%20circle_marker_d6050e83838b4904970b8b47890d3047.bindPopup%28popup_e926a7798619402685ab059aae45b773%29%0A%20%20%20%20%20%20%20%20%3B%0A%0A%20%20%20%20%20%20%20%20%0A%20%20%20%20%0A%20%20%20%20%0A%20%20%20%20%20%20%20%20%20%20%20%20var%20circle_marker_dc894f38f3774e10b5e6ee63087225de%20%3D%20L.circleMarker%28%0A%20%20%20%20%20%20%20%20%20%20%20%20%20%20%20%20%5B37.786978%2C%20-122.398108%5D%2C%0A%20%20%20%20%20%20%20%20%20%20%20%20%20%20%20%20%7B%22bubblingMouseEvents%22%3A%20true%2C%20%22color%22%3A%20%22%233388ff%22%2C%20%22dashArray%22%3A%20null%2C%20%22dashOffset%22%3A%20null%2C%20%22fill%22%3A%20true%2C%20%22fillColor%22%3A%20%22blue%22%2C%20%22fillOpacity%22%3A%200.2%2C%20%22fillRule%22%3A%20%22evenodd%22%2C%20%22lineCap%22%3A%20%22round%22%2C%20%22lineJoin%22%3A%20%22round%22%2C%20%22opacity%22%3A%201.0%2C%20%22radius%22%3A%2010.0%2C%20%22stroke%22%3A%20true%2C%20%22weight%22%3A%203%7D%0A%20%20%20%20%20%20%20%20%20%20%20%20%29.addTo%28map_e23f4247c77841739924d8607922eb83%29%3B%0A%20%20%20%20%20%20%20%20%0A%20%20%20%20%0A%20%20%20%20%20%20%20%20var%20popup_cc4dd7910aeb4c918a97c231d3ad3dbc%20%3D%20L.popup%28%7B%22maxWidth%22%3A%20%22100%25%22%7D%29%3B%0A%0A%20%20%20%20%20%20%20%20%0A%20%20%20%20%20%20%20%20%20%20%20%20var%20html_8bd69d18a5674befabaee76c3d976de4%20%3D%20%24%28%60%3Cdiv%20id%3D%22html_8bd69d18a5674befabaee76c3d976de4%22%20style%3D%22width%3A%20100.0%25%3B%20height%3A%20100.0%25%3B%22%3EHoward%20at%202nd%3C/div%3E%60%29%5B0%5D%3B%0A%20%20%20%20%20%20%20%20%20%20%20%20popup_cc4dd7910aeb4c918a97c231d3ad3dbc.setContent%28html_8bd69d18a5674befabaee76c3d976de4%29%3B%0A%20%20%20%20%20%20%20%20%0A%0A%20%20%20%20%20%20%20%20circle_marker_dc894f38f3774e10b5e6ee63087225de.bindPopup%28popup_cc4dd7910aeb4c918a97c231d3ad3dbc%29%0A%20%20%20%20%20%20%20%20%3B%0A%0A%20%20%20%20%20%20%20%20%0A%20%20%20%20%0A%20%20%20%20%0A%20%20%20%20%20%20%20%20%20%20%20%20var%20circle_marker_536eb25e9dd444d082ba095872013200%20%3D%20L.circleMarker%28%0A%20%20%20%20%20%20%20%20%20%20%20%20%20%20%20%20%5B37.782259%2C%20-122.392738%5D%2C%0A%20%20%20%20%20%20%20%20%20%20%20%20%20%20%20%20%7B%22bubblingMouseEvents%22%3A%20true%2C%20%22color%22%3A%20%22%233388ff%22%2C%20%22dashArray%22%3A%20null%2C%20%22dashOffset%22%3A%20null%2C%20%22fill%22%3A%20true%2C%20%22fillColor%22%3A%20%22blue%22%2C%20%22fillOpacity%22%3A%200.2%2C%20%22fillRule%22%3A%20%22evenodd%22%2C%20%22lineCap%22%3A%20%22round%22%2C%20%22lineJoin%22%3A%20%22round%22%2C%20%22opacity%22%3A%201.0%2C%20%22radius%22%3A%2010.0%2C%20%22stroke%22%3A%20true%2C%20%22weight%22%3A%203%7D%0A%20%20%20%20%20%20%20%20%20%20%20%20%29.addTo%28map_e23f4247c77841739924d8607922eb83%29%3B%0A%20%20%20%20%20%20%20%20%0A%20%20%20%20%0A%20%20%20%20%20%20%20%20var%20popup_81f821434388439ca4571b9a413ccb1e%20%3D%20L.popup%28%7B%22maxWidth%22%3A%20%22100%25%22%7D%29%3B%0A%0A%20%20%20%20%20%20%20%20%0A%20%20%20%20%20%20%20%20%20%20%20%20var%20html_6c0ffa3e16854aa68158a3f6f95ffd0b%20%3D%20%24%28%60%3Cdiv%20id%3D%22html_6c0ffa3e16854aa68158a3f6f95ffd0b%22%20style%3D%22width%3A%20100.0%25%3B%20height%3A%20100.0%25%3B%22%3E2nd%20at%20South%20Park%3C/div%3E%60%29%5B0%5D%3B%0A%20%20%20%20%20%20%20%20%20%20%20%20popup_81f821434388439ca4571b9a413ccb1e.setContent%28html_6c0ffa3e16854aa68158a3f6f95ffd0b%29%3B%0A%20%20%20%20%20%20%20%20%0A%0A%20%20%20%20%20%20%20%20circle_marker_536eb25e9dd444d082ba095872013200.bindPopup%28popup_81f821434388439ca4571b9a413ccb1e%29%0A%20%20%20%20%20%20%20%20%3B%0A%0A%20%20%20%20%20%20%20%20%0A%20%20%20%20%0A%20%20%20%20%0A%20%20%20%20%20%20%20%20%20%20%20%20var%20circle_marker_8a38b901db8b416eb45727e36ab113d4%20%3D%20L.circleMarker%28%0A%20%20%20%20%20%20%20%20%20%20%20%20%20%20%20%20%5B37.771058%2C%20-122.402717%5D%2C%0A%20%20%20%20%20%20%20%20%20%20%20%20%20%20%20%20%7B%22bubblingMouseEvents%22%3A%20true%2C%20%22color%22%3A%20%22%233388ff%22%2C%20%22dashArray%22%3A%20null%2C%20%22dashOffset%22%3A%20null%2C%20%22fill%22%3A%20true%2C%20%22fillColor%22%3A%20%22blue%22%2C%20%22fillOpacity%22%3A%200.2%2C%20%22fillRule%22%3A%20%22evenodd%22%2C%20%22lineCap%22%3A%20%22round%22%2C%20%22lineJoin%22%3A%20%22round%22%2C%20%22opacity%22%3A%201.0%2C%20%22radius%22%3A%2010.0%2C%20%22stroke%22%3A%20true%2C%20%22weight%22%3A%203%7D%0A%20%20%20%20%20%20%20%20%20%20%20%20%29.addTo%28map_e23f4247c77841739924d8607922eb83%29%3B%0A%20%20%20%20%20%20%20%20%0A%20%20%20%20%0A%20%20%20%20%20%20%20%20var%20popup_cec8741cdb7649f8a1123548cef24e02%20%3D%20L.popup%28%7B%22maxWidth%22%3A%20%22100%25%22%7D%29%3B%0A%0A%20%20%20%20%20%20%20%20%0A%20%20%20%20%20%20%20%20%20%20%20%20var%20html_83035234ae1b4906b1a932ab4b846801%20%3D%20%24%28%60%3Cdiv%20id%3D%22html_83035234ae1b4906b1a932ab4b846801%22%20style%3D%22width%3A%20100.0%25%3B%20height%3A%20100.0%25%3B%22%3ETownsend%20at%207th%3C/div%3E%60%29%5B0%5D%3B%0A%20%20%20%20%20%20%20%20%20%20%20%20popup_cec8741cdb7649f8a1123548cef24e02.setContent%28html_83035234ae1b4906b1a932ab4b846801%29%3B%0A%20%20%20%20%20%20%20%20%0A%0A%20%20%20%20%20%20%20%20circle_marker_8a38b901db8b416eb45727e36ab113d4.bindPopup%28popup_cec8741cdb7649f8a1123548cef24e02%29%0A%20%20%20%20%20%20%20%20%3B%0A%0A%20%20%20%20%20%20%20%20%0A%20%20%20%20%0A%20%20%20%20%0A%20%20%20%20%20%20%20%20%20%20%20%20var%20circle_marker_87ec55ed158f4c8db642d45c71b5bf7b%20%3D%20L.circleMarker%28%0A%20%20%20%20%20%20%20%20%20%20%20%20%20%20%20%20%5B37.774814%2C%20-122.418954%5D%2C%0A%20%20%20%20%20%20%20%20%20%20%20%20%20%20%20%20%7B%22bubblingMouseEvents%22%3A%20true%2C%20%22color%22%3A%20%22%233388ff%22%2C%20%22dashArray%22%3A%20null%2C%20%22dashOffset%22%3A%20null%2C%20%22fill%22%3A%20true%2C%20%22fillColor%22%3A%20%22blue%22%2C%20%22fillOpacity%22%3A%200.2%2C%20%22fillRule%22%3A%20%22evenodd%22%2C%20%22lineCap%22%3A%20%22round%22%2C%20%22lineJoin%22%3A%20%22round%22%2C%20%22opacity%22%3A%201.0%2C%20%22radius%22%3A%2010.0%2C%20%22stroke%22%3A%20true%2C%20%22weight%22%3A%203%7D%0A%20%20%20%20%20%20%20%20%20%20%20%20%29.addTo%28map_e23f4247c77841739924d8607922eb83%29%3B%0A%20%20%20%20%20%20%20%20%0A%20%20%20%20%0A%20%20%20%20%20%20%20%20var%20popup_c507f71225844e2d8ff7b98a94be9855%20%3D%20L.popup%28%7B%22maxWidth%22%3A%20%22100%25%22%7D%29%3B%0A%0A%20%20%20%20%20%20%20%20%0A%20%20%20%20%20%20%20%20%20%20%20%20var%20html_1b80435947f54522b5007c81422fa11f%20%3D%20%24%28%60%3Cdiv%20id%3D%22html_1b80435947f54522b5007c81422fa11f%22%20style%3D%22width%3A%20100.0%25%3B%20height%3A%20100.0%25%3B%22%3ESouth%20Van%20Ness%20at%20Market%3C/div%3E%60%29%5B0%5D%3B%0A%20%20%20%20%20%20%20%20%20%20%20%20popup_c507f71225844e2d8ff7b98a94be9855.setContent%28html_1b80435947f54522b5007c81422fa11f%29%3B%0A%20%20%20%20%20%20%20%20%0A%0A%20%20%20%20%20%20%20%20circle_marker_87ec55ed158f4c8db642d45c71b5bf7b.bindPopup%28popup_c507f71225844e2d8ff7b98a94be9855%29%0A%20%20%20%20%20%20%20%20%3B%0A%0A%20%20%20%20%20%20%20%20%0A%20%20%20%20%0A%20%20%20%20%0A%20%20%20%20%20%20%20%20%20%20%20%20var%20circle_marker_91dd475a7b3b45cebba4c260679b2d8c%20%3D%20L.circleMarker%28%0A%20%20%20%20%20%20%20%20%20%20%20%20%20%20%20%20%5B37.776619%2C%20-122.417385%5D%2C%0A%20%20%20%20%20%20%20%20%20%20%20%20%20%20%20%20%7B%22bubblingMouseEvents%22%3A%20true%2C%20%22color%22%3A%20%22%233388ff%22%2C%20%22dashArray%22%3A%20null%2C%20%22dashOffset%22%3A%20null%2C%20%22fill%22%3A%20true%2C%20%22fillColor%22%3A%20%22blue%22%2C%20%22fillOpacity%22%3A%200.2%2C%20%22fillRule%22%3A%20%22evenodd%22%2C%20%22lineCap%22%3A%20%22round%22%2C%20%22lineJoin%22%3A%20%22round%22%2C%20%22opacity%22%3A%201.0%2C%20%22radius%22%3A%2010.0%2C%20%22stroke%22%3A%20true%2C%20%22weight%22%3A%203%7D%0A%20%20%20%20%20%20%20%20%20%20%20%20%29.addTo%28map_e23f4247c77841739924d8607922eb83%29%3B%0A%20%20%20%20%20%20%20%20%0A%20%20%20%20%0A%20%20%20%20%20%20%20%20var%20popup_ebd221c20e1843cd8a9c6c771749dae0%20%3D%20L.popup%28%7B%22maxWidth%22%3A%20%22100%25%22%7D%29%3B%0A%0A%20%20%20%20%20%20%20%20%0A%20%20%20%20%20%20%20%20%20%20%20%20var%20html_d7e9c37dfffb4471987eb9c2f55cb999%20%3D%20%24%28%60%3Cdiv%20id%3D%22html_d7e9c37dfffb4471987eb9c2f55cb999%22%20style%3D%22width%3A%20100.0%25%3B%20height%3A%20100.0%25%3B%22%3EMarket%20at%2010th%3C/div%3E%60%29%5B0%5D%3B%0A%20%20%20%20%20%20%20%20%20%20%20%20popup_ebd221c20e1843cd8a9c6c771749dae0.setContent%28html_d7e9c37dfffb4471987eb9c2f55cb999%29%3B%0A%20%20%20%20%20%20%20%20%0A%0A%20%20%20%20%20%20%20%20circle_marker_91dd475a7b3b45cebba4c260679b2d8c.bindPopup%28popup_ebd221c20e1843cd8a9c6c771749dae0%29%0A%20%20%20%20%20%20%20%20%3B%0A%0A%20%20%20%20%20%20%20%20%0A%20%20%20%20%0A%20%20%20%20%0A%20%20%20%20%20%20%20%20%20%20%20%20var%20circle_marker_f67dfa7de5fa4ca8928bc3e336f11fc9%20%3D%20L.circleMarker%28%0A%20%20%20%20%20%20%20%20%20%20%20%20%20%20%20%20%5B37.784878%2C%20-122.401014%5D%2C%0A%20%20%20%20%20%20%20%20%20%20%20%20%20%20%20%20%7B%22bubblingMouseEvents%22%3A%20true%2C%20%22color%22%3A%20%22%233388ff%22%2C%20%22dashArray%22%3A%20null%2C%20%22dashOffset%22%3A%20null%2C%20%22fill%22%3A%20true%2C%20%22fillColor%22%3A%20%22blue%22%2C%20%22fillOpacity%22%3A%200.2%2C%20%22fillRule%22%3A%20%22evenodd%22%2C%20%22lineCap%22%3A%20%22round%22%2C%20%22lineJoin%22%3A%20%22round%22%2C%20%22opacity%22%3A%201.0%2C%20%22radius%22%3A%2010.0%2C%20%22stroke%22%3A%20true%2C%20%22weight%22%3A%203%7D%0A%20%20%20%20%20%20%20%20%20%20%20%20%29.addTo%28map_e23f4247c77841739924d8607922eb83%29%3B%0A%20%20%20%20%20%20%20%20%0A%20%20%20%20%0A%20%20%20%20%20%20%20%20var%20popup_5cc68765ec894ac688ebdccf10fe8268%20%3D%20L.popup%28%7B%22maxWidth%22%3A%20%22100%25%22%7D%29%3B%0A%0A%20%20%20%20%20%20%20%20%0A%20%20%20%20%20%20%20%20%20%20%20%20var%20html_e29ccf03bd4f4dc48b52b908f93aaea9%20%3D%20%24%28%60%3Cdiv%20id%3D%22html_e29ccf03bd4f4dc48b52b908f93aaea9%22%20style%3D%22width%3A%20100.0%25%3B%20height%3A%20100.0%25%3B%22%3EYerba%20Buena%20Center%20of%20the%20Arts%20%283rd%20%40%20Howard%29%3C/div%3E%60%29%5B0%5D%3B%0A%20%20%20%20%20%20%20%20%20%20%20%20popup_5cc68765ec894ac688ebdccf10fe8268.setContent%28html_e29ccf03bd4f4dc48b52b908f93aaea9%29%3B%0A%20%20%20%20%20%20%20%20%0A%0A%20%20%20%20%20%20%20%20circle_marker_f67dfa7de5fa4ca8928bc3e336f11fc9.bindPopup%28popup_5cc68765ec894ac688ebdccf10fe8268%29%0A%20%20%20%20%20%20%20%20%3B%0A%0A%20%20%20%20%20%20%20%20%0A%20%20%20%20%0A%20%20%20%20%0A%20%20%20%20%20%20%20%20%20%20%20%20var%20circle_marker_52ef18872ffb4df995fe1bb786e22cb9%20%3D%20L.circleMarker%28%0A%20%20%20%20%20%20%20%20%20%20%20%20%20%20%20%20%5B37.7766%2C%20-122.39547%5D%2C%0A%20%20%20%20%20%20%20%20%20%20%20%20%20%20%20%20%7B%22bubblingMouseEvents%22%3A%20true%2C%20%22color%22%3A%20%22%233388ff%22%2C%20%22dashArray%22%3A%20null%2C%20%22dashOffset%22%3A%20null%2C%20%22fill%22%3A%20true%2C%20%22fillColor%22%3A%20%22blue%22%2C%20%22fillOpacity%22%3A%200.2%2C%20%22fillRule%22%3A%20%22evenodd%22%2C%20%22lineCap%22%3A%20%22round%22%2C%20%22lineJoin%22%3A%20%22round%22%2C%20%22opacity%22%3A%201.0%2C%20%22radius%22%3A%2010.0%2C%20%22stroke%22%3A%20true%2C%20%22weight%22%3A%203%7D%0A%20%20%20%20%20%20%20%20%20%20%20%20%29.addTo%28map_e23f4247c77841739924d8607922eb83%29%3B%0A%20%20%20%20%20%20%20%20%0A%20%20%20%20%0A%20%20%20%20%20%20%20%20var%20popup_158ca8a135804141bcc6093d2a4fcc6a%20%3D%20L.popup%28%7B%22maxWidth%22%3A%20%22100%25%22%7D%29%3B%0A%0A%20%20%20%20%20%20%20%20%0A%20%20%20%20%20%20%20%20%20%20%20%20var%20html_aa4ab4e28dc64ff18d7ce3ae85c1fb98%20%3D%20%24%28%60%3Cdiv%20id%3D%22html_aa4ab4e28dc64ff18d7ce3ae85c1fb98%22%20style%3D%22width%3A%20100.0%25%3B%20height%3A%20100.0%25%3B%22%3ESan%20Francisco%20Caltrain%202%20%28330%20Townsend%29%3C/div%3E%60%29%5B0%5D%3B%0A%20%20%20%20%20%20%20%20%20%20%20%20popup_158ca8a135804141bcc6093d2a4fcc6a.setContent%28html_aa4ab4e28dc64ff18d7ce3ae85c1fb98%29%3B%0A%20%20%20%20%20%20%20%20%0A%0A%20%20%20%20%20%20%20%20circle_marker_52ef18872ffb4df995fe1bb786e22cb9.bindPopup%28popup_158ca8a135804141bcc6093d2a4fcc6a%29%0A%20%20%20%20%20%20%20%20%3B%0A%0A%20%20%20%20%20%20%20%20%0A%20%20%20%20%0A%20%20%20%20%0A%20%20%20%20%20%20%20%20%20%20%20%20var%20circle_marker_4377cd144f644b8cbb5477f53c477f05%20%3D%20L.circleMarker%28%0A%20%20%20%20%20%20%20%20%20%20%20%20%20%20%20%20%5B37.776617%2C%20-122.39526%5D%2C%0A%20%20%20%20%20%20%20%20%20%20%20%20%20%20%20%20%7B%22bubblingMouseEvents%22%3A%20true%2C%20%22color%22%3A%20%22%233388ff%22%2C%20%22dashArray%22%3A%20null%2C%20%22dashOffset%22%3A%20null%2C%20%22fill%22%3A%20true%2C%20%22fillColor%22%3A%20%22blue%22%2C%20%22fillOpacity%22%3A%200.2%2C%20%22fillRule%22%3A%20%22evenodd%22%2C%20%22lineCap%22%3A%20%22round%22%2C%20%22lineJoin%22%3A%20%22round%22%2C%20%22opacity%22%3A%201.0%2C%20%22radius%22%3A%2010.0%2C%20%22stroke%22%3A%20true%2C%20%22weight%22%3A%203%7D%0A%20%20%20%20%20%20%20%20%20%20%20%20%29.addTo%28map_e23f4247c77841739924d8607922eb83%29%3B%0A%20%20%20%20%20%20%20%20%0A%20%20%20%20%0A%20%20%20%20%20%20%20%20var%20popup_570631b2b69c476ca195638729ee88b7%20%3D%20L.popup%28%7B%22maxWidth%22%3A%20%22100%25%22%7D%29%3B%0A%0A%20%20%20%20%20%20%20%20%0A%20%20%20%20%20%20%20%20%20%20%20%20var%20html_ea018aaa89404c0da4721b48fe7abbdb%20%3D%20%24%28%60%3Cdiv%20id%3D%22html_ea018aaa89404c0da4721b48fe7abbdb%22%20style%3D%22width%3A%20100.0%25%3B%20height%3A%20100.0%25%3B%22%3ESan%20Francisco%20Caltrain%20%28Townsend%20at%204th%29%3C/div%3E%60%29%5B0%5D%3B%0A%20%20%20%20%20%20%20%20%20%20%20%20popup_570631b2b69c476ca195638729ee88b7.setContent%28html_ea018aaa89404c0da4721b48fe7abbdb%29%3B%0A%20%20%20%20%20%20%20%20%0A%0A%20%20%20%20%20%20%20%20circle_marker_4377cd144f644b8cbb5477f53c477f05.bindPopup%28popup_570631b2b69c476ca195638729ee88b7%29%0A%20%20%20%20%20%20%20%20%3B%0A%0A%20%20%20%20%20%20%20%20%0A%20%20%20%20%0A%20%20%20%20%0A%20%20%20%20%20%20%20%20%20%20%20%20var%20circle_marker_d00be95b55a6404982a6587ef3b81ae9%20%3D%20L.circleMarker%28%0A%20%20%20%20%20%20%20%20%20%20%20%20%20%20%20%20%5B37.788446%2C%20-122.408499%5D%2C%0A%20%20%20%20%20%20%20%20%20%20%20%20%20%20%20%20%7B%22bubblingMouseEvents%22%3A%20true%2C%20%22color%22%3A%20%22%233388ff%22%2C%20%22dashArray%22%3A%20null%2C%20%22dashOffset%22%3A%20null%2C%20%22fill%22%3A%20true%2C%20%22fillColor%22%3A%20%22blue%22%2C%20%22fillOpacity%22%3A%200.2%2C%20%22fillRule%22%3A%20%22evenodd%22%2C%20%22lineCap%22%3A%20%22round%22%2C%20%22lineJoin%22%3A%20%22round%22%2C%20%22opacity%22%3A%201.0%2C%20%22radius%22%3A%2010.0%2C%20%22stroke%22%3A%20true%2C%20%22weight%22%3A%203%7D%0A%20%20%20%20%20%20%20%20%20%20%20%20%29.addTo%28map_e23f4247c77841739924d8607922eb83%29%3B%0A%20%20%20%20%20%20%20%20%0A%20%20%20%20%0A%20%20%20%20%20%20%20%20var%20popup_4d0f05aad09247dfbf95a7e897ba27c7%20%3D%20L.popup%28%7B%22maxWidth%22%3A%20%22100%25%22%7D%29%3B%0A%0A%20%20%20%20%20%20%20%20%0A%20%20%20%20%20%20%20%20%20%20%20%20var%20html_a06c89b913664b3792a2a4ce7d5ecc0c%20%3D%20%24%28%60%3Cdiv%20id%3D%22html_a06c89b913664b3792a2a4ce7d5ecc0c%22%20style%3D%22width%3A%20100.0%25%3B%20height%3A%20100.0%25%3B%22%3EPowell%20at%20Post%20%28Union%20Square%29%3C/div%3E%60%29%5B0%5D%3B%0A%20%20%20%20%20%20%20%20%20%20%20%20popup_4d0f05aad09247dfbf95a7e897ba27c7.setContent%28html_a06c89b913664b3792a2a4ce7d5ecc0c%29%3B%0A%20%20%20%20%20%20%20%20%0A%0A%20%20%20%20%20%20%20%20circle_marker_d00be95b55a6404982a6587ef3b81ae9.bindPopup%28popup_4d0f05aad09247dfbf95a7e897ba27c7%29%0A%20%20%20%20%20%20%20%20%3B%0A%0A%20%20%20%20%20%20%20%20%0A%20%20%20%20%0A%20%20%20%20%0A%20%20%20%20%20%20%20%20%20%20%20%20var%20circle_marker_25500d2bdaf24baa8029f206cfd60f64%20%3D%20L.circleMarker%28%0A%20%20%20%20%20%20%20%20%20%20%20%20%20%20%20%20%5B37.781039%2C%20-122.411748%5D%2C%0A%20%20%20%20%20%20%20%20%20%20%20%20%20%20%20%20%7B%22bubblingMouseEvents%22%3A%20true%2C%20%22color%22%3A%20%22%233388ff%22%2C%20%22dashArray%22%3A%20null%2C%20%22dashOffset%22%3A%20null%2C%20%22fill%22%3A%20true%2C%20%22fillColor%22%3A%20%22blue%22%2C%20%22fillOpacity%22%3A%200.2%2C%20%22fillRule%22%3A%20%22evenodd%22%2C%20%22lineCap%22%3A%20%22round%22%2C%20%22lineJoin%22%3A%20%22round%22%2C%20%22opacity%22%3A%201.0%2C%20%22radius%22%3A%2010.0%2C%20%22stroke%22%3A%20true%2C%20%22weight%22%3A%203%7D%0A%20%20%20%20%20%20%20%20%20%20%20%20%29.addTo%28map_e23f4247c77841739924d8607922eb83%29%3B%0A%20%20%20%20%20%20%20%20%0A%20%20%20%20%0A%20%20%20%20%20%20%20%20var%20popup_d915476e137e483384aba3c0875992c3%20%3D%20L.popup%28%7B%22maxWidth%22%3A%20%22100%25%22%7D%29%3B%0A%0A%20%20%20%20%20%20%20%20%0A%20%20%20%20%20%20%20%20%20%20%20%20var%20html_1adef0865e864cafa757dcf5ac40b8db%20%3D%20%24%28%60%3Cdiv%20id%3D%22html_1adef0865e864cafa757dcf5ac40b8db%22%20style%3D%22width%3A%20100.0%25%3B%20height%3A%20100.0%25%3B%22%3ECivic%20Center%20BART%20%287th%20at%20Market%29%3C/div%3E%60%29%5B0%5D%3B%0A%20%20%20%20%20%20%20%20%20%20%20%20popup_d915476e137e483384aba3c0875992c3.setContent%28html_1adef0865e864cafa757dcf5ac40b8db%29%3B%0A%20%20%20%20%20%20%20%20%0A%0A%20%20%20%20%20%20%20%20circle_marker_25500d2bdaf24baa8029f206cfd60f64.bindPopup%28popup_d915476e137e483384aba3c0875992c3%29%0A%20%20%20%20%20%20%20%20%3B%0A%0A%20%20%20%20%20%20%20%20%0A%20%20%20%20%0A%20%20%20%20%0A%20%20%20%20%20%20%20%20%20%20%20%20var%20circle_marker_2c6d95229d6f4c32947e9ffabed621ef%20%3D%20L.circleMarker%28%0A%20%20%20%20%20%20%20%20%20%20%20%20%20%20%20%20%5B37.798522%2C%20-122.407245%5D%2C%0A%20%20%20%20%20%20%20%20%20%20%20%20%20%20%20%20%7B%22bubblingMouseEvents%22%3A%20true%2C%20%22color%22%3A%20%22%233388ff%22%2C%20%22dashArray%22%3A%20null%2C%20%22dashOffset%22%3A%20null%2C%20%22fill%22%3A%20true%2C%20%22fillColor%22%3A%20%22blue%22%2C%20%22fillOpacity%22%3A%200.2%2C%20%22fillRule%22%3A%20%22evenodd%22%2C%20%22lineCap%22%3A%20%22round%22%2C%20%22lineJoin%22%3A%20%22round%22%2C%20%22opacity%22%3A%201.0%2C%20%22radius%22%3A%2010.0%2C%20%22stroke%22%3A%20true%2C%20%22weight%22%3A%203%7D%0A%20%20%20%20%20%20%20%20%20%20%20%20%29.addTo%28map_e23f4247c77841739924d8607922eb83%29%3B%0A%20%20%20%20%20%20%20%20%0A%20%20%20%20%0A%20%20%20%20%20%20%20%20var%20popup_2c1425242ef94ea2a6fad6fcc0a97e86%20%3D%20L.popup%28%7B%22maxWidth%22%3A%20%22100%25%22%7D%29%3B%0A%0A%20%20%20%20%20%20%20%20%0A%20%20%20%20%20%20%20%20%20%20%20%20var%20html_9ba952ebb5d34a89ba1147fbeb4d4ffc%20%3D%20%24%28%60%3Cdiv%20id%3D%22html_9ba952ebb5d34a89ba1147fbeb4d4ffc%22%20style%3D%22width%3A%20100.0%25%3B%20height%3A%20100.0%25%3B%22%3EGrant%20Avenue%20at%20Columbus%20Avenue%3C/div%3E%60%29%5B0%5D%3B%0A%20%20%20%20%20%20%20%20%20%20%20%20popup_2c1425242ef94ea2a6fad6fcc0a97e86.setContent%28html_9ba952ebb5d34a89ba1147fbeb4d4ffc%29%3B%0A%20%20%20%20%20%20%20%20%0A%0A%20%20%20%20%20%20%20%20circle_marker_2c6d95229d6f4c32947e9ffabed621ef.bindPopup%28popup_2c1425242ef94ea2a6fad6fcc0a97e86%29%0A%20%20%20%20%20%20%20%20%3B%0A%0A%20%20%20%20%20%20%20%20%0A%20%20%20%20%0A%20%20%20%20%0A%20%20%20%20%20%20%20%20%20%20%20%20var%20circle_marker_996eb088a8f24625a446ef961f85219b%20%3D%20L.circleMarker%28%0A%20%20%20%20%20%20%20%20%20%20%20%20%20%20%20%20%5B37.794139%2C%20-122.394434%5D%2C%0A%20%20%20%20%20%20%20%20%20%20%20%20%20%20%20%20%7B%22bubblingMouseEvents%22%3A%20true%2C%20%22color%22%3A%20%22%233388ff%22%2C%20%22dashArray%22%3A%20null%2C%20%22dashOffset%22%3A%20null%2C%20%22fill%22%3A%20true%2C%20%22fillColor%22%3A%20%22blue%22%2C%20%22fillOpacity%22%3A%200.2%2C%20%22fillRule%22%3A%20%22evenodd%22%2C%20%22lineCap%22%3A%20%22round%22%2C%20%22lineJoin%22%3A%20%22round%22%2C%20%22opacity%22%3A%201.0%2C%20%22radius%22%3A%2010.0%2C%20%22stroke%22%3A%20true%2C%20%22weight%22%3A%203%7D%0A%20%20%20%20%20%20%20%20%20%20%20%20%29.addTo%28map_e23f4247c77841739924d8607922eb83%29%3B%0A%20%20%20%20%20%20%20%20%0A%20%20%20%20%0A%20%20%20%20%20%20%20%20var%20popup_4e6306327df4472db2ac0b6919195caa%20%3D%20L.popup%28%7B%22maxWidth%22%3A%20%22100%25%22%7D%29%3B%0A%0A%20%20%20%20%20%20%20%20%0A%20%20%20%20%20%20%20%20%20%20%20%20var%20html_cc86f5b8922e4a9d87cb2c3da3d915de%20%3D%20%24%28%60%3Cdiv%20id%3D%22html_cc86f5b8922e4a9d87cb2c3da3d915de%22%20style%3D%22width%3A%20100.0%25%3B%20height%3A%20100.0%25%3B%22%3ESteuart%20at%20Market%3C/div%3E%60%29%5B0%5D%3B%0A%20%20%20%20%20%20%20%20%20%20%20%20popup_4e6306327df4472db2ac0b6919195caa.setContent%28html_cc86f5b8922e4a9d87cb2c3da3d915de%29%3B%0A%20%20%20%20%20%20%20%20%0A%0A%20%20%20%20%20%20%20%20circle_marker_996eb088a8f24625a446ef961f85219b.bindPopup%28popup_4e6306327df4472db2ac0b6919195caa%29%0A%20%20%20%20%20%20%20%20%3B%0A%0A%20%20%20%20%20%20%20%20%0A%20%20%20%20%0A%20%20%20%20%0A%20%20%20%20%20%20%20%20%20%20%20%20var%20circle_marker_56cda54bad524385aecab79a3ddd0e10%20%3D%20L.circleMarker%28%0A%20%20%20%20%20%20%20%20%20%20%20%20%20%20%20%20%5B37.7913%2C%20-122.399051%5D%2C%0A%20%20%20%20%20%20%20%20%20%20%20%20%20%20%20%20%7B%22bubblingMouseEvents%22%3A%20true%2C%20%22color%22%3A%20%22%233388ff%22%2C%20%22dashArray%22%3A%20null%2C%20%22dashOffset%22%3A%20null%2C%20%22fill%22%3A%20true%2C%20%22fillColor%22%3A%20%22blue%22%2C%20%22fillOpacity%22%3A%200.2%2C%20%22fillRule%22%3A%20%22evenodd%22%2C%20%22lineCap%22%3A%20%22round%22%2C%20%22lineJoin%22%3A%20%22round%22%2C%20%22opacity%22%3A%201.0%2C%20%22radius%22%3A%2010.0%2C%20%22stroke%22%3A%20true%2C%20%22weight%22%3A%203%7D%0A%20%20%20%20%20%20%20%20%20%20%20%20%29.addTo%28map_e23f4247c77841739924d8607922eb83%29%3B%0A%20%20%20%20%20%20%20%20%0A%20%20%20%20%0A%20%20%20%20%20%20%20%20var%20popup_0e588149640d475799b3dfee1e0c477d%20%3D%20L.popup%28%7B%22maxWidth%22%3A%20%22100%25%22%7D%29%3B%0A%0A%20%20%20%20%20%20%20%20%0A%20%20%20%20%20%20%20%20%20%20%20%20var%20html_54f1b35aea52486ea46d2d0924d85649%20%3D%20%24%28%60%3Cdiv%20id%3D%22html_54f1b35aea52486ea46d2d0924d85649%22%20style%3D%22width%3A%20100.0%25%3B%20height%3A%20100.0%25%3B%22%3EMechanics%20Plaza%20%28Market%20at%20Battery%29%3C/div%3E%60%29%5B0%5D%3B%0A%20%20%20%20%20%20%20%20%20%20%20%20popup_0e588149640d475799b3dfee1e0c477d.setContent%28html_54f1b35aea52486ea46d2d0924d85649%29%3B%0A%20%20%20%20%20%20%20%20%0A%0A%20%20%20%20%20%20%20%20circle_marker_56cda54bad524385aecab79a3ddd0e10.bindPopup%28popup_0e588149640d475799b3dfee1e0c477d%29%0A%20%20%20%20%20%20%20%20%3B%0A%0A%20%20%20%20%20%20%20%20%0A%20%20%20%20%0A%20%20%20%20%0A%20%20%20%20%20%20%20%20%20%20%20%20var%20circle_marker_a99ed84d09c441b092e469b7f4f061c0%20%3D%20L.circleMarker%28%0A%20%20%20%20%20%20%20%20%20%20%20%20%20%20%20%20%5B37.786305%2C%20-122.404966%5D%2C%0A%20%20%20%20%20%20%20%20%20%20%20%20%20%20%20%20%7B%22bubblingMouseEvents%22%3A%20true%2C%20%22color%22%3A%20%22%233388ff%22%2C%20%22dashArray%22%3A%20null%2C%20%22dashOffset%22%3A%20null%2C%20%22fill%22%3A%20true%2C%20%22fillColor%22%3A%20%22blue%22%2C%20%22fillOpacity%22%3A%200.2%2C%20%22fillRule%22%3A%20%22evenodd%22%2C%20%22lineCap%22%3A%20%22round%22%2C%20%22lineJoin%22%3A%20%22round%22%2C%20%22opacity%22%3A%201.0%2C%20%22radius%22%3A%2010.0%2C%20%22stroke%22%3A%20true%2C%20%22weight%22%3A%203%7D%0A%20%20%20%20%20%20%20%20%20%20%20%20%29.addTo%28map_e23f4247c77841739924d8607922eb83%29%3B%0A%20%20%20%20%20%20%20%20%0A%20%20%20%20%0A%20%20%20%20%20%20%20%20var%20popup_43397de10c8f4f19b0101e40d8606452%20%3D%20L.popup%28%7B%22maxWidth%22%3A%20%22100%25%22%7D%29%3B%0A%0A%20%20%20%20%20%20%20%20%0A%20%20%20%20%20%20%20%20%20%20%20%20var%20html_4093b9652c7d4ddfa6e73577ee8ce180%20%3D%20%24%28%60%3Cdiv%20id%3D%22html_4093b9652c7d4ddfa6e73577ee8ce180%22%20style%3D%22width%3A%20100.0%25%3B%20height%3A%20100.0%25%3B%22%3EMarket%20at%204th%3C/div%3E%60%29%5B0%5D%3B%0A%20%20%20%20%20%20%20%20%20%20%20%20popup_43397de10c8f4f19b0101e40d8606452.setContent%28html_4093b9652c7d4ddfa6e73577ee8ce180%29%3B%0A%20%20%20%20%20%20%20%20%0A%0A%20%20%20%20%20%20%20%20circle_marker_a99ed84d09c441b092e469b7f4f061c0.bindPopup%28popup_43397de10c8f4f19b0101e40d8606452%29%0A%20%20%20%20%20%20%20%20%3B%0A%0A%20%20%20%20%20%20%20%20%0A%20%20%20%20%0A%20%20%20%20%0A%20%20%20%20%20%20%20%20%20%20%20%20var%20circle_marker_28ab9c93646b498fb10259e4544fd3a7%20%3D%20L.circleMarker%28%0A%20%20%20%20%20%20%20%20%20%20%20%20%20%20%20%20%5B37.789625%2C%20-122.400811%5D%2C%0A%20%20%20%20%20%20%20%20%20%20%20%20%20%20%20%20%7B%22bubblingMouseEvents%22%3A%20true%2C%20%22color%22%3A%20%22%233388ff%22%2C%20%22dashArray%22%3A%20null%2C%20%22dashOffset%22%3A%20null%2C%20%22fill%22%3A%20true%2C%20%22fillColor%22%3A%20%22blue%22%2C%20%22fillOpacity%22%3A%200.2%2C%20%22fillRule%22%3A%20%22evenodd%22%2C%20%22lineCap%22%3A%20%22round%22%2C%20%22lineJoin%22%3A%20%22round%22%2C%20%22opacity%22%3A%201.0%2C%20%22radius%22%3A%2010.0%2C%20%22stroke%22%3A%20true%2C%20%22weight%22%3A%203%7D%0A%20%20%20%20%20%20%20%20%20%20%20%20%29.addTo%28map_e23f4247c77841739924d8607922eb83%29%3B%0A%20%20%20%20%20%20%20%20%0A%20%20%20%20%0A%20%20%20%20%20%20%20%20var%20popup_8964b0635aaf4e098383ccf2e989e6d6%20%3D%20L.popup%28%7B%22maxWidth%22%3A%20%22100%25%22%7D%29%3B%0A%0A%20%20%20%20%20%20%20%20%0A%20%20%20%20%20%20%20%20%20%20%20%20var%20html_1f5600cf55ad42b8a763b7c72d5e5eeb%20%3D%20%24%28%60%3Cdiv%20id%3D%22html_1f5600cf55ad42b8a763b7c72d5e5eeb%22%20style%3D%22width%3A%20100.0%25%3B%20height%3A%20100.0%25%3B%22%3EMarket%20at%20Sansome%3C/div%3E%60%29%5B0%5D%3B%0A%20%20%20%20%20%20%20%20%20%20%20%20popup_8964b0635aaf4e098383ccf2e989e6d6.setContent%28html_1f5600cf55ad42b8a763b7c72d5e5eeb%29%3B%0A%20%20%20%20%20%20%20%20%0A%0A%20%20%20%20%20%20%20%20circle_marker_28ab9c93646b498fb10259e4544fd3a7.bindPopup%28popup_8964b0635aaf4e098383ccf2e989e6d6%29%0A%20%20%20%20%20%20%20%20%3B%0A%0A%20%20%20%20%20%20%20%20%0A%20%20%20%20%0A%20%20%20%20%0A%20%20%20%20%20%20%20%20%20%20%20%20var%20circle_marker_97a6a32c20ee4807ad5940a0ffce05a1%20%3D%20L.circleMarker%28%0A%20%20%20%20%20%20%20%20%20%20%20%20%20%20%20%20%5B37.798541%2C%20-122.400862%5D%2C%0A%20%20%20%20%20%20%20%20%20%20%20%20%20%20%20%20%7B%22bubblingMouseEvents%22%3A%20true%2C%20%22color%22%3A%20%22%233388ff%22%2C%20%22dashArray%22%3A%20null%2C%20%22dashOffset%22%3A%20null%2C%20%22fill%22%3A%20true%2C%20%22fillColor%22%3A%20%22blue%22%2C%20%22fillOpacity%22%3A%200.2%2C%20%22fillRule%22%3A%20%22evenodd%22%2C%20%22lineCap%22%3A%20%22round%22%2C%20%22lineJoin%22%3A%20%22round%22%2C%20%22opacity%22%3A%201.0%2C%20%22radius%22%3A%2010.0%2C%20%22stroke%22%3A%20true%2C%20%22weight%22%3A%203%7D%0A%20%20%20%20%20%20%20%20%20%20%20%20%29.addTo%28map_e23f4247c77841739924d8607922eb83%29%3B%0A%20%20%20%20%20%20%20%20%0A%20%20%20%20%0A%20%20%20%20%20%20%20%20var%20popup_457bd8c1aa604806af294b13079a1673%20%3D%20L.popup%28%7B%22maxWidth%22%3A%20%22100%25%22%7D%29%3B%0A%0A%20%20%20%20%20%20%20%20%0A%20%20%20%20%20%20%20%20%20%20%20%20var%20html_74e52abb9a274984ad0341ac47c78e45%20%3D%20%24%28%60%3Cdiv%20id%3D%22html_74e52abb9a274984ad0341ac47c78e45%22%20style%3D%22width%3A%20100.0%25%3B%20height%3A%20100.0%25%3B%22%3EBroadway%20St%20at%20Battery%20St%3C/div%3E%60%29%5B0%5D%3B%0A%20%20%20%20%20%20%20%20%20%20%20%20popup_457bd8c1aa604806af294b13079a1673.setContent%28html_74e52abb9a274984ad0341ac47c78e45%29%3B%0A%20%20%20%20%20%20%20%20%0A%0A%20%20%20%20%20%20%20%20circle_marker_97a6a32c20ee4807ad5940a0ffce05a1.bindPopup%28popup_457bd8c1aa604806af294b13079a1673%29%0A%20%20%20%20%20%20%20%20%3B%0A%0A%20%20%20%20%20%20%20%20%0A%20%20%20%20%0A%3C/script%3E onload=\"this.contentDocument.open();this.contentDocument.write(    decodeURIComponent(this.getAttribute('data-html')));this.contentDocument.close();\" allowfullscreen webkitallowfullscreen mozallowfullscreen></iframe></div></div>"
      ],
      "text/plain": [
       "<datascience.maps.Map at 0x70db7c70>"
      ]
     },
     "execution_count": 43,
     "metadata": {},
     "output_type": "execute_result"
    }
   ],
   "source": [
    "Circle.map_table(sf_stations_map_data)\n",
    "#You may lose information if you use Circle., however you can resize circles so that they are proportionate to something"
   ]
  },
  {
   "cell_type": "code",
   "execution_count": 44,
   "id": "2a995a6c",
   "metadata": {},
   "outputs": [
    {
     "data": {
      "text/html": [
       "<table border=\"1\" class=\"dataframe\">\n",
       "    <thead>\n",
       "        <tr>\n",
       "            <th>Start Station</th> <th>count</th>\n",
       "        </tr>\n",
       "    </thead>\n",
       "    <tbody>\n",
       "        <tr>\n",
       "            <td>San Francisco Caltrain (Townsend at 4th)</td> <td>25858</td>\n",
       "        </tr>\n",
       "        <tr>\n",
       "            <td>San Francisco Caltrain 2 (330 Townsend) </td> <td>21523</td>\n",
       "        </tr>\n",
       "        <tr>\n",
       "            <td>Harry Bridges Plaza (Ferry Building)    </td> <td>15543</td>\n",
       "        </tr>\n",
       "    </tbody>\n",
       "</table>\n",
       "<p>... (67 rows omitted)</p>"
      ],
      "text/plain": [
       "<IPython.core.display.HTML object>"
      ]
     },
     "metadata": {},
     "output_type": "display_data"
    }
   ],
   "source": [
    "starts = commute.group('Start Station').sort('count', descending=True)\n",
    "starts.show(3)"
   ]
  },
  {
   "cell_type": "code",
   "execution_count": null,
   "id": "45f97879",
   "metadata": {},
   "outputs": [],
   "source": []
  }
 ],
 "metadata": {
  "kernelspec": {
   "display_name": "Python 3 (ipykernel)",
   "language": "python",
   "name": "python3"
  },
  "language_info": {
   "codemirror_mode": {
    "name": "ipython",
    "version": 3
   },
   "file_extension": ".py",
   "mimetype": "text/x-python",
   "name": "python",
   "nbconvert_exporter": "python",
   "pygments_lexer": "ipython3",
   "version": "3.8.6"
  }
 },
 "nbformat": 4,
 "nbformat_minor": 5
}
