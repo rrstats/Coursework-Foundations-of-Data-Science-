{
 "cells": [
  {
   "cell_type": "code",
   "execution_count": 2,
   "id": "6016bc32",
   "metadata": {},
   "outputs": [],
   "source": [
    "from datascience import *\n",
    "%matplotlib inline\n",
    "path_data = '../../../assets/data/'\n",
    "import matplotlib.pyplot as plt\n",
    "plt.style.use('fivethirtyeight')\n",
    "import numpy as np\n",
    "import warnings\n",
    "warnings.simplefilter(action='ignore', category=np.VisibleDeprecationWarning)\n"
   ]
  },
  {
   "cell_type": "code",
   "execution_count": 3,
   "id": "10dd6e72",
   "metadata": {},
   "outputs": [],
   "source": [
    "#np.arange(start, end, skip)\n",
    "#die.sample(10) operation to select a random row from the table (with replacement)\n",
    "#die.hist(np.arange(0.5, 6.6, 1))\n",
    "#sample_proportions(sample_size, pop_distribution)"
   ]
  },
  {
   "cell_type": "code",
   "execution_count": 4,
   "id": "fdba7f4b",
   "metadata": {},
   "outputs": [],
   "source": [
    " #Deterministic Sample\n",
    "    #Sampling scheme doesn't involve chance"
   ]
  },
  {
   "cell_type": "code",
   "execution_count": 5,
   "id": "f017fac5",
   "metadata": {},
   "outputs": [],
   "source": [
    "#Random Sample\n",
    "#Before the sample is drawn, you have to know the selection probability of every \n",
    "#group of people in the population"
   ]
  },
  {
   "cell_type": "code",
   "execution_count": null,
   "id": "c8f6652b",
   "metadata": {},
   "outputs": [],
   "source": [
    "# Technical note. Random samples of prospective jurors would be selected without replacement. \n",
    "# However, when the size of a sample is small relative to the size of the population, sampling \n",
    "# without replacement resembles sampling with replacement; the proportions in the population don’t \n",
    "# change much between draws. The population of eligible jurors in Alameda County is over a million, \n",
    "# and compared to that, a sample size of about 1500 is quite small. We will therefore sample with replacement.\n",
    "\n",
    "# In the cell below, we sample at random 1453 times from the distribution of eligible jurors, and display \n",
    "# the distribution of the random sample along with the distributions of the eligible jurors and the panel \n",
    "# in the data."
   ]
  },
  {
   "cell_type": "markdown",
   "id": "2e83fdcf",
   "metadata": {},
   "source": [
    "## Random Sampling"
   ]
  },
  {
   "cell_type": "code",
   "execution_count": 6,
   "id": "8cb4035a",
   "metadata": {},
   "outputs": [],
   "source": [
    "#We load in a dataset of all United national flights from 6/1/15 to 8/9/15, their destination\n",
    "##and how long they were delayed in minutes\n",
    "#(-ve) ahead of schedule"
   ]
  },
  {
   "cell_type": "code",
   "execution_count": 7,
   "id": "007894e0",
   "metadata": {},
   "outputs": [
    {
     "data": {
      "text/html": [
       "<table border=\"1\" class=\"dataframe\">\n",
       "    <thead>\n",
       "        <tr>\n",
       "            <th>Date</th> <th>Flight Number</th> <th>Destination</th> <th>Delay</th>\n",
       "        </tr>\n",
       "    </thead>\n",
       "    <tbody>\n",
       "        <tr>\n",
       "            <td>06/01/2015</td> <td>73           </td> <td>HNL        </td> <td>257  </td>\n",
       "        </tr>\n",
       "        <tr>\n",
       "            <td>06/01/2015</td> <td>217          </td> <td>EWR        </td> <td>28   </td>\n",
       "        </tr>\n",
       "        <tr>\n",
       "            <td>06/01/2015</td> <td>237          </td> <td>STL        </td> <td>-3   </td>\n",
       "        </tr>\n",
       "        <tr>\n",
       "            <td>06/01/2015</td> <td>250          </td> <td>SAN        </td> <td>0    </td>\n",
       "        </tr>\n",
       "        <tr>\n",
       "            <td>06/01/2015</td> <td>267          </td> <td>PHL        </td> <td>64   </td>\n",
       "        </tr>\n",
       "        <tr>\n",
       "            <td>06/01/2015</td> <td>273          </td> <td>SEA        </td> <td>-6   </td>\n",
       "        </tr>\n",
       "        <tr>\n",
       "            <td>06/01/2015</td> <td>278          </td> <td>SEA        </td> <td>-8   </td>\n",
       "        </tr>\n",
       "        <tr>\n",
       "            <td>06/01/2015</td> <td>292          </td> <td>EWR        </td> <td>12   </td>\n",
       "        </tr>\n",
       "        <tr>\n",
       "            <td>06/01/2015</td> <td>300          </td> <td>HNL        </td> <td>20   </td>\n",
       "        </tr>\n",
       "        <tr>\n",
       "            <td>06/01/2015</td> <td>317          </td> <td>IND        </td> <td>-10  </td>\n",
       "        </tr>\n",
       "    </tbody>\n",
       "</table>\n",
       "<p>... (13815 rows omitted)</p>"
      ],
      "text/plain": [
       "Date       | Flight Number | Destination | Delay\n",
       "06/01/2015 | 73            | HNL         | 257\n",
       "06/01/2015 | 217           | EWR         | 28\n",
       "06/01/2015 | 237           | STL         | -3\n",
       "06/01/2015 | 250           | SAN         | 0\n",
       "06/01/2015 | 267           | PHL         | 64\n",
       "06/01/2015 | 273           | SEA         | -6\n",
       "06/01/2015 | 278           | SEA         | -8\n",
       "06/01/2015 | 292           | EWR         | 12\n",
       "06/01/2015 | 300           | HNL         | 20\n",
       "06/01/2015 | 317           | IND         | -10\n",
       "... (13815 rows omitted)"
      ]
     },
     "execution_count": 7,
     "metadata": {},
     "output_type": "execute_result"
    }
   ],
   "source": [
    "united = Table.read_table('united.csv')\n",
    "#united = united.with_column('Row', np.arange(united.num_rows)).move_to\n",
    "united"
   ]
  },
  {
   "cell_type": "markdown",
   "id": "2524cf42",
   "metadata": {},
   "source": [
    "## Some deterministic samples"
   ]
  },
  {
   "cell_type": "code",
   "execution_count": 8,
   "id": "5516c525",
   "metadata": {},
   "outputs": [],
   "source": [
    " #Deterministic Sample\n",
    "    #Sampling scheme doesn't involve chance"
   ]
  },
  {
   "cell_type": "code",
   "execution_count": 9,
   "id": "dd5ba54c",
   "metadata": {},
   "outputs": [
    {
     "data": {
      "text/html": [
       "<table border=\"1\" class=\"dataframe\">\n",
       "    <thead>\n",
       "        <tr>\n",
       "            <th>Date</th> <th>Flight Number</th> <th>Destination</th> <th>Delay</th>\n",
       "        </tr>\n",
       "    </thead>\n",
       "    <tbody>\n",
       "        <tr>\n",
       "            <td>06/01/2015</td> <td>502          </td> <td>JFK        </td> <td>-4   </td>\n",
       "        </tr>\n",
       "        <tr>\n",
       "            <td>06/01/2015</td> <td>637          </td> <td>JFK        </td> <td>141  </td>\n",
       "        </tr>\n",
       "        <tr>\n",
       "            <td>06/01/2015</td> <td>704          </td> <td>JFK        </td> <td>-8   </td>\n",
       "        </tr>\n",
       "        <tr>\n",
       "            <td>06/01/2015</td> <td>758          </td> <td>JFK        </td> <td>-5   </td>\n",
       "        </tr>\n",
       "        <tr>\n",
       "            <td>06/01/2015</td> <td>760          </td> <td>JFK        </td> <td>352  </td>\n",
       "        </tr>\n",
       "        <tr>\n",
       "            <td>06/01/2015</td> <td>824          </td> <td>JFK        </td> <td>3    </td>\n",
       "        </tr>\n",
       "        <tr>\n",
       "            <td>06/01/2015</td> <td>898          </td> <td>JFK        </td> <td>290  </td>\n",
       "        </tr>\n",
       "        <tr>\n",
       "            <td>06/02/2015</td> <td>502          </td> <td>JFK        </td> <td>0    </td>\n",
       "        </tr>\n",
       "        <tr>\n",
       "            <td>06/02/2015</td> <td>637          </td> <td>JFK        </td> <td>202  </td>\n",
       "        </tr>\n",
       "        <tr>\n",
       "            <td>06/02/2015</td> <td>704          </td> <td>JFK        </td> <td>-11  </td>\n",
       "        </tr>\n",
       "    </tbody>\n",
       "</table>\n",
       "<p>... (593 rows omitted)</p>"
      ],
      "text/plain": [
       "Date       | Flight Number | Destination | Delay\n",
       "06/01/2015 | 502           | JFK         | -4\n",
       "06/01/2015 | 637           | JFK         | 141\n",
       "06/01/2015 | 704           | JFK         | -8\n",
       "06/01/2015 | 758           | JFK         | -5\n",
       "06/01/2015 | 760           | JFK         | 352\n",
       "06/01/2015 | 824           | JFK         | 3\n",
       "06/01/2015 | 898           | JFK         | 290\n",
       "06/02/2015 | 502           | JFK         | 0\n",
       "06/02/2015 | 637           | JFK         | 202\n",
       "06/02/2015 | 704           | JFK         | -11\n",
       "... (593 rows omitted)"
      ]
     },
     "execution_count": 9,
     "metadata": {},
     "output_type": "execute_result"
    }
   ],
   "source": [
    "united.where('Destination', 'JFK')"
   ]
  },
  {
   "cell_type": "code",
   "execution_count": 10,
   "id": "f2ab424c",
   "metadata": {},
   "outputs": [
    {
     "data": {
      "text/html": [
       "<table border=\"1\" class=\"dataframe\">\n",
       "    <thead>\n",
       "        <tr>\n",
       "            <th>Date</th> <th>Flight Number</th> <th>Destination</th> <th>Delay</th>\n",
       "        </tr>\n",
       "    </thead>\n",
       "    <tbody>\n",
       "        <tr>\n",
       "            <td>06/01/2015</td> <td>73           </td> <td>HNL        </td> <td>257  </td>\n",
       "        </tr>\n",
       "        <tr>\n",
       "            <td>06/07/2015</td> <td>1692         </td> <td>EWR        </td> <td>7    </td>\n",
       "        </tr>\n",
       "        <tr>\n",
       "            <td>6/14/15   </td> <td>824          </td> <td>JFK        </td> <td>-1   </td>\n",
       "        </tr>\n",
       "        <tr>\n",
       "            <td>6/21/15   </td> <td>217          </td> <td>EWR        </td> <td>5    </td>\n",
       "        </tr>\n",
       "        <tr>\n",
       "            <td>6/27/15   </td> <td>1401         </td> <td>SAN        </td> <td>-4   </td>\n",
       "        </tr>\n",
       "        <tr>\n",
       "            <td>07/04/2015</td> <td>1614         </td> <td>LAS        </td> <td>-2   </td>\n",
       "        </tr>\n",
       "        <tr>\n",
       "            <td>07/11/2015</td> <td>401          </td> <td>CLE        </td> <td>4    </td>\n",
       "        </tr>\n",
       "        <tr>\n",
       "            <td>7/17/15   </td> <td>1645         </td> <td>IAD        </td> <td>0    </td>\n",
       "        </tr>\n",
       "        <tr>\n",
       "            <td>7/24/15   </td> <td>624          </td> <td>ORD        </td> <td>61   </td>\n",
       "        </tr>\n",
       "        <tr>\n",
       "            <td>7/30/15   </td> <td>1728         </td> <td>ORD        </td> <td>209  </td>\n",
       "        </tr>\n",
       "    </tbody>\n",
       "</table>\n",
       "<p>... (4 rows omitted)</p>"
      ],
      "text/plain": [
       "Date       | Flight Number | Destination | Delay\n",
       "06/01/2015 | 73            | HNL         | 257\n",
       "06/07/2015 | 1692          | EWR         | 7\n",
       "6/14/15    | 824           | JFK         | -1\n",
       "6/21/15    | 217           | EWR         | 5\n",
       "6/27/15    | 1401          | SAN         | -4\n",
       "07/04/2015 | 1614          | LAS         | -2\n",
       "07/11/2015 | 401           | CLE         | 4\n",
       "7/17/15    | 1645          | IAD         | 0\n",
       "7/24/15    | 624           | ORD         | 61\n",
       "7/30/15    | 1728          | ORD         | 209\n",
       "... (4 rows omitted)"
      ]
     },
     "execution_count": 10,
     "metadata": {},
     "output_type": "execute_result"
    }
   ],
   "source": [
    "united.take(np.arange(0, united.num_rows, 1000))\n",
    "#Taking first 0 to thousand rows of the united.num_rows\n",
    "#np.arange(start, end, skip)"
   ]
  },
  {
   "cell_type": "code",
   "execution_count": 11,
   "id": "6d5defca",
   "metadata": {},
   "outputs": [
    {
     "data": {
      "text/html": [
       "<table border=\"1\" class=\"dataframe\">\n",
       "    <thead>\n",
       "        <tr>\n",
       "            <th>Date</th> <th>Flight Number</th> <th>Destination</th> <th>Delay</th>\n",
       "        </tr>\n",
       "    </thead>\n",
       "    <tbody>\n",
       "        <tr>\n",
       "            <td>06/01/2015</td> <td>650          </td> <td>AUS        </td> <td>44   </td>\n",
       "        </tr>\n",
       "        <tr>\n",
       "            <td>7/13/15   </td> <td>1124         </td> <td>SEA        </td> <td>-7   </td>\n",
       "        </tr>\n",
       "        <tr>\n",
       "            <td>08/06/2015</td> <td>1216         </td> <td>LAS        </td> <td>2    </td>\n",
       "        </tr>\n",
       "    </tbody>\n",
       "</table>"
      ],
      "text/plain": [
       "Date       | Flight Number | Destination | Delay\n",
       "06/01/2015 | 650           | AUS         | 44\n",
       "7/13/15    | 1124          | SEA         | -7\n",
       "08/06/2015 | 1216          | LAS         | 2"
      ]
     },
     "execution_count": 11,
     "metadata": {},
     "output_type": "execute_result"
    }
   ],
   "source": [
    "united.take(make_array(34, 6321, 10040))"
   ]
  },
  {
   "cell_type": "code",
   "execution_count": null,
   "id": "934d8f0e",
   "metadata": {},
   "outputs": [],
   "source": []
  },
  {
   "cell_type": "markdown",
   "id": "f796fed4",
   "metadata": {},
   "source": [
    "### A random sample"
   ]
  },
  {
   "cell_type": "code",
   "execution_count": 12,
   "id": "60f4d121",
   "metadata": {},
   "outputs": [
    {
     "data": {
      "text/html": [
       "<table border=\"1\" class=\"dataframe\">\n",
       "    <thead>\n",
       "        <tr>\n",
       "            <th>Date</th> <th>Flight Number</th> <th>Destination</th> <th>Delay</th>\n",
       "        </tr>\n",
       "    </thead>\n",
       "    <tbody>\n",
       "        <tr>\n",
       "            <td>06/02/2015</td> <td>898          </td> <td>JFK        </td> <td>37   </td>\n",
       "        </tr>\n",
       "        <tr>\n",
       "            <td>06/09/2015</td> <td>408          </td> <td>IAD        </td> <td>18   </td>\n",
       "        </tr>\n",
       "        <tr>\n",
       "            <td>6/15/15   </td> <td>1681         </td> <td>CLE        </td> <td>91   </td>\n",
       "        </tr>\n",
       "        <tr>\n",
       "            <td>6/22/15   </td> <td>1087         </td> <td>BWI        </td> <td>0    </td>\n",
       "        </tr>\n",
       "        <tr>\n",
       "            <td>6/29/15   </td> <td>300          </td> <td>HNL        </td> <td>7    </td>\n",
       "        </tr>\n",
       "        <tr>\n",
       "            <td>07/06/2015</td> <td>620          </td> <td>ORD        </td> <td>-6   </td>\n",
       "        </tr>\n",
       "        <tr>\n",
       "            <td>07/12/2015</td> <td>1681         </td> <td>PHL        </td> <td>5    </td>\n",
       "        </tr>\n",
       "        <tr>\n",
       "            <td>7/19/15   </td> <td>580          </td> <td>PDX        </td> <td>1    </td>\n",
       "        </tr>\n",
       "        <tr>\n",
       "            <td>7/25/15   </td> <td>1608         </td> <td>EWR        </td> <td>13   </td>\n",
       "        </tr>\n",
       "        <tr>\n",
       "            <td>08/01/2015</td> <td>378          </td> <td>IAH        </td> <td>1    </td>\n",
       "        </tr>\n",
       "        <tr>\n",
       "            <td>08/07/2015</td> <td>1247         </td> <td>SAN        </td> <td>-2   </td>\n",
       "        </tr>\n",
       "        <tr>\n",
       "            <td>8/13/15   </td> <td>1975         </td> <td>FLL        </td> <td>66   </td>\n",
       "        </tr>\n",
       "        <tr>\n",
       "            <td>8/20/15   </td> <td>1644         </td> <td>IAH        </td> <td>74   </td>\n",
       "        </tr>\n",
       "        <tr>\n",
       "            <td>8/27/15   </td> <td>1606         </td> <td>ORD        </td> <td>94   </td>\n",
       "        </tr>\n",
       "    </tbody>\n",
       "</table>"
      ],
      "text/plain": [
       "<IPython.core.display.HTML object>"
      ]
     },
     "metadata": {},
     "output_type": "display_data"
    }
   ],
   "source": [
    "start = np.random.choice(np.arange(1000))\n",
    "systematic_sample = united.take(np.arange(start, united.num_rows, 1000))\n",
    "systematic_sample.show()"
   ]
  },
  {
   "cell_type": "markdown",
   "id": "bb9794a4",
   "metadata": {},
   "source": [
    "## Sample of Convenience"
   ]
  },
  {
   "cell_type": "code",
   "execution_count": 13,
   "id": "c851e669",
   "metadata": {},
   "outputs": [],
   "source": [
    "#sample consists of whoever walks by\n",
    "#Just because you think you're sampling randomly, doesn't mean you \n",
    "#have a random sample"
   ]
  },
  {
   "cell_type": "markdown",
   "id": "943424d6",
   "metadata": {},
   "source": [
    "## Distributions"
   ]
  },
  {
   "cell_type": "code",
   "execution_count": 14,
   "id": "4e39629f",
   "metadata": {},
   "outputs": [],
   "source": [
    "#Random quantity with various possible values"
   ]
  },
  {
   "cell_type": "code",
   "execution_count": 15,
   "id": "1a307f59",
   "metadata": {},
   "outputs": [],
   "source": [
    "#Probability distribution\n",
    "    #All possible values of the quantity\n",
    "    #The probability of each of those values"
   ]
  },
  {
   "cell_type": "code",
   "execution_count": 16,
   "id": "d4ab3ca1",
   "metadata": {},
   "outputs": [],
   "source": [
    "#If you can do the math, you can work out the probability distribution without ever\n",
    "#simulating it\n",
    "#But simulation is much easier"
   ]
  },
  {
   "cell_type": "markdown",
   "id": "cf49965d",
   "metadata": {},
   "source": [
    "## Empirical Distributions"
   ]
  },
  {
   "cell_type": "code",
   "execution_count": 17,
   "id": "dd98b32d",
   "metadata": {},
   "outputs": [],
   "source": [
    "#Based on observations\n",
    "#Observations can be from repetitions of an experiment"
   ]
  },
  {
   "cell_type": "code",
   "execution_count": 18,
   "id": "da4a3b29",
   "metadata": {},
   "outputs": [],
   "source": [
    "#Empirical Distribution\n",
    "    #All observed values\n",
    "    #Proportion of times each value appears"
   ]
  },
  {
   "cell_type": "code",
   "execution_count": null,
   "id": "d4314c14",
   "metadata": {},
   "outputs": [],
   "source": []
  },
  {
   "cell_type": "code",
   "execution_count": 19,
   "id": "c6a6dd42",
   "metadata": {},
   "outputs": [
    {
     "data": {
      "text/html": [
       "<table border=\"1\" class=\"dataframe\">\n",
       "    <thead>\n",
       "        <tr>\n",
       "            <th>Face</th>\n",
       "        </tr>\n",
       "    </thead>\n",
       "    <tbody>\n",
       "        <tr>\n",
       "            <td>1   </td>\n",
       "        </tr>\n",
       "        <tr>\n",
       "            <td>2   </td>\n",
       "        </tr>\n",
       "        <tr>\n",
       "            <td>3   </td>\n",
       "        </tr>\n",
       "        <tr>\n",
       "            <td>4   </td>\n",
       "        </tr>\n",
       "        <tr>\n",
       "            <td>5   </td>\n",
       "        </tr>\n",
       "        <tr>\n",
       "            <td>6   </td>\n",
       "        </tr>\n",
       "    </tbody>\n",
       "</table>"
      ],
      "text/plain": [
       "Face\n",
       "1\n",
       "2\n",
       "3\n",
       "4\n",
       "5\n",
       "6"
      ]
     },
     "execution_count": 19,
     "metadata": {},
     "output_type": "execute_result"
    }
   ],
   "source": [
    "die = Table().with_column('Face', np.arange(1,7))\n",
    "die"
   ]
  },
  {
   "cell_type": "code",
   "execution_count": 20,
   "id": "7fb3cb6e",
   "metadata": {},
   "outputs": [
    {
     "data": {
      "text/html": [
       "<table border=\"1\" class=\"dataframe\">\n",
       "    <thead>\n",
       "        <tr>\n",
       "            <th>Face</th>\n",
       "        </tr>\n",
       "    </thead>\n",
       "    <tbody>\n",
       "        <tr>\n",
       "            <td>5   </td>\n",
       "        </tr>\n",
       "        <tr>\n",
       "            <td>5   </td>\n",
       "        </tr>\n",
       "        <tr>\n",
       "            <td>2   </td>\n",
       "        </tr>\n",
       "        <tr>\n",
       "            <td>4   </td>\n",
       "        </tr>\n",
       "        <tr>\n",
       "            <td>5   </td>\n",
       "        </tr>\n",
       "        <tr>\n",
       "            <td>6   </td>\n",
       "        </tr>\n",
       "        <tr>\n",
       "            <td>6   </td>\n",
       "        </tr>\n",
       "        <tr>\n",
       "            <td>3   </td>\n",
       "        </tr>\n",
       "        <tr>\n",
       "            <td>4   </td>\n",
       "        </tr>\n",
       "        <tr>\n",
       "            <td>4   </td>\n",
       "        </tr>\n",
       "    </tbody>\n",
       "</table>"
      ],
      "text/plain": [
       "Face\n",
       "5\n",
       "5\n",
       "2\n",
       "4\n",
       "5\n",
       "6\n",
       "6\n",
       "3\n",
       "4\n",
       "4"
      ]
     },
     "execution_count": 20,
     "metadata": {},
     "output_type": "execute_result"
    }
   ],
   "source": [
    "die.sample(10)"
   ]
  },
  {
   "cell_type": "code",
   "execution_count": 21,
   "id": "f8751f69",
   "metadata": {},
   "outputs": [
    {
     "data": {
      "image/png": "[encoded data removed]",
      "text/plain": [
       "<Figure size 432x288 with 1 Axes>"
      ]
     },
     "metadata": {},
     "output_type": "display_data"
    }
   ],
   "source": [
    "die.hist()"
   ]
  },
  {
   "cell_type": "code",
   "execution_count": 22,
   "id": "a2edaef5",
   "metadata": {},
   "outputs": [],
   "source": [
    "roll_bins = np.arange(0.5, 6.6, 1)"
   ]
  },
  {
   "cell_type": "code",
   "execution_count": 23,
   "id": "bd9401ed",
   "metadata": {},
   "outputs": [
    {
     "data": {
      "image/png": "[encoded data removed]",
      "text/plain": [
       "<Figure size 432x288 with 1 Axes>"
      ]
     },
     "metadata": {},
     "output_type": "display_data"
    }
   ],
   "source": [
    "die.hist(bins=roll_bins)"
   ]
  },
  {
   "cell_type": "code",
   "execution_count": 24,
   "id": "0a148df7",
   "metadata": {},
   "outputs": [
    {
     "data": {
      "image/png": "[encoded data removed]",
      "text/plain": [
       "<Figure size 432x288 with 1 Axes>"
      ]
     },
     "metadata": {},
     "output_type": "display_data"
    }
   ],
   "source": [
    "die.sample(10).hist(bins=roll_bins)"
   ]
  },
  {
   "cell_type": "code",
   "execution_count": 25,
   "id": "032998ba",
   "metadata": {},
   "outputs": [
    {
     "data": {
      "image/png": "[encoded data removed]",
      "text/plain": [
       "<Figure size 432x288 with 1 Axes>"
      ]
     },
     "metadata": {},
     "output_type": "display_data"
    }
   ],
   "source": [
    "die.sample(1000).hist(bins=roll_bins)"
   ]
  },
  {
   "cell_type": "code",
   "execution_count": 26,
   "id": "9cf23e79",
   "metadata": {
    "scrolled": false
   },
   "outputs": [
    {
     "data": {
      "image/png": "[encoded data removed]",
      "text/plain": [
       "<Figure size 432x288 with 1 Axes>"
      ]
     },
     "metadata": {},
     "output_type": "display_data"
    }
   ],
   "source": [
    "die.sample(100000).hist(bins=roll_bins)"
   ]
  },
  {
   "cell_type": "markdown",
   "id": "c3e22ee8",
   "metadata": {},
   "source": [
    "## Sampling from a Distribution"
   ]
  },
  {
   "cell_type": "code",
   "execution_count": 27,
   "id": "55857316",
   "metadata": {},
   "outputs": [],
   "source": [
    "#Sampling at random from a categorical distribution"
   ]
  },
  {
   "cell_type": "markdown",
   "id": "03304fd4",
   "metadata": {},
   "source": [
    "# sample_proportions"
   ]
  },
  {
   "cell_type": "code",
   "execution_count": 28,
   "id": "5f6b2caa",
   "metadata": {},
   "outputs": [],
   "source": [
    "#sample_proportions(sample_size, pop_distribution)"
   ]
  },
  {
   "cell_type": "code",
   "execution_count": 29,
   "id": "056334e5",
   "metadata": {},
   "outputs": [],
   "source": [
    "distribution_in_pop = make_array(0.9, 0.1)"
   ]
  },
  {
   "cell_type": "code",
   "execution_count": 30,
   "id": "d9b1db7e",
   "metadata": {},
   "outputs": [
    {
     "data": {
      "text/plain": [
       "array([0.9, 0.1])"
      ]
     },
     "execution_count": 30,
     "metadata": {},
     "output_type": "execute_result"
    }
   ],
   "source": [
    "distribution_in_pop"
   ]
  },
  {
   "cell_type": "code",
   "execution_count": 31,
   "id": "905d4462",
   "metadata": {},
   "outputs": [],
   "source": [
    "#Suppose you have 100 friends. Let's simulate how many might suffer \n",
    "#from a depressive illness, assuming we can treat each friend as drawn randomly\n",
    "#from the population of US adults (a dubious assumption)"
   ]
  },
  {
   "cell_type": "code",
   "execution_count": 32,
   "id": "240eee1a",
   "metadata": {},
   "outputs": [
    {
     "data": {
      "text/plain": [
       "array([0.87, 0.13])"
      ]
     },
     "execution_count": 32,
     "metadata": {},
     "output_type": "execute_result"
    }
   ],
   "source": [
    "distribution_in_sample = sample_proportions(100, distribution_in_pop)\n",
    "distribution_in_sample"
   ]
  },
  {
   "cell_type": "markdown",
   "id": "faba1b98",
   "metadata": {},
   "source": [
    "## Large Random Samples"
   ]
  },
  {
   "cell_type": "markdown",
   "id": "b07f2645",
   "metadata": {},
   "source": [
    "## Law of Large Numbers"
   ]
  },
  {
   "cell_type": "code",
   "execution_count": 33,
   "id": "280053cd",
   "metadata": {},
   "outputs": [],
   "source": [
    "# #If a chance experiment is repeated many times,\n",
    "# independently and under the same conditions,\n",
    "# then the proportion of times the event occurs \n",
    "# gets closer to the theoretical probability of the event\n",
    "\n",
    "# As you increase the number og rolls of a die, the proportion\n",
    "# of times you see the face with five spots gets closer to 1/6"
   ]
  },
  {
   "cell_type": "code",
   "execution_count": 34,
   "id": "3732230f",
   "metadata": {},
   "outputs": [],
   "source": [
    "#Larger the sample, the more accurate it gets"
   ]
  },
  {
   "cell_type": "code",
   "execution_count": 35,
   "id": "8d28246b",
   "metadata": {},
   "outputs": [],
   "source": [
    "united = Table.read_table('united.csv')\n",
    "united_bins = np.arange(-20, 201, 5)"
   ]
  },
  {
   "cell_type": "code",
   "execution_count": 36,
   "id": "b0f41672",
   "metadata": {},
   "outputs": [
    {
     "data": {
      "image/png": "[encoded data removed]",
      "text/plain": [
       "<Figure size 432x288 with 1 Axes>"
      ]
     },
     "metadata": {},
     "output_type": "display_data"
    }
   ],
   "source": [
    "#(Population) Probability Distribution\n",
    "united.hist('Delay', bins = united_bins)"
   ]
  },
  {
   "cell_type": "code",
   "execution_count": 37,
   "id": "6493c732",
   "metadata": {},
   "outputs": [
    {
     "data": {
      "image/png": "[encoded data removed]",
      "text/plain": [
       "<Figure size 432x288 with 1 Axes>"
      ]
     },
     "metadata": {},
     "output_type": "display_data"
    }
   ],
   "source": [
    "#(Sample) Empirical Distribution\n",
    "united.sample(10).hist('Delay', bins = united_bins)"
   ]
  },
  {
   "cell_type": "code",
   "execution_count": 38,
   "id": "63006068",
   "metadata": {},
   "outputs": [
    {
     "data": {
      "image/png": "[encoded data removed]",
      "text/plain": [
       "<Figure size 432x288 with 1 Axes>"
      ]
     },
     "metadata": {},
     "output_type": "display_data"
    }
   ],
   "source": [
    "united.sample(1000).hist('Delay', bins = united_bins)"
   ]
  },
  {
   "cell_type": "code",
   "execution_count": 39,
   "id": "e51f0a48",
   "metadata": {},
   "outputs": [
    {
     "data": {
      "image/png": "[encoded data removed]",
      "text/plain": [
       "<Figure size 432x288 with 1 Axes>"
      ]
     },
     "metadata": {},
     "output_type": "display_data"
    }
   ],
   "source": [
    "united.sample(1000, with_replacement=False).hist('Delay', bins = united_bins)"
   ]
  },
  {
   "cell_type": "markdown",
   "id": "0c5659b6",
   "metadata": {},
   "source": [
    "# A Statistic"
   ]
  },
  {
   "cell_type": "code",
   "execution_count": 40,
   "id": "180f3391",
   "metadata": {},
   "outputs": [],
   "source": [
    "#Making conclusions based on data in random samples"
   ]
  },
  {
   "cell_type": "code",
   "execution_count": 41,
   "id": "6fb98208",
   "metadata": {},
   "outputs": [],
   "source": [
    "#Use the data to guess the value of an unknown(fixed) number"
   ]
  },
  {
   "cell_type": "code",
   "execution_count": 42,
   "id": "1b3d1757",
   "metadata": {},
   "outputs": [],
   "source": [
    "#Create an estimate of the unknown quantity"
   ]
  },
  {
   "cell_type": "code",
   "execution_count": null,
   "id": "9d557cf5",
   "metadata": {},
   "outputs": [],
   "source": []
  },
  {
   "cell_type": "code",
   "execution_count": 43,
   "id": "a3e00e40",
   "metadata": {},
   "outputs": [],
   "source": [
    "#Parameter\n",
    "    #A number associated with the population"
   ]
  },
  {
   "cell_type": "code",
   "execution_count": 44,
   "id": "598c210f",
   "metadata": {},
   "outputs": [],
   "source": [
    "#Statistic\n",
    "    #A number calculated from the sample"
   ]
  },
  {
   "cell_type": "code",
   "execution_count": 45,
   "id": "082c207f",
   "metadata": {},
   "outputs": [],
   "source": [
    "#A statistic can be used as an estimate of a parameter"
   ]
  },
  {
   "cell_type": "markdown",
   "id": "da1d26d3",
   "metadata": {},
   "source": [
    "## Statistics"
   ]
  },
  {
   "cell_type": "code",
   "execution_count": 46,
   "id": "94d23bf2",
   "metadata": {},
   "outputs": [
    {
     "data": {
      "text/plain": [
       "2.0"
      ]
     },
     "execution_count": 46,
     "metadata": {},
     "output_type": "execute_result"
    }
   ],
   "source": [
    "#(Population) Parameter\n",
    "np.median(united.column('Delay'))"
   ]
  },
  {
   "cell_type": "code",
   "execution_count": 47,
   "id": "5786c20f",
   "metadata": {},
   "outputs": [
    {
     "data": {
      "text/plain": [
       "3.0"
      ]
     },
     "execution_count": 47,
     "metadata": {},
     "output_type": "execute_result"
    }
   ],
   "source": [
    "#(Sample) Statistic\n",
    "np.median(united.sample(10).column('Delay'))"
   ]
  },
  {
   "cell_type": "code",
   "execution_count": 48,
   "id": "6830e407",
   "metadata": {},
   "outputs": [
    {
     "data": {
      "text/plain": [
       "0.0"
      ]
     },
     "execution_count": 48,
     "metadata": {},
     "output_type": "execute_result"
    }
   ],
   "source": [
    "#(Sample) Statistic\n",
    "np.median(united.sample(100).column('Delay'))"
   ]
  },
  {
   "cell_type": "code",
   "execution_count": 49,
   "id": "4566511e",
   "metadata": {},
   "outputs": [
    {
     "data": {
      "text/plain": [
       "2.0"
      ]
     },
     "execution_count": 49,
     "metadata": {},
     "output_type": "execute_result"
    }
   ],
   "source": [
    "#(Sample) Statistic\n",
    "np.median(united.sample(1000000).column('Delay'))"
   ]
  },
  {
   "cell_type": "markdown",
   "id": "72142bcd",
   "metadata": {},
   "source": [
    "## Probability & Empirical Distributions of a Statistic"
   ]
  },
  {
   "cell_type": "code",
   "execution_count": 50,
   "id": "e2d6cb5d",
   "metadata": {},
   "outputs": [],
   "source": [
    "def sample_median(size):\n",
    "    return np.median(united.sample(size).column('Delay'))"
   ]
  },
  {
   "cell_type": "code",
   "execution_count": 51,
   "id": "d8042624",
   "metadata": {},
   "outputs": [
    {
     "data": {
      "text/plain": [
       "0.5"
      ]
     },
     "execution_count": 51,
     "metadata": {},
     "output_type": "execute_result"
    }
   ],
   "source": [
    "sample_median(10)"
   ]
  },
  {
   "cell_type": "code",
   "execution_count": 52,
   "id": "e0d9367d",
   "metadata": {},
   "outputs": [],
   "source": [
    "num_simulations = 2000"
   ]
  },
  {
   "cell_type": "code",
   "execution_count": 54,
   "id": "ebe4f795",
   "metadata": {},
   "outputs": [],
   "source": [
    "sample_medians = make_array()\n",
    "#For each iteration of the loop, \n",
    "#you simulate the process === new_median = sample_median(10)\n",
    "#you append that to the array\n",
    "\n",
    "\n",
    "\n",
    "for i in np.arange(num_simulations):\n",
    "    new_median = sample_median(10)\n",
    "    sample_medians = np.append(sample_medians, new_median)"
   ]
  },
  {
   "cell_type": "code",
   "execution_count": 56,
   "id": "ce08a82e",
   "metadata": {},
   "outputs": [
    {
     "data": {
      "text/plain": [
       "array([ 0.5, -0.5,  5.5, ...,  2. , 23.5, 13. ])"
      ]
     },
     "execution_count": 56,
     "metadata": {},
     "output_type": "execute_result"
    }
   ],
   "source": [
    "sample_medians"
   ]
  },
  {
   "cell_type": "code",
   "execution_count": 58,
   "id": "cf4ee8f4",
   "metadata": {},
   "outputs": [
    {
     "data": {
      "image/png": "[encoded data removed]",
      "text/plain": [
       "<Figure size 432x288 with 1 Axes>"
      ]
     },
     "metadata": {},
     "output_type": "display_data"
    }
   ],
   "source": [
    "Table().with_column('Sample medians (size=10)', sample_medians).hist(bins=20)"
   ]
  },
  {
   "cell_type": "code",
   "execution_count": null,
   "id": "7c91f9d5",
   "metadata": {},
   "outputs": [],
   "source": []
  }
 ],
 "metadata": {
  "kernelspec": {
   "display_name": "Python 3 (ipykernel)",
   "language": "python",
   "name": "python3"
  },
  "language_info": {
   "codemirror_mode": {
    "name": "ipython",
    "version": 3
   },
   "file_extension": ".py",
   "mimetype": "text/x-python",
   "name": "python",
   "nbconvert_exporter": "python",
   "pygments_lexer": "ipython3",
   "version": "3.8.6"
  }
 },
 "nbformat": 4,
 "nbformat_minor": 5
}
