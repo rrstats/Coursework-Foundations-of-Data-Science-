{
 "cells": [
  {
   "cell_type": "code",
   "execution_count": 2,
   "id": "31df48c5",
   "metadata": {},
   "outputs": [],
   "source": [
    "from datascience import *\n",
    "%matplotlib inline\n",
    "path_data = '../../../assets/data/'\n",
    "import matplotlib.pyplot as plt\n",
    "plt.style.use('fivethirtyeight')\n",
    "import numpy as np\n",
    "import warnings\n",
    "warnings.simplefilter(action='ignore', category=np.VisibleDeprecationWarning)\n"
   ]
  },
  {
   "cell_type": "markdown",
   "id": "a389ac85",
   "metadata": {},
   "source": [
    "## Lecture 17"
   ]
  },
  {
   "cell_type": "markdown",
   "id": "8d2f014e",
   "metadata": {},
   "source": [
    "### Simulating Jury Panels picked at random"
   ]
  },
  {
   "cell_type": "code",
   "execution_count": 3,
   "id": "313fe028",
   "metadata": {},
   "outputs": [],
   "source": [
    "sample_size = 100\n",
    "\n",
    "#26% are black, 74% are not\n",
    "eligible = [0.26, 0.74]"
   ]
  },
  {
   "cell_type": "code",
   "execution_count": 4,
   "id": "3442fc9e",
   "metadata": {},
   "outputs": [
    {
     "data": {
      "text/plain": [
       "array([0.28, 0.72])"
      ]
     },
     "execution_count": 4,
     "metadata": {},
     "output_type": "execute_result"
    }
   ],
   "source": [
    "sample_proportions(sample_size, eligible)#.item(0)"
   ]
  },
  {
   "cell_type": "code",
   "execution_count": 5,
   "id": "92b23caa",
   "metadata": {},
   "outputs": [],
   "source": [
    "def simulate_one_count():\n",
    "    return sample_size * sample_proportions(sample_size, eligible).item(0)"
   ]
  },
  {
   "cell_type": "code",
   "execution_count": 6,
   "id": "bdd60b27",
   "metadata": {},
   "outputs": [],
   "source": [
    "counts = make_array()\n",
    "for i in np.arange(10000):\n",
    "    counts = np.append(counts, simulate_one_count())"
   ]
  },
  {
   "cell_type": "code",
   "execution_count": 7,
   "id": "689aa653",
   "metadata": {},
   "outputs": [
    {
     "data": {
      "image/png": "[encoded data removed]",
      "text/plain": [
       "<Figure size 432x288 with 1 Axes>"
      ]
     },
     "metadata": {},
     "output_type": "display_data"
    }
   ],
   "source": [
    "Table().with_column(\n",
    "    'Count in a Random Sample', counts\n",
    ").hist(bins=np.arange(5.5, 46.6, 1))\n",
    "\n",
    "#Plotting details; ignore details\n",
    "# plots.ylim(-0.002, 0.09)\n",
    "# plots.scatter(8, 0, color-'red', n=30)"
   ]
  },
  {
   "cell_type": "markdown",
   "id": "1b20a058",
   "metadata": {},
   "source": [
    "## Multiple Categories"
   ]
  },
  {
   "cell_type": "code",
   "execution_count": 8,
   "id": "074c3635",
   "metadata": {},
   "outputs": [
    {
     "data": {
      "text/html": [
       "<table border=\"1\" class=\"dataframe\">\n",
       "    <thead>\n",
       "        <tr>\n",
       "            <th>Ethnicity</th> <th>Eligible</th> <th>Panels</th>\n",
       "        </tr>\n",
       "    </thead>\n",
       "    <tbody>\n",
       "        <tr>\n",
       "            <td>Asian/PI </td> <td>0.15    </td> <td>0.26  </td>\n",
       "        </tr>\n",
       "        <tr>\n",
       "            <td>Black/AA </td> <td>0.18    </td> <td>0.08  </td>\n",
       "        </tr>\n",
       "        <tr>\n",
       "            <td>Caucasian</td> <td>0.54    </td> <td>0.54  </td>\n",
       "        </tr>\n",
       "        <tr>\n",
       "            <td>Hispanic </td> <td>0.12    </td> <td>0.08  </td>\n",
       "        </tr>\n",
       "        <tr>\n",
       "            <td>Other    </td> <td>0.01    </td> <td>0.04  </td>\n",
       "        </tr>\n",
       "    </tbody>\n",
       "</table>"
      ],
      "text/plain": [
       "Ethnicity | Eligible | Panels\n",
       "Asian/PI  | 0.15     | 0.26\n",
       "Black/AA  | 0.18     | 0.08\n",
       "Caucasian | 0.54     | 0.54\n",
       "Hispanic  | 0.12     | 0.08\n",
       "Other     | 0.01     | 0.04"
      ]
     },
     "execution_count": 8,
     "metadata": {},
     "output_type": "execute_result"
    }
   ],
   "source": [
    "jury = Table().with_columns(\n",
    "    'Ethnicity', make_array('Asian/PI', 'Black/AA', 'Caucasian', 'Hispanic', 'Other'),\n",
    "    'Eligible', make_array(0.15, 0.18, 0.54, 0.12, 0.01),\n",
    "    'Panels', make_array(0.26, 0.08, 0.54, 0.08, 0.04)\n",
    ")\n",
    "jury"
   ]
  },
  {
   "cell_type": "code",
   "execution_count": 9,
   "id": "698cd98e",
   "metadata": {},
   "outputs": [
    {
     "data": {
      "image/png": "[encoded data removed]",
      "text/plain": [
       "<Figure size 432x288 with 1 Axes>"
      ]
     },
     "metadata": {},
     "output_type": "display_data"
    }
   ],
   "source": [
    "jury.barh('Ethnicity')\n",
    "#Underrepresentation chart\n"
   ]
  },
  {
   "cell_type": "code",
   "execution_count": 10,
   "id": "381f8511",
   "metadata": {},
   "outputs": [],
   "source": [
    "#Now, is this random?\n",
    "eligible_population = jury.column('Eligible')"
   ]
  },
  {
   "cell_type": "code",
   "execution_count": 11,
   "id": "584677e6",
   "metadata": {},
   "outputs": [
    {
     "data": {
      "text/plain": [
       "array([0.13902271, 0.18031659, 0.54094976, 0.12594632, 0.01376462])"
      ]
     },
     "execution_count": 11,
     "metadata": {},
     "output_type": "execute_result"
    }
   ],
   "source": [
    "sample_proportions(1453, eligible_population)\n",
    "#1453 is the sample size to be drawn from the population"
   ]
  },
  {
   "cell_type": "code",
   "execution_count": 12,
   "id": "299c5d2b",
   "metadata": {},
   "outputs": [
    {
     "data": {
      "text/html": [
       "<table border=\"1\" class=\"dataframe\">\n",
       "    <thead>\n",
       "        <tr>\n",
       "            <th>Ethnicity</th> <th>Eligible</th> <th>Panels</th> <th>Random Sample</th>\n",
       "        </tr>\n",
       "    </thead>\n",
       "    <tbody>\n",
       "        <tr>\n",
       "            <td>Asian/PI </td> <td>0.15    </td> <td>0.26  </td> <td>0.165175     </td>\n",
       "        </tr>\n",
       "        <tr>\n",
       "            <td>Black/AA </td> <td>0.18    </td> <td>0.08  </td> <td>0.192017     </td>\n",
       "        </tr>\n",
       "        <tr>\n",
       "            <td>Caucasian</td> <td>0.54    </td> <td>0.54  </td> <td>0.523744     </td>\n",
       "        </tr>\n",
       "        <tr>\n",
       "            <td>Hispanic </td> <td>0.12    </td> <td>0.08  </td> <td>0.110805     </td>\n",
       "        </tr>\n",
       "        <tr>\n",
       "            <td>Other    </td> <td>0.01    </td> <td>0.04  </td> <td>0.00825877   </td>\n",
       "        </tr>\n",
       "    </tbody>\n",
       "</table>"
      ],
      "text/plain": [
       "Ethnicity | Eligible | Panels | Random Sample\n",
       "Asian/PI  | 0.15     | 0.26   | 0.165175\n",
       "Black/AA  | 0.18     | 0.08   | 0.192017\n",
       "Caucasian | 0.54     | 0.54   | 0.523744\n",
       "Hispanic  | 0.12     | 0.08   | 0.110805\n",
       "Other     | 0.01     | 0.04   | 0.00825877"
      ]
     },
     "execution_count": 12,
     "metadata": {},
     "output_type": "execute_result"
    }
   ],
   "source": [
    "sample_distribution = sample_proportions(1453, eligible_population)\n",
    "panels_and_sample = jury.with_column('Random Sample', sample_distribution)\n",
    "panels_and_sample"
   ]
  },
  {
   "cell_type": "code",
   "execution_count": 13,
   "id": "33395fad",
   "metadata": {},
   "outputs": [
    {
     "data": {
      "image/png": "[encoded data removed]",
      "text/plain": [
       "<Figure size 432x288 with 1 Axes>"
      ]
     },
     "metadata": {},
     "output_type": "display_data"
    }
   ],
   "source": [
    "panels_and_sample.barh('Ethnicity')"
   ]
  },
  {
   "cell_type": "markdown",
   "id": "616403cd",
   "metadata": {},
   "source": [
    "## Distance Between Two Distributions"
   ]
  },
  {
   "cell_type": "code",
   "execution_count": 14,
   "id": "86445f88",
   "metadata": {},
   "outputs": [],
   "source": [
    "#Quantify the distance between two distributions"
   ]
  },
  {
   "cell_type": "code",
   "execution_count": 15,
   "id": "f3f99946",
   "metadata": {},
   "outputs": [],
   "source": [
    "#The above was done only for one random sample.\n",
    "#To do it a thousand times, seeing a thousand bar charts is not convenient"
   ]
  },
  {
   "cell_type": "code",
   "execution_count": 16,
   "id": "a18bd543",
   "metadata": {},
   "outputs": [],
   "source": [
    "#Therefore, we need a new statistic"
   ]
  },
  {
   "cell_type": "code",
   "execution_count": 17,
   "id": "16dcf50e",
   "metadata": {},
   "outputs": [
    {
     "data": {
      "image/png": "[encoded data removed]",
      "text/plain": [
       "<Figure size 432x288 with 1 Axes>"
      ]
     },
     "metadata": {},
     "output_type": "display_data"
    }
   ],
   "source": [
    "jury.barh('Ethnicity')"
   ]
  },
  {
   "cell_type": "code",
   "execution_count": 18,
   "id": "046622a6",
   "metadata": {},
   "outputs": [],
   "source": [
    "#Easy. Just (gold-blue)"
   ]
  },
  {
   "cell_type": "code",
   "execution_count": 19,
   "id": "3bec3c7e",
   "metadata": {},
   "outputs": [
    {
     "data": {
      "text/html": [
       "<table border=\"1\" class=\"dataframe\">\n",
       "    <thead>\n",
       "        <tr>\n",
       "            <th>Ethnicity</th> <th>Eligible</th> <th>Panels</th> <th>Difference</th>\n",
       "        </tr>\n",
       "    </thead>\n",
       "    <tbody>\n",
       "        <tr>\n",
       "            <td>Asian/PI </td> <td>0.15    </td> <td>0.26  </td> <td>0.11      </td>\n",
       "        </tr>\n",
       "        <tr>\n",
       "            <td>Black/AA </td> <td>0.18    </td> <td>0.08  </td> <td>-0.1      </td>\n",
       "        </tr>\n",
       "        <tr>\n",
       "            <td>Caucasian</td> <td>0.54    </td> <td>0.54  </td> <td>0         </td>\n",
       "        </tr>\n",
       "        <tr>\n",
       "            <td>Hispanic </td> <td>0.12    </td> <td>0.08  </td> <td>-0.04     </td>\n",
       "        </tr>\n",
       "        <tr>\n",
       "            <td>Other    </td> <td>0.01    </td> <td>0.04  </td> <td>0.03      </td>\n",
       "        </tr>\n",
       "    </tbody>\n",
       "</table>"
      ],
      "text/plain": [
       "Ethnicity | Eligible | Panels | Difference\n",
       "Asian/PI  | 0.15     | 0.26   | 0.11\n",
       "Black/AA  | 0.18     | 0.08   | -0.1\n",
       "Caucasian | 0.54     | 0.54   | 0\n",
       "Hispanic  | 0.12     | 0.08   | -0.04\n",
       "Other     | 0.01     | 0.04   | 0.03"
      ]
     },
     "execution_count": 19,
     "metadata": {},
     "output_type": "execute_result"
    }
   ],
   "source": [
    "jury_with_diffs = jury.with_column(\n",
    "    'Difference', jury.column('Panels') - jury.column('Eligible')\n",
    ")\n",
    "jury_with_diffs"
   ]
  },
  {
   "cell_type": "code",
   "execution_count": 20,
   "id": "5ebc74d7",
   "metadata": {},
   "outputs": [
    {
     "data": {
      "text/html": [
       "<table border=\"1\" class=\"dataframe\">\n",
       "    <thead>\n",
       "        <tr>\n",
       "            <th>Ethnicity</th> <th>Eligible</th> <th>Panels</th> <th>Difference</th> <th>Absolute Difference</th>\n",
       "        </tr>\n",
       "    </thead>\n",
       "    <tbody>\n",
       "        <tr>\n",
       "            <td>Asian/PI </td> <td>0.15    </td> <td>0.26  </td> <td>0.11      </td> <td>0.11               </td>\n",
       "        </tr>\n",
       "        <tr>\n",
       "            <td>Black/AA </td> <td>0.18    </td> <td>0.08  </td> <td>-0.1      </td> <td>0.1                </td>\n",
       "        </tr>\n",
       "        <tr>\n",
       "            <td>Caucasian</td> <td>0.54    </td> <td>0.54  </td> <td>0         </td> <td>0                  </td>\n",
       "        </tr>\n",
       "        <tr>\n",
       "            <td>Hispanic </td> <td>0.12    </td> <td>0.08  </td> <td>-0.04     </td> <td>0.04               </td>\n",
       "        </tr>\n",
       "        <tr>\n",
       "            <td>Other    </td> <td>0.01    </td> <td>0.04  </td> <td>0.03      </td> <td>0.03               </td>\n",
       "        </tr>\n",
       "    </tbody>\n",
       "</table>"
      ],
      "text/plain": [
       "Ethnicity | Eligible | Panels | Difference | Absolute Difference\n",
       "Asian/PI  | 0.15     | 0.26   | 0.11       | 0.11\n",
       "Black/AA  | 0.18     | 0.08   | -0.1       | 0.1\n",
       "Caucasian | 0.54     | 0.54   | 0          | 0\n",
       "Hispanic  | 0.12     | 0.08   | -0.04      | 0.04\n",
       "Other     | 0.01     | 0.04   | 0.03       | 0.03"
      ]
     },
     "execution_count": 20,
     "metadata": {},
     "output_type": "execute_result"
    }
   ],
   "source": [
    "jury_with_diffs = jury_with_diffs.with_column(\n",
    "    'Absolute Difference', np.abs(jury_with_diffs.column('Difference'))\n",
    ")\n",
    "\n",
    "jury_with_diffs"
   ]
  },
  {
   "cell_type": "code",
   "execution_count": 21,
   "id": "3ec6007c",
   "metadata": {},
   "outputs": [
    {
     "data": {
      "text/plain": [
       "0.14"
      ]
     },
     "execution_count": 21,
     "metadata": {},
     "output_type": "execute_result"
    }
   ],
   "source": [
    "jury_with_diffs.column('Absolute Difference').sum() / 2"
   ]
  },
  {
   "cell_type": "code",
   "execution_count": 22,
   "id": "cd5ecf1e",
   "metadata": {},
   "outputs": [],
   "source": [
    "#You could have divided the above by 18 or multiplied by 99.\n",
    "#It is just a distance.\n",
    "#Just like inches can be converted to cm by just mmultipliying a factor,\n",
    "#any number can be the divisor or multiplier. \n",
    "#HOWEVER, the largest error obtained due to a certain distribution, (seen later)\n",
    "#is why the formula with 2 as a divisor makes sense."
   ]
  },
  {
   "cell_type": "code",
   "execution_count": 23,
   "id": "4e2fffa2",
   "metadata": {},
   "outputs": [],
   "source": [
    "#Total Variation Distance"
   ]
  },
  {
   "cell_type": "code",
   "execution_count": 24,
   "id": "aef9e57f",
   "metadata": {},
   "outputs": [],
   "source": [
    "def total_variation_distance(distribution_1, distribution_2):\n",
    "    return sum(np.abs(distribution_1 - distribution_2))/2"
   ]
  },
  {
   "cell_type": "code",
   "execution_count": 25,
   "id": "dc478984",
   "metadata": {},
   "outputs": [
    {
     "data": {
      "text/plain": [
       "0.14"
      ]
     },
     "execution_count": 25,
     "metadata": {},
     "output_type": "execute_result"
    }
   ],
   "source": [
    "panels = jury.column('Panels')\n",
    "total_variation_distance(panels, eligible_population)"
   ]
  },
  {
   "cell_type": "code",
   "execution_count": 26,
   "id": "07f7f0dd",
   "metadata": {},
   "outputs": [
    {
     "data": {
      "text/plain": [
       "0.014501032346868514"
      ]
     },
     "execution_count": 26,
     "metadata": {},
     "output_type": "execute_result"
    }
   ],
   "source": [
    "sample_distribution = sample_proportions(1453, eligible_population)\n",
    "total_variation_distance(sample_distribution, eligible_population)"
   ]
  },
  {
   "cell_type": "code",
   "execution_count": 27,
   "id": "99c71649",
   "metadata": {},
   "outputs": [],
   "source": [
    "#Far from 0.14"
   ]
  }
 ],
 "metadata": {
  "kernelspec": {
   "display_name": "Python 3 (ipykernel)",
   "language": "python",
   "name": "python3"
  },
  "language_info": {
   "codemirror_mode": {
    "name": "ipython",
    "version": 3
   },
   "file_extension": ".py",
   "mimetype": "text/x-python",
   "name": "python",
   "nbconvert_exporter": "python",
   "pygments_lexer": "ipython3",
   "version": "3.8.6"
  }
 },
 "nbformat": 4,
 "nbformat_minor": 5
}
