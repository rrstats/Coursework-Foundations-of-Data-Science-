{
 "cells": [
  {
   "cell_type": "code",
   "execution_count": 68,
   "id": "f4bda4be",
   "metadata": {},
   "outputs": [],
   "source": [
    "from datascience import *\n",
    "%matplotlib inline\n",
    "path_data = '../../../assets/data/'\n",
    "import matplotlib.pyplot as plt\n",
    "plt.style.use('fivethirtyeight')\n",
    "import numpy as np\n",
    "import warnings\n",
    "warnings.simplefilter(action='ignore', category=np.VisibleDeprecationWarning)\n"
   ]
  },
  {
   "cell_type": "code",
   "execution_count": 69,
   "id": "aa67255d",
   "metadata": {},
   "outputs": [],
   "source": [
    "#You could have divided the above by 18 or multiplied by 99.\n",
    "#It is just a distance.\n",
    "#Just like inches can be converted to cm by just mmultipliying a factor,\n",
    "#any number can be the divisor or multiplier. \n",
    "#HOWEVER, the largest error obtained due to a certain distribution, (seen later)\n",
    "#is why the formula with 2 as a divisor makes sense. "
   ]
  },
  {
   "cell_type": "code",
   "execution_count": 70,
   "id": "a40c5925",
   "metadata": {},
   "outputs": [],
   "source": [
    "#Total Variation Distance"
   ]
  },
  {
   "cell_type": "code",
   "execution_count": 71,
   "id": "8d93ac68",
   "metadata": {},
   "outputs": [],
   "source": [
    "def total_variation_distance(distribution_1, distribution_2):\n",
    "    return sum(np.abs(distribution_1 - distribution_2))/2"
   ]
  },
  {
   "cell_type": "code",
   "execution_count": 72,
   "id": "098049a8",
   "metadata": {},
   "outputs": [
    {
     "data": {
      "text/html": [
       "<table border=\"1\" class=\"dataframe\">\n",
       "    <thead>\n",
       "        <tr>\n",
       "            <th>Ethnicity</th> <th>Eligible</th> <th>Panels</th>\n",
       "        </tr>\n",
       "    </thead>\n",
       "    <tbody>\n",
       "        <tr>\n",
       "            <td>Asian/PI </td> <td>0.15    </td> <td>0.26  </td>\n",
       "        </tr>\n",
       "        <tr>\n",
       "            <td>Black/AA </td> <td>0.18    </td> <td>0.08  </td>\n",
       "        </tr>\n",
       "        <tr>\n",
       "            <td>Caucasian</td> <td>0.54    </td> <td>0.54  </td>\n",
       "        </tr>\n",
       "        <tr>\n",
       "            <td>Hispanic </td> <td>0.12    </td> <td>0.08  </td>\n",
       "        </tr>\n",
       "        <tr>\n",
       "            <td>Other    </td> <td>0.01    </td> <td>0.04  </td>\n",
       "        </tr>\n",
       "    </tbody>\n",
       "</table>"
      ],
      "text/plain": [
       "Ethnicity | Eligible | Panels\n",
       "Asian/PI  | 0.15     | 0.26\n",
       "Black/AA  | 0.18     | 0.08\n",
       "Caucasian | 0.54     | 0.54\n",
       "Hispanic  | 0.12     | 0.08\n",
       "Other     | 0.01     | 0.04"
      ]
     },
     "execution_count": 72,
     "metadata": {},
     "output_type": "execute_result"
    }
   ],
   "source": [
    "jury = Table().with_columns(\n",
    "    'Ethnicity', make_array('Asian/PI', 'Black/AA', 'Caucasian', 'Hispanic', 'Other'),\n",
    "    'Eligible', make_array(0.15, 0.18, 0.54, 0.12, 0.01),\n",
    "    'Panels', make_array(0.26, 0.08, 0.54, 0.08, 0.04)\n",
    ")\n",
    "jury"
   ]
  },
  {
   "cell_type": "code",
   "execution_count": 73,
   "id": "befa089b",
   "metadata": {},
   "outputs": [],
   "source": [
    "eligible_population = jury.column('Eligible')"
   ]
  },
  {
   "cell_type": "code",
   "execution_count": 74,
   "id": "5ad7383d",
   "metadata": {},
   "outputs": [
    {
     "data": {
      "text/plain": [
       "array([0.14384033, 0.18444597, 0.54507915, 0.11906401, 0.00757054])"
      ]
     },
     "execution_count": 74,
     "metadata": {},
     "output_type": "execute_result"
    }
   ],
   "source": [
    "sample_proportions(1453, eligible_population)"
   ]
  },
  {
   "cell_type": "code",
   "execution_count": 75,
   "id": "74b2b580",
   "metadata": {},
   "outputs": [
    {
     "data": {
      "text/html": [
       "<table border=\"1\" class=\"dataframe\">\n",
       "    <thead>\n",
       "        <tr>\n",
       "            <th>Ethnicity</th> <th>Eligible</th> <th>Panels</th> <th>Random Sample</th>\n",
       "        </tr>\n",
       "    </thead>\n",
       "    <tbody>\n",
       "        <tr>\n",
       "            <td>Asian/PI </td> <td>0.15    </td> <td>0.26  </td> <td>0.156917     </td>\n",
       "        </tr>\n",
       "        <tr>\n",
       "            <td>Black/AA </td> <td>0.18    </td> <td>0.08  </td> <td>0.179628     </td>\n",
       "        </tr>\n",
       "        <tr>\n",
       "            <td>Caucasian</td> <td>0.54    </td> <td>0.54  </td> <td>0.518926     </td>\n",
       "        </tr>\n",
       "        <tr>\n",
       "            <td>Hispanic </td> <td>0.12    </td> <td>0.08  </td> <td>0.134205     </td>\n",
       "        </tr>\n",
       "        <tr>\n",
       "            <td>Other    </td> <td>0.01    </td> <td>0.04  </td> <td>0.0103235    </td>\n",
       "        </tr>\n",
       "    </tbody>\n",
       "</table>"
      ],
      "text/plain": [
       "Ethnicity | Eligible | Panels | Random Sample\n",
       "Asian/PI  | 0.15     | 0.26   | 0.156917\n",
       "Black/AA  | 0.18     | 0.08   | 0.179628\n",
       "Caucasian | 0.54     | 0.54   | 0.518926\n",
       "Hispanic  | 0.12     | 0.08   | 0.134205\n",
       "Other     | 0.01     | 0.04   | 0.0103235"
      ]
     },
     "execution_count": 75,
     "metadata": {},
     "output_type": "execute_result"
    }
   ],
   "source": [
    "sample_distribution = sample_proportions(1453, eligible_population)\n",
    "panels_and_sample = jury.with_column('Random Sample', sample_distribution)\n",
    "panels_and_sample"
   ]
  },
  {
   "cell_type": "code",
   "execution_count": 76,
   "id": "e2841217",
   "metadata": {},
   "outputs": [
    {
     "data": {
      "text/plain": [
       "0.14"
      ]
     },
     "execution_count": 76,
     "metadata": {},
     "output_type": "execute_result"
    }
   ],
   "source": [
    "panels = jury.column('Panels')\n",
    "total_variation_distance(panels, eligible_population)"
   ]
  },
  {
   "cell_type": "code",
   "execution_count": null,
   "id": "e5928838",
   "metadata": {},
   "outputs": [],
   "source": []
  },
  {
   "cell_type": "markdown",
   "id": "beba4d2e",
   "metadata": {},
   "source": [
    "## Simulating TVD Under the Model of Random Selection"
   ]
  },
  {
   "cell_type": "code",
   "execution_count": 77,
   "id": "9eb4a9ef",
   "metadata": {},
   "outputs": [],
   "source": [
    "#Looks at one random sample, looks at the distribution, \n",
    "#finds the distance and \n",
    "#1453 is the sample size to be drawn from the population"
   ]
  },
  {
   "cell_type": "code",
   "execution_count": 78,
   "id": "59d769f0",
   "metadata": {},
   "outputs": [],
   "source": [
    "def one_simulated_tvd():\n",
    "    sample_distribution = sample_proportions(1453, eligible_population)\n",
    "    return total_variation_distance(sample_distribution, eligible_population)"
   ]
  },
  {
   "cell_type": "code",
   "execution_count": 79,
   "id": "3f32e9ed",
   "metadata": {},
   "outputs": [
    {
     "data": {
      "text/plain": [
       "0.02030970406056438"
      ]
     },
     "execution_count": 79,
     "metadata": {},
     "output_type": "execute_result"
    }
   ],
   "source": [
    "one_simulated_tvd()"
   ]
  },
  {
   "cell_type": "code",
   "execution_count": 80,
   "id": "f8c74f9a",
   "metadata": {},
   "outputs": [],
   "source": [
    "#Find a lot of these distances i.e. run this multiple times \n",
    "#Put them in an array"
   ]
  },
  {
   "cell_type": "code",
   "execution_count": 81,
   "id": "626e9c24",
   "metadata": {},
   "outputs": [],
   "source": [
    "tvds = make_array()\n",
    "num_simulations = 10000\n",
    "for i in np.arange(num_simulations):\n",
    "    tvds = np.append(tvds, one_simulated_tvd())"
   ]
  },
  {
   "cell_type": "code",
   "execution_count": 82,
   "id": "6aaf7547",
   "metadata": {},
   "outputs": [],
   "source": [
    "#Don't look at the 10000 numbers, visualize them"
   ]
  },
  {
   "cell_type": "code",
   "execution_count": 83,
   "id": "d4fae005",
   "metadata": {},
   "outputs": [
    {
     "data": {
      "image/png": "[encoded data removed]",
      "text/plain": [
       "<Figure size 432x288 with 1 Axes>"
      ]
     },
     "metadata": {},
     "output_type": "display_data"
    }
   ],
   "source": [
    "Table().with_column('TVD', tvds).hist()"
   ]
  },
  {
   "cell_type": "code",
   "execution_count": 84,
   "id": "cd468952",
   "metadata": {},
   "outputs": [
    {
     "data": {
      "text/plain": [
       "<matplotlib.collections.PathCollection at 0x34492c40>"
      ]
     },
     "execution_count": 84,
     "metadata": {},
     "output_type": "execute_result"
    },
    {
     "data": {
      "image/png": "[encoded data removed]",
      "text/plain": [
       "<Figure size 432x288 with 1 Axes>"
      ]
     },
     "metadata": {},
     "output_type": "display_data"
    }
   ],
   "source": [
    "Table().with_column('TVD', tvds).hist(bins=np.arange(0, 0.2, 0.005))\n",
    "\n",
    "#Plotting parameters\n",
    "plt.title('Prediction Assuming Random Selection')\n",
    "plt.xlim(0, 0.15)\n",
    "plt.ylim(-5, 50)\n",
    "plt.scatter(0.14, 0, color='red', s=50)"
   ]
  },
  {
   "cell_type": "code",
   "execution_count": 85,
   "id": "a7601e7d",
   "metadata": {},
   "outputs": [],
   "source": [
    "#Who might not be on the list\n",
    "#No drivers-license\n",
    "#No ID Cards"
   ]
  },
  {
   "cell_type": "code",
   "execution_count": 86,
   "id": "c7ea0db4",
   "metadata": {},
   "outputs": [],
   "source": [
    "#Random samples can turn out quite extreme. It is unlikely, but possible.\n",
    "#Data has to be inclusive of all.\n",
    "#Only then will a sample be inclusive of all.\n",
    "#Always try to measure to error"
   ]
  },
  {
   "cell_type": "markdown",
   "id": "8e1b67c5",
   "metadata": {},
   "source": [
    "## Testing of Hypotheses (ses for plural)"
   ]
  },
  {
   "cell_type": "code",
   "execution_count": 87,
   "id": "c11870b9",
   "metadata": {},
   "outputs": [],
   "source": [
    "#Purple or White Plants"
   ]
  },
  {
   "cell_type": "code",
   "execution_count": 88,
   "id": "be04d2d5",
   "metadata": {},
   "outputs": [],
   "source": [
    "#Mendel's model"
   ]
  },
  {
   "cell_type": "code",
   "execution_count": 89,
   "id": "ac7accec",
   "metadata": {},
   "outputs": [],
   "source": [
    "#Each plant is purple-flowering with 75% chance\n",
    "#Regardless of the colors of the other plants\n"
   ]
  },
  {
   "cell_type": "code",
   "execution_count": 90,
   "id": "325d7bbc",
   "metadata": {},
   "outputs": [],
   "source": [
    "#QUESTION\n",
    "#Is the model good or not"
   ]
  },
  {
   "cell_type": "code",
   "execution_count": null,
   "id": "c5f44743",
   "metadata": {},
   "outputs": [],
   "source": []
  },
  {
   "cell_type": "code",
   "execution_count": 91,
   "id": "b09d5b64",
   "metadata": {},
   "outputs": [],
   "source": [
    "#Model for [purple, white]\n",
    "#Draws at random with replacement from\n",
    "\n",
    "mendel_proportions = [0.75, .25]"
   ]
  },
  {
   "cell_type": "code",
   "execution_count": 92,
   "id": "cdab93c8",
   "metadata": {},
   "outputs": [],
   "source": [
    "#Mendel's data\n",
    "\n",
    "sample_size = 929\n",
    "observed_count = 705   #Purple flowering\n",
    "observed_percent = 100 * observed_count / sample_size"
   ]
  },
  {
   "cell_type": "code",
   "execution_count": 93,
   "id": "fda73759",
   "metadata": {},
   "outputs": [
    {
     "data": {
      "text/plain": [
       "75.8880516684607"
      ]
     },
     "execution_count": 93,
     "metadata": {},
     "output_type": "execute_result"
    }
   ],
   "source": [
    "observed_percent"
   ]
  },
  {
   "cell_type": "code",
   "execution_count": 94,
   "id": "f08b692f",
   "metadata": {},
   "outputs": [],
   "source": [
    "#Can you have a difference that is greater than 0.8?"
   ]
  },
  {
   "cell_type": "code",
   "execution_count": null,
   "id": "cbe5715e",
   "metadata": {},
   "outputs": [],
   "source": [
    "\n"
   ]
  },
  {
   "cell_type": "code",
   "execution_count": 95,
   "id": "e6798372",
   "metadata": {},
   "outputs": [],
   "source": [
    "#HYPOTHESES"
   ]
  },
  {
   "cell_type": "code",
   "execution_count": 96,
   "id": "414233a6",
   "metadata": {},
   "outputs": [],
   "source": [
    "#Null Hypothesis\n",
    "    #Nothing is going on. Everything is based on chance!\n",
    "    #A well defined chance model about how the data were generated\n",
    "    #CHANCE MODEL\n",
    "    #We can simulate data under the assumptions of this model-\n",
    "    #\"under the null hypothesis\"\n",
    "    "
   ]
  },
  {
   "cell_type": "code",
   "execution_count": 97,
   "id": "32b2c51d",
   "metadata": {},
   "outputs": [],
   "source": [
    "    #In Mendel's context, the null hypothesis is...\n",
    "        #Mendel's model is good: the plants are like draws at random\n",
    "        #with replacement from the distribution [0.75, 0.25]"
   ]
  },
  {
   "cell_type": "code",
   "execution_count": 98,
   "id": "0e3473a6",
   "metadata": {},
   "outputs": [],
   "source": [
    "#Alternative Hypothesis\n",
    "    #Model NOT Good\n",
    "    #Mendel's model isn't good.\n",
    "#No reason. It is just saying that it is not good."
   ]
  },
  {
   "cell_type": "markdown",
   "id": "75749852",
   "metadata": {},
   "source": [
    "## Test Statistic"
   ]
  },
  {
   "cell_type": "code",
   "execution_count": 99,
   "id": "3bd1a725",
   "metadata": {},
   "outputs": [],
   "source": [
    "#The statistic that we choose to simulate, to decide between two hypotheses"
   ]
  },
  {
   "cell_type": "code",
   "execution_count": 100,
   "id": "91728606",
   "metadata": {},
   "outputs": [],
   "source": [
    "#QUESTIONS BEFORE CHOOSING THE STATISTIC"
   ]
  },
  {
   "cell_type": "code",
   "execution_count": 101,
   "id": "24a37697",
   "metadata": {},
   "outputs": [],
   "source": [
    "#What values of the statistic will make us lean towards the null hypothesis?\n",
    "#What values of the statistic will make us lean towards the other?"
   ]
  },
  {
   "cell_type": "code",
   "execution_count": 102,
   "id": "e52e7850",
   "metadata": {},
   "outputs": [],
   "source": [
    "#Preferably, the answer should be just \"high\" or just \"low\"\n",
    "#TRY TO AVOID \"both high and low\""
   ]
  },
  {
   "cell_type": "code",
   "execution_count": 103,
   "id": "93f384b2",
   "metadata": {},
   "outputs": [],
   "source": [
    "#Start with percent of purp\n",
    "#If that percent is much larger or much smaller than 75,\n",
    "#that is evidence against the model."
   ]
  },
  {
   "cell_type": "code",
   "execution_count": 104,
   "id": "60a845a4",
   "metadata": {},
   "outputs": [],
   "source": [
    "#Statistic\n",
    "# |sample percent of purple-flowering plants - 75|"
   ]
  },
  {
   "cell_type": "code",
   "execution_count": 105,
   "id": "62762f56",
   "metadata": {},
   "outputs": [
    {
     "data": {
      "text/plain": [
       "0.8880516684607045"
      ]
     },
     "execution_count": 105,
     "metadata": {},
     "output_type": "execute_result"
    }
   ],
   "source": [
    "observed_distance = abs(observed_percent - 75)\n",
    "observed_distance"
   ]
  },
  {
   "cell_type": "code",
   "execution_count": 113,
   "id": "d6e57e40",
   "metadata": {},
   "outputs": [
    {
     "data": {
      "text/plain": [
       "0.7265877287405813"
      ]
     },
     "execution_count": 113,
     "metadata": {},
     "output_type": "execute_result"
    }
   ],
   "source": [
    "#Sampling under the null hypothesis\n",
    "sample_proportions(sample_size, mendel_proportions)\n",
    "\n",
    "#Sampling (sample_size) number of samples from mendel_proportions\n",
    "#sample_proportion(constant, (where to sample))"
   ]
  },
  {
   "cell_type": "code",
   "execution_count": null,
   "id": "e844dc79",
   "metadata": {},
   "outputs": [],
   "source": []
  },
  {
   "cell_type": "markdown",
   "id": "260015a0",
   "metadata": {},
   "source": [
    "## Predicting the Test Statistic Under the Null "
   ]
  },
  {
   "cell_type": "code",
   "execution_count": 114,
   "id": "b048e5dc",
   "metadata": {},
   "outputs": [],
   "source": [
    "#Simulate one value of the test statistic\n",
    "#Under the null hypothesis\n",
    "\n",
    "def one_simulated_distance():\n",
    "    sample_percent = 100 * sample_proportions(sample_size, mendel_proportions)[0]\n",
    "    return abs(sample_percent - 75)"
   ]
  },
  {
   "cell_type": "code",
   "execution_count": 120,
   "id": "afe3d74c",
   "metadata": {},
   "outputs": [
    {
     "data": {
      "text/plain": [
       "1.7491926803014053"
      ]
     },
     "execution_count": 120,
     "metadata": {},
     "output_type": "execute_result"
    }
   ],
   "source": [
    "one_simulated_distance()"
   ]
  },
  {
   "cell_type": "code",
   "execution_count": 117,
   "id": "21f2318b",
   "metadata": {},
   "outputs": [],
   "source": [
    "num_simulations = 10000\n",
    "distances = make_array()\n",
    "\n",
    "for i in np.arange(num_simulations):\n",
    "    distances = np.append(distances, one_simulated_distance())"
   ]
  },
  {
   "cell_type": "code",
   "execution_count": 124,
   "id": "d22ffa79",
   "metadata": {},
   "outputs": [],
   "source": [
    "mendel_simulations = Table().with_columns('Distance between sample % and 75%', distances)"
   ]
  },
  {
   "cell_type": "code",
   "execution_count": 130,
   "id": "17c83c44",
   "metadata": {},
   "outputs": [
    {
     "data": {
      "text/plain": [
       "Text(0.5, 1.0, 'Prediction Made by the Null Hypothesis')"
      ]
     },
     "execution_count": 130,
     "metadata": {},
     "output_type": "execute_result"
    },
    {
     "data": {
      "image/png": "[encoded data removed]",
      "text/plain": [
       "<Figure size 432x288 with 1 Axes>"
      ]
     },
     "metadata": {},
     "output_type": "display_data"
    }
   ],
   "source": [
    "mendel_simulations.hist()\n",
    "plt.title('Prediction Made by the Null Hypothesis')"
   ]
  },
  {
   "cell_type": "code",
   "execution_count": 132,
   "id": "66f7c524",
   "metadata": {},
   "outputs": [
    {
     "data": {
      "text/plain": [
       "<matplotlib.collections.PathCollection at 0x358451f0>"
      ]
     },
     "execution_count": 132,
     "metadata": {},
     "output_type": "execute_result"
    },
    {
     "data": {
      "image/png": "[encoded data removed]",
      "text/plain": [
       "<Figure size 432x288 with 1 Axes>"
      ]
     },
     "metadata": {},
     "output_type": "display_data"
    }
   ],
   "source": [
    "mendel_simulations.hist()\n",
    "plt.ylim(-0.02, 0.5)\n",
    "plt.title('Prediction Made by the Null Hypothesis')\n",
    "plt.scatter(observed_distance, 0, color='red', s=60)"
   ]
  },
  {
   "cell_type": "code",
   "execution_count": 133,
   "id": "9da2d5ca",
   "metadata": {},
   "outputs": [],
   "source": [
    "#Conclusion of the test"
   ]
  },
  {
   "cell_type": "code",
   "execution_count": 134,
   "id": "81e067c8",
   "metadata": {},
   "outputs": [],
   "source": [
    "#Resolve the choice between the null and alternative"
   ]
  },
  {
   "cell_type": "code",
   "execution_count": 135,
   "id": "9dba3534",
   "metadata": {},
   "outputs": [],
   "source": [
    "#Compare the observed test statistic and its empirical distribution under the null hypothesis"
   ]
  },
  {
   "cell_type": "code",
   "execution_count": 136,
   "id": "e1505d5d",
   "metadata": {},
   "outputs": [],
   "source": [
    "    #If the observed value is not consistent with the distribution,\n",
    "    #then the test favors the alternative - \"rejects the null hypothesis\""
   ]
  },
  {
   "cell_type": "code",
   "execution_count": 138,
   "id": "888f0090",
   "metadata": {},
   "outputs": [],
   "source": [
    "#Whether a value is consistent with a distribution:\n",
    "    #A visualization may be sufficient\n",
    "    #if not,\n",
    "        #there are conventions about \"consistency\""
   ]
  },
  {
   "cell_type": "code",
   "execution_count": 139,
   "id": "4fcde693",
   "metadata": {},
   "outputs": [],
   "source": [
    "#Meaning of \"NOT CONSISTENT\""
   ]
  },
  {
   "cell_type": "code",
   "execution_count": 140,
   "id": "e027a62f",
   "metadata": {},
   "outputs": [],
   "source": [
    "#Based on Tail Area"
   ]
  },
  {
   "cell_type": "code",
   "execution_count": 141,
   "id": "beb03fce",
   "metadata": {},
   "outputs": [],
   "source": [
    "#Start at the observed value of the test statistic \n",
    "#Look in the direction that favors the alternative hypothesis"
   ]
  },
  {
   "cell_type": "code",
   "execution_count": 142,
   "id": "9d62b9c2",
   "metadata": {},
   "outputs": [],
   "source": [
    "        #If the tail is small, the data are not consistent with the null\n",
    "        #if not, data are not consistent with the null\n",
    "#Testing whether or not Mendel's model is good:\n",
    "    #Large values of the distance favor the alternative"
   ]
  },
  {
   "cell_type": "code",
   "execution_count": 143,
   "id": "0dfba9e0",
   "metadata": {},
   "outputs": [],
   "source": [
    "#CONVENTION\n",
    "#YOU CAN MAKE A JUDGEMENT WITHOUT THESE"
   ]
  },
  {
   "cell_type": "code",
   "execution_count": 144,
   "id": "67d726d3",
   "metadata": {},
   "outputs": [],
   "source": [
    "#\"Inconsistency\"\n",
    "\n",
    "#\"In the tail\" first convention\n",
    "#The area in the tail is less than 5%\n",
    "#The result is \"statistically significant\"\n",
    "\n",
    "#\"In the tail\" second convention\n",
    "#The area in the tail is less than 1%\n",
    "#The result is \"highly statistically significant\"\n"
   ]
  },
  {
   "cell_type": "code",
   "execution_count": null,
   "id": "5ef1c2fa",
   "metadata": {},
   "outputs": [],
   "source": [
    "#Or you can let the audience decide just based on the data"
   ]
  }
 ],
 "metadata": {
  "kernelspec": {
   "display_name": "Python 3 (ipykernel)",
   "language": "python",
   "name": "python3"
  },
  "language_info": {
   "codemirror_mode": {
    "name": "ipython",
    "version": 3
   },
   "file_extension": ".py",
   "mimetype": "text/x-python",
   "name": "python",
   "nbconvert_exporter": "python",
   "pygments_lexer": "ipython3",
   "version": "3.8.6"
  }
 },
 "nbformat": 4,
 "nbformat_minor": 5
}
