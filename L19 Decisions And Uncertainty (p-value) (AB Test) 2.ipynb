{
 "cells": [
  {
   "cell_type": "code",
   "execution_count": 6,
   "id": "57368681",
   "metadata": {},
   "outputs": [],
   "source": [
    "from datascience import *\n",
    "%matplotlib inline\n",
    "path_data = '../../../assets/data/'\n",
    "import matplotlib.pyplot as plt\n",
    "plt.style.use('fivethirtyeight')\n",
    "import numpy as np\n",
    "import warnings\n",
    "warnings.simplefilter(action='ignore', category=np.VisibleDeprecationWarning)\n"
   ]
  },
  {
   "cell_type": "code",
   "execution_count": 2,
   "id": "f1bb4bc1",
   "metadata": {},
   "outputs": [],
   "source": [
    "#NULL & ALTERNATIVE"
   ]
  },
  {
   "cell_type": "code",
   "execution_count": 3,
   "id": "4231ebb2",
   "metadata": {},
   "outputs": [],
   "source": [
    "#Testing whether or not Mendel's model is good:\n",
    "    #Large values of distance (tvd) favour the alternative"
   ]
  },
  {
   "cell_type": "code",
   "execution_count": 30,
   "id": "a15252c6",
   "metadata": {},
   "outputs": [],
   "source": [
    "#Therefore start at the observed distance and look to the right"
   ]
  },
  {
   "cell_type": "code",
   "execution_count": null,
   "id": "1fb44120",
   "metadata": {},
   "outputs": [],
   "source": [
    "############################################################"
   ]
  },
  {
   "cell_type": "code",
   "execution_count": null,
   "id": "3ff99456",
   "metadata": {},
   "outputs": [],
   "source": [
    "############################################################"
   ]
  },
  {
   "cell_type": "code",
   "execution_count": 31,
   "id": "5253869c",
   "metadata": {},
   "outputs": [],
   "source": [
    "#If the tail(after red dot) area is SMALL, then you are far out into the tail\n",
    "#If the tail(after red dot) is SMALL, then the data are not consistent with the null"
   ]
  },
  {
   "cell_type": "code",
   "execution_count": null,
   "id": "8bcfa2b9",
   "metadata": {},
   "outputs": [],
   "source": [
    "#########################################################3"
   ]
  },
  {
   "cell_type": "code",
   "execution_count": 5,
   "id": "3ea1f839",
   "metadata": {},
   "outputs": [],
   "source": [
    "mendel_proportions = [0.75, .25]"
   ]
  },
  {
   "cell_type": "code",
   "execution_count": 6,
   "id": "34ae974c",
   "metadata": {},
   "outputs": [],
   "source": [
    "#Mendel's data\n",
    "\n",
    "sample_size = 929\n",
    "observed_count = 705   #Purple flowering\n",
    "observed_percent = 100 * observed_count / sample_size"
   ]
  },
  {
   "cell_type": "code",
   "execution_count": 17,
   "id": "97bcb5bb",
   "metadata": {},
   "outputs": [
    {
     "data": {
      "text/plain": [
       "0.8880516684607045"
      ]
     },
     "execution_count": 17,
     "metadata": {},
     "output_type": "execute_result"
    }
   ],
   "source": [
    "observed_distance = abs(observed_percent - 75)\n",
    "observed_distance"
   ]
  },
  {
   "cell_type": "code",
   "execution_count": 7,
   "id": "0f4eeaaf",
   "metadata": {},
   "outputs": [
    {
     "data": {
      "text/plain": [
       "75.8880516684607"
      ]
     },
     "execution_count": 7,
     "metadata": {},
     "output_type": "execute_result"
    }
   ],
   "source": [
    "observed_percent"
   ]
  },
  {
   "cell_type": "markdown",
   "id": "81bd55cf",
   "metadata": {},
   "source": [
    "## Predicting the Test Statistic Under the Null "
   ]
  },
  {
   "cell_type": "code",
   "execution_count": 8,
   "id": "449056de",
   "metadata": {},
   "outputs": [],
   "source": [
    "#Simulate one value of the test statistic\n",
    "#Under the null hypothesis\n",
    "\n",
    "def one_simulated_distance():\n",
    "    sample_percent = 100 * sample_proportions(sample_size, mendel_proportions)[0]\n",
    "    return abs(sample_percent - 75)"
   ]
  },
  {
   "cell_type": "code",
   "execution_count": 9,
   "id": "c1cdf925",
   "metadata": {},
   "outputs": [
    {
     "data": {
      "text/plain": [
       "1.7491926803014053"
      ]
     },
     "execution_count": 9,
     "metadata": {},
     "output_type": "execute_result"
    }
   ],
   "source": [
    "one_simulated_distance()"
   ]
  },
  {
   "cell_type": "code",
   "execution_count": 10,
   "id": "0eeb1a60",
   "metadata": {},
   "outputs": [],
   "source": [
    "num_simulations = 10000\n",
    "distances = make_array()\n",
    "\n",
    "for i in np.arange(num_simulations):\n",
    "    distances = np.append(distances, one_simulated_distance())"
   ]
  },
  {
   "cell_type": "code",
   "execution_count": 11,
   "id": "53b00c73",
   "metadata": {},
   "outputs": [],
   "source": [
    "mendel_simulations = Table().with_columns('Distance between sample % and 75%', distances)"
   ]
  },
  {
   "cell_type": "code",
   "execution_count": 15,
   "id": "5bb218c9",
   "metadata": {},
   "outputs": [
    {
     "data": {
      "text/plain": [
       "Text(0.5, 1.0, 'Prediction Made by the Null Hypothesis')"
      ]
     },
     "execution_count": 15,
     "metadata": {},
     "output_type": "execute_result"
    },
    {
     "data": {
      "image/png": "[encoded data removed]",
      "text/plain": [
       "<Figure size 432x288 with 1 Axes>"
      ]
     },
     "metadata": {},
     "output_type": "display_data"
    }
   ],
   "source": [
    "mendel_simulations.hist()\n",
    "plt.title('Prediction Made by the Null Hypothesis')"
   ]
  },
  {
   "cell_type": "code",
   "execution_count": 46,
   "id": "3359b58a",
   "metadata": {},
   "outputs": [
    {
     "data": {
      "text/plain": [
       "<matplotlib.collections.PathCollection at 0x37faf1c0>"
      ]
     },
     "execution_count": 46,
     "metadata": {},
     "output_type": "execute_result"
    },
    {
     "data": {
      "image/png": "[encoded data removed]",
      "text/plain": [
       "<Figure size 432x288 with 1 Axes>"
      ]
     },
     "metadata": {},
     "output_type": "display_data"
    }
   ],
   "source": [
    "mendel_simulations.hist(left_end = observed_distance)\n",
    "plt.ylim(-0.02, 0.5)\n",
    "plt.title('Prediction Made by the Null Hypothesis')\n",
    "plt.scatter(observed_distance, 0, color='red', s=60, zorder=3)"
   ]
  },
  {
   "cell_type": "code",
   "execution_count": 29,
   "id": "7a1e576d",
   "metadata": {},
   "outputs": [
    {
     "data": {
      "text/plain": [
       "0.5387"
      ]
     },
     "execution_count": 29,
     "metadata": {},
     "output_type": "execute_result"
    }
   ],
   "source": [
    "#Get the tail (after red dot) area (as a proportion)\n",
    "\n",
    "np.count_nonzero(distances >= observed_distance)/num_simulations"
   ]
  },
  {
   "cell_type": "markdown",
   "id": "46b4d656",
   "metadata": {},
   "source": [
    "## p-value"
   ]
  },
  {
   "cell_type": "code",
   "execution_count": 33,
   "id": "d1af7db5",
   "metadata": {},
   "outputs": [],
   "source": [
    "#p-value is a chance"
   ]
  },
  {
   "cell_type": "code",
   "execution_count": 34,
   "id": "6093a098",
   "metadata": {},
   "outputs": [],
   "source": [
    "#p-value\n",
    "    #under the null\n",
    "    #that the test statistic\n",
    "    #is equal to the value observed in the data\n",
    "    #is even further in the direction of the alternative\n"
   ]
  },
  {
   "cell_type": "markdown",
   "id": "9dd0b51a",
   "metadata": {},
   "source": [
    "## How Far is Too Far?"
   ]
  },
  {
   "cell_type": "markdown",
   "id": "7051a523",
   "metadata": {},
   "source": [
    "### Suppose you decide to use the 5% cutoff"
   ]
  },
  {
   "cell_type": "code",
   "execution_count": 40,
   "id": "fce196df",
   "metadata": {},
   "outputs": [
    {
     "data": {
      "text/plain": [
       "0.035"
      ]
     },
     "execution_count": 40,
     "metadata": {},
     "output_type": "execute_result"
    }
   ],
   "source": [
    "np.count_nonzero(distances >= 3)/num_simulations"
   ]
  },
  {
   "cell_type": "code",
   "execution_count": 41,
   "id": "147c7f37",
   "metadata": {},
   "outputs": [
    {
     "data": {
      "text/plain": [
       "0.0424"
      ]
     },
     "execution_count": 41,
     "metadata": {},
     "output_type": "execute_result"
    }
   ],
   "source": [
    "np.count_nonzero(distances >= 2.9)/num_simulations"
   ]
  },
  {
   "cell_type": "code",
   "execution_count": 42,
   "id": "4e497836",
   "metadata": {},
   "outputs": [
    {
     "data": {
      "text/plain": [
       "0.0503"
      ]
     },
     "execution_count": 42,
     "metadata": {},
     "output_type": "execute_result"
    }
   ],
   "source": [
    "np.count_nonzero(distances >= 2.8)/num_simulations"
   ]
  },
  {
   "cell_type": "code",
   "execution_count": 44,
   "id": "c7bbdf59",
   "metadata": {},
   "outputs": [
    {
     "data": {
      "text/plain": [
       "0.0542"
      ]
     },
     "execution_count": 44,
     "metadata": {},
     "output_type": "execute_result"
    }
   ],
   "source": [
    "np.count_nonzero(distances >= 2.75)/num_simulations"
   ]
  },
  {
   "cell_type": "code",
   "execution_count": 48,
   "id": "945b1ae2",
   "metadata": {},
   "outputs": [
    {
     "data": {
      "image/png": "[encoded data removed]",
      "text/plain": [
       "<Figure size 432x288 with 1 Axes>"
      ]
     },
     "metadata": {},
     "output_type": "display_data"
    }
   ],
   "source": [
    "cutoff_5_percent = 2.75\n",
    "mendel_simulations.hist(left_end = cutoff_5_percent)"
   ]
  },
  {
   "cell_type": "code",
   "execution_count": null,
   "id": "061260ee",
   "metadata": {},
   "outputs": [],
   "source": []
  },
  {
   "cell_type": "code",
   "execution_count": null,
   "id": "771aed06",
   "metadata": {},
   "outputs": [],
   "source": []
  },
  {
   "cell_type": "code",
   "execution_count": 1,
   "id": "72cbf36d",
   "metadata": {},
   "outputs": [],
   "source": [
    "#A/B Testing"
   ]
  },
  {
   "cell_type": "code",
   "execution_count": 2,
   "id": "abf60266",
   "metadata": {},
   "outputs": [],
   "source": [
    " #COMPARING TWO GROUPS\n",
    "    #Treatment group and control group"
   ]
  },
  {
   "cell_type": "code",
   "execution_count": 9,
   "id": "89d28869",
   "metadata": {},
   "outputs": [
    {
     "data": {
      "text/html": [
       "<table border=\"1\" class=\"dataframe\">\n",
       "    <thead>\n",
       "        <tr>\n",
       "            <th>Birth Weight</th> <th>Gestational Days</th> <th>Maternal Age</th> <th>Maternal Height</th> <th>Maternal Pregnancy Weight</th> <th>Maternal Smoker</th>\n",
       "        </tr>\n",
       "    </thead>\n",
       "    <tbody>\n",
       "        <tr>\n",
       "            <td>120         </td> <td>284             </td> <td>27          </td> <td>62             </td> <td>100                      </td> <td>False          </td>\n",
       "        </tr>\n",
       "        <tr>\n",
       "            <td>113         </td> <td>282             </td> <td>33          </td> <td>64             </td> <td>135                      </td> <td>False          </td>\n",
       "        </tr>\n",
       "        <tr>\n",
       "            <td>128         </td> <td>279             </td> <td>28          </td> <td>64             </td> <td>115                      </td> <td>True           </td>\n",
       "        </tr>\n",
       "        <tr>\n",
       "            <td>108         </td> <td>282             </td> <td>23          </td> <td>67             </td> <td>125                      </td> <td>True           </td>\n",
       "        </tr>\n",
       "        <tr>\n",
       "            <td>136         </td> <td>286             </td> <td>25          </td> <td>62             </td> <td>93                       </td> <td>False          </td>\n",
       "        </tr>\n",
       "        <tr>\n",
       "            <td>138         </td> <td>244             </td> <td>33          </td> <td>62             </td> <td>178                      </td> <td>False          </td>\n",
       "        </tr>\n",
       "        <tr>\n",
       "            <td>132         </td> <td>245             </td> <td>23          </td> <td>65             </td> <td>140                      </td> <td>False          </td>\n",
       "        </tr>\n",
       "        <tr>\n",
       "            <td>120         </td> <td>289             </td> <td>25          </td> <td>62             </td> <td>125                      </td> <td>False          </td>\n",
       "        </tr>\n",
       "        <tr>\n",
       "            <td>143         </td> <td>299             </td> <td>30          </td> <td>66             </td> <td>136                      </td> <td>True           </td>\n",
       "        </tr>\n",
       "        <tr>\n",
       "            <td>140         </td> <td>351             </td> <td>27          </td> <td>68             </td> <td>120                      </td> <td>False          </td>\n",
       "        </tr>\n",
       "    </tbody>\n",
       "</table>\n",
       "<p>... (1164 rows omitted)</p>"
      ],
      "text/plain": [
       "Birth Weight | Gestational Days | Maternal Age | Maternal Height | Maternal Pregnancy Weight | Maternal Smoker\n",
       "120          | 284              | 27           | 62              | 100                       | False\n",
       "113          | 282              | 33           | 64              | 135                       | False\n",
       "128          | 279              | 28           | 64              | 115                       | True\n",
       "108          | 282              | 23           | 67              | 125                       | True\n",
       "136          | 286              | 25           | 62              | 93                        | False\n",
       "138          | 244              | 33           | 62              | 178                       | False\n",
       "132          | 245              | 23           | 65              | 140                       | False\n",
       "120          | 289              | 25           | 62              | 125                       | False\n",
       "143          | 299              | 30           | 66              | 136                       | True\n",
       "140          | 351              | 27           | 68              | 120                       | False\n",
       "... (1164 rows omitted)"
      ]
     },
     "execution_count": 9,
     "metadata": {},
     "output_type": "execute_result"
    }
   ],
   "source": [
    "births = Table.read_table('baby.csv')\n",
    "births"
   ]
  },
  {
   "cell_type": "code",
   "execution_count": 13,
   "id": "ea0d8e30",
   "metadata": {},
   "outputs": [],
   "source": [
    "smoking_and_birthweight = births.select('Maternal Smoker', 'Birth Weight')"
   ]
  },
  {
   "cell_type": "code",
   "execution_count": 12,
   "id": "9a76ed4d",
   "metadata": {},
   "outputs": [
    {
     "data": {
      "text/html": [
       "<table border=\"1\" class=\"dataframe\">\n",
       "    <thead>\n",
       "        <tr>\n",
       "            <th>Maternal Smoker</th> <th>count</th>\n",
       "        </tr>\n",
       "    </thead>\n",
       "    <tbody>\n",
       "        <tr>\n",
       "            <td>False          </td> <td>715  </td>\n",
       "        </tr>\n",
       "        <tr>\n",
       "            <td>True           </td> <td>459  </td>\n",
       "        </tr>\n",
       "    </tbody>\n",
       "</table>"
      ],
      "text/plain": [
       "Maternal Smoker | count\n",
       "False           | 715\n",
       "True            | 459"
      ]
     },
     "execution_count": 12,
     "metadata": {},
     "output_type": "execute_result"
    }
   ],
   "source": [
    "smoking_and_birthweight.group('Maternal Smoker')"
   ]
  },
  {
   "cell_type": "code",
   "execution_count": 14,
   "id": "df660bce",
   "metadata": {},
   "outputs": [
    {
     "data": {
      "image/png": "[encoded data removed]",
      "text/plain": [
       "<Figure size 432x288 with 1 Axes>"
      ]
     },
     "metadata": {},
     "output_type": "display_data"
    }
   ],
   "source": [
    "smoking_and_birthweight.hist('Birth Weight', group='Maternal Smoker')"
   ]
  },
  {
   "cell_type": "code",
   "execution_count": null,
   "id": "79477859",
   "metadata": {},
   "outputs": [],
   "source": [
    "#GROUP A : Smokers\n",
    "#GROUP B : non-smokers\n",
    "#TEST STATISTIC?\n",
    "#One number that summarizes all weights of smoker & non smoker babies.\n",
    "\n",
    "#Mean of (smoke babies)\n",
    "#Mean of (non-smoke babies)\n",
    "#= two numbers.\n",
    "\n",
    "#We need one.\n",
    "#Take Mean_weightB - Mean_weightA\n",
    "\n",
    "#If large, weight of non-smoker babies is large!\n",
    "#= LARGE values favour the alternative"
   ]
  }
 ],
 "metadata": {
  "kernelspec": {
   "display_name": "Python 3 (ipykernel)",
   "language": "python",
   "name": "python3"
  },
  "language_info": {
   "codemirror_mode": {
    "name": "ipython",
    "version": 3
   },
   "file_extension": ".py",
   "mimetype": "text/x-python",
   "name": "python",
   "nbconvert_exporter": "python",
   "pygments_lexer": "ipython3",
   "version": "3.8.6"
  }
 },
 "nbformat": 4,
 "nbformat_minor": 5
}
