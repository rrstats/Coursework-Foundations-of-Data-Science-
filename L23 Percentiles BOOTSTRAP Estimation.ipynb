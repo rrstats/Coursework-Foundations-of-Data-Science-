{
 "cells": [
  {
   "cell_type": "code",
   "execution_count": 6,
   "id": "8ae02aa0",
   "metadata": {},
   "outputs": [],
   "source": [
    "from datascience import *\n",
    "%matplotlib inline\n",
    "path_data = '.../.../.../assets/data/'\n",
    "\n",
    "import matplotlib.pyplot as plt\n",
    "plt.style.use('fivethirtyeight')\n",
    "import numpy as np\n",
    "import warnings\n",
    "warnings.simplefilter(action='ignore', category=np.VisibleDeprecationWarning)"
   ]
  },
  {
   "cell_type": "markdown",
   "id": "c245e00c",
   "metadata": {},
   "source": [
    "## Percentiles"
   ]
  },
  {
   "cell_type": "code",
   "execution_count": 7,
   "id": "4cd68ea0",
   "metadata": {},
   "outputs": [
    {
     "data": {
      "text/plain": [
       "1.9500000000000002"
      ]
     },
     "execution_count": 7,
     "metadata": {},
     "output_type": "execute_result"
    }
   ],
   "source": [
    "0.39 * 5"
   ]
  },
  {
   "cell_type": "code",
   "execution_count": 8,
   "id": "129658a5",
   "metadata": {},
   "outputs": [
    {
     "data": {
      "text/plain": [
       "2.0"
      ]
     },
     "execution_count": 8,
     "metadata": {},
     "output_type": "execute_result"
    }
   ],
   "source": [
    "0.4*5"
   ]
  },
  {
   "cell_type": "code",
   "execution_count": 9,
   "id": "923b020c",
   "metadata": {},
   "outputs": [
    {
     "data": {
      "text/plain": [
       "2.05"
      ]
     },
     "execution_count": 9,
     "metadata": {},
     "output_type": "execute_result"
    }
   ],
   "source": [
    "0.41*5"
   ]
  },
  {
   "cell_type": "code",
   "execution_count": 10,
   "id": "867f4fad",
   "metadata": {},
   "outputs": [],
   "source": [
    "#Manually compute the 55th percentile\n",
    "x = make_array(43, 20, 51, 7, 28, 34)"
   ]
  },
  {
   "cell_type": "code",
   "execution_count": 11,
   "id": "a857a146",
   "metadata": {},
   "outputs": [
    {
     "data": {
      "text/plain": [
       "array([ 7, 20, 28, 34, 43, 51], dtype=int64)"
      ]
     },
     "execution_count": 11,
     "metadata": {},
     "output_type": "execute_result"
    }
   ],
   "source": [
    "#Step 1 : Sort the data\n",
    "np.sort(x)"
   ]
  },
  {
   "cell_type": "code",
   "execution_count": 12,
   "id": "0747d2fb",
   "metadata": {},
   "outputs": [],
   "source": [
    "#Step 2 : Figure out where 55th percentile would be"
   ]
  },
  {
   "cell_type": "code",
   "execution_count": 13,
   "id": "b3ec9f78",
   "metadata": {},
   "outputs": [
    {
     "data": {
      "text/plain": [
       "3.3000000000000003"
      ]
     },
     "execution_count": 13,
     "metadata": {},
     "output_type": "execute_result"
    }
   ],
   "source": [
    "0.55*6"
   ]
  },
  {
   "cell_type": "code",
   "execution_count": 14,
   "id": "a5a9b717",
   "metadata": {},
   "outputs": [
    {
     "data": {
      "text/plain": [
       "34"
      ]
     },
     "execution_count": 14,
     "metadata": {},
     "output_type": "execute_result"
    }
   ],
   "source": [
    "#Alternatively : One line of code\n",
    "percentile(55, x)"
   ]
  },
  {
   "cell_type": "code",
   "execution_count": 15,
   "id": "e2b190fd",
   "metadata": {},
   "outputs": [],
   "source": [
    "s = make_array(1, 3, 5, 7, 9)\n"
   ]
  },
  {
   "cell_type": "code",
   "execution_count": null,
   "id": "a2a1d2aa",
   "metadata": {},
   "outputs": [],
   "source": []
  },
  {
   "cell_type": "markdown",
   "id": "8d93a204",
   "metadata": {},
   "source": [
    "## Estimation"
   ]
  },
  {
   "cell_type": "markdown",
   "id": "fc571bd1",
   "metadata": {},
   "source": [
    "### Paramater is a number based on a POPULATION"
   ]
  },
  {
   "cell_type": "markdown",
   "id": "125886d7",
   "metadata": {},
   "source": [
    "# Total Compensation in Population"
   ]
  },
  {
   "cell_type": "code",
   "execution_count": 50,
   "id": "d2712162",
   "metadata": {},
   "outputs": [
    {
     "data": {
      "text/html": [
       "<table border=\"1\" class=\"dataframe\">\n",
       "    <thead>\n",
       "        <tr>\n",
       "            <th>Organization Group</th> <th>Department</th> <th>Job Family</th> <th>Job</th> <th>Salary</th> <th>Overtime</th> <th>Benefits</th> <th>Total Compensation</th>\n",
       "        </tr>\n",
       "    </thead>\n",
       "    <tbody>\n",
       "        <tr>\n",
       "            <td>Public Protection </td> <td>Adult Probation</td> <td>Information Systems          </td> <td>IS Trainer-Journey            </td> <td>91332 </td> <td>0       </td> <td>40059   </td> <td>131391            </td>\n",
       "        </tr>\n",
       "        <tr>\n",
       "            <td>Public Protection </td> <td>Adult Probation</td> <td>Information Systems          </td> <td>IS Engineer-Assistant         </td> <td>123241</td> <td>0       </td> <td>49279   </td> <td>172520            </td>\n",
       "        </tr>\n",
       "        <tr>\n",
       "            <td>Public Protection </td> <td>Adult Probation</td> <td>Information Systems          </td> <td>IS Business Analyst-Senior    </td> <td>115715</td> <td>0       </td> <td>46752   </td> <td>162468            </td>\n",
       "        </tr>\n",
       "        <tr>\n",
       "            <td>Public Protection </td> <td>Adult Probation</td> <td>Information Systems          </td> <td>IS Business Analyst-Principal </td> <td>159394</td> <td>0       </td> <td>57312   </td> <td>216706            </td>\n",
       "        </tr>\n",
       "        <tr>\n",
       "            <td>Public Protection </td> <td>Adult Probation</td> <td>Information Systems          </td> <td>IS Programmer Analyst         </td> <td>70035 </td> <td>0       </td> <td>28671   </td> <td>98706             </td>\n",
       "        </tr>\n",
       "        <tr>\n",
       "            <td>Public Protection </td> <td>Adult Probation</td> <td>Information Systems          </td> <td>IS Project Director           </td> <td>175742</td> <td>0       </td> <td>60830   </td> <td>236572            </td>\n",
       "        </tr>\n",
       "        <tr>\n",
       "            <td>Public Protection </td> <td>Adult Probation</td> <td>Information Systems          </td> <td>IT Operations Support Admin IV</td> <td>123840</td> <td>0       </td> <td>49429   </td> <td>173269            </td>\n",
       "        </tr>\n",
       "        <tr>\n",
       "            <td>Public Protection </td> <td>Adult Probation</td> <td>Payroll, Billing & Accounting</td> <td>Accountant III                </td> <td>111816</td> <td>0       </td> <td>46319   </td> <td>158135            </td>\n",
       "        </tr>\n",
       "        <tr>\n",
       "            <td>Public Protection </td> <td>Adult Probation</td> <td>Budget, Admn & Stats Analysis</td> <td>Statistician                  </td> <td>87725 </td> <td>0       </td> <td>38899   </td> <td>126624            </td>\n",
       "        </tr>\n",
       "        <tr>\n",
       "            <td>Public Protection </td> <td>Adult Probation</td> <td>Budget, Admn & Stats Analysis</td> <td>Senior Administrative Analyst </td> <td>116192</td> <td>0       </td> <td>47651   </td> <td>163843            </td>\n",
       "        </tr>\n",
       "    </tbody>\n",
       "</table>\n",
       "<p>... (44515 rows omitted)</p>"
      ],
      "text/plain": [
       "Organization Group | Department      | Job Family                    | Job                            | Salary | Overtime | Benefits | Total Compensation\n",
       "Public Protection  | Adult Probation | Information Systems           | IS Trainer-Journey             | 91332  | 0        | 40059    | 131391\n",
       "Public Protection  | Adult Probation | Information Systems           | IS Engineer-Assistant          | 123241 | 0        | 49279    | 172520\n",
       "Public Protection  | Adult Probation | Information Systems           | IS Business Analyst-Senior     | 115715 | 0        | 46752    | 162468\n",
       "Public Protection  | Adult Probation | Information Systems           | IS Business Analyst-Principal  | 159394 | 0        | 57312    | 216706\n",
       "Public Protection  | Adult Probation | Information Systems           | IS Programmer Analyst          | 70035  | 0        | 28671    | 98706\n",
       "Public Protection  | Adult Probation | Information Systems           | IS Project Director            | 175742 | 0        | 60830    | 236572\n",
       "Public Protection  | Adult Probation | Information Systems           | IT Operations Support Admin IV | 123840 | 0        | 49429    | 173269\n",
       "Public Protection  | Adult Probation | Payroll, Billing & Accounting | Accountant III                 | 111816 | 0        | 46319    | 158135\n",
       "Public Protection  | Adult Probation | Budget, Admn & Stats Analysis | Statistician                   | 87725  | 0        | 38899    | 126624\n",
       "Public Protection  | Adult Probation | Budget, Admn & Stats Analysis | Senior Administrative Analyst  | 116192 | 0        | 47651    | 163843\n",
       "... (44515 rows omitted)"
      ]
     },
     "execution_count": 50,
     "metadata": {},
     "output_type": "execute_result"
    }
   ],
   "source": [
    "sf = Table.read_table('san_francisco_2019.csv')\n",
    "sf"
   ]
  },
  {
   "cell_type": "code",
   "execution_count": 51,
   "id": "5155a4c9",
   "metadata": {},
   "outputs": [
    {
     "data": {
      "text/html": [
       "<table border=\"1\" class=\"dataframe\">\n",
       "    <thead>\n",
       "        <tr>\n",
       "            <th>Organization Group</th> <th>Department</th> <th>Job Family</th> <th>Job</th> <th>Salary</th> <th>Overtime</th> <th>Benefits</th> <th>Total Compensation</th>\n",
       "        </tr>\n",
       "    </thead>\n",
       "    <tbody>\n",
       "        <tr>\n",
       "            <td>General Administration & Finance</td> <td>Retirement Services</td> <td>Administrative & Mgmt (Unrep)</td> <td>Chief Investment Officer</td> <td>577633</td> <td>0       </td> <td>146398  </td> <td>724031            </td>\n",
       "        </tr>\n",
       "        <tr>\n",
       "            <td>General Administration & Finance</td> <td>Retirement Services</td> <td>Unassigned                   </td> <td>Managing Director       </td> <td>483072</td> <td>0       </td> <td>134879  </td> <td>617951            </td>\n",
       "        </tr>\n",
       "        <tr>\n",
       "            <td>General Administration & Finance</td> <td>Retirement Services</td> <td>Unassigned                   </td> <td>Managing Director       </td> <td>482649</td> <td>0       </td> <td>134905  </td> <td>617554            </td>\n",
       "        </tr>\n",
       "        <tr>\n",
       "            <td>General Administration & Finance</td> <td>Retirement Services</td> <td>Unassigned                   </td> <td>Managing Director       </td> <td>451507</td> <td>0       </td> <td>120276  </td> <td>571784            </td>\n",
       "        </tr>\n",
       "        <tr>\n",
       "            <td>General Administration & Finance</td> <td>Retirement Services</td> <td>Unassigned                   </td> <td>Managing Director       </td> <td>449378</td> <td>0       </td> <td>120857  </td> <td>570235            </td>\n",
       "        </tr>\n",
       "    </tbody>\n",
       "</table>\n",
       "<p>... (44520 rows omitted)</p>"
      ],
      "text/plain": [
       "<IPython.core.display.HTML object>"
      ]
     },
     "metadata": {},
     "output_type": "display_data"
    }
   ],
   "source": [
    "#Who made the most money\n",
    "sf.sort('Total Compensation', descending=True).show(5)"
   ]
  },
  {
   "cell_type": "code",
   "execution_count": 52,
   "id": "b342fb2a",
   "metadata": {},
   "outputs": [
    {
     "data": {
      "text/html": [
       "<table border=\"1\" class=\"dataframe\">\n",
       "    <thead>\n",
       "        <tr>\n",
       "            <th>Organization Group</th> <th>Department</th> <th>Job Family</th> <th>Job</th> <th>Salary</th> <th>Overtime</th> <th>Benefits</th> <th>Total Compensation</th>\n",
       "        </tr>\n",
       "    </thead>\n",
       "    <tbody>\n",
       "        <tr>\n",
       "            <td>Public Protection </td> <td>Adult Probation</td> <td>Probation & Parole           </td> <td>Deputy Probation Officer     </td> <td>0     </td> <td>0       </td> <td>0       </td> <td>0                 </td>\n",
       "        </tr>\n",
       "        <tr>\n",
       "            <td>Public Protection </td> <td>Fire Department</td> <td>Clerical, Secretarial & Steno</td> <td>Senior Clerk Typist          </td> <td>0     </td> <td>0       </td> <td>0       </td> <td>0                 </td>\n",
       "        </tr>\n",
       "        <tr>\n",
       "            <td>Public Protection </td> <td>Juvenile Court </td> <td>Correction & Detention       </td> <td>Counselor, Juvenile Hall PERS</td> <td>0     </td> <td>0       </td> <td>0       </td> <td>0                 </td>\n",
       "        </tr>\n",
       "        <tr>\n",
       "            <td>Public Protection </td> <td>Police         </td> <td>Clerical, Secretarial & Steno</td> <td>Clerk Typist                 </td> <td>0     </td> <td>0       </td> <td>0       </td> <td>0                 </td>\n",
       "        </tr>\n",
       "        <tr>\n",
       "            <td>Public Protection </td> <td>Sheriff        </td> <td>Correction & Detention       </td> <td>Deputy Sheriff               </td> <td>0     </td> <td>0       </td> <td>0       </td> <td>0                 </td>\n",
       "        </tr>\n",
       "    </tbody>\n",
       "</table>\n",
       "<p>... (44520 rows omitted)</p>"
      ],
      "text/plain": [
       "<IPython.core.display.HTML object>"
      ]
     },
     "metadata": {},
     "output_type": "display_data"
    }
   ],
   "source": [
    "#Who made the least money\n",
    "sf.sort('Total Compensation', descending=False).show(5)"
   ]
  },
  {
   "cell_type": "code",
   "execution_count": 53,
   "id": "e42c2757",
   "metadata": {},
   "outputs": [],
   "source": [
    "#$15/hr, 20 hr/wk, 50 weeks\n",
    "#At least Minimum wage, half time job \n",
    "\n",
    "min_salary = 15*20*50\n",
    "sf = sf.where('Salary', are.above(min_salary))"
   ]
  },
  {
   "cell_type": "code",
   "execution_count": 54,
   "id": "6ecf43a4",
   "metadata": {},
   "outputs": [
    {
     "data": {
      "text/plain": [
       "37103"
      ]
     },
     "execution_count": 54,
     "metadata": {},
     "output_type": "execute_result"
    }
   ],
   "source": [
    "sf.num_rows"
   ]
  },
  {
   "cell_type": "code",
   "execution_count": 55,
   "id": "2459b8ad",
   "metadata": {},
   "outputs": [
    {
     "data": {
      "image/png": "[encoded data removed]",
      "text/plain": [
       "<Figure size 432x288 with 1 Axes>"
      ]
     },
     "metadata": {},
     "output_type": "display_data"
    }
   ],
   "source": [
    "sf_bins = np.arange(0, 726000, 25000)\n",
    "sf.hist('Total Compensation', bins=sf_bins)"
   ]
  },
  {
   "cell_type": "markdown",
   "id": "ad18d744",
   "metadata": {},
   "source": [
    "## Parameter: Median Total Compensation"
   ]
  },
  {
   "cell_type": "code",
   "execution_count": 56,
   "id": "989bfd51",
   "metadata": {},
   "outputs": [
    {
     "data": {
      "text/plain": [
       "135747"
      ]
     },
     "execution_count": 56,
     "metadata": {},
     "output_type": "execute_result"
    }
   ],
   "source": [
    "#Median total compensation in the population\n",
    "pop_median = percentile(50, sf.column('Total Compensation'))\n",
    "pop_median "
   ]
  },
  {
   "cell_type": "markdown",
   "id": "c4540252",
   "metadata": {},
   "source": [
    "## Estimating the Parameter (Pretend it is Unknown)"
   ]
  },
  {
   "cell_type": "code",
   "execution_count": 57,
   "id": "8070f916",
   "metadata": {},
   "outputs": [],
   "source": [
    "our_sample = sf.sample(400, with_replacement=False)"
   ]
  },
  {
   "cell_type": "code",
   "execution_count": 58,
   "id": "0d03359e",
   "metadata": {},
   "outputs": [
    {
     "data": {
      "image/png": "[encoded data removed]",
      "text/plain": [
       "<Figure size 432x288 with 1 Axes>"
      ]
     },
     "metadata": {},
     "output_type": "display_data"
    }
   ],
   "source": [
    "our_sample.hist('Total Compensation', bins=sf_bins)"
   ]
  },
  {
   "cell_type": "code",
   "execution_count": 59,
   "id": "baa6cb06",
   "metadata": {},
   "outputs": [
    {
     "data": {
      "text/plain": [
       "138035"
      ]
     },
     "execution_count": 59,
     "metadata": {},
     "output_type": "execute_result"
    }
   ],
   "source": [
    "# Median total compensation in the SAMPLE\n",
    "#It estimates the population median\n",
    "percentile(50, our_sample.column('Total Compensation'))"
   ]
  },
  {
   "cell_type": "code",
   "execution_count": 60,
   "id": "93c4bfe4",
   "metadata": {},
   "outputs": [],
   "source": [
    "#YOu can do the above many times to see how much it varies"
   ]
  },
  {
   "cell_type": "markdown",
   "id": "b5fd216a",
   "metadata": {},
   "source": [
    "## Variability of the Estimate"
   ]
  },
  {
   "cell_type": "code",
   "execution_count": 61,
   "id": "ecfcb47c",
   "metadata": {},
   "outputs": [],
   "source": [
    "#How do we get another sample"
   ]
  },
  {
   "cell_type": "code",
   "execution_count": 62,
   "id": "5009b3ed",
   "metadata": {},
   "outputs": [],
   "source": [
    "##The Bootstrap"
   ]
  },
  {
   "cell_type": "markdown",
   "id": "22303a71",
   "metadata": {},
   "source": [
    "## A way of generating new samples from old samples"
   ]
  },
  {
   "cell_type": "code",
   "execution_count": 63,
   "id": "0c4ab7db",
   "metadata": {},
   "outputs": [],
   "source": [
    "#All that we have is the original sample\n",
    "#... which is random\n"
   ]
  },
  {
   "cell_type": "markdown",
   "id": "f464ab31",
   "metadata": {},
   "source": [
    "### So we sample at random from the original sample!"
   ]
  },
  {
   "cell_type": "markdown",
   "id": "2a9c38a0",
   "metadata": {},
   "source": [
    "### We treat the original sample as a placeholder for the population"
   ]
  },
  {
   "cell_type": "code",
   "execution_count": 64,
   "id": "9b2b3644",
   "metadata": {},
   "outputs": [],
   "source": [
    "#But in the realworld we won't be able to keep going back to the population to get new samples\n",
    "#to see how much the estimate varies. \n",
    "# How to generate a new sample without going back to the population"
   ]
  },
  {
   "cell_type": "markdown",
   "id": "a33b2ec5",
   "metadata": {},
   "source": [
    "## Bootstrap"
   ]
  },
  {
   "cell_type": "markdown",
   "id": "92269739",
   "metadata": {},
   "source": [
    "## Sample Randomly\n"
   ]
  },
  {
   "cell_type": "markdown",
   "id": "ebaca0b5",
   "metadata": {},
   "source": [
    "   ### From the original sample\n",
    "   ### WITH REPLACEMENT   \n",
    "   ### The same number of times as the original sample"
   ]
  },
  {
   "cell_type": "code",
   "execution_count": 65,
   "id": "836d735d",
   "metadata": {},
   "outputs": [],
   "source": [
    "# Default behaviour of tbl.sample:\n",
    "#at random with replacement\n",
    "#the same number of rows of tbl"
   ]
  },
  {
   "cell_type": "code",
   "execution_count": 75,
   "id": "dfcbdbc4",
   "metadata": {},
   "outputs": [],
   "source": [
    "bootstrap_sample = our_sample.sample()"
   ]
  },
  {
   "cell_type": "code",
   "execution_count": 76,
   "id": "3cc7c15f",
   "metadata": {},
   "outputs": [
    {
     "data": {
      "image/png": "[encoded data removed]",
      "text/plain": [
       "<Figure size 432x288 with 1 Axes>"
      ]
     },
     "metadata": {},
     "output_type": "display_data"
    }
   ],
   "source": [
    "bootstrap_sample.hist('Total Compensation', bins=sf_bins)"
   ]
  },
  {
   "cell_type": "code",
   "execution_count": 77,
   "id": "ce77f8e6",
   "metadata": {},
   "outputs": [
    {
     "data": {
      "text/plain": [
       "139339"
      ]
     },
     "execution_count": 77,
     "metadata": {},
     "output_type": "execute_result"
    }
   ],
   "source": [
    "percentile(50, bootstrap_sample.column('Total Compensation'))"
   ]
  },
  {
   "cell_type": "code",
   "execution_count": 78,
   "id": "63c1d854",
   "metadata": {},
   "outputs": [],
   "source": [
    "def one_bootstrap_median():\n",
    "    #draws a bootstrap sample\n",
    "    resample = our_sample.sample()\n",
    "    \n",
    "    #return the median total compensation in the bootstrap sample\n",
    "    return percentile(50, resample.column('Total Compensation'))"
   ]
  },
  {
   "cell_type": "code",
   "execution_count": 79,
   "id": "92b5e281",
   "metadata": {},
   "outputs": [
    {
     "data": {
      "text/plain": [
       "137851"
      ]
     },
     "execution_count": 79,
     "metadata": {},
     "output_type": "execute_result"
    }
   ],
   "source": [
    "one_bootstrap_median()"
   ]
  },
  {
   "cell_type": "code",
   "execution_count": 80,
   "id": "66d56d47",
   "metadata": {},
   "outputs": [],
   "source": [
    "num_repetitions = 3000\n",
    "bstrap_medians = make_array()\n",
    "for i in np.arange(num_repetitions):\n",
    "    bstrap_medians = np.append(bstrap_medians, one_bootstrap_median())"
   ]
  },
  {
   "cell_type": "code",
   "execution_count": 81,
   "id": "1b78d925",
   "metadata": {},
   "outputs": [
    {
     "ename": "AttributeError",
     "evalue": "'numpy.ndarray' object has no attribute 'hist'",
     "output_type": "error",
     "traceback": [
      "\u001b[1;31m---------------------------------------------------------------------------\u001b[0m",
      "\u001b[1;31mAttributeError\u001b[0m                            Traceback (most recent call last)",
      "Input \u001b[1;32mIn [81]\u001b[0m, in \u001b[0;36m<module>\u001b[1;34m\u001b[0m\n\u001b[1;32m----> 1\u001b[0m \u001b[43mbstrap_medians\u001b[49m\u001b[38;5;241;43m.\u001b[39;49m\u001b[43mhist\u001b[49m()\n",
      "\u001b[1;31mAttributeError\u001b[0m: 'numpy.ndarray' object has no attribute 'hist'"
     ]
    }
   ],
   "source": [
    "bstrap_medians.hist()"
   ]
  },
  {
   "cell_type": "code",
   "execution_count": 82,
   "id": "31898a0a",
   "metadata": {},
   "outputs": [
    {
     "data": {
      "text/plain": [
       "Text(0.5, 1.0, 'Bootstrap Medians & the Parameter (Green Dot)')"
      ]
     },
     "execution_count": 82,
     "metadata": {},
     "output_type": "execute_result"
    },
    {
     "data": {
      "image/png": "[encoded data removed]",
      "text/plain": [
       "<Figure size 432x288 with 1 Axes>"
      ]
     },
     "metadata": {},
     "output_type": "display_data"
    }
   ],
   "source": [
    "resapled_medians = Table().with_column('Bootstrap Sample Median', bstrap_medians)\n",
    "median_bins = np.arange(120000, 160000, 2000)\n",
    "resapled_medians.hist(bins = median_bins)\n",
    "\n",
    "#Plotting parameters\n",
    "parameter_green = '#32CD32'\n",
    "plt.ylim(-0.000005, 0.00014)\n",
    "plt.scatter(pop_median, 0, color=parameter_green, s=40, zorder=2)\n",
    "plt.title('Bootstrap Medians & the Parameter (Green Dot)')"
   ]
  },
  {
   "cell_type": "code",
   "execution_count": 83,
   "id": "d9a8cfd9",
   "metadata": {},
   "outputs": [],
   "source": [
    "#In real-life, you may not have the green point\n",
    "#Greenpoint = median of population"
   ]
  },
  {
   "cell_type": "markdown",
   "id": "20c18f1f",
   "metadata": {},
   "source": [
    "## Percentile Method: Middle 95% of the Bootstrap Estimates"
   ]
  },
  {
   "cell_type": "code",
   "execution_count": 85,
   "id": "90a8ec91",
   "metadata": {},
   "outputs": [
    {
     "data": {
      "text/plain": [
       "array([129563., 143456.])"
      ]
     },
     "execution_count": 85,
     "metadata": {},
     "output_type": "execute_result"
    }
   ],
   "source": [
    "left = percentile(2.5, bstrap_medians)\n",
    "right = percentile(97.5, bstrap_medians)\n",
    "\n",
    "make_array(left, right)"
   ]
  },
  {
   "cell_type": "code",
   "execution_count": 87,
   "id": "6b43e00c",
   "metadata": {},
   "outputs": [
    {
     "name": "stderr",
     "output_type": "stream",
     "text": [
      "c:\\users\\admin\\pycharmprojects\\lib\\site-packages\\datascience\\tables.py:5206: UserWarning: FixedFormatter should only be used together with FixedLocator\n",
      "  axis.set_xticklabels(ticks, rotation='vertical')\n"
     ]
    },
    {
     "data": {
      "text/plain": [
       "<matplotlib.collections.PathCollection at 0x384b9b20>"
      ]
     },
     "execution_count": 87,
     "metadata": {},
     "output_type": "execute_result"
    },
    {
     "data": {
      "image/png": "[encoded data removed]",
      "text/plain": [
       "<Figure size 432x288 with 1 Axes>"
      ]
     },
     "metadata": {},
     "output_type": "display_data"
    }
   ],
   "source": [
    "resapled_medians.hist(bins=median_bins)\n",
    "\n",
    "#Plotting parameters\n",
    "\n",
    "plt.ylim(-0.000005, 0.00014)\n",
    "plt.plot(make_array(left, right), make_array(0,0), color='yellow', lw=3, zorder=1)\n",
    "plt.scatter(pop_median, 0, color=parameter_green, s=40, zorder=2)\n"
   ]
  },
  {
   "cell_type": "code",
   "execution_count": null,
   "id": "d38c3a98",
   "metadata": {},
   "outputs": [],
   "source": []
  }
 ],
 "metadata": {
  "kernelspec": {
   "display_name": "Python 3 (ipykernel)",
   "language": "python",
   "name": "python3"
  },
  "language_info": {
   "codemirror_mode": {
    "name": "ipython",
    "version": 3
   },
   "file_extension": ".py",
   "mimetype": "text/x-python",
   "name": "python",
   "nbconvert_exporter": "python",
   "pygments_lexer": "ipython3",
   "version": "3.8.6"
  }
 },
 "nbformat": 4,
 "nbformat_minor": 5
}
