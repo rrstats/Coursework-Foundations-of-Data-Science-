{
 "cells": [
  {
   "cell_type": "code",
   "execution_count": 1,
   "id": "bd86754a",
   "metadata": {},
   "outputs": [],
   "source": [
    "from datascience import *\n",
    "%matplotlib inline\n",
    "path_data = '.../.../.../assets/data/'\n",
    "\n",
    "import matplotlib.pyplot as plt\n",
    "plt.style.use('fivethirtyeight')\n",
    "import numpy as np\n",
    "import warnings\n",
    "warnings.simplefilter(action='ignore', category=np.VisibleDeprecationWarning)"
   ]
  },
  {
   "cell_type": "markdown",
   "id": "26d7a8dd",
   "metadata": {},
   "source": [
    "## Centre & Spread"
   ]
  },
  {
   "cell_type": "markdown",
   "id": "ca22b29e",
   "metadata": {},
   "source": [
    "# Average (Mean)"
   ]
  },
  {
   "cell_type": "code",
   "execution_count": 2,
   "id": "975b0488",
   "metadata": {},
   "outputs": [
    {
     "data": {
      "text/plain": [
       "array([2, 3, 3, 9], dtype=int64)"
      ]
     },
     "execution_count": 2,
     "metadata": {},
     "output_type": "execute_result"
    }
   ],
   "source": [
    "values = make_array(2, 3, 3, 9)\n",
    "values\n"
   ]
  },
  {
   "cell_type": "code",
   "execution_count": 3,
   "id": "3ea3d72c",
   "metadata": {},
   "outputs": [],
   "source": [
    "def summary():  \n",
    "    return (sum(values)/len(values),\n",
    "            \n",
    "            np.average(values), np.mean(values), #Both are same\n",
    "            \n",
    "            ((2+3+3+9)/4), \n",
    "            \n",
    "            (2*1/4 + 3*2/4 + 9*1/4),\n",
    "            \n",
    "           (2*0.25 + 3*0.5 + 9*0.25))"
   ]
  },
  {
   "cell_type": "code",
   "execution_count": 4,
   "id": "84420658",
   "metadata": {},
   "outputs": [
    {
     "data": {
      "text/plain": [
       "(4.25, 4.25, 4.25, 4.25, 4.25, 4.25)"
      ]
     },
     "execution_count": 4,
     "metadata": {},
     "output_type": "execute_result"
    }
   ],
   "source": [
    "summary()"
   ]
  },
  {
   "cell_type": "code",
   "execution_count": 5,
   "id": "d90f7c1c",
   "metadata": {},
   "outputs": [
    {
     "data": {
      "text/html": [
       "<table border=\"1\" class=\"dataframe\">\n",
       "    <thead>\n",
       "        <tr>\n",
       "            <th>value</th>\n",
       "        </tr>\n",
       "    </thead>\n",
       "    <tbody>\n",
       "        <tr>\n",
       "            <td>2    </td>\n",
       "        </tr>\n",
       "        <tr>\n",
       "            <td>3    </td>\n",
       "        </tr>\n",
       "        <tr>\n",
       "            <td>3    </td>\n",
       "        </tr>\n",
       "        <tr>\n",
       "            <td>9    </td>\n",
       "        </tr>\n",
       "    </tbody>\n",
       "</table>"
      ],
      "text/plain": [
       "value\n",
       "2\n",
       "3\n",
       "3\n",
       "9"
      ]
     },
     "execution_count": 5,
     "metadata": {},
     "output_type": "execute_result"
    }
   ],
   "source": [
    "values_table = Table().with_columns('value', values)\n",
    "values_table"
   ]
  },
  {
   "cell_type": "code",
   "execution_count": 6,
   "id": "0117c5de",
   "metadata": {},
   "outputs": [
    {
     "data": {
      "image/png": "[encoded data removed]",
      "text/plain": [
       "<Figure size 432x288 with 1 Axes>"
      ]
     },
     "metadata": {},
     "output_type": "display_data"
    }
   ],
   "source": [
    "bins_for_display = np.arange(0.5, 10.6, 1)\n",
    "values_table.hist('value', bins=bins_for_display)"
   ]
  },
  {
   "cell_type": "code",
   "execution_count": 7,
   "id": "d165a121",
   "metadata": {},
   "outputs": [],
   "source": [
    "new_vals = make_array(2,2,2,2,2,2,2,2,2,2,\n",
    "                     3,3,3,3,3,3,3,3,3,3,3,3,3,3,3,3,3,3,3,3,\n",
    "                     9,9,9,9,9,9,9,9,9,9)"
   ]
  },
  {
   "cell_type": "code",
   "execution_count": 8,
   "id": "c7b52d8a",
   "metadata": {},
   "outputs": [
    {
     "data": {
      "image/png": "[encoded data removed]",
      "text/plain": [
       "<Figure size 432x288 with 1 Axes>"
      ]
     },
     "metadata": {},
     "output_type": "display_data"
    }
   ],
   "source": [
    "Table().with_column('value', new_vals).hist(bins=bins_for_display)"
   ]
  },
  {
   "cell_type": "code",
   "execution_count": 9,
   "id": "b52b639c",
   "metadata": {},
   "outputs": [
    {
     "data": {
      "text/plain": [
       "4.25"
      ]
     },
     "execution_count": 9,
     "metadata": {},
     "output_type": "execute_result"
    }
   ],
   "source": [
    "np.average(values)"
   ]
  },
  {
   "cell_type": "code",
   "execution_count": 10,
   "id": "1b3bbe01",
   "metadata": {},
   "outputs": [
    {
     "data": {
      "text/plain": [
       "4.25"
      ]
     },
     "execution_count": 10,
     "metadata": {},
     "output_type": "execute_result"
    }
   ],
   "source": [
    "np.average(new_vals)"
   ]
  },
  {
   "cell_type": "markdown",
   "id": "13ac766c",
   "metadata": {},
   "source": [
    "## Reason not to round an average value"
   ]
  },
  {
   "cell_type": "code",
   "execution_count": 11,
   "id": "fda74bc3",
   "metadata": {},
   "outputs": [
    {
     "data": {
      "text/plain": [
       "Text(0.5, 1.0, 'Average as a centre of Gravity')"
      ]
     },
     "execution_count": 11,
     "metadata": {},
     "output_type": "execute_result"
    },
    {
     "data": {
      "image/png": "[encoded data removed]",
      "text/plain": [
       "<Figure size 432x288 with 1 Axes>"
      ]
     },
     "metadata": {},
     "output_type": "display_data"
    }
   ],
   "source": [
    "Table().with_column('value', new_vals).hist(bins=bins_for_display)\n",
    "\n",
    "plt.ylim(-0.04, 0.5)\n",
    "plt.plot([0, 10], [0,0], color='grey', lw=2)\n",
    "plt.scatter(4.25, -0.015, marker= \"^\", color='red', s=100)\n",
    "plt.title(\"Average as a centre of Gravity\")"
   ]
  },
  {
   "cell_type": "markdown",
   "id": "5d54b835",
   "metadata": {},
   "source": [
    "### *The Average is Based on the Histogram (not the count)*"
   ]
  },
  {
   "cell_type": "code",
   "execution_count": 12,
   "id": "08abc1ec",
   "metadata": {},
   "outputs": [],
   "source": [
    "#============================================================"
   ]
  },
  {
   "cell_type": "markdown",
   "id": "1f6909a4",
   "metadata": {},
   "source": [
    "## Standard Deviation"
   ]
  },
  {
   "cell_type": "code",
   "execution_count": 13,
   "id": "c9b504e3",
   "metadata": {},
   "outputs": [
    {
     "data": {
      "text/html": [
       "<table border=\"1\" class=\"dataframe\">\n",
       "    <thead>\n",
       "        <tr>\n",
       "            <th>Value</th>\n",
       "        </tr>\n",
       "    </thead>\n",
       "    <tbody>\n",
       "        <tr>\n",
       "            <td>2    </td>\n",
       "        </tr>\n",
       "        <tr>\n",
       "            <td>3    </td>\n",
       "        </tr>\n",
       "        <tr>\n",
       "            <td>3    </td>\n",
       "        </tr>\n",
       "        <tr>\n",
       "            <td>9    </td>\n",
       "        </tr>\n",
       "    </tbody>\n",
       "</table>"
      ],
      "text/plain": [
       "Value\n",
       "2\n",
       "3\n",
       "3\n",
       "9"
      ]
     },
     "execution_count": 13,
     "metadata": {},
     "output_type": "execute_result"
    }
   ],
   "source": [
    "sd_table = Table().with_columns('Value', values)\n",
    "sd_table"
   ]
  },
  {
   "cell_type": "code",
   "execution_count": 14,
   "id": "d1f76ef5",
   "metadata": {},
   "outputs": [
    {
     "data": {
      "text/plain": [
       "4.25"
      ]
     },
     "execution_count": 14,
     "metadata": {},
     "output_type": "execute_result"
    }
   ],
   "source": [
    "average_value = np.mean(values)\n",
    "average_value"
   ]
  },
  {
   "cell_type": "code",
   "execution_count": 15,
   "id": "1817fe42",
   "metadata": {},
   "outputs": [
    {
     "data": {
      "text/html": [
       "<table border=\"1\" class=\"dataframe\">\n",
       "    <thead>\n",
       "        <tr>\n",
       "            <th>Value</th> <th>Deviation</th>\n",
       "        </tr>\n",
       "    </thead>\n",
       "    <tbody>\n",
       "        <tr>\n",
       "            <td>2    </td> <td>-2.25    </td>\n",
       "        </tr>\n",
       "        <tr>\n",
       "            <td>3    </td> <td>-1.25    </td>\n",
       "        </tr>\n",
       "        <tr>\n",
       "            <td>3    </td> <td>-1.25    </td>\n",
       "        </tr>\n",
       "        <tr>\n",
       "            <td>9    </td> <td>4.75     </td>\n",
       "        </tr>\n",
       "    </tbody>\n",
       "</table>"
      ],
      "text/plain": [
       "Value | Deviation\n",
       "2     | -2.25\n",
       "3     | -1.25\n",
       "3     | -1.25\n",
       "9     | 4.75"
      ]
     },
     "execution_count": 15,
     "metadata": {},
     "output_type": "execute_result"
    }
   ],
   "source": [
    "deviations = values - average_value\n",
    "sd_table = sd_table.with_column('Deviation', deviations)\n",
    "sd_table"
   ]
  },
  {
   "cell_type": "code",
   "execution_count": 16,
   "id": "00a9e7ec",
   "metadata": {},
   "outputs": [
    {
     "data": {
      "text/plain": [
       "0.0"
      ]
     },
     "execution_count": 16,
     "metadata": {},
     "output_type": "execute_result"
    }
   ],
   "source": [
    "sum(deviations)"
   ]
  },
  {
   "cell_type": "code",
   "execution_count": 17,
   "id": "8d19eb45",
   "metadata": {},
   "outputs": [
    {
     "name": "stdout",
     "output_type": "stream",
     "text": [
      "======================================================\n",
      "=============DOLLARS SQUARED/UNIT SQUARED==================\n"
     ]
    },
    {
     "data": {
      "text/html": [
       "<table border=\"1\" class=\"dataframe\">\n",
       "    <thead>\n",
       "        <tr>\n",
       "            <th>Value</th> <th>Deviation</th> <th>Standard Deviation</th>\n",
       "        </tr>\n",
       "    </thead>\n",
       "    <tbody>\n",
       "        <tr>\n",
       "            <td>2    </td> <td>-2.25    </td> <td>5.0625            </td>\n",
       "        </tr>\n",
       "        <tr>\n",
       "            <td>3    </td> <td>-1.25    </td> <td>1.5625            </td>\n",
       "        </tr>\n",
       "        <tr>\n",
       "            <td>3    </td> <td>-1.25    </td> <td>1.5625            </td>\n",
       "        </tr>\n",
       "        <tr>\n",
       "            <td>9    </td> <td>4.75     </td> <td>22.5625           </td>\n",
       "        </tr>\n",
       "    </tbody>\n",
       "</table>"
      ],
      "text/plain": [
       "Value | Deviation | Standard Deviation\n",
       "2     | -2.25     | 5.0625\n",
       "3     | -1.25     | 1.5625\n",
       "3     | -1.25     | 1.5625\n",
       "9     | 4.75      | 22.5625"
      ]
     },
     "execution_count": 17,
     "metadata": {},
     "output_type": "execute_result"
    }
   ],
   "source": [
    "print(\"======================================================\")\n",
    "print(\"=============DOLLARS SQUARED/UNIT SQUARED==================\")\n",
    "sd_table = sd_table.with_column('Standard Deviation', deviations**2)\n",
    "sd_table"
   ]
  },
  {
   "cell_type": "code",
   "execution_count": 18,
   "id": "980f4ab7",
   "metadata": {},
   "outputs": [
    {
     "name": "stdout",
     "output_type": "stream",
     "text": [
      "=======DOLLAR SQUARED/UNIT SQUARED======\n"
     ]
    },
    {
     "data": {
      "text/plain": [
       "7.6875"
      ]
     },
     "execution_count": 18,
     "metadata": {},
     "output_type": "execute_result"
    }
   ],
   "source": [
    "#Variance of the data\n",
    "#mean squared deviation from average\n",
    "\n",
    "print(\"=======DOLLAR SQUARED/UNIT SQUARED======\")\n",
    "variance = np.mean(deviations**2)\n",
    "variance"
   ]
  },
  {
   "cell_type": "code",
   "execution_count": 19,
   "id": "53de7770",
   "metadata": {},
   "outputs": [
    {
     "name": "stdout",
     "output_type": "stream",
     "text": [
      "=======DOLLARS /ORIGINAL UNIT ======\n"
     ]
    },
    {
     "data": {
      "text/plain": [
       "2.7726341266023544"
      ]
     },
     "execution_count": 19,
     "metadata": {},
     "output_type": "execute_result"
    }
   ],
   "source": [
    "#Variance of the data\n",
    "#mean squared deviation from average\n",
    "\n",
    "print(\"=======DOLLARS /ORIGINAL UNIT ======\")\n",
    "sd = variance  ** 0.5\n",
    "sd"
   ]
  },
  {
   "cell_type": "code",
   "execution_count": 21,
   "id": "59ee4404",
   "metadata": {},
   "outputs": [
    {
     "data": {
      "text/plain": [
       "2.7726341266023544"
      ]
     },
     "execution_count": 21,
     "metadata": {},
     "output_type": "execute_result"
    }
   ],
   "source": [
    "#NumPy function\n",
    "np.std(values)"
   ]
  },
  {
   "cell_type": "markdown",
   "id": "a2ebd145",
   "metadata": {},
   "source": [
    "# #cHEBYSHEV'S INEQUALITY"
   ]
  },
  {
   "cell_type": "code",
   "execution_count": 22,
   "id": "39f5094d",
   "metadata": {},
   "outputs": [],
   "source": [
    "#Mean +- zSTDDEVIATIONS\n",
    "\n",
    "#At least [1 - 1/z^2] part of the data.\n",
    "#No matter what the distribution looks like."
   ]
  },
  {
   "cell_type": "markdown",
   "id": "0adf0c7c",
   "metadata": {},
   "source": [
    "## Chebyshev's Bounds"
   ]
  },
  {
   "cell_type": "code",
   "execution_count": 23,
   "id": "640d311f",
   "metadata": {},
   "outputs": [],
   "source": [
    "births = Table.read_table('baby.csv').drop('Maternal Smoker')"
   ]
  },
  {
   "cell_type": "code",
   "execution_count": 24,
   "id": "4dd46734",
   "metadata": {},
   "outputs": [
    {
     "data": {
      "text/plain": [
       "('Birth Weight',\n",
       " 'Gestational Days',\n",
       " 'Maternal Age',\n",
       " 'Maternal Height',\n",
       " 'Maternal Pregnancy Weight')"
      ]
     },
     "execution_count": 24,
     "metadata": {},
     "output_type": "execute_result"
    }
   ],
   "source": [
    "births.labels"
   ]
  },
  {
   "cell_type": "code",
   "execution_count": 27,
   "id": "10bb2457",
   "metadata": {},
   "outputs": [
    {
     "data": {
      "image/png": "[encoded data removed]",
      "text/plain": [
       "<Figure size 432x1440 with 5 Axes>"
      ]
     },
     "metadata": {},
     "output_type": "display_data"
    }
   ],
   "source": [
    "births.hist(overlay=False)"
   ]
  },
  {
   "cell_type": "code",
   "execution_count": 30,
   "id": "bb849ff8",
   "metadata": {},
   "outputs": [
    {
     "data": {
      "text/plain": [
       "(128.4787052810903, 20.72544970428041)"
      ]
     },
     "execution_count": 30,
     "metadata": {},
     "output_type": "execute_result"
    }
   ],
   "source": [
    "mpw = births.column('Maternal Pregnancy Weight')\n",
    "mean = np.mean(mpw)\n",
    "sd = np.std(mpw)\n",
    "mean, sd"
   ]
  },
  {
   "cell_type": "code",
   "execution_count": 32,
   "id": "3973b4a7",
   "metadata": {},
   "outputs": [],
   "source": [
    "within_3_SDs = births.where(\n",
    "    'Maternal Pregnancy Weight', are.between((mean - 3*sd), (mean+3*sd)))"
   ]
  },
  {
   "cell_type": "code",
   "execution_count": 34,
   "id": "3277ef7f",
   "metadata": {},
   "outputs": [
    {
     "data": {
      "text/plain": [
       "0.9863713798977853"
      ]
     },
     "execution_count": 34,
     "metadata": {},
     "output_type": "execute_result"
    }
   ],
   "source": [
    "#Proportion within 3 SDs of the mean\n",
    "\n",
    "within_3_SDs.num_rows / births.num_rows"
   ]
  },
  {
   "cell_type": "code",
   "execution_count": 36,
   "id": "3b3c1947",
   "metadata": {},
   "outputs": [
    {
     "data": {
      "text/plain": [
       "0.8888888888888888"
      ]
     },
     "execution_count": 36,
     "metadata": {},
     "output_type": "execute_result"
    }
   ],
   "source": [
    "#Chebyshev's bound:\n",
    "#This proportion should be at least\n",
    "\n",
    "1 - 1/(3**2)"
   ]
  },
  {
   "cell_type": "code",
   "execution_count": 37,
   "id": "ae2267d7",
   "metadata": {},
   "outputs": [],
   "source": [
    "#Thus, consistent with the bound"
   ]
  },
  {
   "cell_type": "code",
   "execution_count": null,
   "id": "4a0a1240",
   "metadata": {},
   "outputs": [],
   "source": []
  },
  {
   "cell_type": "markdown",
   "id": "56ccf852",
   "metadata": {},
   "source": [
    "## Standard Units"
   ]
  },
  {
   "cell_type": "code",
   "execution_count": 38,
   "id": "78664174",
   "metadata": {},
   "outputs": [],
   "source": [
    "def standard_units(x):\n",
    "    \"\"\"Convert array to standard units\"\"\"\n",
    "    return(x-np.mean(x)) / np.std(x)"
   ]
  },
  {
   "cell_type": "code",
   "execution_count": 39,
   "id": "a4e52a79",
   "metadata": {},
   "outputs": [],
   "source": [
    "ages = births.column('Maternal Age')"
   ]
  },
  {
   "cell_type": "code",
   "execution_count": 40,
   "id": "f1ec68a7",
   "metadata": {},
   "outputs": [],
   "source": [
    "ages_standard_units = standard_units(ages)"
   ]
  },
  {
   "cell_type": "code",
   "execution_count": 46,
   "id": "f9356a1b",
   "metadata": {},
   "outputs": [
    {
     "data": {
      "text/plain": [
       "(-7.868020072300939e-17, 1.0)"
      ]
     },
     "execution_count": 46,
     "metadata": {},
     "output_type": "execute_result"
    }
   ],
   "source": [
    "np.mean(ages_standard_units), np.std(ages_standard_units)"
   ]
  },
  {
   "cell_type": "code",
   "execution_count": 50,
   "id": "98feee7e",
   "metadata": {},
   "outputs": [
    {
     "ename": "NameError",
     "evalue": "name 'both' is not defined",
     "output_type": "error",
     "traceback": [
      "\u001b[1;31m---------------------------------------------------------------------------\u001b[0m",
      "\u001b[1;31mNameError\u001b[0m                                 Traceback (most recent call last)",
      "Input \u001b[1;32mIn [50]\u001b[0m, in \u001b[0;36m<module>\u001b[1;34m\u001b[0m\n\u001b[1;32m----> 1\u001b[0m \u001b[43mboth\u001b[49m\u001b[38;5;241m.\u001b[39mhist(\u001b[38;5;124m'\u001b[39m\u001b[38;5;124mAge in Years\u001b[39m\u001b[38;5;124m'\u001b[39m, bins \u001b[38;5;241m=\u001b[39m np\u001b[38;5;241m.\u001b[39marange(\u001b[38;5;241m15\u001b[39m, \u001b[38;5;241m46\u001b[39m, \u001b[38;5;241m2\u001b[39m))\n",
      "\u001b[1;31mNameError\u001b[0m: name 'both' is not defined"
     ]
    }
   ],
   "source": [
    "both.hist('Age in Years', bins = np.arange(15, 46, 2))"
   ]
  },
  {
   "cell_type": "code",
   "execution_count": null,
   "id": "283320fb",
   "metadata": {},
   "outputs": [],
   "source": []
  }
 ],
 "metadata": {
  "kernelspec": {
   "display_name": "Python 3 (ipykernel)",
   "language": "python",
   "name": "python3"
  },
  "language_info": {
   "codemirror_mode": {
    "name": "ipython",
    "version": 3
   },
   "file_extension": ".py",
   "mimetype": "text/x-python",
   "name": "python",
   "nbconvert_exporter": "python",
   "pygments_lexer": "ipython3",
   "version": "3.8.6"
  }
 },
 "nbformat": 4,
 "nbformat_minor": 5
}
