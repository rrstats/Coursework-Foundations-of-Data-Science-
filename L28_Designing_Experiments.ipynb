{
  "nbformat": 4,
  "nbformat_minor": 0,
  "metadata": {
    "colab": {
      "name": "L28 Designing Experiments.ipynb",
      "provenance": [],
      "authorship_tag": "ABX9TyNB/l3o+x1DpzfM9yU1lkY3",
      "include_colab_link": true
    },
    "kernelspec": {
      "name": "python3",
      "display_name": "Python 3"
    },
    "language_info": {
      "name": "python"
    }
  },
  "cells": [
    {
      "cell_type": "markdown",
      "metadata": {
        "id": "view-in-github",
        "colab_type": "text"
      },
      "source": [
        "<a href=\"https://colab.research.google.com/github/rrstats/Coursework-Foundations-of-Data-Science-/blob/main/L28_Designing_Experiments.ipynb\" target=\"_parent\"><img src=\"https://colab.research.google.com/assets/colab-badge.svg\" alt=\"Open In Colab\"/></a>"
      ]
    },
    {
      "cell_type": "code",
      "execution_count": null,
      "metadata": {
        "colab": {
          "base_uri": "https://localhost:8080/"
        },
        "id": "0K6UXgxtF38n",
        "outputId": "f09390bc-8a51-415b-e6fd-c2ec748ec451"
      },
      "outputs": [
        {
          "output_type": "stream",
          "name": "stderr",
          "text": [
            "/usr/local/lib/python3.7/dist-packages/datascience/tables.py:17: MatplotlibDeprecationWarning: The 'warn' parameter of use() is deprecated since Matplotlib 3.1 and will be removed in 3.3.  If any parameter follows 'warn', they should be pass as keyword, not positionally.\n",
            "  matplotlib.use('agg', warn=False)\n",
            "/usr/local/lib/python3.7/dist-packages/datascience/util.py:10: MatplotlibDeprecationWarning: The 'warn' parameter of use() is deprecated since Matplotlib 3.1 and will be removed in 3.3.  If any parameter follows 'warn', they should be pass as keyword, not positionally.\n",
            "  matplotlib.use('agg', warn=False)\n"
          ]
        }
      ],
      "source": [
        "import matplotlib\n",
        "from datascience import *\n",
        "%matplotlib inline\n",
        "import numpy as np\n",
        "import matplotlib.pyplot as plt\n",
        "plt.style.use('fivethirtyeight')\n"
      ]
    },
    {
      "cell_type": "code",
      "source": [
        "#If ths sample is \n",
        "# large,\n",
        "# drawn at random with replacement\n",
        "\n",
        "# Then, regardless of the distribution of the population,\n",
        "# the probability distribution of the sample average is roughly normal\n",
        "\n",
        "#CAN'T BE USED FOR SMALL QUANTITIES"
      ],
      "metadata": {
        "id": "MnBGr9QtGKej"
      },
      "execution_count": null,
      "outputs": []
    },
    {
      "cell_type": "code",
      "source": [
        "#mean = population mean\n",
        "#SD = (population SD) / sqrt(sample size)"
      ],
      "metadata": {
        "id": "GtIqxmaCJjdo"
      },
      "execution_count": null,
      "outputs": []
    },
    {
      "cell_type": "markdown",
      "source": [
        "## Review : Lec 24\n",
        "Fram a random sample, construct a 95% confidence interval for the ages of the mothers in the population"
      ],
      "metadata": {
        "id": "6AR99RWpROaW"
      }
    },
    {
      "cell_type": "code",
      "source": [
        "#original sample\n",
        "\n",
        "births = Table.read_table('baby.csv')\n",
        "births.show(3)"
      ],
      "metadata": {
        "colab": {
          "base_uri": "https://localhost:8080/",
          "height": 173
        },
        "id": "k7nHVa-gRN5s",
        "outputId": "5f5abcd4-441c-4094-80e8-ff246e0895b9"
      },
      "execution_count": null,
      "outputs": [
        {
          "output_type": "display_data",
          "data": {
            "text/plain": [
              "<IPython.core.display.HTML object>"
            ],
            "text/html": [
              "<table border=\"1\" class=\"dataframe\">\n",
              "    <thead>\n",
              "        <tr>\n",
              "            <th>Birth Weight</th> <th>Gestational Days</th> <th>Maternal Age</th> <th>Maternal Height</th> <th>Maternal Pregnancy Weight</th> <th>Maternal Smoker</th>\n",
              "        </tr>\n",
              "    </thead>\n",
              "    <tbody>\n",
              "        <tr>\n",
              "            <td>120         </td> <td>284             </td> <td>27          </td> <td>62             </td> <td>100                      </td> <td>False          </td>\n",
              "        </tr>\n",
              "        <tr>\n",
              "            <td>113         </td> <td>282             </td> <td>33          </td> <td>64             </td> <td>135                      </td> <td>False          </td>\n",
              "        </tr>\n",
              "        <tr>\n",
              "            <td>128         </td> <td>279             </td> <td>28          </td> <td>64             </td> <td>115                      </td> <td>True           </td>\n",
              "        </tr>\n",
              "    </tbody>\n",
              "</table>\n",
              "<p>... (1171 rows omitted)</p>"
            ]
          },
          "metadata": {}
        }
      ]
    },
    {
      "cell_type": "code",
      "source": [
        "def one_bootstrap_mean():\n",
        "  resample = births.sample()\n",
        "  return np.average(resample.column('Maternal Age'))"
      ],
      "metadata": {
        "id": "-KLiacRGJ1Zt"
      },
      "execution_count": null,
      "outputs": []
    },
    {
      "cell_type": "code",
      "source": [
        "#Generate mean from 3000 bootstrap samples\n",
        "num_repetitions = 3000\n",
        "bstrap_means = make_array()\n",
        "for i in np.arange(num_repetitions):\n",
        "  bstrap_means = np.append(bstrap_means, one_bootstrap_mean()) "
      ],
      "metadata": {
        "id": "hXHZjIQCSA3K"
      },
      "execution_count": null,
      "outputs": []
    },
    {
      "cell_type": "code",
      "source": [
        "#Get the endpoints of the 95% confidence interval\n",
        "left = percentile(2.5, bstrap_means)\n",
        "right = percentile(97.5, bstrap_means)"
      ],
      "metadata": {
        "id": "ECP0s9zgSgtJ"
      },
      "execution_count": null,
      "outputs": []
    },
    {
      "cell_type": "code",
      "source": [
        "resampled_means = Table().with_columns(\n",
        "    'Bootstrap Sample Mean', bstrap_means\n",
        ")\n",
        "resampled_means.hist(bins=15)\n",
        "plt.plot((left, right), [0,0], color='yellow', lw=9)"
      ],
      "metadata": {
        "colab": {
          "base_uri": "https://localhost:8080/",
          "height": 398
        },
        "id": "PlWRVcqVS1Zv",
        "outputId": "f1063af4-d7dc-4865-d2a7-48d6a701a0e5"
      },
      "execution_count": null,
      "outputs": [
        {
          "output_type": "execute_result",
          "data": {
            "text/plain": [
              "[<matplotlib.lines.Line2D at 0x7f50ec961610>]"
            ]
          },
          "metadata": {},
          "execution_count": 11
        },
        {
          "output_type": "display_data",
          "data": {
            "text/plain": [
              "<Figure size 432x288 with 1 Axes>"
            ],
            "image/png": "[encoded data removed]"
          },
          "metadata": {
            "needs_background": "light"
          }
        }
      ]
    },
    {
      "cell_type": "markdown",
      "source": [
        ""
      ],
      "metadata": {
        "id": "OIK41MMsT1Dq"
      }
    },
    {
      "cell_type": "code",
      "source": [
        "left, right"
      ],
      "metadata": {
        "colab": {
          "base_uri": "https://localhost:8080/"
        },
        "id": "1B2q9GHMTiJT",
        "outputId": "e293f103-c0bc-4ba9-ce85-3b62b63d7d9d"
      },
      "execution_count": null,
      "outputs": [
        {
          "output_type": "execute_result",
          "data": {
            "text/plain": [
              "(26.906303236797275, 27.557069846678022)"
            ]
          },
          "metadata": {},
          "execution_count": 12
        }
      ]
    },
    {
      "cell_type": "code",
      "source": [
        ""
      ],
      "metadata": {
        "id": "w7YfwMu9TvTi"
      },
      "execution_count": null,
      "outputs": []
    },
    {
      "cell_type": "markdown",
      "source": [
        "Method Based on CLT"
      ],
      "metadata": {
        "id": "Uw2FpWRhT5ix"
      }
    },
    {
      "cell_type": "code",
      "source": [
        "sampled_ages = births.column('Maternal Age')\n",
        "sample_size = len(sampled_ages)\n",
        "sample_average = np.average(sampled_ages)\n",
        "sample_SD = np.std(sampled_ages)\n",
        "sample_size, sample_average, sample_SD"
      ],
      "metadata": {
        "colab": {
          "base_uri": "https://localhost:8080/"
        },
        "id": "YVX2CzgWT92C",
        "outputId": "238ab3f6-c095-44bb-f71e-f314b356ba72"
      },
      "execution_count": null,
      "outputs": [
        {
          "output_type": "execute_result",
          "data": {
            "text/plain": [
              "(1174, 27.228279386712096, 5.815360404190897)"
            ]
          },
          "metadata": {},
          "execution_count": 14
        }
      ]
    },
    {
      "cell_type": "markdown",
      "source": [
        "Start with sample_average as the centre of the interval\n",
        "We need to add and subtract 2*(population SD)/sqrt(sample_size) but we donn't have the population SD"
      ],
      "metadata": {
        "id": "GKRuOEYvUq02"
      }
    },
    {
      "cell_type": "code",
      "source": [
        "#Try estimating from the sample\n",
        "\n",
        "estimated_SD_of_sample_average = sample_SD / (sample_size**0.5)\n",
        "estimated_SD_of_sample_average"
      ],
      "metadata": {
        "colab": {
          "base_uri": "https://localhost:8080/"
        },
        "id": "2mvMMHu4UIHE",
        "outputId": "9625014d-6631-4ef3-9f4e-4c80e391ef51"
      },
      "execution_count": null,
      "outputs": [
        {
          "output_type": "execute_result",
          "data": {
            "text/plain": [
              "0.16972373742299796"
            ]
          },
          "metadata": {},
          "execution_count": 15
        }
      ]
    },
    {
      "cell_type": "code",
      "source": [
        "#Approximate 95% confidence interval for population mean\n",
        "\n",
        "sample_average - 2*estimated_SD_of_sample_average, sample_average + 2*estimated_SD_of_sample_average"
      ],
      "metadata": {
        "colab": {
          "base_uri": "https://localhost:8080/"
        },
        "id": "UtfsdkisVdpA",
        "outputId": "79468301-5970-48ff-bdd2-1495453183a1"
      },
      "execution_count": null,
      "outputs": [
        {
          "output_type": "stream",
          "name": "stderr",
          "text": [
            "/usr/local/lib/python3.7/dist-packages/ipykernel_launcher.py:3: VisibleDeprecationWarning: Creating an ndarray from ragged nested sequences (which is a list-or-tuple of lists-or-tuples-or ndarrays with different lengths or shapes) is deprecated. If you meant to do this, you must specify 'dtype=object' when creating the ndarray.\n",
            "  This is separate from the ipykernel package so we can avoid doing imports until\n"
          ]
        },
        {
          "output_type": "execute_result",
          "data": {
            "text/plain": [
              "(array([0.0, array([ 0.33944747, 27.56772686])], dtype=object),\n",
              " array([0.6788949496919918, array([ 1.01834242, 28.24662181])],\n",
              "       dtype=object))"
            ]
          },
          "metadata": {},
          "execution_count": 37
        }
      ]
    },
    {
      "cell_type": "code",
      "source": [
        "#Answer to the above should be\n",
        "26.8888, 27.5677"
      ],
      "metadata": {
        "colab": {
          "base_uri": "https://localhost:8080/"
        },
        "id": "nxQq2jPXV7TL",
        "outputId": "4facd2b6-7afc-4c94-a18d-53b6aace83bd"
      },
      "execution_count": null,
      "outputs": [
        {
          "output_type": "execute_result",
          "data": {
            "text/plain": [
              "(26.8888, 27.5677)"
            ]
          },
          "metadata": {},
          "execution_count": 39
        }
      ]
    },
    {
      "cell_type": "code",
      "source": [
        "#If we can make a 95% confidence interval in this way:\n",
        "\n",
        "#then why did we learn to make confidence intervals by using the bootstrap\n",
        "\n",
        "#Main rasons\n",
        "  #This method is based on the CLT and applies only to means.\n",
        "  #The bootstrap can be used with other statistics too, such as medians\n",
        "  #With the bootstrap, you don't need SD formulas"
      ],
      "metadata": {
        "id": "aaqKxy5xWGPw"
      },
      "execution_count": null,
      "outputs": []
    },
    {
      "cell_type": "markdown",
      "source": [
        "Width & Sample Size\n",
        "ACCURACY\n",
        "\n",
        "Suppose you are estimating a population mean\n",
        "\n",
        "For a fixed level of confidence (for example, 95%)\n",
        "  Narrower intervals are more accurate\n",
        "  For narrower intervals we need larger samples\n",
        "\n",
        "How large?"
      ],
      "metadata": {
        "id": "CSLECW93a5Pn"
      }
    },
    {
      "cell_type": "code",
      "source": [
        "#2*2* population SD/sqrt(sample_mean)"
      ],
      "metadata": {
        "id": "K1r46Kmza0jV"
      },
      "execution_count": null,
      "outputs": []
    },
    {
      "cell_type": "markdown",
      "source": [
        "Sample Size for Specified Width\n",
        "\n",
        "width = 4* (population SD)/sqrt(sample_mean)\n",
        "\n",
        "Hence,\n",
        "sqrt(sample_size) = 4*  population SD/width\n",
        "To get the sample size, we need an estimate(or overestimate) of the population SD\n",
        "  We can't get this from the sample because we don't have a sample yet!"
      ],
      "metadata": {
        "id": "K63ASSsob6cA"
      }
    },
    {
      "cell_type": "code",
      "source": [
        "#Estimating Proportions"
      ],
      "metadata": {
        "id": "Ez7P1sHFbmyu"
      },
      "execution_count": null,
      "outputs": []
    },
    {
      "cell_type": "code",
      "source": [
        "#Proportions are Averages"
      ],
      "metadata": {
        "id": "RkUUzr1jc0qt"
      },
      "execution_count": null,
      "outputs": []
    },
    {
      "cell_type": "code",
      "source": [
        "#Data: 0 1 0 0 1 0 1 1 0 0 (10 entries)\n",
        "#Sum = 4 = number of 1's\n",
        "#Average = 4/10 = 0.4 = proportion of 1's in the population\n",
        "#the sample average is the proportion of 1's in the sample"
      ],
      "metadata": {
        "id": "3Z4SsrIkc3sM"
      },
      "execution_count": null,
      "outputs": []
    },
    {
      "cell_type": "markdown",
      "source": [
        "**Controlling the Width**\n",
        "Total width of an approximate 95% confidence interval for a population proportion\n",
        "\n",
        "= 4* (SD of 0/1 population) / sqrt(sample_size)"
      ],
      "metadata": {
        "id": "kAJg6icxdhtU"
      }
    },
    {
      "cell_type": "markdown",
      "source": [
        "Narrower the interval, the more accurate your estimate\n",
        "Suppose you want the total width of the interval to ve no more than 3%.\n",
        "How should you choose your sample size?"
      ],
      "metadata": {
        "id": "rgQH6rt2d2Fq"
      }
    },
    {
      "cell_type": "code",
      "source": [
        "#sqrt(sample_size) = 4* (SD of 0/1 population) / 0.03"
      ],
      "metadata": {
        "id": "0TDQRpcZdgZc"
      },
      "execution_count": null,
      "outputs": []
    },
    {
      "cell_type": "code",
      "source": [
        "#0/1 population of size 10\n",
        "\n",
        "number_of_ones = 8\n",
        "number_of_zeroes = 10 - number_of_ones\n",
        "ones_array = np.ones(number_of_ones)\n",
        "zeros_array = np.zeros(number_of_zeroes)\n",
        "zero_one_population = np.append(ones_array, zeros_array)\n",
        "\n",
        "print('Standard Deviation:', np.round(np.std(zero_one_population), 2))\n",
        "zero_one_population"
      ],
      "metadata": {
        "colab": {
          "base_uri": "https://localhost:8080/"
        },
        "id": "2PRhICHYebNA",
        "outputId": "bc5b8e3f-5645-4b4f-91cc-ec366dc92218"
      },
      "execution_count": null,
      "outputs": [
        {
          "output_type": "stream",
          "name": "stdout",
          "text": [
            "Standard Deviation: 0.4\n"
          ]
        },
        {
          "output_type": "execute_result",
          "data": {
            "text/plain": [
              "array([1., 1., 1., 1., 1., 1., 1., 1., 0., 0.])"
            ]
          },
          "metadata": {},
          "execution_count": 47
        }
      ]
    },
    {
      "cell_type": "code",
      "source": [
        "def sd_of_zero_one_population(number_of_ones):\n",
        "  # Returns SD of population\n",
        "  # that has 10 elements: num_ones with value 1 & (10 - num_values) with value 0\n",
        "  zero_one_population = np.append(np.ones(number_of_ones), np.zeros(10-number_of_ones))\n",
        "\n",
        "  return np.std(zero_one_population)"
      ],
      "metadata": {
        "id": "yYljXZmsfkcJ"
      },
      "execution_count": null,
      "outputs": []
    },
    {
      "cell_type": "code",
      "source": [
        "#0/1 Populations of size 10\n",
        "\n",
        "possible_ones = np.arange(11)\n",
        "zero_one_pop = Table().with_columns(\n",
        "    'Number of Ones', possible_ones,\n",
        "    'Proportion of Ones', possible_ones / 10\n",
        ")\n",
        "zero_one_pop.show(11)"
      ],
      "metadata": {
        "colab": {
          "base_uri": "https://localhost:8080/",
          "height": 394
        },
        "id": "2mxRoN5dgZK5",
        "outputId": "4d6f13e9-e608-4429-8bfa-b60109ee8611"
      },
      "execution_count": null,
      "outputs": [
        {
          "output_type": "display_data",
          "data": {
            "text/plain": [
              "<IPython.core.display.HTML object>"
            ],
            "text/html": [
              "<table border=\"1\" class=\"dataframe\">\n",
              "    <thead>\n",
              "        <tr>\n",
              "            <th>Number of Ones</th> <th>Proportion of Ones</th>\n",
              "        </tr>\n",
              "    </thead>\n",
              "    <tbody>\n",
              "        <tr>\n",
              "            <td>0             </td> <td>0                 </td>\n",
              "        </tr>\n",
              "        <tr>\n",
              "            <td>1             </td> <td>0.1               </td>\n",
              "        </tr>\n",
              "        <tr>\n",
              "            <td>2             </td> <td>0.2               </td>\n",
              "        </tr>\n",
              "        <tr>\n",
              "            <td>3             </td> <td>0.3               </td>\n",
              "        </tr>\n",
              "        <tr>\n",
              "            <td>4             </td> <td>0.4               </td>\n",
              "        </tr>\n",
              "        <tr>\n",
              "            <td>5             </td> <td>0.5               </td>\n",
              "        </tr>\n",
              "        <tr>\n",
              "            <td>6             </td> <td>0.6               </td>\n",
              "        </tr>\n",
              "        <tr>\n",
              "            <td>7             </td> <td>0.7               </td>\n",
              "        </tr>\n",
              "        <tr>\n",
              "            <td>8             </td> <td>0.8               </td>\n",
              "        </tr>\n",
              "        <tr>\n",
              "            <td>9             </td> <td>0.9               </td>\n",
              "        </tr>\n",
              "        <tr>\n",
              "            <td>10            </td> <td>1                 </td>\n",
              "        </tr>\n",
              "    </tbody>\n",
              "</table>"
            ]
          },
          "metadata": {}
        }
      ]
    },
    {
      "cell_type": "code",
      "source": [
        "#A function has been applied\n",
        "sds =zero_one_pop.apply(sd_of_zero_one_population, 'Number of Ones')\n",
        "zero_one_pop = zero_one_pop.with_column('SD', sds)\n",
        "zero_one_pop.show()"
      ],
      "metadata": {
        "colab": {
          "base_uri": "https://localhost:8080/",
          "height": 394
        },
        "id": "HER_ZfABg076",
        "outputId": "546ebd08-5cf3-456f-8e68-8447a50b2f2b"
      },
      "execution_count": null,
      "outputs": [
        {
          "output_type": "display_data",
          "data": {
            "text/plain": [
              "<IPython.core.display.HTML object>"
            ],
            "text/html": [
              "<table border=\"1\" class=\"dataframe\">\n",
              "    <thead>\n",
              "        <tr>\n",
              "            <th>Number of Ones</th> <th>Proportion of Ones</th> <th>SD</th>\n",
              "        </tr>\n",
              "    </thead>\n",
              "    <tbody>\n",
              "        <tr>\n",
              "            <td>0             </td> <td>0                 </td> <td>0       </td>\n",
              "        </tr>\n",
              "        <tr>\n",
              "            <td>1             </td> <td>0.1               </td> <td>0.3     </td>\n",
              "        </tr>\n",
              "        <tr>\n",
              "            <td>2             </td> <td>0.2               </td> <td>0.4     </td>\n",
              "        </tr>\n",
              "        <tr>\n",
              "            <td>3             </td> <td>0.3               </td> <td>0.458258</td>\n",
              "        </tr>\n",
              "        <tr>\n",
              "            <td>4             </td> <td>0.4               </td> <td>0.489898</td>\n",
              "        </tr>\n",
              "        <tr>\n",
              "            <td>5             </td> <td>0.5               </td> <td>0.5     </td>\n",
              "        </tr>\n",
              "        <tr>\n",
              "            <td>6             </td> <td>0.6               </td> <td>0.489898</td>\n",
              "        </tr>\n",
              "        <tr>\n",
              "            <td>7             </td> <td>0.7               </td> <td>0.458258</td>\n",
              "        </tr>\n",
              "        <tr>\n",
              "            <td>8             </td> <td>0.8               </td> <td>0.4     </td>\n",
              "        </tr>\n",
              "        <tr>\n",
              "            <td>9             </td> <td>0.9               </td> <td>0.3     </td>\n",
              "        </tr>\n",
              "        <tr>\n",
              "            <td>10            </td> <td>1                 </td> <td>0       </td>\n",
              "        </tr>\n",
              "    </tbody>\n",
              "</table>"
            ]
          },
          "metadata": {}
        }
      ]
    },
    {
      "cell_type": "code",
      "source": [
        "zero_one_pop.scatter(\"Proportion of Ones\", 'SD')"
      ],
      "metadata": {
        "colab": {
          "base_uri": "https://localhost:8080/",
          "height": 335
        },
        "id": "McJt7CGLjtGm",
        "outputId": "ef8c7f80-9c20-48aa-f03d-b43b4be4fbf4"
      },
      "execution_count": null,
      "outputs": [
        {
          "output_type": "display_data",
          "data": {
            "text/plain": [
              "<Figure size 360x360 with 1 Axes>"
            ],
            "image/png": "[encoded data removed]"
          },
          "metadata": {
            "needs_background": "light"
          }
        }
      ]
    },
    {
      "cell_type": "code",
      "source": [
        "# \"WORST CASE\" 0/1 Population SD\n",
        "#0.5 will be the highest amount of standard deviation and therefore,\n",
        "\n",
        "#sqrt(sample size) = 4 * (SD of 0/1 population) / 0.03\n",
        "#                  = 4 * (0.5)/0.03 will work\n",
        "\n",
        "#sample size = 4444.44\n",
        "#Sample size 4445 will work no matter what the population proportion is."
      ],
      "metadata": {
        "id": "DdJSe6KGkKdL"
      },
      "execution_count": null,
      "outputs": []
    },
    {
      "cell_type": "markdown",
      "source": [
        "** L29 Confidence Interval Width ** \n",
        "\n",
        "Discussion Question\n",
        "How can a sample of 1004 American represent a 260 million population"
      ],
      "metadata": {
        "id": "SIohBavKnnmE"
      }
    },
    {
      "cell_type": "code",
      "source": [
        "2 * 0.5 / (1004**0.5)"
      ],
      "metadata": {
        "colab": {
          "base_uri": "https://localhost:8080/"
        },
        "id": "LdN6J6qrnlar",
        "outputId": "a1774729-ae7e-4614-e513-d5558a4205b3"
      },
      "execution_count": null,
      "outputs": [
        {
          "output_type": "execute_result",
          "data": {
            "text/plain": [
              "0.031559720154890156"
            ]
          },
          "metadata": {},
          "execution_count": 67
        }
      ]
    },
    {
      "cell_type": "code",
      "source": [
        "2*0.5 / (10000**0.5)"
      ],
      "metadata": {
        "colab": {
          "base_uri": "https://localhost:8080/"
        },
        "id": "Y8ITc8LKobtv",
        "outputId": "306dc9ef-b458-4b7e-8ec5-7902b7624659"
      },
      "execution_count": null,
      "outputs": [
        {
          "output_type": "execute_result",
          "data": {
            "text/plain": [
              "0.01"
            ]
          },
          "metadata": {},
          "execution_count": 68
        }
      ]
    },
    {
      "cell_type": "markdown",
      "source": [
        "Simulate the Number of Heads in 100 Tosses"
      ],
      "metadata": {
        "id": "ZtD0gOHHq01x"
      }
    },
    {
      "cell_type": "code",
      "source": [
        "coin = make_array('H', 'T')\n",
        "num_tosses = 100"
      ],
      "metadata": {
        "id": "7WJ1_aGRqp6w"
      },
      "execution_count": null,
      "outputs": []
    },
    {
      "cell_type": "code",
      "source": [
        "def one_simulated_count():\n",
        "  tosses = np.random.choice(coin, num_tosses)\n",
        "  return sum(tosses == 'H')\n",
        "  "
      ],
      "metadata": {
        "id": "LVv1hLnHq--i"
      },
      "execution_count": null,
      "outputs": []
    },
    {
      "cell_type": "code",
      "source": [
        "num_repetitions = 10000\n",
        "counts = make_array()\n",
        "for i in np.arange(num_repetitions):\n",
        "  counts = np.append(counts, one_simulated_count())"
      ],
      "metadata": {
        "id": "Wle95LfsrWrE"
      },
      "execution_count": null,
      "outputs": []
    },
    {
      "cell_type": "code",
      "source": [
        "Table().with_columns(\n",
        "    'Number of Heads', counts\n",
        ").hist(bins=np.arange(29.5, 70.6, 1))"
      ],
      "metadata": {
        "colab": {
          "base_uri": "https://localhost:8080/",
          "height": 281
        },
        "id": "ZaU_y4BJrmvM",
        "outputId": "11152cea-0593-4156-8677-fa0f9ce4be3c"
      },
      "execution_count": null,
      "outputs": [
        {
          "output_type": "display_data",
          "data": {
            "text/plain": [
              "<Figure size 432x288 with 1 Axes>"
            ],
            "image/png": "[encoded data removed]"
          },
          "metadata": {
            "needs_background": "light"
          }
        }
      ]
    },
    {
      "cell_type": "code",
      "source": [
        "#WOrst Case Scenario\n",
        "#SD is AT MOST 0.5\n",
        "(2 * 0.5 / 0.025)**2"
      ],
      "metadata": {
        "colab": {
          "base_uri": "https://localhost:8080/"
        },
        "id": "Mdn1Z8izr1nE",
        "outputId": "e281fc5d-0cd8-4c6c-9c80-d1b76edfaade"
      },
      "execution_count": null,
      "outputs": [
        {
          "output_type": "execute_result",
          "data": {
            "text/plain": [
              "1600.0"
            ]
          },
          "metadata": {},
          "execution_count": 75
        }
      ]
    },
    {
      "cell_type": "code",
      "source": [
        ""
      ],
      "metadata": {
        "id": "1ZG92XmstAiZ"
      },
      "execution_count": null,
      "outputs": []
    }
  ]
}