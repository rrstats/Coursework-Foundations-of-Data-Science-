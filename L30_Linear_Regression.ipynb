{
  "cells": [
    {
      "cell_type": "markdown",
      "metadata": {
        "id": "view-in-github",
        "colab_type": "text"
      },
      "source": [
        "<a href=\"https://colab.research.google.com/github/rrstats/Coursework-Foundations-of-Data-Science-/blob/main/L30_Linear_Regression.ipynb\" target=\"_parent\"><img src=\"https://colab.research.google.com/assets/colab-badge.svg\" alt=\"Open In Colab\"/></a>"
      ]
    },
    {
      "cell_type": "code",
      "execution_count": null,
      "metadata": {
        "colab": {
          "background_save": true
        },
        "id": "KpFc4MG8N7yE"
      },
      "outputs": [],
      "source": [
        "import matplotlib\n",
        "from datascience import *\n",
        "%matplotlib inline\n",
        "import numpy as np\n",
        "import matplotlib.pyplot as plots\n",
        "plt.style.use('fivethirtyeight')\n"
      ]
    },
    {
      "cell_type": "code",
      "execution_count": null,
      "metadata": {
        "id": "-PFUKJ5gckDJ"
      },
      "outputs": [],
      "source": [
        "# Some functions for plotting. You don't have to understand how any\n",
        "# of the functions in this cell work, since they use things we \n",
        "# haven't learned about in Data 8.\n",
        "\n",
        "\n",
        "def resize_window(lim=3.5):\n",
        "    plots.xlim(-lim, lim)\n",
        "    plots.ylim(-lim, lim)\n",
        "    \n",
        "def draw_line(slope=0, intercept=0, x=make_array(-4, 4), color='#1e90ff'):\n",
        "    y = x*slope + intercept\n",
        "    plots.plot(x, y, color=color, lw=3)\n",
        "    \n",
        "def draw_vertical_line(x_position, color='black'):\n",
        "    x = make_array(x_position, x_position)\n",
        "    y = make_array(-4, 4)\n",
        "    plots.plot(x, y, color=color, lw=3)\n",
        "    \n",
        "def make_correlated_data(r):\n",
        "    x = np.random.normal(0, 1, 1000)\n",
        "    z = np.random.normal(0, 1, 1000)\n",
        "    y = r*x + (np.sqrt(1-r**2))*z\n",
        "    return x, y\n",
        "\n",
        "def r_scatter(r):\n",
        "    \"\"\"Generate a scatter plot with a correlation approximately r\"\"\"\n",
        "    plots.figure(figsize=(5,5))\n",
        "    x, y = make_correlated_data(r)\n",
        "    plots.scatter(x, y, color='darkblue', s=20)\n",
        "    plots.xlim(-4, 4)\n",
        "    plots.ylim(-4, 4)\n",
        "    \n",
        "def r_table(r):\n",
        "    \"\"\"\n",
        "    Generate a table of 1000 data points with a correlation approximately r\n",
        "    \"\"\"\n",
        "    np.random.seed(8)\n",
        "    x, y = make_correlated_data(r)\n",
        "    return Table().with_columns('x', x, 'y', y)"
      ]
    },
    {
      "cell_type": "code",
      "execution_count": null,
      "metadata": {
        "id": "XXHJGRFrOYxJ"
      },
      "outputs": [],
      "source": [
        "# Some functions for plotting. You don't have to understand how any\n",
        "# of the functions in this cell work, since they use things we \n",
        "# haven't learned about in Data 8.\n",
        "\n",
        "\n",
        "def resize_window(lim=3.5):\n",
        "    plots.xlim(-lim, lim)\n",
        "    plots.ylim(-lim, lim)\n",
        "    \n",
        "def draw_line(slope=0, intercept=0, x=make_array(-4, 4), color='#1e90ff'):\n",
        "    y = x*slope + intercept\n",
        "    plots.plot(x, y, color=color, lw=3)\n",
        "    \n",
        "def draw_vertical_line(x_position, color='black'):\n",
        "    x = make_array(x_position, x_position)\n",
        "    y = make_array(-4, 4)\n",
        "    plots.plot(x, y, color=color, lw=3)\n",
        "    \n",
        "def make_correlated_data(r):\n",
        "    x = np.random.normal(0, 1, 1000)\n",
        "    z = np.random.normal(0, 1, 1000)\n",
        "    y = r*x + (np.sqrt(1-r**2))*z\n",
        "    return x, y\n",
        "\n",
        "def r_scatter(r):\n",
        "    \"\"\"Generate a scatter plot with a correlation approximately r\"\"\"\n",
        "    plots.figure(figsize=(5,5))\n",
        "    x, y = make_correlated_data(r)\n",
        "    plots.scatter(x, y, color='darkblue', s=20)\n",
        "    plots.xlim(-4, 4)\n",
        "    plots.ylim(-4, 4)\n",
        "    \n",
        "def r_table(r):\n",
        "    \"\"\"\n",
        "    Generate a table of 1000 data points with a correlation approximately r\n",
        "    \"\"\"\n",
        "    np.random.seed(8)\n",
        "    x, y = make_correlated_data(r)\n",
        "    return Table().with_columns('x', x, 'y', y)"
      ]
    },
    {
      "cell_type": "markdown",
      "metadata": {
        "id": "WRUDJUOCRGYI"
      },
      "source": [
        "Lecture 30"
      ]
    },
    {
      "cell_type": "code",
      "execution_count": null,
      "metadata": {
        "id": "fkWe7AVzRCP4"
      },
      "outputs": [],
      "source": [
        "def standard_units(x):\n",
        "  #Convert an array of numbers to standard units\n",
        "  return (x - np.average(x)) / np.std(x)"
      ]
    },
    {
      "cell_type": "code",
      "execution_count": null,
      "metadata": {
        "id": "ohKO8ehzRy6l"
      },
      "outputs": [],
      "source": [
        "def correlation(t, x, y):\n",
        "\n",
        "  x_in_standard_units = standard_units(t.column(x))\n",
        "  y_in_standard_units = standard_units(t.column(y))\n",
        "  return np.average(x_in_standard_units*y_in_standard_units)"
      ]
    },
    {
      "cell_type": "markdown",
      "metadata": {
        "id": "joSKnmC9SOs7"
      },
      "source": [
        "**Ecological Correlations**"
      ]
    },
    {
      "cell_type": "code",
      "execution_count": null,
      "metadata": {
        "colab": {
          "base_uri": "https://localhost:8080/",
          "height": 392
        },
        "id": "tRhLxR0iSMZg",
        "outputId": "caab2b0c-7b01-4cff-9bb2-78ea1ab053f7"
      },
      "outputs": [
        {
          "data": {
            "text/html": [
              "<table border=\"1\" class=\"dataframe\">\n",
              "    <thead>\n",
              "        <tr>\n",
              "            <th>State</th> <th>Participation Rate</th> <th>Critical Reading</th> <th>Math</th> <th>Writing</th> <th>Combined</th>\n",
              "        </tr>\n",
              "    </thead>\n",
              "    <tbody>\n",
              "        <tr>\n",
              "            <td>Alabama             </td> <td>6.7               </td> <td>547             </td> <td>538 </td> <td>532    </td> <td>1617    </td>\n",
              "        </tr>\n",
              "        <tr>\n",
              "            <td>Alaska              </td> <td>54.2              </td> <td>507             </td> <td>503 </td> <td>475    </td> <td>1485    </td>\n",
              "        </tr>\n",
              "        <tr>\n",
              "            <td>Arizona             </td> <td>36.4              </td> <td>522             </td> <td>525 </td> <td>500    </td> <td>1547    </td>\n",
              "        </tr>\n",
              "        <tr>\n",
              "            <td>Arkansas            </td> <td>4.2               </td> <td>573             </td> <td>571 </td> <td>554    </td> <td>1698    </td>\n",
              "        </tr>\n",
              "        <tr>\n",
              "            <td>California          </td> <td>60.3              </td> <td>498             </td> <td>510 </td> <td>496    </td> <td>1504    </td>\n",
              "        </tr>\n",
              "        <tr>\n",
              "            <td>Colorado            </td> <td>14.3              </td> <td>582             </td> <td>586 </td> <td>567    </td> <td>1735    </td>\n",
              "        </tr>\n",
              "        <tr>\n",
              "            <td>Connecticut         </td> <td>88.4              </td> <td>507             </td> <td>510 </td> <td>508    </td> <td>1525    </td>\n",
              "        </tr>\n",
              "        <tr>\n",
              "            <td>Delaware            </td> <td>100               </td> <td>456             </td> <td>459 </td> <td>444    </td> <td>1359    </td>\n",
              "        </tr>\n",
              "        <tr>\n",
              "            <td>District of Columbia</td> <td>100               </td> <td>440             </td> <td>438 </td> <td>431    </td> <td>1309    </td>\n",
              "        </tr>\n",
              "        <tr>\n",
              "            <td>Florida             </td> <td>72.2              </td> <td>491             </td> <td>485 </td> <td>472    </td> <td>1448    </td>\n",
              "        </tr>\n",
              "    </tbody>\n",
              "</table>\n",
              "<p>... (41 rows omitted)</p>"
            ],
            "text/plain": [
              "State                | Participation Rate | Critical Reading | Math | Writing | Combined\n",
              "Alabama              | 6.7                | 547              | 538  | 532     | 1617\n",
              "Alaska               | 54.2               | 507              | 503  | 475     | 1485\n",
              "Arizona              | 36.4               | 522              | 525  | 500     | 1547\n",
              "Arkansas             | 4.2                | 573              | 571  | 554     | 1698\n",
              "California           | 60.3               | 498              | 510  | 496     | 1504\n",
              "Colorado             | 14.3               | 582              | 586  | 567     | 1735\n",
              "Connecticut          | 88.4               | 507              | 510  | 508     | 1525\n",
              "Delaware             | 100                | 456              | 459  | 444     | 1359\n",
              "District of Columbia | 100                | 440              | 438  | 431     | 1309\n",
              "Florida              | 72.2               | 491              | 485  | 472     | 1448\n",
              "... (41 rows omitted)"
            ]
          },
          "execution_count": 67,
          "metadata": {},
          "output_type": "execute_result"
        }
      ],
      "source": [
        "sat2014 = Table.read_table('sat2014.csv').sort('State')\n",
        "sat2014"
      ]
    },
    {
      "cell_type": "markdown",
      "metadata": {
        "id": "-RdXsxMVSyyF"
      },
      "source": [
        "Most Important Column\n",
        "\n",
        "PARTICIPATION RATE"
      ]
    },
    {
      "cell_type": "code",
      "execution_count": null,
      "metadata": {
        "colab": {
          "base_uri": "https://localhost:8080/",
          "height": 359
        },
        "id": "subkdF18TJMy",
        "outputId": "d6128cff-6719-4bc1-d0f4-49dbdcc2067f"
      },
      "outputs": [
        {
          "data": {
            "image/png": "[encoded data removed]",
            "text/plain": [
              "<Figure size 360x360 with 1 Axes>"
            ]
          },
          "metadata": {},
          "output_type": "display_data"
        }
      ],
      "source": [
        "sat2014.scatter('Critical Reading', 'Math') "
      ]
    },
    {
      "cell_type": "markdown",
      "metadata": {
        "id": "zFE0DTjoQ8_U"
      },
      "source": [
        "Ridiculously Linear"
      ]
    },
    {
      "cell_type": "code",
      "execution_count": null,
      "metadata": {
        "colab": {
          "base_uri": "https://localhost:8080/"
        },
        "id": "Vea-wHmuTQo8",
        "outputId": "bfb76f31-c7be-4aee-c4bf-aa3e7e7122d5"
      },
      "outputs": [
        {
          "data": {
            "text/plain": [
              "0.9847558411067434"
            ]
          },
          "execution_count": 69,
          "metadata": {},
          "output_type": "execute_result"
        }
      ],
      "source": [
        "correlation(sat2014, 'Critical Reading', 'Math')"
      ]
    },
    {
      "cell_type": "markdown",
      "metadata": {
        "id": "xIA7ZCUORV8M"
      },
      "source": [
        "Do states take the SAT?\n"
      ]
    },
    {
      "cell_type": "code",
      "execution_count": null,
      "metadata": {
        "id": "LmZ0v76nTZls"
      },
      "outputs": [],
      "source": [
        "def rate_code(x):\n",
        "  if x<= 25:\n",
        "    return 'low'\n",
        "  elif x<= 50:\n",
        "    return 'low-moderate'\n",
        "  elif x<=75:\n",
        "    return 'moderate-high'\n",
        "  else:\n",
        "    return 'high'"
      ]
    },
    {
      "cell_type": "code",
      "execution_count": null,
      "metadata": {
        "id": "rxoEmIlDTJRF"
      },
      "outputs": [],
      "source": [
        "rate_codes = sat2014.apply(rate_code, 'Participation Rate')"
      ]
    },
    {
      "cell_type": "code",
      "execution_count": null,
      "metadata": {
        "colab": {
          "base_uri": "https://localhost:8080/",
          "height": 392
        },
        "id": "ygWslxbUTQVn",
        "outputId": "098c2476-149a-4ba6-80e1-20c4573ef69a"
      },
      "outputs": [
        {
          "data": {
            "text/html": [
              "<table border=\"1\" class=\"dataframe\">\n",
              "    <thead>\n",
              "        <tr>\n",
              "            <th>State</th> <th>Participation Rate</th> <th>Critical Reading</th> <th>Math</th> <th>Writing</th> <th>Combined</th> <th>Rate Code</th>\n",
              "        </tr>\n",
              "    </thead>\n",
              "    <tbody>\n",
              "        <tr>\n",
              "            <td>Alabama             </td> <td>6.7               </td> <td>547             </td> <td>538 </td> <td>532    </td> <td>1617    </td> <td>low          </td>\n",
              "        </tr>\n",
              "        <tr>\n",
              "            <td>Alaska              </td> <td>54.2              </td> <td>507             </td> <td>503 </td> <td>475    </td> <td>1485    </td> <td>moderate-high</td>\n",
              "        </tr>\n",
              "        <tr>\n",
              "            <td>Arizona             </td> <td>36.4              </td> <td>522             </td> <td>525 </td> <td>500    </td> <td>1547    </td> <td>low-moderate </td>\n",
              "        </tr>\n",
              "        <tr>\n",
              "            <td>Arkansas            </td> <td>4.2               </td> <td>573             </td> <td>571 </td> <td>554    </td> <td>1698    </td> <td>low          </td>\n",
              "        </tr>\n",
              "        <tr>\n",
              "            <td>California          </td> <td>60.3              </td> <td>498             </td> <td>510 </td> <td>496    </td> <td>1504    </td> <td>moderate-high</td>\n",
              "        </tr>\n",
              "        <tr>\n",
              "            <td>Colorado            </td> <td>14.3              </td> <td>582             </td> <td>586 </td> <td>567    </td> <td>1735    </td> <td>low          </td>\n",
              "        </tr>\n",
              "        <tr>\n",
              "            <td>Connecticut         </td> <td>88.4              </td> <td>507             </td> <td>510 </td> <td>508    </td> <td>1525    </td> <td>high         </td>\n",
              "        </tr>\n",
              "        <tr>\n",
              "            <td>Delaware            </td> <td>100               </td> <td>456             </td> <td>459 </td> <td>444    </td> <td>1359    </td> <td>high         </td>\n",
              "        </tr>\n",
              "        <tr>\n",
              "            <td>District of Columbia</td> <td>100               </td> <td>440             </td> <td>438 </td> <td>431    </td> <td>1309    </td> <td>high         </td>\n",
              "        </tr>\n",
              "        <tr>\n",
              "            <td>Florida             </td> <td>72.2              </td> <td>491             </td> <td>485 </td> <td>472    </td> <td>1448    </td> <td>moderate-high</td>\n",
              "        </tr>\n",
              "    </tbody>\n",
              "</table>\n",
              "<p>... (41 rows omitted)</p>"
            ],
            "text/plain": [
              "State                | Participation Rate | Critical Reading | Math | Writing | Combined | Rate Code\n",
              "Alabama              | 6.7                | 547              | 538  | 532     | 1617     | low\n",
              "Alaska               | 54.2               | 507              | 503  | 475     | 1485     | moderate-high\n",
              "Arizona              | 36.4               | 522              | 525  | 500     | 1547     | low-moderate\n",
              "Arkansas             | 4.2                | 573              | 571  | 554     | 1698     | low\n",
              "California           | 60.3               | 498              | 510  | 496     | 1504     | moderate-high\n",
              "Colorado             | 14.3               | 582              | 586  | 567     | 1735     | low\n",
              "Connecticut          | 88.4               | 507              | 510  | 508     | 1525     | high\n",
              "Delaware             | 100                | 456              | 459  | 444     | 1359     | high\n",
              "District of Columbia | 100                | 440              | 438  | 431     | 1309     | high\n",
              "Florida              | 72.2               | 491              | 485  | 472     | 1448     | moderate-high\n",
              "... (41 rows omitted)"
            ]
          },
          "execution_count": 82,
          "metadata": {},
          "output_type": "execute_result"
        }
      ],
      "source": [
        "sat2014 = sat2014.with_columns('Rate Code', rate_codes)\n",
        "sat2014"
      ]
    },
    {
      "cell_type": "code",
      "execution_count": null,
      "metadata": {
        "colab": {
          "base_uri": "https://localhost:8080/",
          "height": 359
        },
        "id": "Y08YwOIKTZnS",
        "outputId": "0c4ea6a0-3ba0-4736-ef5d-a682b5448a26"
      },
      "outputs": [
        {
          "data": {
            "image/png": "[encoded data removed]",
            "text/plain": [
              "<Figure size 360x360 with 1 Axes>"
            ]
          },
          "metadata": {},
          "output_type": "display_data"
        }
      ],
      "source": [
        "sat2014.scatter('Critical Reading', 'Math', color='olive', s=30) "
      ]
    },
    {
      "cell_type": "code",
      "execution_count": null,
      "metadata": {
        "colab": {
          "base_uri": "https://localhost:8080/",
          "height": 359
        },
        "id": "bB7yvV7FT6EJ",
        "outputId": "50f00036-d7ed-4429-9662-11c1b7c125ce"
      },
      "outputs": [
        {
          "data": {
            "image/png": "[encoded data removed]",
            "text/plain": [
              "<Figure size 360x360 with 1 Axes>"
            ]
          },
          "metadata": {},
          "output_type": "display_data"
        }
      ],
      "source": [
        "sat2014.scatter('Critical Reading', 'Math', colors='Rate Code') "
      ]
    },
    {
      "cell_type": "code",
      "execution_count": null,
      "metadata": {
        "colab": {
          "base_uri": "https://localhost:8080/",
          "height": 392
        },
        "id": "tEz4dtTQVww8",
        "outputId": "210e8bce-7ee7-4296-8da4-8cf207d95e7c"
      },
      "outputs": [
        {
          "data": {
            "text/html": [
              "<table border=\"1\" class=\"dataframe\">\n",
              "    <thead>\n",
              "        <tr>\n",
              "            <th>State</th> <th>Participation Rate</th> <th>Critical Reading</th> <th>Math</th> <th>Writing</th> <th>Combined</th> <th>Rate Code</th>\n",
              "        </tr>\n",
              "    </thead>\n",
              "    <tbody>\n",
              "        <tr>\n",
              "            <td>Alabama  </td> <td>6.7               </td> <td>547             </td> <td>538 </td> <td>532    </td> <td>1617    </td> <td>low      </td>\n",
              "        </tr>\n",
              "        <tr>\n",
              "            <td>Arkansas </td> <td>4.2               </td> <td>573             </td> <td>571 </td> <td>554    </td> <td>1698    </td> <td>low      </td>\n",
              "        </tr>\n",
              "        <tr>\n",
              "            <td>Colorado </td> <td>14.3              </td> <td>582             </td> <td>586 </td> <td>567    </td> <td>1735    </td> <td>low      </td>\n",
              "        </tr>\n",
              "        <tr>\n",
              "            <td>Illinois </td> <td>4.6               </td> <td>599             </td> <td>616 </td> <td>587    </td> <td>1802    </td> <td>low      </td>\n",
              "        </tr>\n",
              "        <tr>\n",
              "            <td>Iowa     </td> <td>3.1               </td> <td>605             </td> <td>611 </td> <td>578    </td> <td>1794    </td> <td>low      </td>\n",
              "        </tr>\n",
              "        <tr>\n",
              "            <td>Kansas   </td> <td>5.3               </td> <td>591             </td> <td>596 </td> <td>566    </td> <td>1753    </td> <td>low      </td>\n",
              "        </tr>\n",
              "        <tr>\n",
              "            <td>Kentucky </td> <td>4.6               </td> <td>589             </td> <td>585 </td> <td>572    </td> <td>1746    </td> <td>low      </td>\n",
              "        </tr>\n",
              "        <tr>\n",
              "            <td>Louisiana</td> <td>4.6               </td> <td>561             </td> <td>556 </td> <td>550    </td> <td>1667    </td> <td>low      </td>\n",
              "        </tr>\n",
              "        <tr>\n",
              "            <td>Michigan </td> <td>3.8               </td> <td>593             </td> <td>610 </td> <td>581    </td> <td>1784    </td> <td>low      </td>\n",
              "        </tr>\n",
              "        <tr>\n",
              "            <td>Minnesota</td> <td>5.9               </td> <td>598             </td> <td>610 </td> <td>578    </td> <td>1786    </td> <td>low      </td>\n",
              "        </tr>\n",
              "    </tbody>\n",
              "</table>\n",
              "<p>... (14 rows omitted)</p>"
            ],
            "text/plain": [
              "State     | Participation Rate | Critical Reading | Math | Writing | Combined | Rate Code\n",
              "Alabama   | 6.7                | 547              | 538  | 532     | 1617     | low\n",
              "Arkansas  | 4.2                | 573              | 571  | 554     | 1698     | low\n",
              "Colorado  | 14.3               | 582              | 586  | 567     | 1735     | low\n",
              "Illinois  | 4.6                | 599              | 616  | 587     | 1802     | low\n",
              "Iowa      | 3.1                | 605              | 611  | 578     | 1794     | low\n",
              "Kansas    | 5.3                | 591              | 596  | 566     | 1753     | low\n",
              "Kentucky  | 4.6                | 589              | 585  | 572     | 1746     | low\n",
              "Louisiana | 4.6                | 561              | 556  | 550     | 1667     | low\n",
              "Michigan  | 3.8                | 593              | 610  | 581     | 1784     | low\n",
              "Minnesota | 5.9                | 598              | 610  | 578     | 1786     | low\n",
              "... (14 rows omitted)"
            ]
          },
          "execution_count": 85,
          "metadata": {},
          "output_type": "execute_result"
        }
      ],
      "source": [
        "sat2014.where('Rate Code', 'low')"
      ]
    },
    {
      "cell_type": "code",
      "execution_count": null,
      "metadata": {
        "colab": {
          "base_uri": "https://localhost:8080/",
          "height": 363
        },
        "id": "D8foX3mxX6Ig",
        "outputId": "3549dd93-bbc3-44f8-a4e5-52bed907f59a"
      },
      "outputs": [
        {
          "data": {
            "text/html": [
              "<table border=\"1\" class=\"dataframe\">\n",
              "    <thead>\n",
              "        <tr>\n",
              "            <th>State</th> <th>Participation Rate</th> <th>Critical Reading</th> <th>Math</th> <th>Writing</th> <th>Combined</th> <th>Rate Code</th>\n",
              "        </tr>\n",
              "    </thead>\n",
              "    <tbody>\n",
              "        <tr>\n",
              "            <td>Connecticut         </td> <td>88.4              </td> <td>507             </td> <td>510 </td> <td>508    </td> <td>1525    </td> <td>high     </td>\n",
              "        </tr>\n",
              "        <tr>\n",
              "            <td>Delaware            </td> <td>100               </td> <td>456             </td> <td>459 </td> <td>444    </td> <td>1359    </td> <td>high     </td>\n",
              "        </tr>\n",
              "        <tr>\n",
              "            <td>District of Columbia</td> <td>100               </td> <td>440             </td> <td>438 </td> <td>431    </td> <td>1309    </td> <td>high     </td>\n",
              "        </tr>\n",
              "        <tr>\n",
              "            <td>Georgia             </td> <td>77.2              </td> <td>488             </td> <td>485 </td> <td>472    </td> <td>1445    </td> <td>high     </td>\n",
              "        </tr>\n",
              "        <tr>\n",
              "            <td>Idaho               </td> <td>100               </td> <td>458             </td> <td>456 </td> <td>450    </td> <td>1364    </td> <td>high     </td>\n",
              "        </tr>\n",
              "        <tr>\n",
              "            <td>Maine               </td> <td>95.6              </td> <td>467             </td> <td>471 </td> <td>449    </td> <td>1387    </td> <td>high     </td>\n",
              "        </tr>\n",
              "        <tr>\n",
              "            <td>Maryland            </td> <td>78.5              </td> <td>492             </td> <td>495 </td> <td>481    </td> <td>1468    </td> <td>high     </td>\n",
              "        </tr>\n",
              "        <tr>\n",
              "            <td>Massachusetts       </td> <td>84.1              </td> <td>516             </td> <td>531 </td> <td>509    </td> <td>1556    </td> <td>high     </td>\n",
              "        </tr>\n",
              "        <tr>\n",
              "            <td>New Jersey          </td> <td>79.3              </td> <td>501             </td> <td>523 </td> <td>502    </td> <td>1526    </td> <td>high     </td>\n",
              "        </tr>\n",
              "        <tr>\n",
              "            <td>New York            </td> <td>76.3              </td> <td>488             </td> <td>502 </td> <td>478    </td> <td>1468    </td> <td>high     </td>\n",
              "        </tr>\n",
              "    </tbody>\n",
              "</table>"
            ],
            "text/plain": [
              "<IPython.core.display.HTML object>"
            ]
          },
          "metadata": {},
          "output_type": "display_data"
        }
      ],
      "source": [
        "sat2014.where('Rate Code', 'high').show()"
      ]
    },
    {
      "cell_type": "markdown",
      "metadata": {
        "id": "3kBPYAMOaDmh"
      },
      "source": [
        "## Nearest Neighbour Regression\n",
        "A method for prediction\n",
        "\n",
        "\n",
        "*   Group each x with similar (nearby) x values\n",
        "*   Average the corresponding y values for each group\n",
        "\n",
        "For each x value, the prediction is the average of the y values in its nearby group\n",
        "\n",
        "The graph of these predictions is the \"graph of averages\"\n",
        "\n",
        "If the association between x & y is linear, then points in the graph of averages tend to fall on a line\n",
        "\n",
        "\n"
      ]
    },
    {
      "cell_type": "code",
      "execution_count": null,
      "metadata": {
        "id": "PcXGyfwFYgQJ"
      },
      "outputs": [],
      "source": [
        ""
      ]
    },
    {
      "cell_type": "markdown",
      "metadata": {
        "id": "k3W7DRhgbm2w"
      },
      "source": [
        "### Prediction Lines"
      ]
    },
    {
      "cell_type": "code",
      "execution_count": null,
      "metadata": {
        "colab": {
          "base_uri": "https://localhost:8080/",
          "height": 173
        },
        "id": "v2YprpT4bo76",
        "outputId": "1889edfb-4c99-4481-b790-c29bb1a725b6"
      },
      "outputs": [
        {
          "data": {
            "text/html": [
              "<table border=\"1\" class=\"dataframe\">\n",
              "    <thead>\n",
              "        <tr>\n",
              "            <th>x</th> <th>y</th>\n",
              "        </tr>\n",
              "    </thead>\n",
              "    <tbody>\n",
              "        <tr>\n",
              "            <td>0.0912047</td> <td>-0.0680119</td>\n",
              "        </tr>\n",
              "        <tr>\n",
              "            <td>1.09128  </td> <td>1.04391   </td>\n",
              "        </tr>\n",
              "        <tr>\n",
              "            <td>-1.94697 </td> <td>-1.88316  </td>\n",
              "        </tr>\n",
              "    </tbody>\n",
              "</table>\n",
              "<p>... (997 rows omitted)</p>"
            ],
            "text/plain": [
              "<IPython.core.display.HTML object>"
            ]
          },
          "metadata": {},
          "output_type": "display_data"
        }
      ],
      "source": [
        "#r=0.99\n",
        "\n",
        "example = r_table(0.99)\n",
        "example.show(3)"
      ]
    },
    {
      "cell_type": "code",
      "execution_count": null,
      "metadata": {
        "colab": {
          "base_uri": "https://localhost:8080/",
          "height": 359
        },
        "id": "ToVACFJebu51",
        "outputId": "94ddd534-7d10-47b5-d3bd-0c17437700ac"
      },
      "outputs": [
        {
          "data": {
            "image/png": "[encoded data removed]",
            "text/plain": [
              "<Figure size 360x360 with 1 Axes>"
            ]
          },
          "metadata": {},
          "output_type": "display_data"
        }
      ],
      "source": [
        "example.scatter('x', 'y')\n",
        "resize_window()"
      ]
    },
    {
      "cell_type": "code",
      "execution_count": null,
      "metadata": {
        "id": "3RkXZDgEc5B-"
      },
      "outputs": [],
      "source": [
        "def nn_prediction_example(x_val):\n",
        "  neighbors = example.where('x', are.between(x_val - 0.25, x_val + .25))\n",
        "  return np.mean(neighbors.column('y'))"
      ]
    },
    {
      "cell_type": "code",
      "execution_count": null,
      "metadata": {
        "colab": {
          "base_uri": "https://localhost:8080/"
        },
        "id": "lzlqwlq4dVEW",
        "outputId": "0a0fa417-6f4d-4b72-d7de-3814842265e6"
      },
      "outputs": [
        {
          "data": {
            "text/plain": [
              "-2.41472076758669"
            ]
          },
          "execution_count": 99,
          "metadata": {},
          "output_type": "execute_result"
        }
      ],
      "source": [
        "nn_prediction_example(-2.25)"
      ]
    },
    {
      "cell_type": "code",
      "execution_count": null,
      "metadata": {
        "id": "23xzxkGMdgs_"
      },
      "outputs": [],
      "source": [
        "example=example.with_column"
      ]
    }
  ],
  "metadata": {
    "colab": {
      "name": "L30 Linear Regression.ipynb",
      "provenance": [],
      "authorship_tag": "ABX9TyPYlrUyxZfNVa9A/3xN2EI6",
      "include_colab_link": true
    },
    "kernelspec": {
      "display_name": "Python 3",
      "name": "python3"
    },
    "language_info": {
      "name": "python"
    }
  },
  "nbformat": 4,
  "nbformat_minor": 0
}