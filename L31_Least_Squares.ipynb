{
  "nbformat": 4,
  "nbformat_minor": 0,
  "metadata": {
    "colab": {
      "name": "L31 Least Squares.ipynb",
      "provenance": [],
      "authorship_tag": "ABX9TyMUJPMZl6I8QEDnca29Zq24",
      "include_colab_link": true
    },
    "kernelspec": {
      "name": "python3",
      "display_name": "Python 3"
    },
    "language_info": {
      "name": "python"
    }
  },
  "cells": [
    {
      "cell_type": "markdown",
      "metadata": {
        "id": "view-in-github",
        "colab_type": "text"
      },
      "source": [
        "<a href=\"https://colab.research.google.com/github/rrstats/Coursework-Foundations-of-Data-Science-/blob/main/L31_Least_Squares.ipynb\" target=\"_parent\"><img src=\"https://colab.research.google.com/assets/colab-badge.svg\" alt=\"Open In Colab\"/></a>"
      ]
    },
    {
      "cell_type": "code",
      "execution_count": null,
      "metadata": {
        "id": "M894si2WR3za"
      },
      "outputs": [],
      "source": [
        "import matplotlib\n",
        "from datascience import *\n",
        "%matplotlib inline\n",
        "import numpy as np\n",
        "import matplotlib.pyplot as plt\n",
        "plt.style.use('fivethirtyeight')\n"
      ]
    },
    {
      "cell_type": "code",
      "source": [
        "# Some functions for plotting. You don't have to understand how any\n",
        "# of the functions in this cell work, since they use things we \n",
        "# haven't learned about in Data 8.\n",
        "\n",
        "\n",
        "def resize_window(lim=3.5):\n",
        "    plots.xlim(-lim, lim)\n",
        "    plots.ylim(-lim, lim)\n",
        "    \n",
        "def draw_line(slope=0, intercept=0, x=make_array(-4, 4), color='#1e90ff'):\n",
        "    y = x*slope + intercept\n",
        "    plots.plot(x, y, color=color, lw=3)\n",
        "    \n",
        "def draw_vertical_line(x_position, color='black'):\n",
        "    x = make_array(x_position, x_position)\n",
        "    y = make_array(-4, 4)\n",
        "    plots.plot(x, y, color=color, lw=3)\n",
        "    \n",
        "def make_correlated_data(r):\n",
        "    x = np.random.normal(0, 1, 1000)\n",
        "    z = np.random.normal(0, 1, 1000)\n",
        "    y = r*x + (np.sqrt(1-r**2))*z\n",
        "    return x, y\n",
        "\n",
        "def r_scatter(r):\n",
        "    \"\"\"Generate a scatter plot with a correlation approximately r\"\"\"\n",
        "    plots.figure(figsize=(5,5))\n",
        "    x, y = make_correlated_data(r)\n",
        "    plots.scatter(x, y, color='darkblue', s=20)\n",
        "    plots.xlim(-4, 4)\n",
        "    plots.ylim(-4, 4)\n",
        "    \n",
        "def r_table(r):\n",
        "    \"\"\"\n",
        "    Generate a table of 1000 data points with a correlation approximately r\n",
        "    \"\"\"\n",
        "    np.random.seed(8)\n",
        "    x, y = make_correlated_data(r)\n",
        "    return Table().with_columns('x', x, 'y', y)"
      ],
      "metadata": {
        "id": "8axrzAMLSFwA"
      },
      "execution_count": null,
      "outputs": []
    },
    {
      "cell_type": "code",
      "source": [
        "# x = (in standard units)\n",
        "(90 - 70)/10"
      ],
      "metadata": {
        "id": "8nzIQXnLSbcG",
        "colab": {
          "base_uri": "https://localhost:8080/"
        },
        "outputId": "4bb15f57-0fc2-410e-c2e6-feb4788c3390"
      },
      "execution_count": null,
      "outputs": [
        {
          "output_type": "execute_result",
          "data": {
            "text/plain": [
              "2.0"
            ]
          },
          "metadata": {},
          "execution_count": 9
        }
      ]
    },
    {
      "cell_type": "code",
      "source": [
        "#predicted final score in standard units\n",
        "\n",
        "0.75 * 2 "
      ],
      "metadata": {
        "colab": {
          "base_uri": "https://localhost:8080/"
        },
        "id": "uRrvWOtAnXDv",
        "outputId": "1c6b5541-5e71-4449-b9c4-2e205bb754c4"
      },
      "execution_count": null,
      "outputs": [
        {
          "output_type": "execute_result",
          "data": {
            "text/plain": [
              "1.5"
            ]
          },
          "metadata": {},
          "execution_count": 11
        }
      ]
    },
    {
      "cell_type": "code",
      "source": [
        "#predicted final score\n",
        "\n",
        "y = 1.5 * 12 + 50\n",
        "y"
      ],
      "metadata": {
        "colab": {
          "base_uri": "https://localhost:8080/"
        },
        "id": "t3_6DmP3nbC6",
        "outputId": "f55cb705-6127-455f-e265-bd322ffc5f0e"
      },
      "execution_count": null,
      "outputs": [
        {
          "output_type": "execute_result",
          "data": {
            "text/plain": [
              "68.0"
            ]
          },
          "metadata": {},
          "execution_count": 13
        }
      ]
    },
    {
      "cell_type": "code",
      "source": [
        "(0.75)*(-1)*12 + 50 "
      ],
      "metadata": {
        "colab": {
          "base_uri": "https://localhost:8080/"
        },
        "id": "JILumnHOnoHl",
        "outputId": "ab2ac806-e56f-4cea-c69e-92cd6ac0fc6b"
      },
      "execution_count": null,
      "outputs": [
        {
          "output_type": "execute_result",
          "data": {
            "text/plain": [
              "41.0"
            ]
          },
          "metadata": {},
          "execution_count": 15
        }
      ]
    },
    {
      "cell_type": "code",
      "source": [
        "## Discussion Question\n",
        "\n",
        "# Oval scatter diagram\n",
        "\n",
        "# Heights: average 68 inches, SD 3 inches\n",
        "# Weights: average 150 lb, SD 20 lb\n",
        "# r = 0.6\n",
        "\n",
        "# Predict heights based on weight "
      ],
      "metadata": {
        "id": "7eXF5yD8n1Yb"
      },
      "execution_count": null,
      "outputs": []
    },
    {
      "cell_type": "code",
      "source": [
        "#units: inches per pound\n",
        "slope = 0.6 * 3/20\n",
        "slope"
      ],
      "metadata": {
        "colab": {
          "base_uri": "https://localhost:8080/"
        },
        "id": "npOiSwi0orkb",
        "outputId": "2fb57804-ba25-4bc6-c190-6fcd39eef1a1"
      },
      "execution_count": null,
      "outputs": [
        {
          "output_type": "execute_result",
          "data": {
            "text/plain": [
              "0.09"
            ]
          },
          "metadata": {},
          "execution_count": 18
        }
      ]
    },
    {
      "cell_type": "code",
      "source": [
        "intercept = 68 - slope*150\n",
        "intercept"
      ],
      "metadata": {
        "colab": {
          "base_uri": "https://localhost:8080/"
        },
        "id": "b2XmslzLo0On",
        "outputId": "90735bb2-9bfb-40c5-a60d-d1b0c2465b16"
      },
      "execution_count": null,
      "outputs": [
        {
          "output_type": "execute_result",
          "data": {
            "text/plain": [
              "54.5"
            ]
          },
          "metadata": {},
          "execution_count": 19
        }
      ]
    },
    {
      "cell_type": "code",
      "source": [
        "#Equation of regression line\n",
        "#estimated y = 0.09 * weight + 54.5"
      ],
      "metadata": {
        "id": "G690aoFHo8JO"
      },
      "execution_count": null,
      "outputs": []
    },
    {
      "cell_type": "markdown",
      "source": [
        "### Linear Regression: defining the line"
      ],
      "metadata": {
        "id": "DM76fy2pqAc5"
      }
    },
    {
      "cell_type": "code",
      "source": [
        "def standard_units(x):\n",
        "  return(x - np.mean(x)) / np.std(x)\n",
        "\n",
        "def correlation(t, x, y):\n",
        "  x_su = standard_units(t.column(x))\n",
        "  y_su = standard_units(t.column(y))\n",
        "  return np.mean(x_su * y_su)"
      ],
      "metadata": {
        "id": "3bzBI5GXpKn9"
      },
      "execution_count": null,
      "outputs": []
    },
    {
      "cell_type": "code",
      "source": [
        "def slope(t, x, y):\n",
        "  \"Computes the slope of the regression\"\n",
        "  r = correlation(t, x, y)\n",
        "  y_sd = np.std(t.column(y))\n",
        "  x_sd = np.std(t.column(x))\n",
        "  return r * (y_sd/x_sd)\n",
        "\n",
        "def intercept(t, x, y):\n",
        "  \"Computes intercept of the regression line\"\n",
        "  \"Formula: mean of y - mean of x\"\n",
        "  y_mean = np.mean(t.column(y))\n",
        "  x_mean = np.mean(t.column(x))\n",
        "  return y_mean - slope(t, x, y) *x_mean\n"
      ],
      "metadata": {
        "id": "MBacepyLqrak"
      },
      "execution_count": null,
      "outputs": []
    },
    {
      "cell_type": "code",
      "source": [
        "example = r_table(0.5)\n",
        "slope(example, 'x', 'y')"
      ],
      "metadata": {
        "colab": {
          "base_uri": "https://localhost:8080/"
        },
        "id": "V2t6ClQ0r95E",
        "outputId": "bdd39bb2-2293-4786-b3b2-b498145a1d17"
      },
      "execution_count": null,
      "outputs": [
        {
          "output_type": "execute_result",
          "data": {
            "text/plain": [
              "0.5022638281625915"
            ]
          },
          "metadata": {},
          "execution_count": 61
        }
      ]
    },
    {
      "cell_type": "markdown",
      "source": [
        "### Height Data And Regression Line"
      ],
      "metadata": {
        "id": "6varM2kJsqmi"
      }
    },
    {
      "cell_type": "code",
      "source": [
        "family_heights = Table.read_table('family_heights.csv').drop(3)\n",
        "parent_averages = (family_heights.column('father') + family_heights.column('mother'))/2\n",
        "heights = Table().with_columns(\n",
        "    'Parent Average', parent_averages,\n",
        "    'Child', family_heights.column('childHeight')\n",
        ")\n",
        "heights.show(5)"
      ],
      "metadata": {
        "colab": {
          "base_uri": "https://localhost:8080/",
          "height": 236
        },
        "id": "6YNRjUzjsOvE",
        "outputId": "cac83c5e-6e00-4cb9-fc4a-d82eebf849af"
      },
      "execution_count": null,
      "outputs": [
        {
          "output_type": "display_data",
          "data": {
            "text/plain": [
              "<IPython.core.display.HTML object>"
            ],
            "text/html": [
              "<table border=\"1\" class=\"dataframe\">\n",
              "    <thead>\n",
              "        <tr>\n",
              "            <th>Parent Average</th> <th>Child</th>\n",
              "        </tr>\n",
              "    </thead>\n",
              "    <tbody>\n",
              "        <tr>\n",
              "            <td>72.75         </td> <td>73.2 </td>\n",
              "        </tr>\n",
              "        <tr>\n",
              "            <td>72.75         </td> <td>69.2 </td>\n",
              "        </tr>\n",
              "        <tr>\n",
              "            <td>72.75         </td> <td>69   </td>\n",
              "        </tr>\n",
              "        <tr>\n",
              "            <td>72.75         </td> <td>69   </td>\n",
              "        </tr>\n",
              "        <tr>\n",
              "            <td>71            </td> <td>73.5 </td>\n",
              "        </tr>\n",
              "    </tbody>\n",
              "</table>\n",
              "<p>... (929 rows omitted)</p>"
            ]
          },
          "metadata": {}
        }
      ]
    },
    {
      "cell_type": "code",
      "source": [
        "def nn_prediction(h):\n",
        "  \"\"\"Predict the height of a Child \n",
        "  whose parent's have a midparent height of h\n",
        "  \n",
        "  The prediction is the average height of the \n",
        "  children whose midparent height is in the range h \n",
        "  plus minus 0.5 inches\"\"\"\n",
        "\n",
        "  \"\"\"Nearest Neighbour\"\"\"\n",
        "  neighbors = heights.where(\n",
        "      'Parent Average', are.between(h-0.5, h+0.5))\n",
        "  return np.mean(neighbors.column('Child'))"
      ],
      "metadata": {
        "id": "MQLnaNksvB2B"
      },
      "execution_count": null,
      "outputs": []
    },
    {
      "cell_type": "code",
      "source": [
        "heights_with_predictions = heights.with_column(\n",
        "    'Nearest neighbour prediction',\n",
        "    heights.apply(nn_prediction, 'Parent Average')\n",
        ")"
      ],
      "metadata": {
        "id": "oyAgZagsvqF_"
      },
      "execution_count": null,
      "outputs": []
    },
    {
      "cell_type": "code",
      "source": [
        "predicted_slope = slope(heights, 'Parent Average', 'Child')\n",
        "predicted_slope"
      ],
      "metadata": {
        "colab": {
          "base_uri": "https://localhost:8080/"
        },
        "id": "OULx-QARwmxz",
        "outputId": "e46567c2-5fc2-4cb7-d048-7f13f9ed41ed"
      },
      "execution_count": null,
      "outputs": [
        {
          "output_type": "execute_result",
          "data": {
            "text/plain": [
              "0.6644952623525884"
            ]
          },
          "metadata": {},
          "execution_count": 90
        }
      ]
    },
    {
      "cell_type": "code",
      "source": [
        "predicted_intercept = intercept(heights, 'Parent Average', 'Child')\n",
        "predicted_intercept"
      ],
      "metadata": {
        "colab": {
          "base_uri": "https://localhost:8080/"
        },
        "id": "n0e9f7n9xLWf",
        "outputId": "2f0d143c-0475-4ae5-9f28-deff985a2609"
      },
      "execution_count": null,
      "outputs": [
        {
          "output_type": "execute_result",
          "data": {
            "text/plain": [
              "22.461839955758798"
            ]
          },
          "metadata": {},
          "execution_count": 91
        }
      ]
    },
    {
      "cell_type": "markdown",
      "source": [
        "#### That gives us a linear regression model for predicting the height of the child from the height of the parents"
      ],
      "metadata": {
        "id": "l2dLGWY8zR7j"
      }
    },
    {
      "cell_type": "code",
      "source": [
        "heights.take(100)"
      ],
      "metadata": {
        "colab": {
          "base_uri": "https://localhost:8080/",
          "height": 81
        },
        "id": "eIeH0RxIxV93",
        "outputId": "fee19b89-82f9-4c88-c670-d0d29e511dbd"
      },
      "execution_count": null,
      "outputs": [
        {
          "output_type": "execute_result",
          "data": {
            "text/plain": [
              "Parent Average | Child\n",
              "67.5           | 73"
            ],
            "text/html": [
              "<table border=\"1\" class=\"dataframe\">\n",
              "    <thead>\n",
              "        <tr>\n",
              "            <th>Parent Average</th> <th>Child</th>\n",
              "        </tr>\n",
              "    </thead>\n",
              "    <tbody>\n",
              "        <tr>\n",
              "            <td>67.5          </td> <td>73   </td>\n",
              "        </tr>\n",
              "    </tbody>\n",
              "</table>"
            ]
          },
          "metadata": {},
          "execution_count": 92
        }
      ]
    },
    {
      "cell_type": "code",
      "source": [
        "nn_prediction(67.5)"
      ],
      "metadata": {
        "colab": {
          "base_uri": "https://localhost:8080/"
        },
        "id": "dVcecKsPzLqp",
        "outputId": "d7e15930-0f43-43bd-b331-c3eb9f1bdc51"
      },
      "execution_count": null,
      "outputs": [
        {
          "output_type": "execute_result",
          "data": {
            "text/plain": [
              "67.46184210526316"
            ]
          },
          "metadata": {},
          "execution_count": 93
        }
      ]
    },
    {
      "cell_type": "code",
      "source": [
        "predicted_intercept + predicted_slope*67.5"
      ],
      "metadata": {
        "colab": {
          "base_uri": "https://localhost:8080/"
        },
        "id": "kysVVlQKziuX",
        "outputId": "a6aedc5a-e51b-40a9-c675-c0dfbb831f10"
      },
      "execution_count": null,
      "outputs": [
        {
          "output_type": "execute_result",
          "data": {
            "text/plain": [
              "67.31527016455851"
            ]
          },
          "metadata": {},
          "execution_count": 94
        }
      ]
    },
    {
      "cell_type": "markdown",
      "source": [
        "### Let's visualize the graph of predictions for both approaches to prediction"
      ],
      "metadata": {
        "id": "kpUBffdsz4-o"
      }
    },
    {
      "cell_type": "code",
      "source": [
        "heights_with_predictions = heights_with_predictions.with_column(\n",
        "  'Regression prediction',\n",
        "  predicted_slope*heights.column('Parent Average') + predicted_intercept\n",
        ")\n",
        "heights_with_predictions"
      ],
      "metadata": {
        "colab": {
          "base_uri": "https://localhost:8080/",
          "height": 392
        },
        "id": "0zfbOCEYz1BL",
        "outputId": "0554d5a6-711f-4951-bf28-a2e37bc9df79"
      },
      "execution_count": null,
      "outputs": [
        {
          "output_type": "execute_result",
          "data": {
            "text/plain": [
              "Parent Average | Child | Nearest neighbour prediction | Regression prediction\n",
              "72.75          | 73.2  | 70.1                         | 70.8039\n",
              "72.75          | 69.2  | 70.1                         | 70.8039\n",
              "72.75          | 69    | 70.1                         | 70.8039\n",
              "72.75          | 69    | 70.1                         | 70.8039\n",
              "71             | 73.5  | 70.4158                      | 69.641\n",
              "71             | 72.5  | 70.4158                      | 69.641\n",
              "71             | 65.5  | 70.4158                      | 69.641\n",
              "71             | 65.5  | 70.4158                      | 69.641\n",
              "69.5           | 71    | 68.5025                      | 68.6443\n",
              "69.5           | 68    | 68.5025                      | 68.6443\n",
              "... (924 rows omitted)"
            ],
            "text/html": [
              "<table border=\"1\" class=\"dataframe\">\n",
              "    <thead>\n",
              "        <tr>\n",
              "            <th>Parent Average</th> <th>Child</th> <th>Nearest neighbour prediction</th> <th>Regression prediction</th>\n",
              "        </tr>\n",
              "    </thead>\n",
              "    <tbody>\n",
              "        <tr>\n",
              "            <td>72.75         </td> <td>73.2 </td> <td>70.1                        </td> <td>70.8039              </td>\n",
              "        </tr>\n",
              "        <tr>\n",
              "            <td>72.75         </td> <td>69.2 </td> <td>70.1                        </td> <td>70.8039              </td>\n",
              "        </tr>\n",
              "        <tr>\n",
              "            <td>72.75         </td> <td>69   </td> <td>70.1                        </td> <td>70.8039              </td>\n",
              "        </tr>\n",
              "        <tr>\n",
              "            <td>72.75         </td> <td>69   </td> <td>70.1                        </td> <td>70.8039              </td>\n",
              "        </tr>\n",
              "        <tr>\n",
              "            <td>71            </td> <td>73.5 </td> <td>70.4158                     </td> <td>69.641               </td>\n",
              "        </tr>\n",
              "        <tr>\n",
              "            <td>71            </td> <td>72.5 </td> <td>70.4158                     </td> <td>69.641               </td>\n",
              "        </tr>\n",
              "        <tr>\n",
              "            <td>71            </td> <td>65.5 </td> <td>70.4158                     </td> <td>69.641               </td>\n",
              "        </tr>\n",
              "        <tr>\n",
              "            <td>71            </td> <td>65.5 </td> <td>70.4158                     </td> <td>69.641               </td>\n",
              "        </tr>\n",
              "        <tr>\n",
              "            <td>69.5          </td> <td>71   </td> <td>68.5025                     </td> <td>68.6443              </td>\n",
              "        </tr>\n",
              "        <tr>\n",
              "            <td>69.5          </td> <td>68   </td> <td>68.5025                     </td> <td>68.6443              </td>\n",
              "        </tr>\n",
              "    </tbody>\n",
              "</table>\n",
              "<p>... (924 rows omitted)</p>"
            ]
          },
          "metadata": {},
          "execution_count": 95
        }
      ]
    },
    {
      "cell_type": "code",
      "source": [
        "heights_with_predictions.scatter('Parent Average')"
      ],
      "metadata": {
        "colab": {
          "base_uri": "https://localhost:8080/",
          "height": 366
        },
        "id": "9m4y3qGD0X2p",
        "outputId": "4d4bbde9-8d11-48b5-e8b2-d8f0fca215ae"
      },
      "execution_count": null,
      "outputs": [
        {
          "output_type": "display_data",
          "data": {
            "text/plain": [
              "<Figure size 360x360 with 1 Axes>"
            ],
            "image/png": "[encoded data removed]"
          },
          "metadata": {}
        }
      ]
    },
    {
      "cell_type": "markdown",
      "source": [
        "### Regression Line vs other lines"
      ],
      "metadata": {
        "id": "YTSi9Zbw5amf"
      }
    },
    {
      "cell_type": "code",
      "source": [
        "def demographics_errors(slope, intercept):\n",
        "  #Use four convenient points fromnm the original data\n",
        "  sample = [[14.7, 33995], [19.1, 61454], [50.7, 71183], [59.5, 105918]]\n",
        "  demographics.scatter('College%', 'Median Income', alpha=0.5)\n",
        "  xlims = make_array(5, 75)\n",
        "  #Plot a line with the slope and intercept that you specified:\n",
        "  plt.plot(xlims, slope*xlims + intercept, lw=4)\n",
        "  #Plot red lines from each of the four points to the line\n",
        "  for x, y in sample:\n",
        "    plt.plot([x,x], [y, slope*x + intercept], color='r', lw=4)"
      ],
      "metadata": {
        "id": "qIhFYtCb5X0Y"
      },
      "execution_count": null,
      "outputs": []
    },
    {
      "cell_type": "code",
      "source": [
        "def fitted_values(t, x, y):\n",
        "  \"Return an array of the regression estimates at all the x values\"\n",
        "  a = slope(t, x, y)\n",
        "  b = intercept(t, x, y)\n",
        "  return a*t.column(x) + b"
      ],
      "metadata": {
        "id": "zStqHCns5jKa"
      },
      "execution_count": null,
      "outputs": []
    },
    {
      "cell_type": "code",
      "source": [
        "demographics = Table.read_table('district_demographics2016.csv')\n",
        "demographics.show(5)"
      ],
      "metadata": {
        "colab": {
          "base_uri": "https://localhost:8080/",
          "height": 340
        },
        "id": "9NEPV25w8jOv",
        "outputId": "9c3a61e7-940f-423d-de2c-20671c283b40"
      },
      "execution_count": null,
      "outputs": [
        {
          "output_type": "display_data",
          "data": {
            "text/plain": [
              "<IPython.core.display.HTML object>"
            ],
            "text/html": [
              "<table border=\"1\" class=\"dataframe\">\n",
              "    <thead>\n",
              "        <tr>\n",
              "            <th>State</th> <th>District</th> <th>Median Income</th> <th>Percent voting for Clinton</th> <th>College%</th>\n",
              "        </tr>\n",
              "    </thead>\n",
              "    <tbody>\n",
              "        <tr>\n",
              "            <td>Alabama</td> <td>Congressional District 1 (115th Congress), Alabama</td> <td>47083        </td> <td>34.1                      </td> <td>24      </td>\n",
              "        </tr>\n",
              "        <tr>\n",
              "            <td>Alabama</td> <td>Congressional District 2 (115th Congress), Alabama</td> <td>42035        </td> <td>33                        </td> <td>21.8    </td>\n",
              "        </tr>\n",
              "        <tr>\n",
              "            <td>Alabama</td> <td>Congressional District 3 (115th Congress), Alabama</td> <td>46544        </td> <td>32.3                      </td> <td>22.8    </td>\n",
              "        </tr>\n",
              "        <tr>\n",
              "            <td>Alabama</td> <td>Congressional District 4 (115th Congress), Alabama</td> <td>41110        </td> <td>17.4                      </td> <td>17      </td>\n",
              "        </tr>\n",
              "        <tr>\n",
              "            <td>Alabama</td> <td>Congressional District 5 (115th Congress), Alabama</td> <td>51690        </td> <td>31.3                      </td> <td>30.3    </td>\n",
              "        </tr>\n",
              "    </tbody>\n",
              "</table>\n",
              "<p>... (430 rows omitted)</p>"
            ]
          },
          "metadata": {}
        }
      ]
    },
    {
      "cell_type": "code",
      "source": [
        "demographics = demographics.select('Median Income', 'College%')\n",
        "demographics.show(5)"
      ],
      "metadata": {
        "colab": {
          "base_uri": "https://localhost:8080/",
          "height": 236
        },
        "id": "Ss_SvOf58x54",
        "outputId": "833e7d92-25ff-4210-eb40-5ce5d7de3005"
      },
      "execution_count": null,
      "outputs": [
        {
          "output_type": "display_data",
          "data": {
            "text/plain": [
              "<IPython.core.display.HTML object>"
            ],
            "text/html": [
              "<table border=\"1\" class=\"dataframe\">\n",
              "    <thead>\n",
              "        <tr>\n",
              "            <th>Median Income</th> <th>College%</th>\n",
              "        </tr>\n",
              "    </thead>\n",
              "    <tbody>\n",
              "        <tr>\n",
              "            <td>47083        </td> <td>24      </td>\n",
              "        </tr>\n",
              "        <tr>\n",
              "            <td>42035        </td> <td>21.8    </td>\n",
              "        </tr>\n",
              "        <tr>\n",
              "            <td>46544        </td> <td>22.8    </td>\n",
              "        </tr>\n",
              "        <tr>\n",
              "            <td>41110        </td> <td>17      </td>\n",
              "        </tr>\n",
              "        <tr>\n",
              "            <td>51690        </td> <td>30.3    </td>\n",
              "        </tr>\n",
              "    </tbody>\n",
              "</table>\n",
              "<p>... (430 rows omitted)</p>"
            ]
          },
          "metadata": {}
        }
      ]
    },
    {
      "cell_type": "code",
      "source": [
        "demographics.scatter('College%', 'Median Income')"
      ],
      "metadata": {
        "colab": {
          "base_uri": "https://localhost:8080/",
          "height": 359
        },
        "id": "7RLNuOQr9NmJ",
        "outputId": "f43981c1-9797-4525-90de-51373650e98e"
      },
      "execution_count": null,
      "outputs": [
        {
          "output_type": "display_data",
          "data": {
            "text/plain": [
              "<Figure size 360x360 with 1 Axes>"
            ],
            "image/png": "[encoded data removed]"
          },
          "metadata": {}
        }
      ]
    },
    {
      "cell_type": "code",
      "source": [
        "correlation(demographics, 'College%', 'Median Income')"
      ],
      "metadata": {
        "colab": {
          "base_uri": "https://localhost:8080/"
        },
        "id": "tS9shpZX9XCx",
        "outputId": "3f127bc2-6190-43da-877d-a94c47df3e4a"
      },
      "execution_count": null,
      "outputs": [
        {
          "output_type": "execute_result",
          "data": {
            "text/plain": [
              "0.8184648517141335"
            ]
          },
          "metadata": {},
          "execution_count": 109
        }
      ]
    },
    {
      "cell_type": "code",
      "source": [
        "regression_slope = slope(demographics, 'College%', 'Median Income')"
      ],
      "metadata": {
        "id": "v472JiaT97RG"
      },
      "execution_count": null,
      "outputs": []
    },
    {
      "cell_type": "code",
      "source": [
        "regression_slope = slope(demographics, 'College%', 'Median Income')\n",
        "regression_intercept = intercept(demographics, 'College%', 'Median Income')\n",
        "regression_slope, regression_intercept"
      ],
      "metadata": {
        "colab": {
          "base_uri": "https://localhost:8080/"
        },
        "id": "deVrMoUt-Dqu",
        "outputId": "6f3d9562-9ad1-4ff2-b589-b94b5ef34bfe"
      },
      "execution_count": null,
      "outputs": [
        {
          "output_type": "execute_result",
          "data": {
            "text/plain": [
              "(1270.70168946388, 20802.577766677925)"
            ]
          },
          "metadata": {},
          "execution_count": 112
        }
      ]
    },
    {
      "cell_type": "code",
      "source": [
        "predicted = fitted_values(demographics, 'College%', 'Median Income')"
      ],
      "metadata": {
        "id": "-BzIG_m--mlc"
      },
      "execution_count": null,
      "outputs": []
    },
    {
      "cell_type": "code",
      "source": [
        "demographics = demographics.with_column(\n",
        "    'Linear Prediction', predicted\n",
        ")\n",
        "demographics.scatter('College%')"
      ],
      "metadata": {
        "colab": {
          "base_uri": "https://localhost:8080/",
          "height": 362
        },
        "id": "qR6n_jHq_VaU",
        "outputId": "37650c4a-8902-4a24-ba63-06920a4a6aba"
      },
      "execution_count": null,
      "outputs": [
        {
          "output_type": "display_data",
          "data": {
            "text/plain": [
              "<Figure size 360x360 with 1 Axes>"
            ],
            "image/png": "[encoded data removed]"
          },
          "metadata": {}
        }
      ]
    },
    {
      "cell_type": "markdown",
      "source": [
        "### Of course the linear model is not perfect, there will typically be some errors in the prediction. \n",
        "### Let's measure how large those errors are and visualize them"
      ],
      "metadata": {
        "id": "FudV30l4_9nk"
      }
    },
    {
      "cell_type": "code",
      "source": [
        "actual = demographics.column('Median Income')\n",
        "errors = actual - predicted"
      ],
      "metadata": {
        "id": "LPXDpFEp_zJJ"
      },
      "execution_count": null,
      "outputs": []
    },
    {
      "cell_type": "code",
      "source": [
        "demographics.with_column('Error', errors)"
      ],
      "metadata": {
        "colab": {
          "base_uri": "https://localhost:8080/",
          "height": 392
        },
        "id": "o65x7qDlAi41",
        "outputId": "dc8982aa-a88f-4e68-e4a1-5ff861f92a71"
      },
      "execution_count": null,
      "outputs": [
        {
          "output_type": "execute_result",
          "data": {
            "text/plain": [
              "Median Income | College% | Linear Prediction | Error\n",
              "47083         | 24       | 51299.4           | -4216.42\n",
              "42035         | 21.8     | 48503.9           | -6468.87\n",
              "46544         | 22.8     | 49774.6           | -3230.58\n",
              "41110         | 17       | 42404.5           | -1294.51\n",
              "51690         | 30.3     | 59304.8           | -7614.84\n",
              "61413         | 36.7     | 67437.3           | -6024.33\n",
              "34664         | 19.4     | 45454.2           | -10790.2\n",
              "76440         | 29.6     | 58415.3           | 18024.7\n",
              "50537         | 24.5     | 51934.8           | -1397.77\n",
              "49072         | 34       | 64006.4           | -14934.4\n",
              "... (425 rows omitted)"
            ],
            "text/html": [
              "<table border=\"1\" class=\"dataframe\">\n",
              "    <thead>\n",
              "        <tr>\n",
              "            <th>Median Income</th> <th>College%</th> <th>Linear Prediction</th> <th>Error</th>\n",
              "        </tr>\n",
              "    </thead>\n",
              "    <tbody>\n",
              "        <tr>\n",
              "            <td>47083        </td> <td>24      </td> <td>51299.4          </td> <td>-4216.42</td>\n",
              "        </tr>\n",
              "        <tr>\n",
              "            <td>42035        </td> <td>21.8    </td> <td>48503.9          </td> <td>-6468.87</td>\n",
              "        </tr>\n",
              "        <tr>\n",
              "            <td>46544        </td> <td>22.8    </td> <td>49774.6          </td> <td>-3230.58</td>\n",
              "        </tr>\n",
              "        <tr>\n",
              "            <td>41110        </td> <td>17      </td> <td>42404.5          </td> <td>-1294.51</td>\n",
              "        </tr>\n",
              "        <tr>\n",
              "            <td>51690        </td> <td>30.3    </td> <td>59304.8          </td> <td>-7614.84</td>\n",
              "        </tr>\n",
              "        <tr>\n",
              "            <td>61413        </td> <td>36.7    </td> <td>67437.3          </td> <td>-6024.33</td>\n",
              "        </tr>\n",
              "        <tr>\n",
              "            <td>34664        </td> <td>19.4    </td> <td>45454.2          </td> <td>-10790.2</td>\n",
              "        </tr>\n",
              "        <tr>\n",
              "            <td>76440        </td> <td>29.6    </td> <td>58415.3          </td> <td>18024.7 </td>\n",
              "        </tr>\n",
              "        <tr>\n",
              "            <td>50537        </td> <td>24.5    </td> <td>51934.8          </td> <td>-1397.77</td>\n",
              "        </tr>\n",
              "        <tr>\n",
              "            <td>49072        </td> <td>34      </td> <td>64006.4          </td> <td>-14934.4</td>\n",
              "        </tr>\n",
              "    </tbody>\n",
              "</table>\n",
              "<p>... (425 rows omitted)</p>"
            ]
          },
          "metadata": {},
          "execution_count": 117
        }
      ]
    },
    {
      "cell_type": "code",
      "source": [
        "#Its tempting to measure the quality of a linear regression model\n",
        "# by taking the average error.\n",
        "#However, this doesn't work.\n",
        "#=0"
      ],
      "metadata": {
        "id": "0yuxKYKWAo7Y"
      },
      "execution_count": null,
      "outputs": []
    },
    {
      "cell_type": "code",
      "source": [
        "np.mean(errors)\n",
        "# =0"
      ],
      "metadata": {
        "colab": {
          "base_uri": "https://localhost:8080/"
        },
        "id": "NhoSbByvAxKZ",
        "outputId": "a9e96473-f11a-4125-913f-426dbf941c61"
      },
      "execution_count": null,
      "outputs": [
        {
          "output_type": "execute_result",
          "data": {
            "text/plain": [
              "6.356008950321154e-13"
            ]
          },
          "metadata": {},
          "execution_count": 120
        }
      ]
    },
    {
      "cell_type": "code",
      "source": [
        "np.mean(errors ** 2) ** 0.5"
      ],
      "metadata": {
        "colab": {
          "base_uri": "https://localhost:8080/"
        },
        "id": "Vg9rO1AGBJ0p",
        "outputId": "82e354f0-ce09-4440-a582-3e8bf24dfcf8"
      },
      "execution_count": null,
      "outputs": [
        {
          "output_type": "execute_result",
          "data": {
            "text/plain": [
              "9398.515588571281"
            ]
          },
          "metadata": {},
          "execution_count": 122
        }
      ]
    },
    {
      "cell_type": "code",
      "source": [
        "#Interpretation of 9398.515588"
      ],
      "metadata": {
        "id": "r7aUtk8QBY9V"
      },
      "execution_count": null,
      "outputs": []
    },
    {
      "cell_type": "code",
      "source": [
        "#Its going to be off by $9398 if you make a prediction"
      ],
      "metadata": {
        "id": "Dk13T7rRBi4C"
      },
      "execution_count": null,
      "outputs": []
    },
    {
      "cell_type": "code",
      "source": [
        ""
      ],
      "metadata": {
        "id": "QgiyQDw0Bwm_"
      },
      "execution_count": null,
      "outputs": []
    }
  ]
}